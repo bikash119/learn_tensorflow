{
  "nbformat": 4,
  "nbformat_minor": 0,
  "metadata": {
    "colab": {
      "provenance": [],
      "authorship_tag": "ABX9TyOD2fQB5PTAJS/q4jX2+2rU",
      "include_colab_link": true
    },
    "kernelspec": {
      "name": "python3",
      "display_name": "Python 3"
    },
    "language_info": {
      "name": "python"
    }
  },
  "cells": [
    {
      "cell_type": "markdown",
      "metadata": {
        "id": "view-in-github",
        "colab_type": "text"
      },
      "source": [
        "<a href=\"https://colab.research.google.com/github/bikash119/learn_tensorflow/blob/main/learn_tf_002.ipynb\" target=\"_parent\"><img src=\"https://colab.research.google.com/assets/colab-badge.svg\" alt=\"Open In Colab\"/></a>"
      ]
    },
    {
      "cell_type": "code",
      "execution_count": 3,
      "metadata": {
        "colab": {
          "base_uri": "https://localhost:8080/"
        },
        "id": "SGfy60UikKri",
        "outputId": "d0ae4447-d5af-467a-fd0e-90b58b240542"
      },
      "outputs": [
        {
          "output_type": "stream",
          "name": "stdout",
          "text": [
            " TF version : 2.12.0\n",
            " Last known execution of the notebook : 2023-06-25 22:11:17.898644\n"
          ]
        }
      ],
      "source": [
        "import tensorflow as tf\n",
        "import datetime\n",
        "\n",
        "print(f\" TF version : {tf.__version__}\")\n",
        "print(f\" Last known execution of the notebook : {datetime.datetime.now()}\")"
      ]
    },
    {
      "cell_type": "markdown",
      "source": [
        "Steps in modelling with Tensorflow\n",
        "1. **Creating a model**: Piece together the layers of a neural network yourself or import a previously built model (known as Transfer Learning ).\n",
        "2. **Compiling a model** : defining how a models performance should be measured( loss/metrics) as well as defining how it can be improved(optimizer).\n",
        "3. **Fitting a model** : letting the model try to find patterns in the data."
      ],
      "metadata": {
        "id": "m9a4vAiznv7Q"
      }
    },
    {
      "cell_type": "code",
      "source": [
        "import numpy as np\n",
        "import matplotlib.pyplot as plt\n",
        "\n",
        "# Create features ( using tensors )\n",
        "X = tf.constant([-7.0,-4.0,-1.0,2.0,5.0,8.0,11.0,14.0])\n",
        "# Create labels ( using tensors)\n",
        "y = tf.constant([3.0,6.0,9.0,12.0,15.0,18.0,21.0,24.0])\n",
        "\n",
        "# visualize it\n",
        "plt.scatter(X,y)"
      ],
      "metadata": {
        "colab": {
          "base_uri": "https://localhost:8080/",
          "height": 453
        },
        "id": "pN5RYD1umyZ1",
        "outputId": "ddb75f76-b2e8-4530-ee7c-9229a9a6ffc4"
      },
      "execution_count": 5,
      "outputs": [
        {
          "output_type": "execute_result",
          "data": {
            "text/plain": [
              "<matplotlib.collections.PathCollection at 0x7f90ce65ff10>"
            ]
          },
          "metadata": {},
          "execution_count": 5
        },
        {
          "output_type": "display_data",
          "data": {
            "text/plain": [
              "<Figure size 640x480 with 1 Axes>"
            ],
            "image/png": "[encoded data removed]"
          },
          "metadata": {}
        }
      ]
    },
    {
      "cell_type": "code",
      "source": [
        "# Set random seed\n",
        "tf.random.set_seed(42)\n",
        "\n",
        "#1. creating the model\n",
        "model = tf.keras.Sequential(\n",
        "    tf.keras.layers.Dense(1)\n",
        ")\n",
        "\n",
        "#2. Compile the model\n",
        "model.compile(loss=tf.keras.losses.mae\n",
        "              ,optimizer = tf.keras.optimizers.SGD()\n",
        "              ,metrics=[\"mae\"])\n",
        "\n",
        "# Fit the model\n",
        "model.fit(tf.expand_dims(X,axis=-1),y,epochs=5)"
      ],
      "metadata": {
        "colab": {
          "base_uri": "https://localhost:8080/"
        },
        "id": "ouPaNb00p4sz",
        "outputId": "326fd71a-c0b0-4bb3-a0b9-edfa5f9aa51c"
      },
      "execution_count": 9,
      "outputs": [
        {
          "output_type": "stream",
          "name": "stdout",
          "text": [
            "Epoch 1/5\n",
            "1/1 [==============================] - 1s 646ms/step - loss: 20.2900 - mae: 20.2900\n",
            "Epoch 2/5\n",
            "1/1 [==============================] - 0s 18ms/step - loss: 20.0088 - mae: 20.0088\n",
            "Epoch 3/5\n",
            "1/1 [==============================] - 0s 22ms/step - loss: 19.7275 - mae: 19.7275\n",
            "Epoch 4/5\n",
            "1/1 [==============================] - 0s 21ms/step - loss: 19.4463 - mae: 19.4463\n",
            "Epoch 5/5\n",
            "1/1 [==============================] - 0s 21ms/step - loss: 19.1650 - mae: 19.1650\n"
          ]
        },
        {
          "output_type": "execute_result",
          "data": {
            "text/plain": [
              "<keras.callbacks.History at 0x7f90bbbf33a0>"
            ]
          },
          "metadata": {},
          "execution_count": 9
        }
      ]
    },
    {
      "cell_type": "code",
      "source": [
        "model.predict([17.0])"
      ],
      "metadata": {
        "colab": {
          "base_uri": "https://localhost:8080/"
        },
        "id": "Ps6FN6gDriE2",
        "outputId": "2abf33e7-38fa-4203-a4a1-bde19c79edde"
      },
      "execution_count": 10,
      "outputs": [
        {
          "output_type": "stream",
          "name": "stdout",
          "text": [
            "1/1 [==============================] - 0s 436ms/step\n"
          ]
        },
        {
          "output_type": "execute_result",
          "data": {
            "text/plain": [
              "array([[-19.915308]], dtype=float32)"
            ]
          },
          "metadata": {},
          "execution_count": 10
        }
      ]
    },
    {
      "cell_type": "markdown",
      "source": [
        "Steps to improving the model\n",
        "1. _Creating a model_ : Here we might want to add more layers, increase the number of hidden units, change the activation function in each layer.\n",
        "2. _Compiling a model_: We might want to choose a different optimizer or change the **learning rate** of the optimization function\n",
        "3. _Fitting a model_ : we could also try fit the model for more **epochs**\n",
        "\n",
        "_There are many different ways to improve a neural network. Some of the most common include : increasing the number of layers (making the network deeper), increasing the number of hidden units (making the network wider) and changing the learning rate. Because these values are human-changeable, they are referred to as hyperparameters and the practice of trying to find the best hyperparameters is referred to as hyperparameter-tuning_"
      ],
      "metadata": {
        "id": "Y8NlzRhUtpej"
      }
    },
    {
      "cell_type": "code",
      "source": [
        "# Lets try to improve our model by training it a little longer\n",
        "# set seeds\n",
        "tf.random.set_seed(42)\n",
        "\n",
        "#1.Create the model\n",
        "model = tf.keras.Sequential(\n",
        "    tf.keras.layers.Dense(1)\n",
        ")\n",
        "model.compile (loss= tf.keras.losses.mae\n",
        "               ,optimizer = tf.keras.optimizers.SGD()\n",
        "               ,metrics=[\"mae\"])\n",
        "\n",
        "model.fit(tf.expand_dims(X,axis=-1),y,epochs=100)"
      ],
      "metadata": {
        "colab": {
          "base_uri": "https://localhost:8080/"
        },
        "id": "a9l-ya4-r6iy",
        "outputId": "37c7401f-ecff-4f3c-d5d6-473adfe914cb"
      },
      "execution_count": 12,
      "outputs": [
        {
          "output_type": "stream",
          "name": "stdout",
          "text": [
            "Epoch 1/100\n",
            "1/1 [==============================] - 0s 370ms/step - loss: 9.6808 - mae: 9.6808\n",
            "Epoch 2/100\n",
            "1/1 [==============================] - 0s 11ms/step - loss: 9.5483 - mae: 9.5483\n",
            "Epoch 3/100\n",
            "1/1 [==============================] - 0s 9ms/step - loss: 9.4158 - mae: 9.4158\n",
            "Epoch 4/100\n",
            "1/1 [==============================] - 0s 9ms/step - loss: 9.2833 - mae: 9.2833\n",
            "Epoch 5/100\n",
            "1/1 [==============================] - 0s 14ms/step - loss: 9.1508 - mae: 9.1508\n",
            "Epoch 6/100\n",
            "1/1 [==============================] - 0s 11ms/step - loss: 9.0183 - mae: 9.0183\n",
            "Epoch 7/100\n",
            "1/1 [==============================] - 0s 10ms/step - loss: 8.8858 - mae: 8.8858\n",
            "Epoch 8/100\n",
            "1/1 [==============================] - 0s 9ms/step - loss: 8.7533 - mae: 8.7533\n",
            "Epoch 9/100\n",
            "1/1 [==============================] - 0s 8ms/step - loss: 8.6208 - mae: 8.6208\n",
            "Epoch 10/100\n",
            "1/1 [==============================] - 0s 12ms/step - loss: 8.4883 - mae: 8.4883\n",
            "Epoch 11/100\n",
            "1/1 [==============================] - 0s 9ms/step - loss: 8.3558 - mae: 8.3558\n",
            "Epoch 12/100\n",
            "1/1 [==============================] - 0s 10ms/step - loss: 8.2233 - mae: 8.2233\n",
            "Epoch 13/100\n",
            "1/1 [==============================] - 0s 10ms/step - loss: 8.0908 - mae: 8.0908\n",
            "Epoch 14/100\n",
            "1/1 [==============================] - 0s 9ms/step - loss: 7.9583 - mae: 7.9583\n",
            "Epoch 15/100\n",
            "1/1 [==============================] - 0s 9ms/step - loss: 7.8258 - mae: 7.8258\n",
            "Epoch 16/100\n",
            "1/1 [==============================] - 0s 9ms/step - loss: 7.6933 - mae: 7.6933\n",
            "Epoch 17/100\n",
            "1/1 [==============================] - 0s 10ms/step - loss: 7.5608 - mae: 7.5608\n",
            "Epoch 18/100\n",
            "1/1 [==============================] - 0s 10ms/step - loss: 7.4283 - mae: 7.4283\n",
            "Epoch 19/100\n",
            "1/1 [==============================] - 0s 9ms/step - loss: 7.3650 - mae: 7.3650\n",
            "Epoch 20/100\n",
            "1/1 [==============================] - 0s 10ms/step - loss: 7.3594 - mae: 7.3594\n",
            "Epoch 21/100\n",
            "1/1 [==============================] - 0s 13ms/step - loss: 7.3538 - mae: 7.3538\n",
            "Epoch 22/100\n",
            "1/1 [==============================] - 0s 9ms/step - loss: 7.3481 - mae: 7.3481\n",
            "Epoch 23/100\n",
            "1/1 [==============================] - 0s 9ms/step - loss: 7.3425 - mae: 7.3425\n",
            "Epoch 24/100\n",
            "1/1 [==============================] - 0s 12ms/step - loss: 7.3369 - mae: 7.3369\n",
            "Epoch 25/100\n",
            "1/1 [==============================] - 0s 8ms/step - loss: 7.3313 - mae: 7.3313\n",
            "Epoch 26/100\n",
            "1/1 [==============================] - 0s 9ms/step - loss: 7.3256 - mae: 7.3256\n",
            "Epoch 27/100\n",
            "1/1 [==============================] - 0s 8ms/step - loss: 7.3200 - mae: 7.3200\n",
            "Epoch 28/100\n",
            "1/1 [==============================] - 0s 11ms/step - loss: 7.3144 - mae: 7.3144\n",
            "Epoch 29/100\n",
            "1/1 [==============================] - 0s 11ms/step - loss: 7.3087 - mae: 7.3087\n",
            "Epoch 30/100\n",
            "1/1 [==============================] - 0s 9ms/step - loss: 7.3031 - mae: 7.3031\n",
            "Epoch 31/100\n",
            "1/1 [==============================] - 0s 7ms/step - loss: 7.2975 - mae: 7.2975\n",
            "Epoch 32/100\n",
            "1/1 [==============================] - 0s 12ms/step - loss: 7.2919 - mae: 7.2919\n",
            "Epoch 33/100\n",
            "1/1 [==============================] - 0s 10ms/step - loss: 7.2863 - mae: 7.2863\n",
            "Epoch 34/100\n",
            "1/1 [==============================] - 0s 10ms/step - loss: 7.2806 - mae: 7.2806\n",
            "Epoch 35/100\n",
            "1/1 [==============================] - 0s 9ms/step - loss: 7.2750 - mae: 7.2750\n",
            "Epoch 36/100\n",
            "1/1 [==============================] - 0s 9ms/step - loss: 7.2694 - mae: 7.2694\n",
            "Epoch 37/100\n",
            "1/1 [==============================] - 0s 17ms/step - loss: 7.2638 - mae: 7.2638\n",
            "Epoch 38/100\n",
            "1/1 [==============================] - 0s 12ms/step - loss: 7.2581 - mae: 7.2581\n",
            "Epoch 39/100\n",
            "1/1 [==============================] - 0s 11ms/step - loss: 7.2525 - mae: 7.2525\n",
            "Epoch 40/100\n",
            "1/1 [==============================] - 0s 11ms/step - loss: 7.2469 - mae: 7.2469\n",
            "Epoch 41/100\n",
            "1/1 [==============================] - 0s 10ms/step - loss: 7.2413 - mae: 7.2413\n",
            "Epoch 42/100\n",
            "1/1 [==============================] - 0s 10ms/step - loss: 7.2356 - mae: 7.2356\n",
            "Epoch 43/100\n",
            "1/1 [==============================] - 0s 9ms/step - loss: 7.2300 - mae: 7.2300\n",
            "Epoch 44/100\n",
            "1/1 [==============================] - 0s 8ms/step - loss: 7.2244 - mae: 7.2244\n",
            "Epoch 45/100\n",
            "1/1 [==============================] - 0s 10ms/step - loss: 7.2188 - mae: 7.2188\n",
            "Epoch 46/100\n",
            "1/1 [==============================] - 0s 10ms/step - loss: 7.2131 - mae: 7.2131\n",
            "Epoch 47/100\n",
            "1/1 [==============================] - 0s 9ms/step - loss: 7.2075 - mae: 7.2075\n",
            "Epoch 48/100\n",
            "1/1 [==============================] - 0s 9ms/step - loss: 7.2019 - mae: 7.2019\n",
            "Epoch 49/100\n",
            "1/1 [==============================] - 0s 15ms/step - loss: 7.1962 - mae: 7.1962\n",
            "Epoch 50/100\n",
            "1/1 [==============================] - 0s 10ms/step - loss: 7.1906 - mae: 7.1906\n",
            "Epoch 51/100\n",
            "1/1 [==============================] - 0s 10ms/step - loss: 7.1850 - mae: 7.1850\n",
            "Epoch 52/100\n",
            "1/1 [==============================] - 0s 10ms/step - loss: 7.1794 - mae: 7.1794\n",
            "Epoch 53/100\n",
            "1/1 [==============================] - 0s 10ms/step - loss: 7.1737 - mae: 7.1737\n",
            "Epoch 54/100\n",
            "1/1 [==============================] - 0s 11ms/step - loss: 7.1681 - mae: 7.1681\n",
            "Epoch 55/100\n",
            "1/1 [==============================] - 0s 10ms/step - loss: 7.1625 - mae: 7.1625\n",
            "Epoch 56/100\n",
            "1/1 [==============================] - 0s 10ms/step - loss: 7.1569 - mae: 7.1569\n",
            "Epoch 57/100\n",
            "1/1 [==============================] - 0s 9ms/step - loss: 7.1512 - mae: 7.1512\n",
            "Epoch 58/100\n",
            "1/1 [==============================] - 0s 10ms/step - loss: 7.1456 - mae: 7.1456\n",
            "Epoch 59/100\n",
            "1/1 [==============================] - 0s 10ms/step - loss: 7.1400 - mae: 7.1400\n",
            "Epoch 60/100\n",
            "1/1 [==============================] - 0s 10ms/step - loss: 7.1344 - mae: 7.1344\n",
            "Epoch 61/100\n",
            "1/1 [==============================] - 0s 9ms/step - loss: 7.1288 - mae: 7.1288\n",
            "Epoch 62/100\n",
            "1/1 [==============================] - 0s 10ms/step - loss: 7.1231 - mae: 7.1231\n",
            "Epoch 63/100\n",
            "1/1 [==============================] - 0s 8ms/step - loss: 7.1175 - mae: 7.1175\n",
            "Epoch 64/100\n",
            "1/1 [==============================] - 0s 9ms/step - loss: 7.1119 - mae: 7.1119\n",
            "Epoch 65/100\n",
            "1/1 [==============================] - 0s 9ms/step - loss: 7.1063 - mae: 7.1063\n",
            "Epoch 66/100\n",
            "1/1 [==============================] - 0s 9ms/step - loss: 7.1006 - mae: 7.1006\n",
            "Epoch 67/100\n",
            "1/1 [==============================] - 0s 13ms/step - loss: 7.0950 - mae: 7.0950\n",
            "Epoch 68/100\n",
            "1/1 [==============================] - 0s 12ms/step - loss: 7.0894 - mae: 7.0894\n",
            "Epoch 69/100\n",
            "1/1 [==============================] - 0s 11ms/step - loss: 7.0838 - mae: 7.0838\n",
            "Epoch 70/100\n",
            "1/1 [==============================] - 0s 12ms/step - loss: 7.0781 - mae: 7.0781\n",
            "Epoch 71/100\n",
            "1/1 [==============================] - 0s 9ms/step - loss: 7.0725 - mae: 7.0725\n",
            "Epoch 72/100\n",
            "1/1 [==============================] - 0s 8ms/step - loss: 7.0669 - mae: 7.0669\n",
            "Epoch 73/100\n",
            "1/1 [==============================] - 0s 10ms/step - loss: 7.0613 - mae: 7.0613\n",
            "Epoch 74/100\n",
            "1/1 [==============================] - 0s 9ms/step - loss: 7.0556 - mae: 7.0556\n",
            "Epoch 75/100\n",
            "1/1 [==============================] - 0s 9ms/step - loss: 7.0500 - mae: 7.0500\n",
            "Epoch 76/100\n",
            "1/1 [==============================] - 0s 8ms/step - loss: 7.0444 - mae: 7.0444\n",
            "Epoch 77/100\n",
            "1/1 [==============================] - 0s 10ms/step - loss: 7.0388 - mae: 7.0388\n",
            "Epoch 78/100\n",
            "1/1 [==============================] - 0s 9ms/step - loss: 7.0331 - mae: 7.0331\n",
            "Epoch 79/100\n",
            "1/1 [==============================] - 0s 9ms/step - loss: 7.0275 - mae: 7.0275\n",
            "Epoch 80/100\n",
            "1/1 [==============================] - 0s 9ms/step - loss: 7.0219 - mae: 7.0219\n",
            "Epoch 81/100\n",
            "1/1 [==============================] - 0s 11ms/step - loss: 7.0163 - mae: 7.0163\n",
            "Epoch 82/100\n",
            "1/1 [==============================] - 0s 9ms/step - loss: 7.0106 - mae: 7.0106\n",
            "Epoch 83/100\n",
            "1/1 [==============================] - 0s 9ms/step - loss: 7.0050 - mae: 7.0050\n",
            "Epoch 84/100\n",
            "1/1 [==============================] - 0s 10ms/step - loss: 6.9994 - mae: 6.9994\n",
            "Epoch 85/100\n",
            "1/1 [==============================] - 0s 9ms/step - loss: 6.9938 - mae: 6.9938\n",
            "Epoch 86/100\n",
            "1/1 [==============================] - 0s 11ms/step - loss: 6.9881 - mae: 6.9881\n",
            "Epoch 87/100\n",
            "1/1 [==============================] - 0s 11ms/step - loss: 6.9825 - mae: 6.9825\n",
            "Epoch 88/100\n",
            "1/1 [==============================] - 0s 14ms/step - loss: 6.9769 - mae: 6.9769\n",
            "Epoch 89/100\n",
            "1/1 [==============================] - 0s 12ms/step - loss: 6.9713 - mae: 6.9713\n",
            "Epoch 90/100\n",
            "1/1 [==============================] - 0s 10ms/step - loss: 6.9656 - mae: 6.9656\n",
            "Epoch 91/100\n",
            "1/1 [==============================] - 0s 10ms/step - loss: 6.9600 - mae: 6.9600\n",
            "Epoch 92/100\n",
            "1/1 [==============================] - 0s 9ms/step - loss: 6.9544 - mae: 6.9544\n",
            "Epoch 93/100\n",
            "1/1 [==============================] - 0s 9ms/step - loss: 6.9488 - mae: 6.9488\n",
            "Epoch 94/100\n",
            "1/1 [==============================] - 0s 9ms/step - loss: 6.9431 - mae: 6.9431\n",
            "Epoch 95/100\n",
            "1/1 [==============================] - 0s 9ms/step - loss: 6.9375 - mae: 6.9375\n",
            "Epoch 96/100\n",
            "1/1 [==============================] - 0s 10ms/step - loss: 6.9319 - mae: 6.9319\n",
            "Epoch 97/100\n",
            "1/1 [==============================] - 0s 10ms/step - loss: 6.9263 - mae: 6.9263\n",
            "Epoch 98/100\n",
            "1/1 [==============================] - 0s 9ms/step - loss: 6.9206 - mae: 6.9206\n",
            "Epoch 99/100\n",
            "1/1 [==============================] - 0s 9ms/step - loss: 6.9150 - mae: 6.9150\n",
            "Epoch 100/100\n",
            "1/1 [==============================] - 0s 10ms/step - loss: 6.9094 - mae: 6.9094\n"
          ]
        },
        {
          "output_type": "execute_result",
          "data": {
            "text/plain": [
              "<keras.callbacks.History at 0x7f90bb2cf010>"
            ]
          },
          "metadata": {},
          "execution_count": 12
        }
      ]
    },
    {
      "cell_type": "code",
      "source": [
        "model.predict([17.0])"
      ],
      "metadata": {
        "colab": {
          "base_uri": "https://localhost:8080/"
        },
        "id": "ieKFA0UZxEP7",
        "outputId": "66e4a6fd-34b8-431d-de96-a9239da3045f"
      },
      "execution_count": 13,
      "outputs": [
        {
          "output_type": "stream",
          "name": "stdout",
          "text": [
            "1/1 [==============================] - 0s 242ms/step\n"
          ]
        },
        {
          "output_type": "execute_result",
          "data": {
            "text/plain": [
              "array([[30.055235]], dtype=float32)"
            ]
          },
          "metadata": {},
          "execution_count": 13
        }
      ]
    },
    {
      "cell_type": "markdown",
      "source": [
        "A typical workflow that we will have to go through while building neural networks is\n",
        "`build model -> evaluate it -> build (tweak) model -> evaluate it -> build (tweak) model -> evaluate it...`\n",
        "\n",
        "## Visualize Visuzalize Visualize\n",
        "\n",
        "1. **The data**\n",
        "2. **The Model**\n",
        "3. **The training of the Model**\n",
        "4. **The prediction of the Model**"
      ],
      "metadata": {
        "id": "LcQTRgiq0CKa"
      }
    },
    {
      "cell_type": "code",
      "source": [
        "# Make a bigger dataset\n",
        "X = np.arange(-100,100,4)\n",
        "y = np.arange(-90,110,4)\n"
      ],
      "metadata": {
        "id": "y6Zu7FeBxLWB"
      },
      "execution_count": 14,
      "outputs": []
    },
    {
      "cell_type": "markdown",
      "source": [
        "Split the data into Training , Validation , Test set"
      ],
      "metadata": {
        "id": "WWvFHIQe6zEK"
      }
    },
    {
      "cell_type": "code",
      "source": [
        "#Split the dataset into Training, Validation and Test\n",
        "len(X)"
      ],
      "metadata": {
        "colab": {
          "base_uri": "https://localhost:8080/"
        },
        "id": "1MVZ3rZP6yTl",
        "outputId": "da1d401f-ed61-4dff-e8d3-53eda091ee00"
      },
      "execution_count": 15,
      "outputs": [
        {
          "output_type": "execute_result",
          "data": {
            "text/plain": [
              "50"
            ]
          },
          "metadata": {},
          "execution_count": 15
        }
      ]
    },
    {
      "cell_type": "code",
      "source": [
        "X_train = X[:40]\n",
        "y_train = y[:40]\n",
        "X_test = X[40:]\n",
        "y_test = y[40:]\n",
        "\n",
        "len(X_train),len(X_test)"
      ],
      "metadata": {
        "colab": {
          "base_uri": "https://localhost:8080/"
        },
        "id": "cOvYJsRl65zb",
        "outputId": "4f894db8-4218-430e-a105-bc3a55f9b5c9"
      },
      "execution_count": 19,
      "outputs": [
        {
          "output_type": "execute_result",
          "data": {
            "text/plain": [
              "(40, 10)"
            ]
          },
          "metadata": {},
          "execution_count": 19
        }
      ]
    },
    {
      "cell_type": "markdown",
      "source": [
        "Visualize the train and test data"
      ],
      "metadata": {
        "id": "tui4Pgb-7MYG"
      }
    },
    {
      "cell_type": "code",
      "source": [
        "plt.figure(figsize=(10,7))\n",
        "#plot the training data\n",
        "plt.scatter(X_train,y_train,c='b',label='Training data')\n",
        "#plot the test data\n",
        "plt.scatter(X_test,y_test,c='g',label='Test data')\n",
        "#show legend\n",
        "plt.legend();"
      ],
      "metadata": {
        "colab": {
          "base_uri": "https://localhost:8080/",
          "height": 599
        },
        "id": "iRqMSVuF7HdJ",
        "outputId": "38dbc718-37ee-4d6f-fdaa-8f41e0fb5a6c"
      },
      "execution_count": 20,
      "outputs": [
        {
          "output_type": "display_data",
          "data": {
            "text/plain": [
              "<Figure size 1000x700 with 1 Axes>"
            ],
            "image/png": "[encoded data removed]"
          },
          "metadata": {}
        }
      ]
    },
    {
      "cell_type": "code",
      "source": [
        "#Train the model , exactly same as earlier\n",
        "\n",
        "#set seed\n",
        "tf.random.set_seed(42)\n",
        "\n",
        "# create model\n",
        "#input_shape should be equal to X_train.ndim\n",
        "model = tf.keras.Sequential([\n",
        "    tf.keras.layers.Dense(1,input_shape=[1])\n",
        "]\n",
        ")\n",
        "# compile the model\n",
        "model.compile(loss=tf.keras.losses.mae\n",
        "              ,optimizer=tf.keras.optimizers.SGD()\n",
        "              ,metrics=[\"mae\"])\n",
        "\n",
        "#fit the model\n",
        "model.fit(tf.expand_dims(X_train,axis=-1),y_train,epochs=100)"
      ],
      "metadata": {
        "colab": {
          "base_uri": "https://localhost:8080/"
        },
        "id": "O34hO_cX7l8U",
        "outputId": "b1dcc0a4-4214-49db-bbf7-2e21b60dc2d1"
      },
      "execution_count": 34,
      "outputs": [
        {
          "output_type": "stream",
          "name": "stdout",
          "text": [
            "Epoch 1/100\n",
            "2/2 [==============================] - 0s 12ms/step - loss: 12.0574 - mae: 12.0574\n",
            "Epoch 2/100\n",
            "2/2 [==============================] - 0s 8ms/step - loss: 13.1486 - mae: 13.1486\n",
            "Epoch 3/100\n",
            "2/2 [==============================] - 0s 7ms/step - loss: 11.8115 - mae: 11.8115\n",
            "Epoch 4/100\n",
            "2/2 [==============================] - 0s 7ms/step - loss: 9.2559 - mae: 9.2559\n",
            "Epoch 5/100\n",
            "2/2 [==============================] - 0s 10ms/step - loss: 10.1191 - mae: 10.1191\n",
            "Epoch 6/100\n",
            "2/2 [==============================] - 0s 8ms/step - loss: 9.3866 - mae: 9.3866\n",
            "Epoch 7/100\n",
            "2/2 [==============================] - 0s 6ms/step - loss: 8.5330 - mae: 8.5330\n",
            "Epoch 8/100\n",
            "2/2 [==============================] - 0s 7ms/step - loss: 9.0351 - mae: 9.0351\n",
            "Epoch 9/100\n",
            "2/2 [==============================] - 0s 7ms/step - loss: 18.6697 - mae: 18.6697\n",
            "Epoch 10/100\n",
            "2/2 [==============================] - 0s 8ms/step - loss: 10.0642 - mae: 10.0642\n",
            "Epoch 11/100\n",
            "2/2 [==============================] - 0s 8ms/step - loss: 8.3748 - mae: 8.3748\n",
            "Epoch 12/100\n",
            "2/2 [==============================] - 0s 6ms/step - loss: 10.6227 - mae: 10.6227\n",
            "Epoch 13/100\n",
            "2/2 [==============================] - 0s 6ms/step - loss: 9.7775 - mae: 9.7775\n",
            "Epoch 14/100\n",
            "2/2 [==============================] - 0s 7ms/step - loss: 15.9238 - mae: 15.9238\n",
            "Epoch 15/100\n",
            "2/2 [==============================] - 0s 7ms/step - loss: 11.4670 - mae: 11.4670\n",
            "Epoch 16/100\n",
            "2/2 [==============================] - 0s 7ms/step - loss: 8.5141 - mae: 8.5141\n",
            "Epoch 17/100\n",
            "2/2 [==============================] - 0s 7ms/step - loss: 13.5833 - mae: 13.5833\n",
            "Epoch 18/100\n",
            "2/2 [==============================] - 0s 7ms/step - loss: 11.4003 - mae: 11.4003\n",
            "Epoch 19/100\n",
            "2/2 [==============================] - 0s 7ms/step - loss: 17.9782 - mae: 17.9782\n",
            "Epoch 20/100\n",
            "2/2 [==============================] - 0s 7ms/step - loss: 15.1124 - mae: 15.1124\n",
            "Epoch 21/100\n",
            "2/2 [==============================] - 0s 6ms/step - loss: 11.0724 - mae: 11.0724\n",
            "Epoch 22/100\n",
            "2/2 [==============================] - 0s 6ms/step - loss: 8.2009 - mae: 8.2009\n",
            "Epoch 23/100\n",
            "2/2 [==============================] - 0s 6ms/step - loss: 9.4701 - mae: 9.4701\n",
            "Epoch 24/100\n",
            "2/2 [==============================] - 0s 6ms/step - loss: 7.6673 - mae: 7.6673\n",
            "Epoch 25/100\n",
            "2/2 [==============================] - 0s 7ms/step - loss: 13.0960 - mae: 13.0960\n",
            "Epoch 26/100\n",
            "2/2 [==============================] - 0s 6ms/step - loss: 16.4831 - mae: 16.4831\n",
            "Epoch 27/100\n",
            "2/2 [==============================] - 0s 6ms/step - loss: 13.2163 - mae: 13.2163\n",
            "Epoch 28/100\n",
            "2/2 [==============================] - 0s 8ms/step - loss: 14.3214 - mae: 14.3214\n",
            "Epoch 29/100\n",
            "2/2 [==============================] - 0s 7ms/step - loss: 10.0809 - mae: 10.0809\n",
            "Epoch 30/100\n",
            "2/2 [==============================] - 0s 7ms/step - loss: 16.4419 - mae: 16.4419\n",
            "Epoch 31/100\n",
            "2/2 [==============================] - 0s 6ms/step - loss: 23.5479 - mae: 23.5479\n",
            "Epoch 32/100\n",
            "2/2 [==============================] - 0s 7ms/step - loss: 7.6008 - mae: 7.6008\n",
            "Epoch 33/100\n",
            "2/2 [==============================] - 0s 7ms/step - loss: 9.2964 - mae: 9.2964\n",
            "Epoch 34/100\n",
            "2/2 [==============================] - 0s 8ms/step - loss: 13.6567 - mae: 13.6567\n",
            "Epoch 35/100\n",
            "2/2 [==============================] - 0s 7ms/step - loss: 11.1635 - mae: 11.1635\n",
            "Epoch 36/100\n",
            "2/2 [==============================] - 0s 8ms/step - loss: 13.3993 - mae: 13.3993\n",
            "Epoch 37/100\n",
            "2/2 [==============================] - 0s 7ms/step - loss: 9.4394 - mae: 9.4394\n",
            "Epoch 38/100\n",
            "2/2 [==============================] - 0s 7ms/step - loss: 10.0892 - mae: 10.0892\n",
            "Epoch 39/100\n",
            "2/2 [==============================] - 0s 6ms/step - loss: 8.9664 - mae: 8.9664\n",
            "Epoch 40/100\n",
            "2/2 [==============================] - 0s 7ms/step - loss: 9.5941 - mae: 9.5941\n",
            "Epoch 41/100\n",
            "2/2 [==============================] - 0s 6ms/step - loss: 10.5549 - mae: 10.5549\n",
            "Epoch 42/100\n",
            "2/2 [==============================] - 0s 6ms/step - loss: 10.6078 - mae: 10.6078\n",
            "Epoch 43/100\n",
            "2/2 [==============================] - 0s 8ms/step - loss: 7.2031 - mae: 7.2031\n",
            "Epoch 44/100\n",
            "2/2 [==============================] - 0s 7ms/step - loss: 8.0087 - mae: 8.0087\n",
            "Epoch 45/100\n",
            "2/2 [==============================] - 0s 7ms/step - loss: 9.8096 - mae: 9.8096\n",
            "Epoch 46/100\n",
            "2/2 [==============================] - 0s 6ms/step - loss: 8.8896 - mae: 8.8896\n",
            "Epoch 47/100\n",
            "2/2 [==============================] - 0s 7ms/step - loss: 7.5590 - mae: 7.5590\n",
            "Epoch 48/100\n",
            "2/2 [==============================] - 0s 7ms/step - loss: 8.5289 - mae: 8.5289\n",
            "Epoch 49/100\n",
            "2/2 [==============================] - 0s 7ms/step - loss: 10.0205 - mae: 10.0205\n",
            "Epoch 50/100\n",
            "2/2 [==============================] - 0s 7ms/step - loss: 8.9758 - mae: 8.9758\n",
            "Epoch 51/100\n",
            "2/2 [==============================] - 0s 8ms/step - loss: 10.6966 - mae: 10.6966\n",
            "Epoch 52/100\n",
            "2/2 [==============================] - 0s 7ms/step - loss: 15.2563 - mae: 15.2563\n",
            "Epoch 53/100\n",
            "2/2 [==============================] - 0s 7ms/step - loss: 14.2868 - mae: 14.2868\n",
            "Epoch 54/100\n",
            "2/2 [==============================] - 0s 7ms/step - loss: 21.5430 - mae: 21.5430\n",
            "Epoch 55/100\n",
            "2/2 [==============================] - 0s 8ms/step - loss: 16.0419 - mae: 16.0419\n",
            "Epoch 56/100\n",
            "2/2 [==============================] - 0s 7ms/step - loss: 10.2413 - mae: 10.2413\n",
            "Epoch 57/100\n",
            "2/2 [==============================] - 0s 9ms/step - loss: 9.7860 - mae: 9.7860\n",
            "Epoch 58/100\n",
            "2/2 [==============================] - 0s 7ms/step - loss: 9.0681 - mae: 9.0681\n",
            "Epoch 59/100\n",
            "2/2 [==============================] - 0s 7ms/step - loss: 8.2736 - mae: 8.2736\n",
            "Epoch 60/100\n",
            "2/2 [==============================] - 0s 7ms/step - loss: 9.3652 - mae: 9.3652\n",
            "Epoch 61/100\n",
            "2/2 [==============================] - 0s 7ms/step - loss: 11.1928 - mae: 11.1928\n",
            "Epoch 62/100\n",
            "2/2 [==============================] - 0s 6ms/step - loss: 12.0281 - mae: 12.0281\n",
            "Epoch 63/100\n",
            "2/2 [==============================] - 0s 7ms/step - loss: 7.2651 - mae: 7.2651\n",
            "Epoch 64/100\n",
            "2/2 [==============================] - 0s 7ms/step - loss: 12.4581 - mae: 12.4581\n",
            "Epoch 65/100\n",
            "2/2 [==============================] - 0s 7ms/step - loss: 10.5286 - mae: 10.5286\n",
            "Epoch 66/100\n",
            "2/2 [==============================] - 0s 7ms/step - loss: 15.5609 - mae: 15.5609\n",
            "Epoch 67/100\n",
            "2/2 [==============================] - 0s 7ms/step - loss: 9.9732 - mae: 9.9732\n",
            "Epoch 68/100\n",
            "2/2 [==============================] - 0s 7ms/step - loss: 8.7009 - mae: 8.7009\n",
            "Epoch 69/100\n",
            "2/2 [==============================] - 0s 8ms/step - loss: 13.4363 - mae: 13.4363\n",
            "Epoch 70/100\n",
            "2/2 [==============================] - 0s 9ms/step - loss: 7.4608 - mae: 7.4608\n",
            "Epoch 71/100\n",
            "2/2 [==============================] - 0s 7ms/step - loss: 12.2555 - mae: 12.2555\n",
            "Epoch 72/100\n",
            "2/2 [==============================] - 0s 7ms/step - loss: 8.5010 - mae: 8.5010\n",
            "Epoch 73/100\n",
            "2/2 [==============================] - 0s 11ms/step - loss: 7.0282 - mae: 7.0282\n",
            "Epoch 74/100\n",
            "2/2 [==============================] - 0s 9ms/step - loss: 9.8799 - mae: 9.8799\n",
            "Epoch 75/100\n",
            "2/2 [==============================] - 0s 10ms/step - loss: 9.9544 - mae: 9.9544\n",
            "Epoch 76/100\n",
            "2/2 [==============================] - 0s 10ms/step - loss: 10.1145 - mae: 10.1145\n",
            "Epoch 77/100\n",
            "2/2 [==============================] - 0s 9ms/step - loss: 12.9900 - mae: 12.9900\n",
            "Epoch 78/100\n",
            "2/2 [==============================] - 0s 8ms/step - loss: 10.8844 - mae: 10.8844\n",
            "Epoch 79/100\n",
            "2/2 [==============================] - 0s 7ms/step - loss: 15.3619 - mae: 15.3619\n",
            "Epoch 80/100\n",
            "2/2 [==============================] - 0s 8ms/step - loss: 11.7271 - mae: 11.7271\n",
            "Epoch 81/100\n",
            "2/2 [==============================] - 0s 9ms/step - loss: 9.2339 - mae: 9.2339\n",
            "Epoch 82/100\n",
            "2/2 [==============================] - 0s 9ms/step - loss: 12.8216 - mae: 12.8216\n",
            "Epoch 83/100\n",
            "2/2 [==============================] - 0s 8ms/step - loss: 10.2748 - mae: 10.2748\n",
            "Epoch 84/100\n",
            "2/2 [==============================] - 0s 7ms/step - loss: 10.6050 - mae: 10.6050\n",
            "Epoch 85/100\n",
            "2/2 [==============================] - 0s 9ms/step - loss: 9.3139 - mae: 9.3139\n",
            "Epoch 86/100\n",
            "2/2 [==============================] - 0s 13ms/step - loss: 9.1621 - mae: 9.1621\n",
            "Epoch 87/100\n",
            "2/2 [==============================] - 0s 8ms/step - loss: 11.8980 - mae: 11.8980\n",
            "Epoch 88/100\n",
            "2/2 [==============================] - 0s 9ms/step - loss: 10.5083 - mae: 10.5083\n",
            "Epoch 89/100\n",
            "2/2 [==============================] - 0s 9ms/step - loss: 7.2317 - mae: 7.2317\n",
            "Epoch 90/100\n",
            "2/2 [==============================] - 0s 9ms/step - loss: 12.6355 - mae: 12.6355\n",
            "Epoch 91/100\n",
            "2/2 [==============================] - 0s 9ms/step - loss: 7.2779 - mae: 7.2779\n",
            "Epoch 92/100\n",
            "2/2 [==============================] - 0s 9ms/step - loss: 7.6372 - mae: 7.6372\n",
            "Epoch 93/100\n",
            "2/2 [==============================] - 0s 8ms/step - loss: 7.1008 - mae: 7.1008\n",
            "Epoch 94/100\n",
            "2/2 [==============================] - 0s 9ms/step - loss: 12.4874 - mae: 12.4874\n",
            "Epoch 95/100\n",
            "2/2 [==============================] - 0s 8ms/step - loss: 9.8626 - mae: 9.8626\n",
            "Epoch 96/100\n",
            "2/2 [==============================] - 0s 9ms/step - loss: 9.1411 - mae: 9.1411\n",
            "Epoch 97/100\n",
            "2/2 [==============================] - 0s 8ms/step - loss: 12.1161 - mae: 12.1161\n",
            "Epoch 98/100\n",
            "2/2 [==============================] - 0s 8ms/step - loss: 9.0098 - mae: 9.0098\n",
            "Epoch 99/100\n",
            "2/2 [==============================] - 0s 8ms/step - loss: 8.4929 - mae: 8.4929\n",
            "Epoch 100/100\n",
            "2/2 [==============================] - 0s 8ms/step - loss: 14.5125 - mae: 14.5125\n"
          ]
        },
        {
          "output_type": "execute_result",
          "data": {
            "text/plain": [
              "<keras.callbacks.History at 0x7f90bf3180a0>"
            ]
          },
          "metadata": {},
          "execution_count": 34
        }
      ]
    },
    {
      "cell_type": "markdown",
      "source": [
        "Visualizing the model"
      ],
      "metadata": {
        "id": "vL36XtaM8iK9"
      }
    },
    {
      "cell_type": "code",
      "source": [
        "model.summary()"
      ],
      "metadata": {
        "colab": {
          "base_uri": "https://localhost:8080/"
        },
        "id": "lbSGI90x8eTH",
        "outputId": "c3b8ecc0-5b86-464e-e9f5-bbf6cf5d57a1"
      },
      "execution_count": 35,
      "outputs": [
        {
          "output_type": "stream",
          "name": "stdout",
          "text": [
            "Model: \"sequential_11\"\n",
            "_________________________________________________________________\n",
            " Layer (type)                Output Shape              Param #   \n",
            "=================================================================\n",
            " dense_11 (Dense)            (None, 1)                 2         \n",
            "                                                                 \n",
            "=================================================================\n",
            "Total params: 2\n",
            "Trainable params: 2\n",
            "Non-trainable params: 0\n",
            "_________________________________________________________________\n"
          ]
        }
      ]
    },
    {
      "cell_type": "code",
      "source": [
        "from tensorflow.keras.utils import plot_model\n",
        "plot_model(model,show_shapes=True)"
      ],
      "metadata": {
        "colab": {
          "base_uri": "https://localhost:8080/",
          "height": 201
        },
        "id": "e_-ox7M38ySy",
        "outputId": "da8940ec-f54a-42b4-fa20-635b1060d6cd"
      },
      "execution_count": 36,
      "outputs": [
        {
          "output_type": "execute_result",
          "data": {
            "image/png": "[encoded data removed]",
            "text/plain": [
              "<IPython.core.display.Image object>"
            ]
          },
          "metadata": {},
          "execution_count": 36
        }
      ]
    },
    {
      "cell_type": "code",
      "source": [
        "y_preds = model.predict(X_test)\n",
        "y_preds"
      ],
      "metadata": {
        "colab": {
          "base_uri": "https://localhost:8080/"
        },
        "id": "P4gjxb0p9rrF",
        "outputId": "ec5c551f-ff2a-461c-9033-3f6df2734d28"
      },
      "execution_count": 37,
      "outputs": [
        {
          "output_type": "stream",
          "name": "stdout",
          "text": [
            "1/1 [==============================] - 0s 57ms/step\n"
          ]
        },
        {
          "output_type": "execute_result",
          "data": {
            "text/plain": [
              "array([[44.60274 ],\n",
              "       [47.488174],\n",
              "       [50.373608],\n",
              "       [53.25904 ],\n",
              "       [56.144474],\n",
              "       [59.029907],\n",
              "       [61.915337],\n",
              "       [64.800766],\n",
              "       [67.6862  ],\n",
              "       [70.57163 ]], dtype=float32)"
            ]
          },
          "metadata": {},
          "execution_count": 37
        }
      ]
    },
    {
      "cell_type": "code",
      "source": [
        "# Function to plot predictions\n",
        "def plot_predictions(train_data=X_train\n",
        "                     ,train_label=y_train\n",
        "                     ,test_data=X_test\n",
        "                     ,test_label=y_test\n",
        "                     ,predictions=y_preds):\n",
        "\n",
        "  plt.figure(figsize=(10,7))\n",
        "\n",
        "  #Plot the training data\n",
        "  plt.scatter(train_data,train_label,c='b',label=\"Training data\")\n",
        "  #Plot the test data\n",
        "  plt.scatter(test_data,test_label,c='g',label=\"Test data\")\n",
        "  #Plot the training data\n",
        "  plt.scatter(test_data,y_preds,c='r',label=\"Predictions\")\n",
        "  #Show legend\n",
        "  plt.legend();\n",
        "\n",
        "plot_predictions()"
      ],
      "metadata": {
        "colab": {
          "base_uri": "https://localhost:8080/",
          "height": 599
        },
        "id": "yqZBqoU3-vMu",
        "outputId": "d292491c-80b7-4841-9531-496feec7fc0c"
      },
      "execution_count": 38,
      "outputs": [
        {
          "output_type": "display_data",
          "data": {
            "text/plain": [
              "<Figure size 1000x700 with 1 Axes>"
            ],
            "image/png": "[encoded data removed]"
          },
          "metadata": {}
        }
      ]
    },
    {
      "cell_type": "markdown",
      "source": [
        "## Evaluate Predictions\n",
        "Two main metrics for regression problems\n",
        "1. MAE (Mean Absolute Error) : the mean difference between each of the predictions.\n",
        "2. MSE (Mean Squared Error) : the squared mean difference between the predictions."
      ],
      "metadata": {
        "id": "lN0Dpyt_CBrv"
      }
    },
    {
      "cell_type": "code",
      "source": [
        "model.evaluate(X_test,y_test)"
      ],
      "metadata": {
        "colab": {
          "base_uri": "https://localhost:8080/"
        },
        "id": "Glmfogjg_ngt",
        "outputId": "72d18ea8-eedf-4888-b9c0-8862344e348c"
      },
      "execution_count": 39,
      "outputs": [
        {
          "output_type": "stream",
          "name": "stdout",
          "text": [
            "1/1 [==============================] - 0s 457ms/step - loss: 30.4128 - mae: 30.4128\n"
          ]
        },
        {
          "output_type": "execute_result",
          "data": {
            "text/plain": [
              "[30.412811279296875, 30.412811279296875]"
            ]
          },
          "metadata": {},
          "execution_count": 39
        }
      ]
    },
    {
      "cell_type": "code",
      "source": [
        "mae = tf.metrics.mean_absolute_error(y_true=y_test\n",
        "                                     ,y_pred=y_preds)\n",
        "mae"
      ],
      "metadata": {
        "colab": {
          "base_uri": "https://localhost:8080/"
        },
        "id": "STD0UGJACkT5",
        "outputId": "35c785a0-b0a5-4cce-dc5e-b0038a2fa85a"
      },
      "execution_count": 41,
      "outputs": [
        {
          "output_type": "execute_result",
          "data": {
            "text/plain": [
              "<tf.Tensor: shape=(10,), dtype=float32, numpy=\n",
              "array([43.39726 , 40.511826, 37.626392, 34.74096 , 31.855526, 28.970093,\n",
              "       26.084661, 23.199234, 20.313797, 17.542694], dtype=float32)>"
            ]
          },
          "metadata": {},
          "execution_count": 41
        }
      ]
    },
    {
      "cell_type": "markdown",
      "source": [
        "Since the shape of y_preds & y_test are different, the `tf.metrics.mean_absolute_error` responded with an array, where as we expect a single value\n"
      ],
      "metadata": {
        "id": "auCsNamGDI7K"
      }
    },
    {
      "cell_type": "code",
      "source": [
        "y_test.shape, y_preds.shape"
      ],
      "metadata": {
        "colab": {
          "base_uri": "https://localhost:8080/"
        },
        "id": "S5vQGAebDC_q",
        "outputId": "65e6a71b-542f-4799-ad66-da83be1ef7d4"
      },
      "execution_count": 42,
      "outputs": [
        {
          "output_type": "execute_result",
          "data": {
            "text/plain": [
              "((10,), (10, 1))"
            ]
          },
          "metadata": {},
          "execution_count": 42
        }
      ]
    },
    {
      "cell_type": "code",
      "source": [
        "y_test.shape, y_preds.squeeze().shape"
      ],
      "metadata": {
        "colab": {
          "base_uri": "https://localhost:8080/"
        },
        "id": "Z6lRFKvrDe20",
        "outputId": "a66888f3-54ba-429b-a1de-acb6603ff7e7"
      },
      "execution_count": 43,
      "outputs": [
        {
          "output_type": "execute_result",
          "data": {
            "text/plain": [
              "((10,), (10,))"
            ]
          },
          "metadata": {},
          "execution_count": 43
        }
      ]
    },
    {
      "cell_type": "code",
      "source": [
        "mae = tf.metrics.mean_absolute_error(y_true=y_test\n",
        "                                     ,y_pred=y_preds.squeeze())\n",
        "mae"
      ],
      "metadata": {
        "colab": {
          "base_uri": "https://localhost:8080/"
        },
        "id": "UiLjdGBfDjuM",
        "outputId": "70cfd19b-cd5e-4d31-a0dd-f4426e885ced"
      },
      "execution_count": 45,
      "outputs": [
        {
          "output_type": "execute_result",
          "data": {
            "text/plain": [
              "<tf.Tensor: shape=(), dtype=float32, numpy=30.412811>"
            ]
          },
          "metadata": {},
          "execution_count": 45
        }
      ]
    },
    {
      "cell_type": "code",
      "source": [
        "mse = tf.metrics.mean_squared_error(y_true=y_test\n",
        "                                    ,y_pred=y_preds.squeeze())\n",
        "mse"
      ],
      "metadata": {
        "colab": {
          "base_uri": "https://localhost:8080/"
        },
        "id": "ike2KmRIDroi",
        "outputId": "0bf90dae-da00-41c5-b760-d40387124562"
      },
      "execution_count": 46,
      "outputs": [
        {
          "output_type": "execute_result",
          "data": {
            "text/plain": [
              "<tf.Tensor: shape=(), dtype=float32, numpy=935.1877>"
            ]
          },
          "metadata": {},
          "execution_count": 46
        }
      ]
    },
    {
      "cell_type": "code",
      "source": [],
      "metadata": {
        "id": "FKxqk5nWD1eI"
      },
      "execution_count": null,
      "outputs": []
    }
  ]
}