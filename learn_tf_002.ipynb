{
  "nbformat": 4,
  "nbformat_minor": 0,
  "metadata": {
    "colab": {
      "provenance": [],
      "authorship_tag": "ABX9TyOs+qJz7zhS1BOk84lATxjD",
      "include_colab_link": true
    },
    "kernelspec": {
      "name": "python3",
      "display_name": "Python 3"
    },
    "language_info": {
      "name": "python"
    }
  },
  "cells": [
    {
      "cell_type": "markdown",
      "metadata": {
        "id": "view-in-github",
        "colab_type": "text"
      },
      "source": [
        "<a href=\"https://colab.research.google.com/github/bikash119/learn_tensorflow/blob/main/learn_tf_002.ipynb\" target=\"_parent\"><img src=\"https://colab.research.google.com/assets/colab-badge.svg\" alt=\"Open In Colab\"/></a>"
      ]
    },
    {
      "cell_type": "code",
      "execution_count": 1,
      "metadata": {
        "colab": {
          "base_uri": "https://localhost:8080/"
        },
        "id": "SGfy60UikKri",
        "outputId": "b182cc0b-565b-4e0a-f9ae-b09782a87e9d"
      },
      "outputs": [
        {
          "output_type": "stream",
          "name": "stdout",
          "text": [
            " TF version : 2.12.0\n",
            " Last known execution of the notebook : 2023-06-27 00:06:12.394280\n"
          ]
        }
      ],
      "source": [
        "import tensorflow as tf\n",
        "import datetime\n",
        "\n",
        "print(f\" TF version : {tf.__version__}\")\n",
        "print(f\" Last known execution of the notebook : {datetime.datetime.now()}\")"
      ]
    },
    {
      "cell_type": "markdown",
      "source": [
        "Steps in modelling with Tensorflow\n",
        "1. **Creating a model**: Piece together the layers of a neural network yourself or import a previously built model (known as Transfer Learning ).\n",
        "2. **Compiling a model** : defining how a models performance should be measured( loss/metrics) as well as defining how it can be improved(optimizer).\n",
        "3. **Fitting a model** : letting the model try to find patterns in the data."
      ],
      "metadata": {
        "id": "m9a4vAiznv7Q"
      }
    },
    {
      "cell_type": "code",
      "source": [
        "import numpy as np\n",
        "import matplotlib.pyplot as plt\n",
        "\n",
        "# Create features ( using tensors )\n",
        "X = tf.constant([-7.0,-4.0,-1.0,2.0,5.0,8.0,11.0,14.0])\n",
        "# Create labels ( using tensors)\n",
        "y = tf.constant([3.0,6.0,9.0,12.0,15.0,18.0,21.0,24.0])\n",
        "\n",
        "# visualize it\n",
        "plt.scatter(X,y)"
      ],
      "metadata": {
        "colab": {
          "base_uri": "https://localhost:8080/",
          "height": 453
        },
        "id": "pN5RYD1umyZ1",
        "outputId": "7674b130-4cef-48a4-adc7-e77ddf909253"
      },
      "execution_count": 2,
      "outputs": [
        {
          "output_type": "execute_result",
          "data": {
            "text/plain": [
              "<matplotlib.collections.PathCollection at 0x7f6e6d3238b0>"
            ]
          },
          "metadata": {},
          "execution_count": 2
        },
        {
          "output_type": "display_data",
          "data": {
            "text/plain": [
              "<Figure size 640x480 with 1 Axes>"
            ],
            "image/png": "[encoded data removed]"
          },
          "metadata": {}
        }
      ]
    },
    {
      "cell_type": "code",
      "source": [
        "# Set random seed\n",
        "tf.random.set_seed(42)\n",
        "\n",
        "#1. creating the model\n",
        "model = tf.keras.Sequential(\n",
        "    tf.keras.layers.Dense(1)\n",
        ")\n",
        "\n",
        "#2. Compile the model\n",
        "model.compile(loss=tf.keras.losses.mae\n",
        "              ,optimizer = tf.keras.optimizers.SGD()\n",
        "              ,metrics=[\"mae\"])\n",
        "\n",
        "# Fit the model\n",
        "model.fit(tf.expand_dims(X,axis=-1),y,epochs=5)"
      ],
      "metadata": {
        "colab": {
          "base_uri": "https://localhost:8080/"
        },
        "id": "ouPaNb00p4sz",
        "outputId": "2c92ed97-9a1f-43e9-e056-2781be4185a2"
      },
      "execution_count": 3,
      "outputs": [
        {
          "output_type": "stream",
          "name": "stdout",
          "text": [
            "Epoch 1/5\n",
            "1/1 [==============================] - 0s 423ms/step - loss: 10.2728 - mae: 10.2728\n",
            "Epoch 2/5\n",
            "1/1 [==============================] - 0s 11ms/step - loss: 10.1403 - mae: 10.1403\n",
            "Epoch 3/5\n",
            "1/1 [==============================] - 0s 10ms/step - loss: 10.0078 - mae: 10.0078\n",
            "Epoch 4/5\n",
            "1/1 [==============================] - 0s 10ms/step - loss: 9.8753 - mae: 9.8753\n",
            "Epoch 5/5\n",
            "1/1 [==============================] - 0s 13ms/step - loss: 9.7428 - mae: 9.7428\n"
          ]
        },
        {
          "output_type": "execute_result",
          "data": {
            "text/plain": [
              "<keras.callbacks.History at 0x7f6e5be47e20>"
            ]
          },
          "metadata": {},
          "execution_count": 3
        }
      ]
    },
    {
      "cell_type": "code",
      "source": [
        "model.predict([17.0])"
      ],
      "metadata": {
        "colab": {
          "base_uri": "https://localhost:8080/"
        },
        "id": "Ps6FN6gDriE2",
        "outputId": "12b65225-3268-44ea-9e9a-be77400a2429"
      },
      "execution_count": 4,
      "outputs": [
        {
          "output_type": "stream",
          "name": "stdout",
          "text": [
            "1/1 [==============================] - 0s 106ms/step\n"
          ]
        },
        {
          "output_type": "execute_result",
          "data": {
            "text/plain": [
              "array([[18.700045]], dtype=float32)"
            ]
          },
          "metadata": {},
          "execution_count": 4
        }
      ]
    },
    {
      "cell_type": "markdown",
      "source": [
        "Steps to improving the model\n",
        "1. _Creating a model_ : Here we might want to add more layers, increase the number of hidden units, change the activation function in each layer.\n",
        "2. _Compiling a model_: We might want to choose a different optimizer or change the **learning rate** of the optimization function\n",
        "3. _Fitting a model_ : we could also try fit the model for more **epochs**\n",
        "\n",
        "_There are many different ways to improve a neural network. Some of the most common include : increasing the number of layers (making the network deeper), increasing the number of hidden units (making the network wider) and changing the learning rate. Because these values are human-changeable, they are referred to as hyperparameters and the practice of trying to find the best hyperparameters is referred to as hyperparameter-tuning_"
      ],
      "metadata": {
        "id": "Y8NlzRhUtpej"
      }
    },
    {
      "cell_type": "code",
      "source": [
        "# Lets try to improve our model by training it a little longer\n",
        "# set seeds\n",
        "tf.random.set_seed(42)\n",
        "\n",
        "#1.Create the model\n",
        "model = tf.keras.Sequential(\n",
        "    tf.keras.layers.Dense(1)\n",
        ")\n",
        "model.compile (loss= tf.keras.losses.mae\n",
        "               ,optimizer = tf.keras.optimizers.SGD()\n",
        "               ,metrics=[\"mae\"])\n",
        "\n",
        "model.fit(tf.expand_dims(X,axis=-1),y,epochs=100)"
      ],
      "metadata": {
        "colab": {
          "base_uri": "https://localhost:8080/"
        },
        "id": "a9l-ya4-r6iy",
        "outputId": "483686fc-0841-4c3c-f326-8d99aea73005"
      },
      "execution_count": 5,
      "outputs": [
        {
          "output_type": "stream",
          "name": "stdout",
          "text": [
            "Epoch 1/100\n",
            "1/1 [==============================] - 1s 695ms/step - loss: 9.4760 - mae: 9.4760\n",
            "Epoch 2/100\n",
            "1/1 [==============================] - 0s 11ms/step - loss: 9.3435 - mae: 9.3435\n",
            "Epoch 3/100\n",
            "1/1 [==============================] - 0s 11ms/step - loss: 9.2110 - mae: 9.2110\n",
            "Epoch 4/100\n",
            "1/1 [==============================] - 0s 15ms/step - loss: 9.0785 - mae: 9.0785\n",
            "Epoch 5/100\n",
            "1/1 [==============================] - 0s 21ms/step - loss: 8.9460 - mae: 8.9460\n",
            "Epoch 6/100\n",
            "1/1 [==============================] - 0s 20ms/step - loss: 8.8135 - mae: 8.8135\n",
            "Epoch 7/100\n",
            "1/1 [==============================] - 0s 18ms/step - loss: 8.6810 - mae: 8.6810\n",
            "Epoch 8/100\n",
            "1/1 [==============================] - 0s 19ms/step - loss: 8.5485 - mae: 8.5485\n",
            "Epoch 9/100\n",
            "1/1 [==============================] - 0s 17ms/step - loss: 8.4160 - mae: 8.4160\n",
            "Epoch 10/100\n",
            "1/1 [==============================] - 0s 17ms/step - loss: 8.2835 - mae: 8.2835\n",
            "Epoch 11/100\n",
            "1/1 [==============================] - 0s 30ms/step - loss: 8.1510 - mae: 8.1510\n",
            "Epoch 12/100\n",
            "1/1 [==============================] - 0s 19ms/step - loss: 8.0185 - mae: 8.0185\n",
            "Epoch 13/100\n",
            "1/1 [==============================] - 0s 24ms/step - loss: 7.8860 - mae: 7.8860\n",
            "Epoch 14/100\n",
            "1/1 [==============================] - 0s 20ms/step - loss: 7.7535 - mae: 7.7535\n",
            "Epoch 15/100\n",
            "1/1 [==============================] - 0s 19ms/step - loss: 7.6210 - mae: 7.6210\n",
            "Epoch 16/100\n",
            "1/1 [==============================] - 0s 17ms/step - loss: 7.4885 - mae: 7.4885\n",
            "Epoch 17/100\n",
            "1/1 [==============================] - 0s 18ms/step - loss: 7.3800 - mae: 7.3800\n",
            "Epoch 18/100\n",
            "1/1 [==============================] - 0s 22ms/step - loss: 7.3744 - mae: 7.3744\n",
            "Epoch 19/100\n",
            "1/1 [==============================] - 0s 18ms/step - loss: 7.3688 - mae: 7.3688\n",
            "Epoch 20/100\n",
            "1/1 [==============================] - 0s 24ms/step - loss: 7.3631 - mae: 7.3631\n",
            "Epoch 21/100\n",
            "1/1 [==============================] - 0s 31ms/step - loss: 7.3575 - mae: 7.3575\n",
            "Epoch 22/100\n",
            "1/1 [==============================] - 0s 28ms/step - loss: 7.3519 - mae: 7.3519\n",
            "Epoch 23/100\n",
            "1/1 [==============================] - 0s 16ms/step - loss: 7.3462 - mae: 7.3462\n",
            "Epoch 24/100\n",
            "1/1 [==============================] - 0s 15ms/step - loss: 7.3406 - mae: 7.3406\n",
            "Epoch 25/100\n",
            "1/1 [==============================] - 0s 17ms/step - loss: 7.3350 - mae: 7.3350\n",
            "Epoch 26/100\n",
            "1/1 [==============================] - 0s 14ms/step - loss: 7.3294 - mae: 7.3294\n",
            "Epoch 27/100\n",
            "1/1 [==============================] - 0s 18ms/step - loss: 7.3238 - mae: 7.3238\n",
            "Epoch 28/100\n",
            "1/1 [==============================] - 0s 12ms/step - loss: 7.3181 - mae: 7.3181\n",
            "Epoch 29/100\n",
            "1/1 [==============================] - 0s 20ms/step - loss: 7.3125 - mae: 7.3125\n",
            "Epoch 30/100\n",
            "1/1 [==============================] - 0s 13ms/step - loss: 7.3069 - mae: 7.3069\n",
            "Epoch 31/100\n",
            "1/1 [==============================] - 0s 11ms/step - loss: 7.3013 - mae: 7.3013\n",
            "Epoch 32/100\n",
            "1/1 [==============================] - 0s 13ms/step - loss: 7.2956 - mae: 7.2956\n",
            "Epoch 33/100\n",
            "1/1 [==============================] - 0s 26ms/step - loss: 7.2900 - mae: 7.2900\n",
            "Epoch 34/100\n",
            "1/1 [==============================] - 0s 27ms/step - loss: 7.2844 - mae: 7.2844\n",
            "Epoch 35/100\n",
            "1/1 [==============================] - 0s 24ms/step - loss: 7.2787 - mae: 7.2787\n",
            "Epoch 36/100\n",
            "1/1 [==============================] - 0s 23ms/step - loss: 7.2731 - mae: 7.2731\n",
            "Epoch 37/100\n",
            "1/1 [==============================] - 0s 10ms/step - loss: 7.2675 - mae: 7.2675\n",
            "Epoch 38/100\n",
            "1/1 [==============================] - 0s 12ms/step - loss: 7.2619 - mae: 7.2619\n",
            "Epoch 39/100\n",
            "1/1 [==============================] - 0s 22ms/step - loss: 7.2563 - mae: 7.2563\n",
            "Epoch 40/100\n",
            "1/1 [==============================] - 0s 29ms/step - loss: 7.2506 - mae: 7.2506\n",
            "Epoch 41/100\n",
            "1/1 [==============================] - 0s 16ms/step - loss: 7.2450 - mae: 7.2450\n",
            "Epoch 42/100\n",
            "1/1 [==============================] - 0s 15ms/step - loss: 7.2394 - mae: 7.2394\n",
            "Epoch 43/100\n",
            "1/1 [==============================] - 0s 30ms/step - loss: 7.2337 - mae: 7.2337\n",
            "Epoch 44/100\n",
            "1/1 [==============================] - 0s 19ms/step - loss: 7.2281 - mae: 7.2281\n",
            "Epoch 45/100\n",
            "1/1 [==============================] - 0s 10ms/step - loss: 7.2225 - mae: 7.2225\n",
            "Epoch 46/100\n",
            "1/1 [==============================] - 0s 11ms/step - loss: 7.2169 - mae: 7.2169\n",
            "Epoch 47/100\n",
            "1/1 [==============================] - 0s 11ms/step - loss: 7.2112 - mae: 7.2112\n",
            "Epoch 48/100\n",
            "1/1 [==============================] - 0s 17ms/step - loss: 7.2056 - mae: 7.2056\n",
            "Epoch 49/100\n",
            "1/1 [==============================] - 0s 20ms/step - loss: 7.2000 - mae: 7.2000\n",
            "Epoch 50/100\n",
            "1/1 [==============================] - 0s 18ms/step - loss: 7.1944 - mae: 7.1944\n",
            "Epoch 51/100\n",
            "1/1 [==============================] - 0s 19ms/step - loss: 7.1887 - mae: 7.1887\n",
            "Epoch 52/100\n",
            "1/1 [==============================] - 0s 18ms/step - loss: 7.1831 - mae: 7.1831\n",
            "Epoch 53/100\n",
            "1/1 [==============================] - 0s 15ms/step - loss: 7.1775 - mae: 7.1775\n",
            "Epoch 54/100\n",
            "1/1 [==============================] - 0s 19ms/step - loss: 7.1719 - mae: 7.1719\n",
            "Epoch 55/100\n",
            "1/1 [==============================] - 0s 16ms/step - loss: 7.1663 - mae: 7.1663\n",
            "Epoch 56/100\n",
            "1/1 [==============================] - 0s 22ms/step - loss: 7.1606 - mae: 7.1606\n",
            "Epoch 57/100\n",
            "1/1 [==============================] - 0s 18ms/step - loss: 7.1550 - mae: 7.1550\n",
            "Epoch 58/100\n",
            "1/1 [==============================] - 0s 16ms/step - loss: 7.1494 - mae: 7.1494\n",
            "Epoch 59/100\n",
            "1/1 [==============================] - 0s 11ms/step - loss: 7.1438 - mae: 7.1438\n",
            "Epoch 60/100\n",
            "1/1 [==============================] - 0s 11ms/step - loss: 7.1381 - mae: 7.1381\n",
            "Epoch 61/100\n",
            "1/1 [==============================] - 0s 20ms/step - loss: 7.1325 - mae: 7.1325\n",
            "Epoch 62/100\n",
            "1/1 [==============================] - 0s 17ms/step - loss: 7.1269 - mae: 7.1269\n",
            "Epoch 63/100\n",
            "1/1 [==============================] - 0s 18ms/step - loss: 7.1213 - mae: 7.1213\n",
            "Epoch 64/100\n",
            "1/1 [==============================] - 0s 21ms/step - loss: 7.1156 - mae: 7.1156\n",
            "Epoch 65/100\n",
            "1/1 [==============================] - 0s 17ms/step - loss: 7.1100 - mae: 7.1100\n",
            "Epoch 66/100\n",
            "1/1 [==============================] - 0s 24ms/step - loss: 7.1044 - mae: 7.1044\n",
            "Epoch 67/100\n",
            "1/1 [==============================] - 0s 22ms/step - loss: 7.0987 - mae: 7.0987\n",
            "Epoch 68/100\n",
            "1/1 [==============================] - 0s 27ms/step - loss: 7.0931 - mae: 7.0931\n",
            "Epoch 69/100\n",
            "1/1 [==============================] - 0s 34ms/step - loss: 7.0875 - mae: 7.0875\n",
            "Epoch 70/100\n",
            "1/1 [==============================] - 0s 23ms/step - loss: 7.0819 - mae: 7.0819\n",
            "Epoch 71/100\n",
            "1/1 [==============================] - 0s 40ms/step - loss: 7.0763 - mae: 7.0763\n",
            "Epoch 72/100\n",
            "1/1 [==============================] - 0s 26ms/step - loss: 7.0706 - mae: 7.0706\n",
            "Epoch 73/100\n",
            "1/1 [==============================] - 0s 28ms/step - loss: 7.0650 - mae: 7.0650\n",
            "Epoch 74/100\n",
            "1/1 [==============================] - 0s 31ms/step - loss: 7.0594 - mae: 7.0594\n",
            "Epoch 75/100\n",
            "1/1 [==============================] - 0s 18ms/step - loss: 7.0538 - mae: 7.0538\n",
            "Epoch 76/100\n",
            "1/1 [==============================] - 0s 36ms/step - loss: 7.0481 - mae: 7.0481\n",
            "Epoch 77/100\n",
            "1/1 [==============================] - 0s 40ms/step - loss: 7.0425 - mae: 7.0425\n",
            "Epoch 78/100\n",
            "1/1 [==============================] - 0s 28ms/step - loss: 7.0369 - mae: 7.0369\n",
            "Epoch 79/100\n",
            "1/1 [==============================] - 0s 18ms/step - loss: 7.0312 - mae: 7.0312\n",
            "Epoch 80/100\n",
            "1/1 [==============================] - 0s 17ms/step - loss: 7.0256 - mae: 7.0256\n",
            "Epoch 81/100\n",
            "1/1 [==============================] - 0s 25ms/step - loss: 7.0200 - mae: 7.0200\n",
            "Epoch 82/100\n",
            "1/1 [==============================] - 0s 28ms/step - loss: 7.0144 - mae: 7.0144\n",
            "Epoch 83/100\n",
            "1/1 [==============================] - 0s 16ms/step - loss: 7.0087 - mae: 7.0087\n",
            "Epoch 84/100\n",
            "1/1 [==============================] - 0s 21ms/step - loss: 7.0031 - mae: 7.0031\n",
            "Epoch 85/100\n",
            "1/1 [==============================] - 0s 34ms/step - loss: 6.9975 - mae: 6.9975\n",
            "Epoch 86/100\n",
            "1/1 [==============================] - 0s 26ms/step - loss: 6.9919 - mae: 6.9919\n",
            "Epoch 87/100\n",
            "1/1 [==============================] - 0s 18ms/step - loss: 6.9862 - mae: 6.9862\n",
            "Epoch 88/100\n",
            "1/1 [==============================] - 0s 16ms/step - loss: 6.9806 - mae: 6.9806\n",
            "Epoch 89/100\n",
            "1/1 [==============================] - 0s 25ms/step - loss: 6.9750 - mae: 6.9750\n",
            "Epoch 90/100\n",
            "1/1 [==============================] - 0s 22ms/step - loss: 6.9694 - mae: 6.9694\n",
            "Epoch 91/100\n",
            "1/1 [==============================] - 0s 15ms/step - loss: 6.9638 - mae: 6.9638\n",
            "Epoch 92/100\n",
            "1/1 [==============================] - 0s 11ms/step - loss: 6.9581 - mae: 6.9581\n",
            "Epoch 93/100\n",
            "1/1 [==============================] - 0s 15ms/step - loss: 6.9525 - mae: 6.9525\n",
            "Epoch 94/100\n",
            "1/1 [==============================] - 0s 29ms/step - loss: 6.9469 - mae: 6.9469\n",
            "Epoch 95/100\n",
            "1/1 [==============================] - 0s 16ms/step - loss: 6.9413 - mae: 6.9413\n",
            "Epoch 96/100\n",
            "1/1 [==============================] - 0s 17ms/step - loss: 6.9356 - mae: 6.9356\n",
            "Epoch 97/100\n",
            "1/1 [==============================] - 0s 14ms/step - loss: 6.9300 - mae: 6.9300\n",
            "Epoch 98/100\n",
            "1/1 [==============================] - 0s 16ms/step - loss: 6.9244 - mae: 6.9244\n",
            "Epoch 99/100\n",
            "1/1 [==============================] - 0s 20ms/step - loss: 6.9187 - mae: 6.9187\n",
            "Epoch 100/100\n",
            "1/1 [==============================] - 0s 31ms/step - loss: 6.9131 - mae: 6.9131\n"
          ]
        },
        {
          "output_type": "execute_result",
          "data": {
            "text/plain": [
              "<keras.callbacks.History at 0x7f6e5b4a32e0>"
            ]
          },
          "metadata": {},
          "execution_count": 5
        }
      ]
    },
    {
      "cell_type": "code",
      "source": [
        "model.predict([17.0])"
      ],
      "metadata": {
        "colab": {
          "base_uri": "https://localhost:8080/"
        },
        "id": "ieKFA0UZxEP7",
        "outputId": "dd846c89-e122-4b6f-befe-1c0f06fd44ba"
      },
      "execution_count": 6,
      "outputs": [
        {
          "output_type": "stream",
          "name": "stdout",
          "text": [
            "1/1 [==============================] - 0s 309ms/step\n"
          ]
        },
        {
          "output_type": "execute_result",
          "data": {
            "text/plain": [
              "array([[29.855291]], dtype=float32)"
            ]
          },
          "metadata": {},
          "execution_count": 6
        }
      ]
    },
    {
      "cell_type": "markdown",
      "source": [
        "A typical workflow that we will have to go through while building neural networks is\n",
        "`build model -> evaluate it -> build (tweak) model -> evaluate it -> build (tweak) model -> evaluate it...`\n",
        "\n",
        "## Visualize Visuzalize Visualize\n",
        "\n",
        "1. **The data**\n",
        "2. **The Model**\n",
        "3. **The training of the Model**\n",
        "4. **The prediction of the Model**"
      ],
      "metadata": {
        "id": "LcQTRgiq0CKa"
      }
    },
    {
      "cell_type": "code",
      "source": [
        "# Make a bigger dataset\n",
        "X = np.arange(-100,100,4)\n",
        "y = np.arange(-90,110,4)\n"
      ],
      "metadata": {
        "id": "y6Zu7FeBxLWB"
      },
      "execution_count": 7,
      "outputs": []
    },
    {
      "cell_type": "markdown",
      "source": [
        "Split the data into Training , Validation , Test set"
      ],
      "metadata": {
        "id": "WWvFHIQe6zEK"
      }
    },
    {
      "cell_type": "code",
      "source": [
        "#Split the dataset into Training, Validation and Test\n",
        "len(X)"
      ],
      "metadata": {
        "colab": {
          "base_uri": "https://localhost:8080/"
        },
        "id": "1MVZ3rZP6yTl",
        "outputId": "e37da450-4c1c-4ed8-ffa6-ee7fd2c2facc"
      },
      "execution_count": 8,
      "outputs": [
        {
          "output_type": "execute_result",
          "data": {
            "text/plain": [
              "50"
            ]
          },
          "metadata": {},
          "execution_count": 8
        }
      ]
    },
    {
      "cell_type": "code",
      "source": [
        "X_train = X[:40]\n",
        "y_train = y[:40]\n",
        "X_test = X[40:]\n",
        "y_test = y[40:]\n",
        "\n",
        "len(X_train),len(X_test)"
      ],
      "metadata": {
        "colab": {
          "base_uri": "https://localhost:8080/"
        },
        "id": "cOvYJsRl65zb",
        "outputId": "bc3e0b1d-f74c-4942-e859-6ca42e68c384"
      },
      "execution_count": 9,
      "outputs": [
        {
          "output_type": "execute_result",
          "data": {
            "text/plain": [
              "(40, 10)"
            ]
          },
          "metadata": {},
          "execution_count": 9
        }
      ]
    },
    {
      "cell_type": "markdown",
      "source": [
        "Visualize the train and test data"
      ],
      "metadata": {
        "id": "tui4Pgb-7MYG"
      }
    },
    {
      "cell_type": "code",
      "source": [
        "plt.figure(figsize=(10,7))\n",
        "#plot the training data\n",
        "plt.scatter(X_train,y_train,c='b',label='Training data')\n",
        "#plot the test data\n",
        "plt.scatter(X_test,y_test,c='g',label='Test data')\n",
        "#show legend\n",
        "plt.legend();"
      ],
      "metadata": {
        "colab": {
          "base_uri": "https://localhost:8080/",
          "height": 599
        },
        "id": "iRqMSVuF7HdJ",
        "outputId": "b45c6bb3-1ae9-4f69-b809-8e48d7b1fbe4"
      },
      "execution_count": 10,
      "outputs": [
        {
          "output_type": "display_data",
          "data": {
            "text/plain": [
              "<Figure size 1000x700 with 1 Axes>"
            ],
            "image/png": "[encoded data removed]"
          },
          "metadata": {}
        }
      ]
    },
    {
      "cell_type": "code",
      "source": [
        "#Train the model , exactly same as earlier\n",
        "\n",
        "#set seed\n",
        "tf.random.set_seed(42)\n",
        "\n",
        "# create model\n",
        "#input_shape should be equal to X_train.ndim\n",
        "model = tf.keras.Sequential([\n",
        "    tf.keras.layers.Dense(1,input_shape=[1])\n",
        "]\n",
        ")\n",
        "# compile the model\n",
        "model.compile(loss=tf.keras.losses.mae\n",
        "              ,optimizer=tf.keras.optimizers.SGD()\n",
        "              ,metrics=[\"mae\"])\n",
        "\n",
        "#fit the model\n",
        "model.fit(tf.expand_dims(X_train,axis=-1),y_train,epochs=100)"
      ],
      "metadata": {
        "colab": {
          "base_uri": "https://localhost:8080/"
        },
        "id": "O34hO_cX7l8U",
        "outputId": "5428ec9f-d763-4bbd-8a4b-50766017699d"
      },
      "execution_count": 11,
      "outputs": [
        {
          "output_type": "stream",
          "name": "stdout",
          "text": [
            "Epoch 1/100\n",
            "2/2 [==============================] - 1s 17ms/step - loss: 33.2863 - mae: 33.2863\n",
            "Epoch 2/100\n",
            "2/2 [==============================] - 0s 10ms/step - loss: 8.5832 - mae: 8.5832\n",
            "Epoch 3/100\n",
            "2/2 [==============================] - 0s 15ms/step - loss: 13.8657 - mae: 13.8657\n",
            "Epoch 4/100\n",
            "2/2 [==============================] - 0s 15ms/step - loss: 7.5805 - mae: 7.5805\n",
            "Epoch 5/100\n",
            "2/2 [==============================] - 0s 9ms/step - loss: 11.9902 - mae: 11.9902\n",
            "Epoch 6/100\n",
            "2/2 [==============================] - 0s 19ms/step - loss: 9.2768 - mae: 9.2768\n",
            "Epoch 7/100\n",
            "2/2 [==============================] - 0s 16ms/step - loss: 8.4426 - mae: 8.4426\n",
            "Epoch 8/100\n",
            "2/2 [==============================] - 0s 24ms/step - loss: 9.0375 - mae: 9.0375\n",
            "Epoch 9/100\n",
            "2/2 [==============================] - 0s 30ms/step - loss: 18.4238 - mae: 18.4238\n",
            "Epoch 10/100\n",
            "2/2 [==============================] - 0s 39ms/step - loss: 9.9349 - mae: 9.9349\n",
            "Epoch 11/100\n",
            "2/2 [==============================] - 0s 29ms/step - loss: 8.3308 - mae: 8.3308\n",
            "Epoch 12/100\n",
            "2/2 [==============================] - 0s 19ms/step - loss: 10.5212 - mae: 10.5212\n",
            "Epoch 13/100\n",
            "2/2 [==============================] - 0s 14ms/step - loss: 9.7435 - mae: 9.7435\n",
            "Epoch 14/100\n",
            "2/2 [==============================] - 0s 16ms/step - loss: 15.6604 - mae: 15.6604\n",
            "Epoch 15/100\n",
            "2/2 [==============================] - 0s 15ms/step - loss: 11.6866 - mae: 11.6866\n",
            "Epoch 16/100\n",
            "2/2 [==============================] - 0s 14ms/step - loss: 8.4610 - mae: 8.4610\n",
            "Epoch 17/100\n",
            "2/2 [==============================] - 0s 20ms/step - loss: 13.4490 - mae: 13.4490\n",
            "Epoch 18/100\n",
            "2/2 [==============================] - 0s 14ms/step - loss: 11.2296 - mae: 11.2296\n",
            "Epoch 19/100\n",
            "2/2 [==============================] - 0s 14ms/step - loss: 18.3014 - mae: 18.3014\n",
            "Epoch 20/100\n",
            "2/2 [==============================] - 0s 13ms/step - loss: 15.0074 - mae: 15.0074\n",
            "Epoch 21/100\n",
            "2/2 [==============================] - 0s 16ms/step - loss: 10.8793 - mae: 10.8793\n",
            "Epoch 22/100\n",
            "2/2 [==============================] - 0s 17ms/step - loss: 8.6340 - mae: 8.6340\n",
            "Epoch 23/100\n",
            "2/2 [==============================] - 0s 22ms/step - loss: 9.6893 - mae: 9.6893\n",
            "Epoch 24/100\n",
            "2/2 [==============================] - 0s 19ms/step - loss: 8.5845 - mae: 8.5845\n",
            "Epoch 25/100\n",
            "2/2 [==============================] - 0s 14ms/step - loss: 11.5923 - mae: 11.5923\n",
            "Epoch 26/100\n",
            "2/2 [==============================] - 0s 12ms/step - loss: 15.1439 - mae: 15.1439\n",
            "Epoch 27/100\n",
            "2/2 [==============================] - 0s 15ms/step - loss: 12.0357 - mae: 12.0357\n",
            "Epoch 28/100\n",
            "2/2 [==============================] - 0s 11ms/step - loss: 13.3235 - mae: 13.3235\n",
            "Epoch 29/100\n",
            "2/2 [==============================] - 0s 11ms/step - loss: 9.5984 - mae: 9.5984\n",
            "Epoch 30/100\n",
            "2/2 [==============================] - 0s 15ms/step - loss: 17.0938 - mae: 17.0938\n",
            "Epoch 31/100\n",
            "2/2 [==============================] - 0s 17ms/step - loss: 22.9613 - mae: 22.9613\n",
            "Epoch 32/100\n",
            "2/2 [==============================] - 0s 18ms/step - loss: 7.5551 - mae: 7.5551\n",
            "Epoch 33/100\n",
            "2/2 [==============================] - 0s 17ms/step - loss: 15.4340 - mae: 15.4340\n",
            "Epoch 34/100\n",
            "2/2 [==============================] - 0s 8ms/step - loss: 13.3618 - mae: 13.3618\n",
            "Epoch 35/100\n",
            "2/2 [==============================] - 0s 12ms/step - loss: 7.9821 - mae: 7.9821\n",
            "Epoch 36/100\n",
            "2/2 [==============================] - 0s 8ms/step - loss: 9.9864 - mae: 9.9864\n",
            "Epoch 37/100\n",
            "2/2 [==============================] - 0s 8ms/step - loss: 9.7364 - mae: 9.7364\n",
            "Epoch 38/100\n",
            "2/2 [==============================] - 0s 8ms/step - loss: 10.6027 - mae: 10.6027\n",
            "Epoch 39/100\n",
            "2/2 [==============================] - 0s 10ms/step - loss: 15.6762 - mae: 15.6762\n",
            "Epoch 40/100\n",
            "2/2 [==============================] - 0s 29ms/step - loss: 13.4255 - mae: 13.4255\n",
            "Epoch 41/100\n",
            "2/2 [==============================] - 0s 13ms/step - loss: 9.2843 - mae: 9.2843\n",
            "Epoch 42/100\n",
            "2/2 [==============================] - 0s 12ms/step - loss: 11.0014 - mae: 11.0014\n",
            "Epoch 43/100\n",
            "2/2 [==============================] - 0s 23ms/step - loss: 8.3355 - mae: 8.3355\n",
            "Epoch 44/100\n",
            "2/2 [==============================] - 0s 18ms/step - loss: 13.0417 - mae: 13.0417\n",
            "Epoch 45/100\n",
            "2/2 [==============================] - 0s 8ms/step - loss: 13.6850 - mae: 13.6850\n",
            "Epoch 46/100\n",
            "2/2 [==============================] - 0s 8ms/step - loss: 8.2928 - mae: 8.2928\n",
            "Epoch 47/100\n",
            "2/2 [==============================] - 0s 23ms/step - loss: 8.7236 - mae: 8.7236\n",
            "Epoch 48/100\n",
            "2/2 [==============================] - 0s 19ms/step - loss: 10.0225 - mae: 10.0225\n",
            "Epoch 49/100\n",
            "2/2 [==============================] - 0s 14ms/step - loss: 8.5084 - mae: 8.5084\n",
            "Epoch 50/100\n",
            "2/2 [==============================] - 0s 15ms/step - loss: 9.0129 - mae: 9.0129\n",
            "Epoch 51/100\n",
            "2/2 [==============================] - 0s 13ms/step - loss: 9.3745 - mae: 9.3745\n",
            "Epoch 52/100\n",
            "2/2 [==============================] - 0s 7ms/step - loss: 14.1615 - mae: 14.1615\n",
            "Epoch 53/100\n",
            "2/2 [==============================] - 0s 8ms/step - loss: 14.8939 - mae: 14.8939\n",
            "Epoch 54/100\n",
            "2/2 [==============================] - 0s 8ms/step - loss: 14.8336 - mae: 14.8336\n",
            "Epoch 55/100\n",
            "2/2 [==============================] - 0s 8ms/step - loss: 12.6158 - mae: 12.6158\n",
            "Epoch 56/100\n",
            "2/2 [==============================] - 0s 13ms/step - loss: 7.6013 - mae: 7.6013\n",
            "Epoch 57/100\n",
            "2/2 [==============================] - 0s 10ms/step - loss: 8.7878 - mae: 8.7878\n",
            "Epoch 58/100\n",
            "2/2 [==============================] - 0s 13ms/step - loss: 8.3775 - mae: 8.3775\n",
            "Epoch 59/100\n",
            "2/2 [==============================] - 0s 11ms/step - loss: 9.1727 - mae: 9.1727\n",
            "Epoch 60/100\n",
            "2/2 [==============================] - 0s 17ms/step - loss: 9.1168 - mae: 9.1168\n",
            "Epoch 61/100\n",
            "2/2 [==============================] - 0s 11ms/step - loss: 10.6531 - mae: 10.6531\n",
            "Epoch 62/100\n",
            "2/2 [==============================] - 0s 26ms/step - loss: 7.4403 - mae: 7.4403\n",
            "Epoch 63/100\n",
            "2/2 [==============================] - 0s 18ms/step - loss: 10.5369 - mae: 10.5369\n",
            "Epoch 64/100\n",
            "2/2 [==============================] - 0s 10ms/step - loss: 12.1476 - mae: 12.1476\n",
            "Epoch 65/100\n",
            "2/2 [==============================] - 0s 22ms/step - loss: 9.4679 - mae: 9.4679\n",
            "Epoch 66/100\n",
            "2/2 [==============================] - 0s 11ms/step - loss: 11.5549 - mae: 11.5549\n",
            "Epoch 67/100\n",
            "2/2 [==============================] - 0s 12ms/step - loss: 8.0218 - mae: 8.0218\n",
            "Epoch 68/100\n",
            "2/2 [==============================] - 0s 11ms/step - loss: 8.5567 - mae: 8.5567\n",
            "Epoch 69/100\n",
            "2/2 [==============================] - 0s 11ms/step - loss: 12.2210 - mae: 12.2210\n",
            "Epoch 70/100\n",
            "2/2 [==============================] - 0s 10ms/step - loss: 8.9384 - mae: 8.9384\n",
            "Epoch 71/100\n",
            "2/2 [==============================] - 0s 10ms/step - loss: 9.9112 - mae: 9.9112\n",
            "Epoch 72/100\n",
            "2/2 [==============================] - 0s 11ms/step - loss: 9.9554 - mae: 9.9554\n",
            "Epoch 73/100\n",
            "2/2 [==============================] - 0s 18ms/step - loss: 12.4028 - mae: 12.4028\n",
            "Epoch 74/100\n",
            "2/2 [==============================] - 0s 11ms/step - loss: 10.6157 - mae: 10.6157\n",
            "Epoch 75/100\n",
            "2/2 [==============================] - 0s 10ms/step - loss: 9.6117 - mae: 9.6117\n",
            "Epoch 76/100\n",
            "2/2 [==============================] - 0s 10ms/step - loss: 11.0698 - mae: 11.0698\n",
            "Epoch 77/100\n",
            "2/2 [==============================] - 0s 10ms/step - loss: 8.2617 - mae: 8.2617\n",
            "Epoch 78/100\n",
            "2/2 [==============================] - 0s 18ms/step - loss: 8.9366 - mae: 8.9366\n",
            "Epoch 79/100\n",
            "2/2 [==============================] - 0s 15ms/step - loss: 19.8492 - mae: 19.8492\n",
            "Epoch 80/100\n",
            "2/2 [==============================] - 0s 12ms/step - loss: 17.7702 - mae: 17.7702\n",
            "Epoch 81/100\n",
            "2/2 [==============================] - 0s 11ms/step - loss: 7.1020 - mae: 7.1020\n",
            "Epoch 82/100\n",
            "2/2 [==============================] - 0s 10ms/step - loss: 10.3855 - mae: 10.3855\n",
            "Epoch 83/100\n",
            "2/2 [==============================] - 0s 19ms/step - loss: 9.8031 - mae: 9.8031\n",
            "Epoch 84/100\n",
            "2/2 [==============================] - 0s 11ms/step - loss: 7.9537 - mae: 7.9537\n",
            "Epoch 85/100\n",
            "2/2 [==============================] - 0s 12ms/step - loss: 9.4717 - mae: 9.4717\n",
            "Epoch 86/100\n",
            "2/2 [==============================] - 0s 11ms/step - loss: 9.5129 - mae: 9.5129\n",
            "Epoch 87/100\n",
            "2/2 [==============================] - 0s 12ms/step - loss: 11.4683 - mae: 11.4683\n",
            "Epoch 88/100\n",
            "2/2 [==============================] - 0s 12ms/step - loss: 9.9660 - mae: 9.9660\n",
            "Epoch 89/100\n",
            "2/2 [==============================] - 0s 14ms/step - loss: 7.2558 - mae: 7.2558\n",
            "Epoch 90/100\n",
            "2/2 [==============================] - 0s 18ms/step - loss: 12.7324 - mae: 12.7324\n",
            "Epoch 91/100\n",
            "2/2 [==============================] - 0s 10ms/step - loss: 7.3258 - mae: 7.3258\n",
            "Epoch 92/100\n",
            "2/2 [==============================] - 0s 12ms/step - loss: 7.6919 - mae: 7.6919\n",
            "Epoch 93/100\n",
            "2/2 [==============================] - 0s 9ms/step - loss: 7.1186 - mae: 7.1186\n",
            "Epoch 94/100\n",
            "2/2 [==============================] - 0s 10ms/step - loss: 12.5765 - mae: 12.5765\n",
            "Epoch 95/100\n",
            "2/2 [==============================] - 0s 12ms/step - loss: 9.9511 - mae: 9.9511\n",
            "Epoch 96/100\n",
            "2/2 [==============================] - 0s 10ms/step - loss: 9.1276 - mae: 9.1276\n",
            "Epoch 97/100\n",
            "2/2 [==============================] - 0s 10ms/step - loss: 12.0530 - mae: 12.0530\n",
            "Epoch 98/100\n",
            "2/2 [==============================] - 0s 8ms/step - loss: 9.0973 - mae: 9.0973\n",
            "Epoch 99/100\n",
            "2/2 [==============================] - 0s 11ms/step - loss: 8.4903 - mae: 8.4903\n",
            "Epoch 100/100\n",
            "2/2 [==============================] - 0s 10ms/step - loss: 14.4184 - mae: 14.4184\n"
          ]
        },
        {
          "output_type": "execute_result",
          "data": {
            "text/plain": [
              "<keras.callbacks.History at 0x7f6e5bdec5e0>"
            ]
          },
          "metadata": {},
          "execution_count": 11
        }
      ]
    },
    {
      "cell_type": "markdown",
      "source": [
        "Visualizing the model"
      ],
      "metadata": {
        "id": "vL36XtaM8iK9"
      }
    },
    {
      "cell_type": "code",
      "source": [
        "model.summary()"
      ],
      "metadata": {
        "colab": {
          "base_uri": "https://localhost:8080/"
        },
        "id": "lbSGI90x8eTH",
        "outputId": "7a3646a6-73e3-494f-8c66-a52f5239482b"
      },
      "execution_count": 12,
      "outputs": [
        {
          "output_type": "stream",
          "name": "stdout",
          "text": [
            "Model: \"sequential_2\"\n",
            "_________________________________________________________________\n",
            " Layer (type)                Output Shape              Param #   \n",
            "=================================================================\n",
            " dense_2 (Dense)             (None, 1)                 2         \n",
            "                                                                 \n",
            "=================================================================\n",
            "Total params: 2\n",
            "Trainable params: 2\n",
            "Non-trainable params: 0\n",
            "_________________________________________________________________\n"
          ]
        }
      ]
    },
    {
      "cell_type": "code",
      "source": [
        "from tensorflow.keras.utils import plot_model\n",
        "plot_model(model,show_shapes=True)"
      ],
      "metadata": {
        "colab": {
          "base_uri": "https://localhost:8080/",
          "height": 201
        },
        "id": "e_-ox7M38ySy",
        "outputId": "084ab1fe-eea1-4baa-ee29-75d9ed65aa4e"
      },
      "execution_count": 13,
      "outputs": [
        {
          "output_type": "execute_result",
          "data": {
            "image/png": "[encoded data removed]",
            "text/plain": [
              "<IPython.core.display.Image object>"
            ]
          },
          "metadata": {},
          "execution_count": 13
        }
      ]
    },
    {
      "cell_type": "code",
      "source": [
        "y_preds = model.predict(X_test)\n",
        "y_preds"
      ],
      "metadata": {
        "colab": {
          "base_uri": "https://localhost:8080/"
        },
        "id": "P4gjxb0p9rrF",
        "outputId": "22c536f6-d4dc-4e74-bedb-e81d9aed1d50"
      },
      "execution_count": 14,
      "outputs": [
        {
          "output_type": "stream",
          "name": "stdout",
          "text": [
            "1/1 [==============================] - 0s 138ms/step\n"
          ]
        },
        {
          "output_type": "execute_result",
          "data": {
            "text/plain": [
              "array([[44.376244],\n",
              "       [47.248035],\n",
              "       [50.119827],\n",
              "       [52.99162 ],\n",
              "       [55.86341 ],\n",
              "       [58.735203],\n",
              "       [61.60699 ],\n",
              "       [64.47878 ],\n",
              "       [67.35058 ],\n",
              "       [70.22237 ]], dtype=float32)"
            ]
          },
          "metadata": {},
          "execution_count": 14
        }
      ]
    },
    {
      "cell_type": "code",
      "source": [
        "# Function to plot predictions\n",
        "def plot_predictions(train_data=X_train\n",
        "                     ,train_label=y_train\n",
        "                     ,test_data=X_test\n",
        "                     ,test_label=y_test\n",
        "                     ,predictions=y_preds):\n",
        "\n",
        "  plt.figure(figsize=(10,7))\n",
        "\n",
        "  #Plot the training data\n",
        "  plt.scatter(train_data,train_label,c='b',label=\"Training data\")\n",
        "  #Plot the test data\n",
        "  plt.scatter(test_data,test_label,c='g',label=\"Test data\")\n",
        "  #Plot the training data\n",
        "  plt.scatter(test_data,predictions,c='r',label=\"Predictions\")\n",
        "  #Show legend\n",
        "  plt.legend();\n",
        "\n",
        "plot_predictions()"
      ],
      "metadata": {
        "colab": {
          "base_uri": "https://localhost:8080/",
          "height": 599
        },
        "id": "yqZBqoU3-vMu",
        "outputId": "757875cf-fe51-47d1-f0fc-b512549363a0"
      },
      "execution_count": 15,
      "outputs": [
        {
          "output_type": "display_data",
          "data": {
            "text/plain": [
              "<Figure size 1000x700 with 1 Axes>"
            ],
            "image/png": "[encoded data removed]"
          },
          "metadata": {}
        }
      ]
    },
    {
      "cell_type": "markdown",
      "source": [
        "## Evaluate Predictions\n",
        "Two main metrics for regression problems\n",
        "1. MAE (Mean Absolute Error) : the mean difference between each of the predictions.\n",
        "2. MSE (Mean Squared Error) : the squared mean difference between the predictions."
      ],
      "metadata": {
        "id": "lN0Dpyt_CBrv"
      }
    },
    {
      "cell_type": "code",
      "source": [
        "model.evaluate(X_test,y_test)"
      ],
      "metadata": {
        "colab": {
          "base_uri": "https://localhost:8080/"
        },
        "id": "Glmfogjg_ngt",
        "outputId": "cfb1bd0f-9b28-421f-8b46-8f7908abc09b"
      },
      "execution_count": 16,
      "outputs": [
        {
          "output_type": "stream",
          "name": "stdout",
          "text": [
            "1/1 [==============================] - 1s 712ms/step - loss: 30.7007 - mae: 30.7007\n"
          ]
        },
        {
          "output_type": "execute_result",
          "data": {
            "text/plain": [
              "[30.700693130493164, 30.700693130493164]"
            ]
          },
          "metadata": {},
          "execution_count": 16
        }
      ]
    },
    {
      "cell_type": "code",
      "source": [
        "mae = tf.metrics.mean_absolute_error(y_true=y_test\n",
        "                                     ,y_pred=y_preds)\n",
        "mae"
      ],
      "metadata": {
        "colab": {
          "base_uri": "https://localhost:8080/"
        },
        "id": "STD0UGJACkT5",
        "outputId": "bf940baf-fd55-4a4b-d38f-20629259e23e"
      },
      "execution_count": 17,
      "outputs": [
        {
          "output_type": "execute_result",
          "data": {
            "text/plain": [
              "<tf.Tensor: shape=(10,), dtype=float32, numpy=\n",
              "array([43.623756, 40.751965, 37.880173, 35.00838 , 32.13659 , 29.264797,\n",
              "       26.39301 , 23.521217, 20.649422, 17.822107], dtype=float32)>"
            ]
          },
          "metadata": {},
          "execution_count": 17
        }
      ]
    },
    {
      "cell_type": "markdown",
      "source": [
        "Since the shape of y_preds & y_test are different, the `tf.metrics.mean_absolute_error` responded with an array, where as we expect a single value\n"
      ],
      "metadata": {
        "id": "auCsNamGDI7K"
      }
    },
    {
      "cell_type": "code",
      "source": [
        "y_test.shape, y_preds.shape"
      ],
      "metadata": {
        "colab": {
          "base_uri": "https://localhost:8080/"
        },
        "id": "S5vQGAebDC_q",
        "outputId": "b2c24bd7-b19c-487d-bdde-eacf83e00c0a"
      },
      "execution_count": 18,
      "outputs": [
        {
          "output_type": "execute_result",
          "data": {
            "text/plain": [
              "((10,), (10, 1))"
            ]
          },
          "metadata": {},
          "execution_count": 18
        }
      ]
    },
    {
      "cell_type": "code",
      "source": [
        "y_test.shape, y_preds.squeeze().shape"
      ],
      "metadata": {
        "colab": {
          "base_uri": "https://localhost:8080/"
        },
        "id": "Z6lRFKvrDe20",
        "outputId": "1be0cfbb-84b6-41bd-e242-6c7eed13ce7f"
      },
      "execution_count": 19,
      "outputs": [
        {
          "output_type": "execute_result",
          "data": {
            "text/plain": [
              "((10,), (10,))"
            ]
          },
          "metadata": {},
          "execution_count": 19
        }
      ]
    },
    {
      "cell_type": "code",
      "source": [
        "mae = tf.metrics.mean_absolute_error(y_true=y_test\n",
        "                                     ,y_pred=y_preds.squeeze())\n",
        "mae"
      ],
      "metadata": {
        "colab": {
          "base_uri": "https://localhost:8080/"
        },
        "id": "UiLjdGBfDjuM",
        "outputId": "d40923be-fd8e-40bc-f1bc-97b28953d14b"
      },
      "execution_count": 20,
      "outputs": [
        {
          "output_type": "execute_result",
          "data": {
            "text/plain": [
              "<tf.Tensor: shape=(), dtype=float32, numpy=30.700693>"
            ]
          },
          "metadata": {},
          "execution_count": 20
        }
      ]
    },
    {
      "cell_type": "code",
      "source": [
        "mse = tf.metrics.mean_squared_error(y_true=y_test\n",
        "                                    ,y_pred=y_preds.squeeze())\n",
        "mse"
      ],
      "metadata": {
        "colab": {
          "base_uri": "https://localhost:8080/"
        },
        "id": "ike2KmRIDroi",
        "outputId": "eea34522-3b11-4276-b8f5-18519296849f"
      },
      "execution_count": 21,
      "outputs": [
        {
          "output_type": "execute_result",
          "data": {
            "text/plain": [
              "<tf.Tensor: shape=(), dtype=float32, numpy=953.0337>"
            ]
          },
          "metadata": {},
          "execution_count": 21
        }
      ]
    },
    {
      "cell_type": "markdown",
      "source": [
        "## Running Experiments to improve the model\n",
        "1. model_1 : Same model architecture trained for 100 epochs\n",
        "2. model_2 : 2 layers trained for 100 epochs\n",
        "3. model_1 : 2 layers trained for 500 epochs"
      ],
      "metadata": {
        "id": "JZ2PSUEp-KVw"
      }
    },
    {
      "cell_type": "code",
      "source": [
        "#model_1\n",
        "tf.random.set_seed(42)\n",
        "model_1 = tf.keras.Sequential([\n",
        "    tf.keras.layers.Dense(1)\n",
        "])\n",
        "model_1.compile(loss=tf.keras.losses.mae\n",
        "                ,optimizer=tf.keras.optimizers.SGD()\n",
        "                ,metrics=['mae'])\n",
        "\n",
        "model_1.fit(tf.expand_dims(X_train,axis=-1),y_train,epochs=100)"
      ],
      "metadata": {
        "colab": {
          "base_uri": "https://localhost:8080/"
        },
        "id": "UOGAFzF4-KGS",
        "outputId": "d7878524-35dd-4be6-ed65-09c8ba97bd02"
      },
      "execution_count": 22,
      "outputs": [
        {
          "output_type": "stream",
          "name": "stdout",
          "text": [
            "Epoch 1/100\n",
            "2/2 [==============================] - 1s 16ms/step - loss: 20.7551 - mae: 20.7551\n",
            "Epoch 2/100\n",
            "2/2 [==============================] - 0s 12ms/step - loss: 10.4669 - mae: 10.4669\n",
            "Epoch 3/100\n",
            "2/2 [==============================] - 0s 12ms/step - loss: 10.8979 - mae: 10.8979\n",
            "Epoch 4/100\n",
            "2/2 [==============================] - 0s 12ms/step - loss: 9.4182 - mae: 9.4182\n",
            "Epoch 5/100\n",
            "2/2 [==============================] - 0s 15ms/step - loss: 10.3060 - mae: 10.3060\n",
            "Epoch 6/100\n",
            "2/2 [==============================] - 0s 25ms/step - loss: 9.5512 - mae: 9.5512\n",
            "Epoch 7/100\n",
            "2/2 [==============================] - 0s 23ms/step - loss: 8.6707 - mae: 8.6707\n",
            "Epoch 8/100\n",
            "2/2 [==============================] - 0s 26ms/step - loss: 9.0477 - mae: 9.0477\n",
            "Epoch 9/100\n",
            "2/2 [==============================] - 0s 11ms/step - loss: 19.0125 - mae: 19.0125\n",
            "Epoch 10/100\n",
            "2/2 [==============================] - 0s 17ms/step - loss: 10.2556 - mae: 10.2556\n",
            "Epoch 11/100\n",
            "2/2 [==============================] - 0s 18ms/step - loss: 8.4500 - mae: 8.4500\n",
            "Epoch 12/100\n",
            "2/2 [==============================] - 0s 15ms/step - loss: 10.7760 - mae: 10.7760\n",
            "Epoch 13/100\n",
            "2/2 [==============================] - 0s 22ms/step - loss: 9.8444 - mae: 9.8444\n",
            "Epoch 14/100\n",
            "2/2 [==============================] - 0s 14ms/step - loss: 11.9990 - mae: 11.9990\n",
            "Epoch 15/100\n",
            "2/2 [==============================] - 0s 16ms/step - loss: 12.4903 - mae: 12.4903\n",
            "Epoch 16/100\n",
            "2/2 [==============================] - 0s 14ms/step - loss: 7.9005 - mae: 7.9005\n",
            "Epoch 17/100\n",
            "2/2 [==============================] - 0s 37ms/step - loss: 12.8069 - mae: 12.8069\n",
            "Epoch 18/100\n",
            "2/2 [==============================] - 0s 15ms/step - loss: 10.4306 - mae: 10.4306\n",
            "Epoch 19/100\n",
            "2/2 [==============================] - 0s 14ms/step - loss: 19.2765 - mae: 19.2765\n",
            "Epoch 20/100\n",
            "2/2 [==============================] - 0s 22ms/step - loss: 15.9390 - mae: 15.9390\n",
            "Epoch 21/100\n",
            "2/2 [==============================] - 0s 24ms/step - loss: 11.8604 - mae: 11.8604\n",
            "Epoch 22/100\n",
            "2/2 [==============================] - 0s 11ms/step - loss: 8.4671 - mae: 8.4671\n",
            "Epoch 23/100\n",
            "2/2 [==============================] - 0s 19ms/step - loss: 9.7972 - mae: 9.7972\n",
            "Epoch 24/100\n",
            "2/2 [==============================] - 0s 25ms/step - loss: 10.8280 - mae: 10.8280\n",
            "Epoch 25/100\n",
            "2/2 [==============================] - 0s 27ms/step - loss: 9.1014 - mae: 9.1014\n",
            "Epoch 26/100\n",
            "2/2 [==============================] - 0s 10ms/step - loss: 13.0569 - mae: 13.0569\n",
            "Epoch 27/100\n",
            "2/2 [==============================] - 0s 11ms/step - loss: 10.3907 - mae: 10.3907\n",
            "Epoch 28/100\n",
            "2/2 [==============================] - 0s 8ms/step - loss: 13.3952 - mae: 13.3952\n",
            "Epoch 29/100\n",
            "2/2 [==============================] - 0s 10ms/step - loss: 9.6022 - mae: 9.6022\n",
            "Epoch 30/100\n",
            "2/2 [==============================] - 0s 9ms/step - loss: 17.2150 - mae: 17.2150\n",
            "Epoch 31/100\n",
            "2/2 [==============================] - 0s 8ms/step - loss: 22.8416 - mae: 22.8416\n",
            "Epoch 32/100\n",
            "2/2 [==============================] - 0s 8ms/step - loss: 7.9052 - mae: 7.9052\n",
            "Epoch 33/100\n",
            "2/2 [==============================] - 0s 10ms/step - loss: 14.1467 - mae: 14.1467\n",
            "Epoch 34/100\n",
            "2/2 [==============================] - 0s 16ms/step - loss: 12.3955 - mae: 12.3955\n",
            "Epoch 35/100\n",
            "2/2 [==============================] - 0s 9ms/step - loss: 8.2439 - mae: 8.2439\n",
            "Epoch 36/100\n",
            "2/2 [==============================] - 0s 16ms/step - loss: 10.4581 - mae: 10.4581\n",
            "Epoch 37/100\n",
            "2/2 [==============================] - 0s 9ms/step - loss: 10.1063 - mae: 10.1063\n",
            "Epoch 38/100\n",
            "2/2 [==============================] - 0s 25ms/step - loss: 11.2907 - mae: 11.2907\n",
            "Epoch 39/100\n",
            "2/2 [==============================] - 0s 11ms/step - loss: 14.7683 - mae: 14.7683\n",
            "Epoch 40/100\n",
            "2/2 [==============================] - 0s 10ms/step - loss: 12.8984 - mae: 12.8984\n",
            "Epoch 41/100\n",
            "2/2 [==============================] - 0s 12ms/step - loss: 9.2904 - mae: 9.2904\n",
            "Epoch 42/100\n",
            "2/2 [==============================] - 0s 23ms/step - loss: 10.9760 - mae: 10.9760\n",
            "Epoch 43/100\n",
            "2/2 [==============================] - 0s 11ms/step - loss: 8.3200 - mae: 8.3200\n",
            "Epoch 44/100\n",
            "2/2 [==============================] - 0s 11ms/step - loss: 13.0128 - mae: 13.0128\n",
            "Epoch 45/100\n",
            "2/2 [==============================] - 0s 15ms/step - loss: 13.6922 - mae: 13.6922\n",
            "Epoch 46/100\n",
            "2/2 [==============================] - 0s 23ms/step - loss: 8.3925 - mae: 8.3925\n",
            "Epoch 47/100\n",
            "2/2 [==============================] - 0s 16ms/step - loss: 9.1678 - mae: 9.1678\n",
            "Epoch 48/100\n",
            "2/2 [==============================] - 0s 9ms/step - loss: 10.6754 - mae: 10.6754\n",
            "Epoch 49/100\n",
            "2/2 [==============================] - 0s 14ms/step - loss: 7.7798 - mae: 7.7798\n",
            "Epoch 50/100\n",
            "2/2 [==============================] - 0s 13ms/step - loss: 9.5918 - mae: 9.5918\n",
            "Epoch 51/100\n",
            "2/2 [==============================] - 0s 11ms/step - loss: 9.1619 - mae: 9.1619\n",
            "Epoch 52/100\n",
            "2/2 [==============================] - 0s 14ms/step - loss: 16.4930 - mae: 16.4930\n",
            "Epoch 53/100\n",
            "2/2 [==============================] - 0s 18ms/step - loss: 14.0638 - mae: 14.0638\n",
            "Epoch 54/100\n",
            "2/2 [==============================] - 0s 9ms/step - loss: 20.9712 - mae: 20.9712\n",
            "Epoch 55/100\n",
            "2/2 [==============================] - 0s 10ms/step - loss: 16.5114 - mae: 16.5114\n",
            "Epoch 56/100\n",
            "2/2 [==============================] - 0s 9ms/step - loss: 9.8389 - mae: 9.8389\n",
            "Epoch 57/100\n",
            "2/2 [==============================] - 0s 9ms/step - loss: 9.6588 - mae: 9.6588\n",
            "Epoch 58/100\n",
            "2/2 [==============================] - 0s 9ms/step - loss: 8.9750 - mae: 8.9750\n",
            "Epoch 59/100\n",
            "2/2 [==============================] - 0s 8ms/step - loss: 10.1903 - mae: 10.1903\n",
            "Epoch 60/100\n",
            "2/2 [==============================] - 0s 11ms/step - loss: 8.3990 - mae: 8.3990\n",
            "Epoch 61/100\n",
            "2/2 [==============================] - 0s 11ms/step - loss: 9.2320 - mae: 9.2320\n",
            "Epoch 62/100\n",
            "2/2 [==============================] - 0s 11ms/step - loss: 7.2651 - mae: 7.2651\n",
            "Epoch 63/100\n",
            "2/2 [==============================] - 0s 12ms/step - loss: 8.1712 - mae: 8.1712\n",
            "Epoch 64/100\n",
            "2/2 [==============================] - 0s 14ms/step - loss: 12.5373 - mae: 12.5373\n",
            "Epoch 65/100\n",
            "2/2 [==============================] - 0s 16ms/step - loss: 10.6153 - mae: 10.6153\n",
            "Epoch 66/100\n",
            "2/2 [==============================] - 0s 33ms/step - loss: 15.4591 - mae: 15.4591\n",
            "Epoch 67/100\n",
            "2/2 [==============================] - 0s 17ms/step - loss: 9.8997 - mae: 9.8997\n",
            "Epoch 68/100\n",
            "2/2 [==============================] - 0s 11ms/step - loss: 8.6703 - mae: 8.6703\n",
            "Epoch 69/100\n",
            "2/2 [==============================] - 0s 15ms/step - loss: 13.3326 - mae: 13.3326\n",
            "Epoch 70/100\n",
            "2/2 [==============================] - 0s 10ms/step - loss: 7.4618 - mae: 7.4618\n",
            "Epoch 71/100\n",
            "2/2 [==============================] - 0s 20ms/step - loss: 12.3422 - mae: 12.3422\n",
            "Epoch 72/100\n",
            "2/2 [==============================] - 0s 23ms/step - loss: 8.4449 - mae: 8.4449\n",
            "Epoch 73/100\n",
            "2/2 [==============================] - 0s 50ms/step - loss: 6.8673 - mae: 6.8673\n",
            "Epoch 74/100\n",
            "2/2 [==============================] - 0s 28ms/step - loss: 11.0476 - mae: 11.0476\n",
            "Epoch 75/100\n",
            "2/2 [==============================] - 0s 19ms/step - loss: 9.4076 - mae: 9.4076\n",
            "Epoch 76/100\n",
            "2/2 [==============================] - 0s 25ms/step - loss: 10.8629 - mae: 10.8629\n",
            "Epoch 77/100\n",
            "2/2 [==============================] - 0s 17ms/step - loss: 14.8089 - mae: 14.8089\n",
            "Epoch 78/100\n",
            "2/2 [==============================] - 0s 24ms/step - loss: 10.8742 - mae: 10.8742\n",
            "Epoch 79/100\n",
            "2/2 [==============================] - 0s 21ms/step - loss: 15.3232 - mae: 15.3232\n",
            "Epoch 80/100\n",
            "2/2 [==============================] - 0s 18ms/step - loss: 11.7625 - mae: 11.7625\n",
            "Epoch 81/100\n",
            "2/2 [==============================] - 0s 17ms/step - loss: 9.1995 - mae: 9.1995\n",
            "Epoch 82/100\n",
            "2/2 [==============================] - 0s 20ms/step - loss: 12.8556 - mae: 12.8556\n",
            "Epoch 83/100\n",
            "2/2 [==============================] - 0s 9ms/step - loss: 10.3102 - mae: 10.3102\n",
            "Epoch 84/100\n",
            "2/2 [==============================] - 0s 9ms/step - loss: 10.5833 - mae: 10.5833\n",
            "Epoch 85/100\n",
            "2/2 [==============================] - 0s 11ms/step - loss: 9.2981 - mae: 9.2981\n",
            "Epoch 86/100\n",
            "2/2 [==============================] - 0s 26ms/step - loss: 9.1521 - mae: 9.1521\n",
            "Epoch 87/100\n",
            "2/2 [==============================] - 0s 28ms/step - loss: 11.8741 - mae: 11.8741\n",
            "Epoch 88/100\n",
            "2/2 [==============================] - 0s 18ms/step - loss: 10.4836 - mae: 10.4836\n",
            "Epoch 89/100\n",
            "2/2 [==============================] - 0s 20ms/step - loss: 6.9685 - mae: 6.9685\n",
            "Epoch 90/100\n",
            "2/2 [==============================] - 0s 26ms/step - loss: 13.8126 - mae: 13.8126\n",
            "Epoch 91/100\n",
            "2/2 [==============================] - 0s 26ms/step - loss: 7.8808 - mae: 7.8808\n",
            "Epoch 92/100\n",
            "2/2 [==============================] - 0s 23ms/step - loss: 7.4501 - mae: 7.4501\n",
            "Epoch 93/100\n",
            "2/2 [==============================] - 0s 15ms/step - loss: 9.1550 - mae: 9.1550\n",
            "Epoch 94/100\n",
            "2/2 [==============================] - 0s 36ms/step - loss: 8.5585 - mae: 8.5585\n",
            "Epoch 95/100\n",
            "2/2 [==============================] - 0s 28ms/step - loss: 11.5026 - mae: 11.5026\n",
            "Epoch 96/100\n",
            "2/2 [==============================] - 0s 28ms/step - loss: 10.2849 - mae: 10.2849\n",
            "Epoch 97/100\n",
            "2/2 [==============================] - 0s 23ms/step - loss: 7.6831 - mae: 7.6831\n",
            "Epoch 98/100\n",
            "2/2 [==============================] - 0s 31ms/step - loss: 8.6176 - mae: 8.6176\n",
            "Epoch 99/100\n",
            "2/2 [==============================] - 0s 37ms/step - loss: 9.3969 - mae: 9.3969\n",
            "Epoch 100/100\n",
            "2/2 [==============================] - 0s 36ms/step - loss: 8.8407 - mae: 8.8407\n"
          ]
        },
        {
          "output_type": "execute_result",
          "data": {
            "text/plain": [
              "<keras.callbacks.History at 0x7f6e6a61fd00>"
            ]
          },
          "metadata": {},
          "execution_count": 22
        }
      ]
    },
    {
      "cell_type": "code",
      "source": [
        "# predict and plot predictions\n",
        "y_preds_1 = model_1.predict(X_test)\n",
        "plot_predictions(predictions=y_preds_1)"
      ],
      "metadata": {
        "colab": {
          "base_uri": "https://localhost:8080/",
          "height": 617
        },
        "id": "FKxqk5nWD1eI",
        "outputId": "287d4be4-bc31-41da-a536-bb9c49c60c84"
      },
      "execution_count": 23,
      "outputs": [
        {
          "output_type": "stream",
          "name": "stdout",
          "text": [
            "1/1 [==============================] - 0s 300ms/step\n"
          ]
        },
        {
          "output_type": "display_data",
          "data": {
            "text/plain": [
              "<Figure size 1000x700 with 1 Axes>"
            ],
            "image/png": "[encoded data removed]"
          },
          "metadata": {}
        }
      ]
    },
    {
      "cell_type": "code",
      "source": [
        "y_preds_1"
      ],
      "metadata": {
        "colab": {
          "base_uri": "https://localhost:8080/"
        },
        "id": "YDtvosGVKL1R",
        "outputId": "d5883a12-b3c0-472c-8fc4-c92e53162903"
      },
      "execution_count": 24,
      "outputs": [
        {
          "output_type": "execute_result",
          "data": {
            "text/plain": [
              "array([[ 74.653885],\n",
              "       [ 79.54394 ],\n",
              "       [ 84.43399 ],\n",
              "       [ 89.32404 ],\n",
              "       [ 94.21409 ],\n",
              "       [ 99.10414 ],\n",
              "       [103.994194],\n",
              "       [108.88424 ],\n",
              "       [113.77429 ],\n",
              "       [118.664345]], dtype=float32)"
            ]
          },
          "metadata": {},
          "execution_count": 24
        }
      ]
    },
    {
      "cell_type": "code",
      "source": [
        "mae_1 = tf.metrics.mean_absolute_error(y_test,y_preds_1.squeeze()).numpy()\n",
        "mse_1 = tf.metrics.mean_squared_error(y_test,y_preds_1.squeeze()).numpy()\n",
        "mae_1,mse_1"
      ],
      "metadata": {
        "colab": {
          "base_uri": "https://localhost:8080/"
        },
        "id": "Gqium0SxAEXm",
        "outputId": "d3a43cd8-ba95-4d51-9586-fff39647ff46"
      },
      "execution_count": 34,
      "outputs": [
        {
          "output_type": "execute_result",
          "data": {
            "text/plain": [
              "(8.659116, 81.515854)"
            ]
          },
          "metadata": {},
          "execution_count": 34
        }
      ]
    },
    {
      "cell_type": "code",
      "source": [
        "#model_2\n",
        "#Set seed\n",
        "tf.random.set_seed(42)\n",
        "\n",
        "#Create model\n",
        "model_2 = tf.keras.Sequential([\n",
        "    tf.keras.layers.Dense(1)\n",
        "    ,tf.keras.layers.Dense(1)\n",
        "])\n",
        "\n",
        "#Compile model\n",
        "model_2.compile(loss=tf.keras.losses.mae\n",
        "                ,optimizer=tf.keras.optimizers.SGD()\n",
        "                ,metrics=['mae'])\n",
        "\n",
        "#train the model\n",
        "model_2.fit(tf.expand_dims(X_train,axis=-1),y_train,epochs=100,verbose=0)"
      ],
      "metadata": {
        "colab": {
          "base_uri": "https://localhost:8080/"
        },
        "id": "NVx8waKWAz11",
        "outputId": "8b78c25d-e309-43eb-d4fe-88355db2f1bb"
      },
      "execution_count": 35,
      "outputs": [
        {
          "output_type": "execute_result",
          "data": {
            "text/plain": [
              "<keras.callbacks.History at 0x7f6e6a8d71f0>"
            ]
          },
          "metadata": {},
          "execution_count": 35
        }
      ]
    },
    {
      "cell_type": "code",
      "source": [
        "#model_2 predictions and plot_prediction\n",
        "y_preds_2 = model_2.predict(X_test)\n",
        "plot_predictions(predictions=y_preds_2)"
      ],
      "metadata": {
        "colab": {
          "base_uri": "https://localhost:8080/",
          "height": 617
        },
        "id": "GS8EWV8UB2vd",
        "outputId": "7f427893-599d-4920-d9dd-3ab548bb2f67"
      },
      "execution_count": 36,
      "outputs": [
        {
          "output_type": "stream",
          "name": "stdout",
          "text": [
            "1/1 [==============================] - 0s 97ms/step\n"
          ]
        },
        {
          "output_type": "display_data",
          "data": {
            "text/plain": [
              "<Figure size 1000x700 with 1 Axes>"
            ],
            "image/png": "[encoded data removed]"
          },
          "metadata": {}
        }
      ]
    },
    {
      "cell_type": "code",
      "source": [
        "y_preds_2"
      ],
      "metadata": {
        "colab": {
          "base_uri": "https://localhost:8080/"
        },
        "id": "qlNamZpVKV2s",
        "outputId": "958b7002-91d0-410c-f6db-c99b7ee24a39"
      },
      "execution_count": 37,
      "outputs": [
        {
          "output_type": "execute_result",
          "data": {
            "text/plain": [
              "array([[ 76.11385 ],\n",
              "       [ 81.06991 ],\n",
              "       [ 86.02596 ],\n",
              "       [ 90.98201 ],\n",
              "       [ 95.938065],\n",
              "       [100.89411 ],\n",
              "       [105.85017 ],\n",
              "       [110.80621 ],\n",
              "       [115.76227 ],\n",
              "       [120.71832 ]], dtype=float32)"
            ]
          },
          "metadata": {},
          "execution_count": 37
        }
      ]
    },
    {
      "cell_type": "code",
      "source": [
        "mae_2 = tf.metrics.mean_absolute_error(y_test,y_preds_2.squeeze()).numpy()\n",
        "mse_2 = tf.metrics.mean_squared_error(y_test,y_preds_2.squeeze()).numpy()\n",
        "mae_2, mse_2"
      ],
      "metadata": {
        "colab": {
          "base_uri": "https://localhost:8080/"
        },
        "id": "J4ge2B32CcEl",
        "outputId": "85301a70-501d-46b9-d7f2-4173493fb39b"
      },
      "execution_count": 38,
      "outputs": [
        {
          "output_type": "execute_result",
          "data": {
            "text/plain": [
              "(10.416088, 116.03568)"
            ]
          },
          "metadata": {},
          "execution_count": 38
        }
      ]
    },
    {
      "cell_type": "code",
      "source": [
        "#model_3\n",
        "#set seed\n",
        "tf.random.set_seed(42)\n",
        "\n",
        "#create model\n",
        "model_3 = tf.keras.Sequential([\n",
        "    tf.keras.layers.Dense(1)\n",
        "    ,tf.keras.layers.Dense(1)\n",
        "])\n",
        "\n",
        "#Compile model\n",
        "model_3.compile(loss=tf.keras.losses.mae\n",
        "              ,optimizer=tf.keras.optimizers.SGD()\n",
        "              ,metrics=['mae'])\n",
        "\n",
        "# train the model\n",
        "model_3.fit(tf.expand_dims(X_train,axis=-1),y_train,epochs=500,verbose=0)"
      ],
      "metadata": {
        "colab": {
          "base_uri": "https://localhost:8080/"
        },
        "id": "PdmDMkMfCsj4",
        "outputId": "ccd7e1c1-355b-4675-b896-29924d3899d4"
      },
      "execution_count": 39,
      "outputs": [
        {
          "output_type": "execute_result",
          "data": {
            "text/plain": [
              "<keras.callbacks.History at 0x7f6e5b3e6c50>"
            ]
          },
          "metadata": {},
          "execution_count": 39
        }
      ]
    },
    {
      "cell_type": "code",
      "source": [
        "#predict and plot predictions\n",
        "y_preds_3= model_3.predict(X_test)\n",
        "plot_predictions(predictions=y_preds_3)"
      ],
      "metadata": {
        "colab": {
          "base_uri": "https://localhost:8080/",
          "height": 617
        },
        "id": "R_XZOhjVDnOl",
        "outputId": "2aea3f33-2a53-4d0d-cf2f-0d7dd54c462d"
      },
      "execution_count": 40,
      "outputs": [
        {
          "output_type": "stream",
          "name": "stdout",
          "text": [
            "1/1 [==============================] - 0s 59ms/step\n"
          ]
        },
        {
          "output_type": "display_data",
          "data": {
            "text/plain": [
              "<Figure size 1000x700 with 1 Axes>"
            ],
            "image/png": "[encoded data removed]"
          },
          "metadata": {}
        }
      ]
    },
    {
      "cell_type": "code",
      "source": [
        "mae_3 = tf.metrics.mean_absolute_error(y_test,y_preds_3.squeeze()).numpy()\n",
        "mse_3 = tf.metrics.mean_squared_error(y_test,y_preds_3.squeeze()).numpy()\n",
        "mae_3,mse_3"
      ],
      "metadata": {
        "colab": {
          "base_uri": "https://localhost:8080/"
        },
        "id": "oXMDotxjD0VU",
        "outputId": "487d9cbe-f15c-40ea-ccf9-a7e6f5222490"
      },
      "execution_count": 41,
      "outputs": [
        {
          "output_type": "execute_result",
          "data": {
            "text/plain": [
              "(67.24667, 4605.0386)"
            ]
          },
          "metadata": {},
          "execution_count": 41
        }
      ]
    },
    {
      "cell_type": "code",
      "source": [
        "y_preds_3"
      ],
      "metadata": {
        "colab": {
          "base_uri": "https://localhost:8080/"
        },
        "id": "uW3oI-6TE1RR",
        "outputId": "7bdb30df-20d5-4dab-bc29-aea6392c184b"
      },
      "execution_count": 42,
      "outputs": [
        {
          "output_type": "execute_result",
          "data": {
            "text/plain": [
              "array([[17.020065],\n",
              "       [17.84968 ],\n",
              "       [18.679293],\n",
              "       [19.508905],\n",
              "       [20.33852 ],\n",
              "       [21.168133],\n",
              "       [21.997747],\n",
              "       [22.82736 ],\n",
              "       [23.656975],\n",
              "       [24.486588]], dtype=float32)"
            ]
          },
          "metadata": {},
          "execution_count": 42
        }
      ]
    },
    {
      "cell_type": "code",
      "source": [
        "model_results = [\n",
        "    [\"model_1\",mae_1,mse_1]\n",
        "    ,[\"model_2\",mae_2,mse_2]\n",
        "    ,[\"model_3\",mae_3,mse_3]\n",
        "]"
      ],
      "metadata": {
        "id": "wJWiVhReI-4q"
      },
      "execution_count": 43,
      "outputs": []
    },
    {
      "cell_type": "code",
      "source": [
        "import pandas as pd\n",
        "all_results = pd.DataFrame(model_results,columns=[\"model\",\"mae\",\"mse\"])\n",
        "all_results"
      ],
      "metadata": {
        "colab": {
          "base_uri": "https://localhost:8080/",
          "height": 143
        },
        "id": "l4iuonLWLoCf",
        "outputId": "e176f958-52b2-4605-cc94-5927d1b3e878"
      },
      "execution_count": 45,
      "outputs": [
        {
          "output_type": "execute_result",
          "data": {
            "text/plain": [
              "     model        mae          mse\n",
              "0  model_1   8.659116    81.515854\n",
              "1  model_2  10.416088   116.035683\n",
              "2  model_3  67.246674  4605.038574"
            ],
            "text/html": [
              "\n",
              "  <div id=\"df-f1067d52-a0f7-475f-8ccf-e9ce00ea5ff4\">\n",
              "    <div class=\"colab-df-container\">\n",
              "      <div>\n",
              "<style scoped>\n",
              "    .dataframe tbody tr th:only-of-type {\n",
              "        vertical-align: middle;\n",
              "    }\n",
              "\n",
              "    .dataframe tbody tr th {\n",
              "        vertical-align: top;\n",
              "    }\n",
              "\n",
              "    .dataframe thead th {\n",
              "        text-align: right;\n",
              "    }\n",
              "</style>\n",
              "<table border=\"1\" class=\"dataframe\">\n",
              "  <thead>\n",
              "    <tr style=\"text-align: right;\">\n",
              "      <th></th>\n",
              "      <th>model</th>\n",
              "      <th>mae</th>\n",
              "      <th>mse</th>\n",
              "    </tr>\n",
              "  </thead>\n",
              "  <tbody>\n",
              "    <tr>\n",
              "      <th>0</th>\n",
              "      <td>model_1</td>\n",
              "      <td>8.659116</td>\n",
              "      <td>81.515854</td>\n",
              "    </tr>\n",
              "    <tr>\n",
              "      <th>1</th>\n",
              "      <td>model_2</td>\n",
              "      <td>10.416088</td>\n",
              "      <td>116.035683</td>\n",
              "    </tr>\n",
              "    <tr>\n",
              "      <th>2</th>\n",
              "      <td>model_3</td>\n",
              "      <td>67.246674</td>\n",
              "      <td>4605.038574</td>\n",
              "    </tr>\n",
              "  </tbody>\n",
              "</table>\n",
              "</div>\n",
              "      <button class=\"colab-df-convert\" onclick=\"convertToInteractive('df-f1067d52-a0f7-475f-8ccf-e9ce00ea5ff4')\"\n",
              "              title=\"Convert this dataframe to an interactive table.\"\n",
              "              style=\"display:none;\">\n",
              "        \n",
              "  <svg xmlns=\"http://www.w3.org/2000/svg\" height=\"24px\"viewBox=\"0 0 24 24\"\n",
              "       width=\"24px\">\n",
              "    <path d=\"M0 0h24v24H0V0z\" fill=\"none\"/>\n",
              "    <path d=\"M18.56 5.44l.94 2.06.94-2.06 2.06-.94-2.06-.94-.94-2.06-.94 2.06-2.06.94zm-11 1L8.5 8.5l.94-2.06 2.06-.94-2.06-.94L8.5 2.5l-.94 2.06-2.06.94zm10 10l.94 2.06.94-2.06 2.06-.94-2.06-.94-.94-2.06-.94 2.06-2.06.94z\"/><path d=\"M17.41 7.96l-1.37-1.37c-.4-.4-.92-.59-1.43-.59-.52 0-1.04.2-1.43.59L10.3 9.45l-7.72 7.72c-.78.78-.78 2.05 0 2.83L4 21.41c.39.39.9.59 1.41.59.51 0 1.02-.2 1.41-.59l7.78-7.78 2.81-2.81c.8-.78.8-2.07 0-2.86zM5.41 20L4 18.59l7.72-7.72 1.47 1.35L5.41 20z\"/>\n",
              "  </svg>\n",
              "      </button>\n",
              "      \n",
              "  <style>\n",
              "    .colab-df-container {\n",
              "      display:flex;\n",
              "      flex-wrap:wrap;\n",
              "      gap: 12px;\n",
              "    }\n",
              "\n",
              "    .colab-df-convert {\n",
              "      background-color: #E8F0FE;\n",
              "      border: none;\n",
              "      border-radius: 50%;\n",
              "      cursor: pointer;\n",
              "      display: none;\n",
              "      fill: #1967D2;\n",
              "      height: 32px;\n",
              "      padding: 0 0 0 0;\n",
              "      width: 32px;\n",
              "    }\n",
              "\n",
              "    .colab-df-convert:hover {\n",
              "      background-color: #E2EBFA;\n",
              "      box-shadow: 0px 1px 2px rgba(60, 64, 67, 0.3), 0px 1px 3px 1px rgba(60, 64, 67, 0.15);\n",
              "      fill: #174EA6;\n",
              "    }\n",
              "\n",
              "    [theme=dark] .colab-df-convert {\n",
              "      background-color: #3B4455;\n",
              "      fill: #D2E3FC;\n",
              "    }\n",
              "\n",
              "    [theme=dark] .colab-df-convert:hover {\n",
              "      background-color: #434B5C;\n",
              "      box-shadow: 0px 1px 3px 1px rgba(0, 0, 0, 0.15);\n",
              "      filter: drop-shadow(0px 1px 2px rgba(0, 0, 0, 0.3));\n",
              "      fill: #FFFFFF;\n",
              "    }\n",
              "  </style>\n",
              "\n",
              "      <script>\n",
              "        const buttonEl =\n",
              "          document.querySelector('#df-f1067d52-a0f7-475f-8ccf-e9ce00ea5ff4 button.colab-df-convert');\n",
              "        buttonEl.style.display =\n",
              "          google.colab.kernel.accessAllowed ? 'block' : 'none';\n",
              "\n",
              "        async function convertToInteractive(key) {\n",
              "          const element = document.querySelector('#df-f1067d52-a0f7-475f-8ccf-e9ce00ea5ff4');\n",
              "          const dataTable =\n",
              "            await google.colab.kernel.invokeFunction('convertToInteractive',\n",
              "                                                     [key], {});\n",
              "          if (!dataTable) return;\n",
              "\n",
              "          const docLinkHtml = 'Like what you see? Visit the ' +\n",
              "            '<a target=\"_blank\" href=https://colab.research.google.com/notebooks/data_table.ipynb>data table notebook</a>'\n",
              "            + ' to learn more about interactive tables.';\n",
              "          element.innerHTML = '';\n",
              "          dataTable['output_type'] = 'display_data';\n",
              "          await google.colab.output.renderOutput(dataTable, element);\n",
              "          const docLink = document.createElement('div');\n",
              "          docLink.innerHTML = docLinkHtml;\n",
              "          element.appendChild(docLink);\n",
              "        }\n",
              "      </script>\n",
              "    </div>\n",
              "  </div>\n",
              "  "
            ]
          },
          "metadata": {},
          "execution_count": 45
        }
      ]
    },
    {
      "cell_type": "markdown",
      "source": [
        "Save the model\n",
        "1. `HDF5` format\n",
        "2. `SavedModelFormat` format\n"
      ],
      "metadata": {
        "id": "nU6FWZJaMMG4"
      }
    },
    {
      "cell_type": "code",
      "source": [
        "model_2.save(\"best_model_savedmodelformat\")"
      ],
      "metadata": {
        "colab": {
          "base_uri": "https://localhost:8080/"
        },
        "id": "nhm3AWfFL1_P",
        "outputId": "1810b39f-1d18-4068-ccca-c138d54881fd"
      },
      "execution_count": 46,
      "outputs": [
        {
          "output_type": "stream",
          "name": "stderr",
          "text": [
            "WARNING:absl:Found untraced functions such as _update_step_xla while saving (showing 1 of 1). These functions will not be directly callable after loading.\n"
          ]
        }
      ]
    },
    {
      "cell_type": "code",
      "source": [
        "!ls best_model_savedmodelformat"
      ],
      "metadata": {
        "colab": {
          "base_uri": "https://localhost:8080/"
        },
        "id": "DiX8sNlQMva2",
        "outputId": "9a6a1321-4cdb-41d5-d503-21cb3d41e2d4"
      },
      "execution_count": 47,
      "outputs": [
        {
          "output_type": "stream",
          "name": "stdout",
          "text": [
            "assets\tfingerprint.pb\tkeras_metadata.pb  saved_model.pb  variables\n"
          ]
        }
      ]
    },
    {
      "cell_type": "code",
      "source": [
        "model_2.save(\"best_model_hdf5format.h5\")"
      ],
      "metadata": {
        "id": "0s6seXNIMzI8"
      },
      "execution_count": 48,
      "outputs": []
    },
    {
      "cell_type": "code",
      "source": [
        "!ls best_model_hdf5format.h5"
      ],
      "metadata": {
        "colab": {
          "base_uri": "https://localhost:8080/"
        },
        "id": "u8n-noC_M8Ac",
        "outputId": "73eb6c40-3b79-4152-e79a-d6ba3f439d53"
      },
      "execution_count": 50,
      "outputs": [
        {
          "output_type": "stream",
          "name": "stdout",
          "text": [
            "best_model_hdf5format.h5\n"
          ]
        }
      ]
    },
    {
      "cell_type": "markdown",
      "source": [
        "Load the model"
      ],
      "metadata": {
        "id": "Vx0dT5xONDZX"
      }
    },
    {
      "cell_type": "code",
      "source": [
        "loaded_saved_model = tf.keras.models.load_model(\"best_model_savedmodelformat\")\n",
        "loaded_saved_model.summary()"
      ],
      "metadata": {
        "colab": {
          "base_uri": "https://localhost:8080/"
        },
        "id": "U2NHhhFtNDD0",
        "outputId": "ff2e14ab-94cb-4972-9ebd-e25352f03bd3"
      },
      "execution_count": 51,
      "outputs": [
        {
          "output_type": "stream",
          "name": "stdout",
          "text": [
            "Model: \"sequential_6\"\n",
            "_________________________________________________________________\n",
            " Layer (type)                Output Shape              Param #   \n",
            "=================================================================\n",
            " dense_8 (Dense)             (None, 1)                 2         \n",
            "                                                                 \n",
            " dense_9 (Dense)             (None, 1)                 2         \n",
            "                                                                 \n",
            "=================================================================\n",
            "Total params: 4\n",
            "Trainable params: 4\n",
            "Non-trainable params: 0\n",
            "_________________________________________________________________\n"
          ]
        }
      ]
    },
    {
      "cell_type": "code",
      "source": [
        "saved_model_preds = loaded_saved_model.predict(X_test)\n",
        "mae_2== tf.metrics.mean_absolute_error(y_test,saved_model_preds.squeeze()).numpy()"
      ],
      "metadata": {
        "colab": {
          "base_uri": "https://localhost:8080/"
        },
        "id": "p_dsWYvFM-Rj",
        "outputId": "975c0a0d-cc46-4df3-c692-ea7c2db653f6"
      },
      "execution_count": 52,
      "outputs": [
        {
          "output_type": "stream",
          "name": "stdout",
          "text": [
            "1/1 [==============================] - 0s 111ms/step\n"
          ]
        },
        {
          "output_type": "execute_result",
          "data": {
            "text/plain": [
              "True"
            ]
          },
          "metadata": {},
          "execution_count": 52
        }
      ]
    },
    {
      "cell_type": "code",
      "source": [
        "loaded_hd5_model = tf.keras.models.load_model(\"best_model_hdf5format.h5\")\n",
        "h5_preds = loaded_hd5_model.predict(X_test)\n",
        "mae_2 == tf.metrics.mean_absolute_error(y_test,h5_preds.squeeze()).numpy()"
      ],
      "metadata": {
        "colab": {
          "base_uri": "https://localhost:8080/"
        },
        "id": "T08NaBoRN2GO",
        "outputId": "2b46520a-f585-4370-b5f6-d57af3118cef"
      },
      "execution_count": 55,
      "outputs": [
        {
          "output_type": "stream",
          "name": "stdout",
          "text": [
            "1/1 [==============================] - 0s 230ms/step\n"
          ]
        },
        {
          "output_type": "execute_result",
          "data": {
            "text/plain": [
              "True"
            ]
          },
          "metadata": {},
          "execution_count": 55
        }
      ]
    },
    {
      "cell_type": "code",
      "source": [],
      "metadata": {
        "id": "mKY1c-DAONXD"
      },
      "execution_count": null,
      "outputs": []
    }
  ]
}