{
  "nbformat": 4,
  "nbformat_minor": 0,
  "metadata": {
    "colab": {
      "provenance": [],
      "authorship_tag": "ABX9TyMQA/emkDhLEblCx+h4pMpA",
      "include_colab_link": true
    },
    "kernelspec": {
      "name": "python3",
      "display_name": "Python 3"
    },
    "language_info": {
      "name": "python"
    }
  },
  "cells": [
    {
      "cell_type": "markdown",
      "metadata": {
        "id": "view-in-github",
        "colab_type": "text"
      },
      "source": [
        "<a href=\"https://colab.research.google.com/github/bikash119/learn_tensorflow/blob/main/learn_tf_002.ipynb\" target=\"_parent\"><img src=\"https://colab.research.google.com/assets/colab-badge.svg\" alt=\"Open In Colab\"/></a>"
      ]
    },
    {
      "cell_type": "code",
      "execution_count": null,
      "metadata": {
        "colab": {
          "base_uri": "https://localhost:8080/"
        },
        "id": "SGfy60UikKri",
        "outputId": "395ac1c8-b8c1-45c9-bdb9-3cda424a6d57"
      },
      "outputs": [
        {
          "output_type": "stream",
          "name": "stdout",
          "text": [
            " TF version : 2.12.0\n",
            " Last known execution of the notebook : 2023-06-27 23:11:06.656385\n"
          ]
        }
      ],
      "source": [
        "import tensorflow as tf\n",
        "import datetime\n",
        "\n",
        "print(f\" TF version : {tf.__version__}\")\n",
        "print(f\" Last known execution of the notebook : {datetime.datetime.now()}\")"
      ]
    },
    {
      "cell_type": "markdown",
      "source": [
        "Steps in modelling with Tensorflow\n",
        "1. **Creating a model**: Piece together the layers of a neural network yourself or import a previously built model (known as Transfer Learning ).\n",
        "2. **Compiling a model** : defining how a models performance should be measured( loss/metrics) as well as defining how it can be improved(optimizer).\n",
        "3. **Fitting a model** : letting the model try to find patterns in the data."
      ],
      "metadata": {
        "id": "m9a4vAiznv7Q"
      }
    },
    {
      "cell_type": "code",
      "source": [
        "import numpy as np\n",
        "import matplotlib.pyplot as plt\n",
        "\n",
        "# Create features ( using tensors )\n",
        "X = tf.constant([-7.0,-4.0,-1.0,2.0,5.0,8.0,11.0,14.0])\n",
        "# Create labels ( using tensors)\n",
        "y = tf.constant([3.0,6.0,9.0,12.0,15.0,18.0,21.0,24.0])\n",
        "\n",
        "# visualize it\n",
        "plt.scatter(X,y)"
      ],
      "metadata": {
        "colab": {
          "base_uri": "https://localhost:8080/",
          "height": 453
        },
        "id": "pN5RYD1umyZ1",
        "outputId": "92c31443-3486-43cc-baf7-cf9f00bbad6a"
      },
      "execution_count": null,
      "outputs": [
        {
          "output_type": "execute_result",
          "data": {
            "text/plain": [
              "<matplotlib.collections.PathCollection at 0x7f64330fb550>"
            ]
          },
          "metadata": {},
          "execution_count": 2
        },
        {
          "output_type": "display_data",
          "data": {
            "text/plain": [
              "<Figure size 640x480 with 1 Axes>"
            ],
            "image/png": "[encoded data removed]"
          },
          "metadata": {}
        }
      ]
    },
    {
      "cell_type": "code",
      "source": [
        "# Set random seed\n",
        "tf.random.set_seed(42)\n",
        "\n",
        "#1. creating the model\n",
        "model = tf.keras.Sequential(\n",
        "    tf.keras.layers.Dense(1)\n",
        ")\n",
        "\n",
        "#2. Compile the model\n",
        "model.compile(loss=tf.keras.losses.mae\n",
        "              ,optimizer = tf.keras.optimizers.SGD()\n",
        "              ,metrics=[\"mae\"])\n",
        "\n",
        "# Fit the model\n",
        "model.fit(tf.expand_dims(X,axis=-1),y,epochs=5)"
      ],
      "metadata": {
        "colab": {
          "base_uri": "https://localhost:8080/"
        },
        "id": "ouPaNb00p4sz",
        "outputId": "6eea14f3-59c6-426c-8fba-b8b2d4f17d5f"
      },
      "execution_count": null,
      "outputs": [
        {
          "output_type": "stream",
          "name": "stdout",
          "text": [
            "Epoch 1/5\n",
            "1/1 [==============================] - 1s 860ms/step - loss: 7.5806 - mae: 7.5806\n",
            "Epoch 2/5\n",
            "1/1 [==============================] - 0s 22ms/step - loss: 7.4925 - mae: 7.4925\n",
            "Epoch 3/5\n",
            "1/1 [==============================] - 0s 23ms/step - loss: 7.4869 - mae: 7.4869\n",
            "Epoch 4/5\n",
            "1/1 [==============================] - 0s 19ms/step - loss: 7.4813 - mae: 7.4813\n",
            "Epoch 5/5\n",
            "1/1 [==============================] - 0s 20ms/step - loss: 7.4756 - mae: 7.4756\n"
          ]
        },
        {
          "output_type": "execute_result",
          "data": {
            "text/plain": [
              "<keras.callbacks.History at 0x7f64304f77f0>"
            ]
          },
          "metadata": {},
          "execution_count": 3
        }
      ]
    },
    {
      "cell_type": "code",
      "source": [
        "model.predict([17.0])"
      ],
      "metadata": {
        "colab": {
          "base_uri": "https://localhost:8080/"
        },
        "id": "Ps6FN6gDriE2",
        "outputId": "bab7af26-f2f7-4d6d-f091-7bcbfd8c2492"
      },
      "execution_count": null,
      "outputs": [
        {
          "output_type": "stream",
          "name": "stdout",
          "text": [
            "1/1 [==============================] - 0s 418ms/step\n"
          ]
        },
        {
          "output_type": "execute_result",
          "data": {
            "text/plain": [
              "array([[29.38635]], dtype=float32)"
            ]
          },
          "metadata": {},
          "execution_count": 4
        }
      ]
    },
    {
      "cell_type": "markdown",
      "source": [
        "Steps to improving the model\n",
        "1. _Creating a model_ : Here we might want to add more layers, increase the number of hidden units, change the activation function in each layer.\n",
        "2. _Compiling a model_: We might want to choose a different optimizer or change the **learning rate** of the optimization function\n",
        "3. _Fitting a model_ : we could also try fit the model for more **epochs**\n",
        "\n",
        "_There are many different ways to improve a neural network. Some of the most common include : increasing the number of layers (making the network deeper), increasing the number of hidden units (making the network wider) and changing the learning rate. Because these values are human-changeable, they are referred to as hyperparameters and the practice of trying to find the best hyperparameters is referred to as hyperparameter-tuning_"
      ],
      "metadata": {
        "id": "Y8NlzRhUtpej"
      }
    },
    {
      "cell_type": "code",
      "source": [
        "# Lets try to improve our model by training it a little longer\n",
        "# set seeds\n",
        "tf.random.set_seed(42)\n",
        "\n",
        "#1.Create the model\n",
        "model = tf.keras.Sequential(\n",
        "    tf.keras.layers.Dense(1)\n",
        ")\n",
        "model.compile (loss= tf.keras.losses.mae\n",
        "               ,optimizer = tf.keras.optimizers.SGD()\n",
        "               ,metrics=[\"mae\"])\n",
        "\n",
        "model.fit(tf.expand_dims(X,axis=-1),y,epochs=100)"
      ],
      "metadata": {
        "colab": {
          "base_uri": "https://localhost:8080/"
        },
        "id": "a9l-ya4-r6iy",
        "outputId": "3867c469-1d4a-4867-d7dc-040052da83bd"
      },
      "execution_count": null,
      "outputs": [
        {
          "output_type": "stream",
          "name": "stdout",
          "text": [
            "Epoch 1/100\n",
            "1/1 [==============================] - 1s 1s/step - loss: 15.7679 - mae: 15.7679\n",
            "Epoch 2/100\n",
            "1/1 [==============================] - 0s 25ms/step - loss: 15.4866 - mae: 15.4866\n",
            "Epoch 3/100\n",
            "1/1 [==============================] - 0s 41ms/step - loss: 15.2054 - mae: 15.2054\n",
            "Epoch 4/100\n",
            "1/1 [==============================] - 0s 23ms/step - loss: 14.9382 - mae: 14.9382\n",
            "Epoch 5/100\n",
            "1/1 [==============================] - 0s 22ms/step - loss: 14.8057 - mae: 14.8057\n",
            "Epoch 6/100\n",
            "1/1 [==============================] - 0s 22ms/step - loss: 14.6732 - mae: 14.6732\n",
            "Epoch 7/100\n",
            "1/1 [==============================] - 0s 23ms/step - loss: 14.5407 - mae: 14.5407\n",
            "Epoch 8/100\n",
            "1/1 [==============================] - 0s 18ms/step - loss: 14.4082 - mae: 14.4082\n",
            "Epoch 9/100\n",
            "1/1 [==============================] - 0s 35ms/step - loss: 14.2757 - mae: 14.2757\n",
            "Epoch 10/100\n",
            "1/1 [==============================] - 0s 51ms/step - loss: 14.1432 - mae: 14.1432\n",
            "Epoch 11/100\n",
            "1/1 [==============================] - 0s 13ms/step - loss: 14.0107 - mae: 14.0107\n",
            "Epoch 12/100\n",
            "1/1 [==============================] - 0s 26ms/step - loss: 13.8782 - mae: 13.8782\n",
            "Epoch 13/100\n",
            "1/1 [==============================] - 0s 18ms/step - loss: 13.7457 - mae: 13.7457\n",
            "Epoch 14/100\n",
            "1/1 [==============================] - 0s 20ms/step - loss: 13.6132 - mae: 13.6132\n",
            "Epoch 15/100\n",
            "1/1 [==============================] - 0s 35ms/step - loss: 13.4807 - mae: 13.4807\n",
            "Epoch 16/100\n",
            "1/1 [==============================] - 0s 18ms/step - loss: 13.3482 - mae: 13.3482\n",
            "Epoch 17/100\n",
            "1/1 [==============================] - 0s 19ms/step - loss: 13.2157 - mae: 13.2157\n",
            "Epoch 18/100\n",
            "1/1 [==============================] - 0s 15ms/step - loss: 13.0832 - mae: 13.0832\n",
            "Epoch 19/100\n",
            "1/1 [==============================] - 0s 18ms/step - loss: 12.9507 - mae: 12.9507\n",
            "Epoch 20/100\n",
            "1/1 [==============================] - 0s 17ms/step - loss: 12.8182 - mae: 12.8182\n",
            "Epoch 21/100\n",
            "1/1 [==============================] - 0s 13ms/step - loss: 12.6857 - mae: 12.6857\n",
            "Epoch 22/100\n",
            "1/1 [==============================] - 0s 12ms/step - loss: 12.5532 - mae: 12.5532\n",
            "Epoch 23/100\n",
            "1/1 [==============================] - 0s 13ms/step - loss: 12.4207 - mae: 12.4207\n",
            "Epoch 24/100\n",
            "1/1 [==============================] - 0s 35ms/step - loss: 12.2882 - mae: 12.2882\n",
            "Epoch 25/100\n",
            "1/1 [==============================] - 0s 12ms/step - loss: 12.1557 - mae: 12.1557\n",
            "Epoch 26/100\n",
            "1/1 [==============================] - 0s 25ms/step - loss: 12.0232 - mae: 12.0232\n",
            "Epoch 27/100\n",
            "1/1 [==============================] - 0s 27ms/step - loss: 11.8907 - mae: 11.8907\n",
            "Epoch 28/100\n",
            "1/1 [==============================] - 0s 22ms/step - loss: 11.7582 - mae: 11.7582\n",
            "Epoch 29/100\n",
            "1/1 [==============================] - 0s 26ms/step - loss: 11.6257 - mae: 11.6257\n",
            "Epoch 30/100\n",
            "1/1 [==============================] - 0s 19ms/step - loss: 11.4932 - mae: 11.4932\n",
            "Epoch 31/100\n",
            "1/1 [==============================] - 0s 32ms/step - loss: 11.3607 - mae: 11.3607\n",
            "Epoch 32/100\n",
            "1/1 [==============================] - 0s 48ms/step - loss: 11.2282 - mae: 11.2282\n",
            "Epoch 33/100\n",
            "1/1 [==============================] - 0s 17ms/step - loss: 11.0957 - mae: 11.0957\n",
            "Epoch 34/100\n",
            "1/1 [==============================] - 0s 17ms/step - loss: 10.9632 - mae: 10.9632\n",
            "Epoch 35/100\n",
            "1/1 [==============================] - 0s 18ms/step - loss: 10.8307 - mae: 10.8307\n",
            "Epoch 36/100\n",
            "1/1 [==============================] - 0s 16ms/step - loss: 10.6982 - mae: 10.6982\n",
            "Epoch 37/100\n",
            "1/1 [==============================] - 0s 15ms/step - loss: 10.5657 - mae: 10.5657\n",
            "Epoch 38/100\n",
            "1/1 [==============================] - 0s 16ms/step - loss: 10.4332 - mae: 10.4332\n",
            "Epoch 39/100\n",
            "1/1 [==============================] - 0s 20ms/step - loss: 10.3007 - mae: 10.3007\n",
            "Epoch 40/100\n",
            "1/1 [==============================] - 0s 37ms/step - loss: 10.1682 - mae: 10.1682\n",
            "Epoch 41/100\n",
            "1/1 [==============================] - 0s 19ms/step - loss: 10.0357 - mae: 10.0357\n",
            "Epoch 42/100\n",
            "1/1 [==============================] - 0s 20ms/step - loss: 9.9032 - mae: 9.9032\n",
            "Epoch 43/100\n",
            "1/1 [==============================] - 0s 13ms/step - loss: 9.7707 - mae: 9.7707\n",
            "Epoch 44/100\n",
            "1/1 [==============================] - 0s 14ms/step - loss: 9.6382 - mae: 9.6382\n",
            "Epoch 45/100\n",
            "1/1 [==============================] - 0s 14ms/step - loss: 9.5057 - mae: 9.5057\n",
            "Epoch 46/100\n",
            "1/1 [==============================] - 0s 15ms/step - loss: 9.3732 - mae: 9.3732\n",
            "Epoch 47/100\n",
            "1/1 [==============================] - 0s 23ms/step - loss: 9.2407 - mae: 9.2407\n",
            "Epoch 48/100\n",
            "1/1 [==============================] - 0s 17ms/step - loss: 9.1082 - mae: 9.1082\n",
            "Epoch 49/100\n",
            "1/1 [==============================] - 0s 17ms/step - loss: 8.9757 - mae: 8.9757\n",
            "Epoch 50/100\n",
            "1/1 [==============================] - 0s 16ms/step - loss: 8.8432 - mae: 8.8432\n",
            "Epoch 51/100\n",
            "1/1 [==============================] - 0s 18ms/step - loss: 8.7107 - mae: 8.7107\n",
            "Epoch 52/100\n",
            "1/1 [==============================] - 0s 12ms/step - loss: 8.5782 - mae: 8.5782\n",
            "Epoch 53/100\n",
            "1/1 [==============================] - 0s 15ms/step - loss: 8.4457 - mae: 8.4457\n",
            "Epoch 54/100\n",
            "1/1 [==============================] - 0s 11ms/step - loss: 8.3132 - mae: 8.3132\n",
            "Epoch 55/100\n",
            "1/1 [==============================] - 0s 16ms/step - loss: 8.1807 - mae: 8.1807\n",
            "Epoch 56/100\n",
            "1/1 [==============================] - 0s 12ms/step - loss: 8.0482 - mae: 8.0482\n",
            "Epoch 57/100\n",
            "1/1 [==============================] - 0s 26ms/step - loss: 7.9157 - mae: 7.9157\n",
            "Epoch 58/100\n",
            "1/1 [==============================] - 0s 17ms/step - loss: 7.7832 - mae: 7.7832\n",
            "Epoch 59/100\n",
            "1/1 [==============================] - 0s 25ms/step - loss: 7.6507 - mae: 7.6507\n",
            "Epoch 60/100\n",
            "1/1 [==============================] - 0s 26ms/step - loss: 7.5182 - mae: 7.5182\n",
            "Epoch 61/100\n",
            "1/1 [==============================] - 0s 26ms/step - loss: 7.3857 - mae: 7.3857\n",
            "Epoch 62/100\n",
            "1/1 [==============================] - 0s 16ms/step - loss: 7.2532 - mae: 7.2532\n",
            "Epoch 63/100\n",
            "1/1 [==============================] - 0s 19ms/step - loss: 7.1207 - mae: 7.1207\n",
            "Epoch 64/100\n",
            "1/1 [==============================] - 0s 17ms/step - loss: 7.0331 - mae: 7.0331\n",
            "Epoch 65/100\n",
            "1/1 [==============================] - 0s 28ms/step - loss: 7.0275 - mae: 7.0275\n",
            "Epoch 66/100\n",
            "1/1 [==============================] - 0s 24ms/step - loss: 7.0219 - mae: 7.0219\n",
            "Epoch 67/100\n",
            "1/1 [==============================] - 0s 24ms/step - loss: 7.0163 - mae: 7.0163\n",
            "Epoch 68/100\n",
            "1/1 [==============================] - 0s 14ms/step - loss: 7.0106 - mae: 7.0106\n",
            "Epoch 69/100\n",
            "1/1 [==============================] - 0s 15ms/step - loss: 7.0050 - mae: 7.0050\n",
            "Epoch 70/100\n",
            "1/1 [==============================] - 0s 23ms/step - loss: 6.9994 - mae: 6.9994\n",
            "Epoch 71/100\n",
            "1/1 [==============================] - 0s 20ms/step - loss: 6.9938 - mae: 6.9938\n",
            "Epoch 72/100\n",
            "1/1 [==============================] - 0s 17ms/step - loss: 6.9881 - mae: 6.9881\n",
            "Epoch 73/100\n",
            "1/1 [==============================] - 0s 28ms/step - loss: 6.9825 - mae: 6.9825\n",
            "Epoch 74/100\n",
            "1/1 [==============================] - 0s 24ms/step - loss: 6.9769 - mae: 6.9769\n",
            "Epoch 75/100\n",
            "1/1 [==============================] - 0s 18ms/step - loss: 6.9712 - mae: 6.9712\n",
            "Epoch 76/100\n",
            "1/1 [==============================] - 0s 16ms/step - loss: 6.9656 - mae: 6.9656\n",
            "Epoch 77/100\n",
            "1/1 [==============================] - 0s 16ms/step - loss: 6.9600 - mae: 6.9600\n",
            "Epoch 78/100\n",
            "1/1 [==============================] - 0s 15ms/step - loss: 6.9544 - mae: 6.9544\n",
            "Epoch 79/100\n",
            "1/1 [==============================] - 0s 17ms/step - loss: 6.9488 - mae: 6.9488\n",
            "Epoch 80/100\n",
            "1/1 [==============================] - 0s 23ms/step - loss: 6.9431 - mae: 6.9431\n",
            "Epoch 81/100\n",
            "1/1 [==============================] - 0s 13ms/step - loss: 6.9375 - mae: 6.9375\n",
            "Epoch 82/100\n",
            "1/1 [==============================] - 0s 33ms/step - loss: 6.9319 - mae: 6.9319\n",
            "Epoch 83/100\n",
            "1/1 [==============================] - 0s 26ms/step - loss: 6.9263 - mae: 6.9263\n",
            "Epoch 84/100\n",
            "1/1 [==============================] - 0s 18ms/step - loss: 6.9206 - mae: 6.9206\n",
            "Epoch 85/100\n",
            "1/1 [==============================] - 0s 12ms/step - loss: 6.9150 - mae: 6.9150\n",
            "Epoch 86/100\n",
            "1/1 [==============================] - 0s 22ms/step - loss: 6.9094 - mae: 6.9094\n",
            "Epoch 87/100\n",
            "1/1 [==============================] - 0s 12ms/step - loss: 6.9038 - mae: 6.9038\n",
            "Epoch 88/100\n",
            "1/1 [==============================] - 0s 13ms/step - loss: 6.8981 - mae: 6.8981\n",
            "Epoch 89/100\n",
            "1/1 [==============================] - 0s 13ms/step - loss: 6.8925 - mae: 6.8925\n",
            "Epoch 90/100\n",
            "1/1 [==============================] - 0s 14ms/step - loss: 6.8869 - mae: 6.8869\n",
            "Epoch 91/100\n",
            "1/1 [==============================] - 0s 17ms/step - loss: 6.8812 - mae: 6.8812\n",
            "Epoch 92/100\n",
            "1/1 [==============================] - 0s 27ms/step - loss: 6.8756 - mae: 6.8756\n",
            "Epoch 93/100\n",
            "1/1 [==============================] - 0s 18ms/step - loss: 6.8700 - mae: 6.8700\n",
            "Epoch 94/100\n",
            "1/1 [==============================] - 0s 40ms/step - loss: 6.8644 - mae: 6.8644\n",
            "Epoch 95/100\n",
            "1/1 [==============================] - 0s 25ms/step - loss: 6.8588 - mae: 6.8588\n",
            "Epoch 96/100\n",
            "1/1 [==============================] - 0s 22ms/step - loss: 6.8531 - mae: 6.8531\n",
            "Epoch 97/100\n",
            "1/1 [==============================] - 0s 18ms/step - loss: 6.8475 - mae: 6.8475\n",
            "Epoch 98/100\n",
            "1/1 [==============================] - 0s 18ms/step - loss: 6.8419 - mae: 6.8419\n",
            "Epoch 99/100\n",
            "1/1 [==============================] - 0s 26ms/step - loss: 6.8363 - mae: 6.8363\n",
            "Epoch 100/100\n",
            "1/1 [==============================] - 0s 26ms/step - loss: 6.8306 - mae: 6.8306\n"
          ]
        },
        {
          "output_type": "execute_result",
          "data": {
            "text/plain": [
              "<keras.callbacks.History at 0x7f6430353310>"
            ]
          },
          "metadata": {},
          "execution_count": 5
        }
      ]
    },
    {
      "cell_type": "code",
      "source": [
        "model.predict([17.0])"
      ],
      "metadata": {
        "colab": {
          "base_uri": "https://localhost:8080/"
        },
        "id": "ieKFA0UZxEP7",
        "outputId": "0642b6ad-df2d-4f77-ae5b-5a54d865a3d2"
      },
      "execution_count": null,
      "outputs": [
        {
          "output_type": "stream",
          "name": "stdout",
          "text": [
            "1/1 [==============================] - 0s 109ms/step\n"
          ]
        },
        {
          "output_type": "execute_result",
          "data": {
            "text/plain": [
              "array([[29.505297]], dtype=float32)"
            ]
          },
          "metadata": {},
          "execution_count": 6
        }
      ]
    },
    {
      "cell_type": "markdown",
      "source": [
        "A typical workflow that we will have to go through while building neural networks is\n",
        "`build model -> evaluate it -> build (tweak) model -> evaluate it -> build (tweak) model -> evaluate it...`\n",
        "\n",
        "## Visualize Visuzalize Visualize\n",
        "\n",
        "1. **The data**\n",
        "2. **The Model**\n",
        "3. **The training of the Model**\n",
        "4. **The prediction of the Model**"
      ],
      "metadata": {
        "id": "LcQTRgiq0CKa"
      }
    },
    {
      "cell_type": "code",
      "source": [
        "# Make a bigger dataset\n",
        "X = np.arange(-100,100,4)\n",
        "y = np.arange(-90,110,4)\n"
      ],
      "metadata": {
        "id": "y6Zu7FeBxLWB"
      },
      "execution_count": null,
      "outputs": []
    },
    {
      "cell_type": "markdown",
      "source": [
        "Split the data into Training , Validation , Test set"
      ],
      "metadata": {
        "id": "WWvFHIQe6zEK"
      }
    },
    {
      "cell_type": "code",
      "source": [
        "#Split the dataset into Training, Validation and Test\n",
        "len(X)"
      ],
      "metadata": {
        "colab": {
          "base_uri": "https://localhost:8080/"
        },
        "id": "1MVZ3rZP6yTl",
        "outputId": "49ca9f52-3ab5-4ca5-a547-23e46aa9c24c"
      },
      "execution_count": null,
      "outputs": [
        {
          "output_type": "execute_result",
          "data": {
            "text/plain": [
              "50"
            ]
          },
          "metadata": {},
          "execution_count": 8
        }
      ]
    },
    {
      "cell_type": "code",
      "source": [
        "X_train = X[:40]\n",
        "y_train = y[:40]\n",
        "X_test = X[40:]\n",
        "y_test = y[40:]\n",
        "\n",
        "len(X_train),len(X_test)"
      ],
      "metadata": {
        "colab": {
          "base_uri": "https://localhost:8080/"
        },
        "id": "cOvYJsRl65zb",
        "outputId": "10ab2a0b-c10e-4dea-c721-dc87239bf9ea"
      },
      "execution_count": null,
      "outputs": [
        {
          "output_type": "execute_result",
          "data": {
            "text/plain": [
              "(40, 10)"
            ]
          },
          "metadata": {},
          "execution_count": 9
        }
      ]
    },
    {
      "cell_type": "markdown",
      "source": [
        "Visualize the train and test data"
      ],
      "metadata": {
        "id": "tui4Pgb-7MYG"
      }
    },
    {
      "cell_type": "code",
      "source": [
        "plt.figure(figsize=(10,7))\n",
        "#plot the training data\n",
        "plt.scatter(X_train,y_train,c='b',label='Training data')\n",
        "#plot the test data\n",
        "plt.scatter(X_test,y_test,c='g',label='Test data')\n",
        "#show legend\n",
        "plt.legend();"
      ],
      "metadata": {
        "colab": {
          "base_uri": "https://localhost:8080/",
          "height": 599
        },
        "id": "iRqMSVuF7HdJ",
        "outputId": "a6087976-a599-4b21-b882-4e9be1392087"
      },
      "execution_count": null,
      "outputs": [
        {
          "output_type": "display_data",
          "data": {
            "text/plain": [
              "<Figure size 1000x700 with 1 Axes>"
            ],
            "image/png": "[encoded data removed]"
          },
          "metadata": {}
        }
      ]
    },
    {
      "cell_type": "code",
      "source": [
        "#Train the model , exactly same as earlier\n",
        "\n",
        "#set seed\n",
        "tf.random.set_seed(42)\n",
        "\n",
        "# create model\n",
        "#input_shape should be equal to X_train.ndim\n",
        "model = tf.keras.Sequential([\n",
        "    tf.keras.layers.Dense(1,input_shape=[1])\n",
        "]\n",
        ")\n",
        "# compile the model\n",
        "model.compile(loss=tf.keras.losses.mae\n",
        "              ,optimizer=tf.keras.optimizers.SGD()\n",
        "              ,metrics=[\"mae\"])\n",
        "\n",
        "#fit the model\n",
        "model.fit(tf.expand_dims(X_train,axis=-1),y_train,epochs=100)"
      ],
      "metadata": {
        "colab": {
          "base_uri": "https://localhost:8080/"
        },
        "id": "O34hO_cX7l8U",
        "outputId": "381b1909-6bac-41f5-e537-3d6595dbd93c"
      },
      "execution_count": null,
      "outputs": [
        {
          "output_type": "stream",
          "name": "stdout",
          "text": [
            "Epoch 1/100\n",
            "2/2 [==============================] - 1s 29ms/step - loss: 55.5275 - mae: 55.5275\n",
            "Epoch 2/100\n",
            "2/2 [==============================] - 0s 14ms/step - loss: 21.3164 - mae: 21.3164\n",
            "Epoch 3/100\n",
            "2/2 [==============================] - 0s 11ms/step - loss: 9.7119 - mae: 9.7119\n",
            "Epoch 4/100\n",
            "2/2 [==============================] - 0s 16ms/step - loss: 11.8546 - mae: 11.8546\n",
            "Epoch 5/100\n",
            "2/2 [==============================] - 0s 14ms/step - loss: 10.9205 - mae: 10.9205\n",
            "Epoch 6/100\n",
            "2/2 [==============================] - 0s 17ms/step - loss: 10.0945 - mae: 10.0945\n",
            "Epoch 7/100\n",
            "2/2 [==============================] - 0s 19ms/step - loss: 9.1272 - mae: 9.1272\n",
            "Epoch 8/100\n",
            "2/2 [==============================] - 0s 9ms/step - loss: 9.1118 - mae: 9.1118\n",
            "Epoch 9/100\n",
            "2/2 [==============================] - 0s 9ms/step - loss: 15.0894 - mae: 15.0894\n",
            "Epoch 10/100\n",
            "2/2 [==============================] - 0s 8ms/step - loss: 7.5889 - mae: 7.5889\n",
            "Epoch 11/100\n",
            "2/2 [==============================] - 0s 8ms/step - loss: 11.4295 - mae: 11.4295\n",
            "Epoch 12/100\n",
            "2/2 [==============================] - 0s 8ms/step - loss: 16.9041 - mae: 16.9041\n",
            "Epoch 13/100\n",
            "2/2 [==============================] - 0s 19ms/step - loss: 12.0201 - mae: 12.0201\n",
            "Epoch 14/100\n",
            "2/2 [==============================] - 0s 32ms/step - loss: 13.9723 - mae: 13.9723\n",
            "Epoch 15/100\n",
            "2/2 [==============================] - 0s 9ms/step - loss: 11.3653 - mae: 11.3653\n",
            "Epoch 16/100\n",
            "2/2 [==============================] - 0s 9ms/step - loss: 8.5669 - mae: 8.5669\n",
            "Epoch 17/100\n",
            "2/2 [==============================] - 0s 25ms/step - loss: 13.6843 - mae: 13.6843\n",
            "Epoch 18/100\n",
            "2/2 [==============================] - 0s 10ms/step - loss: 11.5214 - mae: 11.5214\n",
            "Epoch 19/100\n",
            "2/2 [==============================] - 0s 14ms/step - loss: 17.8696 - mae: 17.8696\n",
            "Epoch 20/100\n",
            "2/2 [==============================] - 0s 15ms/step - loss: 15.0046 - mae: 15.0046\n",
            "Epoch 21/100\n",
            "2/2 [==============================] - 0s 11ms/step - loss: 10.8801 - mae: 10.8801\n",
            "Epoch 22/100\n",
            "2/2 [==============================] - 0s 7ms/step - loss: 8.6343 - mae: 8.6343\n",
            "Epoch 23/100\n",
            "2/2 [==============================] - 0s 9ms/step - loss: 9.7028 - mae: 9.7028\n",
            "Epoch 24/100\n",
            "2/2 [==============================] - 0s 21ms/step - loss: 8.5949 - mae: 8.5949\n",
            "Epoch 25/100\n",
            "2/2 [==============================] - 0s 30ms/step - loss: 11.6085 - mae: 11.6085\n",
            "Epoch 26/100\n",
            "2/2 [==============================] - 0s 21ms/step - loss: 15.1411 - mae: 15.1411\n",
            "Epoch 27/100\n",
            "2/2 [==============================] - 0s 17ms/step - loss: 11.8885 - mae: 11.8885\n",
            "Epoch 28/100\n",
            "2/2 [==============================] - 0s 15ms/step - loss: 13.9324 - mae: 13.9324\n",
            "Epoch 29/100\n",
            "2/2 [==============================] - 0s 14ms/step - loss: 9.6181 - mae: 9.6181\n",
            "Epoch 30/100\n",
            "2/2 [==============================] - 0s 11ms/step - loss: 17.1877 - mae: 17.1877\n",
            "Epoch 31/100\n",
            "2/2 [==============================] - 0s 18ms/step - loss: 22.8827 - mae: 22.8827\n",
            "Epoch 32/100\n",
            "2/2 [==============================] - 0s 22ms/step - loss: 7.9271 - mae: 7.9271\n",
            "Epoch 33/100\n",
            "2/2 [==============================] - 0s 14ms/step - loss: 14.1386 - mae: 14.1386\n",
            "Epoch 34/100\n",
            "2/2 [==============================] - 0s 33ms/step - loss: 12.3839 - mae: 12.3839\n",
            "Epoch 35/100\n",
            "2/2 [==============================] - 0s 12ms/step - loss: 8.2728 - mae: 8.2728\n",
            "Epoch 36/100\n",
            "2/2 [==============================] - 0s 30ms/step - loss: 10.4941 - mae: 10.4941\n",
            "Epoch 37/100\n",
            "2/2 [==============================] - 0s 10ms/step - loss: 10.1389 - mae: 10.1389\n",
            "Epoch 38/100\n",
            "2/2 [==============================] - 0s 37ms/step - loss: 11.3339 - mae: 11.3339\n",
            "Epoch 39/100\n",
            "2/2 [==============================] - 0s 16ms/step - loss: 14.7619 - mae: 14.7619\n",
            "Epoch 40/100\n",
            "2/2 [==============================] - 0s 24ms/step - loss: 12.8921 - mae: 12.8921\n",
            "Epoch 41/100\n",
            "2/2 [==============================] - 0s 18ms/step - loss: 9.2822 - mae: 9.2822\n",
            "Epoch 42/100\n",
            "2/2 [==============================] - 0s 12ms/step - loss: 11.0150 - mae: 11.0150\n",
            "Epoch 43/100\n",
            "2/2 [==============================] - 0s 9ms/step - loss: 8.3441 - mae: 8.3441\n",
            "Epoch 44/100\n",
            "2/2 [==============================] - 0s 10ms/step - loss: 13.0565 - mae: 13.0565\n",
            "Epoch 45/100\n",
            "2/2 [==============================] - 0s 20ms/step - loss: 13.6823 - mae: 13.6823\n",
            "Epoch 46/100\n",
            "2/2 [==============================] - 0s 9ms/step - loss: 8.2955 - mae: 8.2955\n",
            "Epoch 47/100\n",
            "2/2 [==============================] - 0s 10ms/step - loss: 8.7350 - mae: 8.7350\n",
            "Epoch 48/100\n",
            "2/2 [==============================] - 0s 8ms/step - loss: 10.0353 - mae: 10.0353\n",
            "Epoch 49/100\n",
            "2/2 [==============================] - 0s 9ms/step - loss: 8.5199 - mae: 8.5199\n",
            "Epoch 50/100\n",
            "2/2 [==============================] - 0s 14ms/step - loss: 9.0250 - mae: 9.0250\n",
            "Epoch 51/100\n",
            "2/2 [==============================] - 0s 14ms/step - loss: 9.3841 - mae: 9.3841\n",
            "Epoch 52/100\n",
            "2/2 [==============================] - 0s 30ms/step - loss: 14.1759 - mae: 14.1759\n",
            "Epoch 53/100\n",
            "2/2 [==============================] - 0s 9ms/step - loss: 14.8930 - mae: 14.8930\n",
            "Epoch 54/100\n",
            "2/2 [==============================] - 0s 10ms/step - loss: 14.8315 - mae: 14.8315\n",
            "Epoch 55/100\n",
            "2/2 [==============================] - 0s 9ms/step - loss: 12.6140 - mae: 12.6140\n",
            "Epoch 56/100\n",
            "2/2 [==============================] - 0s 17ms/step - loss: 7.6046 - mae: 7.6046\n",
            "Epoch 57/100\n",
            "2/2 [==============================] - 0s 12ms/step - loss: 8.8004 - mae: 8.8004\n",
            "Epoch 58/100\n",
            "2/2 [==============================] - 0s 8ms/step - loss: 8.3886 - mae: 8.3886\n",
            "Epoch 59/100\n",
            "2/2 [==============================] - 0s 8ms/step - loss: 9.1847 - mae: 9.1847\n",
            "Epoch 60/100\n",
            "2/2 [==============================] - 0s 8ms/step - loss: 9.1279 - mae: 9.1279\n",
            "Epoch 61/100\n",
            "2/2 [==============================] - 0s 9ms/step - loss: 10.6668 - mae: 10.6668\n",
            "Epoch 62/100\n",
            "2/2 [==============================] - 0s 9ms/step - loss: 7.4469 - mae: 7.4469\n",
            "Epoch 63/100\n",
            "2/2 [==============================] - 0s 12ms/step - loss: 10.5391 - mae: 10.5391\n",
            "Epoch 64/100\n",
            "2/2 [==============================] - 0s 10ms/step - loss: 12.1461 - mae: 12.1461\n",
            "Epoch 65/100\n",
            "2/2 [==============================] - 0s 10ms/step - loss: 9.4704 - mae: 9.4704\n",
            "Epoch 66/100\n",
            "2/2 [==============================] - 0s 24ms/step - loss: 11.5523 - mae: 11.5523\n",
            "Epoch 67/100\n",
            "2/2 [==============================] - 0s 10ms/step - loss: 8.0330 - mae: 8.0330\n",
            "Epoch 68/100\n",
            "2/2 [==============================] - 0s 10ms/step - loss: 8.5665 - mae: 8.5665\n",
            "Epoch 69/100\n",
            "2/2 [==============================] - 0s 11ms/step - loss: 12.2345 - mae: 12.2345\n",
            "Epoch 70/100\n",
            "2/2 [==============================] - 0s 10ms/step - loss: 8.9504 - mae: 8.9504\n",
            "Epoch 71/100\n",
            "2/2 [==============================] - 0s 10ms/step - loss: 9.9236 - mae: 9.9236\n",
            "Epoch 72/100\n",
            "2/2 [==============================] - 0s 11ms/step - loss: 9.9665 - mae: 9.9665\n",
            "Epoch 73/100\n",
            "2/2 [==============================] - 0s 9ms/step - loss: 12.4177 - mae: 12.4177\n",
            "Epoch 74/100\n",
            "2/2 [==============================] - 0s 9ms/step - loss: 10.6133 - mae: 10.6133\n",
            "Epoch 75/100\n",
            "2/2 [==============================] - 0s 10ms/step - loss: 9.6232 - mae: 9.6232\n",
            "Epoch 76/100\n",
            "2/2 [==============================] - 0s 9ms/step - loss: 11.0834 - mae: 11.0834\n",
            "Epoch 77/100\n",
            "2/2 [==============================] - 0s 10ms/step - loss: 8.2725 - mae: 8.2725\n",
            "Epoch 78/100\n",
            "2/2 [==============================] - 0s 9ms/step - loss: 8.9515 - mae: 8.9515\n",
            "Epoch 79/100\n",
            "2/2 [==============================] - 0s 10ms/step - loss: 19.8400 - mae: 19.8400\n",
            "Epoch 80/100\n",
            "2/2 [==============================] - 0s 9ms/step - loss: 17.7846 - mae: 17.7846\n",
            "Epoch 81/100\n",
            "2/2 [==============================] - 0s 11ms/step - loss: 7.1047 - mae: 7.1047\n",
            "Epoch 82/100\n",
            "2/2 [==============================] - 0s 15ms/step - loss: 10.3980 - mae: 10.3980\n",
            "Epoch 83/100\n",
            "2/2 [==============================] - 0s 10ms/step - loss: 9.8170 - mae: 9.8170\n",
            "Epoch 84/100\n",
            "2/2 [==============================] - 0s 10ms/step - loss: 7.9573 - mae: 7.9573\n",
            "Epoch 85/100\n",
            "2/2 [==============================] - 0s 12ms/step - loss: 9.4731 - mae: 9.4731\n",
            "Epoch 86/100\n",
            "2/2 [==============================] - 0s 9ms/step - loss: 9.5147 - mae: 9.5147\n",
            "Epoch 87/100\n",
            "2/2 [==============================] - 0s 9ms/step - loss: 11.4665 - mae: 11.4665\n",
            "Epoch 88/100\n",
            "2/2 [==============================] - 0s 8ms/step - loss: 9.9654 - mae: 9.9654\n",
            "Epoch 89/100\n",
            "2/2 [==============================] - 0s 9ms/step - loss: 7.2628 - mae: 7.2628\n",
            "Epoch 90/100\n",
            "2/2 [==============================] - 0s 9ms/step - loss: 12.7298 - mae: 12.7298\n",
            "Epoch 91/100\n",
            "2/2 [==============================] - 0s 17ms/step - loss: 7.3302 - mae: 7.3302\n",
            "Epoch 92/100\n",
            "2/2 [==============================] - 0s 8ms/step - loss: 7.6959 - mae: 7.6959\n",
            "Epoch 93/100\n",
            "2/2 [==============================] - 0s 10ms/step - loss: 7.1265 - mae: 7.1265\n",
            "Epoch 94/100\n",
            "2/2 [==============================] - 0s 16ms/step - loss: 12.5750 - mae: 12.5750\n",
            "Epoch 95/100\n",
            "2/2 [==============================] - 0s 16ms/step - loss: 9.9508 - mae: 9.9508\n",
            "Epoch 96/100\n",
            "2/2 [==============================] - 0s 18ms/step - loss: 9.1385 - mae: 9.1385\n",
            "Epoch 97/100\n",
            "2/2 [==============================] - 0s 16ms/step - loss: 12.0679 - mae: 12.0679\n",
            "Epoch 98/100\n",
            "2/2 [==============================] - 0s 10ms/step - loss: 9.0964 - mae: 9.0964\n",
            "Epoch 99/100\n",
            "2/2 [==============================] - 0s 8ms/step - loss: 8.4993 - mae: 8.4993\n",
            "Epoch 100/100\n",
            "2/2 [==============================] - 0s 19ms/step - loss: 14.4327 - mae: 14.4327\n"
          ]
        },
        {
          "output_type": "execute_result",
          "data": {
            "text/plain": [
              "<keras.callbacks.History at 0x7f6430067b50>"
            ]
          },
          "metadata": {},
          "execution_count": 11
        }
      ]
    },
    {
      "cell_type": "markdown",
      "source": [
        "Visualizing the model"
      ],
      "metadata": {
        "id": "vL36XtaM8iK9"
      }
    },
    {
      "cell_type": "code",
      "source": [
        "model.summary()"
      ],
      "metadata": {
        "colab": {
          "base_uri": "https://localhost:8080/"
        },
        "id": "lbSGI90x8eTH",
        "outputId": "2bb43b47-e791-4f36-eeed-50d2b2a6b170"
      },
      "execution_count": null,
      "outputs": [
        {
          "output_type": "stream",
          "name": "stdout",
          "text": [
            "Model: \"sequential_2\"\n",
            "_________________________________________________________________\n",
            " Layer (type)                Output Shape              Param #   \n",
            "=================================================================\n",
            " dense_2 (Dense)             (None, 1)                 2         \n",
            "                                                                 \n",
            "=================================================================\n",
            "Total params: 2\n",
            "Trainable params: 2\n",
            "Non-trainable params: 0\n",
            "_________________________________________________________________\n"
          ]
        }
      ]
    },
    {
      "cell_type": "code",
      "source": [
        "from tensorflow.keras.utils import plot_model\n",
        "plot_model(model,show_shapes=True)"
      ],
      "metadata": {
        "colab": {
          "base_uri": "https://localhost:8080/",
          "height": 201
        },
        "id": "e_-ox7M38ySy",
        "outputId": "fb0ad962-ca12-46f5-c7e4-a0b14efd53e8"
      },
      "execution_count": null,
      "outputs": [
        {
          "output_type": "execute_result",
          "data": {
            "image/png": "[encoded data removed]",
            "text/plain": [
              "<IPython.core.display.Image object>"
            ]
          },
          "metadata": {},
          "execution_count": 13
        }
      ]
    },
    {
      "cell_type": "code",
      "source": [
        "y_preds = model.predict(X_test)\n",
        "y_preds"
      ],
      "metadata": {
        "colab": {
          "base_uri": "https://localhost:8080/"
        },
        "id": "P4gjxb0p9rrF",
        "outputId": "45bb4c94-3722-45fa-a7a9-ba3e62da6d9c"
      },
      "execution_count": null,
      "outputs": [
        {
          "output_type": "stream",
          "name": "stdout",
          "text": [
            "1/1 [==============================] - 0s 143ms/step\n"
          ]
        },
        {
          "output_type": "execute_result",
          "data": {
            "text/plain": [
              "array([[44.377365],\n",
              "       [47.24994 ],\n",
              "       [50.122513],\n",
              "       [52.995087],\n",
              "       [55.86766 ],\n",
              "       [58.740234],\n",
              "       [61.612812],\n",
              "       [64.48538 ],\n",
              "       [67.357956],\n",
              "       [70.23054 ]], dtype=float32)"
            ]
          },
          "metadata": {},
          "execution_count": 14
        }
      ]
    },
    {
      "cell_type": "code",
      "source": [
        "# Function to plot predictions\n",
        "def plot_predictions(train_data=X_train\n",
        "                     ,train_label=y_train\n",
        "                     ,test_data=X_test\n",
        "                     ,test_label=y_test\n",
        "                     ,predictions=y_preds):\n",
        "\n",
        "  plt.figure(figsize=(10,7))\n",
        "\n",
        "  #Plot the training data\n",
        "  plt.scatter(train_data,train_label,c='b',label=\"Training data\")\n",
        "  #Plot the test data\n",
        "  plt.scatter(test_data,test_label,c='g',label=\"Test data\")\n",
        "  #Plot the training data\n",
        "  plt.scatter(test_data,predictions,c='r',label=\"Predictions\")\n",
        "  #Show legend\n",
        "  plt.legend();\n",
        "\n",
        "plot_predictions()"
      ],
      "metadata": {
        "colab": {
          "base_uri": "https://localhost:8080/",
          "height": 599
        },
        "id": "yqZBqoU3-vMu",
        "outputId": "7afff6fa-1ca6-4d33-ffd4-b0d85bd02ad8"
      },
      "execution_count": null,
      "outputs": [
        {
          "output_type": "display_data",
          "data": {
            "text/plain": [
              "<Figure size 1000x700 with 1 Axes>"
            ],
            "image/png": "[encoded data removed]"
          },
          "metadata": {}
        }
      ]
    },
    {
      "cell_type": "markdown",
      "source": [
        "## Evaluate Predictions\n",
        "Two main metrics for regression problems\n",
        "1. MAE (Mean Absolute Error) : the mean difference between each of the predictions.\n",
        "2. MSE (Mean Squared Error) : the squared mean difference between the predictions."
      ],
      "metadata": {
        "id": "lN0Dpyt_CBrv"
      }
    },
    {
      "cell_type": "code",
      "source": [
        "model.evaluate(X_test,y_test)"
      ],
      "metadata": {
        "colab": {
          "base_uri": "https://localhost:8080/"
        },
        "id": "Glmfogjg_ngt",
        "outputId": "4bbbd3cd-34da-4eb6-9eeb-1f5ce9e5d12a"
      },
      "execution_count": null,
      "outputs": [
        {
          "output_type": "stream",
          "name": "stdout",
          "text": [
            "1/1 [==============================] - 0s 369ms/step - loss: 30.6961 - mae: 30.6961\n"
          ]
        },
        {
          "output_type": "execute_result",
          "data": {
            "text/plain": [
              "[30.6960506439209, 30.6960506439209]"
            ]
          },
          "metadata": {},
          "execution_count": 16
        }
      ]
    },
    {
      "cell_type": "code",
      "source": [
        "mae = tf.metrics.mean_absolute_error(y_true=y_test\n",
        "                                     ,y_pred=y_preds)\n",
        "mae"
      ],
      "metadata": {
        "colab": {
          "base_uri": "https://localhost:8080/"
        },
        "id": "STD0UGJACkT5",
        "outputId": "0c04611d-592d-4cab-b0a1-52cc5d7ddd7f"
      },
      "execution_count": null,
      "outputs": [
        {
          "output_type": "execute_result",
          "data": {
            "text/plain": [
              "<tf.Tensor: shape=(10,), dtype=float32, numpy=\n",
              "array([43.622635, 40.75006 , 37.877487, 35.004913, 32.13234 , 29.259766,\n",
              "       26.387188, 23.514618, 20.642044, 17.81557 ], dtype=float32)>"
            ]
          },
          "metadata": {},
          "execution_count": 17
        }
      ]
    },
    {
      "cell_type": "markdown",
      "source": [
        "Since the shape of y_preds & y_test are different, the `tf.metrics.mean_absolute_error` responded with an array, where as we expect a single value\n"
      ],
      "metadata": {
        "id": "auCsNamGDI7K"
      }
    },
    {
      "cell_type": "code",
      "source": [
        "y_test.shape, y_preds.shape"
      ],
      "metadata": {
        "colab": {
          "base_uri": "https://localhost:8080/"
        },
        "id": "S5vQGAebDC_q",
        "outputId": "a5a59948-5ea0-4543-e632-9674c33a4491"
      },
      "execution_count": null,
      "outputs": [
        {
          "output_type": "execute_result",
          "data": {
            "text/plain": [
              "((10,), (10, 1))"
            ]
          },
          "metadata": {},
          "execution_count": 18
        }
      ]
    },
    {
      "cell_type": "code",
      "source": [
        "y_test.shape, y_preds.squeeze().shape"
      ],
      "metadata": {
        "colab": {
          "base_uri": "https://localhost:8080/"
        },
        "id": "Z6lRFKvrDe20",
        "outputId": "b5e8e4b0-8ebf-4529-87df-86ac8030b676"
      },
      "execution_count": null,
      "outputs": [
        {
          "output_type": "execute_result",
          "data": {
            "text/plain": [
              "((10,), (10,))"
            ]
          },
          "metadata": {},
          "execution_count": 19
        }
      ]
    },
    {
      "cell_type": "code",
      "source": [
        "mae = tf.metrics.mean_absolute_error(y_true=y_test\n",
        "                                     ,y_pred=y_preds.squeeze())\n",
        "mae"
      ],
      "metadata": {
        "colab": {
          "base_uri": "https://localhost:8080/"
        },
        "id": "UiLjdGBfDjuM",
        "outputId": "86740824-e3c3-4634-be0f-ff0e125a1fa2"
      },
      "execution_count": null,
      "outputs": [
        {
          "output_type": "execute_result",
          "data": {
            "text/plain": [
              "<tf.Tensor: shape=(), dtype=float32, numpy=30.69605>"
            ]
          },
          "metadata": {},
          "execution_count": 20
        }
      ]
    },
    {
      "cell_type": "code",
      "source": [
        "mse = tf.metrics.mean_squared_error(y_true=y_test\n",
        "                                    ,y_pred=y_preds.squeeze())\n",
        "mse"
      ],
      "metadata": {
        "colab": {
          "base_uri": "https://localhost:8080/"
        },
        "id": "ike2KmRIDroi",
        "outputId": "af07b0af-4222-454a-fd43-39c17da24902"
      },
      "execution_count": null,
      "outputs": [
        {
          "output_type": "execute_result",
          "data": {
            "text/plain": [
              "<tf.Tensor: shape=(), dtype=float32, numpy=952.7341>"
            ]
          },
          "metadata": {},
          "execution_count": 21
        }
      ]
    },
    {
      "cell_type": "markdown",
      "source": [
        "## Running Experiments to improve the model\n",
        "1. model_1 : Same model architecture trained for 100 epochs\n",
        "2. model_2 : 2 layers trained for 100 epochs\n",
        "3. model_1 : 2 layers trained for 500 epochs"
      ],
      "metadata": {
        "id": "JZ2PSUEp-KVw"
      }
    },
    {
      "cell_type": "code",
      "source": [
        "#model_1\n",
        "tf.random.set_seed(42)\n",
        "model_1 = tf.keras.Sequential([\n",
        "    tf.keras.layers.Dense(1)\n",
        "])\n",
        "model_1.compile(loss=tf.keras.losses.mae\n",
        "                ,optimizer=tf.keras.optimizers.SGD()\n",
        "                ,metrics=['mae'])\n",
        "\n",
        "model_1.fit(tf.expand_dims(X_train,axis=-1),y_train,epochs=100)"
      ],
      "metadata": {
        "colab": {
          "base_uri": "https://localhost:8080/"
        },
        "id": "UOGAFzF4-KGS",
        "outputId": "5bc0d58f-56c5-4bd2-ec8a-1b9c9a144545"
      },
      "execution_count": null,
      "outputs": [
        {
          "output_type": "stream",
          "name": "stdout",
          "text": [
            "Epoch 1/100\n",
            "2/2 [==============================] - 2s 40ms/step - loss: 17.1901 - mae: 17.1901\n",
            "Epoch 2/100\n",
            "2/2 [==============================] - 0s 21ms/step - loss: 12.3770 - mae: 12.3770\n",
            "Epoch 3/100\n",
            "2/2 [==============================] - 0s 16ms/step - loss: 11.7007 - mae: 11.7007\n",
            "Epoch 4/100\n",
            "2/2 [==============================] - 0s 31ms/step - loss: 9.3216 - mae: 9.3216\n",
            "Epoch 5/100\n",
            "2/2 [==============================] - 0s 24ms/step - loss: 10.1944 - mae: 10.1944\n",
            "Epoch 6/100\n",
            "2/2 [==============================] - 0s 35ms/step - loss: 9.4532 - mae: 9.4532\n",
            "Epoch 7/100\n",
            "2/2 [==============================] - 0s 28ms/step - loss: 8.5890 - mae: 8.5890\n",
            "Epoch 8/100\n",
            "2/2 [==============================] - 0s 20ms/step - loss: 9.0418 - mae: 9.0418\n",
            "Epoch 9/100\n",
            "2/2 [==============================] - 0s 19ms/step - loss: 18.8058 - mae: 18.8058\n",
            "Epoch 10/100\n",
            "2/2 [==============================] - 0s 8ms/step - loss: 10.1414 - mae: 10.1414\n",
            "Epoch 11/100\n",
            "2/2 [==============================] - 0s 9ms/step - loss: 8.4062 - mae: 8.4062\n",
            "Epoch 12/100\n",
            "2/2 [==============================] - 0s 18ms/step - loss: 10.6849 - mae: 10.6849\n",
            "Epoch 13/100\n",
            "2/2 [==============================] - 0s 14ms/step - loss: 9.8035 - mae: 9.8035\n",
            "Epoch 14/100\n",
            "2/2 [==============================] - 0s 13ms/step - loss: 16.0685 - mae: 16.0685\n",
            "Epoch 15/100\n",
            "2/2 [==============================] - 0s 7ms/step - loss: 11.3561 - mae: 11.3561\n",
            "Epoch 16/100\n",
            "2/2 [==============================] - 0s 50ms/step - loss: 8.5497 - mae: 8.5497\n",
            "Epoch 17/100\n",
            "2/2 [==============================] - 0s 17ms/step - loss: 13.6632 - mae: 13.6632\n",
            "Epoch 18/100\n",
            "2/2 [==============================] - 0s 17ms/step - loss: 11.4994 - mae: 11.4994\n",
            "Epoch 19/100\n",
            "2/2 [==============================] - 0s 16ms/step - loss: 17.8627 - mae: 17.8627\n",
            "Epoch 20/100\n",
            "2/2 [==============================] - 0s 18ms/step - loss: 14.9977 - mae: 14.9977\n",
            "Epoch 21/100\n",
            "2/2 [==============================] - 0s 16ms/step - loss: 10.8690 - mae: 10.8690\n",
            "Epoch 22/100\n",
            "2/2 [==============================] - 0s 22ms/step - loss: 8.6230 - mae: 8.6230\n",
            "Epoch 23/100\n",
            "2/2 [==============================] - 0s 27ms/step - loss: 9.6826 - mae: 9.6826\n",
            "Epoch 24/100\n",
            "2/2 [==============================] - 0s 7ms/step - loss: 8.5762 - mae: 8.5762\n",
            "Epoch 25/100\n",
            "2/2 [==============================] - 0s 14ms/step - loss: 11.5866 - mae: 11.5866\n",
            "Epoch 26/100\n",
            "2/2 [==============================] - 0s 7ms/step - loss: 15.1343 - mae: 15.1343\n",
            "Epoch 27/100\n",
            "2/2 [==============================] - 0s 13ms/step - loss: 12.0260 - mae: 12.0260\n",
            "Epoch 28/100\n",
            "2/2 [==============================] - 0s 21ms/step - loss: 13.3127 - mae: 13.3127\n",
            "Epoch 29/100\n",
            "2/2 [==============================] - 0s 27ms/step - loss: 9.5892 - mae: 9.5892\n",
            "Epoch 30/100\n",
            "2/2 [==============================] - 0s 15ms/step - loss: 17.0830 - mae: 17.0830\n",
            "Epoch 31/100\n",
            "2/2 [==============================] - 0s 25ms/step - loss: 22.9645 - mae: 22.9645\n",
            "Epoch 32/100\n",
            "2/2 [==============================] - 0s 15ms/step - loss: 7.5466 - mae: 7.5466\n",
            "Epoch 33/100\n",
            "2/2 [==============================] - 0s 32ms/step - loss: 15.4246 - mae: 15.4246\n",
            "Epoch 34/100\n",
            "2/2 [==============================] - 0s 17ms/step - loss: 13.3505 - mae: 13.3505\n",
            "Epoch 35/100\n",
            "2/2 [==============================] - 0s 9ms/step - loss: 7.9750 - mae: 7.9750\n",
            "Epoch 36/100\n",
            "2/2 [==============================] - 0s 8ms/step - loss: 9.9800 - mae: 9.9800\n",
            "Epoch 37/100\n",
            "2/2 [==============================] - 0s 11ms/step - loss: 9.7297 - mae: 9.7297\n",
            "Epoch 38/100\n",
            "2/2 [==============================] - 0s 13ms/step - loss: 10.5970 - mae: 10.5970\n",
            "Epoch 39/100\n",
            "2/2 [==============================] - 0s 7ms/step - loss: 15.6662 - mae: 15.6662\n",
            "Epoch 40/100\n",
            "2/2 [==============================] - 0s 7ms/step - loss: 13.4155 - mae: 13.4155\n",
            "Epoch 41/100\n",
            "2/2 [==============================] - 0s 7ms/step - loss: 9.2732 - mae: 9.2732\n",
            "Epoch 42/100\n",
            "2/2 [==============================] - 0s 29ms/step - loss: 10.9950 - mae: 10.9950\n",
            "Epoch 43/100\n",
            "2/2 [==============================] - 0s 20ms/step - loss: 8.3275 - mae: 8.3275\n",
            "Epoch 44/100\n",
            "2/2 [==============================] - 0s 11ms/step - loss: 13.0398 - mae: 13.0398\n",
            "Epoch 45/100\n",
            "2/2 [==============================] - 0s 9ms/step - loss: 13.6744 - mae: 13.6744\n",
            "Epoch 46/100\n",
            "2/2 [==============================] - 0s 8ms/step - loss: 8.2819 - mae: 8.2819\n",
            "Epoch 47/100\n",
            "2/2 [==============================] - 0s 8ms/step - loss: 8.7169 - mae: 8.7169\n",
            "Epoch 48/100\n",
            "2/2 [==============================] - 0s 9ms/step - loss: 10.0164 - mae: 10.0164\n",
            "Epoch 49/100\n",
            "2/2 [==============================] - 0s 9ms/step - loss: 8.5018 - mae: 8.5018\n",
            "Epoch 50/100\n",
            "2/2 [==============================] - 0s 9ms/step - loss: 9.0071 - mae: 9.0071\n",
            "Epoch 51/100\n",
            "2/2 [==============================] - 0s 29ms/step - loss: 9.3666 - mae: 9.3666\n",
            "Epoch 52/100\n",
            "2/2 [==============================] - 0s 12ms/step - loss: 14.1631 - mae: 14.1631\n",
            "Epoch 53/100\n",
            "2/2 [==============================] - 0s 11ms/step - loss: 14.8845 - mae: 14.8845\n",
            "Epoch 54/100\n",
            "2/2 [==============================] - 0s 28ms/step - loss: 14.8239 - mae: 14.8239\n",
            "Epoch 55/100\n",
            "2/2 [==============================] - 0s 7ms/step - loss: 12.6051 - mae: 12.6051\n",
            "Epoch 56/100\n",
            "2/2 [==============================] - 0s 14ms/step - loss: 7.5912 - mae: 7.5912\n",
            "Epoch 57/100\n",
            "2/2 [==============================] - 0s 12ms/step - loss: 8.7814 - mae: 8.7814\n",
            "Epoch 58/100\n",
            "2/2 [==============================] - 0s 15ms/step - loss: 8.3704 - mae: 8.3704\n",
            "Epoch 59/100\n",
            "2/2 [==============================] - 0s 14ms/step - loss: 9.1668 - mae: 9.1668\n",
            "Epoch 60/100\n",
            "2/2 [==============================] - 0s 10ms/step - loss: 9.1096 - mae: 9.1096\n",
            "Epoch 61/100\n",
            "2/2 [==============================] - 0s 9ms/step - loss: 10.6469 - mae: 10.6469\n",
            "Epoch 62/100\n",
            "2/2 [==============================] - 0s 8ms/step - loss: 7.4308 - mae: 7.4308\n",
            "Epoch 63/100\n",
            "2/2 [==============================] - 0s 8ms/step - loss: 10.5265 - mae: 10.5265\n",
            "Epoch 64/100\n",
            "2/2 [==============================] - 0s 16ms/step - loss: 12.1373 - mae: 12.1373\n",
            "Epoch 65/100\n",
            "2/2 [==============================] - 0s 14ms/step - loss: 9.4579 - mae: 9.4579\n",
            "Epoch 66/100\n",
            "2/2 [==============================] - 0s 24ms/step - loss: 11.5445 - mae: 11.5445\n",
            "Epoch 67/100\n",
            "2/2 [==============================] - 0s 14ms/step - loss: 8.0147 - mae: 8.0147\n",
            "Epoch 68/100\n",
            "2/2 [==============================] - 0s 13ms/step - loss: 8.5491 - mae: 8.5491\n",
            "Epoch 69/100\n",
            "2/2 [==============================] - 0s 23ms/step - loss: 12.2173 - mae: 12.2173\n",
            "Epoch 70/100\n",
            "2/2 [==============================] - 0s 14ms/step - loss: 8.9312 - mae: 8.9312\n",
            "Epoch 71/100\n",
            "2/2 [==============================] - 0s 12ms/step - loss: 9.9045 - mae: 9.9045\n",
            "Epoch 72/100\n",
            "2/2 [==============================] - 0s 11ms/step - loss: 9.9483 - mae: 9.9483\n",
            "Epoch 73/100\n",
            "2/2 [==============================] - 0s 15ms/step - loss: 12.3984 - mae: 12.3984\n",
            "Epoch 74/100\n",
            "2/2 [==============================] - 0s 14ms/step - loss: 10.6043 - mae: 10.6043\n",
            "Epoch 75/100\n",
            "2/2 [==============================] - 0s 66ms/step - loss: 9.6051 - mae: 9.6051\n",
            "Epoch 76/100\n",
            "2/2 [==============================] - 0s 24ms/step - loss: 11.0635 - mae: 11.0635\n",
            "Epoch 77/100\n",
            "2/2 [==============================] - 0s 15ms/step - loss: 8.2554 - mae: 8.2554\n",
            "Epoch 78/100\n",
            "2/2 [==============================] - 0s 23ms/step - loss: 8.9308 - mae: 8.9308\n",
            "Epoch 79/100\n",
            "2/2 [==============================] - 0s 21ms/step - loss: 19.8388 - mae: 19.8388\n",
            "Epoch 80/100\n",
            "2/2 [==============================] - 0s 18ms/step - loss: 17.7703 - mae: 17.7703\n",
            "Epoch 81/100\n",
            "2/2 [==============================] - 0s 12ms/step - loss: 7.0911 - mae: 7.0911\n",
            "Epoch 82/100\n",
            "2/2 [==============================] - 0s 19ms/step - loss: 10.3790 - mae: 10.3790\n",
            "Epoch 83/100\n",
            "2/2 [==============================] - 0s 13ms/step - loss: 9.7972 - mae: 9.7972\n",
            "Epoch 84/100\n",
            "2/2 [==============================] - 0s 12ms/step - loss: 7.9440 - mae: 7.9440\n",
            "Epoch 85/100\n",
            "2/2 [==============================] - 0s 12ms/step - loss: 9.4615 - mae: 9.4615\n",
            "Epoch 86/100\n",
            "2/2 [==============================] - 0s 17ms/step - loss: 9.5034 - mae: 9.5034\n",
            "Epoch 87/100\n",
            "2/2 [==============================] - 0s 11ms/step - loss: 11.4591 - mae: 11.4591\n",
            "Epoch 88/100\n",
            "2/2 [==============================] - 0s 13ms/step - loss: 9.9557 - mae: 9.9557\n",
            "Epoch 89/100\n",
            "2/2 [==============================] - 0s 12ms/step - loss: 7.2468 - mae: 7.2468\n",
            "Epoch 90/100\n",
            "2/2 [==============================] - 0s 10ms/step - loss: 12.7220 - mae: 12.7220\n",
            "Epoch 91/100\n",
            "2/2 [==============================] - 0s 12ms/step - loss: 7.3159 - mae: 7.3159\n",
            "Epoch 92/100\n",
            "2/2 [==============================] - 0s 12ms/step - loss: 7.6814 - mae: 7.6814\n",
            "Epoch 93/100\n",
            "2/2 [==============================] - 0s 12ms/step - loss: 7.1096 - mae: 7.1096\n",
            "Epoch 94/100\n",
            "2/2 [==============================] - 0s 12ms/step - loss: 12.5663 - mae: 12.5663\n",
            "Epoch 95/100\n",
            "2/2 [==============================] - 0s 11ms/step - loss: 9.9399 - mae: 9.9399\n",
            "Epoch 96/100\n",
            "2/2 [==============================] - 0s 13ms/step - loss: 9.1202 - mae: 9.1202\n",
            "Epoch 97/100\n",
            "2/2 [==============================] - 0s 14ms/step - loss: 12.0485 - mae: 12.0485\n",
            "Epoch 98/100\n",
            "2/2 [==============================] - 0s 13ms/step - loss: 9.0867 - mae: 9.0867\n",
            "Epoch 99/100\n",
            "2/2 [==============================] - 0s 13ms/step - loss: 8.4829 - mae: 8.4829\n",
            "Epoch 100/100\n",
            "2/2 [==============================] - 0s 10ms/step - loss: 14.4185 - mae: 14.4185\n"
          ]
        },
        {
          "output_type": "execute_result",
          "data": {
            "text/plain": [
              "<keras.callbacks.History at 0x7f64207fb5e0>"
            ]
          },
          "metadata": {},
          "execution_count": 22
        }
      ]
    },
    {
      "cell_type": "code",
      "source": [
        "# predict and plot predictions\n",
        "y_preds_1 = model_1.predict(X_test)\n",
        "plot_predictions(predictions=y_preds_1)"
      ],
      "metadata": {
        "colab": {
          "base_uri": "https://localhost:8080/",
          "height": 617
        },
        "id": "FKxqk5nWD1eI",
        "outputId": "726197f4-c6e5-4c83-f591-3f72509effe7"
      },
      "execution_count": null,
      "outputs": [
        {
          "output_type": "stream",
          "name": "stdout",
          "text": [
            "1/1 [==============================] - 0s 124ms/step\n"
          ]
        },
        {
          "output_type": "display_data",
          "data": {
            "text/plain": [
              "<Figure size 1000x700 with 1 Axes>"
            ],
            "image/png": "[encoded data removed]"
          },
          "metadata": {}
        }
      ]
    },
    {
      "cell_type": "code",
      "source": [
        "y_preds_1"
      ],
      "metadata": {
        "colab": {
          "base_uri": "https://localhost:8080/"
        },
        "id": "YDtvosGVKL1R",
        "outputId": "851aad48-665b-4571-c2b7-2ae8a7e89568"
      },
      "execution_count": null,
      "outputs": [
        {
          "output_type": "execute_result",
          "data": {
            "text/plain": [
              "array([[44.404755],\n",
              "       [47.277657],\n",
              "       [50.15056 ],\n",
              "       [53.023457],\n",
              "       [55.89636 ],\n",
              "       [58.769257],\n",
              "       [61.64216 ],\n",
              "       [64.51506 ],\n",
              "       [67.38796 ],\n",
              "       [70.260864]], dtype=float32)"
            ]
          },
          "metadata": {},
          "execution_count": 24
        }
      ]
    },
    {
      "cell_type": "code",
      "source": [
        "mae_1 = tf.metrics.mean_absolute_error(y_test,y_preds_1.squeeze()).numpy()\n",
        "mse_1 = tf.metrics.mean_squared_error(y_test,y_preds_1.squeeze()).numpy()\n",
        "mae_1,mse_1"
      ],
      "metadata": {
        "colab": {
          "base_uri": "https://localhost:8080/"
        },
        "id": "Gqium0SxAEXm",
        "outputId": "20f12ef4-87af-43d7-f5c0-df061e064fca"
      },
      "execution_count": null,
      "outputs": [
        {
          "output_type": "execute_result",
          "data": {
            "text/plain": [
              "(30.66719, 950.95703)"
            ]
          },
          "metadata": {},
          "execution_count": 25
        }
      ]
    },
    {
      "cell_type": "code",
      "source": [
        "#model_2\n",
        "#Set seed\n",
        "tf.random.set_seed(42)\n",
        "\n",
        "#Create model\n",
        "model_2 = tf.keras.Sequential([\n",
        "    tf.keras.layers.Dense(1)\n",
        "    ,tf.keras.layers.Dense(1)\n",
        "])\n",
        "\n",
        "#Compile model\n",
        "model_2.compile(loss=tf.keras.losses.mae\n",
        "                ,optimizer=tf.keras.optimizers.SGD()\n",
        "                ,metrics=['mae'])\n",
        "\n",
        "#train the model\n",
        "model_2.fit(tf.expand_dims(X_train,axis=-1),y_train,epochs=100,verbose=0)"
      ],
      "metadata": {
        "colab": {
          "base_uri": "https://localhost:8080/"
        },
        "id": "NVx8waKWAz11",
        "outputId": "3f8e3ee7-198d-4131-b301-113dd1226bf1"
      },
      "execution_count": null,
      "outputs": [
        {
          "output_type": "execute_result",
          "data": {
            "text/plain": [
              "<keras.callbacks.History at 0x7f6420e49840>"
            ]
          },
          "metadata": {},
          "execution_count": 26
        }
      ]
    },
    {
      "cell_type": "code",
      "source": [
        "#model_2 predictions and plot_prediction\n",
        "y_preds_2 = model_2.predict(X_test)\n",
        "plot_predictions(predictions=y_preds_2)"
      ],
      "metadata": {
        "colab": {
          "base_uri": "https://localhost:8080/",
          "height": 656
        },
        "id": "GS8EWV8UB2vd",
        "outputId": "1a28002a-f496-473e-8e3f-bab439a5d53e"
      },
      "execution_count": null,
      "outputs": [
        {
          "output_type": "stream",
          "name": "stderr",
          "text": [
            "WARNING:tensorflow:5 out of the last 5 calls to <function Model.make_predict_function.<locals>.predict_function at 0x7f6420eb8550> triggered tf.function retracing. Tracing is expensive and the excessive number of tracings could be due to (1) creating @tf.function repeatedly in a loop, (2) passing tensors with different shapes, (3) passing Python objects instead of tensors. For (1), please define your @tf.function outside of the loop. For (2), @tf.function has reduce_retracing=True option that can avoid unnecessary retracing. For (3), please refer to https://www.tensorflow.org/guide/function#controlling_retracing and https://www.tensorflow.org/api_docs/python/tf/function for  more details.\n"
          ]
        },
        {
          "output_type": "stream",
          "name": "stdout",
          "text": [
            "1/1 [==============================] - 0s 187ms/step\n"
          ]
        },
        {
          "output_type": "display_data",
          "data": {
            "text/plain": [
              "<Figure size 1000x700 with 1 Axes>"
            ],
            "image/png": "[encoded data removed]"
          },
          "metadata": {}
        }
      ]
    },
    {
      "cell_type": "code",
      "source": [
        "y_preds_2"
      ],
      "metadata": {
        "colab": {
          "base_uri": "https://localhost:8080/"
        },
        "id": "qlNamZpVKV2s",
        "outputId": "d24eb14c-4259-439c-8a80-00a920261670"
      },
      "execution_count": null,
      "outputs": [
        {
          "output_type": "execute_result",
          "data": {
            "text/plain": [
              "array([[ 76.87652 ],\n",
              "       [ 81.8893  ],\n",
              "       [ 86.902084],\n",
              "       [ 91.91487 ],\n",
              "       [ 96.927666],\n",
              "       [101.94045 ],\n",
              "       [106.95324 ],\n",
              "       [111.96603 ],\n",
              "       [116.97881 ],\n",
              "       [121.9916  ]], dtype=float32)"
            ]
          },
          "metadata": {},
          "execution_count": 28
        }
      ]
    },
    {
      "cell_type": "code",
      "source": [
        "mae_2 = tf.metrics.mean_absolute_error(y_test,y_preds_2.squeeze()).numpy()\n",
        "mse_2 = tf.metrics.mean_squared_error(y_test,y_preds_2.squeeze()).numpy()\n",
        "mae_2, mse_2"
      ],
      "metadata": {
        "colab": {
          "base_uri": "https://localhost:8080/"
        },
        "id": "J4ge2B32CcEl",
        "outputId": "1eff9fcc-585b-46df-a3ad-c87f271aeb94"
      },
      "execution_count": null,
      "outputs": [
        {
          "output_type": "execute_result",
          "data": {
            "text/plain": [
              "(11.434057, 139.2)"
            ]
          },
          "metadata": {},
          "execution_count": 29
        }
      ]
    },
    {
      "cell_type": "code",
      "source": [
        "#model_3\n",
        "#set seed\n",
        "tf.random.set_seed(42)\n",
        "\n",
        "#create model\n",
        "model_3 = tf.keras.Sequential([\n",
        "    tf.keras.layers.Dense(1)\n",
        "    ,tf.keras.layers.Dense(1)\n",
        "])\n",
        "\n",
        "#Compile model\n",
        "model_3.compile(loss=tf.keras.losses.mae\n",
        "              ,optimizer=tf.keras.optimizers.SGD()\n",
        "              ,metrics=['mae'])\n",
        "\n",
        "# train the model\n",
        "model_3.fit(tf.expand_dims(X_train,axis=-1),y_train,epochs=500,verbose=0)"
      ],
      "metadata": {
        "colab": {
          "base_uri": "https://localhost:8080/"
        },
        "id": "PdmDMkMfCsj4",
        "outputId": "266088aa-9e2a-4408-932a-740aac569ea7"
      },
      "execution_count": null,
      "outputs": [
        {
          "output_type": "execute_result",
          "data": {
            "text/plain": [
              "<keras.callbacks.History at 0x7f6423f6ee00>"
            ]
          },
          "metadata": {},
          "execution_count": 30
        }
      ]
    },
    {
      "cell_type": "code",
      "source": [
        "#predict and plot predictions\n",
        "y_preds_3= model_3.predict(X_test)\n",
        "plot_predictions(predictions=y_preds_3)"
      ],
      "metadata": {
        "colab": {
          "base_uri": "https://localhost:8080/",
          "height": 656
        },
        "id": "R_XZOhjVDnOl",
        "outputId": "648c4bc1-968c-47e2-eab8-2da71e9fa69b"
      },
      "execution_count": null,
      "outputs": [
        {
          "output_type": "stream",
          "name": "stderr",
          "text": [
            "WARNING:tensorflow:6 out of the last 6 calls to <function Model.make_predict_function.<locals>.predict_function at 0x7f6423f567a0> triggered tf.function retracing. Tracing is expensive and the excessive number of tracings could be due to (1) creating @tf.function repeatedly in a loop, (2) passing tensors with different shapes, (3) passing Python objects instead of tensors. For (1), please define your @tf.function outside of the loop. For (2), @tf.function has reduce_retracing=True option that can avoid unnecessary retracing. For (3), please refer to https://www.tensorflow.org/guide/function#controlling_retracing and https://www.tensorflow.org/api_docs/python/tf/function for  more details.\n"
          ]
        },
        {
          "output_type": "stream",
          "name": "stdout",
          "text": [
            "1/1 [==============================] - 0s 77ms/step\n"
          ]
        },
        {
          "output_type": "display_data",
          "data": {
            "text/plain": [
              "<Figure size 1000x700 with 1 Axes>"
            ],
            "image/png": "[encoded data removed]"
          },
          "metadata": {}
        }
      ]
    },
    {
      "cell_type": "code",
      "source": [
        "mae_3 = tf.metrics.mean_absolute_error(y_test,y_preds_3.squeeze()).numpy()\n",
        "mse_3 = tf.metrics.mean_squared_error(y_test,y_preds_3.squeeze()).numpy()\n",
        "mae_3,mse_3"
      ],
      "metadata": {
        "colab": {
          "base_uri": "https://localhost:8080/"
        },
        "id": "oXMDotxjD0VU",
        "outputId": "7a99247f-3db6-4a06-d631-de6d541dc810"
      },
      "execution_count": null,
      "outputs": [
        {
          "output_type": "execute_result",
          "data": {
            "text/plain": [
              "(68.01282, 4710.271)"
            ]
          },
          "metadata": {},
          "execution_count": 32
        }
      ]
    },
    {
      "cell_type": "code",
      "source": [
        "y_preds_3"
      ],
      "metadata": {
        "colab": {
          "base_uri": "https://localhost:8080/"
        },
        "id": "uW3oI-6TE1RR",
        "outputId": "14c6db80-e397-46f8-ee67-09781b66d6aa"
      },
      "execution_count": null,
      "outputs": [
        {
          "output_type": "execute_result",
          "data": {
            "text/plain": [
              "array([[16.391203],\n",
              "       [17.19031 ],\n",
              "       [17.989414],\n",
              "       [18.788519],\n",
              "       [19.587627],\n",
              "       [20.386732],\n",
              "       [21.185837],\n",
              "       [21.984945],\n",
              "       [22.78405 ],\n",
              "       [23.583155]], dtype=float32)"
            ]
          },
          "metadata": {},
          "execution_count": 33
        }
      ]
    },
    {
      "cell_type": "code",
      "source": [
        "model_results = [\n",
        "    [\"model_1\",mae_1,mse_1]\n",
        "    ,[\"model_2\",mae_2,mse_2]\n",
        "    ,[\"model_3\",mae_3,mse_3]\n",
        "]"
      ],
      "metadata": {
        "id": "wJWiVhReI-4q"
      },
      "execution_count": null,
      "outputs": []
    },
    {
      "cell_type": "code",
      "source": [
        "import pandas as pd\n",
        "all_results = pd.DataFrame(model_results,columns=[\"model\",\"mae\",\"mse\"])\n",
        "all_results"
      ],
      "metadata": {
        "colab": {
          "base_uri": "https://localhost:8080/",
          "height": 143
        },
        "id": "l4iuonLWLoCf",
        "outputId": "4a8092b6-9e81-487e-cc75-5e3c295eb003"
      },
      "execution_count": null,
      "outputs": [
        {
          "output_type": "execute_result",
          "data": {
            "text/plain": [
              "     model        mae          mse\n",
              "0  model_1  30.667191   950.957031\n",
              "1  model_2  11.434057   139.199997\n",
              "2  model_3  68.012817  4710.270996"
            ],
            "text/html": [
              "\n",
              "  <div id=\"df-de8dcc54-cf6b-45c8-a4f6-4187ee249dee\">\n",
              "    <div class=\"colab-df-container\">\n",
              "      <div>\n",
              "<style scoped>\n",
              "    .dataframe tbody tr th:only-of-type {\n",
              "        vertical-align: middle;\n",
              "    }\n",
              "\n",
              "    .dataframe tbody tr th {\n",
              "        vertical-align: top;\n",
              "    }\n",
              "\n",
              "    .dataframe thead th {\n",
              "        text-align: right;\n",
              "    }\n",
              "</style>\n",
              "<table border=\"1\" class=\"dataframe\">\n",
              "  <thead>\n",
              "    <tr style=\"text-align: right;\">\n",
              "      <th></th>\n",
              "      <th>model</th>\n",
              "      <th>mae</th>\n",
              "      <th>mse</th>\n",
              "    </tr>\n",
              "  </thead>\n",
              "  <tbody>\n",
              "    <tr>\n",
              "      <th>0</th>\n",
              "      <td>model_1</td>\n",
              "      <td>30.667191</td>\n",
              "      <td>950.957031</td>\n",
              "    </tr>\n",
              "    <tr>\n",
              "      <th>1</th>\n",
              "      <td>model_2</td>\n",
              "      <td>11.434057</td>\n",
              "      <td>139.199997</td>\n",
              "    </tr>\n",
              "    <tr>\n",
              "      <th>2</th>\n",
              "      <td>model_3</td>\n",
              "      <td>68.012817</td>\n",
              "      <td>4710.270996</td>\n",
              "    </tr>\n",
              "  </tbody>\n",
              "</table>\n",
              "</div>\n",
              "      <button class=\"colab-df-convert\" onclick=\"convertToInteractive('df-de8dcc54-cf6b-45c8-a4f6-4187ee249dee')\"\n",
              "              title=\"Convert this dataframe to an interactive table.\"\n",
              "              style=\"display:none;\">\n",
              "        \n",
              "  <svg xmlns=\"http://www.w3.org/2000/svg\" height=\"24px\"viewBox=\"0 0 24 24\"\n",
              "       width=\"24px\">\n",
              "    <path d=\"M0 0h24v24H0V0z\" fill=\"none\"/>\n",
              "    <path d=\"M18.56 5.44l.94 2.06.94-2.06 2.06-.94-2.06-.94-.94-2.06-.94 2.06-2.06.94zm-11 1L8.5 8.5l.94-2.06 2.06-.94-2.06-.94L8.5 2.5l-.94 2.06-2.06.94zm10 10l.94 2.06.94-2.06 2.06-.94-2.06-.94-.94-2.06-.94 2.06-2.06.94z\"/><path d=\"M17.41 7.96l-1.37-1.37c-.4-.4-.92-.59-1.43-.59-.52 0-1.04.2-1.43.59L10.3 9.45l-7.72 7.72c-.78.78-.78 2.05 0 2.83L4 21.41c.39.39.9.59 1.41.59.51 0 1.02-.2 1.41-.59l7.78-7.78 2.81-2.81c.8-.78.8-2.07 0-2.86zM5.41 20L4 18.59l7.72-7.72 1.47 1.35L5.41 20z\"/>\n",
              "  </svg>\n",
              "      </button>\n",
              "      \n",
              "  <style>\n",
              "    .colab-df-container {\n",
              "      display:flex;\n",
              "      flex-wrap:wrap;\n",
              "      gap: 12px;\n",
              "    }\n",
              "\n",
              "    .colab-df-convert {\n",
              "      background-color: #E8F0FE;\n",
              "      border: none;\n",
              "      border-radius: 50%;\n",
              "      cursor: pointer;\n",
              "      display: none;\n",
              "      fill: #1967D2;\n",
              "      height: 32px;\n",
              "      padding: 0 0 0 0;\n",
              "      width: 32px;\n",
              "    }\n",
              "\n",
              "    .colab-df-convert:hover {\n",
              "      background-color: #E2EBFA;\n",
              "      box-shadow: 0px 1px 2px rgba(60, 64, 67, 0.3), 0px 1px 3px 1px rgba(60, 64, 67, 0.15);\n",
              "      fill: #174EA6;\n",
              "    }\n",
              "\n",
              "    [theme=dark] .colab-df-convert {\n",
              "      background-color: #3B4455;\n",
              "      fill: #D2E3FC;\n",
              "    }\n",
              "\n",
              "    [theme=dark] .colab-df-convert:hover {\n",
              "      background-color: #434B5C;\n",
              "      box-shadow: 0px 1px 3px 1px rgba(0, 0, 0, 0.15);\n",
              "      filter: drop-shadow(0px 1px 2px rgba(0, 0, 0, 0.3));\n",
              "      fill: #FFFFFF;\n",
              "    }\n",
              "  </style>\n",
              "\n",
              "      <script>\n",
              "        const buttonEl =\n",
              "          document.querySelector('#df-de8dcc54-cf6b-45c8-a4f6-4187ee249dee button.colab-df-convert');\n",
              "        buttonEl.style.display =\n",
              "          google.colab.kernel.accessAllowed ? 'block' : 'none';\n",
              "\n",
              "        async function convertToInteractive(key) {\n",
              "          const element = document.querySelector('#df-de8dcc54-cf6b-45c8-a4f6-4187ee249dee');\n",
              "          const dataTable =\n",
              "            await google.colab.kernel.invokeFunction('convertToInteractive',\n",
              "                                                     [key], {});\n",
              "          if (!dataTable) return;\n",
              "\n",
              "          const docLinkHtml = 'Like what you see? Visit the ' +\n",
              "            '<a target=\"_blank\" href=https://colab.research.google.com/notebooks/data_table.ipynb>data table notebook</a>'\n",
              "            + ' to learn more about interactive tables.';\n",
              "          element.innerHTML = '';\n",
              "          dataTable['output_type'] = 'display_data';\n",
              "          await google.colab.output.renderOutput(dataTable, element);\n",
              "          const docLink = document.createElement('div');\n",
              "          docLink.innerHTML = docLinkHtml;\n",
              "          element.appendChild(docLink);\n",
              "        }\n",
              "      </script>\n",
              "    </div>\n",
              "  </div>\n",
              "  "
            ]
          },
          "metadata": {},
          "execution_count": 35
        }
      ]
    },
    {
      "cell_type": "markdown",
      "source": [
        "Save the model\n",
        "1. `HDF5` format\n",
        "2. `SavedModelFormat` format\n"
      ],
      "metadata": {
        "id": "nU6FWZJaMMG4"
      }
    },
    {
      "cell_type": "code",
      "source": [
        "model_2.save(\"best_model_savedmodelformat\")"
      ],
      "metadata": {
        "colab": {
          "base_uri": "https://localhost:8080/"
        },
        "id": "nhm3AWfFL1_P",
        "outputId": "6124b4e5-48e9-4810-eaad-891fbf43950b"
      },
      "execution_count": null,
      "outputs": [
        {
          "output_type": "stream",
          "name": "stderr",
          "text": [
            "WARNING:absl:Found untraced functions such as _update_step_xla while saving (showing 1 of 1). These functions will not be directly callable after loading.\n"
          ]
        }
      ]
    },
    {
      "cell_type": "code",
      "source": [
        "!ls best_model_savedmodelformat"
      ],
      "metadata": {
        "colab": {
          "base_uri": "https://localhost:8080/"
        },
        "id": "DiX8sNlQMva2",
        "outputId": "9f150c1e-fc77-4049-ec40-a9b22dfe30bb"
      },
      "execution_count": null,
      "outputs": [
        {
          "output_type": "stream",
          "name": "stdout",
          "text": [
            "assets\tfingerprint.pb\tkeras_metadata.pb  saved_model.pb  variables\n"
          ]
        }
      ]
    },
    {
      "cell_type": "code",
      "source": [
        "model_2.save(\"best_model_hdf5format.h5\")"
      ],
      "metadata": {
        "id": "0s6seXNIMzI8"
      },
      "execution_count": null,
      "outputs": []
    },
    {
      "cell_type": "code",
      "source": [
        "!ls best_model_hdf5format.h5"
      ],
      "metadata": {
        "colab": {
          "base_uri": "https://localhost:8080/"
        },
        "id": "u8n-noC_M8Ac",
        "outputId": "76706fd7-9826-408f-c074-5d8eb10c4d77"
      },
      "execution_count": null,
      "outputs": [
        {
          "output_type": "stream",
          "name": "stdout",
          "text": [
            "best_model_hdf5format.h5\n"
          ]
        }
      ]
    },
    {
      "cell_type": "markdown",
      "source": [
        "Load the model"
      ],
      "metadata": {
        "id": "Vx0dT5xONDZX"
      }
    },
    {
      "cell_type": "code",
      "source": [
        "loaded_saved_model = tf.keras.models.load_model(\"best_model_savedmodelformat\")\n",
        "loaded_saved_model.summary()"
      ],
      "metadata": {
        "colab": {
          "base_uri": "https://localhost:8080/"
        },
        "id": "U2NHhhFtNDD0",
        "outputId": "eafb23a7-08bb-473e-98ab-f18588333ae0"
      },
      "execution_count": null,
      "outputs": [
        {
          "output_type": "stream",
          "name": "stdout",
          "text": [
            "Model: \"sequential_4\"\n",
            "_________________________________________________________________\n",
            " Layer (type)                Output Shape              Param #   \n",
            "=================================================================\n",
            " dense_4 (Dense)             (None, 1)                 2         \n",
            "                                                                 \n",
            " dense_5 (Dense)             (None, 1)                 2         \n",
            "                                                                 \n",
            "=================================================================\n",
            "Total params: 4\n",
            "Trainable params: 4\n",
            "Non-trainable params: 0\n",
            "_________________________________________________________________\n"
          ]
        }
      ]
    },
    {
      "cell_type": "code",
      "source": [
        "saved_model_preds = loaded_saved_model.predict(X_test)\n",
        "mae_2== tf.metrics.mean_absolute_error(y_test,saved_model_preds.squeeze()).numpy()"
      ],
      "metadata": {
        "colab": {
          "base_uri": "https://localhost:8080/"
        },
        "id": "p_dsWYvFM-Rj",
        "outputId": "a1254e4e-c2ea-457d-fb73-9a3900c8fb65"
      },
      "execution_count": null,
      "outputs": [
        {
          "output_type": "stream",
          "name": "stdout",
          "text": [
            "1/1 [==============================] - 0s 61ms/step\n"
          ]
        },
        {
          "output_type": "execute_result",
          "data": {
            "text/plain": [
              "True"
            ]
          },
          "metadata": {},
          "execution_count": 41
        }
      ]
    },
    {
      "cell_type": "code",
      "source": [
        "loaded_hd5_model = tf.keras.models.load_model(\"best_model_hdf5format.h5\")\n",
        "h5_preds = loaded_hd5_model.predict(X_test)\n",
        "mae_2 == tf.metrics.mean_absolute_error(y_test,h5_preds.squeeze()).numpy()"
      ],
      "metadata": {
        "colab": {
          "base_uri": "https://localhost:8080/"
        },
        "id": "T08NaBoRN2GO",
        "outputId": "281b0ffd-98ed-4a4d-e314-f527d0de3058"
      },
      "execution_count": null,
      "outputs": [
        {
          "output_type": "stream",
          "name": "stdout",
          "text": [
            "1/1 [==============================] - 0s 59ms/step\n"
          ]
        },
        {
          "output_type": "execute_result",
          "data": {
            "text/plain": [
              "True"
            ]
          },
          "metadata": {},
          "execution_count": 42
        }
      ]
    },
    {
      "cell_type": "markdown",
      "source": [
        "## A larger example\n",
        "We will use the publicly available dataset [Medical Cost Dataset](https://www.kaggle.com/mirichoi0218/insurance) available from Kaggle and [hosted on Github](https://github.com/stedy/Machine-Learning-with-R-datasets/blob/master/insurance.csv)"
      ],
      "metadata": {
        "id": "H80rNzluIQ3G"
      }
    },
    {
      "cell_type": "code",
      "source": [
        "# import required libraries\n",
        "import tensorflow as tf\n",
        "import pandas as pd\n",
        "import matplotlib.pyplot as plt\n"
      ],
      "metadata": {
        "id": "mKY1c-DAONXD"
      },
      "execution_count": null,
      "outputs": []
    },
    {
      "cell_type": "code",
      "source": [
        "#Read the insurance dataset\n",
        "insurance = pd.read_csv(\"https://raw.githubusercontent.com/stedy/Machine-Learning-with-R-datasets/master/insurance.csv\")\n",
        "insurance.head()"
      ],
      "metadata": {
        "colab": {
          "base_uri": "https://localhost:8080/",
          "height": 206
        },
        "id": "ejuF80Y5JCpA",
        "outputId": "06baa236-a8bc-44a0-f49a-963977a26af7"
      },
      "execution_count": null,
      "outputs": [
        {
          "output_type": "execute_result",
          "data": {
            "text/plain": [
              "   age     sex     bmi  children smoker     region      charges\n",
              "0   19  female  27.900         0    yes  southwest  16884.92400\n",
              "1   18    male  33.770         1     no  southeast   1725.55230\n",
              "2   28    male  33.000         3     no  southeast   4449.46200\n",
              "3   33    male  22.705         0     no  northwest  21984.47061\n",
              "4   32    male  28.880         0     no  northwest   3866.85520"
            ],
            "text/html": [
              "\n",
              "  <div id=\"df-4146473a-9135-436c-8452-0e85d28711b7\">\n",
              "    <div class=\"colab-df-container\">\n",
              "      <div>\n",
              "<style scoped>\n",
              "    .dataframe tbody tr th:only-of-type {\n",
              "        vertical-align: middle;\n",
              "    }\n",
              "\n",
              "    .dataframe tbody tr th {\n",
              "        vertical-align: top;\n",
              "    }\n",
              "\n",
              "    .dataframe thead th {\n",
              "        text-align: right;\n",
              "    }\n",
              "</style>\n",
              "<table border=\"1\" class=\"dataframe\">\n",
              "  <thead>\n",
              "    <tr style=\"text-align: right;\">\n",
              "      <th></th>\n",
              "      <th>age</th>\n",
              "      <th>sex</th>\n",
              "      <th>bmi</th>\n",
              "      <th>children</th>\n",
              "      <th>smoker</th>\n",
              "      <th>region</th>\n",
              "      <th>charges</th>\n",
              "    </tr>\n",
              "  </thead>\n",
              "  <tbody>\n",
              "    <tr>\n",
              "      <th>0</th>\n",
              "      <td>19</td>\n",
              "      <td>female</td>\n",
              "      <td>27.900</td>\n",
              "      <td>0</td>\n",
              "      <td>yes</td>\n",
              "      <td>southwest</td>\n",
              "      <td>16884.92400</td>\n",
              "    </tr>\n",
              "    <tr>\n",
              "      <th>1</th>\n",
              "      <td>18</td>\n",
              "      <td>male</td>\n",
              "      <td>33.770</td>\n",
              "      <td>1</td>\n",
              "      <td>no</td>\n",
              "      <td>southeast</td>\n",
              "      <td>1725.55230</td>\n",
              "    </tr>\n",
              "    <tr>\n",
              "      <th>2</th>\n",
              "      <td>28</td>\n",
              "      <td>male</td>\n",
              "      <td>33.000</td>\n",
              "      <td>3</td>\n",
              "      <td>no</td>\n",
              "      <td>southeast</td>\n",
              "      <td>4449.46200</td>\n",
              "    </tr>\n",
              "    <tr>\n",
              "      <th>3</th>\n",
              "      <td>33</td>\n",
              "      <td>male</td>\n",
              "      <td>22.705</td>\n",
              "      <td>0</td>\n",
              "      <td>no</td>\n",
              "      <td>northwest</td>\n",
              "      <td>21984.47061</td>\n",
              "    </tr>\n",
              "    <tr>\n",
              "      <th>4</th>\n",
              "      <td>32</td>\n",
              "      <td>male</td>\n",
              "      <td>28.880</td>\n",
              "      <td>0</td>\n",
              "      <td>no</td>\n",
              "      <td>northwest</td>\n",
              "      <td>3866.85520</td>\n",
              "    </tr>\n",
              "  </tbody>\n",
              "</table>\n",
              "</div>\n",
              "      <button class=\"colab-df-convert\" onclick=\"convertToInteractive('df-4146473a-9135-436c-8452-0e85d28711b7')\"\n",
              "              title=\"Convert this dataframe to an interactive table.\"\n",
              "              style=\"display:none;\">\n",
              "        \n",
              "  <svg xmlns=\"http://www.w3.org/2000/svg\" height=\"24px\"viewBox=\"0 0 24 24\"\n",
              "       width=\"24px\">\n",
              "    <path d=\"M0 0h24v24H0V0z\" fill=\"none\"/>\n",
              "    <path d=\"M18.56 5.44l.94 2.06.94-2.06 2.06-.94-2.06-.94-.94-2.06-.94 2.06-2.06.94zm-11 1L8.5 8.5l.94-2.06 2.06-.94-2.06-.94L8.5 2.5l-.94 2.06-2.06.94zm10 10l.94 2.06.94-2.06 2.06-.94-2.06-.94-.94-2.06-.94 2.06-2.06.94z\"/><path d=\"M17.41 7.96l-1.37-1.37c-.4-.4-.92-.59-1.43-.59-.52 0-1.04.2-1.43.59L10.3 9.45l-7.72 7.72c-.78.78-.78 2.05 0 2.83L4 21.41c.39.39.9.59 1.41.59.51 0 1.02-.2 1.41-.59l7.78-7.78 2.81-2.81c.8-.78.8-2.07 0-2.86zM5.41 20L4 18.59l7.72-7.72 1.47 1.35L5.41 20z\"/>\n",
              "  </svg>\n",
              "      </button>\n",
              "      \n",
              "  <style>\n",
              "    .colab-df-container {\n",
              "      display:flex;\n",
              "      flex-wrap:wrap;\n",
              "      gap: 12px;\n",
              "    }\n",
              "\n",
              "    .colab-df-convert {\n",
              "      background-color: #E8F0FE;\n",
              "      border: none;\n",
              "      border-radius: 50%;\n",
              "      cursor: pointer;\n",
              "      display: none;\n",
              "      fill: #1967D2;\n",
              "      height: 32px;\n",
              "      padding: 0 0 0 0;\n",
              "      width: 32px;\n",
              "    }\n",
              "\n",
              "    .colab-df-convert:hover {\n",
              "      background-color: #E2EBFA;\n",
              "      box-shadow: 0px 1px 2px rgba(60, 64, 67, 0.3), 0px 1px 3px 1px rgba(60, 64, 67, 0.15);\n",
              "      fill: #174EA6;\n",
              "    }\n",
              "\n",
              "    [theme=dark] .colab-df-convert {\n",
              "      background-color: #3B4455;\n",
              "      fill: #D2E3FC;\n",
              "    }\n",
              "\n",
              "    [theme=dark] .colab-df-convert:hover {\n",
              "      background-color: #434B5C;\n",
              "      box-shadow: 0px 1px 3px 1px rgba(0, 0, 0, 0.15);\n",
              "      filter: drop-shadow(0px 1px 2px rgba(0, 0, 0, 0.3));\n",
              "      fill: #FFFFFF;\n",
              "    }\n",
              "  </style>\n",
              "\n",
              "      <script>\n",
              "        const buttonEl =\n",
              "          document.querySelector('#df-4146473a-9135-436c-8452-0e85d28711b7 button.colab-df-convert');\n",
              "        buttonEl.style.display =\n",
              "          google.colab.kernel.accessAllowed ? 'block' : 'none';\n",
              "\n",
              "        async function convertToInteractive(key) {\n",
              "          const element = document.querySelector('#df-4146473a-9135-436c-8452-0e85d28711b7');\n",
              "          const dataTable =\n",
              "            await google.colab.kernel.invokeFunction('convertToInteractive',\n",
              "                                                     [key], {});\n",
              "          if (!dataTable) return;\n",
              "\n",
              "          const docLinkHtml = 'Like what you see? Visit the ' +\n",
              "            '<a target=\"_blank\" href=https://colab.research.google.com/notebooks/data_table.ipynb>data table notebook</a>'\n",
              "            + ' to learn more about interactive tables.';\n",
              "          element.innerHTML = '';\n",
              "          dataTable['output_type'] = 'display_data';\n",
              "          await google.colab.output.renderOutput(dataTable, element);\n",
              "          const docLink = document.createElement('div');\n",
              "          docLink.innerHTML = docLinkHtml;\n",
              "          element.appendChild(docLink);\n",
              "        }\n",
              "      </script>\n",
              "    </div>\n",
              "  </div>\n",
              "  "
            ]
          },
          "metadata": {},
          "execution_count": 44
        }
      ]
    },
    {
      "cell_type": "markdown",
      "source": [
        "Turn all the categorical columns to numericals using `pd.get_dummies()`"
      ],
      "metadata": {
        "id": "sZkGpa0iJz-R"
      }
    },
    {
      "cell_type": "code",
      "source": [
        "#Turn all categories into numbers\n",
        "insurance_one_hot = pd.get_dummies(insurance)\n",
        "insurance_one_hot.head()"
      ],
      "metadata": {
        "colab": {
          "base_uri": "https://localhost:8080/",
          "height": 206
        },
        "id": "HASKlz_qJP3o",
        "outputId": "528f1c05-67bb-45a7-810f-691d728bc941"
      },
      "execution_count": null,
      "outputs": [
        {
          "output_type": "execute_result",
          "data": {
            "text/plain": [
              "   age     bmi  children      charges  sex_female  sex_male  smoker_no  \\\n",
              "0   19  27.900         0  16884.92400           1         0          0   \n",
              "1   18  33.770         1   1725.55230           0         1          1   \n",
              "2   28  33.000         3   4449.46200           0         1          1   \n",
              "3   33  22.705         0  21984.47061           0         1          1   \n",
              "4   32  28.880         0   3866.85520           0         1          1   \n",
              "\n",
              "   smoker_yes  region_northeast  region_northwest  region_southeast  \\\n",
              "0           1                 0                 0                 0   \n",
              "1           0                 0                 0                 1   \n",
              "2           0                 0                 0                 1   \n",
              "3           0                 0                 1                 0   \n",
              "4           0                 0                 1                 0   \n",
              "\n",
              "   region_southwest  \n",
              "0                 1  \n",
              "1                 0  \n",
              "2                 0  \n",
              "3                 0  \n",
              "4                 0  "
            ],
            "text/html": [
              "\n",
              "  <div id=\"df-3ee158d9-58ea-4492-bdf4-7b30080b6303\">\n",
              "    <div class=\"colab-df-container\">\n",
              "      <div>\n",
              "<style scoped>\n",
              "    .dataframe tbody tr th:only-of-type {\n",
              "        vertical-align: middle;\n",
              "    }\n",
              "\n",
              "    .dataframe tbody tr th {\n",
              "        vertical-align: top;\n",
              "    }\n",
              "\n",
              "    .dataframe thead th {\n",
              "        text-align: right;\n",
              "    }\n",
              "</style>\n",
              "<table border=\"1\" class=\"dataframe\">\n",
              "  <thead>\n",
              "    <tr style=\"text-align: right;\">\n",
              "      <th></th>\n",
              "      <th>age</th>\n",
              "      <th>bmi</th>\n",
              "      <th>children</th>\n",
              "      <th>charges</th>\n",
              "      <th>sex_female</th>\n",
              "      <th>sex_male</th>\n",
              "      <th>smoker_no</th>\n",
              "      <th>smoker_yes</th>\n",
              "      <th>region_northeast</th>\n",
              "      <th>region_northwest</th>\n",
              "      <th>region_southeast</th>\n",
              "      <th>region_southwest</th>\n",
              "    </tr>\n",
              "  </thead>\n",
              "  <tbody>\n",
              "    <tr>\n",
              "      <th>0</th>\n",
              "      <td>19</td>\n",
              "      <td>27.900</td>\n",
              "      <td>0</td>\n",
              "      <td>16884.92400</td>\n",
              "      <td>1</td>\n",
              "      <td>0</td>\n",
              "      <td>0</td>\n",
              "      <td>1</td>\n",
              "      <td>0</td>\n",
              "      <td>0</td>\n",
              "      <td>0</td>\n",
              "      <td>1</td>\n",
              "    </tr>\n",
              "    <tr>\n",
              "      <th>1</th>\n",
              "      <td>18</td>\n",
              "      <td>33.770</td>\n",
              "      <td>1</td>\n",
              "      <td>1725.55230</td>\n",
              "      <td>0</td>\n",
              "      <td>1</td>\n",
              "      <td>1</td>\n",
              "      <td>0</td>\n",
              "      <td>0</td>\n",
              "      <td>0</td>\n",
              "      <td>1</td>\n",
              "      <td>0</td>\n",
              "    </tr>\n",
              "    <tr>\n",
              "      <th>2</th>\n",
              "      <td>28</td>\n",
              "      <td>33.000</td>\n",
              "      <td>3</td>\n",
              "      <td>4449.46200</td>\n",
              "      <td>0</td>\n",
              "      <td>1</td>\n",
              "      <td>1</td>\n",
              "      <td>0</td>\n",
              "      <td>0</td>\n",
              "      <td>0</td>\n",
              "      <td>1</td>\n",
              "      <td>0</td>\n",
              "    </tr>\n",
              "    <tr>\n",
              "      <th>3</th>\n",
              "      <td>33</td>\n",
              "      <td>22.705</td>\n",
              "      <td>0</td>\n",
              "      <td>21984.47061</td>\n",
              "      <td>0</td>\n",
              "      <td>1</td>\n",
              "      <td>1</td>\n",
              "      <td>0</td>\n",
              "      <td>0</td>\n",
              "      <td>1</td>\n",
              "      <td>0</td>\n",
              "      <td>0</td>\n",
              "    </tr>\n",
              "    <tr>\n",
              "      <th>4</th>\n",
              "      <td>32</td>\n",
              "      <td>28.880</td>\n",
              "      <td>0</td>\n",
              "      <td>3866.85520</td>\n",
              "      <td>0</td>\n",
              "      <td>1</td>\n",
              "      <td>1</td>\n",
              "      <td>0</td>\n",
              "      <td>0</td>\n",
              "      <td>1</td>\n",
              "      <td>0</td>\n",
              "      <td>0</td>\n",
              "    </tr>\n",
              "  </tbody>\n",
              "</table>\n",
              "</div>\n",
              "      <button class=\"colab-df-convert\" onclick=\"convertToInteractive('df-3ee158d9-58ea-4492-bdf4-7b30080b6303')\"\n",
              "              title=\"Convert this dataframe to an interactive table.\"\n",
              "              style=\"display:none;\">\n",
              "        \n",
              "  <svg xmlns=\"http://www.w3.org/2000/svg\" height=\"24px\"viewBox=\"0 0 24 24\"\n",
              "       width=\"24px\">\n",
              "    <path d=\"M0 0h24v24H0V0z\" fill=\"none\"/>\n",
              "    <path d=\"M18.56 5.44l.94 2.06.94-2.06 2.06-.94-2.06-.94-.94-2.06-.94 2.06-2.06.94zm-11 1L8.5 8.5l.94-2.06 2.06-.94-2.06-.94L8.5 2.5l-.94 2.06-2.06.94zm10 10l.94 2.06.94-2.06 2.06-.94-2.06-.94-.94-2.06-.94 2.06-2.06.94z\"/><path d=\"M17.41 7.96l-1.37-1.37c-.4-.4-.92-.59-1.43-.59-.52 0-1.04.2-1.43.59L10.3 9.45l-7.72 7.72c-.78.78-.78 2.05 0 2.83L4 21.41c.39.39.9.59 1.41.59.51 0 1.02-.2 1.41-.59l7.78-7.78 2.81-2.81c.8-.78.8-2.07 0-2.86zM5.41 20L4 18.59l7.72-7.72 1.47 1.35L5.41 20z\"/>\n",
              "  </svg>\n",
              "      </button>\n",
              "      \n",
              "  <style>\n",
              "    .colab-df-container {\n",
              "      display:flex;\n",
              "      flex-wrap:wrap;\n",
              "      gap: 12px;\n",
              "    }\n",
              "\n",
              "    .colab-df-convert {\n",
              "      background-color: #E8F0FE;\n",
              "      border: none;\n",
              "      border-radius: 50%;\n",
              "      cursor: pointer;\n",
              "      display: none;\n",
              "      fill: #1967D2;\n",
              "      height: 32px;\n",
              "      padding: 0 0 0 0;\n",
              "      width: 32px;\n",
              "    }\n",
              "\n",
              "    .colab-df-convert:hover {\n",
              "      background-color: #E2EBFA;\n",
              "      box-shadow: 0px 1px 2px rgba(60, 64, 67, 0.3), 0px 1px 3px 1px rgba(60, 64, 67, 0.15);\n",
              "      fill: #174EA6;\n",
              "    }\n",
              "\n",
              "    [theme=dark] .colab-df-convert {\n",
              "      background-color: #3B4455;\n",
              "      fill: #D2E3FC;\n",
              "    }\n",
              "\n",
              "    [theme=dark] .colab-df-convert:hover {\n",
              "      background-color: #434B5C;\n",
              "      box-shadow: 0px 1px 3px 1px rgba(0, 0, 0, 0.15);\n",
              "      filter: drop-shadow(0px 1px 2px rgba(0, 0, 0, 0.3));\n",
              "      fill: #FFFFFF;\n",
              "    }\n",
              "  </style>\n",
              "\n",
              "      <script>\n",
              "        const buttonEl =\n",
              "          document.querySelector('#df-3ee158d9-58ea-4492-bdf4-7b30080b6303 button.colab-df-convert');\n",
              "        buttonEl.style.display =\n",
              "          google.colab.kernel.accessAllowed ? 'block' : 'none';\n",
              "\n",
              "        async function convertToInteractive(key) {\n",
              "          const element = document.querySelector('#df-3ee158d9-58ea-4492-bdf4-7b30080b6303');\n",
              "          const dataTable =\n",
              "            await google.colab.kernel.invokeFunction('convertToInteractive',\n",
              "                                                     [key], {});\n",
              "          if (!dataTable) return;\n",
              "\n",
              "          const docLinkHtml = 'Like what you see? Visit the ' +\n",
              "            '<a target=\"_blank\" href=https://colab.research.google.com/notebooks/data_table.ipynb>data table notebook</a>'\n",
              "            + ' to learn more about interactive tables.';\n",
              "          element.innerHTML = '';\n",
              "          dataTable['output_type'] = 'display_data';\n",
              "          await google.colab.output.renderOutput(dataTable, element);\n",
              "          const docLink = document.createElement('div');\n",
              "          docLink.innerHTML = docLinkHtml;\n",
              "          element.appendChild(docLink);\n",
              "        }\n",
              "      </script>\n",
              "    </div>\n",
              "  </div>\n",
              "  "
            ]
          },
          "metadata": {},
          "execution_count": 46
        }
      ]
    },
    {
      "cell_type": "markdown",
      "source": [
        "Split the data into features (X) and labels(y)"
      ],
      "metadata": {
        "id": "v1UYTcyrJ84x"
      }
    },
    {
      "cell_type": "code",
      "source": [
        "X = insurance_one_hot.drop(\"charges\",axis=1)\n",
        "y = insurance_one_hot[\"charges\"]"
      ],
      "metadata": {
        "id": "POl_FjkgJhs0"
      },
      "execution_count": null,
      "outputs": []
    },
    {
      "cell_type": "code",
      "source": [
        "X.head()"
      ],
      "metadata": {
        "colab": {
          "base_uri": "https://localhost:8080/",
          "height": 206
        },
        "id": "VZZ-fgJTKTU3",
        "outputId": "58cbdfa8-1053-4b2d-83af-dbe8dc21c22b"
      },
      "execution_count": null,
      "outputs": [
        {
          "output_type": "execute_result",
          "data": {
            "text/plain": [
              "   age     bmi  children  sex_female  sex_male  smoker_no  smoker_yes  \\\n",
              "0   19  27.900         0           1         0          0           1   \n",
              "1   18  33.770         1           0         1          1           0   \n",
              "2   28  33.000         3           0         1          1           0   \n",
              "3   33  22.705         0           0         1          1           0   \n",
              "4   32  28.880         0           0         1          1           0   \n",
              "\n",
              "   region_northeast  region_northwest  region_southeast  region_southwest  \n",
              "0                 0                 0                 0                 1  \n",
              "1                 0                 0                 1                 0  \n",
              "2                 0                 0                 1                 0  \n",
              "3                 0                 1                 0                 0  \n",
              "4                 0                 1                 0                 0  "
            ],
            "text/html": [
              "\n",
              "  <div id=\"df-6ef83b5b-c783-4efe-82ba-693533d94dec\">\n",
              "    <div class=\"colab-df-container\">\n",
              "      <div>\n",
              "<style scoped>\n",
              "    .dataframe tbody tr th:only-of-type {\n",
              "        vertical-align: middle;\n",
              "    }\n",
              "\n",
              "    .dataframe tbody tr th {\n",
              "        vertical-align: top;\n",
              "    }\n",
              "\n",
              "    .dataframe thead th {\n",
              "        text-align: right;\n",
              "    }\n",
              "</style>\n",
              "<table border=\"1\" class=\"dataframe\">\n",
              "  <thead>\n",
              "    <tr style=\"text-align: right;\">\n",
              "      <th></th>\n",
              "      <th>age</th>\n",
              "      <th>bmi</th>\n",
              "      <th>children</th>\n",
              "      <th>sex_female</th>\n",
              "      <th>sex_male</th>\n",
              "      <th>smoker_no</th>\n",
              "      <th>smoker_yes</th>\n",
              "      <th>region_northeast</th>\n",
              "      <th>region_northwest</th>\n",
              "      <th>region_southeast</th>\n",
              "      <th>region_southwest</th>\n",
              "    </tr>\n",
              "  </thead>\n",
              "  <tbody>\n",
              "    <tr>\n",
              "      <th>0</th>\n",
              "      <td>19</td>\n",
              "      <td>27.900</td>\n",
              "      <td>0</td>\n",
              "      <td>1</td>\n",
              "      <td>0</td>\n",
              "      <td>0</td>\n",
              "      <td>1</td>\n",
              "      <td>0</td>\n",
              "      <td>0</td>\n",
              "      <td>0</td>\n",
              "      <td>1</td>\n",
              "    </tr>\n",
              "    <tr>\n",
              "      <th>1</th>\n",
              "      <td>18</td>\n",
              "      <td>33.770</td>\n",
              "      <td>1</td>\n",
              "      <td>0</td>\n",
              "      <td>1</td>\n",
              "      <td>1</td>\n",
              "      <td>0</td>\n",
              "      <td>0</td>\n",
              "      <td>0</td>\n",
              "      <td>1</td>\n",
              "      <td>0</td>\n",
              "    </tr>\n",
              "    <tr>\n",
              "      <th>2</th>\n",
              "      <td>28</td>\n",
              "      <td>33.000</td>\n",
              "      <td>3</td>\n",
              "      <td>0</td>\n",
              "      <td>1</td>\n",
              "      <td>1</td>\n",
              "      <td>0</td>\n",
              "      <td>0</td>\n",
              "      <td>0</td>\n",
              "      <td>1</td>\n",
              "      <td>0</td>\n",
              "    </tr>\n",
              "    <tr>\n",
              "      <th>3</th>\n",
              "      <td>33</td>\n",
              "      <td>22.705</td>\n",
              "      <td>0</td>\n",
              "      <td>0</td>\n",
              "      <td>1</td>\n",
              "      <td>1</td>\n",
              "      <td>0</td>\n",
              "      <td>0</td>\n",
              "      <td>1</td>\n",
              "      <td>0</td>\n",
              "      <td>0</td>\n",
              "    </tr>\n",
              "    <tr>\n",
              "      <th>4</th>\n",
              "      <td>32</td>\n",
              "      <td>28.880</td>\n",
              "      <td>0</td>\n",
              "      <td>0</td>\n",
              "      <td>1</td>\n",
              "      <td>1</td>\n",
              "      <td>0</td>\n",
              "      <td>0</td>\n",
              "      <td>1</td>\n",
              "      <td>0</td>\n",
              "      <td>0</td>\n",
              "    </tr>\n",
              "  </tbody>\n",
              "</table>\n",
              "</div>\n",
              "      <button class=\"colab-df-convert\" onclick=\"convertToInteractive('df-6ef83b5b-c783-4efe-82ba-693533d94dec')\"\n",
              "              title=\"Convert this dataframe to an interactive table.\"\n",
              "              style=\"display:none;\">\n",
              "        \n",
              "  <svg xmlns=\"http://www.w3.org/2000/svg\" height=\"24px\"viewBox=\"0 0 24 24\"\n",
              "       width=\"24px\">\n",
              "    <path d=\"M0 0h24v24H0V0z\" fill=\"none\"/>\n",
              "    <path d=\"M18.56 5.44l.94 2.06.94-2.06 2.06-.94-2.06-.94-.94-2.06-.94 2.06-2.06.94zm-11 1L8.5 8.5l.94-2.06 2.06-.94-2.06-.94L8.5 2.5l-.94 2.06-2.06.94zm10 10l.94 2.06.94-2.06 2.06-.94-2.06-.94-.94-2.06-.94 2.06-2.06.94z\"/><path d=\"M17.41 7.96l-1.37-1.37c-.4-.4-.92-.59-1.43-.59-.52 0-1.04.2-1.43.59L10.3 9.45l-7.72 7.72c-.78.78-.78 2.05 0 2.83L4 21.41c.39.39.9.59 1.41.59.51 0 1.02-.2 1.41-.59l7.78-7.78 2.81-2.81c.8-.78.8-2.07 0-2.86zM5.41 20L4 18.59l7.72-7.72 1.47 1.35L5.41 20z\"/>\n",
              "  </svg>\n",
              "      </button>\n",
              "      \n",
              "  <style>\n",
              "    .colab-df-container {\n",
              "      display:flex;\n",
              "      flex-wrap:wrap;\n",
              "      gap: 12px;\n",
              "    }\n",
              "\n",
              "    .colab-df-convert {\n",
              "      background-color: #E8F0FE;\n",
              "      border: none;\n",
              "      border-radius: 50%;\n",
              "      cursor: pointer;\n",
              "      display: none;\n",
              "      fill: #1967D2;\n",
              "      height: 32px;\n",
              "      padding: 0 0 0 0;\n",
              "      width: 32px;\n",
              "    }\n",
              "\n",
              "    .colab-df-convert:hover {\n",
              "      background-color: #E2EBFA;\n",
              "      box-shadow: 0px 1px 2px rgba(60, 64, 67, 0.3), 0px 1px 3px 1px rgba(60, 64, 67, 0.15);\n",
              "      fill: #174EA6;\n",
              "    }\n",
              "\n",
              "    [theme=dark] .colab-df-convert {\n",
              "      background-color: #3B4455;\n",
              "      fill: #D2E3FC;\n",
              "    }\n",
              "\n",
              "    [theme=dark] .colab-df-convert:hover {\n",
              "      background-color: #434B5C;\n",
              "      box-shadow: 0px 1px 3px 1px rgba(0, 0, 0, 0.15);\n",
              "      filter: drop-shadow(0px 1px 2px rgba(0, 0, 0, 0.3));\n",
              "      fill: #FFFFFF;\n",
              "    }\n",
              "  </style>\n",
              "\n",
              "      <script>\n",
              "        const buttonEl =\n",
              "          document.querySelector('#df-6ef83b5b-c783-4efe-82ba-693533d94dec button.colab-df-convert');\n",
              "        buttonEl.style.display =\n",
              "          google.colab.kernel.accessAllowed ? 'block' : 'none';\n",
              "\n",
              "        async function convertToInteractive(key) {\n",
              "          const element = document.querySelector('#df-6ef83b5b-c783-4efe-82ba-693533d94dec');\n",
              "          const dataTable =\n",
              "            await google.colab.kernel.invokeFunction('convertToInteractive',\n",
              "                                                     [key], {});\n",
              "          if (!dataTable) return;\n",
              "\n",
              "          const docLinkHtml = 'Like what you see? Visit the ' +\n",
              "            '<a target=\"_blank\" href=https://colab.research.google.com/notebooks/data_table.ipynb>data table notebook</a>'\n",
              "            + ' to learn more about interactive tables.';\n",
              "          element.innerHTML = '';\n",
              "          dataTable['output_type'] = 'display_data';\n",
              "          await google.colab.output.renderOutput(dataTable, element);\n",
              "          const docLink = document.createElement('div');\n",
              "          docLink.innerHTML = docLinkHtml;\n",
              "          element.appendChild(docLink);\n",
              "        }\n",
              "      </script>\n",
              "    </div>\n",
              "  </div>\n",
              "  "
            ]
          },
          "metadata": {},
          "execution_count": 48
        }
      ]
    },
    {
      "cell_type": "code",
      "source": [],
      "metadata": {
        "id": "53-Efa-_MSCW"
      },
      "execution_count": null,
      "outputs": []
    },
    {
      "cell_type": "code",
      "source": [
        "X.count(),y.count()"
      ],
      "metadata": {
        "colab": {
          "base_uri": "https://localhost:8080/"
        },
        "id": "CpXmqNiIKUfX",
        "outputId": "10e37dfc-c6da-4505-e23b-46bbd5b10722"
      },
      "execution_count": null,
      "outputs": [
        {
          "output_type": "execute_result",
          "data": {
            "text/plain": [
              "(age                 1338\n",
              " bmi                 1338\n",
              " children            1338\n",
              " sex_female          1338\n",
              " sex_male            1338\n",
              " smoker_no           1338\n",
              " smoker_yes          1338\n",
              " region_northeast    1338\n",
              " region_northwest    1338\n",
              " region_southeast    1338\n",
              " region_southwest    1338\n",
              " dtype: int64,\n",
              " 1338)"
            ]
          },
          "metadata": {},
          "execution_count": 57
        }
      ]
    },
    {
      "cell_type": "markdown",
      "source": [
        "Create the train and test split using sklearn's `train_test_split`"
      ],
      "metadata": {
        "id": "jToDU2YGKgGT"
      }
    },
    {
      "cell_type": "code",
      "source": [
        "from sklearn.model_selection import train_test_split\n",
        "X_train, X_test, y_train, y_test = train_test_split(X\n",
        "                                                    ,y\n",
        "                                                    ,test_size=0.2\n",
        "                                                    ,random_state=42)\n",
        "\n",
        "len(X_train), len(y_train), len(X_test),len(y_test)"
      ],
      "metadata": {
        "colab": {
          "base_uri": "https://localhost:8080/"
        },
        "id": "uyQttLotKXem",
        "outputId": "9ec03a04-fd74-4ea7-b850-8b90c6b94b6f"
      },
      "execution_count": null,
      "outputs": [
        {
          "output_type": "execute_result",
          "data": {
            "text/plain": [
              "(1070, 1070, 268, 268)"
            ]
          },
          "metadata": {},
          "execution_count": 58
        }
      ]
    },
    {
      "cell_type": "markdown",
      "source": [
        "Now we can build and fit the model"
      ],
      "metadata": {
        "id": "Nf5gy6TILROD"
      }
    },
    {
      "cell_type": "code",
      "source": [
        "# Set seed\n",
        "tf.random.set_seed(42)\n",
        "\n",
        "# Build the model\n",
        "insurance_model = tf.keras.Sequential([\n",
        "     tf.keras.layers.Dense(1)\n",
        "    ,tf.keras.layers.Dense(1)\n",
        "])\n",
        "\n",
        "# Compile the model with loss and optimizers\n",
        "insurance_model.compile(loss=tf.keras.losses.mae\n",
        "                        ,optimizer=tf.keras.optimizers.SGD()\n",
        "                        ,metrics=['mae'])\n",
        "\n",
        "# fit the model\n",
        "insurance_model.fit(X_train,y_train,epochs=5)"
      ],
      "metadata": {
        "colab": {
          "base_uri": "https://localhost:8080/"
        },
        "id": "GVlWuxoeK_vy",
        "outputId": "63156d06-069e-40f6-a1d7-5b690a83f088"
      },
      "execution_count": null,
      "outputs": [
        {
          "output_type": "stream",
          "name": "stdout",
          "text": [
            "Epoch 1/5\n",
            "34/34 [==============================] - 1s 3ms/step - loss: 9396.4434 - mae: 9396.4434\n",
            "Epoch 2/5\n",
            "34/34 [==============================] - 0s 2ms/step - loss: 7870.6719 - mae: 7870.6719\n",
            "Epoch 3/5\n",
            "34/34 [==============================] - 0s 2ms/step - loss: 7587.6553 - mae: 7587.6553\n",
            "Epoch 4/5\n",
            "34/34 [==============================] - 0s 2ms/step - loss: 7530.9707 - mae: 7530.9707\n",
            "Epoch 5/5\n",
            "34/34 [==============================] - 0s 2ms/step - loss: 7700.5742 - mae: 7700.5742\n"
          ]
        },
        {
          "output_type": "execute_result",
          "data": {
            "text/plain": [
              "<keras.callbacks.History at 0x7f6419a8c580>"
            ]
          },
          "metadata": {},
          "execution_count": 59
        }
      ]
    },
    {
      "cell_type": "markdown",
      "source": [
        "Try with a bigger model\n",
        "1. Increase the number of layers from 2 to 3\n",
        "2. Increase the number of hidden units except the last layer, as the output shape expected is 1D array\n",
        "4. Change the optimizer from SGD to Adam\n",
        "3. Train the model longer."
      ],
      "metadata": {
        "id": "QSjB9Vk4NNor"
      }
    },
    {
      "cell_type": "code",
      "source": [
        "#set seed\n",
        "tf.random.set_seed(42)\n",
        "\n",
        "# build the model\n",
        "insurance_model_v2= tf.keras.Sequential([\n",
        "     tf.keras.layers.Dense(100)\n",
        "    ,tf.keras.layers.Dense(10)\n",
        "    ,tf.keras.layers.Dense(1)\n",
        "])\n",
        "\n",
        "# Compile the model with loss function and optimizers\n",
        "insurance_model_v2.compile(loss=tf.keras.losses.mae\n",
        "                           ,optimizer=tf.keras.optimizers.Adam()\n",
        "                           ,metrics=['mae'])\n",
        "\n",
        "# Train the model for 100 epochs and save the history( used later to plot the loss curve)\n",
        "history = insurance_model_v2.fit(X_train, y_train,epochs=100,verbose=0)"
      ],
      "metadata": {
        "id": "asVhpSMdL2Wq"
      },
      "execution_count": 68,
      "outputs": []
    },
    {
      "cell_type": "code",
      "source": [
        "# Evaluate the model\n",
        "insurance_model_v2.evaluate(X_test,y_test)"
      ],
      "metadata": {
        "colab": {
          "base_uri": "https://localhost:8080/"
        },
        "id": "NEddguVhOoPw",
        "outputId": "65a7342c-4721-451e-9991-8e4bc2a8ad97"
      },
      "execution_count": 69,
      "outputs": [
        {
          "output_type": "stream",
          "name": "stdout",
          "text": [
            "9/9 [==============================] - 0s 2ms/step - loss: 4822.6621 - mae: 4822.6621\n"
          ]
        },
        {
          "output_type": "execute_result",
          "data": {
            "text/plain": [
              "[4822.662109375, 4822.662109375]"
            ]
          },
          "metadata": {},
          "execution_count": 69
        }
      ]
    },
    {
      "cell_type": "code",
      "source": [
        "insurance_model.evaluate(X_test,y_test)"
      ],
      "metadata": {
        "colab": {
          "base_uri": "https://localhost:8080/"
        },
        "id": "Ii-K5TSPO_8A",
        "outputId": "65c4ee80-1bd0-4c77-9c56-c730df8a8fac"
      },
      "execution_count": 70,
      "outputs": [
        {
          "output_type": "stream",
          "name": "stdout",
          "text": [
            "9/9 [==============================] - 0s 2ms/step - loss: 7424.5161 - mae: 7424.5161\n"
          ]
        },
        {
          "output_type": "execute_result",
          "data": {
            "text/plain": [
              "[7424.51611328125, 7424.51611328125]"
            ]
          },
          "metadata": {},
          "execution_count": 70
        }
      ]
    },
    {
      "cell_type": "code",
      "source": [
        "#plot the loss curve\n",
        "pd.DataFrame(history.history).plot()\n",
        "plt.ylabel(\"loss\")\n",
        "plt.xlabel(\"epochs\");"
      ],
      "metadata": {
        "colab": {
          "base_uri": "https://localhost:8080/",
          "height": 449
        },
        "id": "D9SCAW3hPoBw",
        "outputId": "cc65c02f-f1f8-4790-b4a6-990e70b0eeb7"
      },
      "execution_count": 72,
      "outputs": [
        {
          "output_type": "display_data",
          "data": {
            "text/plain": [
              "<Figure size 640x480 with 1 Axes>"
            ],
            "image/png": "[encoded data removed]"
          },
          "metadata": {}
        }
      ]
    },
    {
      "cell_type": "markdown",
      "source": [
        "## Preprocessing Data\n",
        "A common practice when working with neural networks is to make sure all the data we pass to them is in range 0 and 1.\n",
        "\n",
        "This practice is called **normalization**\n",
        "\n",
        "There is another practice called **standardization** which converts all our data to unit variance and 0 mean\n",
        "\n",
        "\n",
        "Lets try re-training the model after applying **normatlization** and **standardization** to our data."
      ],
      "metadata": {
        "id": "79yAezi3XwKq"
      }
    },
    {
      "cell_type": "markdown",
      "source": [],
      "metadata": {
        "id": "tKOyIAU3bDty"
      }
    },
    {
      "cell_type": "code",
      "source": [
        "import pandas as pd\n",
        "import matplotlib.pyplot as plt\n",
        "import tensorflow as tf"
      ],
      "metadata": {
        "id": "Uu3UhTFERFOT"
      },
      "execution_count": 73,
      "outputs": []
    },
    {
      "cell_type": "code",
      "source": [
        "## Read the insurance data\n",
        "insurance = pd.read_csv(\"https://raw.githubusercontent.com/stedy/Machine-Learning-with-R-datasets/master/insurance.csv\")"
      ],
      "metadata": {
        "id": "md8wxhKobUWe"
      },
      "execution_count": 74,
      "outputs": []
    },
    {
      "cell_type": "code",
      "source": [
        "#check the data\n",
        "insurance.head()"
      ],
      "metadata": {
        "colab": {
          "base_uri": "https://localhost:8080/",
          "height": 206
        },
        "id": "awCzaQ2mbegn",
        "outputId": "82abcff4-79dd-46a7-f6c7-00c76cb278b3"
      },
      "execution_count": 75,
      "outputs": [
        {
          "output_type": "execute_result",
          "data": {
            "text/plain": [
              "   age     sex     bmi  children smoker     region      charges\n",
              "0   19  female  27.900         0    yes  southwest  16884.92400\n",
              "1   18    male  33.770         1     no  southeast   1725.55230\n",
              "2   28    male  33.000         3     no  southeast   4449.46200\n",
              "3   33    male  22.705         0     no  northwest  21984.47061\n",
              "4   32    male  28.880         0     no  northwest   3866.85520"
            ],
            "text/html": [
              "\n",
              "  <div id=\"df-fdc946c1-f300-4d0a-8370-607effd1c6c9\">\n",
              "    <div class=\"colab-df-container\">\n",
              "      <div>\n",
              "<style scoped>\n",
              "    .dataframe tbody tr th:only-of-type {\n",
              "        vertical-align: middle;\n",
              "    }\n",
              "\n",
              "    .dataframe tbody tr th {\n",
              "        vertical-align: top;\n",
              "    }\n",
              "\n",
              "    .dataframe thead th {\n",
              "        text-align: right;\n",
              "    }\n",
              "</style>\n",
              "<table border=\"1\" class=\"dataframe\">\n",
              "  <thead>\n",
              "    <tr style=\"text-align: right;\">\n",
              "      <th></th>\n",
              "      <th>age</th>\n",
              "      <th>sex</th>\n",
              "      <th>bmi</th>\n",
              "      <th>children</th>\n",
              "      <th>smoker</th>\n",
              "      <th>region</th>\n",
              "      <th>charges</th>\n",
              "    </tr>\n",
              "  </thead>\n",
              "  <tbody>\n",
              "    <tr>\n",
              "      <th>0</th>\n",
              "      <td>19</td>\n",
              "      <td>female</td>\n",
              "      <td>27.900</td>\n",
              "      <td>0</td>\n",
              "      <td>yes</td>\n",
              "      <td>southwest</td>\n",
              "      <td>16884.92400</td>\n",
              "    </tr>\n",
              "    <tr>\n",
              "      <th>1</th>\n",
              "      <td>18</td>\n",
              "      <td>male</td>\n",
              "      <td>33.770</td>\n",
              "      <td>1</td>\n",
              "      <td>no</td>\n",
              "      <td>southeast</td>\n",
              "      <td>1725.55230</td>\n",
              "    </tr>\n",
              "    <tr>\n",
              "      <th>2</th>\n",
              "      <td>28</td>\n",
              "      <td>male</td>\n",
              "      <td>33.000</td>\n",
              "      <td>3</td>\n",
              "      <td>no</td>\n",
              "      <td>southeast</td>\n",
              "      <td>4449.46200</td>\n",
              "    </tr>\n",
              "    <tr>\n",
              "      <th>3</th>\n",
              "      <td>33</td>\n",
              "      <td>male</td>\n",
              "      <td>22.705</td>\n",
              "      <td>0</td>\n",
              "      <td>no</td>\n",
              "      <td>northwest</td>\n",
              "      <td>21984.47061</td>\n",
              "    </tr>\n",
              "    <tr>\n",
              "      <th>4</th>\n",
              "      <td>32</td>\n",
              "      <td>male</td>\n",
              "      <td>28.880</td>\n",
              "      <td>0</td>\n",
              "      <td>no</td>\n",
              "      <td>northwest</td>\n",
              "      <td>3866.85520</td>\n",
              "    </tr>\n",
              "  </tbody>\n",
              "</table>\n",
              "</div>\n",
              "      <button class=\"colab-df-convert\" onclick=\"convertToInteractive('df-fdc946c1-f300-4d0a-8370-607effd1c6c9')\"\n",
              "              title=\"Convert this dataframe to an interactive table.\"\n",
              "              style=\"display:none;\">\n",
              "        \n",
              "  <svg xmlns=\"http://www.w3.org/2000/svg\" height=\"24px\"viewBox=\"0 0 24 24\"\n",
              "       width=\"24px\">\n",
              "    <path d=\"M0 0h24v24H0V0z\" fill=\"none\"/>\n",
              "    <path d=\"M18.56 5.44l.94 2.06.94-2.06 2.06-.94-2.06-.94-.94-2.06-.94 2.06-2.06.94zm-11 1L8.5 8.5l.94-2.06 2.06-.94-2.06-.94L8.5 2.5l-.94 2.06-2.06.94zm10 10l.94 2.06.94-2.06 2.06-.94-2.06-.94-.94-2.06-.94 2.06-2.06.94z\"/><path d=\"M17.41 7.96l-1.37-1.37c-.4-.4-.92-.59-1.43-.59-.52 0-1.04.2-1.43.59L10.3 9.45l-7.72 7.72c-.78.78-.78 2.05 0 2.83L4 21.41c.39.39.9.59 1.41.59.51 0 1.02-.2 1.41-.59l7.78-7.78 2.81-2.81c.8-.78.8-2.07 0-2.86zM5.41 20L4 18.59l7.72-7.72 1.47 1.35L5.41 20z\"/>\n",
              "  </svg>\n",
              "      </button>\n",
              "      \n",
              "  <style>\n",
              "    .colab-df-container {\n",
              "      display:flex;\n",
              "      flex-wrap:wrap;\n",
              "      gap: 12px;\n",
              "    }\n",
              "\n",
              "    .colab-df-convert {\n",
              "      background-color: #E8F0FE;\n",
              "      border: none;\n",
              "      border-radius: 50%;\n",
              "      cursor: pointer;\n",
              "      display: none;\n",
              "      fill: #1967D2;\n",
              "      height: 32px;\n",
              "      padding: 0 0 0 0;\n",
              "      width: 32px;\n",
              "    }\n",
              "\n",
              "    .colab-df-convert:hover {\n",
              "      background-color: #E2EBFA;\n",
              "      box-shadow: 0px 1px 2px rgba(60, 64, 67, 0.3), 0px 1px 3px 1px rgba(60, 64, 67, 0.15);\n",
              "      fill: #174EA6;\n",
              "    }\n",
              "\n",
              "    [theme=dark] .colab-df-convert {\n",
              "      background-color: #3B4455;\n",
              "      fill: #D2E3FC;\n",
              "    }\n",
              "\n",
              "    [theme=dark] .colab-df-convert:hover {\n",
              "      background-color: #434B5C;\n",
              "      box-shadow: 0px 1px 3px 1px rgba(0, 0, 0, 0.15);\n",
              "      filter: drop-shadow(0px 1px 2px rgba(0, 0, 0, 0.3));\n",
              "      fill: #FFFFFF;\n",
              "    }\n",
              "  </style>\n",
              "\n",
              "      <script>\n",
              "        const buttonEl =\n",
              "          document.querySelector('#df-fdc946c1-f300-4d0a-8370-607effd1c6c9 button.colab-df-convert');\n",
              "        buttonEl.style.display =\n",
              "          google.colab.kernel.accessAllowed ? 'block' : 'none';\n",
              "\n",
              "        async function convertToInteractive(key) {\n",
              "          const element = document.querySelector('#df-fdc946c1-f300-4d0a-8370-607effd1c6c9');\n",
              "          const dataTable =\n",
              "            await google.colab.kernel.invokeFunction('convertToInteractive',\n",
              "                                                     [key], {});\n",
              "          if (!dataTable) return;\n",
              "\n",
              "          const docLinkHtml = 'Like what you see? Visit the ' +\n",
              "            '<a target=\"_blank\" href=https://colab.research.google.com/notebooks/data_table.ipynb>data table notebook</a>'\n",
              "            + ' to learn more about interactive tables.';\n",
              "          element.innerHTML = '';\n",
              "          dataTable['output_type'] = 'display_data';\n",
              "          await google.colab.output.renderOutput(dataTable, element);\n",
              "          const docLink = document.createElement('div');\n",
              "          docLink.innerHTML = docLinkHtml;\n",
              "          element.appendChild(docLink);\n",
              "        }\n",
              "      </script>\n",
              "    </div>\n",
              "  </div>\n",
              "  "
            ]
          },
          "metadata": {},
          "execution_count": 75
        }
      ]
    },
    {
      "cell_type": "markdown",
      "source": [
        "We will use few classes from Scikit-learn to\n",
        "1. convert the categorical columns to numerical columns\n",
        "2. Normalize the data so that all the column values are in the range 0 to 1\n",
        "\n",
        "For the above requirements, we will use `make_column_transformer` to build a multi-step data preprocessing function.\n",
        "\n",
        "* `MinMaxScaler`: ensures all the columns are normalized\n",
        "* `OneHotEncoder`: ensures all the categorical columns are converted to numerical values\n",
        "\n"
      ],
      "metadata": {
        "id": "EYYZ8qY-boTU"
      }
    },
    {
      "cell_type": "code",
      "source": [
        "from sklearn.compose import make_column_transformer\n",
        "from sklearn.preprocessing import MinMaxScaler, OneHotEncoder\n",
        "from sklearn.model_selection import train_test_split\n",
        "\n",
        "# Create a column transformer\n",
        "ct = make_column_transformer(\n",
        "    (MinMaxScaler(),[\"age\",\"bmi\",\"children\"])\n",
        "    ,(OneHotEncoder(handle_unknown=\"ignore\"),[\"sex\",\"smoker\",\"region\"])\n",
        ")\n",
        "\n",
        "#Create X & y\n",
        "X = insurance.drop([\"charges\"],axis=1)\n",
        "y = insurance[\"charges\"]\n",
        "\n",
        "X_train, X_test, y_train, y_test = train_test_split(X\n",
        "                                                    ,y\n",
        "                                                    ,test_size=0.2\n",
        "                                                    ,random_state=42)\n",
        "\n",
        "#Fit the column transformer on the training data only\n",
        "ct.fit(X_train)\n",
        "\n",
        "#Transform the training data and test data with column transformer\n",
        "X_train_normal = ct.transform(X_train)\n",
        "X_test_normal = ct.transform(X_test)"
      ],
      "metadata": {
        "id": "D7HD98PHbgqt"
      },
      "execution_count": 77,
      "outputs": []
    },
    {
      "cell_type": "code",
      "source": [
        "# Lets look at the data before and after normalization\n",
        "X_train.loc[0]"
      ],
      "metadata": {
        "colab": {
          "base_uri": "https://localhost:8080/"
        },
        "id": "sg6o5Tr0fGr5",
        "outputId": "4380f4f3-ea37-4e24-ae4d-c60a4e74717e"
      },
      "execution_count": 78,
      "outputs": [
        {
          "output_type": "execute_result",
          "data": {
            "text/plain": [
              "age                19\n",
              "sex            female\n",
              "bmi              27.9\n",
              "children            0\n",
              "smoker            yes\n",
              "region      southwest\n",
              "Name: 0, dtype: object"
            ]
          },
          "metadata": {},
          "execution_count": 78
        }
      ]
    },
    {
      "cell_type": "code",
      "source": [
        "X_train_normal[0]"
      ],
      "metadata": {
        "colab": {
          "base_uri": "https://localhost:8080/"
        },
        "id": "ENNMuEI0fR82",
        "outputId": "4a741da2-185e-4165-a7e1-d5b7cb298b08"
      },
      "execution_count": 80,
      "outputs": [
        {
          "output_type": "execute_result",
          "data": {
            "text/plain": [
              "array([0.60869565, 0.10734463, 0.4       , 1.        , 0.        ,\n",
              "       1.        , 0.        , 0.        , 1.        , 0.        ,\n",
              "       0.        ])"
            ]
          },
          "metadata": {},
          "execution_count": 80
        }
      ]
    },
    {
      "cell_type": "code",
      "source": [
        "X_train.shape, X_train_normal.shape"
      ],
      "metadata": {
        "colab": {
          "base_uri": "https://localhost:8080/"
        },
        "id": "op7Iy_HOfU_3",
        "outputId": "be217e69-0eff-4d29-e899-de28a59d17b8"
      },
      "execution_count": 81,
      "outputs": [
        {
          "output_type": "execute_result",
          "data": {
            "text/plain": [
              "((1070, 6), (1070, 11))"
            ]
          },
          "metadata": {},
          "execution_count": 81
        }
      ]
    },
    {
      "cell_type": "code",
      "source": [
        "# Model with normalized data\n",
        "\n",
        "# set seed\n",
        "tf.random.set_seed(42)\n",
        "\n",
        "# build model\n",
        "insurance_model_v3 = tf.keras.Sequential([\n",
        "    tf.keras.layers.Dense(100)\n",
        "    ,tf.keras.layers.Dense(10)\n",
        "    ,tf.keras.layers.Dense(1)\n",
        "])\n",
        "\n",
        "# compile the model\n",
        "\n",
        "insurance_model_v3.compile(loss=tf.keras.losses.mae\n",
        "                           ,optimizer=tf.keras.optimizers.Adam()\n",
        "                           ,metrics=[\"mae\"]\n",
        "                           )\n",
        "\n",
        "# Train the model with normalized data\n",
        "\n",
        "history_2 = insurance_model_v3.fit(X_train_normal,y_train,epochs=300, verbose=0)\n"
      ],
      "metadata": {
        "id": "q8Ujf1dmfcZx"
      },
      "execution_count": 89,
      "outputs": []
    },
    {
      "cell_type": "code",
      "source": [
        "pd.DataFrame(history_2.history).plot()\n",
        "plt.xlabel(\"epochs\")\n",
        "plt.ylabel(\"loss\");"
      ],
      "metadata": {
        "colab": {
          "base_uri": "https://localhost:8080/",
          "height": 449
        },
        "id": "pr1KxgcsgnSI",
        "outputId": "ad006bad-dbff-4a0e-84f5-da7c49d6c276"
      },
      "execution_count": 90,
      "outputs": [
        {
          "output_type": "display_data",
          "data": {
            "text/plain": [
              "<Figure size 640x480 with 1 Axes>"
            ],
            "image/png": "[encoded data removed]"
          },
          "metadata": {}
        }
      ]
    },
    {
      "cell_type": "code",
      "source": [
        "v3_loss, v3_mae = insurance_model_v3.evaluate(X_test_normal,y_test)"
      ],
      "metadata": {
        "colab": {
          "base_uri": "https://localhost:8080/"
        },
        "id": "ZAp-L7YNgyUE",
        "outputId": "a1424904-1c4f-4f4f-d9c9-bba8226481f7"
      },
      "execution_count": 91,
      "outputs": [
        {
          "output_type": "stream",
          "name": "stdout",
          "text": [
            "9/9 [==============================] - 0s 2ms/step - loss: 3161.0774 - mae: 3161.0774\n"
          ]
        }
      ]
    },
    {
      "cell_type": "code",
      "source": [
        "v3_loss, v3_mae"
      ],
      "metadata": {
        "colab": {
          "base_uri": "https://localhost:8080/"
        },
        "id": "8ZSn2bqHhJEL",
        "outputId": "30d64f5a-ff68-48b7-e7b8-f5af48cd8ba2"
      },
      "execution_count": 92,
      "outputs": [
        {
          "output_type": "execute_result",
          "data": {
            "text/plain": [
              "(3161.077392578125, 3161.077392578125)"
            ]
          },
          "metadata": {},
          "execution_count": 92
        }
      ]
    },
    {
      "cell_type": "code",
      "source": [],
      "metadata": {
        "id": "sFHAPEebhT1S"
      },
      "execution_count": null,
      "outputs": []
    }
  ]
}