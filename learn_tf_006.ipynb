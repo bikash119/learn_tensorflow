{
  "nbformat": 4,
  "nbformat_minor": 0,
  "metadata": {
    "colab": {
      "provenance": [],
      "gpuType": "T4",
      "authorship_tag": "ABX9TyOywhnq88C0jBJ38aWumPSY",
      "include_colab_link": true
    },
    "kernelspec": {
      "name": "python3",
      "display_name": "Python 3"
    },
    "language_info": {
      "name": "python"
    },
    "accelerator": "GPU"
  },
  "cells": [
    {
      "cell_type": "markdown",
      "metadata": {
        "id": "view-in-github",
        "colab_type": "text"
      },
      "source": [
        "<a href=\"https://colab.research.google.com/github/bikash119/learn_tensorflow/blob/main/learn_tf_006.ipynb\" target=\"_parent\"><img src=\"https://colab.research.google.com/assets/colab-badge.svg\" alt=\"Open In Colab\"/></a>"
      ]
    },
    {
      "cell_type": "markdown",
      "source": [
        "## NLP: SkimLit 🔥\n",
        "### We will be replicating the deep learning model behind the 2017 paper [PubMed: A Dataset for Sequential Sentence Classification in Medical Abstracts](https://arxiv.org/abs/1710.06071)\n",
        "\n",
        "**The Problem:** The number of RCT papers releases is continuing to increase, those without structured abstracts can be hard to read and in turn slow down researchers moving through the literature\n",
        "\n",
        "**The Solution:** Create a NLP model to classify abstract sentences into the role they play from the list of possible roles (objective, method, result, background or conclusion)\n",
        "\n",
        "The data comes from: [PubMed: A Dataset for Sequential Sentence Classification in Medical Abstracts](https://arxiv.org/abs/1710.06071)\n",
        "\n",
        "The model is from: [Neural Networks for Joint Sentence Classification\n",
        "in Medical Paper Abstracts](https://arxiv.org/pdf/1612.05251.pdf)\n"
      ],
      "metadata": {
        "id": "64IFcTvv0Yc5"
      }
    },
    {
      "cell_type": "markdown",
      "source": [
        "### Steps to follow\n",
        "1. Download the data\n",
        "2. Perform Pre-processing\n",
        "3. Create a baseline model"
      ],
      "metadata": {
        "id": "rV6iDFme6GCv"
      }
    },
    {
      "cell_type": "markdown",
      "source": [
        "## 1. Dowload the data"
      ],
      "metadata": {
        "id": "x27pmFx36Vgb"
      }
    },
    {
      "cell_type": "code",
      "execution_count": 1,
      "metadata": {
        "colab": {
          "base_uri": "https://localhost:8080/"
        },
        "id": "K1QoY6-r0T-X",
        "outputId": "31993936-40e5-46b2-a11c-c3aec3916c22"
      },
      "outputs": [
        {
          "output_type": "stream",
          "name": "stdout",
          "text": [
            "fatal: destination path 'pubmed-rct' already exists and is not an empty directory.\n",
            "PubMed_200k_RCT\n",
            "PubMed_200k_RCT_numbers_replaced_with_at_sign\n",
            "PubMed_20k_RCT\n",
            "PubMed_20k_RCT_numbers_replaced_with_at_sign\n",
            "README.md\n"
          ]
        }
      ],
      "source": [
        "!git clone https://github.com/Franck-Dernoncourt/pubmed-rct.git\n",
        "!ls pubmed-rct"
      ]
    },
    {
      "cell_type": "markdown",
      "source": [
        "We will use the dataset `PubMed_20k_RCT_numbers_replaced_with_at_sign` for faster iterations on smaller data size. The `PubMed_200k_RCT_numbers_replaced_with_at_sign` is superset of `PubMed_20k_RCT_numbers_replaced_with_at_sign` where all the numbers (numerical values) are replaced with `at-sign`"
      ],
      "metadata": {
        "id": "gVZ0G55g6r8R"
      }
    },
    {
      "cell_type": "code",
      "source": [
        "!ls pubmed-rct/PubMed_200k_RCT_numbers_replaced_with_at_sign"
      ],
      "metadata": {
        "colab": {
          "base_uri": "https://localhost:8080/"
        },
        "id": "5H8v2a866fbp",
        "outputId": "6130bfec-9ad2-439a-f912-019d7681216c"
      },
      "execution_count": 2,
      "outputs": [
        {
          "output_type": "stream",
          "name": "stdout",
          "text": [
            "dev.txt  test.txt  train.zip\n"
          ]
        }
      ]
    },
    {
      "cell_type": "markdown",
      "source": [
        "**dev.txt**: Validation dataset\n",
        "\n",
        "**train.txt**: Training dataset\n",
        "\n",
        "**test.txt**: Test dataset"
      ],
      "metadata": {
        "id": "URQXbh3g7qye"
      }
    },
    {
      "cell_type": "code",
      "source": [
        "import os\n",
        "# Lets turn the filepath and the filename to a variable\n",
        "data_dir = \"/content/pubmed-rct/PubMed_20k_RCT_numbers_replaced_with_at_sign/\"\n",
        "# List all the files in a directory\n",
        "filenames= [data_dir+filename for filename in os.listdir(data_dir)]\n",
        "filenames"
      ],
      "metadata": {
        "colab": {
          "base_uri": "https://localhost:8080/"
        },
        "id": "fu98tKM_7i4r",
        "outputId": "a5b333f9-c335-4d7c-f5b6-ca4589c966fb"
      },
      "execution_count": 3,
      "outputs": [
        {
          "output_type": "execute_result",
          "data": {
            "text/plain": [
              "['/content/pubmed-rct/PubMed_20k_RCT_numbers_replaced_with_at_sign/train.txt',\n",
              " '/content/pubmed-rct/PubMed_20k_RCT_numbers_replaced_with_at_sign/dev.txt',\n",
              " '/content/pubmed-rct/PubMed_20k_RCT_numbers_replaced_with_at_sign/test.txt']"
            ]
          },
          "metadata": {},
          "execution_count": 3
        }
      ]
    },
    {
      "cell_type": "markdown",
      "source": [
        "```\n",
        "Visualize, Visualize, Visualize\n",
        "```"
      ],
      "metadata": {
        "id": "m7-7pLyQ9sVy"
      }
    },
    {
      "cell_type": "code",
      "source": [
        "# A function to read lines of a target file\n",
        "from typing import List\n",
        "\n",
        "def read_lines(filename) -> List[str]:\n",
        "  \"\"\"\n",
        "    Reads a file and returns the lines of the file as list\n",
        "    Args:\n",
        "      filename(str): Name of the file\n",
        "    Returns(List[str]):\n",
        "      A list containing the lines in the file\n",
        "  \"\"\"\n",
        "  with open(filename,\"r\") as f:\n",
        "    return f.readlines()"
      ],
      "metadata": {
        "id": "SK8Vo1M-8kaL"
      },
      "execution_count": 4,
      "outputs": []
    },
    {
      "cell_type": "code",
      "source": [
        "train_text = read_lines(data_dir+\"train.txt\")\n",
        "train_text[:20]\n"
      ],
      "metadata": {
        "colab": {
          "base_uri": "https://localhost:8080/"
        },
        "id": "EmMvn7-1-tE6",
        "outputId": "422a86d6-3c38-4c34-b568-8a720be6d0bb"
      },
      "execution_count": 5,
      "outputs": [
        {
          "output_type": "execute_result",
          "data": {
            "text/plain": [
              "['###24293578\\n',\n",
              " 'OBJECTIVE\\tTo investigate the efficacy of @ weeks of daily low-dose oral prednisolone in improving pain , mobility , and systemic low-grade inflammation in the short term and whether the effect would be sustained at @ weeks in older adults with moderate to severe knee osteoarthritis ( OA ) .\\n',\n",
              " 'METHODS\\tA total of @ patients with primary knee OA were randomized @:@ ; @ received @ mg/day of prednisolone and @ received placebo for @ weeks .\\n',\n",
              " 'METHODS\\tOutcome measures included pain reduction and improvement in function scores and systemic inflammation markers .\\n',\n",
              " 'METHODS\\tPain was assessed using the visual analog pain scale ( @-@ mm ) .\\n',\n",
              " 'METHODS\\tSecondary outcome measures included the Western Ontario and McMaster Universities Osteoarthritis Index scores , patient global assessment ( PGA ) of the severity of knee OA , and @-min walk distance ( @MWD ) .\\n',\n",
              " 'METHODS\\tSerum levels of interleukin @ ( IL-@ ) , IL-@ , tumor necrosis factor ( TNF ) - , and high-sensitivity C-reactive protein ( hsCRP ) were measured .\\n',\n",
              " 'RESULTS\\tThere was a clinically relevant reduction in the intervention group compared to the placebo group for knee pain , physical function , PGA , and @MWD at @ weeks .\\n',\n",
              " 'RESULTS\\tThe mean difference between treatment arms ( @ % CI ) was @ ( @-@ @ ) , p < @ ; @ ( @-@ @ ) , p < @ ; @ ( @-@ @ ) , p < @ ; and @ ( @-@ @ ) , p < @ , respectively .\\n',\n",
              " 'RESULTS\\tFurther , there was a clinically relevant reduction in the serum levels of IL-@ , IL-@ , TNF - , and hsCRP at @ weeks in the intervention group when compared to the placebo group .\\n',\n",
              " 'RESULTS\\tThese differences remained significant at @ weeks .\\n',\n",
              " 'RESULTS\\tThe Outcome Measures in Rheumatology Clinical Trials-Osteoarthritis Research Society International responder rate was @ % in the intervention group and @ % in the placebo group ( p < @ ) .\\n',\n",
              " 'CONCLUSIONS\\tLow-dose oral prednisolone had both a short-term and a longer sustained effect resulting in less knee pain , better physical function , and attenuation of systemic inflammation in older patients with knee OA ( ClinicalTrials.gov identifier NCT@ ) .\\n',\n",
              " '\\n',\n",
              " '###24854809\\n',\n",
              " 'BACKGROUND\\tEmotional eating is associated with overeating and the development of obesity .\\n',\n",
              " 'BACKGROUND\\tYet , empirical evidence for individual ( trait ) differences in emotional eating and cognitive mechanisms that contribute to eating during sad mood remain equivocal .\\n',\n",
              " 'OBJECTIVE\\tThe aim of this study was to test if attention bias for food moderates the effect of self-reported emotional eating during sad mood ( vs neutral mood ) on actual food intake .\\n',\n",
              " 'OBJECTIVE\\tIt was expected that emotional eating is predictive of elevated attention for food and higher food intake after an experimentally induced sad mood and that attentional maintenance on food predicts food intake during a sad versus a neutral mood .\\n',\n",
              " 'METHODS\\tParticipants ( N = @ ) were randomly assigned to one of the two experimental mood induction conditions ( sad/neutral ) .\\n']"
            ]
          },
          "metadata": {},
          "execution_count": 5
        }
      ]
    },
    {
      "cell_type": "markdown",
      "source": [
        "Observations from reading the content of `train.txt`\n",
        "1. Each sentence is prefixed with _role_ and separated by (`\\t`) from the content of the sentence.\n",
        "2. Each sentence ends with (`\\n`) and a comma (`,`)\n",
        "3. Every abstract is separated by abstract Id which starts with three hash (`###`) followed by a number and ends with (`\\n`) and comma (`,`)\n",
        "4. Every abstract ends with (`\\n`) in a line\n",
        "\n",
        "We will have to write a function such that all the lines in the target file are returned as list of dictionaries containing key/value pairs:\n",
        "  \n",
        "  * `\"line_number\"`: the position of the line in the abstract\n",
        "  * `\"target\"`: the role of the line in the abstract\n",
        "  * `\"text\"`: the text of the line in the abstract\n",
        "  * `\"total_lines\"`: the total lines in an abstract sample\n",
        "\n",
        "  Example output for a single line in an abstract\n",
        "  ```\n",
        "  [\n",
        "    {\n",
        "      \"line_number\":3\n",
        "      ,\"target\": \"OBJECTIVE\"\n",
        "      ,\"text\":\"It was expected that emotional eating is predictive of elevated attention for food and higher food intake after an experimentally induced sad mood and that attentional maintenance on food predicts food intake during a sad versus a neutral mood .\"\n",
        "      ,\"total_lines\": 11\n",
        "    }\n",
        "    ,{\n",
        "\n",
        "    }\n",
        "  ]  \n",
        "  ```"
      ],
      "metadata": {
        "id": "_vYnlrKOAEG7"
      }
    },
    {
      "cell_type": "code",
      "source": [
        "from typing import Dict,List\n",
        "def preprocess_text_with_line_numbers(filename) -> List[Dict]:\n",
        "  \"\"\"\n",
        "    Takes a filename and returns the contents of the file as list of dictionaries.\n",
        "    Args:\n",
        "      filename(str): The name of the target file\n",
        "    Returns:\n",
        "      abstract_lines(List[Dict]): A list of dictionaries each containing a line from the abstract.\n",
        "      Example output:\n",
        "        [\n",
        "          {\n",
        "            \"line_number\":3\n",
        "            ,\"target\": \"OBJECTIVE\"\n",
        "            ,\"text\":\"It was expected that emotional eating is predictive of elevated attention for food and higher food intake after an experimentally induced sad mood and that attentional maintenance on food predicts food intake during a sad versus a neutral mood .\"\n",
        "            ,\"total_lines\": 11\n",
        "          }\n",
        "          ,{\n",
        "            \"line_number\":4\n",
        "            ,\"target\": \"BACKGROUND\"\n",
        "            ,\"text\":\"Emotional eating is associated with overeating and the development of obesity .\"\n",
        "            ,\"total_lines\": 13\n",
        "          }\n",
        "        ]\n",
        "  \"\"\"\n",
        "  # all_abstracts = []\n",
        "  # abstract_line=\"\"\n",
        "  # file_content = read_lines(filename)\n",
        "  # line_number = 0\n",
        "  # abstract_line = {}\n",
        "  # for line in file_content:\n",
        "  #   # Check if the line contains abstract id\n",
        "  #   if line.startswith(\"###\"):\n",
        "  #     abstract_id = line\n",
        "  #   elif line in ['\\n']:\n",
        "  #     abstract_line[\"total_lines\"] = line_number-1\n",
        "  #     all_abstracts.append(abstract_line)\n",
        "  #     line_number = 0\n",
        "  #     abstract_line = {}\n",
        "  #   else:\n",
        "  #     target,text = line.split(\"\\t\")\n",
        "  #     line_number += 1\n",
        "  #     abstract_line[\"line_number\"] = line_number\n",
        "  #     abstract_line[\"target\"] = target\n",
        "  #     abstract_line[\"text\"] = text\n",
        "  # return all_abstracts\n",
        "  input_lines = read_lines(filename) # get all lines from filename\n",
        "  abstract_lines = \"\" # create an empty abstract\n",
        "  abstract_samples = [] # create an empty list of abstracts\n",
        "\n",
        "  # Loop through each line in target file\n",
        "  for line in input_lines:\n",
        "    if line.startswith(\"###\"): # check to see if line is an ID line\n",
        "      abstract_id = line\n",
        "      abstract_lines = \"\" # reset abstract string\n",
        "    elif line.isspace(): # check to see if line is a new line\n",
        "      abstract_line_split = abstract_lines.splitlines() # split abstract into separate lines\n",
        "\n",
        "      # Iterate through each line in abstract and count them at the same time\n",
        "      for abstract_line_number, abstract_line in enumerate(abstract_line_split):\n",
        "        line_data = {} # create empty dict to store data from line\n",
        "        target_text_split = abstract_line.split(\"\\t\") # split target label from text\n",
        "        line_data[\"target\"] = target_text_split[0] # get target label\n",
        "        line_data[\"text\"] = target_text_split[1].lower() # get target text and lower it\n",
        "        line_data[\"line_number\"] = abstract_line_number # what number line does the line appear in the abstract?\n",
        "        line_data[\"total_lines\"] = len(abstract_line_split) - 1 # how many total lines are in the abstract? (start from 0)\n",
        "        abstract_samples.append(line_data) # add line data to abstract samples list\n",
        "\n",
        "    else: # if the above conditions aren't fulfilled, the line contains a labelled sentence\n",
        "      abstract_lines += line\n",
        "\n",
        "  return abstract_samples\n"
      ],
      "metadata": {
        "id": "zoJiw6oj-0iu"
      },
      "execution_count": 6,
      "outputs": []
    },
    {
      "cell_type": "code",
      "source": [
        "all_abstracts=preprocess_text_with_line_numbers(data_dir+\"train.txt\")"
      ],
      "metadata": {
        "id": "Tb17edu9IslK"
      },
      "execution_count": 7,
      "outputs": []
    },
    {
      "cell_type": "code",
      "source": [
        "len(all_abstracts)"
      ],
      "metadata": {
        "colab": {
          "base_uri": "https://localhost:8080/"
        },
        "id": "hCDzxv_zIyPX",
        "outputId": "af5f1ba6-41b4-4cb7-a915-e482a1a2bee0"
      },
      "execution_count": 8,
      "outputs": [
        {
          "output_type": "execute_result",
          "data": {
            "text/plain": [
              "180040"
            ]
          },
          "metadata": {},
          "execution_count": 8
        }
      ]
    },
    {
      "cell_type": "code",
      "source": [
        "%%time\n",
        "train_samples = preprocess_text_with_line_numbers(data_dir+\"train.txt\")\n",
        "val_samples = preprocess_text_with_line_numbers(data_dir+\"dev.txt\")\n",
        "test_samples = preprocess_text_with_line_numbers(data_dir+\"test.txt\")\n",
        "len(train_samples), len(val_samples),len(test_samples)"
      ],
      "metadata": {
        "colab": {
          "base_uri": "https://localhost:8080/"
        },
        "id": "6DQS5kO2Q1mC",
        "outputId": "8cc3cf47-50c0-422a-d4af-08c4509e31a1"
      },
      "execution_count": 9,
      "outputs": [
        {
          "output_type": "stream",
          "name": "stdout",
          "text": [
            "CPU times: user 389 ms, sys: 78 ms, total: 467 ms\n",
            "Wall time: 509 ms\n"
          ]
        },
        {
          "output_type": "execute_result",
          "data": {
            "text/plain": [
              "(180040, 30212, 30135)"
            ]
          },
          "metadata": {},
          "execution_count": 9
        }
      ]
    },
    {
      "cell_type": "code",
      "source": [
        "import pandas as pd\n",
        "train_df = pd.DataFrame(train_samples)\n",
        "val_df = pd.DataFrame(val_samples)\n",
        "test_df = pd.DataFrame(test_samples)"
      ],
      "metadata": {
        "id": "__VJ5DOaRm58"
      },
      "execution_count": 10,
      "outputs": []
    },
    {
      "cell_type": "code",
      "source": [
        "len(train_df),len(val_df), len(test_df)"
      ],
      "metadata": {
        "colab": {
          "base_uri": "https://localhost:8080/"
        },
        "id": "Eu3z2PIeVz3k",
        "outputId": "587cb89e-08b6-4515-e837-0ee06fb1697f"
      },
      "execution_count": 11,
      "outputs": [
        {
          "output_type": "execute_result",
          "data": {
            "text/plain": [
              "(180040, 30212, 30135)"
            ]
          },
          "metadata": {},
          "execution_count": 11
        }
      ]
    },
    {
      "cell_type": "code",
      "source": [
        "train_df.target.value_counts()"
      ],
      "metadata": {
        "colab": {
          "base_uri": "https://localhost:8080/"
        },
        "id": "Gj4QjSA4V_mJ",
        "outputId": "1a1c294f-9b9c-4d26-b5f3-b0bd3253714e"
      },
      "execution_count": 12,
      "outputs": [
        {
          "output_type": "execute_result",
          "data": {
            "text/plain": [
              "METHODS        59353\n",
              "RESULTS        57953\n",
              "CONCLUSIONS    27168\n",
              "BACKGROUND     21727\n",
              "OBJECTIVE      13839\n",
              "Name: target, dtype: int64"
            ]
          },
          "metadata": {},
          "execution_count": 12
        }
      ]
    },
    {
      "cell_type": "code",
      "source": [
        "train_df.total_lines.plot.hist();"
      ],
      "metadata": {
        "colab": {
          "base_uri": "https://localhost:8080/",
          "height": 431
        },
        "id": "6mq1rAWxWDjH",
        "outputId": "57eb76c3-6731-4a2e-bc03-417644722106"
      },
      "execution_count": 13,
      "outputs": [
        {
          "output_type": "display_data",
          "data": {
            "text/plain": [
              "<Figure size 640x480 with 1 Axes>"
            ],
            "image/png": "[encoded data removed]"
          },
          "metadata": {}
        }
      ]
    },
    {
      "cell_type": "code",
      "source": [
        "train_sentences = train_df[\"text\"].tolist()\n",
        "val_sentences = val_df[\"text\"].tolist()\n",
        "test_sentences = test_df[\"text\"].tolist()\n",
        "len(train_sentences),len(val_sentences),len(test_sentences)"
      ],
      "metadata": {
        "colab": {
          "base_uri": "https://localhost:8080/"
        },
        "id": "SCQ48KVvWVA_",
        "outputId": "9f7174f0-4c20-4d50-cc82-8f1b29057e92"
      },
      "execution_count": 14,
      "outputs": [
        {
          "output_type": "execute_result",
          "data": {
            "text/plain": [
              "(180040, 30212, 30135)"
            ]
          },
          "metadata": {},
          "execution_count": 14
        }
      ]
    },
    {
      "cell_type": "markdown",
      "source": [
        "### Make numerical labels\n",
        "We're going to create one hot and label encoded labels\n",
        "> We could get away with just making label encoded labels, however, Tensorflow's CategoricalCrossEntropy loss function likes to have one hot encoded labels"
      ],
      "metadata": {
        "id": "hMQB8IE_T5KP"
      }
    },
    {
      "cell_type": "code",
      "source": [],
      "metadata": {
        "id": "6QysElpYVrTF"
      },
      "execution_count": 14,
      "outputs": []
    },
    {
      "cell_type": "code",
      "source": [
        "# One hot encoded labels\n",
        "from sklearn.preprocessing import OneHotEncoder\n",
        "one_hot_encoder = OneHotEncoder(sparse=False)\n",
        "train_labels_one_hot = one_hot_encoder.fit_transform(train_df[\"target\"].to_numpy().reshape(-1, 1))\n",
        "val_labels_one_hot = one_hot_encoder.fit_transform(val_df[\"target\"].to_numpy().reshape(-1,1))\n",
        "test_labels_one_hot = one_hot_encoder.fit_transform(test_df[\"target\"].to_numpy().reshape(-1,1))\n"
      ],
      "metadata": {
        "colab": {
          "base_uri": "https://localhost:8080/"
        },
        "id": "6U4wepHBW6vd",
        "outputId": "a60191d3-0ad6-4986-a3d7-e17bcd10af06"
      },
      "execution_count": 15,
      "outputs": [
        {
          "output_type": "stream",
          "name": "stderr",
          "text": [
            "/usr/local/lib/python3.10/dist-packages/sklearn/preprocessing/_encoders.py:868: FutureWarning: `sparse` was renamed to `sparse_output` in version 1.2 and will be removed in 1.4. `sparse_output` is ignored unless you leave `sparse` to its default value.\n",
            "  warnings.warn(\n",
            "/usr/local/lib/python3.10/dist-packages/sklearn/preprocessing/_encoders.py:868: FutureWarning: `sparse` was renamed to `sparse_output` in version 1.2 and will be removed in 1.4. `sparse_output` is ignored unless you leave `sparse` to its default value.\n",
            "  warnings.warn(\n",
            "/usr/local/lib/python3.10/dist-packages/sklearn/preprocessing/_encoders.py:868: FutureWarning: `sparse` was renamed to `sparse_output` in version 1.2 and will be removed in 1.4. `sparse_output` is ignored unless you leave `sparse` to its default value.\n",
            "  warnings.warn(\n"
          ]
        }
      ]
    },
    {
      "cell_type": "code",
      "source": [
        "train_labels_one_hot"
      ],
      "metadata": {
        "colab": {
          "base_uri": "https://localhost:8080/"
        },
        "id": "v7r9N-OFXf_n",
        "outputId": "1eda61af-d155-4e5d-82d4-f009f850707d"
      },
      "execution_count": 16,
      "outputs": [
        {
          "output_type": "execute_result",
          "data": {
            "text/plain": [
              "array([[0., 0., 0., 1., 0.],\n",
              "       [0., 0., 1., 0., 0.],\n",
              "       [0., 0., 1., 0., 0.],\n",
              "       ...,\n",
              "       [0., 0., 0., 0., 1.],\n",
              "       [0., 1., 0., 0., 0.],\n",
              "       [0., 1., 0., 0., 0.]])"
            ]
          },
          "metadata": {},
          "execution_count": 16
        }
      ]
    },
    {
      "cell_type": "code",
      "source": [
        "## Extract labels ( targets ) and encode them into integers\n",
        "from sklearn.preprocessing import LabelEncoder\n",
        "label_encoder = LabelEncoder()\n",
        "train_labels_encoded = label_encoder.fit_transform(train_df[\"target\"].to_numpy())\n",
        "val_labels_encoded = label_encoder.fit_transform(val_df[\"target\"].to_numpy())\n",
        "test_labels_encoded = label_encoder.fit_transform(test_df[\"target\"].to_numpy())"
      ],
      "metadata": {
        "id": "JL7yV6drW8Vg"
      },
      "execution_count": 17,
      "outputs": []
    },
    {
      "cell_type": "code",
      "source": [
        "train_labels_encoded"
      ],
      "metadata": {
        "colab": {
          "base_uri": "https://localhost:8080/"
        },
        "id": "0cfc5L9dXTM8",
        "outputId": "e5e300c4-42c4-4e8c-e85b-a6ed180e8232"
      },
      "execution_count": 18,
      "outputs": [
        {
          "output_type": "execute_result",
          "data": {
            "text/plain": [
              "array([3, 2, 2, ..., 4, 1, 1])"
            ]
          },
          "metadata": {},
          "execution_count": 18
        }
      ]
    },
    {
      "cell_type": "code",
      "source": [
        "num_classes = len(label_encoder.classes_)\n",
        "classes = label_encoder.classes_\n",
        "num_classes,classes"
      ],
      "metadata": {
        "colab": {
          "base_uri": "https://localhost:8080/"
        },
        "id": "28VUWUZLYE9t",
        "outputId": "77331d9e-b869-4083-e93f-82e32c132dbe"
      },
      "execution_count": 19,
      "outputs": [
        {
          "output_type": "execute_result",
          "data": {
            "text/plain": [
              "(5,\n",
              " array(['BACKGROUND', 'CONCLUSIONS', 'METHODS', 'OBJECTIVE', 'RESULTS'],\n",
              "       dtype=object))"
            ]
          },
          "metadata": {},
          "execution_count": 19
        }
      ]
    },
    {
      "cell_type": "markdown",
      "source": [
        "## Model 0: Getting a baseline\n",
        "Our first model will be a Tf-Idf Multinomial Naive Bayes as recommended by [Scikit-Learn's Machine Learning map](https://dev.mrdbourke.com/tensorflow-deep-learning/09_SkimLit_nlp_milestone_project_2/#model-0-getting-a-baseline)\n",
        "\n",
        "To build it we will use Scikit-Learn's `pipeline` which use `TfidfVectorizer` class to convert our abstract sentences into numbers using TF-IDF (term frequency- inverse document frequency) algorithm and then learn's to classify the sentence using `MultinomialNB` algorithm"
      ],
      "metadata": {
        "id": "q1U29qV1yCmz"
      }
    },
    {
      "cell_type": "code",
      "source": [
        "from sklearn.feature_extraction.text import TfidfVectorizer\n",
        "from sklearn.naive_bayes import MultinomialNB\n",
        "from sklearn.pipeline import Pipeline\n",
        "\n",
        "# Create a pipeline\n",
        "model_0 = Pipeline([\n",
        "    (\"tf-idf\",TfidfVectorizer())\n",
        "    ,(\"clf\",MultinomialNB())\n",
        "])\n",
        "\n",
        "model_0.fit(X=train_sentences,\n",
        "            y=train_labels_encoded)"
      ],
      "metadata": {
        "id": "SHYXJTmhYSwT",
        "colab": {
          "base_uri": "https://localhost:8080/",
          "height": 124
        },
        "outputId": "b4104e78-ccab-417a-c5cd-79ab62c0da85"
      },
      "execution_count": 20,
      "outputs": [
        {
          "output_type": "execute_result",
          "data": {
            "text/plain": [
              "Pipeline(steps=[('tf-idf', TfidfVectorizer()), ('clf', MultinomialNB())])"
            ],
            "text/html": [
              "<style>#sk-container-id-1 {color: black;background-color: white;}#sk-container-id-1 pre{padding: 0;}#sk-container-id-1 div.sk-toggleable {background-color: white;}#sk-container-id-1 label.sk-toggleable__label {cursor: pointer;display: block;width: 100%;margin-bottom: 0;padding: 0.3em;box-sizing: border-box;text-align: center;}#sk-container-id-1 label.sk-toggleable__label-arrow:before {content: \"▸\";float: left;margin-right: 0.25em;color: #696969;}#sk-container-id-1 label.sk-toggleable__label-arrow:hover:before {color: black;}#sk-container-id-1 div.sk-estimator:hover label.sk-toggleable__label-arrow:before {color: black;}#sk-container-id-1 div.sk-toggleable__content {max-height: 0;max-width: 0;overflow: hidden;text-align: left;background-color: #f0f8ff;}#sk-container-id-1 div.sk-toggleable__content pre {margin: 0.2em;color: black;border-radius: 0.25em;background-color: #f0f8ff;}#sk-container-id-1 input.sk-toggleable__control:checked~div.sk-toggleable__content {max-height: 200px;max-width: 100%;overflow: auto;}#sk-container-id-1 input.sk-toggleable__control:checked~label.sk-toggleable__label-arrow:before {content: \"▾\";}#sk-container-id-1 div.sk-estimator input.sk-toggleable__control:checked~label.sk-toggleable__label {background-color: #d4ebff;}#sk-container-id-1 div.sk-label input.sk-toggleable__control:checked~label.sk-toggleable__label {background-color: #d4ebff;}#sk-container-id-1 input.sk-hidden--visually {border: 0;clip: rect(1px 1px 1px 1px);clip: rect(1px, 1px, 1px, 1px);height: 1px;margin: -1px;overflow: hidden;padding: 0;position: absolute;width: 1px;}#sk-container-id-1 div.sk-estimator {font-family: monospace;background-color: #f0f8ff;border: 1px dotted black;border-radius: 0.25em;box-sizing: border-box;margin-bottom: 0.5em;}#sk-container-id-1 div.sk-estimator:hover {background-color: #d4ebff;}#sk-container-id-1 div.sk-parallel-item::after {content: \"\";width: 100%;border-bottom: 1px solid gray;flex-grow: 1;}#sk-container-id-1 div.sk-label:hover label.sk-toggleable__label {background-color: #d4ebff;}#sk-container-id-1 div.sk-serial::before {content: \"\";position: absolute;border-left: 1px solid gray;box-sizing: border-box;top: 0;bottom: 0;left: 50%;z-index: 0;}#sk-container-id-1 div.sk-serial {display: flex;flex-direction: column;align-items: center;background-color: white;padding-right: 0.2em;padding-left: 0.2em;position: relative;}#sk-container-id-1 div.sk-item {position: relative;z-index: 1;}#sk-container-id-1 div.sk-parallel {display: flex;align-items: stretch;justify-content: center;background-color: white;position: relative;}#sk-container-id-1 div.sk-item::before, #sk-container-id-1 div.sk-parallel-item::before {content: \"\";position: absolute;border-left: 1px solid gray;box-sizing: border-box;top: 0;bottom: 0;left: 50%;z-index: -1;}#sk-container-id-1 div.sk-parallel-item {display: flex;flex-direction: column;z-index: 1;position: relative;background-color: white;}#sk-container-id-1 div.sk-parallel-item:first-child::after {align-self: flex-end;width: 50%;}#sk-container-id-1 div.sk-parallel-item:last-child::after {align-self: flex-start;width: 50%;}#sk-container-id-1 div.sk-parallel-item:only-child::after {width: 0;}#sk-container-id-1 div.sk-dashed-wrapped {border: 1px dashed gray;margin: 0 0.4em 0.5em 0.4em;box-sizing: border-box;padding-bottom: 0.4em;background-color: white;}#sk-container-id-1 div.sk-label label {font-family: monospace;font-weight: bold;display: inline-block;line-height: 1.2em;}#sk-container-id-1 div.sk-label-container {text-align: center;}#sk-container-id-1 div.sk-container {/* jupyter's `normalize.less` sets `[hidden] { display: none; }` but bootstrap.min.css set `[hidden] { display: none !important; }` so we also need the `!important` here to be able to override the default hidden behavior on the sphinx rendered scikit-learn.org. See: https://github.com/scikit-learn/scikit-learn/issues/21755 */display: inline-block !important;position: relative;}#sk-container-id-1 div.sk-text-repr-fallback {display: none;}</style><div id=\"sk-container-id-1\" class=\"sk-top-container\"><div class=\"sk-text-repr-fallback\"><pre>Pipeline(steps=[(&#x27;tf-idf&#x27;, TfidfVectorizer()), (&#x27;clf&#x27;, MultinomialNB())])</pre><b>In a Jupyter environment, please rerun this cell to show the HTML representation or trust the notebook. <br />On GitHub, the HTML representation is unable to render, please try loading this page with nbviewer.org.</b></div><div class=\"sk-container\" hidden><div class=\"sk-item sk-dashed-wrapped\"><div class=\"sk-label-container\"><div class=\"sk-label sk-toggleable\"><input class=\"sk-toggleable__control sk-hidden--visually\" id=\"sk-estimator-id-1\" type=\"checkbox\" ><label for=\"sk-estimator-id-1\" class=\"sk-toggleable__label sk-toggleable__label-arrow\">Pipeline</label><div class=\"sk-toggleable__content\"><pre>Pipeline(steps=[(&#x27;tf-idf&#x27;, TfidfVectorizer()), (&#x27;clf&#x27;, MultinomialNB())])</pre></div></div></div><div class=\"sk-serial\"><div class=\"sk-item\"><div class=\"sk-estimator sk-toggleable\"><input class=\"sk-toggleable__control sk-hidden--visually\" id=\"sk-estimator-id-2\" type=\"checkbox\" ><label for=\"sk-estimator-id-2\" class=\"sk-toggleable__label sk-toggleable__label-arrow\">TfidfVectorizer</label><div class=\"sk-toggleable__content\"><pre>TfidfVectorizer()</pre></div></div></div><div class=\"sk-item\"><div class=\"sk-estimator sk-toggleable\"><input class=\"sk-toggleable__control sk-hidden--visually\" id=\"sk-estimator-id-3\" type=\"checkbox\" ><label for=\"sk-estimator-id-3\" class=\"sk-toggleable__label sk-toggleable__label-arrow\">MultinomialNB</label><div class=\"sk-toggleable__content\"><pre>MultinomialNB()</pre></div></div></div></div></div></div></div>"
            ]
          },
          "metadata": {},
          "execution_count": 20
        }
      ]
    },
    {
      "cell_type": "code",
      "source": [
        "model_0.score(X=val_sentences\n",
        "              ,y=val_labels_encoded)"
      ],
      "metadata": {
        "colab": {
          "base_uri": "https://localhost:8080/"
        },
        "id": "BdxAiv-D0IDB",
        "outputId": "cd7511ce-fd37-43d2-9f0b-d81f3f5f62c1"
      },
      "execution_count": 21,
      "outputs": [
        {
          "output_type": "execute_result",
          "data": {
            "text/plain": [
              "0.7218323844829869"
            ]
          },
          "metadata": {},
          "execution_count": 21
        }
      ]
    },
    {
      "cell_type": "code",
      "source": [
        "baseline_preds = model_0.predict(val_sentences)\n",
        "baseline_preds"
      ],
      "metadata": {
        "id": "ZYhMlEtm0M4J",
        "colab": {
          "base_uri": "https://localhost:8080/"
        },
        "outputId": "fc5ae49b-ad82-47ed-e9ed-f119c5add9d3"
      },
      "execution_count": 22,
      "outputs": [
        {
          "output_type": "execute_result",
          "data": {
            "text/plain": [
              "array([4, 1, 3, ..., 4, 4, 1])"
            ]
          },
          "metadata": {},
          "execution_count": 22
        }
      ]
    },
    {
      "cell_type": "markdown",
      "source": [
        "We need to define a function to calculate the following model metrics\n",
        "1. Accuracy\n",
        "2. Precision\n",
        "3. Recall\n",
        "4. f1-score"
      ],
      "metadata": {
        "id": "v77J1ye67x3S"
      }
    },
    {
      "cell_type": "code",
      "source": [
        "from sklearn.metrics import accuracy_score, precision_recall_fscore_support\n",
        "from typing import Dict\n",
        "def calculate_results(y_true,y_pred)-> Dict:\n",
        "  \"\"\"\n",
        "    Calculate the model evaluation metrics, namely : accuracy, precision, recall, fscore\n",
        "    Args:\n",
        "      y_true(List[Any]): True labels\n",
        "      y_pred(List[Any]): Predicted labels\n",
        "    Returns:\n",
        "      model_results(Dict)\n",
        "  \"\"\"\n",
        "  accuracy = accuracy_score(y_true=y_true,y_pred=y_pred) * 100\n",
        "  # calculate the precision, recall and f1_score using the \"weighted\" average\n",
        "  precision,recall,f1_score,_ = precision_recall_fscore_support(y_true=y_true,y_pred=y_pred,average=\"weighted\")\n",
        "  model_results = {\n",
        "      \"accuracy\":accuracy\n",
        "      ,\"precision\":precision\n",
        "      ,\"recall\":recall\n",
        "      ,\"f1score\":f1_score\n",
        "  }\n",
        "  return model_results\n"
      ],
      "metadata": {
        "id": "7ahgLDKQ7pxs"
      },
      "execution_count": 23,
      "outputs": []
    },
    {
      "cell_type": "code",
      "source": [
        "baseline_results = calculate_results(y_true=val_labels_encoded,y_pred=baseline_preds)\n",
        "baseline_results"
      ],
      "metadata": {
        "colab": {
          "base_uri": "https://localhost:8080/"
        },
        "id": "f2AFBPf_9uuJ",
        "outputId": "ddac64fc-d46d-4c59-af52-aed461937129"
      },
      "execution_count": 24,
      "outputs": [
        {
          "output_type": "execute_result",
          "data": {
            "text/plain": [
              "{'accuracy': 72.1832384482987,\n",
              " 'precision': 0.7186466952323352,\n",
              " 'recall': 0.7218323844829869,\n",
              " 'f1score': 0.6989250353450294}"
            ]
          },
          "metadata": {},
          "execution_count": 24
        }
      ]
    },
    {
      "cell_type": "markdown",
      "source": [
        "### Preparing the data from deep sequence models\n",
        "Before we embark on the journey of creating model, we will have to _numericalize_ our data using text vectorizer and embedding layers. Hence, we will have to create our own **text vectorizer** and **embedding layer**"
      ],
      "metadata": {
        "id": "MIbbErnL_Qge"
      }
    },
    {
      "cell_type": "code",
      "source": [
        "# import libraries\n",
        "import numpy as np\n",
        "import tensorflow as tf\n",
        "from tensorflow.keras import layers"
      ],
      "metadata": {
        "id": "tzkzHQSE97M4"
      },
      "execution_count": 25,
      "outputs": []
    },
    {
      "cell_type": "markdown",
      "source": [
        "Since, we will be dealing with text, its a good practice to find out the length of each line to be used for training.\n",
        "> _In general, neural networks works best when the inputs are of the same size. This is important as it will be used to create batches of same size\n",
        "For example, if one sentence is eight words long and another is 29 words long, we want to pad the eight word sentence with zeros so it ends up being the same length as 29 words sentence_."
      ],
      "metadata": {
        "id": "g9bDeUXsAeec"
      }
    },
    {
      "cell_type": "code",
      "source": [
        "#Let's find the average length of sentences in our training set\n",
        "sentence_lengths = [len(sentence.split()) for sentence in train_sentences ]\n",
        "avg_len = sum(sentence_lengths)/len(train_sentences)\n",
        "avg_len"
      ],
      "metadata": {
        "colab": {
          "base_uri": "https://localhost:8080/"
        },
        "id": "sGoHwSPvAdqE",
        "outputId": "d45a7281-17cc-4cff-db91-d30436972da9"
      },
      "execution_count": 26,
      "outputs": [
        {
          "output_type": "execute_result",
          "data": {
            "text/plain": [
              "26.338269273494777"
            ]
          },
          "metadata": {},
          "execution_count": 26
        }
      ]
    },
    {
      "cell_type": "code",
      "source": [
        "import matplotlib.pyplot as plt\n",
        "plt.hist(sentence_lengths,bins=7);"
      ],
      "metadata": {
        "colab": {
          "base_uri": "https://localhost:8080/",
          "height": 430
        },
        "id": "QqCNBCdYCBx4",
        "outputId": "671a1094-f6d5-431d-a914-11b18a536fb6"
      },
      "execution_count": 27,
      "outputs": [
        {
          "output_type": "display_data",
          "data": {
            "text/plain": [
              "<Figure size 640x480 with 1 Axes>"
            ],
            "image/png": "[encoded data removed]"
          },
          "metadata": {}
        }
      ]
    },
    {
      "cell_type": "code",
      "source": [
        "# How long of a sentence covers 95% of the lengths?\n",
        "output_seq_len = int(np.percentile(sentence_lengths,95))\n",
        "output_seq_len"
      ],
      "metadata": {
        "colab": {
          "base_uri": "https://localhost:8080/"
        },
        "id": "fSLlmw2kDHYj",
        "outputId": "476b9258-83b7-496e-c6f6-8a9765802804"
      },
      "execution_count": 28,
      "outputs": [
        {
          "output_type": "execute_result",
          "data": {
            "text/plain": [
              "55"
            ]
          },
          "metadata": {},
          "execution_count": 28
        }
      ]
    },
    {
      "cell_type": "markdown",
      "source": [
        "> **🔑Note**: Good practices to be followed when working with text corpus for a NLP problem\n",
        "1. What is the length of longest text?\n",
        "2. What is the length of smallest text?\n",
        "3. What is the distribution of length of text?\n",
        "4. One-hot encode the target labels\n",
        "5. LabelEncode the target labels\n"
      ],
      "metadata": {
        "id": "GPTEcPxiW1TR"
      }
    },
    {
      "cell_type": "code",
      "source": [
        "# As mentioned in Table.1\n",
        "max_tokens=68000\n",
        "#Create text vectorizer\n",
        "from tensorflow.keras.layers import TextVectorization\n",
        "text_vectorizer = TextVectorization(max_tokens=max_tokens\n",
        "                                 ,output_sequence_length=55) ## 55 since, we saw that 95% percent of lines in abstract are of length 55\n",
        "\n",
        "# adapt text vectorizer to training data\n",
        "\n",
        "text_vectorizer.adapt(train_sentences)\n"
      ],
      "metadata": {
        "id": "0Vt69OyvWAvV"
      },
      "execution_count": 29,
      "outputs": []
    },
    {
      "cell_type": "code",
      "source": [
        "# Test our text vectorizer\n",
        "import random\n",
        "target_sentence = random.choice(train_sentences)\n",
        "print(f\"Text:\\n {target_sentence}\")\n",
        "print(f\"Length of text:\\n {len(target_sentence.split())}\")\n",
        "print(f\"Vectorized Text:\\n {text_vectorizer([target_sentence])}\")"
      ],
      "metadata": {
        "colab": {
          "base_uri": "https://localhost:8080/"
        },
        "id": "yW8HDV_haRjR",
        "outputId": "4071fd16-a878-40d5-aafe-67e3ba4f1c99"
      },
      "execution_count": 30,
      "outputs": [
        {
          "output_type": "stream",
          "name": "stdout",
          "text": [
            "Text:\n",
            " signals from a diverse panel of systemic inflammation markers were essentially indistinguishable between dose regimens and placebo treatment .\n",
            "Length of text:\n",
            " 19\n",
            "Vectorized Text:\n",
            " [[ 3716    27     8  3449  4476     4   670   636   747     9 10763 17059\n",
            "     30   131   952     3    48    19     0     0     0     0     0     0\n",
            "      0     0     0     0     0     0     0     0     0     0     0     0\n",
            "      0     0     0     0     0     0     0     0     0     0     0     0\n",
            "      0     0     0     0     0     0     0]]\n"
          ]
        }
      ]
    },
    {
      "cell_type": "code",
      "source": [
        "text_vectorizer.get_config()"
      ],
      "metadata": {
        "colab": {
          "base_uri": "https://localhost:8080/"
        },
        "id": "7olFjbisc7GR",
        "outputId": "0b40140f-a972-4f4c-d7d8-b9e4ec820eac"
      },
      "execution_count": 31,
      "outputs": [
        {
          "output_type": "execute_result",
          "data": {
            "text/plain": [
              "{'name': 'text_vectorization',\n",
              " 'trainable': True,\n",
              " 'dtype': 'string',\n",
              " 'batch_input_shape': (None,),\n",
              " 'max_tokens': 68000,\n",
              " 'standardize': 'lower_and_strip_punctuation',\n",
              " 'split': 'whitespace',\n",
              " 'ngrams': None,\n",
              " 'output_mode': 'int',\n",
              " 'output_sequence_length': 55,\n",
              " 'pad_to_max_tokens': False,\n",
              " 'sparse': False,\n",
              " 'ragged': False,\n",
              " 'vocabulary': None,\n",
              " 'idf_weights': None,\n",
              " 'encoding': 'utf-8',\n",
              " 'vocabulary_size': 64841}"
            ]
          },
          "metadata": {},
          "execution_count": 31
        }
      ]
    },
    {
      "cell_type": "markdown",
      "source": [
        "### Create custom text embedding\n",
        "Our `text_vectorization` layers maps the words in our text directly to numbers.However, this doesn't capture the context of the sentence or in other words relation between the numbers\n",
        "\n",
        "To create richer numerical representation of our text, we need to use **embedding**\n",
        "\n",
        "As our model learns (by going through many different examples of abstract sentences and their labels), it'll update its embedding to better represent the relationship between tokens (numbers) in our corpus, hence will be able to gain the context of the sentences.\n",
        "\n",
        "We can create trainable embeddings using Tensorflow's `Embedding` layer.\n",
        "\n",
        "Again, here we are concerned about the input and output parameters of our `Embedding` layer.\n",
        "\n",
        "The `input_dim` describes the vocabulary size (68K in our case). And the `output_dim` parameter defines the dimension of the embedding output.\n",
        "\n",
        "Once created, our embedding layer will take the output of `text_vectorization` as input and convert them into feature vector of size `output_dim`"
      ],
      "metadata": {
        "id": "8YfCF-kwhIC0"
      }
    },
    {
      "cell_type": "code",
      "source": [
        "# Create token embedding layer\n",
        "rct_20k_text_vocab = text_vectorizer.get_vocabulary()\n",
        "token_embed = layers.Embedding(input_dim=len(rct_20k_text_vocab)\n",
        "                               ,output_dim=128\n",
        "                               ,mask_zero=True\n",
        "                               ,name=\"model_0_embedding\"\n",
        "                               )\n",
        "\n",
        "print(f\" Sentence before vectorization:{target_sentence}\")\n",
        "vectorized_text = text_vectorizer([target_sentence])\n",
        "print(f\" Sentence after vectorization before embedding: {vectorized_text}\")\n",
        "trainable_embeddings = token_embed(vectorized_text)\n",
        "print(f\" Sentence after  embedding: {trainable_embeddings}\")"
      ],
      "metadata": {
        "colab": {
          "base_uri": "https://localhost:8080/"
        },
        "id": "b_NO8TkYeFus",
        "outputId": "d805ecc3-ecb8-4a08-e81f-54b7989430d6"
      },
      "execution_count": 32,
      "outputs": [
        {
          "output_type": "stream",
          "name": "stdout",
          "text": [
            " Sentence before vectorization:signals from a diverse panel of systemic inflammation markers were essentially indistinguishable between dose regimens and placebo treatment .\n",
            " Sentence after vectorization before embedding: [[ 3716    27     8  3449  4476     4   670   636   747     9 10763 17059\n",
            "     30   131   952     3    48    19     0     0     0     0     0     0\n",
            "      0     0     0     0     0     0     0     0     0     0     0     0\n",
            "      0     0     0     0     0     0     0     0     0     0     0     0\n",
            "      0     0     0     0     0     0     0]]\n",
            " Sentence after  embedding: [[[-0.00991572  0.01685525  0.01408112 ...  0.04943872 -0.04715283\n",
            "   -0.02334243]\n",
            "  [ 0.00867523  0.04049857  0.0479317  ... -0.03722167 -0.01166725\n",
            "   -0.01721931]\n",
            "  [ 0.04162772 -0.00366316 -0.03388988 ... -0.00570488  0.00896249\n",
            "   -0.02454385]\n",
            "  ...\n",
            "  [ 0.03343668 -0.03228498  0.03029459 ... -0.04232681 -0.00638379\n",
            "   -0.0148891 ]\n",
            "  [ 0.03343668 -0.03228498  0.03029459 ... -0.04232681 -0.00638379\n",
            "   -0.0148891 ]\n",
            "  [ 0.03343668 -0.03228498  0.03029459 ... -0.04232681 -0.00638379\n",
            "   -0.0148891 ]]]\n"
          ]
        }
      ]
    },
    {
      "cell_type": "code",
      "source": [
        "from datetime import datetime\n",
        "def create_tensorboard_callback(dir_name,experiment_name):\n",
        "  \"\"\"\n",
        "    This function is used as a callback during the training of a model.\n",
        "    This will store the training experiments as we iterate over various strategies of\n",
        "    building / training the model\n",
        "  \"\"\"\n",
        "  log_dir = dir_name + \"/\" + experiment_name + \"/\" + datetime.now().strftime(\"%Y%m%d-%H%M%S\")\n",
        "  return tf.keras.callbacks.TensorBoard(log_dir=log_dir)"
      ],
      "metadata": {
        "id": "I0h_SWIC1k0R"
      },
      "execution_count": 33,
      "outputs": []
    },
    {
      "cell_type": "markdown",
      "source": [
        "## Create Datasets"
      ],
      "metadata": {
        "id": "59gBQhpi5adS"
      }
    },
    {
      "cell_type": "code",
      "source": [
        "len(train_sentences),len(val_sentences)"
      ],
      "metadata": {
        "colab": {
          "base_uri": "https://localhost:8080/"
        },
        "id": "l-cVVsEs9fuc",
        "outputId": "9f198255-3e5e-4f18-cc03-a4d22dbb0fdf"
      },
      "execution_count": 34,
      "outputs": [
        {
          "output_type": "execute_result",
          "data": {
            "text/plain": [
              "(180040, 30212)"
            ]
          },
          "metadata": {},
          "execution_count": 34
        }
      ]
    },
    {
      "cell_type": "code",
      "source": [
        "train_dataset= tf.data.Dataset.from_tensor_slices((train_sentences,train_labels_one_hot))\n",
        "valid_dataset= tf.data.Dataset.from_tensor_slices((val_sentences,val_labels_one_hot))\n",
        "test_dataset= tf.data.Dataset.from_tensor_slices((test_sentences,test_labels_one_hot))\n",
        "train_dataset"
      ],
      "metadata": {
        "colab": {
          "base_uri": "https://localhost:8080/"
        },
        "id": "n_lEhtW45fvQ",
        "outputId": "cc004abf-1780-4513-c727-234e5aeed40c"
      },
      "execution_count": 35,
      "outputs": [
        {
          "output_type": "execute_result",
          "data": {
            "text/plain": [
              "<_TensorSliceDataset element_spec=(TensorSpec(shape=(), dtype=tf.string, name=None), TensorSpec(shape=(5,), dtype=tf.float64, name=None))>"
            ]
          },
          "metadata": {},
          "execution_count": 35
        }
      ]
    },
    {
      "cell_type": "code",
      "source": [
        "train_dataset = train_dataset.batch(32).prefetch(tf.data.AUTOTUNE)\n",
        "val_dataset = valid_dataset.batch(32).prefetch(tf.data.AUTOTUNE)\n",
        "test_dataset = test_dataset.batch(32).prefetch(tf.data.AUTOTUNE)\n",
        "train_dataset"
      ],
      "metadata": {
        "colab": {
          "base_uri": "https://localhost:8080/"
        },
        "id": "fDW7aoJw6R_9",
        "outputId": "5f127a0b-96c9-4770-c65e-484c76e15e98"
      },
      "execution_count": 36,
      "outputs": [
        {
          "output_type": "execute_result",
          "data": {
            "text/plain": [
              "<_PrefetchDataset element_spec=(TensorSpec(shape=(None,), dtype=tf.string, name=None), TensorSpec(shape=(None, 5), dtype=tf.float64, name=None))>"
            ]
          },
          "metadata": {},
          "execution_count": 36
        }
      ]
    },
    {
      "cell_type": "markdown",
      "source": [
        "### Model 1: Conv1D with token embeddings\n",
        "All our deep learning models will have a similar structure\n",
        "```\n",
        "Text(input) -> Tokenize -> Embedding -> Layers -> Output (Label Probabilities)\n",
        "```"
      ],
      "metadata": {
        "id": "BBy1-xsbygaH"
      }
    },
    {
      "cell_type": "code",
      "source": [
        "# Create a 1D convolutional model to process sentences\n",
        "inputs= layers.Input(shape=(1,),dtype=tf.string)\n",
        "text_vectors= text_vectorizer(inputs)\n",
        "token_embeddings= token_embed(text_vectors)\n",
        "print(f\"Shape of embedding tokens: {token_embeddings.shape}\")\n",
        "x= layers.Conv1D(64,kernel_size=5,padding=\"same\",activation=\"relu\")(token_embeddings)\n",
        "x= layers.GlobalAveragePooling1D()(x)\n",
        "outputs= layers.Dense(num_classes,activation=\"softmax\")(x)\n",
        "model_1= tf.keras.Model(inputs,outputs,name=\"conv1d\")\n",
        "\n",
        "model_1.compile(loss=tf.keras.losses.categorical_crossentropy\n",
        "                ,optimizer=tf.keras.optimizers.Adam()\n",
        "                ,metrics=[\"accuracy\"]\n",
        "                )\n",
        "\n",
        "model_1.summary()"
      ],
      "metadata": {
        "colab": {
          "base_uri": "https://localhost:8080/"
        },
        "id": "D9PDRJRrl5ct",
        "outputId": "48ce33a2-3328-4afa-d860-7fac5b585d00"
      },
      "execution_count": 37,
      "outputs": [
        {
          "output_type": "stream",
          "name": "stdout",
          "text": [
            "Shape of embedding tokens: (None, 55, 128)\n",
            "Model: \"conv1d\"\n",
            "_________________________________________________________________\n",
            " Layer (type)                Output Shape              Param #   \n",
            "=================================================================\n",
            " input_1 (InputLayer)        [(None, 1)]               0         \n",
            "                                                                 \n",
            " text_vectorization (TextVec  (None, 55)               0         \n",
            " torization)                                                     \n",
            "                                                                 \n",
            " model_0_embedding (Embeddin  (None, 55, 128)          8299648   \n",
            " g)                                                              \n",
            "                                                                 \n",
            " conv1d (Conv1D)             (None, 55, 64)            41024     \n",
            "                                                                 \n",
            " global_average_pooling1d (G  (None, 64)               0         \n",
            " lobalAveragePooling1D)                                          \n",
            "                                                                 \n",
            " dense (Dense)               (None, 5)                 325       \n",
            "                                                                 \n",
            "=================================================================\n",
            "Total params: 8,340,997\n",
            "Trainable params: 8,340,997\n",
            "Non-trainable params: 0\n",
            "_________________________________________________________________\n"
          ]
        }
      ]
    },
    {
      "cell_type": "markdown",
      "source": [
        "Before we fit the model, let us create a function to push save our model experiments so that we can visualize it later on a tensorboard"
      ],
      "metadata": {
        "id": "DZyq7psT13nA"
      }
    },
    {
      "cell_type": "code",
      "source": [
        "SAVE_DIR=\"model_log\""
      ],
      "metadata": {
        "id": "QguQfG_L3zCh"
      },
      "execution_count": 38,
      "outputs": []
    },
    {
      "cell_type": "code",
      "source": [
        "history_1 = model_1.fit(train_dataset\n",
        "                        ,steps_per_epoch=int(0.1 * len(train_dataset))\n",
        "                        ,validation_data=val_dataset\n",
        "                        ,validation_steps=int(0.1*len(val_dataset))\n",
        "                        ,epochs=5\n",
        "                        ,callbacks=[create_tensorboard_callback(dir_name=SAVE_DIR,experiment_name=\"model_1_con1D\")]\n",
        "                        )"
      ],
      "metadata": {
        "colab": {
          "base_uri": "https://localhost:8080/"
        },
        "id": "t8zQit4Z3Brb",
        "outputId": "cd727f35-a2af-4b4b-c1bb-1953c79656aa"
      },
      "execution_count": 39,
      "outputs": [
        {
          "output_type": "stream",
          "name": "stdout",
          "text": [
            "Epoch 1/5\n",
            "562/562 [==============================] - 41s 67ms/step - loss: 0.9096 - accuracy: 0.6401 - val_loss: 0.6908 - val_accuracy: 0.7350\n",
            "Epoch 2/5\n",
            "562/562 [==============================] - 9s 17ms/step - loss: 0.6608 - accuracy: 0.7527 - val_loss: 0.6365 - val_accuracy: 0.7706\n",
            "Epoch 3/5\n",
            "562/562 [==============================] - 6s 10ms/step - loss: 0.6206 - accuracy: 0.7710 - val_loss: 0.6005 - val_accuracy: 0.7842\n",
            "Epoch 4/5\n",
            "562/562 [==============================] - 4s 8ms/step - loss: 0.5922 - accuracy: 0.7879 - val_loss: 0.5821 - val_accuracy: 0.7842\n",
            "Epoch 5/5\n",
            "562/562 [==============================] - 8s 14ms/step - loss: 0.5931 - accuracy: 0.7903 - val_loss: 0.5629 - val_accuracy: 0.7989\n"
          ]
        }
      ]
    },
    {
      "cell_type": "code",
      "source": [
        "model_1.evaluate(val_dataset)"
      ],
      "metadata": {
        "colab": {
          "base_uri": "https://localhost:8080/"
        },
        "id": "2G5K1zPbGAOZ",
        "outputId": "a7527b87-ed4a-4db7-e37f-e586d2c3e0a4"
      },
      "execution_count": 40,
      "outputs": [
        {
          "output_type": "stream",
          "name": "stdout",
          "text": [
            "945/945 [==============================] - 3s 3ms/step - loss: 0.5629 - accuracy: 0.8004\n"
          ]
        },
        {
          "output_type": "execute_result",
          "data": {
            "text/plain": [
              "[0.5628654956817627, 0.8003773093223572]"
            ]
          },
          "metadata": {},
          "execution_count": 40
        }
      ]
    },
    {
      "cell_type": "code",
      "source": [
        "model_1_pred_probs = model_1.predict(val_dataset)\n",
        "model_1_pred_probs"
      ],
      "metadata": {
        "colab": {
          "base_uri": "https://localhost:8080/"
        },
        "id": "-Nh9ZzscKIdv",
        "outputId": "ada176b8-c93d-45d6-ee28-74085ff59af1"
      },
      "execution_count": 41,
      "outputs": [
        {
          "output_type": "stream",
          "name": "stdout",
          "text": [
            "945/945 [==============================] - 6s 6ms/step\n"
          ]
        },
        {
          "output_type": "execute_result",
          "data": {
            "text/plain": [
              "array([[5.6280321e-01, 1.4938180e-01, 4.4238515e-02, 1.8779957e-01,\n",
              "        5.5776905e-02],\n",
              "       [4.8944634e-01, 3.0589873e-01, 2.9352022e-02, 1.3996617e-01,\n",
              "        3.5336770e-02],\n",
              "       [1.7103051e-01, 4.7345106e-03, 1.2211779e-03, 8.2299012e-01,\n",
              "        2.3787639e-05],\n",
              "       ...,\n",
              "       [4.1748171e-05, 5.1127712e-04, 3.6520450e-03, 4.1434902e-05,\n",
              "        9.9575353e-01],\n",
              "       [1.1699287e-01, 2.4752755e-01, 1.7833468e-01, 8.0027327e-02,\n",
              "        3.7711757e-01],\n",
              "       [1.3912871e-01, 7.6207519e-01, 4.8320249e-02, 1.7776534e-02,\n",
              "        3.2699358e-02]], dtype=float32)"
            ]
          },
          "metadata": {},
          "execution_count": 41
        }
      ]
    },
    {
      "cell_type": "code",
      "source": [
        "model_1_preds = tf.argmax(model_1_pred_probs,axis=1)\n",
        "model_1_preds"
      ],
      "metadata": {
        "colab": {
          "base_uri": "https://localhost:8080/"
        },
        "id": "R9QJ1bhzKPyl",
        "outputId": "303fa41e-432e-42fe-a1ad-bf53aad05f6a"
      },
      "execution_count": 42,
      "outputs": [
        {
          "output_type": "execute_result",
          "data": {
            "text/plain": [
              "<tf.Tensor: shape=(30212,), dtype=int64, numpy=array([0, 0, 3, ..., 4, 4, 1])>"
            ]
          },
          "metadata": {},
          "execution_count": 42
        }
      ]
    },
    {
      "cell_type": "code",
      "source": [
        "model_1_results = calculate_results(y_true=val_labels_encoded\n",
        "                                    ,y_pred=model_1_preds)\n",
        "model_1_results"
      ],
      "metadata": {
        "colab": {
          "base_uri": "https://localhost:8080/"
        },
        "id": "G0FIANfbKdLC",
        "outputId": "e4ae4d5a-515b-4140-d3f8-bf25bfd3ed72"
      },
      "execution_count": 43,
      "outputs": [
        {
          "output_type": "execute_result",
          "data": {
            "text/plain": [
              "{'accuracy': 80.03773335098636,\n",
              " 'precision': 0.800401238932739,\n",
              " 'recall': 0.8003773335098636,\n",
              " 'f1score': 0.7973492272480787}"
            ]
          },
          "metadata": {},
          "execution_count": 43
        }
      ]
    },
    {
      "cell_type": "markdown",
      "source": [
        "## Model 2: Feature extraction with pretrained token embeddings\n",
        "As we move towards replicating the model architecture in [Neural Networks for Joint Sentence Classification in Medical Paper Abstracts](https://arxiv.org/pdf/1612.05251.pdf), it mentions they have used a [pretrained GLoVe embedding](https://nlp.stanford.edu/projects/glove/) as a way to initialise their token embeddings.\n",
        "\n",
        "For our learning purpose , we will use whatever is available from Tensorflow hub. [GLoVe embedding](https://nlp.stanford.edu/projects/glove/) is not available in Tensorflow hub, hence we will use [pretrained Universal Sentence Embedding from Tensorflow hub](https://tfhub.dev/google/universal-sentence-encoder/4)\n",
        "\n",
        "_This type of model is called **transfer learning**, or more specifically **feature extraction transfer learning**. In other words, taking the patterns a model has learned elsewhere and applying it to our own problem_"
      ],
      "metadata": {
        "id": "YZ2i4cWLNCwq"
      }
    },
    {
      "cell_type": "code",
      "source": [
        "import tensorflow_hub as hub\n",
        "tf_hub_embedding_layer = hub.KerasLayer(\"https://tfhub.dev/google/universal-sentence-encoder/4\"\n",
        "                                        ,trainable=False\n",
        "                                        ,name=\"universal_sentence_encoder\")\n"
      ],
      "metadata": {
        "id": "BBi4ZMDiKubS"
      },
      "execution_count": 44,
      "outputs": []
    },
    {
      "cell_type": "code",
      "source": [
        "random_training_sentence= random.choice(train_sentences)\n",
        "print(f\" Training sample sentence: {random_training_sentence}\")\n",
        "use_embedding_sentence = tf_hub_embedding_layer([random_training_sentence])\n",
        "print(f\" Shape of the embedding vector generated use Universal Sentence Encoder : {use_embedding_sentence.shape}\")\n",
        "print(f\" Sentence embedding :{use_embedding_sentence[0][:30]}\")\n",
        "print(f\" Length of sentence embedding: {len(use_embedding_sentence[0])}\")"
      ],
      "metadata": {
        "colab": {
          "base_uri": "https://localhost:8080/"
        },
        "id": "f0oB8tEXPtZT",
        "outputId": "be892bf4-6fb5-4f97-feb6-16ba6f202d75"
      },
      "execution_count": 45,
      "outputs": [
        {
          "output_type": "stream",
          "name": "stdout",
          "text": [
            " Training sample sentence: this phase @ multicenter study was designed to assess the efficacy , safety and pharmacokinetics of pf-@ compared with placebo in mild to moderate probable alzheimer 's disease ( ad ) .\n",
            " Shape of the embedding vector generated use Universal Sentence Encoder : (1, 512)\n",
            " Sentence embedding :[ 0.0571893   0.01939794 -0.04350392 -0.07496908 -0.06952949  0.06026703\n",
            "  0.01466802 -0.04068497  0.06244743  0.0437145   0.08219834 -0.01468778\n",
            "  0.0496127  -0.00779699  0.01432128  0.02620246 -0.08415023 -0.04452185\n",
            "  0.01755487 -0.07843092  0.04289967 -0.03711397 -0.05717391  0.0056479\n",
            " -0.00596941 -0.03702413  0.06673358 -0.05025012  0.02492669  0.0241697 ]\n",
            " Length of sentence embedding: 512\n"
          ]
        }
      ]
    },
    {
      "cell_type": "markdown",
      "source": [
        "  Building and fitting an NLP feature extraction model from Tensorflow hub"
      ],
      "metadata": {
        "id": "7ANoI1DSR_Px"
      }
    },
    {
      "cell_type": "code",
      "source": [
        "# Define feature extraction model from Tensorflow hub\n",
        "inputs = layers.Input(shape=[],dtype=tf.string)\n",
        "pretrained_embedding = tf_hub_embedding_layer(inputs)\n",
        "x = layers.Dense(128,activation=\"relu\")(pretrained_embedding)\n",
        "outputs = layers.Dense(num_classes,activation=\"softmax\")(x)\n",
        "model_2 = tf.keras.Model(inputs,outputs,name=\"feature_extraction_model_2\")\n",
        "\n",
        "model_2.compile(loss=tf.keras.losses.categorical_crossentropy\n",
        "                ,optimizer=tf.keras.optimizers.Adam()\n",
        "                ,metrics=[\"accuracy\"]\n",
        "                )\n",
        "\n",
        "model_2.summary()"
      ],
      "metadata": {
        "colab": {
          "base_uri": "https://localhost:8080/"
        },
        "id": "VveUb9hHRuwQ",
        "outputId": "4be32631-6391-4c77-ffea-dc194d007e65"
      },
      "execution_count": 46,
      "outputs": [
        {
          "output_type": "stream",
          "name": "stdout",
          "text": [
            "Model: \"feature_extraction_model_2\"\n",
            "_________________________________________________________________\n",
            " Layer (type)                Output Shape              Param #   \n",
            "=================================================================\n",
            " input_2 (InputLayer)        [(None,)]                 0         \n",
            "                                                                 \n",
            " universal_sentence_encoder   (None, 512)              256797824 \n",
            " (KerasLayer)                                                    \n",
            "                                                                 \n",
            " dense_1 (Dense)             (None, 128)               65664     \n",
            "                                                                 \n",
            " dense_2 (Dense)             (None, 5)                 645       \n",
            "                                                                 \n",
            "=================================================================\n",
            "Total params: 256,864,133\n",
            "Trainable params: 66,309\n",
            "Non-trainable params: 256,797,824\n",
            "_________________________________________________________________\n"
          ]
        }
      ]
    },
    {
      "cell_type": "code",
      "source": [
        "history_2 = model_2.fit(train_dataset\n",
        "                        ,steps_per_epoch=(0.1 * len(train_dataset))\n",
        "                        ,validation_data=val_dataset\n",
        "                        ,validation_steps=(0.1 * len(val_dataset))\n",
        "                        ,epochs=5\n",
        "                        ,callbacks=[create_tensorboard_callback(dir_name=SAVE_DIR,experiment_name=\"feature_extractor_model_2\")]\n",
        "                        )"
      ],
      "metadata": {
        "colab": {
          "base_uri": "https://localhost:8080/"
        },
        "id": "1rkdmcboTZ32",
        "outputId": "b37769b5-e3e1-4003-9c1a-abbbf80ff159"
      },
      "execution_count": 47,
      "outputs": [
        {
          "output_type": "stream",
          "name": "stdout",
          "text": [
            "Epoch 1/5\n",
            "562/562 [==============================] - 14s 19ms/step - loss: 0.9203 - accuracy: 0.6464 - val_loss: 0.8031 - val_accuracy: 0.6822\n",
            "Epoch 2/5\n",
            "562/562 [==============================] - 8s 14ms/step - loss: 0.7679 - accuracy: 0.7008 - val_loss: 0.7586 - val_accuracy: 0.7053\n",
            "Epoch 3/5\n",
            "562/562 [==============================] - 10s 17ms/step - loss: 0.7504 - accuracy: 0.7124 - val_loss: 0.7424 - val_accuracy: 0.7145\n",
            "Epoch 4/5\n",
            "562/562 [==============================] - 10s 17ms/step - loss: 0.7185 - accuracy: 0.7247 - val_loss: 0.7114 - val_accuracy: 0.7273\n",
            "Epoch 5/5\n",
            "562/562 [==============================] - 8s 14ms/step - loss: 0.7241 - accuracy: 0.7226 - val_loss: 0.6920 - val_accuracy: 0.7329\n"
          ]
        }
      ]
    },
    {
      "cell_type": "code",
      "source": [
        "model_2.evaluate(val_dataset)"
      ],
      "metadata": {
        "colab": {
          "base_uri": "https://localhost:8080/"
        },
        "id": "nDBYxmaZT-Su",
        "outputId": "4c6bafdc-97e3-4f4c-82ef-81c493fcb9a2"
      },
      "execution_count": 48,
      "outputs": [
        {
          "output_type": "stream",
          "name": "stdout",
          "text": [
            "945/945 [==============================] - 12s 13ms/step - loss: 0.6962 - accuracy: 0.7350\n"
          ]
        },
        {
          "output_type": "execute_result",
          "data": {
            "text/plain": [
              "[0.6962432265281677, 0.7349728345870972]"
            ]
          },
          "metadata": {},
          "execution_count": 48
        }
      ]
    },
    {
      "cell_type": "code",
      "source": [
        "model_2_pred_probs = model_2.predict(val_dataset)\n",
        "model_2_pred_probs"
      ],
      "metadata": {
        "colab": {
          "base_uri": "https://localhost:8080/"
        },
        "id": "0O-oQUW7UQaw",
        "outputId": "e92bef6a-00ad-4b3a-d4e1-5ddb25430ee4"
      },
      "execution_count": 49,
      "outputs": [
        {
          "output_type": "stream",
          "name": "stdout",
          "text": [
            "945/945 [==============================] - 12s 12ms/step\n"
          ]
        },
        {
          "output_type": "execute_result",
          "data": {
            "text/plain": [
              "array([[6.4031142e-01, 2.2137463e-01, 2.7871572e-03, 1.2524843e-01,\n",
              "        1.0278393e-02],\n",
              "       [4.6108890e-01, 4.2065716e-01, 5.6040045e-03, 1.0892975e-01,\n",
              "        3.7202414e-03],\n",
              "       [4.0547985e-01, 6.8842322e-02, 4.3283883e-02, 4.4064957e-01,\n",
              "        4.1744418e-02],\n",
              "       ...,\n",
              "       [1.8993898e-03, 2.1925401e-03, 8.5871384e-02, 5.1195687e-04,\n",
              "        9.0952480e-01],\n",
              "       [2.9428266e-03, 2.6433278e-02, 4.8805907e-01, 9.6439355e-04,\n",
              "        4.8160046e-01],\n",
              "       [1.9266100e-01, 3.3867219e-01, 4.1277876e-01, 3.3577799e-03,\n",
              "        5.2530255e-02]], dtype=float32)"
            ]
          },
          "metadata": {},
          "execution_count": 49
        }
      ]
    },
    {
      "cell_type": "code",
      "source": [
        "model_2_preds = tf.argmax(model_2_pred_probs,axis=1)\n",
        "model_2_preds"
      ],
      "metadata": {
        "colab": {
          "base_uri": "https://localhost:8080/"
        },
        "id": "FXoz9AOXUWzG",
        "outputId": "48af7df5-b51f-426a-ce70-99143e808d14"
      },
      "execution_count": 50,
      "outputs": [
        {
          "output_type": "execute_result",
          "data": {
            "text/plain": [
              "<tf.Tensor: shape=(30212,), dtype=int64, numpy=array([0, 0, 3, ..., 4, 2, 2])>"
            ]
          },
          "metadata": {},
          "execution_count": 50
        }
      ]
    },
    {
      "cell_type": "code",
      "source": [
        "model_2_results = calculate_results(y_true=val_labels_encoded\n",
        "                                    ,y_pred=model_2_preds)\n",
        "model_2_results"
      ],
      "metadata": {
        "colab": {
          "base_uri": "https://localhost:8080/"
        },
        "id": "fgs_-7PUUdts",
        "outputId": "000f8671-644d-418f-c150-14c2a017a001"
      },
      "execution_count": 51,
      "outputs": [
        {
          "output_type": "execute_result",
          "data": {
            "text/plain": [
              "{'accuracy': 73.49728584668344,\n",
              " 'precision': 0.7323192916000851,\n",
              " 'recall': 0.7349728584668344,\n",
              " 'f1score': 0.7294932059644561}"
            ]
          },
          "metadata": {},
          "execution_count": 51
        }
      ]
    },
    {
      "cell_type": "markdown",
      "source": [
        "## Model 3: Conv1D with character embeddings\n",
        "\n",
        " The [Neural Networks for Joint Sentence Classification in Medical Paper Abstracts](https://arxiv.org/pdf/1612.05251.pdf) papers suggests use of a hybrid approach of character and token embeddings.\n",
        "\n",
        " **Character embedding** are generated using sequences split into characters whereas **token embedding** is created on sequences split into tokens"
      ],
      "metadata": {
        "id": "x__H-2iQU-Mw"
      }
    },
    {
      "cell_type": "code",
      "source": [
        "# A function to convert sentences into sequence of characters\n",
        "def split_chars(text):\n",
        "  return \" \".join(list(text))\n",
        "\n",
        "split_chars(random_training_sentence)"
      ],
      "metadata": {
        "colab": {
          "base_uri": "https://localhost:8080/",
          "height": 72
        },
        "id": "jVP30c7YU82v",
        "outputId": "d822ac74-8d1f-46f1-97a4-f9265f725e18"
      },
      "execution_count": 52,
      "outputs": [
        {
          "output_type": "execute_result",
          "data": {
            "text/plain": [
              "\"t h i s   p h a s e   @   m u l t i c e n t e r   s t u d y   w a s   d e s i g n e d   t o   a s s e s s   t h e   e f f i c a c y   ,   s a f e t y   a n d   p h a r m a c o k i n e t i c s   o f   p f - @   c o m p a r e d   w i t h   p l a c e b o   i n   m i l d   t o   m o d e r a t e   p r o b a b l e   a l z h e i m e r   ' s   d i s e a s e   (   a d   )   .\""
            ],
            "application/vnd.google.colaboratory.intrinsic+json": {
              "type": "string"
            }
          },
          "metadata": {},
          "execution_count": 52
        }
      ]
    },
    {
      "cell_type": "markdown",
      "source": [
        "We will have to create character-level datasets by splitting our sequence dataset into characters"
      ],
      "metadata": {
        "id": "ReSsk2uKWpga"
      }
    },
    {
      "cell_type": "code",
      "source": [
        "train_chars = [split_chars(sentence) for sentence in train_sentences]\n",
        "val_chars = [split_chars(sentence) for sentence in val_sentences]\n",
        "test_chars = [split_chars(sentence) for sentence in test_sentences]"
      ],
      "metadata": {
        "id": "-6Hx7YxTU13h"
      },
      "execution_count": 53,
      "outputs": []
    },
    {
      "cell_type": "code",
      "source": [
        "# Average chars in training dataset\n",
        "char_size = [len(sentence) for sentence in train_sentences]\n",
        "avg = sum(char_size)/len(train_sentences)\n",
        "avg"
      ],
      "metadata": {
        "colab": {
          "base_uri": "https://localhost:8080/"
        },
        "id": "5NY0nJKIXGsI",
        "outputId": "ee749173-df95-4909-a56f-cc8c62aa94ad"
      },
      "execution_count": 54,
      "outputs": [
        {
          "output_type": "execute_result",
          "data": {
            "text/plain": [
              "149.3662574983337"
            ]
          },
          "metadata": {},
          "execution_count": 54
        }
      ]
    },
    {
      "cell_type": "code",
      "source": [
        "# What is the average number of characters that 95% for sentences have in our training dataset\n",
        "output_seq_char_length = int(np.percentile(char_size,95))\n",
        "output_seq_char_length"
      ],
      "metadata": {
        "colab": {
          "base_uri": "https://localhost:8080/"
        },
        "id": "yF59q1N6X1Np",
        "outputId": "4b0e1de1-e9e9-41cd-f277-582b323b6f8e"
      },
      "execution_count": 55,
      "outputs": [
        {
          "output_type": "execute_result",
          "data": {
            "text/plain": [
              "290"
            ]
          },
          "metadata": {},
          "execution_count": 55
        }
      ]
    },
    {
      "cell_type": "markdown",
      "source": [
        "The whole idea of finding out the `output_seq_char_length` is to use the same value for `output_sequence_length` parameter while initializing `TextVectorization`\n",
        "\n",
        "We will have to set `max_token` parameter value to a value such that it includes\n",
        "1. Number of characters in english alphabet.\n",
        "2. Number of digits\n",
        "3. Number of punctuations\n",
        "4. Out Of Vocabulary\n",
        "5. Space character"
      ],
      "metadata": {
        "id": "HnGOl1JcY0Cc"
      }
    },
    {
      "cell_type": "code",
      "source": [
        "import string\n",
        "alphabet = string.ascii_lowercase + string.digits + string.punctuation\n",
        "alphabet"
      ],
      "metadata": {
        "colab": {
          "base_uri": "https://localhost:8080/",
          "height": 36
        },
        "id": "LXdgHWBbYpNY",
        "outputId": "c73b1b7d-f4d9-42fd-efff-cb45b708bd2f"
      },
      "execution_count": 56,
      "outputs": [
        {
          "output_type": "execute_result",
          "data": {
            "text/plain": [
              "'abcdefghijklmnopqrstuvwxyz0123456789!\"#$%&\\'()*+,-./:;<=>?@[\\\\]^_`{|}~'"
            ],
            "application/vnd.google.colaboratory.intrinsic+json": {
              "type": "string"
            }
          },
          "metadata": {},
          "execution_count": 56
        }
      ]
    },
    {
      "cell_type": "code",
      "source": [
        "NUM_CHARS_TOKEN = len(alphabet) +2\n",
        "NUM_CHARS_TOKEN"
      ],
      "metadata": {
        "colab": {
          "base_uri": "https://localhost:8080/"
        },
        "id": "3iB2EWuLaK_n",
        "outputId": "1d5c049a-1db8-4dfe-817c-5a9ecb3ce964"
      },
      "execution_count": 57,
      "outputs": [
        {
          "output_type": "execute_result",
          "data": {
            "text/plain": [
              "70"
            ]
          },
          "metadata": {},
          "execution_count": 57
        }
      ]
    },
    {
      "cell_type": "code",
      "source": [
        "char_vectorizer = TextVectorization(max_tokens=NUM_CHARS_TOKEN\n",
        "                                    ,output_sequence_length=output_seq_char_length\n",
        "                                    ,standardize=\"lower_and_strip_punctuation\"\n",
        "                                    ,name=\"char_vectorizer\")\n",
        "char_vectorizer.adapt(train_chars)"
      ],
      "metadata": {
        "id": "bvfic8iQanKX"
      },
      "execution_count": 58,
      "outputs": []
    },
    {
      "cell_type": "code",
      "source": [
        "# check character vocabulary characteristics\n",
        "char_vocab = char_vectorizer.get_vocabulary()\n",
        "print(f\" Number of different characters in character vocab: {len(char_vocab)}\")\n",
        "print(f\" 5 most common characters : {char_vocab[:5]}\")\n",
        "print(f\" 5 least common characters: {char_vocab[-5:]}\")"
      ],
      "metadata": {
        "id": "31N9FrOKJF-W",
        "outputId": "1bddb696-c635-4739-d9d5-f93ea471df0f",
        "colab": {
          "base_uri": "https://localhost:8080/"
        }
      },
      "execution_count": 59,
      "outputs": [
        {
          "output_type": "stream",
          "name": "stdout",
          "text": [
            " Number of different characters in character vocab: 28\n",
            " 5 most common characters : ['', '[UNK]', 'e', 't', 'i']\n",
            " 5 least common characters: ['k', 'x', 'z', 'q', 'j']\n"
          ]
        }
      ]
    },
    {
      "cell_type": "code",
      "source": [
        "# Test our character vectorizer\n",
        "random_train_chars = random.choice(train_chars)\n",
        "print(f\" Charified text:\\n{random_train_chars}\")\n",
        "print(f\" Length of chars :{len(random_train_chars.split())}\")\n",
        "vectorized_chars = char_vectorizer([random_train_chars])\n",
        "print(f\" Vectorized chars :{vectorized_chars}\")\n",
        "print(f\" Length of vectorized chars: {len(vectorized_chars[0])}\")"
      ],
      "metadata": {
        "id": "aDFf2oivJxhE",
        "colab": {
          "base_uri": "https://localhost:8080/"
        },
        "outputId": "8b5aaddb-3cd8-4d88-e159-c50aff395012"
      },
      "execution_count": 60,
      "outputs": [
        {
          "output_type": "stream",
          "name": "stdout",
          "text": [
            " Charified text:\n",
            "v i t a m i n   d   d e f i c i e n c y   (   @ o h d   <   @ n g / m l   )   w a s   p r e s e n t   i n   @   %   o f   p a t i e n t s   @   d a y s   a f t e r   h c t   .\n",
            " Length of chars :69\n",
            " Vectorized chars :[[21  4  3  5 15  4  6 10 10  2 17  4 11  4  2  6 11 19  7 13 10  6 18 15\n",
            "  12 20  5  9 14  8  2  9  2  6  3  4  6  7 17 14  5  3  4  2  6  3  9 10\n",
            "   5 19  9  5 17  3  2  8 13 11  3  0  0  0  0  0  0  0  0  0  0  0  0  0\n",
            "   0  0  0  0  0  0  0  0  0  0  0  0  0  0  0  0  0  0  0  0  0  0  0  0\n",
            "   0  0  0  0  0  0  0  0  0  0  0  0  0  0  0  0  0  0  0  0  0  0  0  0\n",
            "   0  0  0  0  0  0  0  0  0  0  0  0  0  0  0  0  0  0  0  0  0  0  0  0\n",
            "   0  0  0  0  0  0  0  0  0  0  0  0  0  0  0  0  0  0  0  0  0  0  0  0\n",
            "   0  0  0  0  0  0  0  0  0  0  0  0  0  0  0  0  0  0  0  0  0  0  0  0\n",
            "   0  0  0  0  0  0  0  0  0  0  0  0  0  0  0  0  0  0  0  0  0  0  0  0\n",
            "   0  0  0  0  0  0  0  0  0  0  0  0  0  0  0  0  0  0  0  0  0  0  0  0\n",
            "   0  0  0  0  0  0  0  0  0  0  0  0  0  0  0  0  0  0  0  0  0  0  0  0\n",
            "   0  0  0  0  0  0  0  0  0  0  0  0  0  0  0  0  0  0  0  0  0  0  0  0\n",
            "   0  0]]\n",
            " Length of vectorized chars: 290\n"
          ]
        }
      ]
    },
    {
      "cell_type": "markdown",
      "source": [
        "### Creating character-level embedding\n",
        "We've got a way to vectorize our character-level sequences, now its time to create character-level embeddings.\n",
        "Our character-level embedding will need `input_dim` and `output_dim` parameters.\n",
        "```\n",
        "input_dim = number of characters in our char_vocab\n",
        "output_dim = number of ouput dimension mentioned in Figure 1. of paper https://arxiv.org/pdf/1612.05251.pdf\n",
        "```"
      ],
      "metadata": {
        "id": "Pgtp0MpCPSf2"
      }
    },
    {
      "cell_type": "code",
      "source": [
        "char_embed = layers.Embedding(input_dim=len(char_vocab)\n",
        "                              ,output_dim=25\n",
        "                              ,mask_zero=False\n",
        "                              ,name=\"char_embed\")\n",
        "# char_embed = layers.Embedding(input_dim=NUM_CHARS_TOKEN\n",
        "#                               ,output_dim=25\n",
        "#                               ,mask_zero=False\n",
        "#                               ,name=\"char_embed\")\n",
        "\n",
        "print(f\" Charified text (before vectorization and embedding) :\\n{random_train_chars}\\n\")\n",
        "char_embed_sample = char_embed(char_vectorizer([random_train_chars]))\n",
        "print(f\" Embedding chars (after vectorization and embedding) :\\n{char_embed_sample}\\n\")\n",
        "print(f\" Character Embedding Shape : {char_embed_sample.shape}\")"
      ],
      "metadata": {
        "colab": {
          "base_uri": "https://localhost:8080/"
        },
        "id": "FjonKLqcNOFh",
        "outputId": "1b8c099a-82cd-43d1-aaf2-0f3310147102"
      },
      "execution_count": 61,
      "outputs": [
        {
          "output_type": "stream",
          "name": "stdout",
          "text": [
            " Charified text (before vectorization and embedding) :\n",
            "v i t a m i n   d   d e f i c i e n c y   (   @ o h d   <   @ n g / m l   )   w a s   p r e s e n t   i n   @   %   o f   p a t i e n t s   @   d a y s   a f t e r   h c t   .\n",
            "\n",
            " Embedding chars (after vectorization and embedding) :\n",
            "[[[ 0.04273261  0.03964282 -0.00210086 ...  0.03741926  0.04592501\n",
            "   -0.03730042]\n",
            "  [-0.03355173 -0.03276426  0.04086343 ...  0.00832881 -0.04064224\n",
            "   -0.04345158]\n",
            "  [-0.03356625 -0.01120151  0.04039499 ...  0.02069021 -0.00672275\n",
            "   -0.03366076]\n",
            "  ...\n",
            "  [ 0.01621835 -0.01859933 -0.00921177 ...  0.0271601  -0.03913831\n",
            "    0.03574573]\n",
            "  [ 0.01621835 -0.01859933 -0.00921177 ...  0.0271601  -0.03913831\n",
            "    0.03574573]\n",
            "  [ 0.01621835 -0.01859933 -0.00921177 ...  0.0271601  -0.03913831\n",
            "    0.03574573]]]\n",
            "\n",
            " Character Embedding Shape : (1, 290, 25)\n"
          ]
        }
      ]
    },
    {
      "cell_type": "markdown",
      "source": [
        "### Building a Conv1D model to fit on character embeddings\n",
        "Now as we have been able to convert character-level sequence into numbers(`char_vectorizer`) as well as numerically represent them as an embedding (`char_model`), let's test how effective they are at encoding the information in our sequence by creating a character-level sequence model\n",
        "\n",
        "Model Structure:\n",
        "```\n",
        "Input (Character-level text) -> Tokenize -> Embedding -> Layers(Conv1D,GlobalMaxPool1D) -> Output (Label Probabilities)\n",
        "```"
      ],
      "metadata": {
        "id": "fIhVrcT8SjEr"
      }
    },
    {
      "cell_type": "code",
      "source": [
        "# Make Conv1D on chars only\n",
        "inputs= layers.Input(shape=(1,),dtype=tf.string)\n",
        "char_vectors= char_vectorizer(inputs)\n",
        "char_embedding= char_embed(char_vectors)\n",
        "x= layers.Conv1D(64,kernel_size=5,padding=\"same\",activation=\"relu\")(char_embedding)\n",
        "x= layers.GlobalMaxPool1D()(x)\n",
        "outputs= layers.Dense(num_classes,activation=\"softmax\")(x)\n",
        "model_3= tf.keras.Model(inputs,outputs,name=\"model_3_conv1D_char_embedding\")\n",
        "\n",
        "model_3.compile(loss=tf.keras.losses.categorical_crossentropy\n",
        "                ,optimizer=tf.keras.optimizers.Adam()\n",
        "                ,metrics=[\"accuracy\"]\n",
        "                )\n",
        "\n",
        "model_3.summary()\n"
      ],
      "metadata": {
        "colab": {
          "base_uri": "https://localhost:8080/"
        },
        "id": "Fub42v47SbnW",
        "outputId": "7539994e-5889-47d9-ab80-ae3321b40864"
      },
      "execution_count": 62,
      "outputs": [
        {
          "output_type": "stream",
          "name": "stdout",
          "text": [
            "Model: \"model_3_conv1D_char_embedding\"\n",
            "_________________________________________________________________\n",
            " Layer (type)                Output Shape              Param #   \n",
            "=================================================================\n",
            " input_3 (InputLayer)        [(None, 1)]               0         \n",
            "                                                                 \n",
            " char_vectorizer (TextVector  (None, 290)              0         \n",
            " ization)                                                        \n",
            "                                                                 \n",
            " char_embed (Embedding)      (None, 290, 25)           700       \n",
            "                                                                 \n",
            " conv1d_1 (Conv1D)           (None, 290, 64)           8064      \n",
            "                                                                 \n",
            " global_max_pooling1d (Globa  (None, 64)               0         \n",
            " lMaxPooling1D)                                                  \n",
            "                                                                 \n",
            " dense_3 (Dense)             (None, 5)                 325       \n",
            "                                                                 \n",
            "=================================================================\n",
            "Total params: 9,089\n",
            "Trainable params: 9,089\n",
            "Non-trainable params: 0\n",
            "_________________________________________________________________\n"
          ]
        }
      ]
    },
    {
      "cell_type": "markdown",
      "source": [
        "Before fitting our model, we'll have to create char-leve `PrefetchDataset`'s"
      ],
      "metadata": {
        "id": "ir06dgF8V0GS"
      }
    },
    {
      "cell_type": "code",
      "source": [
        "AUTOTUNE = tf.data.AUTOTUNE\n",
        "train_char_dataset = tf.data.Dataset.from_tensor_slices((train_chars,train_labels_one_hot)).batch(32).prefetch(AUTOTUNE)\n",
        "val_char_dataset = tf.data.Dataset.from_tensor_slices((val_chars,val_labels_one_hot)).batch(32).prefetch(AUTOTUNE)\n"
      ],
      "metadata": {
        "id": "x9S4F1pSWM01"
      },
      "execution_count": 79,
      "outputs": []
    },
    {
      "cell_type": "code",
      "source": [
        "history_3 = model_3.fit(train_char_dataset\n",
        "              ,steps_per_epoch=(0.1*len(train_char_dataset))\n",
        "              ,validation_data=val_char_dataset\n",
        "              ,validation_steps=(0.1*len(val_char_dataset))\n",
        "              ,epochs=5\n",
        "              ,callbacks=[create_tensorboard_callback(dir_name=SAVE_DIR,experiment_name=\"model_3_conv1D_char_embed\")])"
      ],
      "metadata": {
        "colab": {
          "base_uri": "https://localhost:8080/"
        },
        "id": "_OXVtW48VBCM",
        "outputId": "bb7ff6bc-c07c-4c07-c0a7-5d6494a5ce48"
      },
      "execution_count": 80,
      "outputs": [
        {
          "output_type": "stream",
          "name": "stdout",
          "text": [
            "Epoch 1/5\n",
            "562/562 [==============================] - 4s 7ms/step - loss: 0.8244 - accuracy: 0.6824 - val_loss: 0.8029 - val_accuracy: 0.6901\n",
            "Epoch 2/5\n",
            "562/562 [==============================] - 4s 7ms/step - loss: 0.8074 - accuracy: 0.6892 - val_loss: 0.7909 - val_accuracy: 0.7026\n",
            "Epoch 3/5\n",
            "562/562 [==============================] - 5s 8ms/step - loss: 0.7978 - accuracy: 0.6924 - val_loss: 0.7821 - val_accuracy: 0.7013\n",
            "Epoch 4/5\n",
            "562/562 [==============================] - 4s 7ms/step - loss: 0.7775 - accuracy: 0.7018 - val_loss: 0.7784 - val_accuracy: 0.7089\n",
            "Epoch 5/5\n",
            "562/562 [==============================] - 4s 6ms/step - loss: 0.7820 - accuracy: 0.6988 - val_loss: 0.7749 - val_accuracy: 0.7033\n"
          ]
        }
      ]
    },
    {
      "cell_type": "code",
      "source": [
        "model_3.evaluate(val_char_dataset)"
      ],
      "metadata": {
        "colab": {
          "base_uri": "https://localhost:8080/"
        },
        "id": "31jKpMPxVn1q",
        "outputId": "1d2c3ad4-b558-4bb8-decc-017dca00ab12"
      },
      "execution_count": 81,
      "outputs": [
        {
          "output_type": "stream",
          "name": "stdout",
          "text": [
            "945/945 [==============================] - 4s 4ms/step - loss: 0.7847 - accuracy: 0.7007\n"
          ]
        },
        {
          "output_type": "execute_result",
          "data": {
            "text/plain": [
              "[0.7846664786338806, 0.7007480263710022]"
            ]
          },
          "metadata": {},
          "execution_count": 81
        }
      ]
    },
    {
      "cell_type": "code",
      "source": [
        "model_3_pred_probs= model_3.predict(val_char_dataset)\n",
        "model_3_pred_probs"
      ],
      "metadata": {
        "colab": {
          "base_uri": "https://localhost:8080/"
        },
        "id": "fW4Lby2Ta-Yz",
        "outputId": "52e31478-bae2-4a90-fca9-408810af09e3"
      },
      "execution_count": 82,
      "outputs": [
        {
          "output_type": "stream",
          "name": "stdout",
          "text": [
            "945/945 [==============================] - 3s 3ms/step\n"
          ]
        },
        {
          "output_type": "execute_result",
          "data": {
            "text/plain": [
              "array([[0.54100996, 0.15140387, 0.01588103, 0.28955287, 0.00215237],\n",
              "       [0.09325105, 0.8711576 , 0.00089654, 0.03199141, 0.00270344],\n",
              "       [0.2826149 , 0.07312259, 0.0556498 , 0.584604  , 0.00400871],\n",
              "       ...,\n",
              "       [0.02271482, 0.02262345, 0.11058164, 0.01423139, 0.8298487 ],\n",
              "       [0.11476034, 0.21013722, 0.34703213, 0.05460749, 0.27346286],\n",
              "       [0.15843928, 0.77363414, 0.04805379, 0.01744134, 0.00243138]],\n",
              "      dtype=float32)"
            ]
          },
          "metadata": {},
          "execution_count": 82
        }
      ]
    },
    {
      "cell_type": "code",
      "source": [
        "model_3_preds = tf.argmax(model_3_pred_probs,axis=1)\n",
        "model_3_preds"
      ],
      "metadata": {
        "colab": {
          "base_uri": "https://localhost:8080/"
        },
        "id": "cxYcKtCvbGpR",
        "outputId": "845614ec-375d-4f29-a894-d8cdc128fb9f"
      },
      "execution_count": 83,
      "outputs": [
        {
          "output_type": "execute_result",
          "data": {
            "text/plain": [
              "<tf.Tensor: shape=(30212,), dtype=int64, numpy=array([0, 1, 3, ..., 4, 2, 1])>"
            ]
          },
          "metadata": {},
          "execution_count": 83
        }
      ]
    },
    {
      "cell_type": "code",
      "source": [
        "model_3_results = calculate_results(y_true=val_labels_encoded,y_pred=model_3_preds)\n",
        "model_3_results"
      ],
      "metadata": {
        "colab": {
          "base_uri": "https://localhost:8080/"
        },
        "id": "YONmwTVqbOXg",
        "outputId": "091a3b11-7d5e-4ae7-de51-27c909d43ce4"
      },
      "execution_count": 84,
      "outputs": [
        {
          "output_type": "execute_result",
          "data": {
            "text/plain": [
              "{'accuracy': 70.07480471335893,\n",
              " 'precision': 0.7117775421497315,\n",
              " 'recall': 0.7007480471335893,\n",
              " 'f1score': 0.7015585920250019}"
            ]
          },
          "metadata": {},
          "execution_count": 84
        }
      ]
    },
    {
      "cell_type": "markdown",
      "source": [
        "## Model 4: Combining pretrained token embeddings + character-level embedding\n",
        "\n",
        "The Figure 1. in [paper](https://arxiv.org/pdf/1612.05251.pdf) shows the approach of a hybrid token embedding layer.\n",
        "\n",
        "This hybrid token embedding layer is a combination of token embeddings and character embeddings. In other words, they created a stacked embedding to represent sequences before passing them to sequence label prediction layer.\n",
        "\n",
        "For replicating the approach in Figure 1, we're going to go through the following approach\n",
        "1. Create a token-level model\n",
        "2. Create a character-level model\n",
        "3. Combine (using `layers.Concatenate`) the output of 1 and 2\n",
        "4. Build a series of output layers on top of 3 similar to Figure 1\n",
        "5. Construct a model which takes token and character-level sequences as input and produces sequence label probabilities as output\n"
      ],
      "metadata": {
        "id": "XimEaxzsnS24"
      }
    },
    {
      "cell_type": "code",
      "source": [
        "# Setup the token inputs/model\n",
        "\n",
        "token_inputs = layers.Input(shape=[],dtype=tf.string,name=\"token_input\")\n",
        "token_embeddings = tf_hub_embedding_layer(token_inputs)\n",
        "token_output = layers.Dense(128, activation=\"relu\")(token_embeddings)\n",
        "token_model = tf.keras.Model(token_inputs\n",
        "                             ,token_output)\n",
        "\n",
        "#Setup char inputs/model\n",
        "char_inputs = layers.Input(shape=(1,),dtype=tf.string,name=\"char_input\")\n",
        "char_vectors = char_vectorizer(char_inputs)\n",
        "char_embeddings = char_embed(char_vectors)\n",
        "char_bi_lstm = layers.Bidirectional(layers.LSTM(25))(char_embeddings)\n",
        "char_model = tf.keras.Model(char_inputs\n",
        "                            ,char_bi_lstm)\n",
        "\n",
        "token_char_concat = layers.Concatenate(name=\"token_char_hybrid\")([token_model.output\n",
        "                                                                  ,char_model.output]\n",
        "                                                                 )\n",
        "\n",
        "combined_dropout = layers.Dropout(0.5)(token_char_concat)\n",
        "combined_dense = layers.Dense(200,activation=\"relu\")(combined_dropout)\n",
        "final_dropout = layers.Dropout(0.5)(combined_dense)\n",
        "output_layer = layers.Dense(num_classes, activation=\"softmax\")(final_dropout)\n",
        "\n",
        "#Construct the model\n",
        "model_4 = tf.keras.Model(inputs=[token_model.input,char_model.input]\n",
        "                         ,outputs=output_layer\n",
        "                         ,name=\"model_4_token_char_hybrid_embed\")\n",
        "\n",
        "model_4.summary()\n",
        "\n"
      ],
      "metadata": {
        "colab": {
          "base_uri": "https://localhost:8080/"
        },
        "id": "SgqKeGi8bqiB",
        "outputId": "11dcc11e-e1aa-41c4-9c55-cfbd9964e701"
      },
      "execution_count": 69,
      "outputs": [
        {
          "output_type": "stream",
          "name": "stdout",
          "text": [
            "Model: \"model_4_token_char_hybrid_embed\"\n",
            "__________________________________________________________________________________________________\n",
            " Layer (type)                   Output Shape         Param #     Connected to                     \n",
            "==================================================================================================\n",
            " char_input (InputLayer)        [(None, 1)]          0           []                               \n",
            "                                                                                                  \n",
            " token_input (InputLayer)       [(None,)]            0           []                               \n",
            "                                                                                                  \n",
            " char_vectorizer (TextVectoriza  (None, 290)         0           ['char_input[0][0]']             \n",
            " tion)                                                                                            \n",
            "                                                                                                  \n",
            " universal_sentence_encoder (Ke  (None, 512)         256797824   ['token_input[0][0]']            \n",
            " rasLayer)                                                                                        \n",
            "                                                                                                  \n",
            " char_embed (Embedding)         (None, 290, 25)      700         ['char_vectorizer[1][0]']        \n",
            "                                                                                                  \n",
            " dense_4 (Dense)                (None, 128)          65664       ['universal_sentence_encoder[1][0\n",
            "                                                                 ]']                              \n",
            "                                                                                                  \n",
            " bidirectional (Bidirectional)  (None, 50)           10200       ['char_embed[1][0]']             \n",
            "                                                                                                  \n",
            " token_char_hybrid (Concatenate  (None, 178)         0           ['dense_4[0][0]',                \n",
            " )                                                                'bidirectional[0][0]']          \n",
            "                                                                                                  \n",
            " dropout (Dropout)              (None, 178)          0           ['token_char_hybrid[0][0]']      \n",
            "                                                                                                  \n",
            " dense_5 (Dense)                (None, 200)          35800       ['dropout[0][0]']                \n",
            "                                                                                                  \n",
            " dropout_1 (Dropout)            (None, 200)          0           ['dense_5[0][0]']                \n",
            "                                                                                                  \n",
            " dense_6 (Dense)                (None, 5)            1005        ['dropout_1[0][0]']              \n",
            "                                                                                                  \n",
            "==================================================================================================\n",
            "Total params: 256,911,193\n",
            "Trainable params: 113,369\n",
            "Non-trainable params: 256,797,824\n",
            "__________________________________________________________________________________________________\n"
          ]
        }
      ]
    },
    {
      "cell_type": "code",
      "source": [
        "model_4.compile(loss=tf.keras.losses.categorical_crossentropy\n",
        "                ,optimizer=tf.keras.optimizers.Adam()\n",
        "                ,metrics=[\"accuracy\"]\n",
        "                )"
      ],
      "metadata": {
        "id": "mLYeigxxrqSw"
      },
      "execution_count": 70,
      "outputs": []
    },
    {
      "cell_type": "markdown",
      "source": [
        "Before fitting the model, we need to create datasets. This model requires two inputs, token-level sequence and character-level sequence.\n",
        "\n",
        "### Combining token and character data into `tf.data.dataset`"
      ],
      "metadata": {
        "id": "5CtvMtOjshti"
      }
    },
    {
      "cell_type": "code",
      "source": [
        "## Prepare Train dataset\n",
        "#input features\n",
        "train_char_token_X = tf.data.Dataset.from_tensor_slices((train_sentences,train_chars))\n",
        "# output labels\n",
        "train_char_token_y = tf.data.Dataset.from_tensor_slices(train_labels_one_hot)\n",
        "# dataset\n",
        "train_char_token_dataset = tf.data.Dataset.zip((train_char_token_X,train_char_token_y))\n",
        "\n",
        "\n",
        "## Prepare Validation dataset\n",
        "#input features\n",
        "val_char_token_X = tf.data.Dataset.from_tensor_slices((val_sentences,val_chars))\n",
        "# output labels\n",
        "val_char_token_y = tf.data.Dataset.from_tensor_slices(val_labels_one_hot)\n",
        "# dataset\n",
        "val_char_token_dataset = tf.data.Dataset.zip((val_char_token_X,val_char_token_y))\n",
        "\n",
        "#prefetch and batch train and validation data\n",
        "train_char_token_dataset = train_char_token_dataset.batch(32).prefetch(tf.data.AUTOTUNE)\n",
        "val_char_token_dataset = val_char_token_dataset.batch(32).prefetch(tf.data.AUTOTUNE)"
      ],
      "metadata": {
        "id": "pWQi3it3shKB"
      },
      "execution_count": 85,
      "outputs": []
    },
    {
      "cell_type": "markdown",
      "source": [],
      "metadata": {
        "id": "ftlvS8gu2oOH"
      }
    },
    {
      "cell_type": "code",
      "source": [
        "train_char_token_dataset,val_char_token_dataset"
      ],
      "metadata": {
        "colab": {
          "base_uri": "https://localhost:8080/"
        },
        "id": "1STstTeIupHd",
        "outputId": "375a02a7-1bc4-463d-c532-8312b13afc2b"
      },
      "execution_count": 86,
      "outputs": [
        {
          "output_type": "execute_result",
          "data": {
            "text/plain": [
              "(<_PrefetchDataset element_spec=((TensorSpec(shape=(None,), dtype=tf.string, name=None), TensorSpec(shape=(None,), dtype=tf.string, name=None)), TensorSpec(shape=(None, 5), dtype=tf.float64, name=None))>,\n",
              " <_PrefetchDataset element_spec=((TensorSpec(shape=(None,), dtype=tf.string, name=None), TensorSpec(shape=(None,), dtype=tf.string, name=None)), TensorSpec(shape=(None, 5), dtype=tf.float64, name=None))>)"
            ]
          },
          "metadata": {},
          "execution_count": 86
        }
      ]
    },
    {
      "cell_type": "code",
      "source": [
        "history_4 = model_4.fit(train_char_token_dataset\n",
        "                        ,steps_per_epoch=(0.1 * len(train_char_token_dataset))\n",
        "                        ,validation_data=val_char_token_dataset\n",
        "                        ,validation_steps=(0.1 * len(val_char_token_dataset))\n",
        "                        ,epochs=5\n",
        "                        ,callbacks=[\n",
        "                            create_tensorboard_callback(dir_name=SAVE_DIR\n",
        "                                                        ,experiment_name=\"model_4_token_char_hybrid\")\n",
        "                            ]\n",
        "                        )"
      ],
      "metadata": {
        "colab": {
          "base_uri": "https://localhost:8080/"
        },
        "id": "MoS8eyZZut5j",
        "outputId": "e870dad1-a94a-40d3-891b-d6dc3671e8fa"
      },
      "execution_count": 87,
      "outputs": [
        {
          "output_type": "stream",
          "name": "stdout",
          "text": [
            "Epoch 1/5\n",
            "562/562 [==============================] - 24s 42ms/step - loss: 0.7141 - accuracy: 0.7299 - val_loss: 0.6522 - val_accuracy: 0.7487\n",
            "Epoch 2/5\n",
            "562/562 [==============================] - 24s 42ms/step - loss: 0.6965 - accuracy: 0.7320 - val_loss: 0.6361 - val_accuracy: 0.7576\n",
            "Epoch 3/5\n",
            "562/562 [==============================] - 21s 38ms/step - loss: 0.6959 - accuracy: 0.7355 - val_loss: 0.6339 - val_accuracy: 0.7661\n",
            "Epoch 4/5\n",
            "562/562 [==============================] - 22s 40ms/step - loss: 0.6842 - accuracy: 0.7422 - val_loss: 0.6212 - val_accuracy: 0.7691\n",
            "Epoch 5/5\n",
            "562/562 [==============================] - 21s 38ms/step - loss: 0.7037 - accuracy: 0.7345 - val_loss: 0.6193 - val_accuracy: 0.7674\n"
          ]
        }
      ]
    },
    {
      "cell_type": "code",
      "source": [
        "model_4.evaluate(val_char_token_dataset)"
      ],
      "metadata": {
        "colab": {
          "base_uri": "https://localhost:8080/"
        },
        "id": "c4Qg6a1Kv0kv",
        "outputId": "1e537cca-0853-4bcb-f4b5-63b3aa8c3c6d"
      },
      "execution_count": 88,
      "outputs": [
        {
          "output_type": "stream",
          "name": "stdout",
          "text": [
            "945/945 [==============================] - 20s 21ms/step - loss: 0.6277 - accuracy: 0.7604\n"
          ]
        },
        {
          "output_type": "execute_result",
          "data": {
            "text/plain": [
              "[0.6276666522026062, 0.7603932023048401]"
            ]
          },
          "metadata": {},
          "execution_count": 88
        }
      ]
    },
    {
      "cell_type": "code",
      "source": [
        "model_4_pred_probs = model_4.predict(val_char_token_dataset)\n",
        "model_4_pred_probs"
      ],
      "metadata": {
        "colab": {
          "base_uri": "https://localhost:8080/"
        },
        "id": "ZmlvBYgk0GHI",
        "outputId": "92ca87df-dfb7-4c9c-f7da-cab105b072e9"
      },
      "execution_count": 89,
      "outputs": [
        {
          "output_type": "stream",
          "name": "stdout",
          "text": [
            "945/945 [==============================] - 18s 19ms/step\n"
          ]
        },
        {
          "output_type": "execute_result",
          "data": {
            "text/plain": [
              "array([[5.3971481e-01, 2.2335382e-01, 2.4155867e-03, 2.2901081e-01,\n",
              "        5.5049877e-03],\n",
              "       [4.7385818e-01, 3.2340655e-01, 1.5380266e-02, 1.8037851e-01,\n",
              "        6.9764624e-03],\n",
              "       [3.7108371e-01, 1.5361022e-03, 1.6892001e-02, 6.0861623e-01,\n",
              "        1.8719606e-03],\n",
              "       ...,\n",
              "       [1.2569921e-04, 3.9507149e-04, 2.2114048e-02, 1.5683036e-05,\n",
              "        9.7734946e-01],\n",
              "       [1.6925098e-02, 5.1123120e-02, 3.9956492e-01, 6.9616553e-03,\n",
              "        5.2542520e-01],\n",
              "       [1.5454172e-01, 7.9923916e-01, 3.1643480e-02, 3.5330090e-03,\n",
              "        1.1042634e-02]], dtype=float32)"
            ]
          },
          "metadata": {},
          "execution_count": 89
        }
      ]
    },
    {
      "cell_type": "code",
      "source": [
        "model_4_preds = tf.argmax(model_4_pred_probs,axis=1)\n",
        "model_4_preds"
      ],
      "metadata": {
        "colab": {
          "base_uri": "https://localhost:8080/"
        },
        "id": "e7s127220PMm",
        "outputId": "b919c72c-8047-470b-e050-9da4c755753c"
      },
      "execution_count": 90,
      "outputs": [
        {
          "output_type": "execute_result",
          "data": {
            "text/plain": [
              "<tf.Tensor: shape=(30212,), dtype=int64, numpy=array([0, 0, 3, ..., 4, 4, 1])>"
            ]
          },
          "metadata": {},
          "execution_count": 90
        }
      ]
    },
    {
      "cell_type": "code",
      "source": [
        "model_4_results = calculate_results(y_true=val_labels_encoded, y_pred=model_4_preds)\n",
        "model_4_results"
      ],
      "metadata": {
        "colab": {
          "base_uri": "https://localhost:8080/"
        },
        "id": "0Ov1Hdaa0ca7",
        "outputId": "60ccc109-0deb-44ed-f9e6-3a326436e3e9"
      },
      "execution_count": 91,
      "outputs": [
        {
          "output_type": "execute_result",
          "data": {
            "text/plain": [
              "{'accuracy': 76.03932212365947,\n",
              " 'precision': 0.7593337131825468,\n",
              " 'recall': 0.7603932212365947,\n",
              " 'f1score': 0.7560176209346887}"
            ]
          },
          "metadata": {},
          "execution_count": 91
        }
      ]
    },
    {
      "cell_type": "code",
      "source": [],
      "metadata": {
        "id": "c9_IqpYO0pzp"
      },
      "execution_count": null,
      "outputs": []
    }
  ]
}