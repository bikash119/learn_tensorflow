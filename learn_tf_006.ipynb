{
  "nbformat": 4,
  "nbformat_minor": 0,
  "metadata": {
    "colab": {
      "provenance": [],
      "gpuType": "T4",
      "authorship_tag": "ABX9TyNHqv3cFhaN09FpleEwYxHS",
      "include_colab_link": true
    },
    "kernelspec": {
      "name": "python3",
      "display_name": "Python 3"
    },
    "language_info": {
      "name": "python"
    },
    "accelerator": "GPU"
  },
  "cells": [
    {
      "cell_type": "markdown",
      "metadata": {
        "id": "view-in-github",
        "colab_type": "text"
      },
      "source": [
        "<a href=\"https://colab.research.google.com/github/bikash119/learn_tensorflow/blob/main/learn_tf_006.ipynb\" target=\"_parent\"><img src=\"https://colab.research.google.com/assets/colab-badge.svg\" alt=\"Open In Colab\"/></a>"
      ]
    },
    {
      "cell_type": "markdown",
      "source": [
        "## NLP: SkimLit 🔥\n",
        "### We will be replicating the deep learning model behind the 2017 paper [PubMed: A Dataset for Sequential Sentence Classification in Medical Abstracts](https://arxiv.org/abs/1710.06071)\n",
        "\n",
        "**The Problem:** The number of RCT papers releases is continuing to increase, those without structured abstracts can be hard to read and in turn slow down researchers moving through the literature\n",
        "\n",
        "**The Solution:** Create a NLP model to classify abstract sentences into the role they play from the list of possible roles (objective, method, result, background or conclusion)\n",
        "\n",
        "The data comes from: [PubMed: A Dataset for Sequential Sentence Classification in Medical Abstracts](https://arxiv.org/abs/1710.06071)\n",
        "\n",
        "The model is from: [Neural Networks for Joint Sentence Classification\n",
        "in Medical Paper Abstracts](https://arxiv.org/pdf/1612.05251.pdf)\n"
      ],
      "metadata": {
        "id": "64IFcTvv0Yc5"
      }
    },
    {
      "cell_type": "markdown",
      "source": [
        "### Steps to follow\n",
        "1. Download the data\n",
        "2. Perform Pre-processing\n",
        "3. Create a baseline model"
      ],
      "metadata": {
        "id": "rV6iDFme6GCv"
      }
    },
    {
      "cell_type": "markdown",
      "source": [
        "## 1. Dowload the data"
      ],
      "metadata": {
        "id": "x27pmFx36Vgb"
      }
    },
    {
      "cell_type": "code",
      "execution_count": 1,
      "metadata": {
        "colab": {
          "base_uri": "https://localhost:8080/"
        },
        "id": "K1QoY6-r0T-X",
        "outputId": "fd3da81b-9b56-4971-9ac5-8065522c95b1"
      },
      "outputs": [
        {
          "output_type": "stream",
          "name": "stdout",
          "text": [
            "Cloning into 'pubmed-rct'...\n",
            "remote: Enumerating objects: 33, done.\u001b[K\n",
            "remote: Counting objects: 100% (8/8), done.\u001b[K\n",
            "remote: Compressing objects: 100% (3/3), done.\u001b[K\n",
            "remote: Total 33 (delta 5), reused 5 (delta 5), pack-reused 25\u001b[K\n",
            "Unpacking objects: 100% (33/33), 177.08 MiB | 7.86 MiB/s, done.\n",
            "Updating files: 100% (13/13), done.\n",
            "PubMed_200k_RCT\n",
            "PubMed_200k_RCT_numbers_replaced_with_at_sign\n",
            "PubMed_20k_RCT\n",
            "PubMed_20k_RCT_numbers_replaced_with_at_sign\n",
            "README.md\n"
          ]
        }
      ],
      "source": [
        "!git clone https://github.com/Franck-Dernoncourt/pubmed-rct.git\n",
        "!ls pubmed-rct"
      ]
    },
    {
      "cell_type": "markdown",
      "source": [
        "We will use the dataset `PubMed_20k_RCT_numbers_replaced_with_at_sign` for faster iterations on smaller data size. The `PubMed_200k_RCT_numbers_replaced_with_at_sign` is superset of `PubMed_20k_RCT_numbers_replaced_with_at_sign` where all the numbers (numerical values) are replaced with `at-sign`"
      ],
      "metadata": {
        "id": "gVZ0G55g6r8R"
      }
    },
    {
      "cell_type": "code",
      "source": [
        "!ls pubmed-rct/PubMed_200k_RCT_numbers_replaced_with_at_sign"
      ],
      "metadata": {
        "colab": {
          "base_uri": "https://localhost:8080/"
        },
        "id": "5H8v2a866fbp",
        "outputId": "d409db32-c07f-4de3-c570-b226ce9513cd"
      },
      "execution_count": 2,
      "outputs": [
        {
          "output_type": "stream",
          "name": "stdout",
          "text": [
            "dev.txt  test.txt  train.zip\n"
          ]
        }
      ]
    },
    {
      "cell_type": "markdown",
      "source": [
        "**dev.txt**: Validation dataset\n",
        "\n",
        "**train.txt**: Training dataset\n",
        "\n",
        "**test.txt**: Test dataset"
      ],
      "metadata": {
        "id": "URQXbh3g7qye"
      }
    },
    {
      "cell_type": "code",
      "source": [
        "import os\n",
        "# Lets turn the filepath and the filename to a variable\n",
        "data_dir = \"/content/pubmed-rct/PubMed_20k_RCT_numbers_replaced_with_at_sign/\"\n",
        "# List all the files in a directory\n",
        "filenames= [data_dir+filename for filename in os.listdir(data_dir)]\n",
        "filenames"
      ],
      "metadata": {
        "colab": {
          "base_uri": "https://localhost:8080/"
        },
        "id": "fu98tKM_7i4r",
        "outputId": "cc80093c-6bb2-44c5-d0ce-0fad916df5d0"
      },
      "execution_count": 3,
      "outputs": [
        {
          "output_type": "execute_result",
          "data": {
            "text/plain": [
              "['/content/pubmed-rct/PubMed_20k_RCT_numbers_replaced_with_at_sign/test.txt',\n",
              " '/content/pubmed-rct/PubMed_20k_RCT_numbers_replaced_with_at_sign/train.txt',\n",
              " '/content/pubmed-rct/PubMed_20k_RCT_numbers_replaced_with_at_sign/dev.txt']"
            ]
          },
          "metadata": {},
          "execution_count": 3
        }
      ]
    },
    {
      "cell_type": "markdown",
      "source": [
        "```\n",
        "Visualize, Visualize, Visualize\n",
        "```"
      ],
      "metadata": {
        "id": "m7-7pLyQ9sVy"
      }
    },
    {
      "cell_type": "code",
      "source": [
        "# A function to read lines of a target file\n",
        "from typing import List\n",
        "\n",
        "def read_lines(filename) -> List[str]:\n",
        "  \"\"\"\n",
        "    Reads a file and returns the lines of the file as list\n",
        "    Args:\n",
        "      filename(str): Name of the file\n",
        "    Returns(List[str]):\n",
        "      A list containing the lines in the file\n",
        "  \"\"\"\n",
        "  with open(filename,\"r\") as f:\n",
        "    return f.readlines()"
      ],
      "metadata": {
        "id": "SK8Vo1M-8kaL"
      },
      "execution_count": 4,
      "outputs": []
    },
    {
      "cell_type": "code",
      "source": [
        "train_text = read_lines(data_dir+\"train.txt\")\n",
        "train_text[:20]\n"
      ],
      "metadata": {
        "colab": {
          "base_uri": "https://localhost:8080/"
        },
        "id": "EmMvn7-1-tE6",
        "outputId": "ea537afa-5958-4e87-d7b9-4109c69618f4"
      },
      "execution_count": 5,
      "outputs": [
        {
          "output_type": "execute_result",
          "data": {
            "text/plain": [
              "['###24293578\\n',\n",
              " 'OBJECTIVE\\tTo investigate the efficacy of @ weeks of daily low-dose oral prednisolone in improving pain , mobility , and systemic low-grade inflammation in the short term and whether the effect would be sustained at @ weeks in older adults with moderate to severe knee osteoarthritis ( OA ) .\\n',\n",
              " 'METHODS\\tA total of @ patients with primary knee OA were randomized @:@ ; @ received @ mg/day of prednisolone and @ received placebo for @ weeks .\\n',\n",
              " 'METHODS\\tOutcome measures included pain reduction and improvement in function scores and systemic inflammation markers .\\n',\n",
              " 'METHODS\\tPain was assessed using the visual analog pain scale ( @-@ mm ) .\\n',\n",
              " 'METHODS\\tSecondary outcome measures included the Western Ontario and McMaster Universities Osteoarthritis Index scores , patient global assessment ( PGA ) of the severity of knee OA , and @-min walk distance ( @MWD ) .\\n',\n",
              " 'METHODS\\tSerum levels of interleukin @ ( IL-@ ) , IL-@ , tumor necrosis factor ( TNF ) - , and high-sensitivity C-reactive protein ( hsCRP ) were measured .\\n',\n",
              " 'RESULTS\\tThere was a clinically relevant reduction in the intervention group compared to the placebo group for knee pain , physical function , PGA , and @MWD at @ weeks .\\n',\n",
              " 'RESULTS\\tThe mean difference between treatment arms ( @ % CI ) was @ ( @-@ @ ) , p < @ ; @ ( @-@ @ ) , p < @ ; @ ( @-@ @ ) , p < @ ; and @ ( @-@ @ ) , p < @ , respectively .\\n',\n",
              " 'RESULTS\\tFurther , there was a clinically relevant reduction in the serum levels of IL-@ , IL-@ , TNF - , and hsCRP at @ weeks in the intervention group when compared to the placebo group .\\n',\n",
              " 'RESULTS\\tThese differences remained significant at @ weeks .\\n',\n",
              " 'RESULTS\\tThe Outcome Measures in Rheumatology Clinical Trials-Osteoarthritis Research Society International responder rate was @ % in the intervention group and @ % in the placebo group ( p < @ ) .\\n',\n",
              " 'CONCLUSIONS\\tLow-dose oral prednisolone had both a short-term and a longer sustained effect resulting in less knee pain , better physical function , and attenuation of systemic inflammation in older patients with knee OA ( ClinicalTrials.gov identifier NCT@ ) .\\n',\n",
              " '\\n',\n",
              " '###24854809\\n',\n",
              " 'BACKGROUND\\tEmotional eating is associated with overeating and the development of obesity .\\n',\n",
              " 'BACKGROUND\\tYet , empirical evidence for individual ( trait ) differences in emotional eating and cognitive mechanisms that contribute to eating during sad mood remain equivocal .\\n',\n",
              " 'OBJECTIVE\\tThe aim of this study was to test if attention bias for food moderates the effect of self-reported emotional eating during sad mood ( vs neutral mood ) on actual food intake .\\n',\n",
              " 'OBJECTIVE\\tIt was expected that emotional eating is predictive of elevated attention for food and higher food intake after an experimentally induced sad mood and that attentional maintenance on food predicts food intake during a sad versus a neutral mood .\\n',\n",
              " 'METHODS\\tParticipants ( N = @ ) were randomly assigned to one of the two experimental mood induction conditions ( sad/neutral ) .\\n']"
            ]
          },
          "metadata": {},
          "execution_count": 5
        }
      ]
    },
    {
      "cell_type": "markdown",
      "source": [
        "Observations from reading the content of `train.txt`\n",
        "1. Each sentence is prefixed with _role_ and separated by (`\\t`) from the content of the sentence.\n",
        "2. Each sentence ends with (`\\n`) and a comma (`,`)\n",
        "3. Every abstract is separated by abstract Id which starts with three hash (`###`) followed by a number and ends with (`\\n`) and comma (`,`)\n",
        "4. Every abstract ends with (`\\n`) in a line\n",
        "\n",
        "We will have to write a function such that all the lines in the target file are returned as list of dictionaries containing key/value pairs:\n",
        "  \n",
        "  * `\"line_number\"`: the position of the line in the abstract\n",
        "  * `\"target\"`: the role of the line in the abstract\n",
        "  * `\"text\"`: the text of the line in the abstract\n",
        "  * `\"total_lines\"`: the total lines in an abstract sample\n",
        "\n",
        "  Example output for a single line in an abstract\n",
        "  ```\n",
        "  [\n",
        "    {\n",
        "      \"line_number\":3\n",
        "      ,\"target\": \"OBJECTIVE\"\n",
        "      ,\"text\":\"It was expected that emotional eating is predictive of elevated attention for food and higher food intake after an experimentally induced sad mood and that attentional maintenance on food predicts food intake during a sad versus a neutral mood .\"\n",
        "      ,\"total_lines\": 11\n",
        "    }\n",
        "    ,{\n",
        "\n",
        "    }\n",
        "  ]  \n",
        "  ```"
      ],
      "metadata": {
        "id": "_vYnlrKOAEG7"
      }
    },
    {
      "cell_type": "code",
      "source": [
        "from typing import Dict,List\n",
        "def preprocess_text_with_line_numbers(filename) -> List[Dict]:\n",
        "  \"\"\"\n",
        "    Takes a filename and returns the contents of the file as list of dictionaries.\n",
        "    Args:\n",
        "      filename(str): The name of the target file\n",
        "    Returns:\n",
        "      abstract_lines(List[Dict]): A list of dictionaries each containing a line from the abstract.\n",
        "      Example output:\n",
        "        [\n",
        "          {\n",
        "            \"line_number\":3\n",
        "            ,\"target\": \"OBJECTIVE\"\n",
        "            ,\"text\":\"It was expected that emotional eating is predictive of elevated attention for food and higher food intake after an experimentally induced sad mood and that attentional maintenance on food predicts food intake during a sad versus a neutral mood .\"\n",
        "            ,\"total_lines\": 11\n",
        "          }\n",
        "          ,{\n",
        "            \"line_number\":4\n",
        "            ,\"target\": \"BACKGROUND\"\n",
        "            ,\"text\":\"Emotional eating is associated with overeating and the development of obesity .\"\n",
        "            ,\"total_lines\": 13\n",
        "          }\n",
        "        ]\n",
        "  \"\"\"\n",
        "  # all_abstracts = []\n",
        "  # abstract_line=\"\"\n",
        "  # file_content = read_lines(filename)\n",
        "  # line_number = 0\n",
        "  # abstract_line = {}\n",
        "  # for line in file_content:\n",
        "  #   # Check if the line contains abstract id\n",
        "  #   if line.startswith(\"###\"):\n",
        "  #     abstract_id = line\n",
        "  #   elif line in ['\\n']:\n",
        "  #     abstract_line[\"total_lines\"] = line_number-1\n",
        "  #     all_abstracts.append(abstract_line)\n",
        "  #     line_number = 0\n",
        "  #     abstract_line = {}\n",
        "  #   else:\n",
        "  #     target,text = line.split(\"\\t\")\n",
        "  #     line_number += 1\n",
        "  #     abstract_line[\"line_number\"] = line_number\n",
        "  #     abstract_line[\"target\"] = target\n",
        "  #     abstract_line[\"text\"] = text\n",
        "  # return all_abstracts\n",
        "  input_lines = read_lines(filename) # get all lines from filename\n",
        "  abstract_lines = \"\" # create an empty abstract\n",
        "  abstract_samples = [] # create an empty list of abstracts\n",
        "\n",
        "  # Loop through each line in target file\n",
        "  for line in input_lines:\n",
        "    if line.startswith(\"###\"): # check to see if line is an ID line\n",
        "      abstract_id = line\n",
        "      abstract_lines = \"\" # reset abstract string\n",
        "    elif line.isspace(): # check to see if line is a new line\n",
        "      abstract_line_split = abstract_lines.splitlines() # split abstract into separate lines\n",
        "\n",
        "      # Iterate through each line in abstract and count them at the same time\n",
        "      for abstract_line_number, abstract_line in enumerate(abstract_line_split):\n",
        "        line_data = {} # create empty dict to store data from line\n",
        "        target_text_split = abstract_line.split(\"\\t\") # split target label from text\n",
        "        line_data[\"target\"] = target_text_split[0] # get target label\n",
        "        line_data[\"text\"] = target_text_split[1].lower() # get target text and lower it\n",
        "        line_data[\"line_number\"] = abstract_line_number # what number line does the line appear in the abstract?\n",
        "        line_data[\"total_lines\"] = len(abstract_line_split) - 1 # how many total lines are in the abstract? (start from 0)\n",
        "        abstract_samples.append(line_data) # add line data to abstract samples list\n",
        "\n",
        "    else: # if the above conditions aren't fulfilled, the line contains a labelled sentence\n",
        "      abstract_lines += line\n",
        "\n",
        "  return abstract_samples\n"
      ],
      "metadata": {
        "id": "zoJiw6oj-0iu"
      },
      "execution_count": 6,
      "outputs": []
    },
    {
      "cell_type": "code",
      "source": [
        "all_abstracts=preprocess_text_with_line_numbers(data_dir+\"train.txt\")"
      ],
      "metadata": {
        "id": "Tb17edu9IslK"
      },
      "execution_count": 7,
      "outputs": []
    },
    {
      "cell_type": "code",
      "source": [
        "len(all_abstracts)"
      ],
      "metadata": {
        "colab": {
          "base_uri": "https://localhost:8080/"
        },
        "id": "hCDzxv_zIyPX",
        "outputId": "26b26522-d00a-41e5-fe90-a980e9d9193e"
      },
      "execution_count": 8,
      "outputs": [
        {
          "output_type": "execute_result",
          "data": {
            "text/plain": [
              "180040"
            ]
          },
          "metadata": {},
          "execution_count": 8
        }
      ]
    },
    {
      "cell_type": "code",
      "source": [
        "%%time\n",
        "train_samples = preprocess_text_with_line_numbers(data_dir+\"train.txt\")\n",
        "val_samples = preprocess_text_with_line_numbers(data_dir+\"dev.txt\")\n",
        "test_samples = preprocess_text_with_line_numbers(data_dir+\"test.txt\")\n",
        "len(train_samples), len(val_samples),len(test_samples)"
      ],
      "metadata": {
        "colab": {
          "base_uri": "https://localhost:8080/"
        },
        "id": "6DQS5kO2Q1mC",
        "outputId": "919cf1af-d6ab-4367-85a9-68ca47351a9b"
      },
      "execution_count": 9,
      "outputs": [
        {
          "output_type": "stream",
          "name": "stdout",
          "text": [
            "CPU times: user 640 ms, sys: 113 ms, total: 754 ms\n",
            "Wall time: 1.79 s\n"
          ]
        },
        {
          "output_type": "execute_result",
          "data": {
            "text/plain": [
              "(180040, 30212, 30135)"
            ]
          },
          "metadata": {},
          "execution_count": 9
        }
      ]
    },
    {
      "cell_type": "code",
      "source": [
        "import pandas as pd\n",
        "train_df = pd.DataFrame(train_samples)\n",
        "val_df = pd.DataFrame(val_samples)\n",
        "test_df = pd.DataFrame(test_samples)"
      ],
      "metadata": {
        "id": "__VJ5DOaRm58"
      },
      "execution_count": 10,
      "outputs": []
    },
    {
      "cell_type": "code",
      "source": [
        "len(train_df),len(val_df), len(test_df)"
      ],
      "metadata": {
        "colab": {
          "base_uri": "https://localhost:8080/"
        },
        "id": "Eu3z2PIeVz3k",
        "outputId": "c3bd7915-c207-4472-d0d7-73d50090c9ed"
      },
      "execution_count": 11,
      "outputs": [
        {
          "output_type": "execute_result",
          "data": {
            "text/plain": [
              "(180040, 30212, 30135)"
            ]
          },
          "metadata": {},
          "execution_count": 11
        }
      ]
    },
    {
      "cell_type": "code",
      "source": [
        "train_df.target.value_counts()"
      ],
      "metadata": {
        "colab": {
          "base_uri": "https://localhost:8080/"
        },
        "id": "Gj4QjSA4V_mJ",
        "outputId": "1f7766d8-c8a7-4cd2-fd18-88c6738b0a5e"
      },
      "execution_count": 12,
      "outputs": [
        {
          "output_type": "execute_result",
          "data": {
            "text/plain": [
              "METHODS        59353\n",
              "RESULTS        57953\n",
              "CONCLUSIONS    27168\n",
              "BACKGROUND     21727\n",
              "OBJECTIVE      13839\n",
              "Name: target, dtype: int64"
            ]
          },
          "metadata": {},
          "execution_count": 12
        }
      ]
    },
    {
      "cell_type": "code",
      "source": [
        "train_df.total_lines.plot.hist();"
      ],
      "metadata": {
        "colab": {
          "base_uri": "https://localhost:8080/",
          "height": 431
        },
        "id": "6mq1rAWxWDjH",
        "outputId": "50510f37-ebb7-4b4e-cbfd-1ec0941333b2"
      },
      "execution_count": 13,
      "outputs": [
        {
          "output_type": "display_data",
          "data": {
            "text/plain": [
              "<Figure size 640x480 with 1 Axes>"
            ],
            "image/png": "[encoded data removed]"
          },
          "metadata": {}
        }
      ]
    },
    {
      "cell_type": "code",
      "source": [
        "train_sentences = train_df[\"text\"].tolist()\n",
        "val_sentences = val_df[\"text\"].tolist()\n",
        "test_sentences = test_df[\"text\"].tolist()\n",
        "len(train_sentences),len(val_sentences),len(test_sentences)"
      ],
      "metadata": {
        "colab": {
          "base_uri": "https://localhost:8080/"
        },
        "id": "SCQ48KVvWVA_",
        "outputId": "8776a6f3-5396-4f15-f13b-10b9c838c72e"
      },
      "execution_count": 14,
      "outputs": [
        {
          "output_type": "execute_result",
          "data": {
            "text/plain": [
              "(180040, 30212, 30135)"
            ]
          },
          "metadata": {},
          "execution_count": 14
        }
      ]
    },
    {
      "cell_type": "markdown",
      "source": [
        "### Make numerical labels\n",
        "We're going to create one hot and label encoded labels\n",
        "> We could get away with just making label encoded labels, however, Tensorflow's CategoricalCrossEntropy loss function likes to have one hot encoded labels"
      ],
      "metadata": {
        "id": "hMQB8IE_T5KP"
      }
    },
    {
      "cell_type": "code",
      "source": [],
      "metadata": {
        "id": "6QysElpYVrTF"
      },
      "execution_count": 14,
      "outputs": []
    },
    {
      "cell_type": "code",
      "source": [
        "# One hot encoded labels\n",
        "from sklearn.preprocessing import OneHotEncoder\n",
        "one_hot_encoder = OneHotEncoder(sparse=False)\n",
        "train_labels_one_hot = one_hot_encoder.fit_transform(train_df[\"target\"].to_numpy().reshape(-1, 1))\n",
        "val_labels_one_hot = one_hot_encoder.fit_transform(val_df[\"target\"].to_numpy().reshape(-1,1))\n",
        "test_labels_one_hot = one_hot_encoder.fit_transform(test_df[\"target\"].to_numpy().reshape(-1,1))\n"
      ],
      "metadata": {
        "colab": {
          "base_uri": "https://localhost:8080/"
        },
        "id": "6U4wepHBW6vd",
        "outputId": "a0cd11bb-c4c2-4161-a3a3-3b77d4b7f41a"
      },
      "execution_count": 15,
      "outputs": [
        {
          "output_type": "stream",
          "name": "stderr",
          "text": [
            "/usr/local/lib/python3.10/dist-packages/sklearn/preprocessing/_encoders.py:868: FutureWarning: `sparse` was renamed to `sparse_output` in version 1.2 and will be removed in 1.4. `sparse_output` is ignored unless you leave `sparse` to its default value.\n",
            "  warnings.warn(\n",
            "/usr/local/lib/python3.10/dist-packages/sklearn/preprocessing/_encoders.py:868: FutureWarning: `sparse` was renamed to `sparse_output` in version 1.2 and will be removed in 1.4. `sparse_output` is ignored unless you leave `sparse` to its default value.\n",
            "  warnings.warn(\n",
            "/usr/local/lib/python3.10/dist-packages/sklearn/preprocessing/_encoders.py:868: FutureWarning: `sparse` was renamed to `sparse_output` in version 1.2 and will be removed in 1.4. `sparse_output` is ignored unless you leave `sparse` to its default value.\n",
            "  warnings.warn(\n"
          ]
        }
      ]
    },
    {
      "cell_type": "code",
      "source": [
        "train_labels_one_hot"
      ],
      "metadata": {
        "colab": {
          "base_uri": "https://localhost:8080/"
        },
        "id": "v7r9N-OFXf_n",
        "outputId": "d951788a-1e99-4d90-a67f-119dfb3f2cb7"
      },
      "execution_count": 16,
      "outputs": [
        {
          "output_type": "execute_result",
          "data": {
            "text/plain": [
              "array([[0., 0., 0., 1., 0.],\n",
              "       [0., 0., 1., 0., 0.],\n",
              "       [0., 0., 1., 0., 0.],\n",
              "       ...,\n",
              "       [0., 0., 0., 0., 1.],\n",
              "       [0., 1., 0., 0., 0.],\n",
              "       [0., 1., 0., 0., 0.]])"
            ]
          },
          "metadata": {},
          "execution_count": 16
        }
      ]
    },
    {
      "cell_type": "code",
      "source": [
        "## Extract labels ( targets ) and encode them into integers\n",
        "from sklearn.preprocessing import LabelEncoder\n",
        "label_encoder = LabelEncoder()\n",
        "train_labels_encoded = label_encoder.fit_transform(train_df[\"target\"].to_numpy())\n",
        "val_labels_encoded = label_encoder.fit_transform(val_df[\"target\"].to_numpy())\n",
        "test_labels_encoded = label_encoder.fit_transform(test_df[\"target\"].to_numpy())"
      ],
      "metadata": {
        "id": "JL7yV6drW8Vg"
      },
      "execution_count": 17,
      "outputs": []
    },
    {
      "cell_type": "code",
      "source": [
        "train_labels_encoded"
      ],
      "metadata": {
        "colab": {
          "base_uri": "https://localhost:8080/"
        },
        "id": "0cfc5L9dXTM8",
        "outputId": "79892dca-76e6-43d1-9bb8-643449ac06fd"
      },
      "execution_count": 18,
      "outputs": [
        {
          "output_type": "execute_result",
          "data": {
            "text/plain": [
              "array([3, 2, 2, ..., 4, 1, 1])"
            ]
          },
          "metadata": {},
          "execution_count": 18
        }
      ]
    },
    {
      "cell_type": "code",
      "source": [
        "num_classes = len(label_encoder.classes_)\n",
        "classes = label_encoder.classes_\n",
        "num_classes,classes"
      ],
      "metadata": {
        "colab": {
          "base_uri": "https://localhost:8080/"
        },
        "id": "28VUWUZLYE9t",
        "outputId": "db6d3f46-86ae-4454-8e35-8ff6fce3bbe7"
      },
      "execution_count": 19,
      "outputs": [
        {
          "output_type": "execute_result",
          "data": {
            "text/plain": [
              "(5,\n",
              " array(['BACKGROUND', 'CONCLUSIONS', 'METHODS', 'OBJECTIVE', 'RESULTS'],\n",
              "       dtype=object))"
            ]
          },
          "metadata": {},
          "execution_count": 19
        }
      ]
    },
    {
      "cell_type": "markdown",
      "source": [
        "## Model 0: Getting a baseline\n",
        "Our first model will be a Tf-Idf Multinomial Naive Bayes as recommended by [Scikit-Learn's Machine Learning map](https://dev.mrdbourke.com/tensorflow-deep-learning/09_SkimLit_nlp_milestone_project_2/#model-0-getting-a-baseline)\n",
        "\n",
        "To build it we will use Scikit-Learn's `pipeline` which use `TfidfVectorizer` class to convert our abstract sentences into numbers using TF-IDF (term frequency- inverse document frequency) algorithm and then learn's to classify the sentence using `MultinomialNB` algorithm"
      ],
      "metadata": {
        "id": "q1U29qV1yCmz"
      }
    },
    {
      "cell_type": "code",
      "source": [
        "from sklearn.feature_extraction.text import TfidfVectorizer\n",
        "from sklearn.naive_bayes import MultinomialNB\n",
        "from sklearn.pipeline import Pipeline\n",
        "\n",
        "# Create a pipeline\n",
        "model_0 = Pipeline([\n",
        "    (\"tf-idf\",TfidfVectorizer())\n",
        "    ,(\"clf\",MultinomialNB())\n",
        "])\n",
        "\n",
        "model_0.fit(X=train_sentences,\n",
        "            y=train_labels_encoded)"
      ],
      "metadata": {
        "id": "SHYXJTmhYSwT",
        "colab": {
          "base_uri": "https://localhost:8080/",
          "height": 124
        },
        "outputId": "d74b22cf-01c2-4622-a40c-b05e561f2262"
      },
      "execution_count": 20,
      "outputs": [
        {
          "output_type": "execute_result",
          "data": {
            "text/plain": [
              "Pipeline(steps=[('tf-idf', TfidfVectorizer()), ('clf', MultinomialNB())])"
            ],
            "text/html": [
              "<style>#sk-container-id-1 {color: black;background-color: white;}#sk-container-id-1 pre{padding: 0;}#sk-container-id-1 div.sk-toggleable {background-color: white;}#sk-container-id-1 label.sk-toggleable__label {cursor: pointer;display: block;width: 100%;margin-bottom: 0;padding: 0.3em;box-sizing: border-box;text-align: center;}#sk-container-id-1 label.sk-toggleable__label-arrow:before {content: \"▸\";float: left;margin-right: 0.25em;color: #696969;}#sk-container-id-1 label.sk-toggleable__label-arrow:hover:before {color: black;}#sk-container-id-1 div.sk-estimator:hover label.sk-toggleable__label-arrow:before {color: black;}#sk-container-id-1 div.sk-toggleable__content {max-height: 0;max-width: 0;overflow: hidden;text-align: left;background-color: #f0f8ff;}#sk-container-id-1 div.sk-toggleable__content pre {margin: 0.2em;color: black;border-radius: 0.25em;background-color: #f0f8ff;}#sk-container-id-1 input.sk-toggleable__control:checked~div.sk-toggleable__content {max-height: 200px;max-width: 100%;overflow: auto;}#sk-container-id-1 input.sk-toggleable__control:checked~label.sk-toggleable__label-arrow:before {content: \"▾\";}#sk-container-id-1 div.sk-estimator input.sk-toggleable__control:checked~label.sk-toggleable__label {background-color: #d4ebff;}#sk-container-id-1 div.sk-label input.sk-toggleable__control:checked~label.sk-toggleable__label {background-color: #d4ebff;}#sk-container-id-1 input.sk-hidden--visually {border: 0;clip: rect(1px 1px 1px 1px);clip: rect(1px, 1px, 1px, 1px);height: 1px;margin: -1px;overflow: hidden;padding: 0;position: absolute;width: 1px;}#sk-container-id-1 div.sk-estimator {font-family: monospace;background-color: #f0f8ff;border: 1px dotted black;border-radius: 0.25em;box-sizing: border-box;margin-bottom: 0.5em;}#sk-container-id-1 div.sk-estimator:hover {background-color: #d4ebff;}#sk-container-id-1 div.sk-parallel-item::after {content: \"\";width: 100%;border-bottom: 1px solid gray;flex-grow: 1;}#sk-container-id-1 div.sk-label:hover label.sk-toggleable__label {background-color: #d4ebff;}#sk-container-id-1 div.sk-serial::before {content: \"\";position: absolute;border-left: 1px solid gray;box-sizing: border-box;top: 0;bottom: 0;left: 50%;z-index: 0;}#sk-container-id-1 div.sk-serial {display: flex;flex-direction: column;align-items: center;background-color: white;padding-right: 0.2em;padding-left: 0.2em;position: relative;}#sk-container-id-1 div.sk-item {position: relative;z-index: 1;}#sk-container-id-1 div.sk-parallel {display: flex;align-items: stretch;justify-content: center;background-color: white;position: relative;}#sk-container-id-1 div.sk-item::before, #sk-container-id-1 div.sk-parallel-item::before {content: \"\";position: absolute;border-left: 1px solid gray;box-sizing: border-box;top: 0;bottom: 0;left: 50%;z-index: -1;}#sk-container-id-1 div.sk-parallel-item {display: flex;flex-direction: column;z-index: 1;position: relative;background-color: white;}#sk-container-id-1 div.sk-parallel-item:first-child::after {align-self: flex-end;width: 50%;}#sk-container-id-1 div.sk-parallel-item:last-child::after {align-self: flex-start;width: 50%;}#sk-container-id-1 div.sk-parallel-item:only-child::after {width: 0;}#sk-container-id-1 div.sk-dashed-wrapped {border: 1px dashed gray;margin: 0 0.4em 0.5em 0.4em;box-sizing: border-box;padding-bottom: 0.4em;background-color: white;}#sk-container-id-1 div.sk-label label {font-family: monospace;font-weight: bold;display: inline-block;line-height: 1.2em;}#sk-container-id-1 div.sk-label-container {text-align: center;}#sk-container-id-1 div.sk-container {/* jupyter's `normalize.less` sets `[hidden] { display: none; }` but bootstrap.min.css set `[hidden] { display: none !important; }` so we also need the `!important` here to be able to override the default hidden behavior on the sphinx rendered scikit-learn.org. See: https://github.com/scikit-learn/scikit-learn/issues/21755 */display: inline-block !important;position: relative;}#sk-container-id-1 div.sk-text-repr-fallback {display: none;}</style><div id=\"sk-container-id-1\" class=\"sk-top-container\"><div class=\"sk-text-repr-fallback\"><pre>Pipeline(steps=[(&#x27;tf-idf&#x27;, TfidfVectorizer()), (&#x27;clf&#x27;, MultinomialNB())])</pre><b>In a Jupyter environment, please rerun this cell to show the HTML representation or trust the notebook. <br />On GitHub, the HTML representation is unable to render, please try loading this page with nbviewer.org.</b></div><div class=\"sk-container\" hidden><div class=\"sk-item sk-dashed-wrapped\"><div class=\"sk-label-container\"><div class=\"sk-label sk-toggleable\"><input class=\"sk-toggleable__control sk-hidden--visually\" id=\"sk-estimator-id-1\" type=\"checkbox\" ><label for=\"sk-estimator-id-1\" class=\"sk-toggleable__label sk-toggleable__label-arrow\">Pipeline</label><div class=\"sk-toggleable__content\"><pre>Pipeline(steps=[(&#x27;tf-idf&#x27;, TfidfVectorizer()), (&#x27;clf&#x27;, MultinomialNB())])</pre></div></div></div><div class=\"sk-serial\"><div class=\"sk-item\"><div class=\"sk-estimator sk-toggleable\"><input class=\"sk-toggleable__control sk-hidden--visually\" id=\"sk-estimator-id-2\" type=\"checkbox\" ><label for=\"sk-estimator-id-2\" class=\"sk-toggleable__label sk-toggleable__label-arrow\">TfidfVectorizer</label><div class=\"sk-toggleable__content\"><pre>TfidfVectorizer()</pre></div></div></div><div class=\"sk-item\"><div class=\"sk-estimator sk-toggleable\"><input class=\"sk-toggleable__control sk-hidden--visually\" id=\"sk-estimator-id-3\" type=\"checkbox\" ><label for=\"sk-estimator-id-3\" class=\"sk-toggleable__label sk-toggleable__label-arrow\">MultinomialNB</label><div class=\"sk-toggleable__content\"><pre>MultinomialNB()</pre></div></div></div></div></div></div></div>"
            ]
          },
          "metadata": {},
          "execution_count": 20
        }
      ]
    },
    {
      "cell_type": "code",
      "source": [
        "model_0.score(X=val_sentences\n",
        "              ,y=val_labels_encoded)"
      ],
      "metadata": {
        "colab": {
          "base_uri": "https://localhost:8080/"
        },
        "id": "BdxAiv-D0IDB",
        "outputId": "8933b420-61d0-4e27-fd96-acc46a6eea57"
      },
      "execution_count": 21,
      "outputs": [
        {
          "output_type": "execute_result",
          "data": {
            "text/plain": [
              "0.7218323844829869"
            ]
          },
          "metadata": {},
          "execution_count": 21
        }
      ]
    },
    {
      "cell_type": "code",
      "source": [
        "baseline_preds = model_0.predict(val_sentences)\n",
        "baseline_preds"
      ],
      "metadata": {
        "id": "ZYhMlEtm0M4J",
        "colab": {
          "base_uri": "https://localhost:8080/"
        },
        "outputId": "d4a4ecd4-35b2-4911-9a94-20b9b433e425"
      },
      "execution_count": 22,
      "outputs": [
        {
          "output_type": "execute_result",
          "data": {
            "text/plain": [
              "array([4, 1, 3, ..., 4, 4, 1])"
            ]
          },
          "metadata": {},
          "execution_count": 22
        }
      ]
    },
    {
      "cell_type": "markdown",
      "source": [
        "We need to define a function to calculate the following model metrics\n",
        "1. Accuracy\n",
        "2. Precision\n",
        "3. Recall\n",
        "4. f1-score"
      ],
      "metadata": {
        "id": "v77J1ye67x3S"
      }
    },
    {
      "cell_type": "code",
      "source": [
        "from sklearn.metrics import accuracy_score, precision_recall_fscore_support\n",
        "from typing import Dict\n",
        "def calculate_results(y_true,y_pred)-> Dict:\n",
        "  \"\"\"\n",
        "    Calculate the model evaluation metrics, namely : accuracy, precision, recall, fscore\n",
        "    Args:\n",
        "      y_true(List[Any]): True labels\n",
        "      y_pred(List[Any]): Predicted labels\n",
        "    Returns:\n",
        "      model_results(Dict)\n",
        "  \"\"\"\n",
        "  accuracy = accuracy_score(y_true=y_true,y_pred=y_pred) * 100\n",
        "  # calculate the precision, recall and f1_score using the \"weighted\" average\n",
        "  precision,recall,f1_score,_ = precision_recall_fscore_support(y_true=y_true,y_pred=y_pred,average=\"weighted\")\n",
        "  model_results = {\n",
        "      \"accuracy\":accuracy\n",
        "      ,\"precision\":precision\n",
        "      ,\"recall\":recall\n",
        "      ,\"f1score\":f1_score\n",
        "  }\n",
        "  return model_results\n"
      ],
      "metadata": {
        "id": "7ahgLDKQ7pxs"
      },
      "execution_count": 23,
      "outputs": []
    },
    {
      "cell_type": "code",
      "source": [
        "baseline_results = calculate_results(y_true=val_labels_encoded,y_pred=baseline_preds)\n",
        "baseline_results"
      ],
      "metadata": {
        "colab": {
          "base_uri": "https://localhost:8080/"
        },
        "id": "f2AFBPf_9uuJ",
        "outputId": "7df372b7-3822-443c-da9b-1a89904a000c"
      },
      "execution_count": 24,
      "outputs": [
        {
          "output_type": "execute_result",
          "data": {
            "text/plain": [
              "{'accuracy': 72.1832384482987,\n",
              " 'precision': 0.7186466952323352,\n",
              " 'recall': 0.7218323844829869,\n",
              " 'f1score': 0.6989250353450294}"
            ]
          },
          "metadata": {},
          "execution_count": 24
        }
      ]
    },
    {
      "cell_type": "markdown",
      "source": [
        "### Preparing the data from deep sequence models\n",
        "Before we embark on the journey of creating model, we will have to _numericalize_ our data using text vectorizer and embedding layers. Hence, we will have to create our own **text vectorizer** and **embedding layer**"
      ],
      "metadata": {
        "id": "MIbbErnL_Qge"
      }
    },
    {
      "cell_type": "code",
      "source": [
        "# import libraries\n",
        "import numpy as np\n",
        "import tensorflow as tf\n",
        "from tensorflow.keras import layers"
      ],
      "metadata": {
        "id": "tzkzHQSE97M4"
      },
      "execution_count": 25,
      "outputs": []
    },
    {
      "cell_type": "markdown",
      "source": [
        "Since, we will be dealing with text, its a good practice to find out the length of each line to be used for training.\n",
        "> _In general, neural networks works best when the inputs are of the same size. This is important as it will be used to create batches of same size\n",
        "For example, if one sentence is eight words long and another is 29 words long, we want to pad the eight word sentence with zeros so it ends up being the same length as 29 words sentence_."
      ],
      "metadata": {
        "id": "g9bDeUXsAeec"
      }
    },
    {
      "cell_type": "code",
      "source": [
        "#Let's find the average length of sentences in our training set\n",
        "sentence_lengths = [len(sentence.split()) for sentence in train_sentences ]\n",
        "avg_len = sum(sentence_lengths)/len(train_sentences)\n",
        "avg_len"
      ],
      "metadata": {
        "colab": {
          "base_uri": "https://localhost:8080/"
        },
        "id": "sGoHwSPvAdqE",
        "outputId": "f419e9dc-b009-455b-f411-c25795a9051b"
      },
      "execution_count": 26,
      "outputs": [
        {
          "output_type": "execute_result",
          "data": {
            "text/plain": [
              "26.338269273494777"
            ]
          },
          "metadata": {},
          "execution_count": 26
        }
      ]
    },
    {
      "cell_type": "code",
      "source": [
        "import matplotlib.pyplot as plt\n",
        "plt.hist(sentence_lengths,bins=7);"
      ],
      "metadata": {
        "colab": {
          "base_uri": "https://localhost:8080/",
          "height": 430
        },
        "id": "QqCNBCdYCBx4",
        "outputId": "b8304a68-ddba-4a21-d58f-794416dd8dc1"
      },
      "execution_count": 27,
      "outputs": [
        {
          "output_type": "display_data",
          "data": {
            "text/plain": [
              "<Figure size 640x480 with 1 Axes>"
            ],
            "image/png": "[encoded data removed]"
          },
          "metadata": {}
        }
      ]
    },
    {
      "cell_type": "code",
      "source": [
        "# How long of a sentence covers 95% of the lengths?\n",
        "output_seq_len = int(np.percentile(sentence_lengths,95))\n",
        "output_seq_len"
      ],
      "metadata": {
        "colab": {
          "base_uri": "https://localhost:8080/"
        },
        "id": "fSLlmw2kDHYj",
        "outputId": "999b1ab9-c2ee-4f86-ef2e-7c1c1e2e4b44"
      },
      "execution_count": 28,
      "outputs": [
        {
          "output_type": "execute_result",
          "data": {
            "text/plain": [
              "55"
            ]
          },
          "metadata": {},
          "execution_count": 28
        }
      ]
    },
    {
      "cell_type": "markdown",
      "source": [
        "> **🔑Note**: Good practices to be followed when working with text corpus for a NLP problem\n",
        "1. What is the length of longest text?\n",
        "2. What is the length of smallest text?\n",
        "3. What is the distribution of length of text?\n",
        "4. One-hot encode the target labels\n",
        "5. LabelEncode the target labels\n"
      ],
      "metadata": {
        "id": "GPTEcPxiW1TR"
      }
    },
    {
      "cell_type": "code",
      "source": [
        "# As mentioned in Table.1\n",
        "max_tokens=68000\n",
        "#Create text vectorizer\n",
        "from tensorflow.keras.layers import TextVectorization\n",
        "text_vectorizer = TextVectorization(max_tokens=max_tokens\n",
        "                                 ,output_sequence_length=55) ## 55 since, we saw that 95% percent of lines in abstract are of length 55\n",
        "\n",
        "# adapt text vectorizer to training data\n",
        "\n",
        "text_vectorizer.adapt(train_sentences)\n"
      ],
      "metadata": {
        "id": "0Vt69OyvWAvV"
      },
      "execution_count": 29,
      "outputs": []
    },
    {
      "cell_type": "code",
      "source": [
        "# Test our text vectorizer\n",
        "import random\n",
        "target_sentence = random.choice(train_sentences)\n",
        "print(f\"Text:\\n {target_sentence}\")\n",
        "print(f\"Length of text:\\n {len(target_sentence.split())}\")\n",
        "print(f\"Vectorized Text:\\n {text_vectorizer([target_sentence])}\")"
      ],
      "metadata": {
        "colab": {
          "base_uri": "https://localhost:8080/"
        },
        "id": "yW8HDV_haRjR",
        "outputId": "ad96ea21-c2eb-4d5b-8fe4-0e67503e916f"
      },
      "execution_count": 30,
      "outputs": [
        {
          "output_type": "stream",
          "name": "stdout",
          "text": [
            "Text:\n",
            " robust clinical data evaluating fibrosis progression in hepatitis c virus ( hcv ) liver transplant patients receiving an mtor inhibitor vs. calcineurin inhibitor ( cni ) are lacking .\n",
            "Length of text:\n",
            " 29\n",
            "Vectorized Text:\n",
            " [[ 2485    47   100  1556  1938   499     5  1363   243  1308  1446   604\n",
            "   1506    12   245    26 10667   738    44 10434   738  5770    58  2563\n",
            "      0     0     0     0     0     0     0     0     0     0     0     0\n",
            "      0     0     0     0     0     0     0     0     0     0     0     0\n",
            "      0     0     0     0     0     0     0]]\n"
          ]
        }
      ]
    },
    {
      "cell_type": "code",
      "source": [
        "text_vectorizer.get_config()"
      ],
      "metadata": {
        "colab": {
          "base_uri": "https://localhost:8080/"
        },
        "id": "7olFjbisc7GR",
        "outputId": "f970fa3c-16d5-4078-de7d-abc4bccd91ba"
      },
      "execution_count": 31,
      "outputs": [
        {
          "output_type": "execute_result",
          "data": {
            "text/plain": [
              "{'name': 'text_vectorization',\n",
              " 'trainable': True,\n",
              " 'dtype': 'string',\n",
              " 'batch_input_shape': (None,),\n",
              " 'max_tokens': 68000,\n",
              " 'standardize': 'lower_and_strip_punctuation',\n",
              " 'split': 'whitespace',\n",
              " 'ngrams': None,\n",
              " 'output_mode': 'int',\n",
              " 'output_sequence_length': 55,\n",
              " 'pad_to_max_tokens': False,\n",
              " 'sparse': False,\n",
              " 'ragged': False,\n",
              " 'vocabulary': None,\n",
              " 'idf_weights': None,\n",
              " 'encoding': 'utf-8',\n",
              " 'vocabulary_size': 64841}"
            ]
          },
          "metadata": {},
          "execution_count": 31
        }
      ]
    },
    {
      "cell_type": "markdown",
      "source": [
        "### Create custom text embedding\n",
        "Our `text_vectorization` layers maps the words in our text directly to numbers.However, this doesn't capture the context of the sentence or in other words relation between the numbers\n",
        "\n",
        "To create richer numerical representation of our text, we need to use **embedding**\n",
        "\n",
        "As our model learns (by going through many different examples of abstract sentences and their labels), it'll update its embedding to better represent the relationship between tokens (numbers) in our corpus, hence will be able to gain the context of the sentences.\n",
        "\n",
        "We can create trainable embeddings using Tensorflow's `Embedding` layer.\n",
        "\n",
        "Again, here we are concerned about the input and output parameters of our `Embedding` layer.\n",
        "\n",
        "The `input_dim` describes the vocabulary size (68K in our case). And the `output_dim` parameter defines the dimension of the embedding output.\n",
        "\n",
        "Once created, our embedding layer will take the output of `text_vectorization` as input and convert them into feature vector of size `output_dim`"
      ],
      "metadata": {
        "id": "8YfCF-kwhIC0"
      }
    },
    {
      "cell_type": "code",
      "source": [
        "# Create token embedding layer\n",
        "rct_20k_text_vocab = text_vectorizer.get_vocabulary()\n",
        "token_embed = layers.Embedding(input_dim=len(rct_20k_text_vocab)\n",
        "                               ,output_dim=128\n",
        "                               ,mask_zero=True\n",
        "                               ,name=\"model_0_embedding\"\n",
        "                               )\n",
        "\n",
        "print(f\" Sentence before vectorization:{target_sentence}\")\n",
        "vectorized_text = text_vectorizer([target_sentence])\n",
        "print(f\" Sentence after vectorization before embedding: {vectorized_text}\")\n",
        "trainable_embeddings = token_embed(vectorized_text)\n",
        "print(f\" Sentence after  embedding: {trainable_embeddings}\")"
      ],
      "metadata": {
        "colab": {
          "base_uri": "https://localhost:8080/"
        },
        "id": "b_NO8TkYeFus",
        "outputId": "1a61e198-5700-45f2-b99d-30a3cb4f4606"
      },
      "execution_count": 32,
      "outputs": [
        {
          "output_type": "stream",
          "name": "stdout",
          "text": [
            " Sentence before vectorization:robust clinical data evaluating fibrosis progression in hepatitis c virus ( hcv ) liver transplant patients receiving an mtor inhibitor vs. calcineurin inhibitor ( cni ) are lacking .\n",
            " Sentence after vectorization before embedding: [[ 2485    47   100  1556  1938   499     5  1363   243  1308  1446   604\n",
            "   1506    12   245    26 10667   738    44 10434   738  5770    58  2563\n",
            "      0     0     0     0     0     0     0     0     0     0     0     0\n",
            "      0     0     0     0     0     0     0     0     0     0     0     0\n",
            "      0     0     0     0     0     0     0]]\n",
            " Sentence after  embedding: [[[-0.01480681  0.0470917   0.02731249 ... -0.04013614  0.01418686\n",
            "   -0.03911931]\n",
            "  [ 0.02049926 -0.04197872  0.01516047 ... -0.01785673 -0.02052203\n",
            "   -0.03161614]\n",
            "  [-0.00143947  0.00714611  0.02545947 ...  0.01745364  0.01828488\n",
            "   -0.03487778]\n",
            "  ...\n",
            "  [-0.01974588 -0.02552342 -0.04784456 ...  0.00300359 -0.00867044\n",
            "   -0.01223784]\n",
            "  [-0.01974588 -0.02552342 -0.04784456 ...  0.00300359 -0.00867044\n",
            "   -0.01223784]\n",
            "  [-0.01974588 -0.02552342 -0.04784456 ...  0.00300359 -0.00867044\n",
            "   -0.01223784]]]\n"
          ]
        }
      ]
    },
    {
      "cell_type": "code",
      "source": [
        "from datetime import datetime\n",
        "def create_tensorboard_callback(dir_name,experiment_name):\n",
        "  \"\"\"\n",
        "    This function is used as a callback during the training of a model.\n",
        "    This will store the training experiments as we iterate over various strategies of\n",
        "    building / training the model\n",
        "  \"\"\"\n",
        "  log_dir = dir_name + \"/\" + experiment_name + \"/\" + datetime.now().strftime(\"%Y%m%d-%H%M%S\")\n",
        "  return tf.keras.callbacks.TensorBoard(log_dir=log_dir)"
      ],
      "metadata": {
        "id": "I0h_SWIC1k0R"
      },
      "execution_count": 33,
      "outputs": []
    },
    {
      "cell_type": "markdown",
      "source": [
        "## Create Datasets"
      ],
      "metadata": {
        "id": "59gBQhpi5adS"
      }
    },
    {
      "cell_type": "code",
      "source": [
        "len(train_sentences),len(val_sentences)"
      ],
      "metadata": {
        "colab": {
          "base_uri": "https://localhost:8080/"
        },
        "id": "l-cVVsEs9fuc",
        "outputId": "298e0737-61fc-4e1c-ea95-80c57d5e5332"
      },
      "execution_count": 34,
      "outputs": [
        {
          "output_type": "execute_result",
          "data": {
            "text/plain": [
              "(180040, 30212)"
            ]
          },
          "metadata": {},
          "execution_count": 34
        }
      ]
    },
    {
      "cell_type": "code",
      "source": [
        "train_dataset= tf.data.Dataset.from_tensor_slices((train_sentences,train_labels_one_hot))\n",
        "valid_dataset= tf.data.Dataset.from_tensor_slices((val_sentences,val_labels_one_hot))\n",
        "test_dataset= tf.data.Dataset.from_tensor_slices((test_sentences,test_labels_one_hot))\n",
        "train_dataset"
      ],
      "metadata": {
        "colab": {
          "base_uri": "https://localhost:8080/"
        },
        "id": "n_lEhtW45fvQ",
        "outputId": "0ae3ef62-b32b-4726-9366-4302d9432266"
      },
      "execution_count": 35,
      "outputs": [
        {
          "output_type": "execute_result",
          "data": {
            "text/plain": [
              "<_TensorSliceDataset element_spec=(TensorSpec(shape=(), dtype=tf.string, name=None), TensorSpec(shape=(5,), dtype=tf.float64, name=None))>"
            ]
          },
          "metadata": {},
          "execution_count": 35
        }
      ]
    },
    {
      "cell_type": "code",
      "source": [
        "train_dataset = train_dataset.batch(32).prefetch(tf.data.AUTOTUNE)\n",
        "val_dataset = valid_dataset.batch(32).prefetch(tf.data.AUTOTUNE)\n",
        "test_dataset = test_dataset.batch(32).prefetch(tf.data.AUTOTUNE)\n",
        "train_dataset"
      ],
      "metadata": {
        "colab": {
          "base_uri": "https://localhost:8080/"
        },
        "id": "fDW7aoJw6R_9",
        "outputId": "1d8b914d-dfef-416d-8625-7c3f86bf73ca"
      },
      "execution_count": 36,
      "outputs": [
        {
          "output_type": "execute_result",
          "data": {
            "text/plain": [
              "<_PrefetchDataset element_spec=(TensorSpec(shape=(None,), dtype=tf.string, name=None), TensorSpec(shape=(None, 5), dtype=tf.float64, name=None))>"
            ]
          },
          "metadata": {},
          "execution_count": 36
        }
      ]
    },
    {
      "cell_type": "markdown",
      "source": [
        "### Model 1: Conv1D with token embeddings\n",
        "All our deep learning models will have a similar structure\n",
        "```\n",
        "Text(input) -> Tokenize -> Embedding -> Layers -> Output (Label Probabilities)\n",
        "```"
      ],
      "metadata": {
        "id": "BBy1-xsbygaH"
      }
    },
    {
      "cell_type": "code",
      "source": [
        "# Create a 1D convolutional model to process sentences\n",
        "inputs= layers.Input(shape=(1,),dtype=tf.string)\n",
        "text_vectors= text_vectorizer(inputs)\n",
        "token_embeddings= token_embed(text_vectors)\n",
        "print(f\"Shape of embedding tokens: {token_embeddings.shape}\")\n",
        "x= layers.Conv1D(64,kernel_size=5,padding=\"same\",activation=\"relu\")(token_embeddings)\n",
        "x= layers.GlobalAveragePooling1D()(x)\n",
        "outputs= layers.Dense(num_classes,activation=\"softmax\")(x)\n",
        "model_1= tf.keras.Model(inputs,outputs,name=\"conv1d\")\n",
        "\n",
        "model_1.compile(loss=tf.keras.losses.categorical_crossentropy\n",
        "                ,optimizer=tf.keras.optimizers.Adam()\n",
        "                ,metrics=[\"accuracy\"]\n",
        "                )\n",
        "\n",
        "model_1.summary()"
      ],
      "metadata": {
        "colab": {
          "base_uri": "https://localhost:8080/"
        },
        "id": "D9PDRJRrl5ct",
        "outputId": "69113199-c526-4e15-9813-02915d9d6575"
      },
      "execution_count": 37,
      "outputs": [
        {
          "output_type": "stream",
          "name": "stdout",
          "text": [
            "Shape of embedding tokens: (None, 55, 128)\n",
            "Model: \"conv1d\"\n",
            "_________________________________________________________________\n",
            " Layer (type)                Output Shape              Param #   \n",
            "=================================================================\n",
            " input_1 (InputLayer)        [(None, 1)]               0         \n",
            "                                                                 \n",
            " text_vectorization (TextVec  (None, 55)               0         \n",
            " torization)                                                     \n",
            "                                                                 \n",
            " model_0_embedding (Embeddin  (None, 55, 128)          8299648   \n",
            " g)                                                              \n",
            "                                                                 \n",
            " conv1d (Conv1D)             (None, 55, 64)            41024     \n",
            "                                                                 \n",
            " global_average_pooling1d (G  (None, 64)               0         \n",
            " lobalAveragePooling1D)                                          \n",
            "                                                                 \n",
            " dense (Dense)               (None, 5)                 325       \n",
            "                                                                 \n",
            "=================================================================\n",
            "Total params: 8,340,997\n",
            "Trainable params: 8,340,997\n",
            "Non-trainable params: 0\n",
            "_________________________________________________________________\n"
          ]
        }
      ]
    },
    {
      "cell_type": "markdown",
      "source": [
        "Before we fit the model, let us create a function to push save our model experiments so that we can visualize it later on a tensorboard"
      ],
      "metadata": {
        "id": "DZyq7psT13nA"
      }
    },
    {
      "cell_type": "code",
      "source": [
        "SAVE_DIR=\"model_log\""
      ],
      "metadata": {
        "id": "QguQfG_L3zCh"
      },
      "execution_count": 38,
      "outputs": []
    },
    {
      "cell_type": "code",
      "source": [
        "history_1 = model_1.fit(train_dataset\n",
        "                        ,steps_per_epoch=int(0.1 * len(train_dataset))\n",
        "                        ,validation_data=val_dataset\n",
        "                        ,validation_steps=int(0.1*len(val_dataset))\n",
        "                        ,epochs=5\n",
        "                        ,callbacks=[create_tensorboard_callback(dir_name=SAVE_DIR,experiment_name=\"model_1_con1D\")]\n",
        "                        )"
      ],
      "metadata": {
        "colab": {
          "base_uri": "https://localhost:8080/"
        },
        "id": "t8zQit4Z3Brb",
        "outputId": "e82775a8-1210-4bbf-d291-6c5ebfa49dbc"
      },
      "execution_count": 39,
      "outputs": [
        {
          "output_type": "stream",
          "name": "stdout",
          "text": [
            "Epoch 1/5\n",
            "562/562 [==============================] - 55s 75ms/step - loss: 0.9127 - accuracy: 0.6387 - val_loss: 0.6808 - val_accuracy: 0.7420\n",
            "Epoch 2/5\n",
            "562/562 [==============================] - 10s 18ms/step - loss: 0.6543 - accuracy: 0.7584 - val_loss: 0.6319 - val_accuracy: 0.7699\n",
            "Epoch 3/5\n",
            "562/562 [==============================] - 6s 10ms/step - loss: 0.6152 - accuracy: 0.7762 - val_loss: 0.5956 - val_accuracy: 0.7846\n",
            "Epoch 4/5\n",
            "562/562 [==============================] - 5s 9ms/step - loss: 0.5876 - accuracy: 0.7881 - val_loss: 0.5770 - val_accuracy: 0.7862\n",
            "Epoch 5/5\n",
            "562/562 [==============================] - 5s 10ms/step - loss: 0.5889 - accuracy: 0.7929 - val_loss: 0.5615 - val_accuracy: 0.7942\n"
          ]
        }
      ]
    },
    {
      "cell_type": "code",
      "source": [
        "model_1.evaluate(val_dataset)"
      ],
      "metadata": {
        "colab": {
          "base_uri": "https://localhost:8080/"
        },
        "id": "2G5K1zPbGAOZ",
        "outputId": "da2a07a5-3913-401b-8c89-654d55d3eaf9"
      },
      "execution_count": 40,
      "outputs": [
        {
          "output_type": "stream",
          "name": "stdout",
          "text": [
            "945/945 [==============================] - 4s 4ms/step - loss: 0.5604 - accuracy: 0.8005\n"
          ]
        },
        {
          "output_type": "execute_result",
          "data": {
            "text/plain": [
              "[0.560358464717865, 0.800476610660553]"
            ]
          },
          "metadata": {},
          "execution_count": 40
        }
      ]
    },
    {
      "cell_type": "code",
      "source": [
        "model_1_pred_probs = model_1.predict(val_dataset)\n",
        "model_1_pred_probs"
      ],
      "metadata": {
        "colab": {
          "base_uri": "https://localhost:8080/"
        },
        "id": "-Nh9ZzscKIdv",
        "outputId": "ad8cc031-94bd-450a-b837-05d5c552bc18"
      },
      "execution_count": 41,
      "outputs": [
        {
          "output_type": "stream",
          "name": "stdout",
          "text": [
            "945/945 [==============================] - 2s 2ms/step\n"
          ]
        },
        {
          "output_type": "execute_result",
          "data": {
            "text/plain": [
              "array([[5.63232183e-01, 1.56213984e-01, 4.96241413e-02, 1.83785751e-01,\n",
              "        4.71438952e-02],\n",
              "       [4.43312079e-01, 3.53398651e-01, 2.52235532e-02, 1.37445956e-01,\n",
              "        4.06198725e-02],\n",
              "       [1.64108813e-01, 3.34842922e-03, 1.01554731e-03, 8.31487775e-01,\n",
              "        3.94450144e-05],\n",
              "       ...,\n",
              "       [3.71022907e-05, 7.32677581e-04, 4.90470557e-03, 3.22001288e-05,\n",
              "        9.94293332e-01],\n",
              "       [1.02900214e-01, 2.61818856e-01, 1.77991882e-01, 7.57397264e-02,\n",
              "        3.81549329e-01],\n",
              "       [1.74848020e-01, 7.35770881e-01, 5.30318394e-02, 1.37440944e-02,\n",
              "        2.26051547e-02]], dtype=float32)"
            ]
          },
          "metadata": {},
          "execution_count": 41
        }
      ]
    },
    {
      "cell_type": "code",
      "source": [
        "model_1_preds = tf.argmax(model_1_pred_probs,axis=1)\n",
        "model_1_preds"
      ],
      "metadata": {
        "colab": {
          "base_uri": "https://localhost:8080/"
        },
        "id": "R9QJ1bhzKPyl",
        "outputId": "5294174d-ffc7-47b4-d5f4-bbe22d926da9"
      },
      "execution_count": 42,
      "outputs": [
        {
          "output_type": "execute_result",
          "data": {
            "text/plain": [
              "<tf.Tensor: shape=(30212,), dtype=int64, numpy=array([0, 0, 3, ..., 4, 4, 1])>"
            ]
          },
          "metadata": {},
          "execution_count": 42
        }
      ]
    },
    {
      "cell_type": "code",
      "source": [
        "model_1_results = calculate_results(y_true=val_labels_encoded\n",
        "                                    ,y_pred=model_1_preds)\n",
        "model_1_results"
      ],
      "metadata": {
        "colab": {
          "base_uri": "https://localhost:8080/"
        },
        "id": "G0FIANfbKdLC",
        "outputId": "2ced6e53-a4eb-44dc-98a8-9e337257527d"
      },
      "execution_count": 43,
      "outputs": [
        {
          "output_type": "execute_result",
          "data": {
            "text/plain": [
              "{'accuracy': 80.0476631801933,\n",
              " 'precision': 0.8008454558925686,\n",
              " 'recall': 0.800476631801933,\n",
              " 'f1score': 0.797301817061669}"
            ]
          },
          "metadata": {},
          "execution_count": 43
        }
      ]
    },
    {
      "cell_type": "markdown",
      "source": [
        "## Model 2: Feature extraction with pretrained token embeddings\n",
        "As we move towards replicating the model architecture in [Neural Networks for Joint Sentence Classification in Medical Paper Abstracts](https://arxiv.org/pdf/1612.05251.pdf), it mentions they have used a [pretrained GLoVe embedding](https://nlp.stanford.edu/projects/glove/) as a way to initialise their token embeddings.\n",
        "\n",
        "For our learning purpose , we will use whatever is available from Tensorflow hub. [GLoVe embedding](https://nlp.stanford.edu/projects/glove/) is not available in Tensorflow hub, hence we will use [pretrained Universal Sentence Embedding from Tensorflow hub](https://tfhub.dev/google/universal-sentence-encoder/4)\n",
        "\n",
        "_This type of model is called **transfer learning**, or more specifically **feature extraction transfer learning**. In other words, taking the patterns a model has learned elsewhere and applying it to our own problem_"
      ],
      "metadata": {
        "id": "YZ2i4cWLNCwq"
      }
    },
    {
      "cell_type": "code",
      "source": [
        "import tensorflow_hub as hub\n",
        "tf_hub_embedding_layer = hub.KerasLayer(\"https://tfhub.dev/google/universal-sentence-encoder/4\"\n",
        "                                        ,trainable=False\n",
        "                                        ,name=\"universal_sentence_encoder\")\n"
      ],
      "metadata": {
        "id": "BBi4ZMDiKubS"
      },
      "execution_count": 44,
      "outputs": []
    },
    {
      "cell_type": "code",
      "source": [
        "random_training_sentence= random.choice(train_sentences)\n",
        "print(f\" Training sample sentence: {random_training_sentence}\")\n",
        "use_embedding_sentence = tf_hub_embedding_layer([random_training_sentence])\n",
        "print(f\" Shape of the embedding vector generated use Universal Sentence Encoder : {use_embedding_sentence.shape}\")\n",
        "print(f\" Sentence embedding :{use_embedding_sentence[0][:30]}\")\n",
        "print(f\" Length of sentence embedding: {len(use_embedding_sentence[0])}\")"
      ],
      "metadata": {
        "colab": {
          "base_uri": "https://localhost:8080/"
        },
        "id": "f0oB8tEXPtZT",
        "outputId": "a214d597-7f6e-4126-cb6d-13477a0a020c"
      },
      "execution_count": 45,
      "outputs": [
        {
          "output_type": "stream",
          "name": "stdout",
          "text": [
            " Training sample sentence: all participants received best-evidence advice and were followed up for @ months .\n",
            " Shape of the embedding vector generated use Universal Sentence Encoder : (1, 512)\n",
            " Sentence embedding :[ 0.00484913 -0.03850516 -0.00225086 -0.03250641 -0.05450161 -0.02490935\n",
            "  0.07462091 -0.02225216 -0.09866872 -0.02514302 -0.04585677 -0.00263409\n",
            "  0.03240417  0.04591604 -0.04646168  0.07207243  0.05074014  0.00342012\n",
            " -0.03480062 -0.01584869 -0.04636295  0.08067328 -0.06760173  0.002409\n",
            " -0.0411352   0.01931971 -0.0176773  -0.02203086  0.03911119  0.04047157]\n",
            " Length of sentence embedding: 512\n"
          ]
        }
      ]
    },
    {
      "cell_type": "markdown",
      "source": [
        "  Building and fitting an NLP feature extraction model from Tensorflow hub"
      ],
      "metadata": {
        "id": "7ANoI1DSR_Px"
      }
    },
    {
      "cell_type": "code",
      "source": [
        "# Define feature extraction model from Tensorflow hub\n",
        "inputs = layers.Input(shape=[],dtype=tf.string)\n",
        "pretrained_embedding = tf_hub_embedding_layer(inputs)\n",
        "x = layers.Dense(128,activation=\"relu\")(pretrained_embedding)\n",
        "outputs = layers.Dense(num_classes,activation=\"softmax\")(x)\n",
        "model_2 = tf.keras.Model(inputs,outputs,name=\"feature_extraction_model_2\")\n",
        "\n",
        "model_2.compile(loss=tf.keras.losses.categorical_crossentropy\n",
        "                ,optimizer=tf.keras.optimizers.Adam()\n",
        "                ,metrics=[\"accuracy\"]\n",
        "                )\n",
        "\n",
        "model_2.summary()"
      ],
      "metadata": {
        "colab": {
          "base_uri": "https://localhost:8080/"
        },
        "id": "VveUb9hHRuwQ",
        "outputId": "21ce8db3-8a45-4495-afef-186406abab84"
      },
      "execution_count": 46,
      "outputs": [
        {
          "output_type": "stream",
          "name": "stdout",
          "text": [
            "Model: \"feature_extraction_model_2\"\n",
            "_________________________________________________________________\n",
            " Layer (type)                Output Shape              Param #   \n",
            "=================================================================\n",
            " input_2 (InputLayer)        [(None,)]                 0         \n",
            "                                                                 \n",
            " universal_sentence_encoder   (None, 512)              256797824 \n",
            " (KerasLayer)                                                    \n",
            "                                                                 \n",
            " dense_1 (Dense)             (None, 128)               65664     \n",
            "                                                                 \n",
            " dense_2 (Dense)             (None, 5)                 645       \n",
            "                                                                 \n",
            "=================================================================\n",
            "Total params: 256,864,133\n",
            "Trainable params: 66,309\n",
            "Non-trainable params: 256,797,824\n",
            "_________________________________________________________________\n"
          ]
        }
      ]
    },
    {
      "cell_type": "code",
      "source": [
        "history_2 = model_2.fit(train_dataset\n",
        "                        ,steps_per_epoch=(0.1 * len(train_dataset))\n",
        "                        ,validation_data=val_dataset\n",
        "                        ,validation_steps=(0.1 * len(val_dataset))\n",
        "                        ,epochs=5\n",
        "                        ,callbacks=[create_tensorboard_callback(dir_name=SAVE_DIR,experiment_name=\"feature_extractor_model_2\")]\n",
        "                        )"
      ],
      "metadata": {
        "colab": {
          "base_uri": "https://localhost:8080/"
        },
        "id": "1rkdmcboTZ32",
        "outputId": "878eea48-6ee2-459c-84fa-0960771c6503"
      },
      "execution_count": 47,
      "outputs": [
        {
          "output_type": "stream",
          "name": "stdout",
          "text": [
            "Epoch 1/5\n",
            "562/562 [==============================] - 13s 17ms/step - loss: 0.9192 - accuracy: 0.6463 - val_loss: 0.8023 - val_accuracy: 0.6839\n",
            "Epoch 2/5\n",
            "562/562 [==============================] - 9s 15ms/step - loss: 0.7678 - accuracy: 0.7014 - val_loss: 0.7550 - val_accuracy: 0.7059\n",
            "Epoch 3/5\n",
            "562/562 [==============================] - 12s 22ms/step - loss: 0.7496 - accuracy: 0.7133 - val_loss: 0.7373 - val_accuracy: 0.7161\n",
            "Epoch 4/5\n",
            "562/562 [==============================] - 9s 15ms/step - loss: 0.7176 - accuracy: 0.7246 - val_loss: 0.7088 - val_accuracy: 0.7306\n",
            "Epoch 5/5\n",
            "562/562 [==============================] - 9s 15ms/step - loss: 0.7234 - accuracy: 0.7240 - val_loss: 0.6901 - val_accuracy: 0.7352\n"
          ]
        }
      ]
    },
    {
      "cell_type": "code",
      "source": [
        "model_2.evaluate(val_dataset)"
      ],
      "metadata": {
        "colab": {
          "base_uri": "https://localhost:8080/"
        },
        "id": "nDBYxmaZT-Su",
        "outputId": "606b09a6-a0f7-4ce1-e29b-8b7c9cbd37cd"
      },
      "execution_count": 48,
      "outputs": [
        {
          "output_type": "stream",
          "name": "stdout",
          "text": [
            "945/945 [==============================] - 11s 11ms/step - loss: 0.6972 - accuracy: 0.7353\n"
          ]
        },
        {
          "output_type": "execute_result",
          "data": {
            "text/plain": [
              "[0.6972301602363586, 0.73533695936203]"
            ]
          },
          "metadata": {},
          "execution_count": 48
        }
      ]
    },
    {
      "cell_type": "code",
      "source": [
        "model_2_pred_probs = model_2.predict(val_dataset)\n",
        "model_2_pred_probs"
      ],
      "metadata": {
        "colab": {
          "base_uri": "https://localhost:8080/"
        },
        "id": "0O-oQUW7UQaw",
        "outputId": "d5d9fb9f-0c0e-444d-e961-5568ac12449f"
      },
      "execution_count": 49,
      "outputs": [
        {
          "output_type": "stream",
          "name": "stdout",
          "text": [
            "945/945 [==============================] - 13s 13ms/step\n"
          ]
        },
        {
          "output_type": "execute_result",
          "data": {
            "text/plain": [
              "array([[6.8721920e-01, 1.9924329e-01, 2.3079638e-03, 1.0266798e-01,\n",
              "        8.5616149e-03],\n",
              "       [4.3741325e-01, 4.5283431e-01, 5.0233728e-03, 1.0265635e-01,\n",
              "        2.0727064e-03],\n",
              "       [4.0557674e-01, 6.7740083e-02, 5.5673253e-02, 4.2446455e-01,\n",
              "        4.6545431e-02],\n",
              "       ...,\n",
              "       [1.9744367e-03, 1.9789769e-03, 7.6439410e-02, 6.1633985e-04,\n",
              "        9.1899085e-01],\n",
              "       [2.3068192e-03, 2.9492503e-02, 4.9126309e-01, 6.7521498e-04,\n",
              "        4.7626236e-01],\n",
              "       [1.5391941e-01, 3.7175339e-01, 4.3340978e-01, 2.1021622e-03,\n",
              "        3.8815215e-02]], dtype=float32)"
            ]
          },
          "metadata": {},
          "execution_count": 49
        }
      ]
    },
    {
      "cell_type": "code",
      "source": [
        "model_2_preds = tf.argmax(model_2_pred_probs,axis=1)\n",
        "model_2_preds"
      ],
      "metadata": {
        "colab": {
          "base_uri": "https://localhost:8080/"
        },
        "id": "FXoz9AOXUWzG",
        "outputId": "f857b61e-f580-4cf1-f47f-110ab1a27019"
      },
      "execution_count": 50,
      "outputs": [
        {
          "output_type": "execute_result",
          "data": {
            "text/plain": [
              "<tf.Tensor: shape=(30212,), dtype=int64, numpy=array([0, 1, 3, ..., 4, 2, 2])>"
            ]
          },
          "metadata": {},
          "execution_count": 50
        }
      ]
    },
    {
      "cell_type": "code",
      "source": [
        "model_2_results = calculate_results(y_true=val_labels_encoded\n",
        "                                    ,y_pred=model_2_preds)\n",
        "model_2_results"
      ],
      "metadata": {
        "colab": {
          "base_uri": "https://localhost:8080/"
        },
        "id": "fgs_-7PUUdts",
        "outputId": "a6a2e7c8-d945-4b2d-b769-907bdd5e9477"
      },
      "execution_count": 51,
      "outputs": [
        {
          "output_type": "execute_result",
          "data": {
            "text/plain": [
              "{'accuracy': 73.53369522044221,\n",
              " 'precision': 0.7318604794128377,\n",
              " 'recall': 0.7353369522044221,\n",
              " 'f1score': 0.7297724475568852}"
            ]
          },
          "metadata": {},
          "execution_count": 51
        }
      ]
    },
    {
      "cell_type": "markdown",
      "source": [
        "## Model 3: Conv1D with character embeddings\n",
        "\n",
        " The [Neural Networks for Joint Sentence Classification in Medical Paper Abstracts](https://arxiv.org/pdf/1612.05251.pdf) papers suggests use of a hybrid approach of character and token embeddings.\n",
        "\n",
        " **Character embedding** are generated using sequences split into characters whereas **token embedding** is created on sequences split into tokens"
      ],
      "metadata": {
        "id": "x__H-2iQU-Mw"
      }
    },
    {
      "cell_type": "code",
      "source": [
        "# A function to convert sentences into sequence of characters\n",
        "def split_chars(text):\n",
        "  return \" \".join(list(text))\n",
        "\n",
        "split_chars(random_training_sentence)"
      ],
      "metadata": {
        "colab": {
          "base_uri": "https://localhost:8080/",
          "height": 54
        },
        "id": "jVP30c7YU82v",
        "outputId": "c7fb6aee-f545-4734-8445-7f832377ec9e"
      },
      "execution_count": 52,
      "outputs": [
        {
          "output_type": "execute_result",
          "data": {
            "text/plain": [
              "'a l l   p a r t i c i p a n t s   r e c e i v e d   b e s t - e v i d e n c e   a d v i c e   a n d   w e r e   f o l l o w e d   u p   f o r   @   m o n t h s   .'"
            ],
            "application/vnd.google.colaboratory.intrinsic+json": {
              "type": "string"
            }
          },
          "metadata": {},
          "execution_count": 52
        }
      ]
    },
    {
      "cell_type": "markdown",
      "source": [
        "We will have to create character-level datasets by splitting our sequence dataset into characters"
      ],
      "metadata": {
        "id": "ReSsk2uKWpga"
      }
    },
    {
      "cell_type": "code",
      "source": [
        "train_chars = [split_chars(sentence) for sentence in train_sentences]\n",
        "val_chars = [split_chars(sentence) for sentence in val_sentences]\n",
        "test_chars = [split_chars(sentence) for sentence in test_sentences]"
      ],
      "metadata": {
        "id": "-6Hx7YxTU13h"
      },
      "execution_count": 53,
      "outputs": []
    },
    {
      "cell_type": "code",
      "source": [
        "# Average chars in training dataset\n",
        "char_size = [len(sentence) for sentence in train_sentences]\n",
        "avg = sum(char_size)/len(train_sentences)\n",
        "avg"
      ],
      "metadata": {
        "colab": {
          "base_uri": "https://localhost:8080/"
        },
        "id": "5NY0nJKIXGsI",
        "outputId": "600ce54a-8c06-42bc-ebca-ded3cfdcfc8a"
      },
      "execution_count": 54,
      "outputs": [
        {
          "output_type": "execute_result",
          "data": {
            "text/plain": [
              "149.3662574983337"
            ]
          },
          "metadata": {},
          "execution_count": 54
        }
      ]
    },
    {
      "cell_type": "code",
      "source": [
        "# What is the average number of characters that 95% for sentences have in our training dataset\n",
        "output_seq_char_length = int(np.percentile(char_size,95))\n",
        "output_seq_char_length"
      ],
      "metadata": {
        "colab": {
          "base_uri": "https://localhost:8080/"
        },
        "id": "yF59q1N6X1Np",
        "outputId": "fcb39bb0-180e-4c59-9b57-12c3dff7c212"
      },
      "execution_count": 55,
      "outputs": [
        {
          "output_type": "execute_result",
          "data": {
            "text/plain": [
              "290"
            ]
          },
          "metadata": {},
          "execution_count": 55
        }
      ]
    },
    {
      "cell_type": "markdown",
      "source": [
        "The whole idea of finding out the `output_seq_char_length` is to use the same value for `output_sequence_length` parameter while initializing `TextVectorization`\n",
        "\n",
        "We will have to set `max_token` parameter value to a value such that it includes\n",
        "1. Number of characters in english alphabet.\n",
        "2. Number of digits\n",
        "3. Number of punctuations\n",
        "4. Out Of Vocabulary\n",
        "5. Space character"
      ],
      "metadata": {
        "id": "HnGOl1JcY0Cc"
      }
    },
    {
      "cell_type": "code",
      "source": [
        "import string\n",
        "alphabet = string.ascii_lowercase + string.digits + string.punctuation\n",
        "alphabet"
      ],
      "metadata": {
        "colab": {
          "base_uri": "https://localhost:8080/",
          "height": 36
        },
        "id": "LXdgHWBbYpNY",
        "outputId": "cadbb0a3-a154-4f4d-f943-b155e5fb3411"
      },
      "execution_count": 56,
      "outputs": [
        {
          "output_type": "execute_result",
          "data": {
            "text/plain": [
              "'abcdefghijklmnopqrstuvwxyz0123456789!\"#$%&\\'()*+,-./:;<=>?@[\\\\]^_`{|}~'"
            ],
            "application/vnd.google.colaboratory.intrinsic+json": {
              "type": "string"
            }
          },
          "metadata": {},
          "execution_count": 56
        }
      ]
    },
    {
      "cell_type": "code",
      "source": [
        "NUM_CHARS_TOKEN = len(alphabet) +2\n",
        "NUM_CHARS_TOKEN"
      ],
      "metadata": {
        "colab": {
          "base_uri": "https://localhost:8080/"
        },
        "id": "3iB2EWuLaK_n",
        "outputId": "2fc50116-e12e-48d0-b226-9422b1a372d4"
      },
      "execution_count": 57,
      "outputs": [
        {
          "output_type": "execute_result",
          "data": {
            "text/plain": [
              "70"
            ]
          },
          "metadata": {},
          "execution_count": 57
        }
      ]
    },
    {
      "cell_type": "code",
      "source": [
        "char_vectorizer = TextVectorization(max_tokens=NUM_CHARS_TOKEN\n",
        "                                    ,output_sequence_length=output_seq_char_length\n",
        "                                    ,standardize=\"lower_and_strip_punctuation\"\n",
        "                                    ,name=\"char_vectorizer\")\n",
        "char_vectorizer.adapt(train_chars)"
      ],
      "metadata": {
        "id": "bvfic8iQanKX"
      },
      "execution_count": 58,
      "outputs": []
    },
    {
      "cell_type": "code",
      "source": [
        "# check character vocabulary characteristics\n",
        "char_vocab = char_vectorizer.get_vocabulary()\n",
        "print(f\" Number of different characters in character vocab: {len(char_vocab)}\")\n",
        "print(f\" 5 most common characters : {char_vocab[:5]}\")\n",
        "print(f\" 5 least common characters: {char_vocab[-5:]}\")"
      ],
      "metadata": {
        "id": "31N9FrOKJF-W",
        "outputId": "c58e7b8f-0880-4a78-c5f3-91a346c999e9",
        "colab": {
          "base_uri": "https://localhost:8080/"
        }
      },
      "execution_count": 60,
      "outputs": [
        {
          "output_type": "stream",
          "name": "stdout",
          "text": [
            " Number of different characters in character vocab: 28\n",
            " 5 most common characters : ['', '[UNK]', 'e', 't', 'i']\n",
            " 5 least common characters: ['k', 'x', 'z', 'q', 'j']\n"
          ]
        }
      ]
    },
    {
      "cell_type": "code",
      "source": [
        "# Test our character vectorizer\n"
      ],
      "metadata": {
        "id": "aDFf2oivJxhE"
      },
      "execution_count": null,
      "outputs": []
    }
  ]
}