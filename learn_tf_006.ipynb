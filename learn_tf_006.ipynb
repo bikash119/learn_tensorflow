{
  "nbformat": 4,
  "nbformat_minor": 0,
  "metadata": {
    "colab": {
      "provenance": [],
      "gpuType": "T4",
      "authorship_tag": "ABX9TyM+3DOompSfjcVPEEtQtsSA",
      "include_colab_link": true
    },
    "kernelspec": {
      "name": "python3",
      "display_name": "Python 3"
    },
    "language_info": {
      "name": "python"
    },
    "accelerator": "GPU"
  },
  "cells": [
    {
      "cell_type": "markdown",
      "metadata": {
        "id": "view-in-github",
        "colab_type": "text"
      },
      "source": [
        "<a href=\"https://colab.research.google.com/github/bikash119/learn_tensorflow/blob/main/learn_tf_006.ipynb\" target=\"_parent\"><img src=\"https://colab.research.google.com/assets/colab-badge.svg\" alt=\"Open In Colab\"/></a>"
      ]
    },
    {
      "cell_type": "markdown",
      "source": [
        "## NLP: SkimLit 🔥\n",
        "### We will be replicating the deep learning model behind the 2017 paper [PubMed: A Dataset for Sequential Sentence Classification in Medical Abstracts](https://arxiv.org/abs/1710.06071)\n",
        "\n",
        "**The Problem:** The number of RCT papers releases is continuing to increase, those without structured abstracts can be hard to read and in turn slow down researchers moving through the literature\n",
        "\n",
        "**The Solution:** Create a NLP model to classify abstract sentences into the role they play from the list of possible roles (objective, method, result, background or conclusion)\n",
        "\n",
        "The data comes from: [PubMed: A Dataset for Sequential Sentence Classification in Medical Abstracts](https://arxiv.org/abs/1710.06071)\n",
        "\n",
        "The model is from: [Neural Networks for Joint Sentence Classification\n",
        "in Medical Paper Abstracts](https://arxiv.org/pdf/1612.05251.pdf)\n"
      ],
      "metadata": {
        "id": "64IFcTvv0Yc5"
      }
    },
    {
      "cell_type": "markdown",
      "source": [
        "### Steps to follow\n",
        "1. Download the data\n",
        "2. Perform Pre-processing\n",
        "3. Create a baseline model"
      ],
      "metadata": {
        "id": "rV6iDFme6GCv"
      }
    },
    {
      "cell_type": "markdown",
      "source": [
        "## 1. Dowload the data"
      ],
      "metadata": {
        "id": "x27pmFx36Vgb"
      }
    },
    {
      "cell_type": "code",
      "execution_count": 1,
      "metadata": {
        "colab": {
          "base_uri": "https://localhost:8080/"
        },
        "id": "K1QoY6-r0T-X",
        "outputId": "d5fa5ad9-0fb2-4185-d572-3d5ed8dfd45b"
      },
      "outputs": [
        {
          "output_type": "stream",
          "name": "stdout",
          "text": [
            "fatal: destination path 'pubmed-rct' already exists and is not an empty directory.\n",
            "PubMed_200k_RCT\n",
            "PubMed_200k_RCT_numbers_replaced_with_at_sign\n",
            "PubMed_20k_RCT\n",
            "PubMed_20k_RCT_numbers_replaced_with_at_sign\n",
            "README.md\n"
          ]
        }
      ],
      "source": [
        "!git clone https://github.com/Franck-Dernoncourt/pubmed-rct.git\n",
        "!ls pubmed-rct"
      ]
    },
    {
      "cell_type": "markdown",
      "source": [
        "We will use the dataset `PubMed_20k_RCT_numbers_replaced_with_at_sign` for faster iterations on smaller data size. The `PubMed_200k_RCT_numbers_replaced_with_at_sign` is superset of `PubMed_20k_RCT_numbers_replaced_with_at_sign` where all the numbers (numerical values) are replaced with `at-sign`"
      ],
      "metadata": {
        "id": "gVZ0G55g6r8R"
      }
    },
    {
      "cell_type": "code",
      "source": [
        "!ls pubmed-rct/PubMed_200k_RCT_numbers_replaced_with_at_sign"
      ],
      "metadata": {
        "colab": {
          "base_uri": "https://localhost:8080/"
        },
        "id": "5H8v2a866fbp",
        "outputId": "ca54218f-8d9e-4472-a6b7-eb76335eb925"
      },
      "execution_count": 2,
      "outputs": [
        {
          "output_type": "stream",
          "name": "stdout",
          "text": [
            "dev.txt  test.txt  train.zip\n"
          ]
        }
      ]
    },
    {
      "cell_type": "markdown",
      "source": [
        "**dev.txt**: Validation dataset\n",
        "\n",
        "**train.txt**: Training dataset\n",
        "\n",
        "**test.txt**: Test dataset"
      ],
      "metadata": {
        "id": "URQXbh3g7qye"
      }
    },
    {
      "cell_type": "code",
      "source": [
        "import os\n",
        "# Lets turn the filepath and the filename to a variable\n",
        "data_dir = \"/content/pubmed-rct/PubMed_20k_RCT_numbers_replaced_with_at_sign/\"\n",
        "# List all the files in a directory\n",
        "filenames= [data_dir+filename for filename in os.listdir(data_dir)]\n",
        "filenames"
      ],
      "metadata": {
        "colab": {
          "base_uri": "https://localhost:8080/"
        },
        "id": "fu98tKM_7i4r",
        "outputId": "5e7112c5-9d43-452d-ca36-8df66ac00d8c"
      },
      "execution_count": 3,
      "outputs": [
        {
          "output_type": "execute_result",
          "data": {
            "text/plain": [
              "['/content/pubmed-rct/PubMed_20k_RCT_numbers_replaced_with_at_sign/dev.txt',\n",
              " '/content/pubmed-rct/PubMed_20k_RCT_numbers_replaced_with_at_sign/train.txt',\n",
              " '/content/pubmed-rct/PubMed_20k_RCT_numbers_replaced_with_at_sign/test.txt']"
            ]
          },
          "metadata": {},
          "execution_count": 3
        }
      ]
    },
    {
      "cell_type": "markdown",
      "source": [
        "```\n",
        "Visualize, Visualize, Visualize\n",
        "```"
      ],
      "metadata": {
        "id": "m7-7pLyQ9sVy"
      }
    },
    {
      "cell_type": "code",
      "source": [
        "# A function to read lines of a target file\n",
        "from typing import List\n",
        "\n",
        "def read_lines(filename) -> List[str]:\n",
        "  \"\"\"\n",
        "    Reads a file and returns the lines of the file as list\n",
        "    Args:\n",
        "      filename(str): Name of the file\n",
        "    Returns(List[str]):\n",
        "      A list containing the lines in the file\n",
        "  \"\"\"\n",
        "  with open(filename,\"r\") as f:\n",
        "    return f.readlines()"
      ],
      "metadata": {
        "id": "SK8Vo1M-8kaL"
      },
      "execution_count": 4,
      "outputs": []
    },
    {
      "cell_type": "code",
      "source": [
        "train_text = read_lines(data_dir+\"train.txt\")\n",
        "train_text[:20]\n"
      ],
      "metadata": {
        "colab": {
          "base_uri": "https://localhost:8080/"
        },
        "id": "EmMvn7-1-tE6",
        "outputId": "8e8803c1-a927-4c58-e086-0c1a056e3963"
      },
      "execution_count": 5,
      "outputs": [
        {
          "output_type": "execute_result",
          "data": {
            "text/plain": [
              "['###24293578\\n',\n",
              " 'OBJECTIVE\\tTo investigate the efficacy of @ weeks of daily low-dose oral prednisolone in improving pain , mobility , and systemic low-grade inflammation in the short term and whether the effect would be sustained at @ weeks in older adults with moderate to severe knee osteoarthritis ( OA ) .\\n',\n",
              " 'METHODS\\tA total of @ patients with primary knee OA were randomized @:@ ; @ received @ mg/day of prednisolone and @ received placebo for @ weeks .\\n',\n",
              " 'METHODS\\tOutcome measures included pain reduction and improvement in function scores and systemic inflammation markers .\\n',\n",
              " 'METHODS\\tPain was assessed using the visual analog pain scale ( @-@ mm ) .\\n',\n",
              " 'METHODS\\tSecondary outcome measures included the Western Ontario and McMaster Universities Osteoarthritis Index scores , patient global assessment ( PGA ) of the severity of knee OA , and @-min walk distance ( @MWD ) .\\n',\n",
              " 'METHODS\\tSerum levels of interleukin @ ( IL-@ ) , IL-@ , tumor necrosis factor ( TNF ) - , and high-sensitivity C-reactive protein ( hsCRP ) were measured .\\n',\n",
              " 'RESULTS\\tThere was a clinically relevant reduction in the intervention group compared to the placebo group for knee pain , physical function , PGA , and @MWD at @ weeks .\\n',\n",
              " 'RESULTS\\tThe mean difference between treatment arms ( @ % CI ) was @ ( @-@ @ ) , p < @ ; @ ( @-@ @ ) , p < @ ; @ ( @-@ @ ) , p < @ ; and @ ( @-@ @ ) , p < @ , respectively .\\n',\n",
              " 'RESULTS\\tFurther , there was a clinically relevant reduction in the serum levels of IL-@ , IL-@ , TNF - , and hsCRP at @ weeks in the intervention group when compared to the placebo group .\\n',\n",
              " 'RESULTS\\tThese differences remained significant at @ weeks .\\n',\n",
              " 'RESULTS\\tThe Outcome Measures in Rheumatology Clinical Trials-Osteoarthritis Research Society International responder rate was @ % in the intervention group and @ % in the placebo group ( p < @ ) .\\n',\n",
              " 'CONCLUSIONS\\tLow-dose oral prednisolone had both a short-term and a longer sustained effect resulting in less knee pain , better physical function , and attenuation of systemic inflammation in older patients with knee OA ( ClinicalTrials.gov identifier NCT@ ) .\\n',\n",
              " '\\n',\n",
              " '###24854809\\n',\n",
              " 'BACKGROUND\\tEmotional eating is associated with overeating and the development of obesity .\\n',\n",
              " 'BACKGROUND\\tYet , empirical evidence for individual ( trait ) differences in emotional eating and cognitive mechanisms that contribute to eating during sad mood remain equivocal .\\n',\n",
              " 'OBJECTIVE\\tThe aim of this study was to test if attention bias for food moderates the effect of self-reported emotional eating during sad mood ( vs neutral mood ) on actual food intake .\\n',\n",
              " 'OBJECTIVE\\tIt was expected that emotional eating is predictive of elevated attention for food and higher food intake after an experimentally induced sad mood and that attentional maintenance on food predicts food intake during a sad versus a neutral mood .\\n',\n",
              " 'METHODS\\tParticipants ( N = @ ) were randomly assigned to one of the two experimental mood induction conditions ( sad/neutral ) .\\n']"
            ]
          },
          "metadata": {},
          "execution_count": 5
        }
      ]
    },
    {
      "cell_type": "markdown",
      "source": [
        "Observations from reading the content of `train.txt`\n",
        "1. Each sentence is prefixed with _role_ and separated by (`\\t`) from the content of the sentence.\n",
        "2. Each sentence ends with (`\\n`) and a comma (`,`)\n",
        "3. Every abstract is separated by abstract Id which starts with three hash (`###`) followed by a number and ends with (`\\n`) and comma (`,`)\n",
        "4. Every abstract ends with (`\\n`) in a line\n",
        "\n",
        "We will have to write a function such that all the lines in the target file are returned as list of dictionaries containing key/value pairs:\n",
        "  \n",
        "  * `\"line_number\"`: the position of the line in the abstract\n",
        "  * `\"target\"`: the role of the line in the abstract\n",
        "  * `\"text\"`: the text of the line in the abstract\n",
        "  * `\"total_lines\"`: the total lines in an abstract sample\n",
        "\n",
        "  Example output for a single line in an abstract\n",
        "  ```\n",
        "  [\n",
        "    {\n",
        "      \"line_number\":3\n",
        "      ,\"target\": \"OBJECTIVE\"\n",
        "      ,\"text\":\"It was expected that emotional eating is predictive of elevated attention for food and higher food intake after an experimentally induced sad mood and that attentional maintenance on food predicts food intake during a sad versus a neutral mood .\"\n",
        "      ,\"total_lines\": 11\n",
        "    }\n",
        "    ,{\n",
        "\n",
        "    }\n",
        "  ]  \n",
        "  ```"
      ],
      "metadata": {
        "id": "_vYnlrKOAEG7"
      }
    },
    {
      "cell_type": "code",
      "source": [
        "from typing import Dict,List\n",
        "def preprocess_text_with_line_numbers(filename) -> List[Dict]:\n",
        "  \"\"\"\n",
        "    Takes a filename and returns the contents of the file as list of dictionaries.\n",
        "    Args:\n",
        "      filename(str): The name of the target file\n",
        "    Returns:\n",
        "      abstract_lines(List[Dict]): A list of dictionaries each containing a line from the abstract.\n",
        "      Example output:\n",
        "        [\n",
        "          {\n",
        "            \"line_number\":3\n",
        "            ,\"target\": \"OBJECTIVE\"\n",
        "            ,\"text\":\"It was expected that emotional eating is predictive of elevated attention for food and higher food intake after an experimentally induced sad mood and that attentional maintenance on food predicts food intake during a sad versus a neutral mood .\"\n",
        "            ,\"total_lines\": 11\n",
        "          }\n",
        "          ,{\n",
        "            \"line_number\":4\n",
        "            ,\"target\": \"BACKGROUND\"\n",
        "            ,\"text\":\"Emotional eating is associated with overeating and the development of obesity .\"\n",
        "            ,\"total_lines\": 13\n",
        "          }\n",
        "        ]\n",
        "  \"\"\"\n",
        "  # all_abstracts = []\n",
        "  # abstract_line=\"\"\n",
        "  # file_content = read_lines(filename)\n",
        "  # line_number = 0\n",
        "  # abstract_line = {}\n",
        "  # for line in file_content:\n",
        "  #   # Check if the line contains abstract id\n",
        "  #   if line.startswith(\"###\"):\n",
        "  #     abstract_id = line\n",
        "  #   elif line in ['\\n']:\n",
        "  #     abstract_line[\"total_lines\"] = line_number-1\n",
        "  #     all_abstracts.append(abstract_line)\n",
        "  #     line_number = 0\n",
        "  #     abstract_line = {}\n",
        "  #   else:\n",
        "  #     target,text = line.split(\"\\t\")\n",
        "  #     line_number += 1\n",
        "  #     abstract_line[\"line_number\"] = line_number\n",
        "  #     abstract_line[\"target\"] = target\n",
        "  #     abstract_line[\"text\"] = text\n",
        "  # return all_abstracts\n",
        "  input_lines = read_lines(filename) # get all lines from filename\n",
        "  abstract_lines = \"\" # create an empty abstract\n",
        "  abstract_samples = [] # create an empty list of abstracts\n",
        "\n",
        "  # Loop through each line in target file\n",
        "  for line in input_lines:\n",
        "    if line.startswith(\"###\"): # check to see if line is an ID line\n",
        "      abstract_id = line\n",
        "      abstract_lines = \"\" # reset abstract string\n",
        "    elif line.isspace(): # check to see if line is a new line\n",
        "      abstract_line_split = abstract_lines.splitlines() # split abstract into separate lines\n",
        "\n",
        "      # Iterate through each line in abstract and count them at the same time\n",
        "      for abstract_line_number, abstract_line in enumerate(abstract_line_split):\n",
        "        line_data = {} # create empty dict to store data from line\n",
        "        target_text_split = abstract_line.split(\"\\t\") # split target label from text\n",
        "        line_data[\"target\"] = target_text_split[0] # get target label\n",
        "        line_data[\"text\"] = target_text_split[1].lower() # get target text and lower it\n",
        "        line_data[\"line_number\"] = abstract_line_number # what number line does the line appear in the abstract?\n",
        "        line_data[\"total_lines\"] = len(abstract_line_split) - 1 # how many total lines are in the abstract? (start from 0)\n",
        "        abstract_samples.append(line_data) # add line data to abstract samples list\n",
        "\n",
        "    else: # if the above conditions aren't fulfilled, the line contains a labelled sentence\n",
        "      abstract_lines += line\n",
        "\n",
        "  return abstract_samples\n"
      ],
      "metadata": {
        "id": "zoJiw6oj-0iu"
      },
      "execution_count": 6,
      "outputs": []
    },
    {
      "cell_type": "code",
      "source": [
        "all_abstracts=preprocess_text_with_line_numbers(data_dir+\"train.txt\")"
      ],
      "metadata": {
        "id": "Tb17edu9IslK"
      },
      "execution_count": 7,
      "outputs": []
    },
    {
      "cell_type": "code",
      "source": [
        "len(all_abstracts)"
      ],
      "metadata": {
        "colab": {
          "base_uri": "https://localhost:8080/"
        },
        "id": "hCDzxv_zIyPX",
        "outputId": "b9d79b81-6cdd-42bb-a044-b0a044ce30c5"
      },
      "execution_count": 8,
      "outputs": [
        {
          "output_type": "execute_result",
          "data": {
            "text/plain": [
              "180040"
            ]
          },
          "metadata": {},
          "execution_count": 8
        }
      ]
    },
    {
      "cell_type": "code",
      "source": [
        "%%time\n",
        "train_samples = preprocess_text_with_line_numbers(data_dir+\"train.txt\")\n",
        "val_samples = preprocess_text_with_line_numbers(data_dir+\"dev.txt\")\n",
        "test_samples = preprocess_text_with_line_numbers(data_dir+\"test.txt\")\n",
        "len(train_samples), len(val_samples),len(test_samples)"
      ],
      "metadata": {
        "colab": {
          "base_uri": "https://localhost:8080/"
        },
        "id": "6DQS5kO2Q1mC",
        "outputId": "650adf6f-a42b-4c45-c9cd-73ebf5b05a37"
      },
      "execution_count": 9,
      "outputs": [
        {
          "output_type": "stream",
          "name": "stdout",
          "text": [
            "CPU times: user 638 ms, sys: 101 ms, total: 740 ms\n",
            "Wall time: 768 ms\n"
          ]
        },
        {
          "output_type": "execute_result",
          "data": {
            "text/plain": [
              "(180040, 30212, 30135)"
            ]
          },
          "metadata": {},
          "execution_count": 9
        }
      ]
    },
    {
      "cell_type": "code",
      "source": [
        "import pandas as pd\n",
        "train_df = pd.DataFrame(train_samples)\n",
        "val_df = pd.DataFrame(val_samples)\n",
        "test_df = pd.DataFrame(test_samples)"
      ],
      "metadata": {
        "id": "__VJ5DOaRm58"
      },
      "execution_count": 10,
      "outputs": []
    },
    {
      "cell_type": "code",
      "source": [
        "len(train_df),len(val_df), len(test_df)"
      ],
      "metadata": {
        "colab": {
          "base_uri": "https://localhost:8080/"
        },
        "id": "Eu3z2PIeVz3k",
        "outputId": "49ccdc88-c7ff-4fe1-e54b-c1f0b0e2be76"
      },
      "execution_count": 11,
      "outputs": [
        {
          "output_type": "execute_result",
          "data": {
            "text/plain": [
              "(180040, 30212, 30135)"
            ]
          },
          "metadata": {},
          "execution_count": 11
        }
      ]
    },
    {
      "cell_type": "code",
      "source": [
        "train_df.target.value_counts()"
      ],
      "metadata": {
        "colab": {
          "base_uri": "https://localhost:8080/"
        },
        "id": "Gj4QjSA4V_mJ",
        "outputId": "b0fad940-b221-467e-e1f1-7cfa61469852"
      },
      "execution_count": 12,
      "outputs": [
        {
          "output_type": "execute_result",
          "data": {
            "text/plain": [
              "METHODS        59353\n",
              "RESULTS        57953\n",
              "CONCLUSIONS    27168\n",
              "BACKGROUND     21727\n",
              "OBJECTIVE      13839\n",
              "Name: target, dtype: int64"
            ]
          },
          "metadata": {},
          "execution_count": 12
        }
      ]
    },
    {
      "cell_type": "code",
      "source": [
        "train_df.total_lines.plot.hist();"
      ],
      "metadata": {
        "colab": {
          "base_uri": "https://localhost:8080/",
          "height": 431
        },
        "id": "6mq1rAWxWDjH",
        "outputId": "c4231ba8-9f6e-432c-daff-736a49bffa88"
      },
      "execution_count": 13,
      "outputs": [
        {
          "output_type": "display_data",
          "data": {
            "text/plain": [
              "<Figure size 640x480 with 1 Axes>"
            ],
            "image/png": "[encoded data removed]"
          },
          "metadata": {}
        }
      ]
    },
    {
      "cell_type": "code",
      "source": [
        "train_sentences = train_df[\"text\"].tolist()\n",
        "val_sentences = val_df[\"text\"].tolist()\n",
        "test_sentences = test_df[\"text\"].tolist()\n",
        "len(train_sentences),len(val_sentences),len(test_sentences)"
      ],
      "metadata": {
        "colab": {
          "base_uri": "https://localhost:8080/"
        },
        "id": "SCQ48KVvWVA_",
        "outputId": "0012b896-76dc-48ff-e3fa-3d224b98b66d"
      },
      "execution_count": 14,
      "outputs": [
        {
          "output_type": "execute_result",
          "data": {
            "text/plain": [
              "(180040, 30212, 30135)"
            ]
          },
          "metadata": {},
          "execution_count": 14
        }
      ]
    },
    {
      "cell_type": "markdown",
      "source": [
        "### Make numerical labels\n",
        "We're going to create one hot and label encoded labels\n",
        "> We could get away with just making label encoded labels, however, Tensorflow's CategoricalCrossEntropy loss function likes to have one hot encoded labels"
      ],
      "metadata": {
        "id": "hMQB8IE_T5KP"
      }
    },
    {
      "cell_type": "code",
      "source": [],
      "metadata": {
        "id": "6QysElpYVrTF"
      },
      "execution_count": 14,
      "outputs": []
    },
    {
      "cell_type": "code",
      "source": [
        "# One hot encoded labels\n",
        "from sklearn.preprocessing import OneHotEncoder\n",
        "one_hot_encoder = OneHotEncoder(sparse=False)\n",
        "train_labels_one_hot = one_hot_encoder.fit_transform(train_df[\"target\"].to_numpy().reshape(-1, 1))\n",
        "val_labels_one_hot = one_hot_encoder.fit_transform(val_df[\"target\"].to_numpy().reshape(-1,1))\n",
        "test_labels_one_hot = one_hot_encoder.fit_transform(test_df[\"target\"].to_numpy().reshape(-1,1))\n"
      ],
      "metadata": {
        "colab": {
          "base_uri": "https://localhost:8080/"
        },
        "id": "6U4wepHBW6vd",
        "outputId": "07fdd469-263b-4c20-8cce-8a600d49da32"
      },
      "execution_count": 15,
      "outputs": [
        {
          "output_type": "stream",
          "name": "stderr",
          "text": [
            "/usr/local/lib/python3.10/dist-packages/sklearn/preprocessing/_encoders.py:868: FutureWarning: `sparse` was renamed to `sparse_output` in version 1.2 and will be removed in 1.4. `sparse_output` is ignored unless you leave `sparse` to its default value.\n",
            "  warnings.warn(\n",
            "/usr/local/lib/python3.10/dist-packages/sklearn/preprocessing/_encoders.py:868: FutureWarning: `sparse` was renamed to `sparse_output` in version 1.2 and will be removed in 1.4. `sparse_output` is ignored unless you leave `sparse` to its default value.\n",
            "  warnings.warn(\n",
            "/usr/local/lib/python3.10/dist-packages/sklearn/preprocessing/_encoders.py:868: FutureWarning: `sparse` was renamed to `sparse_output` in version 1.2 and will be removed in 1.4. `sparse_output` is ignored unless you leave `sparse` to its default value.\n",
            "  warnings.warn(\n"
          ]
        }
      ]
    },
    {
      "cell_type": "code",
      "source": [
        "train_labels_one_hot"
      ],
      "metadata": {
        "colab": {
          "base_uri": "https://localhost:8080/"
        },
        "id": "v7r9N-OFXf_n",
        "outputId": "9d70ec76-6376-4310-c67b-5d0988fe3fb0"
      },
      "execution_count": 16,
      "outputs": [
        {
          "output_type": "execute_result",
          "data": {
            "text/plain": [
              "array([[0., 0., 0., 1., 0.],\n",
              "       [0., 0., 1., 0., 0.],\n",
              "       [0., 0., 1., 0., 0.],\n",
              "       ...,\n",
              "       [0., 0., 0., 0., 1.],\n",
              "       [0., 1., 0., 0., 0.],\n",
              "       [0., 1., 0., 0., 0.]])"
            ]
          },
          "metadata": {},
          "execution_count": 16
        }
      ]
    },
    {
      "cell_type": "code",
      "source": [
        "## Extract labels ( targets ) and encode them into integers\n",
        "from sklearn.preprocessing import LabelEncoder\n",
        "label_encoder = LabelEncoder()\n",
        "train_labels_encoded = label_encoder.fit_transform(train_df[\"target\"].to_numpy())\n",
        "val_labels_encoded = label_encoder.fit_transform(val_df[\"target\"].to_numpy())\n",
        "test_labels_encoded = label_encoder.fit_transform(test_df[\"target\"].to_numpy())"
      ],
      "metadata": {
        "id": "JL7yV6drW8Vg"
      },
      "execution_count": 17,
      "outputs": []
    },
    {
      "cell_type": "code",
      "source": [
        "train_labels_encoded"
      ],
      "metadata": {
        "colab": {
          "base_uri": "https://localhost:8080/"
        },
        "id": "0cfc5L9dXTM8",
        "outputId": "3a2c0adc-b33e-442d-ae07-5adbb54880bb"
      },
      "execution_count": 18,
      "outputs": [
        {
          "output_type": "execute_result",
          "data": {
            "text/plain": [
              "array([3, 2, 2, ..., 4, 1, 1])"
            ]
          },
          "metadata": {},
          "execution_count": 18
        }
      ]
    },
    {
      "cell_type": "code",
      "source": [
        "num_classes = len(label_encoder.classes_)\n",
        "classes = label_encoder.classes_\n",
        "num_classes,classes"
      ],
      "metadata": {
        "colab": {
          "base_uri": "https://localhost:8080/"
        },
        "id": "28VUWUZLYE9t",
        "outputId": "2cd3bbb4-2521-43f3-b749-477766975385"
      },
      "execution_count": 19,
      "outputs": [
        {
          "output_type": "execute_result",
          "data": {
            "text/plain": [
              "(5,\n",
              " array(['BACKGROUND', 'CONCLUSIONS', 'METHODS', 'OBJECTIVE', 'RESULTS'],\n",
              "       dtype=object))"
            ]
          },
          "metadata": {},
          "execution_count": 19
        }
      ]
    },
    {
      "cell_type": "markdown",
      "source": [
        "## Model 0: Getting a baseline\n",
        "Our first model will be a Tf-Idf Multinomial Naive Bayes as recommended by [Scikit-Learn's Machine Learning map](https://dev.mrdbourke.com/tensorflow-deep-learning/09_SkimLit_nlp_milestone_project_2/#model-0-getting-a-baseline)\n",
        "\n",
        "To build it we will use Scikit-Learn's `pipeline` which use `TfidfVectorizer` class to convert our abstract sentences into numbers using TF-IDF (term frequency- inverse document frequency) algorithm and then learn's to classify the sentence using `MultinomialNB` algorithm"
      ],
      "metadata": {
        "id": "q1U29qV1yCmz"
      }
    },
    {
      "cell_type": "code",
      "source": [
        "from sklearn.feature_extraction.text import TfidfVectorizer\n",
        "from sklearn.naive_bayes import MultinomialNB\n",
        "from sklearn.pipeline import Pipeline\n",
        "\n",
        "# Create a pipeline\n",
        "model_0 = Pipeline([\n",
        "    (\"tf-idf\",TfidfVectorizer())\n",
        "    ,(\"clf\",MultinomialNB())\n",
        "])\n",
        "\n",
        "model_0.fit(X=train_sentences,\n",
        "            y=train_labels_encoded)"
      ],
      "metadata": {
        "id": "SHYXJTmhYSwT",
        "colab": {
          "base_uri": "https://localhost:8080/",
          "height": 124
        },
        "outputId": "55f8f756-a624-43aa-9138-5abab2afef09"
      },
      "execution_count": 20,
      "outputs": [
        {
          "output_type": "execute_result",
          "data": {
            "text/plain": [
              "Pipeline(steps=[('tf-idf', TfidfVectorizer()), ('clf', MultinomialNB())])"
            ],
            "text/html": [
              "<style>#sk-container-id-1 {color: black;background-color: white;}#sk-container-id-1 pre{padding: 0;}#sk-container-id-1 div.sk-toggleable {background-color: white;}#sk-container-id-1 label.sk-toggleable__label {cursor: pointer;display: block;width: 100%;margin-bottom: 0;padding: 0.3em;box-sizing: border-box;text-align: center;}#sk-container-id-1 label.sk-toggleable__label-arrow:before {content: \"▸\";float: left;margin-right: 0.25em;color: #696969;}#sk-container-id-1 label.sk-toggleable__label-arrow:hover:before {color: black;}#sk-container-id-1 div.sk-estimator:hover label.sk-toggleable__label-arrow:before {color: black;}#sk-container-id-1 div.sk-toggleable__content {max-height: 0;max-width: 0;overflow: hidden;text-align: left;background-color: #f0f8ff;}#sk-container-id-1 div.sk-toggleable__content pre {margin: 0.2em;color: black;border-radius: 0.25em;background-color: #f0f8ff;}#sk-container-id-1 input.sk-toggleable__control:checked~div.sk-toggleable__content {max-height: 200px;max-width: 100%;overflow: auto;}#sk-container-id-1 input.sk-toggleable__control:checked~label.sk-toggleable__label-arrow:before {content: \"▾\";}#sk-container-id-1 div.sk-estimator input.sk-toggleable__control:checked~label.sk-toggleable__label {background-color: #d4ebff;}#sk-container-id-1 div.sk-label input.sk-toggleable__control:checked~label.sk-toggleable__label {background-color: #d4ebff;}#sk-container-id-1 input.sk-hidden--visually {border: 0;clip: rect(1px 1px 1px 1px);clip: rect(1px, 1px, 1px, 1px);height: 1px;margin: -1px;overflow: hidden;padding: 0;position: absolute;width: 1px;}#sk-container-id-1 div.sk-estimator {font-family: monospace;background-color: #f0f8ff;border: 1px dotted black;border-radius: 0.25em;box-sizing: border-box;margin-bottom: 0.5em;}#sk-container-id-1 div.sk-estimator:hover {background-color: #d4ebff;}#sk-container-id-1 div.sk-parallel-item::after {content: \"\";width: 100%;border-bottom: 1px solid gray;flex-grow: 1;}#sk-container-id-1 div.sk-label:hover label.sk-toggleable__label {background-color: #d4ebff;}#sk-container-id-1 div.sk-serial::before {content: \"\";position: absolute;border-left: 1px solid gray;box-sizing: border-box;top: 0;bottom: 0;left: 50%;z-index: 0;}#sk-container-id-1 div.sk-serial {display: flex;flex-direction: column;align-items: center;background-color: white;padding-right: 0.2em;padding-left: 0.2em;position: relative;}#sk-container-id-1 div.sk-item {position: relative;z-index: 1;}#sk-container-id-1 div.sk-parallel {display: flex;align-items: stretch;justify-content: center;background-color: white;position: relative;}#sk-container-id-1 div.sk-item::before, #sk-container-id-1 div.sk-parallel-item::before {content: \"\";position: absolute;border-left: 1px solid gray;box-sizing: border-box;top: 0;bottom: 0;left: 50%;z-index: -1;}#sk-container-id-1 div.sk-parallel-item {display: flex;flex-direction: column;z-index: 1;position: relative;background-color: white;}#sk-container-id-1 div.sk-parallel-item:first-child::after {align-self: flex-end;width: 50%;}#sk-container-id-1 div.sk-parallel-item:last-child::after {align-self: flex-start;width: 50%;}#sk-container-id-1 div.sk-parallel-item:only-child::after {width: 0;}#sk-container-id-1 div.sk-dashed-wrapped {border: 1px dashed gray;margin: 0 0.4em 0.5em 0.4em;box-sizing: border-box;padding-bottom: 0.4em;background-color: white;}#sk-container-id-1 div.sk-label label {font-family: monospace;font-weight: bold;display: inline-block;line-height: 1.2em;}#sk-container-id-1 div.sk-label-container {text-align: center;}#sk-container-id-1 div.sk-container {/* jupyter's `normalize.less` sets `[hidden] { display: none; }` but bootstrap.min.css set `[hidden] { display: none !important; }` so we also need the `!important` here to be able to override the default hidden behavior on the sphinx rendered scikit-learn.org. See: https://github.com/scikit-learn/scikit-learn/issues/21755 */display: inline-block !important;position: relative;}#sk-container-id-1 div.sk-text-repr-fallback {display: none;}</style><div id=\"sk-container-id-1\" class=\"sk-top-container\"><div class=\"sk-text-repr-fallback\"><pre>Pipeline(steps=[(&#x27;tf-idf&#x27;, TfidfVectorizer()), (&#x27;clf&#x27;, MultinomialNB())])</pre><b>In a Jupyter environment, please rerun this cell to show the HTML representation or trust the notebook. <br />On GitHub, the HTML representation is unable to render, please try loading this page with nbviewer.org.</b></div><div class=\"sk-container\" hidden><div class=\"sk-item sk-dashed-wrapped\"><div class=\"sk-label-container\"><div class=\"sk-label sk-toggleable\"><input class=\"sk-toggleable__control sk-hidden--visually\" id=\"sk-estimator-id-1\" type=\"checkbox\" ><label for=\"sk-estimator-id-1\" class=\"sk-toggleable__label sk-toggleable__label-arrow\">Pipeline</label><div class=\"sk-toggleable__content\"><pre>Pipeline(steps=[(&#x27;tf-idf&#x27;, TfidfVectorizer()), (&#x27;clf&#x27;, MultinomialNB())])</pre></div></div></div><div class=\"sk-serial\"><div class=\"sk-item\"><div class=\"sk-estimator sk-toggleable\"><input class=\"sk-toggleable__control sk-hidden--visually\" id=\"sk-estimator-id-2\" type=\"checkbox\" ><label for=\"sk-estimator-id-2\" class=\"sk-toggleable__label sk-toggleable__label-arrow\">TfidfVectorizer</label><div class=\"sk-toggleable__content\"><pre>TfidfVectorizer()</pre></div></div></div><div class=\"sk-item\"><div class=\"sk-estimator sk-toggleable\"><input class=\"sk-toggleable__control sk-hidden--visually\" id=\"sk-estimator-id-3\" type=\"checkbox\" ><label for=\"sk-estimator-id-3\" class=\"sk-toggleable__label sk-toggleable__label-arrow\">MultinomialNB</label><div class=\"sk-toggleable__content\"><pre>MultinomialNB()</pre></div></div></div></div></div></div></div>"
            ]
          },
          "metadata": {},
          "execution_count": 20
        }
      ]
    },
    {
      "cell_type": "code",
      "source": [
        "model_0.score(X=val_sentences\n",
        "              ,y=val_labels_encoded)"
      ],
      "metadata": {
        "colab": {
          "base_uri": "https://localhost:8080/"
        },
        "id": "BdxAiv-D0IDB",
        "outputId": "5b0d9e38-141a-4ffe-a1c1-b129c4fc133c"
      },
      "execution_count": 21,
      "outputs": [
        {
          "output_type": "execute_result",
          "data": {
            "text/plain": [
              "0.7218323844829869"
            ]
          },
          "metadata": {},
          "execution_count": 21
        }
      ]
    },
    {
      "cell_type": "code",
      "source": [
        "baseline_preds = model_0.predict(val_sentences)\n",
        "baseline_preds"
      ],
      "metadata": {
        "id": "ZYhMlEtm0M4J",
        "colab": {
          "base_uri": "https://localhost:8080/"
        },
        "outputId": "84981b6d-303e-455b-9d84-4f12a8a6f5d4"
      },
      "execution_count": 22,
      "outputs": [
        {
          "output_type": "execute_result",
          "data": {
            "text/plain": [
              "array([4, 1, 3, ..., 4, 4, 1])"
            ]
          },
          "metadata": {},
          "execution_count": 22
        }
      ]
    },
    {
      "cell_type": "markdown",
      "source": [
        "We need to define a function to calculate the following model metrics\n",
        "1. Accuracy\n",
        "2. Precision\n",
        "3. Recall\n",
        "4. f1-score"
      ],
      "metadata": {
        "id": "v77J1ye67x3S"
      }
    },
    {
      "cell_type": "code",
      "source": [
        "from sklearn.metrics import accuracy_score, precision_recall_fscore_support\n",
        "from typing import Dict\n",
        "def calculate_results(y_true,y_pred)-> Dict:\n",
        "  \"\"\"\n",
        "    Calculate the model evaluation metrics, namely : accuracy, precision, recall, fscore\n",
        "    Args:\n",
        "      y_true(List[Any]): True labels\n",
        "      y_pred(List[Any]): Predicted labels\n",
        "    Returns:\n",
        "      model_results(Dict)\n",
        "  \"\"\"\n",
        "  accuracy = accuracy_score(y_true=y_true,y_pred=y_pred) * 100\n",
        "  # calculate the precision, recall and f1_score using the \"weighted\" average\n",
        "  precision,recall,f1_score,_ = precision_recall_fscore_support(y_true=y_true,y_pred=y_pred,average=\"weighted\")\n",
        "  model_results = {\n",
        "      \"accuracy\":accuracy\n",
        "      ,\"precision\":precision\n",
        "      ,\"recall\":recall\n",
        "      ,\"f1score\":f1_score\n",
        "  }\n",
        "  return model_results\n"
      ],
      "metadata": {
        "id": "7ahgLDKQ7pxs"
      },
      "execution_count": 23,
      "outputs": []
    },
    {
      "cell_type": "code",
      "source": [
        "baseline_results = calculate_results(y_true=val_labels_encoded,y_pred=baseline_preds)\n",
        "baseline_results"
      ],
      "metadata": {
        "colab": {
          "base_uri": "https://localhost:8080/"
        },
        "id": "f2AFBPf_9uuJ",
        "outputId": "514f1250-03e1-4c67-bd11-ac262c9796d3"
      },
      "execution_count": 24,
      "outputs": [
        {
          "output_type": "execute_result",
          "data": {
            "text/plain": [
              "{'accuracy': 72.1832384482987,\n",
              " 'precision': 0.7186466952323352,\n",
              " 'recall': 0.7218323844829869,\n",
              " 'f1score': 0.6989250353450294}"
            ]
          },
          "metadata": {},
          "execution_count": 24
        }
      ]
    },
    {
      "cell_type": "markdown",
      "source": [
        "### Preparing the data from deep sequence models\n",
        "Before we embark on the journey of creating model, we will have to _numericalize_ our data using text vectorizer and embedding layers. Hence, we will have to create our own **text vectorizer** and **embedding layer**"
      ],
      "metadata": {
        "id": "MIbbErnL_Qge"
      }
    },
    {
      "cell_type": "code",
      "source": [
        "# import libraries\n",
        "import numpy as np\n",
        "import tensorflow as tf\n",
        "from tensorflow.keras import layers"
      ],
      "metadata": {
        "id": "tzkzHQSE97M4"
      },
      "execution_count": 25,
      "outputs": []
    },
    {
      "cell_type": "markdown",
      "source": [
        "Since, we will be dealing with text, its a good practice to find out the length of each line to be used for training.\n",
        "> _In general, neural networks works best when the inputs are of the same size. This is important as it will be used to create batches of same size\n",
        "For example, if one sentence is eight words long and another is 29 words long, we want to pad the eight word sentence with zeros so it ends up being the same length as 29 words sentence_."
      ],
      "metadata": {
        "id": "g9bDeUXsAeec"
      }
    },
    {
      "cell_type": "code",
      "source": [
        "#Let's find the average length of sentences in our training set\n",
        "sentence_lengths = [len(sentence.split()) for sentence in train_sentences ]\n",
        "avg_len = sum(sentence_lengths)/len(train_sentences)\n",
        "avg_len"
      ],
      "metadata": {
        "colab": {
          "base_uri": "https://localhost:8080/"
        },
        "id": "sGoHwSPvAdqE",
        "outputId": "8f344266-868c-4cfc-83dd-2c2fd3d25ef1"
      },
      "execution_count": 26,
      "outputs": [
        {
          "output_type": "execute_result",
          "data": {
            "text/plain": [
              "26.338269273494777"
            ]
          },
          "metadata": {},
          "execution_count": 26
        }
      ]
    },
    {
      "cell_type": "code",
      "source": [
        "import matplotlib.pyplot as plt\n",
        "plt.hist(sentence_lengths,bins=7);"
      ],
      "metadata": {
        "colab": {
          "base_uri": "https://localhost:8080/",
          "height": 430
        },
        "id": "QqCNBCdYCBx4",
        "outputId": "0ced3317-7a2a-4051-e5ef-368486b8ff19"
      },
      "execution_count": 27,
      "outputs": [
        {
          "output_type": "display_data",
          "data": {
            "text/plain": [
              "<Figure size 640x480 with 1 Axes>"
            ],
            "image/png": "[encoded data removed]"
          },
          "metadata": {}
        }
      ]
    },
    {
      "cell_type": "code",
      "source": [
        "# How long of a sentence covers 95% of the lengths?\n",
        "output_seq_len = int(np.percentile(sentence_lengths,95))\n",
        "output_seq_len"
      ],
      "metadata": {
        "colab": {
          "base_uri": "https://localhost:8080/"
        },
        "id": "fSLlmw2kDHYj",
        "outputId": "3aaaf271-5a2d-4137-9b04-d797263052a4"
      },
      "execution_count": 28,
      "outputs": [
        {
          "output_type": "execute_result",
          "data": {
            "text/plain": [
              "55"
            ]
          },
          "metadata": {},
          "execution_count": 28
        }
      ]
    },
    {
      "cell_type": "markdown",
      "source": [
        "> **🔑Note**: Good practices to be followed when working with text corpus for a NLP problem\n",
        "1. What is the length of longest text?\n",
        "2. What is the length of smallest text?\n",
        "3. What is the distribution of length of text?\n",
        "4. One-hot encode the target labels\n",
        "5. LabelEncode the target labels\n"
      ],
      "metadata": {
        "id": "GPTEcPxiW1TR"
      }
    },
    {
      "cell_type": "code",
      "source": [
        "# As mentioned in Table.1\n",
        "max_tokens=68000\n",
        "#Create text vectorizer\n",
        "from tensorflow.keras.layers import TextVectorization\n",
        "text_vectorizer = TextVectorization(max_tokens=max_tokens\n",
        "                                 ,output_sequence_length=55) ## 55 since, we saw that 95% percent of lines in abstract are of length 55\n",
        "\n",
        "# adapt text vectorizer to training data\n",
        "\n",
        "text_vectorizer.adapt(train_sentences)\n"
      ],
      "metadata": {
        "id": "0Vt69OyvWAvV"
      },
      "execution_count": 29,
      "outputs": []
    },
    {
      "cell_type": "code",
      "source": [
        "# Test our text vectorizer\n",
        "import random\n",
        "target_sentence = random.choice(train_sentences)\n",
        "print(f\"Text:\\n {target_sentence}\")\n",
        "print(f\"Length of text:\\n {len(target_sentence.split())}\")\n",
        "print(f\"Vectorized Text:\\n {text_vectorizer([target_sentence])}\")"
      ],
      "metadata": {
        "colab": {
          "base_uri": "https://localhost:8080/"
        },
        "id": "yW8HDV_haRjR",
        "outputId": "e8a22861-414f-4d27-b1b6-490db2ce4075"
      },
      "execution_count": 30,
      "outputs": [
        {
          "output_type": "stream",
          "name": "stdout",
          "text": [
            "Text:\n",
            " gilead sciences .\n",
            "Length of text:\n",
            " 3\n",
            "Vectorized Text:\n",
            " [[13288  4687     0     0     0     0     0     0     0     0     0     0\n",
            "      0     0     0     0     0     0     0     0     0     0     0     0\n",
            "      0     0     0     0     0     0     0     0     0     0     0     0\n",
            "      0     0     0     0     0     0     0     0     0     0     0     0\n",
            "      0     0     0     0     0     0     0]]\n"
          ]
        }
      ]
    },
    {
      "cell_type": "code",
      "source": [
        "text_vectorizer.get_config()"
      ],
      "metadata": {
        "colab": {
          "base_uri": "https://localhost:8080/"
        },
        "id": "7olFjbisc7GR",
        "outputId": "3d4a7970-c889-4847-c796-d5a0d8c5a955"
      },
      "execution_count": 31,
      "outputs": [
        {
          "output_type": "execute_result",
          "data": {
            "text/plain": [
              "{'name': 'text_vectorization',\n",
              " 'trainable': True,\n",
              " 'dtype': 'string',\n",
              " 'batch_input_shape': (None,),\n",
              " 'max_tokens': 68000,\n",
              " 'standardize': 'lower_and_strip_punctuation',\n",
              " 'split': 'whitespace',\n",
              " 'ngrams': None,\n",
              " 'output_mode': 'int',\n",
              " 'output_sequence_length': 55,\n",
              " 'pad_to_max_tokens': False,\n",
              " 'sparse': False,\n",
              " 'ragged': False,\n",
              " 'vocabulary': None,\n",
              " 'idf_weights': None,\n",
              " 'encoding': 'utf-8',\n",
              " 'vocabulary_size': 64841}"
            ]
          },
          "metadata": {},
          "execution_count": 31
        }
      ]
    },
    {
      "cell_type": "markdown",
      "source": [
        "### Create custom text embedding\n",
        "Our `text_vectorization` layers maps the words in our text directly to numbers.However, this doesn't capture the context of the sentence or in other words relation between the numbers\n",
        "\n",
        "To create richer numerical representation of our text, we need to use **embedding**\n",
        "\n",
        "As our model learns (by going through many different examples of abstract sentences and their labels), it'll update its embedding to better represent the relationship between tokens (numbers) in our corpus, hence will be able to gain the context of the sentences.\n",
        "\n",
        "We can create trainable embeddings using Tensorflow's `Embedding` layer.\n",
        "\n",
        "Again, here we are concerned about the input and output parameters of our `Embedding` layer.\n",
        "\n",
        "The `input_dim` describes the vocabulary size (68K in our case). And the `output_dim` parameter defines the dimension of the embedding output.\n",
        "\n",
        "Once created, our embedding layer will take the output of `text_vectorization` as input and convert them into feature vector of size `output_dim`"
      ],
      "metadata": {
        "id": "8YfCF-kwhIC0"
      }
    },
    {
      "cell_type": "code",
      "source": [
        "# Create token embedding layer\n",
        "rct_20k_text_vocab = text_vectorizer.get_vocabulary()\n",
        "token_embed = layers.Embedding(input_dim=len(rct_20k_text_vocab)\n",
        "                               ,output_dim=128\n",
        "                               ,mask_zero=True\n",
        "                               ,name=\"model_0_embedding\"\n",
        "                               )\n",
        "\n",
        "print(f\" Sentence before vectorization:{target_sentence}\")\n",
        "vectorized_text = text_vectorizer([target_sentence])\n",
        "print(f\" Sentence after vectorization before embedding: {vectorized_text}\")\n",
        "trainable_embeddings = token_embed(vectorized_text)\n",
        "print(f\" Sentence after  embedding: {trainable_embeddings}\")"
      ],
      "metadata": {
        "colab": {
          "base_uri": "https://localhost:8080/"
        },
        "id": "b_NO8TkYeFus",
        "outputId": "c6ef6029-b032-4caf-a453-872c34430d84"
      },
      "execution_count": 32,
      "outputs": [
        {
          "output_type": "stream",
          "name": "stdout",
          "text": [
            " Sentence before vectorization:gilead sciences .\n",
            " Sentence after vectorization before embedding: [[13288  4687     0     0     0     0     0     0     0     0     0     0\n",
            "      0     0     0     0     0     0     0     0     0     0     0     0\n",
            "      0     0     0     0     0     0     0     0     0     0     0     0\n",
            "      0     0     0     0     0     0     0     0     0     0     0     0\n",
            "      0     0     0     0     0     0     0]]\n",
            " Sentence after  embedding: [[[ 0.0225707   0.01315497  0.02290453 ... -0.00660989 -0.02013282\n",
            "   -0.02901326]\n",
            "  [ 0.04305532 -0.02737774 -0.02696563 ... -0.04063536  0.01337457\n",
            "    0.02795197]\n",
            "  [-0.03964336  0.02545181 -0.0464378  ... -0.02052912 -0.02334999\n",
            "   -0.0222226 ]\n",
            "  ...\n",
            "  [-0.03964336  0.02545181 -0.0464378  ... -0.02052912 -0.02334999\n",
            "   -0.0222226 ]\n",
            "  [-0.03964336  0.02545181 -0.0464378  ... -0.02052912 -0.02334999\n",
            "   -0.0222226 ]\n",
            "  [-0.03964336  0.02545181 -0.0464378  ... -0.02052912 -0.02334999\n",
            "   -0.0222226 ]]]\n"
          ]
        }
      ]
    },
    {
      "cell_type": "code",
      "source": [
        "from datetime import datetime\n",
        "def create_tensorboard_callback(dir_name,experiment_name):\n",
        "  \"\"\"\n",
        "    This function is used as a callback during the training of a model.\n",
        "    This will store the training experiments as we iterate over various strategies of\n",
        "    building / training the model\n",
        "  \"\"\"\n",
        "  log_dir = dir_name + \"/\" + experiment_name + \"/\" + datetime.now().strftime(\"%Y%m%d-%H%M%S\")\n",
        "  return tf.keras.callbacks.TensorBoard(log_dir=log_dir)"
      ],
      "metadata": {
        "id": "I0h_SWIC1k0R"
      },
      "execution_count": 33,
      "outputs": []
    },
    {
      "cell_type": "markdown",
      "source": [
        "## Create Datasets"
      ],
      "metadata": {
        "id": "59gBQhpi5adS"
      }
    },
    {
      "cell_type": "code",
      "source": [
        "len(train_sentences),len(val_sentences)"
      ],
      "metadata": {
        "id": "l-cVVsEs9fuc",
        "outputId": "7df46ee7-304f-46e7-e20a-e56b9ab4c8a6",
        "colab": {
          "base_uri": "https://localhost:8080/"
        }
      },
      "execution_count": 53,
      "outputs": [
        {
          "output_type": "execute_result",
          "data": {
            "text/plain": [
              "(180040, 30212)"
            ]
          },
          "metadata": {},
          "execution_count": 53
        }
      ]
    },
    {
      "cell_type": "code",
      "source": [
        "train_dataset= tf.data.Dataset.from_tensor_slices((train_sentences,train_labels_one_hot))\n",
        "valid_dataset= tf.data.Dataset.from_tensor_slices((val_sentences,val_labels_one_hot))\n",
        "test_dataset= tf.data.Dataset.from_tensor_slices((test_sentences,test_labels_one_hot))\n",
        "train_dataset"
      ],
      "metadata": {
        "id": "n_lEhtW45fvQ",
        "outputId": "8ef62e90-c29d-46fe-e5d5-46e8aefab4c5",
        "colab": {
          "base_uri": "https://localhost:8080/"
        }
      },
      "execution_count": 35,
      "outputs": [
        {
          "output_type": "execute_result",
          "data": {
            "text/plain": [
              "<_TensorSliceDataset element_spec=(TensorSpec(shape=(), dtype=tf.string, name=None), TensorSpec(shape=(5,), dtype=tf.float64, name=None))>"
            ]
          },
          "metadata": {},
          "execution_count": 35
        }
      ]
    },
    {
      "cell_type": "code",
      "source": [
        "train_dataset = train_dataset.batch(32).prefetch(tf.data.AUTOTUNE)\n",
        "val_dataset = valid_dataset.batch(32).prefetch(tf.data.AUTOTUNE)\n",
        "test_dataset = test_dataset.batch(32).prefetch(tf.data.AUTOTUNE)\n",
        "train_dataset"
      ],
      "metadata": {
        "id": "fDW7aoJw6R_9",
        "outputId": "71e6e00d-9aa7-4f57-fda1-339edf6eb665",
        "colab": {
          "base_uri": "https://localhost:8080/"
        }
      },
      "execution_count": 36,
      "outputs": [
        {
          "output_type": "execute_result",
          "data": {
            "text/plain": [
              "<_PrefetchDataset element_spec=(TensorSpec(shape=(None,), dtype=tf.string, name=None), TensorSpec(shape=(None, 5), dtype=tf.float64, name=None))>"
            ]
          },
          "metadata": {},
          "execution_count": 36
        }
      ]
    },
    {
      "cell_type": "markdown",
      "source": [
        "### Model 1: Conv1D with token embeddings\n",
        "All our deep learning models will have a similar structure\n",
        "```\n",
        "Text(input) -> Tokenize -> Embedding -> Layers -> Output (Label Probabilities)\n",
        "```"
      ],
      "metadata": {
        "id": "BBy1-xsbygaH"
      }
    },
    {
      "cell_type": "code",
      "source": [
        "# Create a 1D convolutional model to process sentences\n",
        "inputs= layers.Input(shape=(1,),dtype=tf.string)\n",
        "text_vectors= text_vectorizer(inputs)\n",
        "token_embeddings= token_embed(text_vectors)\n",
        "print(f\"Shape of embedding tokens: {token_embeddings.shape}\")\n",
        "x= layers.Conv1D(64,kernel_size=5,padding=\"same\",activation=\"relu\")(token_embeddings)\n",
        "x= layers.GlobalAveragePooling1D()(x)\n",
        "outputs= layers.Dense(num_classes,activation=\"softmax\")(x)\n",
        "model_1= tf.keras.Model(inputs,outputs,name=\"conv1d\")\n",
        "\n",
        "model_1.compile(loss=tf.keras.losses.categorical_crossentropy\n",
        "                ,optimizer=tf.keras.optimizers.Adam()\n",
        "                ,metrics=[\"accuracy\"]\n",
        "                )\n",
        "\n",
        "model_1.summary()"
      ],
      "metadata": {
        "colab": {
          "base_uri": "https://localhost:8080/"
        },
        "id": "D9PDRJRrl5ct",
        "outputId": "68cc087e-a7b0-4225-8385-3e0bc463efed"
      },
      "execution_count": 49,
      "outputs": [
        {
          "output_type": "stream",
          "name": "stdout",
          "text": [
            "Shape of embedding tokens: (None, 55, 128)\n",
            "Model: \"conv1d\"\n",
            "_________________________________________________________________\n",
            " Layer (type)                Output Shape              Param #   \n",
            "=================================================================\n",
            " input_4 (InputLayer)        [(None, 1)]               0         \n",
            "                                                                 \n",
            " text_vectorization (TextVec  (None, 55)               0         \n",
            " torization)                                                     \n",
            "                                                                 \n",
            " model_0_embedding (Embeddin  (None, 55, 128)          8299648   \n",
            " g)                                                              \n",
            "                                                                 \n",
            " conv1d_3 (Conv1D)           (None, 55, 64)            41024     \n",
            "                                                                 \n",
            " global_average_pooling1d_3   (None, 64)               0         \n",
            " (GlobalAveragePooling1D)                                        \n",
            "                                                                 \n",
            " dense_3 (Dense)             (None, 5)                 325       \n",
            "                                                                 \n",
            "=================================================================\n",
            "Total params: 8,340,997\n",
            "Trainable params: 8,340,997\n",
            "Non-trainable params: 0\n",
            "_________________________________________________________________\n"
          ]
        }
      ]
    },
    {
      "cell_type": "markdown",
      "source": [
        "Before we fit the model, let us create a function to push save our model experiments so that we can visualize it later on a tensorboard"
      ],
      "metadata": {
        "id": "DZyq7psT13nA"
      }
    },
    {
      "cell_type": "code",
      "source": [
        "SAVE_DIR=\"model_log\""
      ],
      "metadata": {
        "id": "QguQfG_L3zCh"
      },
      "execution_count": 46,
      "outputs": []
    },
    {
      "cell_type": "code",
      "source": [
        "history_1 = model_1.fit(train_dataset\n",
        "                        ,steps_per_epoch=int(0.1 * len(train_dataset))\n",
        "                        ,validation_data=val_dataset\n",
        "                        ,validation_steps=int(0.1*len(val_dataset))\n",
        "                        ,epochs=5\n",
        "                        ,callbacks=[create_tensorboard_callback(dir_name=SAVE_DIR,experiment_name=\"model_1_con1D\")]\n",
        "                        )"
      ],
      "metadata": {
        "colab": {
          "base_uri": "https://localhost:8080/"
        },
        "id": "t8zQit4Z3Brb",
        "outputId": "525dc58c-3886-4fdd-9171-2159e6955407"
      },
      "execution_count": 56,
      "outputs": [
        {
          "output_type": "stream",
          "name": "stdout",
          "text": [
            "Epoch 1/5\n",
            "562/562 [==============================] - 4s 7ms/step - loss: 0.3348 - accuracy: 0.8892 - val_loss: 0.6056 - val_accuracy: 0.7975\n",
            "Epoch 2/5\n",
            "562/562 [==============================] - 4s 7ms/step - loss: 0.3811 - accuracy: 0.8722 - val_loss: 0.5994 - val_accuracy: 0.7906\n",
            "Epoch 3/5\n",
            "562/562 [==============================] - 4s 6ms/step - loss: 0.3751 - accuracy: 0.8732 - val_loss: 0.6117 - val_accuracy: 0.7826\n",
            "Epoch 4/5\n",
            "562/562 [==============================] - 4s 7ms/step - loss: 0.3735 - accuracy: 0.8730 - val_loss: 0.6204 - val_accuracy: 0.7866\n",
            "Epoch 5/5\n",
            "562/562 [==============================] - 5s 10ms/step - loss: 0.3842 - accuracy: 0.8710 - val_loss: 0.6079 - val_accuracy: 0.7919\n"
          ]
        }
      ]
    },
    {
      "cell_type": "code",
      "source": [
        "model_1.evaluate(val_dataset)"
      ],
      "metadata": {
        "id": "2G5K1zPbGAOZ",
        "outputId": "243b2573-f253-4cad-ac67-07386ff47bb0",
        "colab": {
          "base_uri": "https://localhost:8080/"
        }
      },
      "execution_count": 57,
      "outputs": [
        {
          "output_type": "stream",
          "name": "stdout",
          "text": [
            "945/945 [==============================] - 6s 6ms/step - loss: 0.6139 - accuracy: 0.7905\n"
          ]
        },
        {
          "output_type": "execute_result",
          "data": {
            "text/plain": [
              "[0.613908588886261, 0.7905467748641968]"
            ]
          },
          "metadata": {},
          "execution_count": 57
        }
      ]
    },
    {
      "cell_type": "code",
      "source": [
        "model_1_pred_probs = model_1.predict(val_dataset)\n",
        "model_1_pred_probs"
      ],
      "metadata": {
        "id": "-Nh9ZzscKIdv",
        "outputId": "5aef5d14-31f7-4b04-f6ac-0a6ce9c6fb70",
        "colab": {
          "base_uri": "https://localhost:8080/"
        }
      },
      "execution_count": 58,
      "outputs": [
        {
          "output_type": "stream",
          "name": "stdout",
          "text": [
            "945/945 [==============================] - 3s 3ms/step\n"
          ]
        },
        {
          "output_type": "execute_result",
          "data": {
            "text/plain": [
              "array([[6.50308192e-01, 1.03300311e-01, 2.78954636e-02, 3.16770673e-02,\n",
              "        1.86818942e-01],\n",
              "       [4.44698811e-01, 3.24537635e-01, 3.78293246e-02, 1.42939821e-01,\n",
              "        4.99944538e-02],\n",
              "       [6.27319217e-02, 5.15101186e-04, 1.83221520e-04, 9.36565578e-01,\n",
              "        4.29708052e-06],\n",
              "       ...,\n",
              "       [3.12207158e-06, 6.66928245e-05, 1.31489139e-03, 7.11696111e-06,\n",
              "        9.98608172e-01],\n",
              "       [1.01191126e-01, 3.57440352e-01, 1.47733673e-01, 2.01272722e-02,\n",
              "        3.73507589e-01],\n",
              "       [1.82238594e-02, 9.73136485e-01, 8.07589106e-03, 3.73565854e-05,\n",
              "        5.26360120e-04]], dtype=float32)"
            ]
          },
          "metadata": {},
          "execution_count": 58
        }
      ]
    },
    {
      "cell_type": "code",
      "source": [
        "model_1_preds = tf.argmax(model_1_pred_probs,axis=1)\n",
        "model_1_preds"
      ],
      "metadata": {
        "id": "R9QJ1bhzKPyl",
        "outputId": "9d18bf09-eb3f-4d9b-a9fb-7137c6e317d4",
        "colab": {
          "base_uri": "https://localhost:8080/"
        }
      },
      "execution_count": 59,
      "outputs": [
        {
          "output_type": "execute_result",
          "data": {
            "text/plain": [
              "<tf.Tensor: shape=(30212,), dtype=int64, numpy=array([0, 0, 3, ..., 4, 4, 1])>"
            ]
          },
          "metadata": {},
          "execution_count": 59
        }
      ]
    },
    {
      "cell_type": "code",
      "source": [
        "model_1_results = calculate_results(y_true=val_labels_encoded\n",
        "                                    ,y_pred=model_1_preds)\n",
        "model_1_results"
      ],
      "metadata": {
        "id": "G0FIANfbKdLC",
        "outputId": "43dcade1-d4ef-413e-9059-4b00e89ed9a5",
        "colab": {
          "base_uri": "https://localhost:8080/"
        }
      },
      "execution_count": 61,
      "outputs": [
        {
          "output_type": "execute_result",
          "data": {
            "text/plain": [
              "{'accuracy': 79.05468025949953,\n",
              " 'precision': 0.7893911188617301,\n",
              " 'recall': 0.7905468025949953,\n",
              " 'f1score': 0.7889346714244675}"
            ]
          },
          "metadata": {},
          "execution_count": 61
        }
      ]
    },
    {
      "cell_type": "markdown",
      "source": [
        "## Model 2: Feature extraction with pretrained token embeddings\n",
        "As we move towards replicating the model architecture in [Neural Networks for Joint Sentence Classification in Medical Paper Abstracts](https://arxiv.org/pdf/1612.05251.pdf), it mentions they have used a [pretrained GLoVe embedding](https://nlp.stanford.edu/projects/glove/) as a way to initialise their token embeddings.\n",
        "\n",
        "For our learning purpose , we will use whatever is available from Tensorflow hub. [GLoVe embedding](https://nlp.stanford.edu/projects/glove/) is not available in Tensorflow hub, hence we will use [pretrained Universal Sentence Embedding from Tensorflow hub](https://tfhub.dev/google/universal-sentence-encoder/4)\n",
        "\n",
        "_This type of model is called **transfer learning**, or more specifically **feature extraction transfer learning**. In other words, taking the patterns a model has learned elsewhere and applying it to our own problem_"
      ],
      "metadata": {
        "id": "YZ2i4cWLNCwq"
      }
    },
    {
      "cell_type": "code",
      "source": [
        "import tensorflow_hub as hub\n",
        "tf_hub_embedding_layer = hub.KerasLayer(\"https://tfhub.dev/google/universal-sentence-encoder/4\"\n",
        "                                        ,trainable=False\n",
        "                                        ,name=\"universal_sentence_encoder\")\n"
      ],
      "metadata": {
        "id": "BBi4ZMDiKubS"
      },
      "execution_count": 63,
      "outputs": []
    },
    {
      "cell_type": "code",
      "source": [
        "random_training_sentence= random.choice(train_sentences)\n",
        "print(f\" Training sample sentence: {random_training_sentence}\")\n",
        "use_embedding_sentence = tf_hub_embedding_layer([random_training_sentence])\n",
        "print(f\" Shape of the embedding vector generated use Universal Sentence Encoder : {use_embedding_sentence.shape}\")\n",
        "print(f\" Sentence embedding :{use_embedding_sentence[0][:30]}\")\n",
        "print(f\" Length of sentence embedding: {len(use_embedding_sentence[0])}\")"
      ],
      "metadata": {
        "id": "f0oB8tEXPtZT",
        "outputId": "bc8076ee-749a-4e2d-9d34-337ac4ebc834",
        "colab": {
          "base_uri": "https://localhost:8080/"
        }
      },
      "execution_count": 65,
      "outputs": [
        {
          "output_type": "stream",
          "name": "stdout",
          "text": [
            " Training sample sentence: the observed burden of disease on hrqol was substantial compared to general us population norms , particularly in patients experiencing mixed episodes .\n",
            " Shape of the embedding vector generated use Universal Sentence Encoder : (1, 512)\n",
            " Sentence embedding :[-0.03586817  0.06236901  0.05411987 -0.01921409  0.04776343 -0.05777011\n",
            " -0.00871227  0.00082124  0.04027747 -0.01534815  0.096218    0.07446761\n",
            " -0.02940534  0.03609757  0.00127322 -0.02022783 -0.09728239 -0.02116657\n",
            " -0.0364463  -0.04369736 -0.05842407 -0.02718638  0.00630635  0.01993157\n",
            "  0.00415252  0.08268427  0.04450927  0.04528374  0.00986655  0.00790043]\n",
            " Length of sentence embedding: 512\n"
          ]
        }
      ]
    },
    {
      "cell_type": "markdown",
      "source": [
        "  Building and fitting an NLP feature extraction model from Tensorflow hub"
      ],
      "metadata": {
        "id": "7ANoI1DSR_Px"
      }
    },
    {
      "cell_type": "code",
      "source": [
        "# Define feature extraction model from Tensorflow hub\n",
        "inputs = layers.Input(shape=[],dtype=tf.string)\n",
        "pretrained_embedding = tf_hub_embedding_layer(inputs)\n",
        "x = layers.Dense(128,activation=\"relu\")(pretrained_embedding)\n",
        "outputs = layers.Dense(num_classes,activation=\"softmax\")(x)\n",
        "model_2 = tf.keras.Model(inputs,outputs,name=\"feature_extraction_model_2\")\n",
        "\n",
        "model_2.compile(loss=tf.keras.losses.categorical_crossentropy\n",
        "                ,optimizer=tf.keras.optimizers.Adam()\n",
        "                ,metrics=[\"accuracy\"]\n",
        "                )\n",
        "\n",
        "model_2.summary()"
      ],
      "metadata": {
        "id": "VveUb9hHRuwQ",
        "outputId": "1b5738f2-3dc0-489d-e316-14fd9637f293",
        "colab": {
          "base_uri": "https://localhost:8080/"
        }
      },
      "execution_count": 66,
      "outputs": [
        {
          "output_type": "stream",
          "name": "stdout",
          "text": [
            "Model: \"feature_extraction_model_2\"\n",
            "_________________________________________________________________\n",
            " Layer (type)                Output Shape              Param #   \n",
            "=================================================================\n",
            " input_5 (InputLayer)        [(None,)]                 0         \n",
            "                                                                 \n",
            " universal_sentence_encoder   (None, 512)              256797824 \n",
            " (KerasLayer)                                                    \n",
            "                                                                 \n",
            " dense_4 (Dense)             (None, 128)               65664     \n",
            "                                                                 \n",
            " dense_5 (Dense)             (None, 5)                 645       \n",
            "                                                                 \n",
            "=================================================================\n",
            "Total params: 256,864,133\n",
            "Trainable params: 66,309\n",
            "Non-trainable params: 256,797,824\n",
            "_________________________________________________________________\n"
          ]
        }
      ]
    },
    {
      "cell_type": "code",
      "source": [
        "history_2 = model_2.fit(train_dataset\n",
        "                        ,steps_per_epoch=(0.1 * len(train_dataset))\n",
        "                        ,validation_data=val_dataset\n",
        "                        ,validation_steps=(0.1 * len(val_dataset))\n",
        "                        ,epochs=5\n",
        "                        ,callbacks=[create_tensorboard_callback(dir_name=SAVE_DIR,experiment_name=\"feature_extractor_model_2\")]\n",
        "                        )"
      ],
      "metadata": {
        "id": "1rkdmcboTZ32",
        "outputId": "72dbe5cf-087d-42a8-c1fc-081cdb67d7cd",
        "colab": {
          "base_uri": "https://localhost:8080/"
        }
      },
      "execution_count": 67,
      "outputs": [
        {
          "output_type": "stream",
          "name": "stdout",
          "text": [
            "Epoch 1/5\n",
            "562/562 [==============================] - 14s 17ms/step - loss: 0.9193 - accuracy: 0.6490 - val_loss: 0.7993 - val_accuracy: 0.6878\n",
            "Epoch 2/5\n",
            "562/562 [==============================] - 9s 17ms/step - loss: 0.7650 - accuracy: 0.7027 - val_loss: 0.7546 - val_accuracy: 0.7046\n",
            "Epoch 3/5\n",
            "562/562 [==============================] - 8s 14ms/step - loss: 0.7477 - accuracy: 0.7123 - val_loss: 0.7385 - val_accuracy: 0.7148\n",
            "Epoch 4/5\n",
            "562/562 [==============================] - 9s 16ms/step - loss: 0.7149 - accuracy: 0.7259 - val_loss: 0.7089 - val_accuracy: 0.7273\n",
            "Epoch 5/5\n",
            "562/562 [==============================] - 9s 16ms/step - loss: 0.7212 - accuracy: 0.7225 - val_loss: 0.6902 - val_accuracy: 0.7296\n"
          ]
        }
      ]
    },
    {
      "cell_type": "code",
      "source": [
        "model_2.evaluate(val_dataset)"
      ],
      "metadata": {
        "id": "nDBYxmaZT-Su",
        "outputId": "20bf1054-ad87-401a-8944-d371a8207eaf",
        "colab": {
          "base_uri": "https://localhost:8080/"
        }
      },
      "execution_count": 68,
      "outputs": [
        {
          "output_type": "stream",
          "name": "stdout",
          "text": [
            "945/945 [==============================] - 20s 22ms/step - loss: 0.6949 - accuracy: 0.7358\n"
          ]
        },
        {
          "output_type": "execute_result",
          "data": {
            "text/plain": [
              "[0.6949051022529602, 0.735833466053009]"
            ]
          },
          "metadata": {},
          "execution_count": 68
        }
      ]
    },
    {
      "cell_type": "code",
      "source": [
        "model_2_pred_probs = model_2.predict(val_dataset)\n",
        "model_2_pred_probs"
      ],
      "metadata": {
        "id": "0O-oQUW7UQaw",
        "outputId": "9e426838-1dc0-479e-dcaf-dba443a1a0ed",
        "colab": {
          "base_uri": "https://localhost:8080/"
        }
      },
      "execution_count": 69,
      "outputs": [
        {
          "output_type": "stream",
          "name": "stdout",
          "text": [
            "945/945 [==============================] - 20s 21ms/step\n"
          ]
        },
        {
          "output_type": "execute_result",
          "data": {
            "text/plain": [
              "array([[6.7330045e-01, 2.1049178e-01, 2.5145605e-03, 1.0646486e-01,\n",
              "        7.2283447e-03],\n",
              "       [4.3928412e-01, 4.6612373e-01, 5.2460879e-03, 8.7222479e-02,\n",
              "        2.1236546e-03],\n",
              "       [3.9072150e-01, 6.6590957e-02, 4.9541760e-02, 4.5547026e-01,\n",
              "        3.7675407e-02],\n",
              "       ...,\n",
              "       [2.0723410e-03, 2.6192572e-03, 8.9816190e-02, 4.8787362e-04,\n",
              "        9.0500432e-01],\n",
              "       [2.6994564e-03, 2.2442846e-02, 4.9094763e-01, 1.0812400e-03,\n",
              "        4.8282886e-01],\n",
              "       [2.2132280e-01, 3.3815470e-01, 3.8499328e-01, 2.8068647e-03,\n",
              "        5.2722234e-02]], dtype=float32)"
            ]
          },
          "metadata": {},
          "execution_count": 69
        }
      ]
    },
    {
      "cell_type": "code",
      "source": [
        "model_2_preds = tf.argmax(model_2_pred_probs,axis=1)\n",
        "model_2_preds"
      ],
      "metadata": {
        "id": "FXoz9AOXUWzG",
        "outputId": "e16623a3-1407-4120-a88f-1baa22dcfe14",
        "colab": {
          "base_uri": "https://localhost:8080/"
        }
      },
      "execution_count": 71,
      "outputs": [
        {
          "output_type": "execute_result",
          "data": {
            "text/plain": [
              "<tf.Tensor: shape=(30212,), dtype=int64, numpy=array([0, 1, 3, ..., 4, 2, 2])>"
            ]
          },
          "metadata": {},
          "execution_count": 71
        }
      ]
    },
    {
      "cell_type": "code",
      "source": [
        "model_2_results = calculate_results(y_true=val_labels_encoded\n",
        "                                    ,y_pred=model_2_preds)\n",
        "model_2_results"
      ],
      "metadata": {
        "id": "fgs_-7PUUdts",
        "outputId": "154dbb9c-bde0-4c56-a786-7d20284554f9",
        "colab": {
          "base_uri": "https://localhost:8080/"
        }
      },
      "execution_count": 72,
      "outputs": [
        {
          "output_type": "execute_result",
          "data": {
            "text/plain": [
              "{'accuracy': 73.5833443664769,\n",
              " 'precision': 0.7331175270942084,\n",
              " 'recall': 0.735833443664769,\n",
              " 'f1score': 0.7302635554790833}"
            ]
          },
          "metadata": {},
          "execution_count": 72
        }
      ]
    },
    {
      "cell_type": "markdown",
      "source": [
        "## Model 3: Conv1D with character embeddings\n",
        "\n",
        " The [Neural Networks for Joint Sentence Classification in Medical Paper Abstracts](https://arxiv.org/pdf/1612.05251.pdf) papers suggests use of a hybrid approach of character and token embeddings.\n",
        "\n",
        " **Character embedding** are generated using sequences split into characters whereas **token embedding** is created on sequences split into tokens"
      ],
      "metadata": {
        "id": "x__H-2iQU-Mw"
      }
    },
    {
      "cell_type": "code",
      "source": [
        "# A function to convert sentences into sequence of characters\n",
        "def split_chars(text):\n",
        "  return \" \".join(list(text))\n",
        "\n",
        "split_chars(random_training_sentence)"
      ],
      "metadata": {
        "id": "jVP30c7YU82v",
        "outputId": "d9ac93ec-91f8-4a30-eb66-3aecb9a067d4",
        "colab": {
          "base_uri": "https://localhost:8080/",
          "height": 90
        }
      },
      "execution_count": 73,
      "outputs": [
        {
          "output_type": "execute_result",
          "data": {
            "text/plain": [
              "'t h e   o b s e r v e d   b u r d e n   o f   d i s e a s e   o n   h r q o l   w a s   s u b s t a n t i a l   c o m p a r e d   t o   g e n e r a l   u s   p o p u l a t i o n   n o r m s   ,   p a r t i c u l a r l y   i n   p a t i e n t s   e x p e r i e n c i n g   m i x e d   e p i s o d e s   .'"
            ],
            "application/vnd.google.colaboratory.intrinsic+json": {
              "type": "string"
            }
          },
          "metadata": {},
          "execution_count": 73
        }
      ]
    },
    {
      "cell_type": "markdown",
      "source": [
        "We will have to create character-level datasets by splitting our sequence dataset into characters"
      ],
      "metadata": {
        "id": "ReSsk2uKWpga"
      }
    },
    {
      "cell_type": "code",
      "source": [
        "train_chars = [split_chars(sentence) for sentence in train_sentences]\n",
        "val_chars = [split_chars(sentence) for sentence in val_sentences]\n",
        "test_chars = [split_chars(sentence) for sentence in test_sentences]"
      ],
      "metadata": {
        "id": "-6Hx7YxTU13h"
      },
      "execution_count": 76,
      "outputs": []
    },
    {
      "cell_type": "code",
      "source": [
        "# Average chars in training dataset\n",
        "char_size = [len(sentence) for sentence in train_sentences]\n",
        "avg = sum(char_size)/len(train_sentences)\n",
        "avg"
      ],
      "metadata": {
        "id": "5NY0nJKIXGsI",
        "outputId": "b858b912-932a-49f9-cc80-9a50cd67a17a",
        "colab": {
          "base_uri": "https://localhost:8080/"
        }
      },
      "execution_count": 78,
      "outputs": [
        {
          "output_type": "execute_result",
          "data": {
            "text/plain": [
              "149.3662574983337"
            ]
          },
          "metadata": {},
          "execution_count": 78
        }
      ]
    },
    {
      "cell_type": "code",
      "source": [
        "# What is the average number of characters that 95% for sentences have in our training dataset\n",
        "output_seq_char_length = int(np.percentile(char_size,95))\n",
        "output_seq_char_length"
      ],
      "metadata": {
        "id": "yF59q1N6X1Np",
        "outputId": "6b9a3a73-4eaa-4710-97d6-8b2b2794024a",
        "colab": {
          "base_uri": "https://localhost:8080/"
        }
      },
      "execution_count": 80,
      "outputs": [
        {
          "output_type": "execute_result",
          "data": {
            "text/plain": [
              "290"
            ]
          },
          "metadata": {},
          "execution_count": 80
        }
      ]
    },
    {
      "cell_type": "markdown",
      "source": [
        "The whole idea of finding out the `output_seq_char_length` is to use the same value for `output_sequence_length` parameter while initializing `TextVectorization`\n",
        "\n",
        "We will have to set `max_token` parameter value to a value such that it includes\n",
        "1. Number of characters in english alphabet.\n",
        "2. Number of digits\n",
        "3. Number of punctuations\n",
        "4. Out Of Vocabulary\n",
        "5. Space character"
      ],
      "metadata": {
        "id": "HnGOl1JcY0Cc"
      }
    },
    {
      "cell_type": "code",
      "source": [
        "import string\n",
        "alphabet = string.ascii_lowercase + string.digits + string.punctuation\n",
        "alphabet"
      ],
      "metadata": {
        "id": "LXdgHWBbYpNY",
        "outputId": "3ae3ce2f-85ee-4f08-af9e-ade75277aeb8",
        "colab": {
          "base_uri": "https://localhost:8080/",
          "height": 36
        }
      },
      "execution_count": 84,
      "outputs": [
        {
          "output_type": "execute_result",
          "data": {
            "text/plain": [
              "'abcdefghijklmnopqrstuvwxyz0123456789!\"#$%&\\'()*+,-./:;<=>?@[\\\\]^_`{|}~'"
            ],
            "application/vnd.google.colaboratory.intrinsic+json": {
              "type": "string"
            }
          },
          "metadata": {},
          "execution_count": 84
        }
      ]
    },
    {
      "cell_type": "code",
      "source": [
        "NUM_CHARS_TOKEN = len(alphabet) +2\n",
        "NUM_CHARS_TOKEN"
      ],
      "metadata": {
        "id": "3iB2EWuLaK_n",
        "outputId": "4d357352-8bd2-48da-8731-45c51db7e5e6",
        "colab": {
          "base_uri": "https://localhost:8080/"
        }
      },
      "execution_count": 85,
      "outputs": [
        {
          "output_type": "execute_result",
          "data": {
            "text/plain": [
              "70"
            ]
          },
          "metadata": {},
          "execution_count": 85
        }
      ]
    },
    {
      "cell_type": "code",
      "source": [],
      "metadata": {
        "id": "bvfic8iQanKX"
      },
      "execution_count": null,
      "outputs": []
    }
  ]
}