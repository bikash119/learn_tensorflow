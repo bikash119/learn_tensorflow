{
  "nbformat": 4,
  "nbformat_minor": 0,
  "metadata": {
    "colab": {
      "provenance": [],
      "authorship_tag": "ABX9TyNyyEH9lID/5NUIqY3XrZPZ",
      "include_colab_link": true
    },
    "kernelspec": {
      "name": "python3",
      "display_name": "Python 3"
    },
    "language_info": {
      "name": "python"
    }
  },
  "cells": [
    {
      "cell_type": "markdown",
      "metadata": {
        "id": "view-in-github",
        "colab_type": "text"
      },
      "source": [
        "<a href=\"https://colab.research.google.com/github/bikash119/learn_tensorflow/blob/main/learn_tf_008.ipynb\" target=\"_parent\"><img src=\"https://colab.research.google.com/assets/colab-badge.svg\" alt=\"Open In Colab\"/></a>"
      ]
    },
    {
      "cell_type": "markdown",
      "source": [
        "# Transfer Learning with Tensorflow\n",
        "**Transfer Learning**: Taking the patterns (also called weights) another model has learned from another problem and using them for our own problem.\n",
        "_Advantages_\n",
        "1. Can leverage the architecture of the model proven to work on similar problem as ours.\n",
        "2. Can leverage the working neural network architecture which has already learned patterns on data similar to our own. This results in achieving great results.\n",
        "\n",
        "### What we will cover\n",
        "1. Introduce **Transfer Learning**\n",
        "2. Using a smaller dataset to experiment faster\n",
        "3. Build a transfer learning feature extraction model using Tensorflow hub.\n",
        "4. Introduce a **TensorBoard** callback to track model training results.\n",
        "5. Compare model results using TensorBoard"
      ],
      "metadata": {
        "id": "becBlCI6FfLr"
      }
    },
    {
      "cell_type": "code",
      "source": [
        "# Add datetime\n",
        "import datetime\n",
        "print(f\" Notebook last run end-to-end: {datetime.datetime.now()}\")"
      ],
      "metadata": {
        "id": "rW8--PBsFqgs",
        "colab": {
          "base_uri": "https://localhost:8080/"
        },
        "outputId": "4e94d110-54e7-4e23-f27c-4b783c5ce5b6"
      },
      "execution_count": 1,
      "outputs": [
        {
          "output_type": "stream",
          "name": "stdout",
          "text": [
            " Notebook last run end-to-end: 2023-07-31 23:08:26.736346\n"
          ]
        }
      ]
    },
    {
      "cell_type": "code",
      "source": [
        "!nvidia-smi"
      ],
      "metadata": {
        "colab": {
          "base_uri": "https://localhost:8080/"
        },
        "id": "yJiyWuiONXj5",
        "outputId": "412d2728-a556-4ae0-96db-9640cef7f514"
      },
      "execution_count": 2,
      "outputs": [
        {
          "output_type": "stream",
          "name": "stdout",
          "text": [
            "/bin/bash: line 1: nvidia-smi: command not found\n"
          ]
        }
      ]
    },
    {
      "cell_type": "markdown",
      "source": [
        "## Transfer learning with Tensorflow hub: Getting great results with 10% data"
      ],
      "metadata": {
        "id": "RVRZ4tXXNsBY"
      }
    },
    {
      "cell_type": "markdown",
      "source": [
        "### Downloading and becoming one with data"
      ],
      "metadata": {
        "id": "MnmBBnSMN7wX"
      }
    },
    {
      "cell_type": "code",
      "source": [
        "# Get data ( 10% label)\n",
        "import zipfile\n",
        "\n",
        "#Download data\n",
        "!wget https://storage.googleapis.com/ztm_tf_course/food_vision/10_food_classes_10_percent.zip\n",
        "\n",
        "# Unzip the downloaded file\n",
        "zip_ref = zipfile.ZipFile(\"/content/10_food_classes_10_percent.zip\",\"r\")\n",
        "zip_ref.extractall()\n",
        "zip_ref.close()"
      ],
      "metadata": {
        "colab": {
          "base_uri": "https://localhost:8080/"
        },
        "id": "4rhIqIvlR8kQ",
        "outputId": "6cb1137c-ea04-4c09-a0a9-be043834e414"
      },
      "execution_count": 3,
      "outputs": [
        {
          "output_type": "stream",
          "name": "stdout",
          "text": [
            "--2023-07-31 23:30:52--  https://storage.googleapis.com/ztm_tf_course/food_vision/10_food_classes_10_percent.zip\n",
            "Resolving storage.googleapis.com (storage.googleapis.com)... 108.177.98.128, 74.125.197.128, 74.125.135.128, ...\n",
            "Connecting to storage.googleapis.com (storage.googleapis.com)|108.177.98.128|:443... connected.\n",
            "HTTP request sent, awaiting response... 200 OK\n",
            "Length: 168546183 (161M) [application/zip]\n",
            "Saving to: ‘10_food_classes_10_percent.zip’\n",
            "\n",
            "10_food_classes_10_ 100%[===================>] 160.74M   157MB/s    in 1.0s    \n",
            "\n",
            "2023-07-31 23:30:54 (157 MB/s) - ‘10_food_classes_10_percent.zip’ saved [168546183/168546183]\n",
            "\n"
          ]
        }
      ]
    },
    {
      "cell_type": "code",
      "source": [
        "!rm -r /content/__MACOSX"
      ],
      "metadata": {
        "id": "lKzq_FvOSkve"
      },
      "execution_count": 4,
      "outputs": []
    },
    {
      "cell_type": "code",
      "source": [
        "# How many images in each folder\n",
        "import os\n",
        "\n",
        "for dirpath,dirname,filenames in os.walk(\"/content/10_food_classes_10_percent\"):\n",
        "  print(f\" There are {len(dirname)} directories and {len(filenames)} images at location :{dirpath}\")"
      ],
      "metadata": {
        "colab": {
          "base_uri": "https://localhost:8080/"
        },
        "id": "C-0mzEfcSpla",
        "outputId": "fd9914e6-363d-4374-a2c0-63372e7cc478"
      },
      "execution_count": 8,
      "outputs": [
        {
          "output_type": "stream",
          "name": "stdout",
          "text": [
            " There are 2 directories and 0 images at location :/content/10_food_classes_10_percent\n",
            " There are 10 directories and 0 images at location :/content/10_food_classes_10_percent/test\n",
            " There are 0 directories and 250 images at location :/content/10_food_classes_10_percent/test/ice_cream\n",
            " There are 0 directories and 250 images at location :/content/10_food_classes_10_percent/test/pizza\n",
            " There are 0 directories and 250 images at location :/content/10_food_classes_10_percent/test/steak\n",
            " There are 0 directories and 250 images at location :/content/10_food_classes_10_percent/test/chicken_wings\n",
            " There are 0 directories and 250 images at location :/content/10_food_classes_10_percent/test/fried_rice\n",
            " There are 0 directories and 250 images at location :/content/10_food_classes_10_percent/test/chicken_curry\n",
            " There are 0 directories and 250 images at location :/content/10_food_classes_10_percent/test/hamburger\n",
            " There are 0 directories and 250 images at location :/content/10_food_classes_10_percent/test/sushi\n",
            " There are 0 directories and 250 images at location :/content/10_food_classes_10_percent/test/grilled_salmon\n",
            " There are 0 directories and 250 images at location :/content/10_food_classes_10_percent/test/ramen\n",
            " There are 10 directories and 0 images at location :/content/10_food_classes_10_percent/train\n",
            " There are 0 directories and 75 images at location :/content/10_food_classes_10_percent/train/ice_cream\n",
            " There are 0 directories and 75 images at location :/content/10_food_classes_10_percent/train/pizza\n",
            " There are 0 directories and 75 images at location :/content/10_food_classes_10_percent/train/steak\n",
            " There are 0 directories and 75 images at location :/content/10_food_classes_10_percent/train/chicken_wings\n",
            " There are 0 directories and 75 images at location :/content/10_food_classes_10_percent/train/fried_rice\n",
            " There are 0 directories and 75 images at location :/content/10_food_classes_10_percent/train/chicken_curry\n",
            " There are 0 directories and 75 images at location :/content/10_food_classes_10_percent/train/hamburger\n",
            " There are 0 directories and 75 images at location :/content/10_food_classes_10_percent/train/sushi\n",
            " There are 0 directories and 75 images at location :/content/10_food_classes_10_percent/train/grilled_salmon\n",
            " There are 0 directories and 75 images at location :/content/10_food_classes_10_percent/train/ramen\n"
          ]
        }
      ]
    },
    {
      "cell_type": "markdown",
      "source": [
        "### Creating Dataloaders (preparing the data)\n"
      ],
      "metadata": {
        "id": "fUz4C6rLSzjW"
      }
    },
    {
      "cell_type": "code",
      "source": [
        "# setup data inputs\n",
        "from tensorflow.keras.preprocessing.image import ImageDataGenerator\n",
        "\n",
        "IMAGE_SHAPE= (224,224)\n",
        "BATCH_SIZE= 32\n",
        "\n",
        "train_dir= \"/content/10_food_classes_10_percent/train\"\n",
        "test_dir= \"/content/10_food_classes_10_percent/test\"\n",
        "\n",
        "train_datagen = ImageDataGenerator(rescale=1/255.)\n",
        "test_datagen = ImageDataGenerator(rescale=1/255.)\n",
        "\n",
        "print(\" Training images.\")\n",
        "train_10_percent_data= train_datagen.flow_from_directory(train_dir\n",
        "                                                         ,target_size=IMAGE_SHAPE\n",
        "                                                         ,batch_size=BATCH_SIZE\n",
        "                                                         ,class_mode=\"categorical\")\n",
        "\n",
        "print(\" Test images\")\n",
        "test_10_percent_data= test_datagen.flow_from_directory(test_dir\n",
        "                                                       ,target_size=IMAGE_SHAPE\n",
        "                                                       ,batch_size=BATCH_SIZE\n",
        "                                                       ,class_mode=\"categorical\")\n"
      ],
      "metadata": {
        "colab": {
          "base_uri": "https://localhost:8080/"
        },
        "id": "KJODUYJSUaYr",
        "outputId": "ffa0b2d4-a17a-4a42-dc51-d2c71ba34060"
      },
      "execution_count": 10,
      "outputs": [
        {
          "output_type": "stream",
          "name": "stdout",
          "text": [
            " Training images.\n",
            "Found 750 images belonging to 10 classes.\n",
            " Test images\n",
            "Found 2500 images belonging to 10 classes.\n"
          ]
        }
      ]
    },
    {
      "cell_type": "markdown",
      "source": [
        "### Setting up the callbacks\n",
        "**[Callbacks](https://www.tensorflow.org/api_docs/python/tf/keras/callbacks)** are extra functionality that can be added to models which can be executed during or after or start of the training.\n",
        "\n",
        "We will see how to use Tensorboard callback to track experiments. The Tensorboard callback can be accessed using `tf.keras.callbacks.Tensorboard()`\n",
        "Its main functionality is saving model's training performance metrics to a specified `log_dir`"
      ],
      "metadata": {
        "id": "GJ-DnpfAV5ur"
      }
    },
    {
      "cell_type": "code",
      "source": [
        "import tensorflow as tf\n",
        "SAVE_DIR=\"model_logs\""
      ],
      "metadata": {
        "id": "wkCZvUEsYSy6"
      },
      "execution_count": 14,
      "outputs": []
    },
    {
      "cell_type": "code",
      "source": [
        "# create tensorboard callback\n",
        "import tensorflow as tf\n",
        "\n",
        "def create_tensorboard_callback(dir_name,experiment_name):\n",
        "  log_dir = dir_name+\"/\"+experiment_name+\"/\"+datetime.datetime.now().strftime(\"%Y%m%d-%H%M%S\")\n",
        "\n",
        "  return tf.keras.callbacks.Tensorboard(log_dir)"
      ],
      "metadata": {
        "id": "5kiz7x1-W8_C"
      },
      "execution_count": 15,
      "outputs": []
    },
    {
      "cell_type": "markdown",
      "source": [
        "## Creating models using [Tensorflow hub](https://www.tensorflow.org/hub)\n",
        "\n",
        "We will use the following models from the hub:\n",
        "1. ResNetV2- 2016 state of the art computer vision model architecture.\n",
        "2. EfficientNet: 2019 state of the art computer vision model architecture."
      ],
      "metadata": {
        "id": "w_Jg_wyfZmEy"
      }
    },
    {
      "cell_type": "markdown",
      "source": [
        "1. **As is, Transfer Learning** is when we take pretrained model as it is and apply it to our task without any changes.\n",
        "  Say, we have problem where we want to classify the image across 1000 different classes of images, we can use this kind of Transfer Learning.Models with `/classification` in their name on Tensorflow hub provide this kind of functionality\n",
        "2. **Feature Extraction Transfer Learning** is when we take underlying patterns of a pretrained model and adjust its output to fit our problem statement.\n",
        "  For example, we have images which can be classified across 10 classes and we pick up a model which has been trained on ImageNet and can classify a image across 1000 classes. In such scenario, we just train few upper layers by changing the original activation layer which resembles the number of classes suitable to our problem. The important part is **only a few top layers become trainable, rest remains frozen**.\n",
        "3. **Fine-tune transfer Learning** is when we take the underlying patterns (also called weights) and adjust to our problem statement. This usually means training **some, many or all** of the layers in the model."
      ],
      "metadata": {
        "id": "IJ0Rq5soc2wy"
      }
    }
  ]
}