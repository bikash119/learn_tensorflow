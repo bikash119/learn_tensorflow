{
  "nbformat": 4,
  "nbformat_minor": 0,
  "metadata": {
    "colab": {
      "provenance": [],
      "authorship_tag": "ABX9TyMDcA5aMC5QQtJmv6fvaJeo",
      "include_colab_link": true
    },
    "kernelspec": {
      "name": "python3",
      "display_name": "Python 3"
    },
    "language_info": {
      "name": "python"
    }
  },
  "cells": [
    {
      "cell_type": "markdown",
      "metadata": {
        "id": "view-in-github",
        "colab_type": "text"
      },
      "source": [
        "<a href=\"https://colab.research.google.com/github/bikash119/learn_tensorflow/blob/main/tf_exam/nlp_tf.ipynb\" target=\"_parent\"><img src=\"https://colab.research.google.com/assets/colab-badge.svg\" alt=\"Open In Colab\"/></a>"
      ]
    },
    {
      "cell_type": "markdown",
      "source": [
        "# Character RNN"
      ],
      "metadata": {
        "id": "fJSRDkd4hY15"
      }
    },
    {
      "cell_type": "markdown",
      "source": [
        "## Creating the Training Dataset"
      ],
      "metadata": {
        "id": "39oxR1Bshp2Y"
      }
    },
    {
      "cell_type": "code",
      "source": [
        "import tensorflow as tf\n",
        "\n",
        "filepath= tf.keras.utils.get_file(\"shakespeare_txt\",\n",
        "                                  origin=\"https://homl.info/shakespeare\")\n",
        "with open(filepath) as fp:\n",
        "  shakespeare_tex= fp.read()"
      ],
      "metadata": {
        "colab": {
          "base_uri": "https://localhost:8080/"
        },
        "id": "vSfY-hdahuXV",
        "outputId": "76d049df-088c-4f9d-c97a-c0d250fe6aaa"
      },
      "execution_count": null,
      "outputs": [
        {
          "output_type": "stream",
          "name": "stdout",
          "text": [
            "Downloading data from https://homl.info/shakespeare\n",
            "1115394/1115394 [==============================] - 0s 0us/step\n"
          ]
        }
      ]
    },
    {
      "cell_type": "code",
      "source": [
        "print(shakespeare_tex[:80])"
      ],
      "metadata": {
        "colab": {
          "base_uri": "https://localhost:8080/"
        },
        "id": "dHaypQ-0iKRc",
        "outputId": "1073ce40-8760-4585-d1a3-c825031e7d8b"
      },
      "execution_count": null,
      "outputs": [
        {
          "output_type": "stream",
          "name": "stdout",
          "text": [
            "First Citizen:\n",
            "Before we proceed any further, hear me speak.\n",
            "\n",
            "All:\n",
            "Speak, speak.\n"
          ]
        }
      ]
    },
    {
      "cell_type": "markdown",
      "source": [
        "## Perform Text Vectorization"
      ],
      "metadata": {
        "id": "VQGtDeVbidUa"
      }
    },
    {
      "cell_type": "code",
      "source": [
        "# Perform character text vectorization\n",
        "text_vec_layer= tf.keras.layers.TextVectorization(split=\"character\",\n",
        "                                                  standardize=\"lower\")\n",
        "text_vec_layer.adapt([shakespeare_tex])"
      ],
      "metadata": {
        "id": "Zo-g_gUiimTf"
      },
      "execution_count": null,
      "outputs": []
    },
    {
      "cell_type": "code",
      "source": [
        "sample_sentence=\" I am here to learn nlp\"\n",
        "print(len(sample_sentence))\n",
        "## Vectorize the sample sentence\n",
        "text_vec_layer([sample_sentence])"
      ],
      "metadata": {
        "colab": {
          "base_uri": "https://localhost:8080/"
        },
        "id": "yua72JxejsLR",
        "outputId": "3fcf0f0a-c5f8-4689-827b-e2c342e4dcc9"
      },
      "execution_count": null,
      "outputs": [
        {
          "output_type": "stream",
          "name": "stdout",
          "text": [
            "23\n"
          ]
        },
        {
          "output_type": "execute_result",
          "data": {
            "text/plain": [
              "<tf.Tensor: shape=(1, 23), dtype=int64, numpy=\n",
              "array([[ 2,  7,  2,  6, 16,  2,  8,  3, 10,  3,  2,  4,  5,  2, 13,  3,\n",
              "         6, 10, 11,  2, 11, 13, 24]])>"
            ]
          },
          "metadata": {},
          "execution_count": 4
        }
      ]
    },
    {
      "cell_type": "code",
      "source": [
        "tokens= text_vec_layer([shakespeare_tex])[0]\n",
        "# Print some text from original text\n",
        "print(f\" Original Text : {shakespeare_tex[:80]} \")\n",
        "# Print the vectorized text\n",
        "print(f\" Vectorized tokens: {tokens[:80]}\")\n",
        "print(len(tokens))"
      ],
      "metadata": {
        "colab": {
          "base_uri": "https://localhost:8080/"
        },
        "id": "_cLpUhChkq77",
        "outputId": "5f66e480-ed7c-4fe7-b07f-b1ae7fa0064d"
      },
      "execution_count": null,
      "outputs": [
        {
          "output_type": "stream",
          "name": "stdout",
          "text": [
            " Original Text : First Citizen:\n",
            "Before we proceed any further, hear me speak.\n",
            "\n",
            "All:\n",
            "Speak, speak. \n",
            " Vectorized tokens: [21  7 10  9  4  2 20  7  4  7 37  3 11 25 12 23  3 21  5 10  3  2 18  3\n",
            "  2 24 10  5 20  3  3 14  2  6 11 17  2 21 15 10  4  8  3 10 19  2  8  3\n",
            "  6 10  2 16  3  2  9 24  3  6 26 28 12 12  6 13 13 25 12  9 24  3  6 26\n",
            " 19  2  9 24  3  6 26 28]\n",
            "1115394\n"
          ]
        }
      ]
    },
    {
      "cell_type": "code",
      "source": [
        "## Unique token characters in vocabulary\n",
        "chars_in_vocab= text_vec_layer.get_vocabulary()\n",
        "top_5_chars= chars_in_vocab[:5]\n",
        "bottom_5_chars= chars_in_vocab[-5:]\n",
        "print(f\" Number of characters in vocab :{text_vec_layer.vocabulary_size()}\")\n",
        "print(f\" top 5 common tokens: {top_5_chars}\")\n",
        "print(f\" bottom 5 common tokens: {bottom_5_chars}\")"
      ],
      "metadata": {
        "colab": {
          "base_uri": "https://localhost:8080/"
        },
        "id": "RDgnTKtVo0bE",
        "outputId": "5ef0d6e1-a1c2-466b-8161-e10f852ce5d9"
      },
      "execution_count": null,
      "outputs": [
        {
          "output_type": "stream",
          "name": "stdout",
          "text": [
            " Number of characters in vocab :41\n",
            " top 5 common tokens: ['', '[UNK]', ' ', 'e', 't']\n",
            " bottom 5 common tokens: ['x', 'z', '3', '&', '$']\n"
          ]
        }
      ]
    },
    {
      "cell_type": "code",
      "source": [
        "#tokens -= 2 # Remove the 0 (pad) and 1(UNK) token\n",
        "n_tokens = text_vec_layer.vocabulary_size() - 2\n",
        "dataset_size= len(tokens)\n",
        "print(f\" dataset size : {len(tokens)}\")"
      ],
      "metadata": {
        "colab": {
          "base_uri": "https://localhost:8080/"
        },
        "id": "OIwIfx36qHDl",
        "outputId": "e88d0a2d-ddd3-4232-a738-e122f47dfc48"
      },
      "execution_count": null,
      "outputs": [
        {
          "output_type": "stream",
          "name": "stdout",
          "text": [
            " dataset size : 1115394\n"
          ]
        }
      ]
    },
    {
      "cell_type": "markdown",
      "source": [
        "## Perpare Dataset"
      ],
      "metadata": {
        "id": "Sv3sRJuT2TSs"
      }
    },
    {
      "cell_type": "code",
      "source": [
        "def to_dataset(sequence, length, shuffle=False, seed=None, batch_size=32):\n",
        "  ds= tf.data.Dataset.from_tensor_slices(sequence)\n",
        "  ds= ds.window(length+1, shift=1, drop_remainder=True)\n",
        "  ds= ds.flat_map(lambda window_ds: window_ds.batch(length+1))\n",
        "  if shuffle:\n",
        "    ds= ds.shuffle(buffer_size=100_000,seed=seed)\n",
        "  ds= ds.batch(batch_size)\n",
        "  return ds.map(lambda window: (window[:, :-1], window[:,1:])).prefetch(1)\n"
      ],
      "metadata": {
        "id": "isjnUF8s2Y7z"
      },
      "execution_count": null,
      "outputs": []
    },
    {
      "cell_type": "code",
      "source": [
        "length= 100\n",
        "tf.random.set_seed(42)\n",
        "train_set= to_dataset(tokens[:100_000],length=length\n",
        "                      , shuffle=True,seed=42)\n",
        "valid_set= to_dataset(tokens[1_000_000:1_060_000],length=length)\n",
        "test_set= to_dataset(tokens[1_600_000:],length=length)"
      ],
      "metadata": {
        "id": "RFnjyqir3ZcP"
      },
      "execution_count": null,
      "outputs": []
    },
    {
      "cell_type": "markdown",
      "source": [
        "## Creating an Embedding using an Embedding Layer"
      ],
      "metadata": {
        "id": "Gi3Rbr790nSC"
      }
    },
    {
      "cell_type": "code",
      "source": [
        "tf.random.set_seed(42)\n",
        "embedding_layer = tf.keras.layers.Embedding(input_dim=n_tokens\n",
        "                                            ,output_dim=16\n",
        "                                            ,input_length=length)\n",
        "embedding_layer"
      ],
      "metadata": {
        "colab": {
          "base_uri": "https://localhost:8080/"
        },
        "id": "1yKSKD8b1MeZ",
        "outputId": "57f3405d-dcfe-44c0-c133-fc80451b0123"
      },
      "execution_count": null,
      "outputs": [
        {
          "output_type": "execute_result",
          "data": {
            "text/plain": [
              "<keras.layers.core.embedding.Embedding at 0x7b6b20345390>"
            ]
          },
          "metadata": {},
          "execution_count": 10
        }
      ]
    },
    {
      "cell_type": "code",
      "source": [
        "sample_sentenc= \" I am here to learn NLP\"\n",
        "print(f\" Sample Sentenc : {sample_sentence}\")\n",
        "tokens_of_sample_sentence= text_vec_layer(sample_sentence)\n",
        "print(f\" length of tokens from TextVectorizer for sample sentence: {len(tokens_of_sample_sentence)}\")\n",
        "embeddings_of_sample_sentence= embedding_layer(tokens_of_sample_sentence)\n",
        "print(f\" Shape of Embeddings from embeding layer for sample sentence: {embeddings_of_sample_sentence.shape}\")\n"
      ],
      "metadata": {
        "colab": {
          "base_uri": "https://localhost:8080/"
        },
        "id": "duhtKwwT4I-e",
        "outputId": "2566b645-b5bb-4d1f-b52c-48806a2e37e1"
      },
      "execution_count": null,
      "outputs": [
        {
          "output_type": "stream",
          "name": "stdout",
          "text": [
            " Sample Sentenc :  I am here to learn nlp\n",
            " length of tokens from TextVectorizer for sample sentence: 23\n",
            " Shape of Embeddings from embeding layer for sample sentence: (23, 16)\n"
          ]
        }
      ]
    },
    {
      "cell_type": "markdown",
      "source": [
        "## Building and Training the Char-RNN model\n"
      ],
      "metadata": {
        "id": "ivQ_Nl1D45gs"
      }
    },
    {
      "cell_type": "code",
      "source": [
        "char_model= tf.keras.Sequential([\n",
        "    embedding_layer\n",
        "    ,tf.keras.layers.GRU(128,return_sequences=True)\n",
        "    ,tf.keras.layers.Dense(n_tokens,activation=\"softmax\")\n",
        "])\n",
        "\n",
        "char_model.compile(loss=tf.keras.losses.sparse_categorical_crossentropy\n",
        "                   ,optimizer=tf.keras.optimizers.Nadam()\n",
        "                   ,metrics=['accuracy'])\n",
        "model_ckpt= tf.keras.callbacks.ModelCheckpoint(\"my_shakespeare_model\"\n",
        "                                               ,monitor=\"val_accuracy\"\n",
        "                                               ,save_best_only=True)\n",
        "history= char_model.fit(train_set\n",
        "                        ,validation_data=valid_set\n",
        "                        ,epochs=1\n",
        "                        ,callbacks=[model_ckpt])"
      ],
      "metadata": {
        "colab": {
          "base_uri": "https://localhost:8080/",
          "height": 1000
        },
        "id": "zxmDvFQn6j3X",
        "outputId": "672504b8-fc74-42b6-d5f8-2a9a69fa6197"
      },
      "execution_count": null,
      "outputs": [
        {
          "output_type": "stream",
          "name": "stdout",
          "text": [
            "\r      1/Unknown - 25s 25s/step - loss: 3.6633 - accuracy: 0.0131"
          ]
        },
        {
          "output_type": "error",
          "ename": "InvalidArgumentError",
          "evalue": "ignored",
          "traceback": [
            "\u001b[0;31m---------------------------------------------------------------------------\u001b[0m",
            "\u001b[0;31mInvalidArgumentError\u001b[0m                      Traceback (most recent call last)",
            "\u001b[0;32m<ipython-input-17-18f8daaa4fc6>\u001b[0m in \u001b[0;36m<cell line: 13>\u001b[0;34m()\u001b[0m\n\u001b[1;32m     11\u001b[0m                                                \u001b[0;34m,\u001b[0m\u001b[0mmonitor\u001b[0m\u001b[0;34m=\u001b[0m\u001b[0;34m\"val_accuracy\"\u001b[0m\u001b[0;34m\u001b[0m\u001b[0;34m\u001b[0m\u001b[0m\n\u001b[1;32m     12\u001b[0m                                                ,save_best_only=True)\n\u001b[0;32m---> 13\u001b[0;31m history= char_model.fit(train_set\n\u001b[0m\u001b[1;32m     14\u001b[0m                         \u001b[0;34m,\u001b[0m\u001b[0mvalidation_data\u001b[0m\u001b[0;34m=\u001b[0m\u001b[0mvalid_set\u001b[0m\u001b[0;34m\u001b[0m\u001b[0;34m\u001b[0m\u001b[0m\n\u001b[1;32m     15\u001b[0m                         \u001b[0;34m,\u001b[0m\u001b[0mepochs\u001b[0m\u001b[0;34m=\u001b[0m\u001b[0;36m1\u001b[0m\u001b[0;34m\u001b[0m\u001b[0;34m\u001b[0m\u001b[0m\n",
            "\u001b[0;32m/usr/local/lib/python3.10/dist-packages/keras/utils/traceback_utils.py\u001b[0m in \u001b[0;36merror_handler\u001b[0;34m(*args, **kwargs)\u001b[0m\n\u001b[1;32m     68\u001b[0m             \u001b[0;31m# To get the full stack trace, call:\u001b[0m\u001b[0;34m\u001b[0m\u001b[0;34m\u001b[0m\u001b[0m\n\u001b[1;32m     69\u001b[0m             \u001b[0;31m# `tf.debugging.disable_traceback_filtering()`\u001b[0m\u001b[0;34m\u001b[0m\u001b[0;34m\u001b[0m\u001b[0m\n\u001b[0;32m---> 70\u001b[0;31m             \u001b[0;32mraise\u001b[0m \u001b[0me\u001b[0m\u001b[0;34m.\u001b[0m\u001b[0mwith_traceback\u001b[0m\u001b[0;34m(\u001b[0m\u001b[0mfiltered_tb\u001b[0m\u001b[0;34m)\u001b[0m \u001b[0;32mfrom\u001b[0m \u001b[0;32mNone\u001b[0m\u001b[0;34m\u001b[0m\u001b[0;34m\u001b[0m\u001b[0m\n\u001b[0m\u001b[1;32m     71\u001b[0m         \u001b[0;32mfinally\u001b[0m\u001b[0;34m:\u001b[0m\u001b[0;34m\u001b[0m\u001b[0;34m\u001b[0m\u001b[0m\n\u001b[1;32m     72\u001b[0m             \u001b[0;32mdel\u001b[0m \u001b[0mfiltered_tb\u001b[0m\u001b[0;34m\u001b[0m\u001b[0;34m\u001b[0m\u001b[0m\n",
            "\u001b[0;32m/usr/local/lib/python3.10/dist-packages/tensorflow/python/eager/execute.py\u001b[0m in \u001b[0;36mquick_execute\u001b[0;34m(op_name, num_outputs, inputs, attrs, ctx, name)\u001b[0m\n\u001b[1;32m     50\u001b[0m   \u001b[0;32mtry\u001b[0m\u001b[0;34m:\u001b[0m\u001b[0;34m\u001b[0m\u001b[0;34m\u001b[0m\u001b[0m\n\u001b[1;32m     51\u001b[0m     \u001b[0mctx\u001b[0m\u001b[0;34m.\u001b[0m\u001b[0mensure_initialized\u001b[0m\u001b[0;34m(\u001b[0m\u001b[0;34m)\u001b[0m\u001b[0;34m\u001b[0m\u001b[0;34m\u001b[0m\u001b[0m\n\u001b[0;32m---> 52\u001b[0;31m     tensors = pywrap_tfe.TFE_Py_Execute(ctx._handle, device_name, op_name,\n\u001b[0m\u001b[1;32m     53\u001b[0m                                         inputs, attrs, num_outputs)\n\u001b[1;32m     54\u001b[0m   \u001b[0;32mexcept\u001b[0m \u001b[0mcore\u001b[0m\u001b[0;34m.\u001b[0m\u001b[0m_NotOkStatusException\u001b[0m \u001b[0;32mas\u001b[0m \u001b[0me\u001b[0m\u001b[0;34m:\u001b[0m\u001b[0;34m\u001b[0m\u001b[0;34m\u001b[0m\u001b[0m\n",
            "\u001b[0;31mInvalidArgumentError\u001b[0m: Graph execution error:\n\nDetected at node 'sequential_2/embedding/embedding_lookup' defined at (most recent call last):\n    File \"/usr/lib/python3.10/runpy.py\", line 196, in _run_module_as_main\n      return _run_code(code, main_globals, None,\n    File \"/usr/lib/python3.10/runpy.py\", line 86, in _run_code\n      exec(code, run_globals)\n    File \"/usr/local/lib/python3.10/dist-packages/ipykernel_launcher.py\", line 16, in <module>\n      app.launch_new_instance()\n    File \"/usr/local/lib/python3.10/dist-packages/traitlets/config/application.py\", line 992, in launch_instance\n      app.start()\n    File \"/usr/local/lib/python3.10/dist-packages/ipykernel/kernelapp.py\", line 619, in start\n      self.io_loop.start()\n    File \"/usr/local/lib/python3.10/dist-packages/tornado/platform/asyncio.py\", line 195, in start\n      self.asyncio_loop.run_forever()\n    File \"/usr/lib/python3.10/asyncio/base_events.py\", line 603, in run_forever\n      self._run_once()\n    File \"/usr/lib/python3.10/asyncio/base_events.py\", line 1909, in _run_once\n      handle._run()\n    File \"/usr/lib/python3.10/asyncio/events.py\", line 80, in _run\n      self._context.run(self._callback, *self._args)\n    File \"/usr/local/lib/python3.10/dist-packages/tornado/ioloop.py\", line 685, in <lambda>\n      lambda f: self._run_callback(functools.partial(callback, future))\n    File \"/usr/local/lib/python3.10/dist-packages/tornado/ioloop.py\", line 738, in _run_callback\n      ret = callback()\n    File \"/usr/local/lib/python3.10/dist-packages/tornado/gen.py\", line 825, in inner\n      self.ctx_run(self.run)\n    File \"/usr/local/lib/python3.10/dist-packages/tornado/gen.py\", line 786, in run\n      yielded = self.gen.send(value)\n    File \"/usr/local/lib/python3.10/dist-packages/ipykernel/kernelbase.py\", line 361, in process_one\n      yield gen.maybe_future(dispatch(*args))\n    File \"/usr/local/lib/python3.10/dist-packages/tornado/gen.py\", line 234, in wrapper\n      yielded = ctx_run(next, result)\n    File \"/usr/local/lib/python3.10/dist-packages/ipykernel/kernelbase.py\", line 261, in dispatch_shell\n      yield gen.maybe_future(handler(stream, idents, msg))\n    File \"/usr/local/lib/python3.10/dist-packages/tornado/gen.py\", line 234, in wrapper\n      yielded = ctx_run(next, result)\n    File \"/usr/local/lib/python3.10/dist-packages/ipykernel/kernelbase.py\", line 539, in execute_request\n      self.do_execute(\n    File \"/usr/local/lib/python3.10/dist-packages/tornado/gen.py\", line 234, in wrapper\n      yielded = ctx_run(next, result)\n    File \"/usr/local/lib/python3.10/dist-packages/ipykernel/ipkernel.py\", line 302, in do_execute\n      res = shell.run_cell(code, store_history=store_history, silent=silent)\n    File \"/usr/local/lib/python3.10/dist-packages/ipykernel/zmqshell.py\", line 539, in run_cell\n      return super(ZMQInteractiveShell, self).run_cell(*args, **kwargs)\n    File \"/usr/local/lib/python3.10/dist-packages/IPython/core/interactiveshell.py\", line 2975, in run_cell\n      result = self._run_cell(\n    File \"/usr/local/lib/python3.10/dist-packages/IPython/core/interactiveshell.py\", line 3030, in _run_cell\n      return runner(coro)\n    File \"/usr/local/lib/python3.10/dist-packages/IPython/core/async_helpers.py\", line 78, in _pseudo_sync_runner\n      coro.send(None)\n    File \"/usr/local/lib/python3.10/dist-packages/IPython/core/interactiveshell.py\", line 3257, in run_cell_async\n      has_raised = await self.run_ast_nodes(code_ast.body, cell_name,\n    File \"/usr/local/lib/python3.10/dist-packages/IPython/core/interactiveshell.py\", line 3473, in run_ast_nodes\n      if (await self.run_code(code, result,  async_=asy)):\n    File \"/usr/local/lib/python3.10/dist-packages/IPython/core/interactiveshell.py\", line 3553, in run_code\n      exec(code_obj, self.user_global_ns, self.user_ns)\n    File \"<ipython-input-17-18f8daaa4fc6>\", line 13, in <cell line: 13>\n      history= char_model.fit(train_set\n    File \"/usr/local/lib/python3.10/dist-packages/keras/utils/traceback_utils.py\", line 65, in error_handler\n      return fn(*args, **kwargs)\n    File \"/usr/local/lib/python3.10/dist-packages/keras/engine/training.py\", line 1685, in fit\n      tmp_logs = self.train_function(iterator)\n    File \"/usr/local/lib/python3.10/dist-packages/keras/engine/training.py\", line 1284, in train_function\n      return step_function(self, iterator)\n    File \"/usr/local/lib/python3.10/dist-packages/keras/engine/training.py\", line 1268, in step_function\n      outputs = model.distribute_strategy.run(run_step, args=(data,))\n    File \"/usr/local/lib/python3.10/dist-packages/keras/engine/training.py\", line 1249, in run_step\n      outputs = model.train_step(data)\n    File \"/usr/local/lib/python3.10/dist-packages/keras/engine/training.py\", line 1050, in train_step\n      y_pred = self(x, training=True)\n    File \"/usr/local/lib/python3.10/dist-packages/keras/utils/traceback_utils.py\", line 65, in error_handler\n      return fn(*args, **kwargs)\n    File \"/usr/local/lib/python3.10/dist-packages/keras/engine/training.py\", line 558, in __call__\n      return super().__call__(*args, **kwargs)\n    File \"/usr/local/lib/python3.10/dist-packages/keras/utils/traceback_utils.py\", line 65, in error_handler\n      return fn(*args, **kwargs)\n    File \"/usr/local/lib/python3.10/dist-packages/keras/engine/base_layer.py\", line 1145, in __call__\n      outputs = call_fn(inputs, *args, **kwargs)\n    File \"/usr/local/lib/python3.10/dist-packages/keras/utils/traceback_utils.py\", line 96, in error_handler\n      return fn(*args, **kwargs)\n    File \"/usr/local/lib/python3.10/dist-packages/keras/engine/sequential.py\", line 412, in call\n      return super().call(inputs, training=training, mask=mask)\n    File \"/usr/local/lib/python3.10/dist-packages/keras/engine/functional.py\", line 512, in call\n      return self._run_internal_graph(inputs, training=training, mask=mask)\n    File \"/usr/local/lib/python3.10/dist-packages/keras/engine/functional.py\", line 669, in _run_internal_graph\n      outputs = node.layer(*args, **kwargs)\n    File \"/usr/local/lib/python3.10/dist-packages/keras/utils/traceback_utils.py\", line 65, in error_handler\n      return fn(*args, **kwargs)\n    File \"/usr/local/lib/python3.10/dist-packages/keras/engine/base_layer.py\", line 1145, in __call__\n      outputs = call_fn(inputs, *args, **kwargs)\n    File \"/usr/local/lib/python3.10/dist-packages/keras/utils/traceback_utils.py\", line 96, in error_handler\n      return fn(*args, **kwargs)\n    File \"/usr/local/lib/python3.10/dist-packages/keras/layers/core/embedding.py\", line 272, in call\n      out = tf.nn.embedding_lookup(self.embeddings, inputs)\nNode: 'sequential_2/embedding/embedding_lookup'\nindices[26,75] = 39 is not in [0, 39)\n\t [[{{node sequential_2/embedding/embedding_lookup}}]] [Op:__inference_train_function_5521]"
          ]
        }
      ]
    },
    {
      "cell_type": "markdown",
      "source": [
        "# Tweet Categorization\n",
        "Text-based Tweets about natural disasters."
      ],
      "metadata": {
        "id": "fr12PiLb6XB8"
      }
    },
    {
      "cell_type": "markdown",
      "source": [
        "## Download and unzip the data"
      ],
      "metadata": {
        "id": "hpN06LnC_uUP"
      }
    },
    {
      "cell_type": "code",
      "source": [
        "!wget \"https://storage.googleapis.com/ztm_tf_course/nlp_getting_started.zip\"\n",
        "import zipfile\n",
        "import os\n",
        "def unzip_data(file, remove_zip_file=True):\n",
        "  \"\"\"\n",
        "  unizp the zipped file and optionally removes the original zipefile\n",
        "  \"\"\"\n",
        "  zipref= zipfile.ZipFile(file)\n",
        "  zipref.extractall()\n",
        "  os.remove(file)\n"
      ],
      "metadata": {
        "colab": {
          "base_uri": "https://localhost:8080/"
        },
        "id": "8QL_32Ov8hlm",
        "outputId": "a1c6978e-424a-4d61-bdcb-8c676a762085"
      },
      "execution_count": null,
      "outputs": [
        {
          "output_type": "stream",
          "name": "stdout",
          "text": [
            "--2023-08-19 11:32:57--  https://storage.googleapis.com/ztm_tf_course/nlp_getting_started.zip\n",
            "Resolving storage.googleapis.com (storage.googleapis.com)... 108.177.96.128, 108.177.119.128, 108.177.126.128, ...\n",
            "Connecting to storage.googleapis.com (storage.googleapis.com)|108.177.96.128|:443... connected.\n",
            "HTTP request sent, awaiting response... 200 OK\n",
            "Length: 607343 (593K) [application/zip]\n",
            "Saving to: ‘nlp_getting_started.zip’\n",
            "\n",
            "nlp_getting_started 100%[===================>] 593.11K  1.27MB/s    in 0.5s    \n",
            "\n",
            "2023-08-19 11:32:58 (1.27 MB/s) - ‘nlp_getting_started.zip’ saved [607343/607343]\n",
            "\n"
          ]
        }
      ]
    },
    {
      "cell_type": "code",
      "source": [
        "unzip_data(\"/content/nlp_getting_started.zip\")"
      ],
      "metadata": {
        "id": "NNmlqoym9fqF"
      },
      "execution_count": null,
      "outputs": []
    },
    {
      "cell_type": "markdown",
      "source": [
        "## Load the data as pandas dataframe"
      ],
      "metadata": {
        "id": "4oH_m4Uj9lLj"
      }
    },
    {
      "cell_type": "code",
      "source": [
        "import pandas as pd\n",
        "\n",
        "train_df= pd.read_csv(\"/content/train.csv\")\n",
        "train_df.head()"
      ],
      "metadata": {
        "colab": {
          "base_uri": "https://localhost:8080/",
          "height": 608
        },
        "id": "UQ7-hIcZ_3Ex",
        "outputId": "66a2ccf9-d1a1-4e41-b2a1-0fc6e7008a28"
      },
      "execution_count": null,
      "outputs": [
        {
          "output_type": "execute_result",
          "data": {
            "text/plain": [
              "   id keyword location                                               text  \\\n",
              "0   1     NaN      NaN  Our Deeds are the Reason of this #earthquake M...   \n",
              "1   4     NaN      NaN             Forest fire near La Ronge Sask. Canada   \n",
              "2   5     NaN      NaN  All residents asked to 'shelter in place' are ...   \n",
              "3   6     NaN      NaN  13,000 people receive #wildfires evacuation or...   \n",
              "4   7     NaN      NaN  Just got sent this photo from Ruby #Alaska as ...   \n",
              "\n",
              "   target  \n",
              "0       1  \n",
              "1       1  \n",
              "2       1  \n",
              "3       1  \n",
              "4       1  "
            ],
            "text/html": [
              "\n",
              "  <div id=\"df-845379a5-eda9-4c99-8c4a-3abff50013a8\" class=\"colab-df-container\">\n",
              "    <div>\n",
              "<style scoped>\n",
              "    .dataframe tbody tr th:only-of-type {\n",
              "        vertical-align: middle;\n",
              "    }\n",
              "\n",
              "    .dataframe tbody tr th {\n",
              "        vertical-align: top;\n",
              "    }\n",
              "\n",
              "    .dataframe thead th {\n",
              "        text-align: right;\n",
              "    }\n",
              "</style>\n",
              "<table border=\"1\" class=\"dataframe\">\n",
              "  <thead>\n",
              "    <tr style=\"text-align: right;\">\n",
              "      <th></th>\n",
              "      <th>id</th>\n",
              "      <th>keyword</th>\n",
              "      <th>location</th>\n",
              "      <th>text</th>\n",
              "      <th>target</th>\n",
              "    </tr>\n",
              "  </thead>\n",
              "  <tbody>\n",
              "    <tr>\n",
              "      <th>0</th>\n",
              "      <td>1</td>\n",
              "      <td>NaN</td>\n",
              "      <td>NaN</td>\n",
              "      <td>Our Deeds are the Reason of this #earthquake M...</td>\n",
              "      <td>1</td>\n",
              "    </tr>\n",
              "    <tr>\n",
              "      <th>1</th>\n",
              "      <td>4</td>\n",
              "      <td>NaN</td>\n",
              "      <td>NaN</td>\n",
              "      <td>Forest fire near La Ronge Sask. Canada</td>\n",
              "      <td>1</td>\n",
              "    </tr>\n",
              "    <tr>\n",
              "      <th>2</th>\n",
              "      <td>5</td>\n",
              "      <td>NaN</td>\n",
              "      <td>NaN</td>\n",
              "      <td>All residents asked to 'shelter in place' are ...</td>\n",
              "      <td>1</td>\n",
              "    </tr>\n",
              "    <tr>\n",
              "      <th>3</th>\n",
              "      <td>6</td>\n",
              "      <td>NaN</td>\n",
              "      <td>NaN</td>\n",
              "      <td>13,000 people receive #wildfires evacuation or...</td>\n",
              "      <td>1</td>\n",
              "    </tr>\n",
              "    <tr>\n",
              "      <th>4</th>\n",
              "      <td>7</td>\n",
              "      <td>NaN</td>\n",
              "      <td>NaN</td>\n",
              "      <td>Just got sent this photo from Ruby #Alaska as ...</td>\n",
              "      <td>1</td>\n",
              "    </tr>\n",
              "  </tbody>\n",
              "</table>\n",
              "</div>\n",
              "    <div class=\"colab-df-buttons\">\n",
              "\n",
              "  <div class=\"colab-df-container\">\n",
              "    <button class=\"colab-df-convert\" onclick=\"convertToInteractive('df-845379a5-eda9-4c99-8c4a-3abff50013a8')\"\n",
              "            title=\"Convert this dataframe to an interactive table.\"\n",
              "            style=\"display:none;\">\n",
              "\n",
              "  <svg xmlns=\"http://www.w3.org/2000/svg\" height=\"24px\" viewBox=\"0 -960 960 960\">\n",
              "    <path d=\"M120-120v-720h720v720H120Zm60-500h600v-160H180v160Zm220 220h160v-160H400v160Zm0 220h160v-160H400v160ZM180-400h160v-160H180v160Zm440 0h160v-160H620v160ZM180-180h160v-160H180v160Zm440 0h160v-160H620v160Z\"/>\n",
              "  </svg>\n",
              "    </button>\n",
              "\n",
              "  <style>\n",
              "    .colab-df-container {\n",
              "      display:flex;\n",
              "      gap: 12px;\n",
              "    }\n",
              "\n",
              "    .colab-df-convert {\n",
              "      background-color: #E8F0FE;\n",
              "      border: none;\n",
              "      border-radius: 50%;\n",
              "      cursor: pointer;\n",
              "      display: none;\n",
              "      fill: #1967D2;\n",
              "      height: 32px;\n",
              "      padding: 0 0 0 0;\n",
              "      width: 32px;\n",
              "    }\n",
              "\n",
              "    .colab-df-convert:hover {\n",
              "      background-color: #E2EBFA;\n",
              "      box-shadow: 0px 1px 2px rgba(60, 64, 67, 0.3), 0px 1px 3px 1px rgba(60, 64, 67, 0.15);\n",
              "      fill: #174EA6;\n",
              "    }\n",
              "\n",
              "    .colab-df-buttons div {\n",
              "      margin-bottom: 4px;\n",
              "    }\n",
              "\n",
              "    [theme=dark] .colab-df-convert {\n",
              "      background-color: #3B4455;\n",
              "      fill: #D2E3FC;\n",
              "    }\n",
              "\n",
              "    [theme=dark] .colab-df-convert:hover {\n",
              "      background-color: #434B5C;\n",
              "      box-shadow: 0px 1px 3px 1px rgba(0, 0, 0, 0.15);\n",
              "      filter: drop-shadow(0px 1px 2px rgba(0, 0, 0, 0.3));\n",
              "      fill: #FFFFFF;\n",
              "    }\n",
              "  </style>\n",
              "\n",
              "    <script>\n",
              "      const buttonEl =\n",
              "        document.querySelector('#df-845379a5-eda9-4c99-8c4a-3abff50013a8 button.colab-df-convert');\n",
              "      buttonEl.style.display =\n",
              "        google.colab.kernel.accessAllowed ? 'block' : 'none';\n",
              "\n",
              "      async function convertToInteractive(key) {\n",
              "        const element = document.querySelector('#df-845379a5-eda9-4c99-8c4a-3abff50013a8');\n",
              "        const dataTable =\n",
              "          await google.colab.kernel.invokeFunction('convertToInteractive',\n",
              "                                                    [key], {});\n",
              "        if (!dataTable) return;\n",
              "\n",
              "        const docLinkHtml = 'Like what you see? Visit the ' +\n",
              "          '<a target=\"_blank\" href=https://colab.research.google.com/notebooks/data_table.ipynb>data table notebook</a>'\n",
              "          + ' to learn more about interactive tables.';\n",
              "        element.innerHTML = '';\n",
              "        dataTable['output_type'] = 'display_data';\n",
              "        await google.colab.output.renderOutput(dataTable, element);\n",
              "        const docLink = document.createElement('div');\n",
              "        docLink.innerHTML = docLinkHtml;\n",
              "        element.appendChild(docLink);\n",
              "      }\n",
              "    </script>\n",
              "  </div>\n",
              "\n",
              "\n",
              "<div id=\"df-be8a2749-1e50-4623-b334-e1720e29e640\">\n",
              "  <button class=\"colab-df-quickchart\" onclick=\"quickchart('df-be8a2749-1e50-4623-b334-e1720e29e640')\"\n",
              "            title=\"Suggest charts.\"\n",
              "            style=\"display:none;\">\n",
              "\n",
              "<svg xmlns=\"http://www.w3.org/2000/svg\" height=\"24px\"viewBox=\"0 0 24 24\"\n",
              "     width=\"24px\">\n",
              "    <g>\n",
              "        <path d=\"M19 3H5c-1.1 0-2 .9-2 2v14c0 1.1.9 2 2 2h14c1.1 0 2-.9 2-2V5c0-1.1-.9-2-2-2zM9 17H7v-7h2v7zm4 0h-2V7h2v10zm4 0h-2v-4h2v4z\"/>\n",
              "    </g>\n",
              "</svg>\n",
              "  </button>\n",
              "\n",
              "<style>\n",
              "  .colab-df-quickchart {\n",
              "    background-color: #E8F0FE;\n",
              "    border: none;\n",
              "    border-radius: 50%;\n",
              "    cursor: pointer;\n",
              "    display: none;\n",
              "    fill: #1967D2;\n",
              "    height: 32px;\n",
              "    padding: 0 0 0 0;\n",
              "    width: 32px;\n",
              "  }\n",
              "\n",
              "  .colab-df-quickchart:hover {\n",
              "    background-color: #E2EBFA;\n",
              "    box-shadow: 0px 1px 2px rgba(60, 64, 67, 0.3), 0px 1px 3px 1px rgba(60, 64, 67, 0.15);\n",
              "    fill: #174EA6;\n",
              "  }\n",
              "\n",
              "  [theme=dark] .colab-df-quickchart {\n",
              "    background-color: #3B4455;\n",
              "    fill: #D2E3FC;\n",
              "  }\n",
              "\n",
              "  [theme=dark] .colab-df-quickchart:hover {\n",
              "    background-color: #434B5C;\n",
              "    box-shadow: 0px 1px 3px 1px rgba(0, 0, 0, 0.15);\n",
              "    filter: drop-shadow(0px 1px 2px rgba(0, 0, 0, 0.3));\n",
              "    fill: #FFFFFF;\n",
              "  }\n",
              "</style>\n",
              "\n",
              "  <script>\n",
              "    async function quickchart(key) {\n",
              "      const charts = await google.colab.kernel.invokeFunction(\n",
              "          'suggestCharts', [key], {});\n",
              "    }\n",
              "    (() => {\n",
              "      let quickchartButtonEl =\n",
              "        document.querySelector('#df-be8a2749-1e50-4623-b334-e1720e29e640 button');\n",
              "      quickchartButtonEl.style.display =\n",
              "        google.colab.kernel.accessAllowed ? 'block' : 'none';\n",
              "    })();\n",
              "  </script>\n",
              "</div>\n",
              "    </div>\n",
              "  </div>\n"
            ]
          },
          "metadata": {},
          "execution_count": 3
        }
      ]
    },
    {
      "cell_type": "markdown",
      "source": [
        "## Split the dataset into train and test"
      ],
      "metadata": {
        "id": "el-HANonACPu"
      }
    },
    {
      "cell_type": "code",
      "source": [
        "from sklearn.model_selection import train_test_split\n",
        "# the ouput tuple is of the format (X_train, X_valid, y_train, y_valid)\n",
        "train_sent, val_sent,train_target,val_target= train_test_split(train_df[\"text\"].to_numpy()\n",
        "                                                           ,train_df[\"target\"].to_numpy()\n",
        "                                                           ,test_size=0.1\n",
        "                                                           ,random_state=42)\n",
        "print(f\"\"\"\n",
        "training feature rows : {len(train_sent)}\n",
        "training target rows : {len(train_target)}\n",
        "validation feature rows: {len(val_target)}\n",
        "validation target rows: {len(val_target)}\n",
        "      \"\"\")"
      ],
      "metadata": {
        "colab": {
          "base_uri": "https://localhost:8080/"
        },
        "id": "usDnWU3iAYfo",
        "outputId": "82c545c7-196f-4158-f6b6-221e2ea26786"
      },
      "execution_count": null,
      "outputs": [
        {
          "output_type": "stream",
          "name": "stdout",
          "text": [
            "\n",
            "training feature rows : 6851\n",
            "training target rows : 6851\n",
            "validation feature rows: 762\n",
            "validation target rows: 762\n",
            "      \n"
          ]
        }
      ]
    },
    {
      "cell_type": "markdown",
      "source": [
        "## Text Vectorization\n",
        "Convert the text to numbers"
      ],
      "metadata": {
        "id": "7TmoLsKSBP5m"
      }
    },
    {
      "cell_type": "code",
      "source": [
        "import tensorflow as tf\n",
        "max_vocab_length = 10000 # max number of words to have in our vocabulary\n",
        "max_length = 15 # max length our sequences will be (e.g. how many words from a Tweet does our model see?)\n",
        "\n",
        "text_vectorizer= tf.keras.layers.TextVectorization(max_tokens=max_vocab_length\n",
        "                                                  ,output_sequence_length=max_length\n",
        "                                                  )\n",
        "text_vectorizer.adapt(train_sent)\n",
        "\n",
        "import random\n",
        "random_sentence= random.choice(train_sent)\n",
        "print(f\" Random Sentence from training set :\\n {random_sentence}\\n\")\n",
        "vectorized_random_sentence= text_vectorizer(random_sentence)\n",
        "print(f\" Vectorized form of random sentence : \\n { vectorized_random_sentence}\")"
      ],
      "metadata": {
        "colab": {
          "base_uri": "https://localhost:8080/"
        },
        "id": "u92H27GFCz1q",
        "outputId": "734d6cdf-0125-453d-b848-a76eb2da26bc"
      },
      "execution_count": null,
      "outputs": [
        {
          "output_type": "stream",
          "name": "stdout",
          "text": [
            " Random Sentence from training set :\n",
            " Rite now man a tlk widout nuh curfew long side Aka cum fi steal di show itz a rubbery di whole a dem fi knw... Sound it *music*\n",
            "\n",
            " Vectorized form of random sentence : \n",
            " [9045   49   96    3 7482 6727    1  365  514  789 1912 3069 5590 4518\n",
            " 1870]\n"
          ]
        }
      ]
    },
    {
      "cell_type": "code",
      "source": [
        "print(f\" Size of the vocabulary : {text_vectorizer.vocabulary_size()}\")"
      ],
      "metadata": {
        "colab": {
          "base_uri": "https://localhost:8080/"
        },
        "id": "MRghQ8MTEym-",
        "outputId": "89866605-109a-4cc2-b111-528ff609fc86"
      },
      "execution_count": null,
      "outputs": [
        {
          "output_type": "stream",
          "name": "stdout",
          "text": [
            " Size of the vocabulary : 10000\n"
          ]
        }
      ]
    },
    {
      "cell_type": "markdown",
      "source": [
        "## Model Metrics function\n",
        "Function to evaluate a model accuracy, f1 ,precision, recall\n"
      ],
      "metadata": {
        "id": "b0M6_XzrQ9cu"
      }
    },
    {
      "cell_type": "code",
      "source": [
        "from sklearn.metrics import accuracy_score, precision_recall_fscore_support\n",
        "def calculate_results(y_true, y_pred):\n",
        "  \"\"\"\n",
        "  Calculates model accuracy, precision, recall and f1 score of a binary classification model.\n",
        "\n",
        "  Args:\n",
        "  -----\n",
        "  y_true = true labels in the form of a 1D array\n",
        "  y_pred = predicted labels in the form of a 1D array\n",
        "\n",
        "  Returns a dictionary of accuracy, precision, recall, f1-score.\n",
        "  \"\"\"\n",
        "  # Calculate model accuracy\n",
        "  model_accuracy = accuracy_score(y_true, y_pred) * 100\n",
        "  # Calculate model precision, recall and f1 score using \"weighted\" average\n",
        "  model_precision, model_recall, model_f1, _ = precision_recall_fscore_support(y_true, y_pred, average=\"weighted\")\n",
        "  model_results = {\"accuracy\": model_accuracy,\n",
        "                  \"precision\": model_precision,\n",
        "                  \"recall\": model_recall,\n",
        "                  \"f1\": model_f1}\n",
        "  return model_results"
      ],
      "metadata": {
        "id": "eqjTvbrIRSfB"
      },
      "execution_count": null,
      "outputs": []
    },
    {
      "cell_type": "markdown",
      "source": [
        "## Modelling a text dataset"
      ],
      "metadata": {
        "id": "avMvnT33HhT5"
      }
    },
    {
      "cell_type": "markdown",
      "source": [
        "### Naive Bayes ( Baseline )"
      ],
      "metadata": {
        "id": "Gp567_H4NMq3"
      }
    },
    {
      "cell_type": "code",
      "source": [
        "# Build the model\n",
        "from sklearn.feature_extraction.text import TfidfVectorizer\n",
        "from sklearn.naive_bayes import MultinomialNB\n",
        "from sklearn.pipeline import Pipeline\n",
        "\n",
        "# Create tokenization and modelling pipeline\n",
        "model_0= Pipeline([\n",
        "    (\"tfidf\",TfidfVectorizer())\n",
        "    ,(\"clf\",MultinomialNB())\n",
        "])\n",
        "\n",
        "# Fit the model\n",
        "model_0.fit(train_sent,train_target)"
      ],
      "metadata": {
        "colab": {
          "base_uri": "https://localhost:8080/",
          "height": 124
        },
        "id": "shQVlw9jNcBh",
        "outputId": "f832cd75-963a-4cc4-80e3-ba65b6a0199b"
      },
      "execution_count": null,
      "outputs": [
        {
          "output_type": "execute_result",
          "data": {
            "text/plain": [
              "Pipeline(steps=[('tfidf', TfidfVectorizer()), ('clf', MultinomialNB())])"
            ],
            "text/html": [
              "<style>#sk-container-id-1 {color: black;background-color: white;}#sk-container-id-1 pre{padding: 0;}#sk-container-id-1 div.sk-toggleable {background-color: white;}#sk-container-id-1 label.sk-toggleable__label {cursor: pointer;display: block;width: 100%;margin-bottom: 0;padding: 0.3em;box-sizing: border-box;text-align: center;}#sk-container-id-1 label.sk-toggleable__label-arrow:before {content: \"▸\";float: left;margin-right: 0.25em;color: #696969;}#sk-container-id-1 label.sk-toggleable__label-arrow:hover:before {color: black;}#sk-container-id-1 div.sk-estimator:hover label.sk-toggleable__label-arrow:before {color: black;}#sk-container-id-1 div.sk-toggleable__content {max-height: 0;max-width: 0;overflow: hidden;text-align: left;background-color: #f0f8ff;}#sk-container-id-1 div.sk-toggleable__content pre {margin: 0.2em;color: black;border-radius: 0.25em;background-color: #f0f8ff;}#sk-container-id-1 input.sk-toggleable__control:checked~div.sk-toggleable__content {max-height: 200px;max-width: 100%;overflow: auto;}#sk-container-id-1 input.sk-toggleable__control:checked~label.sk-toggleable__label-arrow:before {content: \"▾\";}#sk-container-id-1 div.sk-estimator input.sk-toggleable__control:checked~label.sk-toggleable__label {background-color: #d4ebff;}#sk-container-id-1 div.sk-label input.sk-toggleable__control:checked~label.sk-toggleable__label {background-color: #d4ebff;}#sk-container-id-1 input.sk-hidden--visually {border: 0;clip: rect(1px 1px 1px 1px);clip: rect(1px, 1px, 1px, 1px);height: 1px;margin: -1px;overflow: hidden;padding: 0;position: absolute;width: 1px;}#sk-container-id-1 div.sk-estimator {font-family: monospace;background-color: #f0f8ff;border: 1px dotted black;border-radius: 0.25em;box-sizing: border-box;margin-bottom: 0.5em;}#sk-container-id-1 div.sk-estimator:hover {background-color: #d4ebff;}#sk-container-id-1 div.sk-parallel-item::after {content: \"\";width: 100%;border-bottom: 1px solid gray;flex-grow: 1;}#sk-container-id-1 div.sk-label:hover label.sk-toggleable__label {background-color: #d4ebff;}#sk-container-id-1 div.sk-serial::before {content: \"\";position: absolute;border-left: 1px solid gray;box-sizing: border-box;top: 0;bottom: 0;left: 50%;z-index: 0;}#sk-container-id-1 div.sk-serial {display: flex;flex-direction: column;align-items: center;background-color: white;padding-right: 0.2em;padding-left: 0.2em;position: relative;}#sk-container-id-1 div.sk-item {position: relative;z-index: 1;}#sk-container-id-1 div.sk-parallel {display: flex;align-items: stretch;justify-content: center;background-color: white;position: relative;}#sk-container-id-1 div.sk-item::before, #sk-container-id-1 div.sk-parallel-item::before {content: \"\";position: absolute;border-left: 1px solid gray;box-sizing: border-box;top: 0;bottom: 0;left: 50%;z-index: -1;}#sk-container-id-1 div.sk-parallel-item {display: flex;flex-direction: column;z-index: 1;position: relative;background-color: white;}#sk-container-id-1 div.sk-parallel-item:first-child::after {align-self: flex-end;width: 50%;}#sk-container-id-1 div.sk-parallel-item:last-child::after {align-self: flex-start;width: 50%;}#sk-container-id-1 div.sk-parallel-item:only-child::after {width: 0;}#sk-container-id-1 div.sk-dashed-wrapped {border: 1px dashed gray;margin: 0 0.4em 0.5em 0.4em;box-sizing: border-box;padding-bottom: 0.4em;background-color: white;}#sk-container-id-1 div.sk-label label {font-family: monospace;font-weight: bold;display: inline-block;line-height: 1.2em;}#sk-container-id-1 div.sk-label-container {text-align: center;}#sk-container-id-1 div.sk-container {/* jupyter's `normalize.less` sets `[hidden] { display: none; }` but bootstrap.min.css set `[hidden] { display: none !important; }` so we also need the `!important` here to be able to override the default hidden behavior on the sphinx rendered scikit-learn.org. See: https://github.com/scikit-learn/scikit-learn/issues/21755 */display: inline-block !important;position: relative;}#sk-container-id-1 div.sk-text-repr-fallback {display: none;}</style><div id=\"sk-container-id-1\" class=\"sk-top-container\"><div class=\"sk-text-repr-fallback\"><pre>Pipeline(steps=[(&#x27;tfidf&#x27;, TfidfVectorizer()), (&#x27;clf&#x27;, MultinomialNB())])</pre><b>In a Jupyter environment, please rerun this cell to show the HTML representation or trust the notebook. <br />On GitHub, the HTML representation is unable to render, please try loading this page with nbviewer.org.</b></div><div class=\"sk-container\" hidden><div class=\"sk-item sk-dashed-wrapped\"><div class=\"sk-label-container\"><div class=\"sk-label sk-toggleable\"><input class=\"sk-toggleable__control sk-hidden--visually\" id=\"sk-estimator-id-1\" type=\"checkbox\" ><label for=\"sk-estimator-id-1\" class=\"sk-toggleable__label sk-toggleable__label-arrow\">Pipeline</label><div class=\"sk-toggleable__content\"><pre>Pipeline(steps=[(&#x27;tfidf&#x27;, TfidfVectorizer()), (&#x27;clf&#x27;, MultinomialNB())])</pre></div></div></div><div class=\"sk-serial\"><div class=\"sk-item\"><div class=\"sk-estimator sk-toggleable\"><input class=\"sk-toggleable__control sk-hidden--visually\" id=\"sk-estimator-id-2\" type=\"checkbox\" ><label for=\"sk-estimator-id-2\" class=\"sk-toggleable__label sk-toggleable__label-arrow\">TfidfVectorizer</label><div class=\"sk-toggleable__content\"><pre>TfidfVectorizer()</pre></div></div></div><div class=\"sk-item\"><div class=\"sk-estimator sk-toggleable\"><input class=\"sk-toggleable__control sk-hidden--visually\" id=\"sk-estimator-id-3\" type=\"checkbox\" ><label for=\"sk-estimator-id-3\" class=\"sk-toggleable__label sk-toggleable__label-arrow\">MultinomialNB</label><div class=\"sk-toggleable__content\"><pre>MultinomialNB()</pre></div></div></div></div></div></div></div>"
            ]
          },
          "metadata": {},
          "execution_count": 8
        }
      ]
    },
    {
      "cell_type": "code",
      "source": [
        "# Score the model\n",
        "model_0_results= model_0.score(val_sent,val_target)\n",
        "print(f\" Accuracy from baseline model : {model_0_results*100:.3f}%\")"
      ],
      "metadata": {
        "colab": {
          "base_uri": "https://localhost:8080/"
        },
        "id": "edaC_JyWOFUA",
        "outputId": "8890ae88-e8eb-45d5-ed6f-76c54aa366ba"
      },
      "execution_count": null,
      "outputs": [
        {
          "output_type": "stream",
          "name": "stdout",
          "text": [
            " Accuracy from baseline model : 77.822%\n"
          ]
        }
      ]
    },
    {
      "cell_type": "code",
      "source": [
        "# Make predictions\n",
        "model_0_preds= model_0.predict(val_sent)\n",
        "\n",
        "print(f\" Target Labels : {val_target[:10]}\")\n",
        "import numpy as np\n",
        "\n",
        "np.isclose(val_target[:10],model_0_preds[:10])"
      ],
      "metadata": {
        "colab": {
          "base_uri": "https://localhost:8080/"
        },
        "id": "AK917jtuPV64",
        "outputId": "812500aa-72e3-440d-d55a-11159942d757"
      },
      "execution_count": null,
      "outputs": [
        {
          "output_type": "stream",
          "name": "stdout",
          "text": [
            " Target Labels : [1 0 1 0 0 0 1 1 0 1]\n"
          ]
        },
        {
          "output_type": "execute_result",
          "data": {
            "text/plain": [
              "array([False,  True, False,  True,  True,  True, False, False,  True,\n",
              "        True])"
            ]
          },
          "metadata": {},
          "execution_count": 10
        }
      ]
    },
    {
      "cell_type": "code",
      "source": [
        "baseline_results= calculate_results(val_target,model_0_preds)\n",
        "baseline_results"
      ],
      "metadata": {
        "colab": {
          "base_uri": "https://localhost:8080/"
        },
        "id": "e32mDIPfRhcS",
        "outputId": "fc273423-37a8-4b5d-e263-43691ef3feac"
      },
      "execution_count": null,
      "outputs": [
        {
          "output_type": "execute_result",
          "data": {
            "text/plain": [
              "{'accuracy': 77.82152230971128,\n",
              " 'precision': 0.792992256322435,\n",
              " 'recall': 0.7782152230971129,\n",
              " 'f1': 0.7703527809038113}"
            ]
          },
          "metadata": {},
          "execution_count": 84
        }
      ]
    },
    {
      "cell_type": "markdown",
      "source": [
        "### Dense Model (Model 1)\n"
      ],
      "metadata": {
        "id": "aHo_bTA_OhKZ"
      }
    },
    {
      "cell_type": "markdown",
      "source": [
        "####  Sequential API"
      ],
      "metadata": {
        "id": "vw72lRMU5SaD"
      }
    },
    {
      "cell_type": "markdown",
      "source": [
        "##### Embedding Layer\n",
        "This will create learnable embeddings for our text"
      ],
      "metadata": {
        "id": "iwr4yFSyFuHT"
      }
    },
    {
      "cell_type": "code",
      "source": [
        "# input_dim= vocabulary size\n",
        "# output_dim= size of the vectors for each element in vocabulary\n",
        "# input_length= Length of input sequences, when it is constant\n",
        "embedding_layer= tf.keras.layers.Embedding(input_dim=max_vocab_length\n",
        "                                           ,output_dim=128\n",
        "                                           ,input_length=max_length)\n",
        "\n",
        "import random\n",
        "random_sentence= random.choice(train_sent)\n",
        "print(f\" Random Sentence from training set :\\n {random_sentence}\")\n",
        "\n",
        "vectorized_random_sentence= text_vectorizer(random_sentence)\n",
        "print(f\" \\nVectorized form of random sentence : \\n { vectorized_random_sentence}\")\n",
        "\n",
        "embeddings_of_sample_sentence= embedding_layer(vectorized_random_sentence)\n",
        "print(f\" \\nEmbeddings random sentence : \\n { embeddings_of_sample_sentence}\")\n",
        "print(f\" \\n Shape of embeddings : {embeddings_of_sample_sentence.shape}\")"
      ],
      "metadata": {
        "colab": {
          "base_uri": "https://localhost:8080/"
        },
        "id": "ZGE8qwHlGMVN",
        "outputId": "e8dd0fda-1ea0-4df7-f8f5-0707944bb3bd"
      },
      "execution_count": null,
      "outputs": [
        {
          "output_type": "stream",
          "name": "stdout",
          "text": [
            " Random Sentence from training set :\n",
            " Plains All American Pipeline company may have spilled 40% more crude oil than previously estimated #KSBYNews @lilitan http://t.co/PegibIqk2w\n",
            " \n",
            "Vectorized form of random sentence : \n",
            " [2346   37  749 2810 1423  123   24 4540  426   50 5817  226   78 2795\n",
            " 2487]\n",
            " \n",
            "Embeddings random sentence : \n",
            " [[ 1.9179892e-02 -2.6437594e-02  1.0343887e-02 ...  4.4423763e-02\n",
            "  -2.5162911e-02  1.1163663e-02]\n",
            " [-1.8507995e-02  4.0212635e-02 -2.2563184e-02 ...  6.8891793e-05\n",
            "   3.6237244e-02  4.7587562e-02]\n",
            " [ 3.9323892e-02 -1.3888050e-02 -1.6104043e-02 ... -1.6352378e-02\n",
            "   2.3923766e-02 -4.9159683e-02]\n",
            " ...\n",
            " [ 2.3529615e-02  6.4125285e-03 -3.6846757e-02 ...  3.9565396e-02\n",
            "  -2.7941585e-02  1.8282685e-02]\n",
            " [-1.6099893e-02  1.2133300e-02 -2.7028287e-02 ... -1.4334403e-02\n",
            "  -1.2395464e-02 -7.4585080e-03]\n",
            " [ 1.9370172e-02  2.2209410e-02 -2.1248985e-02 ...  2.2221629e-02\n",
            "  -3.0166626e-02 -2.7909542e-02]]\n",
            " \n",
            " Shape of embeddings : (15, 128)\n"
          ]
        }
      ]
    },
    {
      "cell_type": "markdown",
      "source": [
        "##### Build , Train & Evaluate Model"
      ],
      "metadata": {
        "id": "PiW-GMj7FSYb"
      }
    },
    {
      "cell_type": "code",
      "source": [
        "tf.random.set_seed(42)\n",
        "# Build the model using Sequential API\n",
        "import tensorflow as tf\n",
        "from tensorflow.keras import layers\n",
        "model_1_seq= tf.keras.Sequential([\n",
        "    layers.Input(shape=(1,),dtype=\"string\")\n",
        "    ,text_vectorizer\n",
        "    ,embedding_layer\n",
        "    ,layers.GlobalAveragePooling1D()\n",
        "    ,layers.Dense(1,activation=\"sigmoid\")\n",
        "])\n",
        "model_1_seq.compile(loss=tf.keras.losses.binary_crossentropy\n",
        "                    ,optimizer=tf.keras.optimizers.Adam()\n",
        "                    ,metrics=[\"accuracy\"])\n",
        "model_1_seq.summary()"
      ],
      "metadata": {
        "colab": {
          "base_uri": "https://localhost:8080/"
        },
        "id": "ZHQidne5RzEn",
        "outputId": "748da014-070c-4f05-d47b-d58fd481937c"
      },
      "execution_count": null,
      "outputs": [
        {
          "output_type": "stream",
          "name": "stdout",
          "text": [
            "Model: \"sequential\"\n",
            "_________________________________________________________________\n",
            " Layer (type)                Output Shape              Param #   \n",
            "=================================================================\n",
            " text_vectorization (TextVec  (None, 15)               0         \n",
            " torization)                                                     \n",
            "                                                                 \n",
            " embedding (Embedding)       (None, 15, 128)           1280000   \n",
            "                                                                 \n",
            " global_average_pooling1d (G  (None, 128)              0         \n",
            " lobalAveragePooling1D)                                          \n",
            "                                                                 \n",
            " dense (Dense)               (None, 1)                 129       \n",
            "                                                                 \n",
            "=================================================================\n",
            "Total params: 1,280,129\n",
            "Trainable params: 1,280,129\n",
            "Non-trainable params: 0\n",
            "_________________________________________________________________\n"
          ]
        }
      ]
    },
    {
      "cell_type": "code",
      "source": [
        "# Train the model\n",
        "model_1_seq_hist= model_1_seq.fit(train_sent,train_target\n",
        "                                  ,validation_data=(val_sent,val_target)\n",
        "                                  ,epochs=3)"
      ],
      "metadata": {
        "colab": {
          "base_uri": "https://localhost:8080/"
        },
        "id": "HomSrhYETPTg",
        "outputId": "76480d9a-3bf6-4d0c-f11b-2e73b99f9b01"
      },
      "execution_count": null,
      "outputs": [
        {
          "output_type": "stream",
          "name": "stdout",
          "text": [
            "Epoch 1/3\n",
            "215/215 [==============================] - 12s 39ms/step - loss: 0.6118 - accuracy: 0.6922 - val_loss: 0.5416 - val_accuracy: 0.7651\n",
            "Epoch 2/3\n",
            "215/215 [==============================] - 9s 41ms/step - loss: 0.4398 - accuracy: 0.8184 - val_loss: 0.4834 - val_accuracy: 0.7913\n",
            "Epoch 3/3\n",
            "215/215 [==============================] - 5s 24ms/step - loss: 0.3452 - accuracy: 0.8613 - val_loss: 0.4752 - val_accuracy: 0.7913\n"
          ]
        }
      ]
    },
    {
      "cell_type": "code",
      "source": [
        "# Evaluate the model\n",
        "model_1_seq.evaluate(val_sent,val_target)"
      ],
      "metadata": {
        "colab": {
          "base_uri": "https://localhost:8080/"
        },
        "id": "TOcWFhwOBTt3",
        "outputId": "60c72d86-df4e-497c-9e21-51dfd0c5e60a"
      },
      "execution_count": null,
      "outputs": [
        {
          "output_type": "stream",
          "name": "stdout",
          "text": [
            "24/24 [==============================] - 0s 2ms/step - loss: 0.4752 - accuracy: 0.7913\n"
          ]
        },
        {
          "output_type": "execute_result",
          "data": {
            "text/plain": [
              "[0.475195974111557, 0.7913385629653931]"
            ]
          },
          "metadata": {},
          "execution_count": 15
        }
      ]
    },
    {
      "cell_type": "code",
      "source": [
        "# Do Prediction\n",
        "model_1_seq_preds_proba= model_1_seq.predict(val_sent)\n",
        "model_1_seq_preds= tf.squeeze(tf.round(model_1_seq_preds_proba))"
      ],
      "metadata": {
        "colab": {
          "base_uri": "https://localhost:8080/"
        },
        "id": "adlRQcEABtVU",
        "outputId": "b571bedf-0422-453a-fdeb-154c9d894d30"
      },
      "execution_count": null,
      "outputs": [
        {
          "output_type": "stream",
          "name": "stdout",
          "text": [
            "24/24 [==============================] - 0s 2ms/step\n"
          ]
        }
      ]
    },
    {
      "cell_type": "code",
      "source": [
        "model_1_seq_results= calculate_results(y_true=val_target\n",
        "                  ,y_pred=model_1_seq_preds)\n",
        "model_1_seq_results"
      ],
      "metadata": {
        "colab": {
          "base_uri": "https://localhost:8080/"
        },
        "id": "Cl-jz3z1B3Kx",
        "outputId": "3ce0ea35-4c47-4360-b4ed-aa09af6dbe1e"
      },
      "execution_count": null,
      "outputs": [
        {
          "output_type": "execute_result",
          "data": {
            "text/plain": [
              "{'accuracy': 79.13385826771653,\n",
              " 'precision': 0.7940380463147858,\n",
              " 'recall': 0.7913385826771654,\n",
              " 'f1': 0.7883649974287202}"
            ]
          },
          "metadata": {},
          "execution_count": 88
        }
      ]
    },
    {
      "cell_type": "markdown",
      "source": [
        "#### Functional API"
      ],
      "metadata": {
        "id": "HZ6kN23XVxz8"
      }
    },
    {
      "cell_type": "markdown",
      "source": [
        "##### Embedding Layer\n",
        "This will create learnable embeddings for our text"
      ],
      "metadata": {
        "id": "cbGgREVUFdfz"
      }
    },
    {
      "cell_type": "code",
      "source": [
        "# input_dim= vocabulary size\n",
        "# output_dim= size of the vectors for each element in vocabulary\n",
        "# input_length= Length of input sequences, when it is constant\n",
        "embedding_layer= tf.keras.layers.Embedding(input_dim=max_vocab_length\n",
        "                                           ,output_dim=128\n",
        "                                           ,input_length=max_length)\n",
        "\n",
        "import random\n",
        "random_sentence= random.choice(train_sent)\n",
        "print(f\" Random Sentence from training set :\\n {random_sentence}\")\n",
        "\n",
        "vectorized_random_sentence= text_vectorizer(random_sentence)\n",
        "print(f\" \\nVectorized form of random sentence : \\n { vectorized_random_sentence}\")\n",
        "\n",
        "embeddings_of_sample_sentence= embedding_layer(vectorized_random_sentence)\n",
        "print(f\" \\nEmbeddings random sentence : \\n { embeddings_of_sample_sentence}\")\n",
        "print(f\" \\n Shape of embeddings : {embeddings_of_sample_sentence.shape}\")"
      ],
      "metadata": {
        "colab": {
          "base_uri": "https://localhost:8080/"
        },
        "outputId": "d9e3a8ab-8230-4fb5-d5bf-9fbfd7b857da",
        "id": "QoMs9hbWFdf0"
      },
      "execution_count": null,
      "outputs": [
        {
          "output_type": "stream",
          "name": "stdout",
          "text": [
            " Random Sentence from training set :\n",
            " Deal of The Day : http://t.co/US0qQqhQVj Brand New DSERIALPCILP Lava Computer PCI Bus Dual Serial 16550 Board  #eÛ_ http://t.co/l0b14SJ7JB\n",
            " \n",
            "Vectorized form of random sentence : \n",
            " [ 742    6    2  104    1 4065   52    1  548 1882 9898  399 5712 2302\n",
            "    1]\n",
            " \n",
            "Embeddings random sentence : \n",
            " [[ 0.00579425 -0.01881685  0.01084379 ... -0.04425148 -0.01631197\n",
            "  -0.01452919]\n",
            " [-0.0004011   0.01373049  0.01036546 ... -0.00883912  0.04015097\n",
            "  -0.00120687]\n",
            " [-0.04657028  0.04941318  0.02759318 ...  0.00564593  0.03187138\n",
            "   0.00503999]\n",
            " ...\n",
            " [-0.04196518  0.00880944  0.0421267  ...  0.03120511 -0.01370822\n",
            "   0.04760244]\n",
            " [ 0.01991342  0.04102521 -0.04297955 ...  0.02384598  0.03172808\n",
            "  -0.0343469 ]\n",
            " [ 0.04051781 -0.00637474 -0.0339998  ... -0.02229761  0.04571961\n",
            "   0.00788049]]\n",
            " \n",
            " Shape of embeddings : (15, 128)\n"
          ]
        }
      ]
    },
    {
      "cell_type": "markdown",
      "source": [
        "##### Build , Train, Evaluate Model"
      ],
      "metadata": {
        "id": "tvj6ROjyFlJw"
      }
    },
    {
      "cell_type": "code",
      "source": [
        "tf.random.set_seed(42)\n",
        "import tensorflow as tf\n",
        "from tensorflow.keras import layers\n",
        "\n",
        "inputs= layers.Input(shape=(1,), dtype=\"string\")\n",
        "x= text_vectorizer(inputs)\n",
        "x= embedding_layer(x)\n",
        "x= layers.GlobalAveragePooling1D(name=\"globalavgpooling\")(x)\n",
        "outputs= layers.Dense(1,activation=\"sigmoid\",name=\"dense\")(x)\n",
        "model_1_func= tf.keras.Model(inputs=inputs\n",
        "                             ,outputs= outputs\n",
        "                             ,name=\"dense_model_1_func\")\n",
        "\n",
        "model_1_func.compile(loss=tf.keras.losses.binary_crossentropy\n",
        "                     ,optimizer=tf.keras.optimizers.Adam()\n",
        "                     ,metrics=[\"accuracy\"])\n",
        "\n",
        "model_1_func.summary()"
      ],
      "metadata": {
        "colab": {
          "base_uri": "https://localhost:8080/"
        },
        "id": "P_MIeeD35hF5",
        "outputId": "2b1749e7-048b-44cd-98b2-a548de96874d"
      },
      "execution_count": null,
      "outputs": [
        {
          "output_type": "stream",
          "name": "stdout",
          "text": [
            "Model: \"dense_model_1_func\"\n",
            "_________________________________________________________________\n",
            " Layer (type)                Output Shape              Param #   \n",
            "=================================================================\n",
            " input_2 (InputLayer)        [(None, 1)]               0         \n",
            "                                                                 \n",
            " text_vectorization (TextVec  (None, 15)               0         \n",
            " torization)                                                     \n",
            "                                                                 \n",
            " embedding_1 (Embedding)     (None, 15, 128)           1280000   \n",
            "                                                                 \n",
            " globalavgpooling (GlobalAve  (None, 128)              0         \n",
            " ragePooling1D)                                                  \n",
            "                                                                 \n",
            " dense (Dense)               (None, 1)                 129       \n",
            "                                                                 \n",
            "=================================================================\n",
            "Total params: 1,280,129\n",
            "Trainable params: 1,280,129\n",
            "Non-trainable params: 0\n",
            "_________________________________________________________________\n"
          ]
        }
      ]
    },
    {
      "cell_type": "code",
      "source": [
        "model_1_func_hist= model_1_func.fit(train_sent,train_target\n",
        "                                    ,validation_data=(val_sent,val_target)\n",
        "                                    ,epochs=3)"
      ],
      "metadata": {
        "colab": {
          "base_uri": "https://localhost:8080/"
        },
        "id": "rmxjfelq8fC2",
        "outputId": "8dde61a9-74d9-4852-aeb2-0a8a212db801"
      },
      "execution_count": null,
      "outputs": [
        {
          "output_type": "stream",
          "name": "stdout",
          "text": [
            "Epoch 1/3\n",
            "215/215 [==============================] - 5s 22ms/step - loss: 0.6095 - accuracy: 0.6938 - val_loss: 0.5399 - val_accuracy: 0.7664\n",
            "Epoch 2/3\n",
            "215/215 [==============================] - 4s 17ms/step - loss: 0.4381 - accuracy: 0.8186 - val_loss: 0.4830 - val_accuracy: 0.7874\n",
            "Epoch 3/3\n",
            "215/215 [==============================] - 4s 17ms/step - loss: 0.3441 - accuracy: 0.8621 - val_loss: 0.4752 - val_accuracy: 0.7874\n"
          ]
        }
      ]
    },
    {
      "cell_type": "code",
      "source": [
        "# Evaluate the model\n",
        "model_1_func.evaluate(val_sent,val_target)"
      ],
      "metadata": {
        "colab": {
          "base_uri": "https://localhost:8080/"
        },
        "outputId": "d7c32aa9-6426-43b5-ce9a-9ef5bbe2009d",
        "id": "TkU1xrxtCqDl"
      },
      "execution_count": null,
      "outputs": [
        {
          "output_type": "stream",
          "name": "stdout",
          "text": [
            "24/24 [==============================] - 0s 2ms/step - loss: 0.4752 - accuracy: 0.7874\n"
          ]
        },
        {
          "output_type": "execute_result",
          "data": {
            "text/plain": [
              "[0.4752333462238312, 0.787401556968689]"
            ]
          },
          "metadata": {},
          "execution_count": 21
        }
      ]
    },
    {
      "cell_type": "code",
      "source": [
        "model_1_func_proba= model_1_func.predict(val_sent)\n",
        "model_1_func_preds= tf.squeeze(tf.round(model_1_func_proba))\n"
      ],
      "metadata": {
        "colab": {
          "base_uri": "https://localhost:8080/"
        },
        "id": "5WOOrR_KCu2o",
        "outputId": "95b20487-bb53-41bf-aa7c-7953374322b6"
      },
      "execution_count": null,
      "outputs": [
        {
          "output_type": "stream",
          "name": "stdout",
          "text": [
            "24/24 [==============================] - 0s 2ms/step\n"
          ]
        }
      ]
    },
    {
      "cell_type": "code",
      "source": [
        "model_1_func_results= calculate_results(y_true=val_target,y_pred=model_1_func_preds)\n",
        "model_1_func_results"
      ],
      "metadata": {
        "colab": {
          "base_uri": "https://localhost:8080/"
        },
        "id": "jwq5_OkwC_Xd",
        "outputId": "bb65a4ab-cc62-497c-da4b-b9664213ac27"
      },
      "execution_count": null,
      "outputs": [
        {
          "output_type": "execute_result",
          "data": {
            "text/plain": [
              "{'accuracy': 78.74015748031496,\n",
              " 'precision': 0.7897763444463061,\n",
              " 'recall': 0.7874015748031497,\n",
              " 'f1': 0.7844490087488502}"
            ]
          },
          "metadata": {},
          "execution_count": 87
        }
      ]
    },
    {
      "cell_type": "markdown",
      "source": [
        "### Recurrent Neural Network (LSTM)"
      ],
      "metadata": {
        "id": "JXW5SEmVDID1"
      }
    },
    {
      "cell_type": "markdown",
      "source": [
        "#### Sequential API"
      ],
      "metadata": {
        "id": "OEvCbi19Dz_O"
      }
    },
    {
      "cell_type": "markdown",
      "source": [
        "##### Embedding Layer"
      ],
      "metadata": {
        "id": "RHl5ILPqGG3E"
      }
    },
    {
      "cell_type": "code",
      "source": [
        "import tensorflow as tf\n",
        "from tensorflow.keras import layers\n",
        "# Since the embeddings are learnable we will have to create the embedding for every\n",
        "# model\n",
        "embedding_layer_rnn= layers.Embedding(input_dim=max_vocab_length\n",
        "                                      ,output_dim=128\n",
        "                                      ,input_length=max_length)"
      ],
      "metadata": {
        "id": "_vGb8z34EQjx"
      },
      "execution_count": null,
      "outputs": []
    },
    {
      "cell_type": "markdown",
      "source": [
        "##### Build, Train, Evaluate the model"
      ],
      "metadata": {
        "id": "DOolVcRxHNOD"
      }
    },
    {
      "cell_type": "code",
      "source": [
        "# Build the model\n",
        "tf.random.set_seed(42)\n",
        "model_2_seq= tf.keras.Sequential([\n",
        "    layers.Input(shape=(1,),dtype=\"string\")\n",
        "    ,text_vectorizer\n",
        "    ,embedding_layer_rnn\n",
        "    ,layers.LSTM(64)\n",
        "    ,layers.Dense(1,activation=\"sigmoid\")\n",
        "])\n",
        "model_2_seq.compile(loss=tf.keras.losses.binary_crossentropy\n",
        "                    ,optimizer=tf.keras.optimizers.Adam()\n",
        "                    ,metrics=[\"accuracy\"])\n",
        "model_2_seq.summary()"
      ],
      "metadata": {
        "colab": {
          "base_uri": "https://localhost:8080/"
        },
        "id": "LfwSjAlREEeU",
        "outputId": "d66a2eda-fdc0-40eb-e028-cdabd47c59fe"
      },
      "execution_count": null,
      "outputs": [
        {
          "output_type": "stream",
          "name": "stdout",
          "text": [
            "Model: \"sequential_1\"\n",
            "_________________________________________________________________\n",
            " Layer (type)                Output Shape              Param #   \n",
            "=================================================================\n",
            " text_vectorization (TextVec  (None, 15)               0         \n",
            " torization)                                                     \n",
            "                                                                 \n",
            " embedding_2 (Embedding)     (None, 15, 128)           1280000   \n",
            "                                                                 \n",
            " lstm (LSTM)                 (None, 64)                49408     \n",
            "                                                                 \n",
            " dense_1 (Dense)             (None, 1)                 65        \n",
            "                                                                 \n",
            "=================================================================\n",
            "Total params: 1,329,473\n",
            "Trainable params: 1,329,473\n",
            "Non-trainable params: 0\n",
            "_________________________________________________________________\n"
          ]
        }
      ]
    },
    {
      "cell_type": "code",
      "source": [
        "# Train the model\n",
        "model_2_seq_hist= model_2_seq.fit(train_sent,train_target\n",
        "                                  ,validation_data=(val_sent,val_target)\n",
        "                                  ,epochs=3)"
      ],
      "metadata": {
        "colab": {
          "base_uri": "https://localhost:8080/"
        },
        "id": "G47IjhSOGxH3",
        "outputId": "f426bfc2-8f8b-48e7-bc75-b51fda0a9d85"
      },
      "execution_count": null,
      "outputs": [
        {
          "output_type": "stream",
          "name": "stdout",
          "text": [
            "Epoch 1/3\n",
            "215/215 [==============================] - 11s 39ms/step - loss: 0.5101 - accuracy: 0.7446 - val_loss: 0.4673 - val_accuracy: 0.7927\n",
            "Epoch 2/3\n",
            "215/215 [==============================] - 7s 31ms/step - loss: 0.3135 - accuracy: 0.8711 - val_loss: 0.5219 - val_accuracy: 0.7848\n",
            "Epoch 3/3\n",
            "215/215 [==============================] - 8s 35ms/step - loss: 0.2162 - accuracy: 0.9204 - val_loss: 0.5348 - val_accuracy: 0.7690\n"
          ]
        }
      ]
    },
    {
      "cell_type": "code",
      "source": [
        "# Evaluate the model\n",
        "model_2_seq.evaluate(val_sent,val_target)"
      ],
      "metadata": {
        "colab": {
          "base_uri": "https://localhost:8080/"
        },
        "id": "g204aj8-HoQi",
        "outputId": "d7c4e82b-3fe7-4c67-fcb7-0497789f5265"
      },
      "execution_count": null,
      "outputs": [
        {
          "output_type": "stream",
          "name": "stdout",
          "text": [
            "24/24 [==============================] - 0s 6ms/step - loss: 0.5348 - accuracy: 0.7690\n"
          ]
        },
        {
          "output_type": "execute_result",
          "data": {
            "text/plain": [
              "[0.5348157286643982, 0.7690288424491882]"
            ]
          },
          "metadata": {},
          "execution_count": 27
        }
      ]
    },
    {
      "cell_type": "code",
      "source": [
        "# Do prediction\n",
        "model_2_pred_proba= model_2_seq.predict(val_sent)\n",
        "model_2_preds= tf.squeeze(tf.round(model_2_pred_proba))"
      ],
      "metadata": {
        "colab": {
          "base_uri": "https://localhost:8080/"
        },
        "id": "mmXr67czHn1Q",
        "outputId": "ce918a82-ea51-4a4c-b5eb-4f0568fdc0fe"
      },
      "execution_count": null,
      "outputs": [
        {
          "output_type": "stream",
          "name": "stdout",
          "text": [
            "24/24 [==============================] - 1s 5ms/step\n"
          ]
        }
      ]
    },
    {
      "cell_type": "code",
      "source": [
        "# Calculate results\n",
        "model_2_seq_results= calculate_results(y_true=val_target,y_pred=model_2_preds)\n",
        "model_2_seq_results"
      ],
      "metadata": {
        "colab": {
          "base_uri": "https://localhost:8080/"
        },
        "id": "EErwZDFdIB7u",
        "outputId": "805cd4e3-2209-4fef-cb0e-9996f99c74e5"
      },
      "execution_count": null,
      "outputs": [
        {
          "output_type": "execute_result",
          "data": {
            "text/plain": [
              "{'accuracy': 76.9028871391076,\n",
              " 'precision': 0.7699148365947928,\n",
              " 'recall': 0.7690288713910761,\n",
              " 'f1': 0.7663045965408172}"
            ]
          },
          "metadata": {},
          "execution_count": 89
        }
      ]
    },
    {
      "cell_type": "markdown",
      "source": [
        "#### Functional API"
      ],
      "metadata": {
        "id": "POI7osHoD_d1"
      }
    },
    {
      "cell_type": "markdown",
      "source": [
        "##### Embedding Layer"
      ],
      "metadata": {
        "id": "GmILdkNtISDk"
      }
    },
    {
      "cell_type": "code",
      "source": [
        "import tensorflow as tf\n",
        "from tensorflow.keras import layers\n",
        "\n",
        "embedding_layer_rnn2= layers.Embedding(input_dim=max_vocab_length\n",
        "                                       ,output_dim=128\n",
        "                                       ,input_length=25)"
      ],
      "metadata": {
        "id": "-HSMUFqsIRkb"
      },
      "execution_count": null,
      "outputs": []
    },
    {
      "cell_type": "markdown",
      "source": [
        "##### Build, Train & Evaluate"
      ],
      "metadata": {
        "id": "XWRaw0aJIW17"
      }
    },
    {
      "cell_type": "code",
      "source": [
        "## Build the model\n",
        "tf.random.set_seed(42)\n",
        "inputs= layers.Input(shape=(1,),dtype=\"string\")\n",
        "x= text_vectorizer(inputs)\n",
        "x= embedding_layer_rnn2(x)\n",
        "x= layers.LSTM(64)(x)\n",
        "outputs= layers.Dense(1,activation=\"sigmoid\")(x)\n",
        "model_2_func= tf.keras.Model(inputs= inputs\n",
        "                             ,outputs=outputs\n",
        "                             ,name=\"model_2_rnn\")\n",
        "\n",
        "model_2_func.compile(loss=tf.keras.losses.binary_crossentropy\n",
        "                     ,optimizer=tf.keras.optimizers.Adam()\n",
        "                     ,metrics=[\"accuracy\"])\n",
        "\n",
        "model_2_func.summary()"
      ],
      "metadata": {
        "colab": {
          "base_uri": "https://localhost:8080/"
        },
        "id": "O6FSgpHUEB-N",
        "outputId": "4d2e28ae-50c3-4e1e-f01f-6ad7db6f3343"
      },
      "execution_count": null,
      "outputs": [
        {
          "output_type": "stream",
          "name": "stdout",
          "text": [
            "Model: \"model_2_rnn\"\n",
            "_________________________________________________________________\n",
            " Layer (type)                Output Shape              Param #   \n",
            "=================================================================\n",
            " input_4 (InputLayer)        [(None, 1)]               0         \n",
            "                                                                 \n",
            " text_vectorization (TextVec  (None, 15)               0         \n",
            " torization)                                                     \n",
            "                                                                 \n",
            " embedding_3 (Embedding)     (None, 15, 128)           1280000   \n",
            "                                                                 \n",
            " lstm_1 (LSTM)               (None, 64)                49408     \n",
            "                                                                 \n",
            " dense_2 (Dense)             (None, 1)                 65        \n",
            "                                                                 \n",
            "=================================================================\n",
            "Total params: 1,329,473\n",
            "Trainable params: 1,329,473\n",
            "Non-trainable params: 0\n",
            "_________________________________________________________________\n"
          ]
        }
      ]
    },
    {
      "cell_type": "code",
      "source": [
        "# Train the model\n",
        "model_2_func_hist= model_2_func.fit(train_sent,train_target\n",
        "                                    ,validation_data=(val_sent,val_target)\n",
        "                                    ,epochs=3)"
      ],
      "metadata": {
        "colab": {
          "base_uri": "https://localhost:8080/"
        },
        "id": "4YmMDxokJqgf",
        "outputId": "fb4d92ed-c805-4e1f-aee9-de5e4be92d13"
      },
      "execution_count": null,
      "outputs": [
        {
          "output_type": "stream",
          "name": "stdout",
          "text": [
            "Epoch 1/3\n",
            "215/215 [==============================] - 11s 39ms/step - loss: 0.5157 - accuracy: 0.7446 - val_loss: 0.4650 - val_accuracy: 0.8005\n",
            "Epoch 2/3\n",
            "215/215 [==============================] - 7s 34ms/step - loss: 0.3158 - accuracy: 0.8707 - val_loss: 0.5213 - val_accuracy: 0.7966\n",
            "Epoch 3/3\n",
            "215/215 [==============================] - 7s 33ms/step - loss: 0.2174 - accuracy: 0.9206 - val_loss: 0.5199 - val_accuracy: 0.7730\n"
          ]
        }
      ]
    },
    {
      "cell_type": "code",
      "source": [
        "# Evaluate the model\n",
        "model_2_func.evaluate(val_sent,val_target)"
      ],
      "metadata": {
        "colab": {
          "base_uri": "https://localhost:8080/"
        },
        "id": "Gf9ceC8XKTxQ",
        "outputId": "249dd6fa-31d6-47de-f79c-9cd6bb44ad13"
      },
      "execution_count": null,
      "outputs": [
        {
          "output_type": "stream",
          "name": "stdout",
          "text": [
            "24/24 [==============================] - 0s 6ms/step - loss: 0.5199 - accuracy: 0.7730\n"
          ]
        },
        {
          "output_type": "execute_result",
          "data": {
            "text/plain": [
              "[0.5199021100997925, 0.7729659080505371]"
            ]
          },
          "metadata": {},
          "execution_count": 33
        }
      ]
    },
    {
      "cell_type": "code",
      "source": [
        "# Predict\n",
        "model_2_func_preds_proba= model_2_func.predict(val_sent)\n",
        "model_2_func_preds= tf.squeeze(tf.round(model_2_func_preds_proba))"
      ],
      "metadata": {
        "colab": {
          "base_uri": "https://localhost:8080/"
        },
        "id": "RiOnZeluKYnJ",
        "outputId": "b0dd1ae3-afb0-4234-a866-51169166b04d"
      },
      "execution_count": null,
      "outputs": [
        {
          "output_type": "stream",
          "name": "stdout",
          "text": [
            "24/24 [==============================] - 1s 5ms/step\n"
          ]
        }
      ]
    },
    {
      "cell_type": "code",
      "source": [
        "# Calculate results\n",
        "model_2_func_results= calculate_results(y_true=val_target,y_pred=model_2_func_preds)\n",
        "model_2_func_results"
      ],
      "metadata": {
        "colab": {
          "base_uri": "https://localhost:8080/"
        },
        "id": "HL9U2JejKnQU",
        "outputId": "526d22c3-84f5-406e-e45c-adc3b2cd8e45"
      },
      "execution_count": null,
      "outputs": [
        {
          "output_type": "execute_result",
          "data": {
            "text/plain": [
              "{'accuracy': 77.29658792650919,\n",
              " 'precision': 0.775551897614644,\n",
              " 'recall': 0.7729658792650919,\n",
              " 'f1': 0.7693919120824418}"
            ]
          },
          "metadata": {},
          "execution_count": 90
        }
      ]
    },
    {
      "cell_type": "markdown",
      "source": [
        "### Recurrent Neural Network (GRU)"
      ],
      "metadata": {
        "id": "k6RpBDE2L-c6"
      }
    },
    {
      "cell_type": "markdown",
      "source": [
        "#### Sequential API"
      ],
      "metadata": {
        "id": "5nFFTRLAL-c7"
      }
    },
    {
      "cell_type": "markdown",
      "source": [
        "##### Embedding Layer"
      ],
      "metadata": {
        "id": "uYgvLKIlL-c8"
      }
    },
    {
      "cell_type": "code",
      "source": [
        "import tensorflow as tf\n",
        "from tensorflow.keras import layers\n",
        "# Since the embeddings are learnable we will have to create the embedding for every\n",
        "# model\n",
        "embedding_layer_gru= layers.Embedding(input_dim=max_vocab_length\n",
        "                                      ,output_dim=128\n",
        "                                      ,input_length=max_length)"
      ],
      "metadata": {
        "id": "WujTXKauL-c8"
      },
      "execution_count": null,
      "outputs": []
    },
    {
      "cell_type": "markdown",
      "source": [
        "##### Build, Train, Evaluate the model"
      ],
      "metadata": {
        "id": "RBk6lYOLL-c9"
      }
    },
    {
      "cell_type": "code",
      "source": [
        "# Build the model\n",
        "tf.random.set_seed(42)\n",
        "model_3_seq= tf.keras.Sequential([\n",
        "    layers.Input(shape=(1,),dtype=\"string\")\n",
        "    ,text_vectorizer\n",
        "    ,embedding_layer_gru\n",
        "    ,layers.GRU(64)\n",
        "    ,layers.Dense(1,activation=\"sigmoid\")\n",
        "])\n",
        "model_3_seq.compile(loss=tf.keras.losses.binary_crossentropy\n",
        "                    ,optimizer=tf.keras.optimizers.Adam()\n",
        "                    ,metrics=[\"accuracy\"])\n",
        "model_3_seq.summary()"
      ],
      "metadata": {
        "colab": {
          "base_uri": "https://localhost:8080/"
        },
        "outputId": "aa5af6e8-f870-4d6b-aa58-6b3bc25ee463",
        "id": "SZcN4KFjL-c9"
      },
      "execution_count": null,
      "outputs": [
        {
          "output_type": "stream",
          "name": "stdout",
          "text": [
            "Model: \"sequential_2\"\n",
            "_________________________________________________________________\n",
            " Layer (type)                Output Shape              Param #   \n",
            "=================================================================\n",
            " text_vectorization (TextVec  (None, 15)               0         \n",
            " torization)                                                     \n",
            "                                                                 \n",
            " embedding_4 (Embedding)     (None, 15, 128)           1280000   \n",
            "                                                                 \n",
            " gru (GRU)                   (None, 64)                37248     \n",
            "                                                                 \n",
            " dense_3 (Dense)             (None, 1)                 65        \n",
            "                                                                 \n",
            "=================================================================\n",
            "Total params: 1,317,313\n",
            "Trainable params: 1,317,313\n",
            "Non-trainable params: 0\n",
            "_________________________________________________________________\n"
          ]
        }
      ]
    },
    {
      "cell_type": "code",
      "source": [
        "# Train the model\n",
        "model_3_seq_hist= model_3_seq.fit(train_sent,train_target\n",
        "                                  ,validation_data=(val_sent,val_target)\n",
        "                                  ,epochs=3)"
      ],
      "metadata": {
        "colab": {
          "base_uri": "https://localhost:8080/"
        },
        "outputId": "379b3b42-3fe9-48e5-a4cf-1ed4e9de992d",
        "id": "HdVCbYTIL-c-"
      },
      "execution_count": null,
      "outputs": [
        {
          "output_type": "stream",
          "name": "stdout",
          "text": [
            "Epoch 1/3\n",
            "215/215 [==============================] - 12s 35ms/step - loss: 0.5361 - accuracy: 0.7234 - val_loss: 0.4679 - val_accuracy: 0.8005\n",
            "Epoch 2/3\n",
            "215/215 [==============================] - 8s 37ms/step - loss: 0.3205 - accuracy: 0.8697 - val_loss: 0.5130 - val_accuracy: 0.7795\n",
            "Epoch 3/3\n",
            "215/215 [==============================] - 7s 32ms/step - loss: 0.2190 - accuracy: 0.9177 - val_loss: 0.5168 - val_accuracy: 0.7756\n"
          ]
        }
      ]
    },
    {
      "cell_type": "code",
      "source": [
        "# Evaluate the model\n",
        "model_3_seq.evaluate(val_sent,val_target)"
      ],
      "metadata": {
        "colab": {
          "base_uri": "https://localhost:8080/"
        },
        "outputId": "f40f9728-48cf-4dd9-aea1-e2eab49f204e",
        "id": "kPxvoSXCL-c_"
      },
      "execution_count": null,
      "outputs": [
        {
          "output_type": "stream",
          "name": "stdout",
          "text": [
            "24/24 [==============================] - 0s 5ms/step - loss: 0.5168 - accuracy: 0.7756\n"
          ]
        },
        {
          "output_type": "execute_result",
          "data": {
            "text/plain": [
              "[0.51679927110672, 0.7755905389785767]"
            ]
          },
          "metadata": {},
          "execution_count": 39
        }
      ]
    },
    {
      "cell_type": "code",
      "source": [
        "# Do prediction\n",
        "model_3_pred_proba= model_3_seq.predict(val_sent)\n",
        "model_3_preds= tf.squeeze(tf.round(model_3_pred_proba))"
      ],
      "metadata": {
        "colab": {
          "base_uri": "https://localhost:8080/"
        },
        "outputId": "e971e04b-6848-4781-cd52-f188a13b8d4d",
        "id": "4yra4oaZL-c_"
      },
      "execution_count": null,
      "outputs": [
        {
          "output_type": "stream",
          "name": "stdout",
          "text": [
            "24/24 [==============================] - 1s 5ms/step\n"
          ]
        }
      ]
    },
    {
      "cell_type": "code",
      "source": [
        "# Calculate results\n",
        "model_3_seq_results= calculate_results(y_true=val_target,y_pred=model_3_preds)\n",
        "model_3_seq_results"
      ],
      "metadata": {
        "colab": {
          "base_uri": "https://localhost:8080/"
        },
        "outputId": "46e168a2-9c7b-461f-9ba5-cd23a8c84fea",
        "id": "sRaMfSKGL-c_"
      },
      "execution_count": null,
      "outputs": [
        {
          "output_type": "execute_result",
          "data": {
            "text/plain": [
              "{'accuracy': 77.55905511811024,\n",
              " 'precision': 0.7776491925902075,\n",
              " 'recall': 0.7755905511811023,\n",
              " 'f1': 0.7723925444044727}"
            ]
          },
          "metadata": {},
          "execution_count": 91
        }
      ]
    },
    {
      "cell_type": "markdown",
      "source": [
        "#### Functional API"
      ],
      "metadata": {
        "id": "-wgdadNHL-dA"
      }
    },
    {
      "cell_type": "markdown",
      "source": [
        "##### Embedding Layer"
      ],
      "metadata": {
        "id": "Pum1SrzNL-dA"
      }
    },
    {
      "cell_type": "code",
      "source": [
        "import tensorflow as tf\n",
        "from tensorflow.keras import layers\n",
        "\n",
        "embedding_layer_gru2= layers.Embedding(input_dim=max_vocab_length\n",
        "                                       ,output_dim=128\n",
        "                                       ,input_length=25)"
      ],
      "metadata": {
        "id": "TFdAlvTsL-dA"
      },
      "execution_count": null,
      "outputs": []
    },
    {
      "cell_type": "markdown",
      "source": [
        "##### Build, Train & Evaluate"
      ],
      "metadata": {
        "id": "O5QnWxGDL-dB"
      }
    },
    {
      "cell_type": "code",
      "source": [
        "## Build the model\n",
        "tf.random.set_seed(42)\n",
        "inputs= layers.Input(shape=(1,),dtype=\"string\")\n",
        "x= text_vectorizer(inputs)\n",
        "x= embedding_layer_gru2(x)\n",
        "x= layers.LSTM(64)(x)\n",
        "outputs= layers.Dense(1,activation=\"sigmoid\")(x)\n",
        "model_3_func= tf.keras.Model(inputs= inputs\n",
        "                             ,outputs=outputs\n",
        "                             ,name=\"model_3_gru\")\n",
        "\n",
        "model_3_func.compile(loss=tf.keras.losses.binary_crossentropy\n",
        "                     ,optimizer=tf.keras.optimizers.Adam()\n",
        "                     ,metrics=[\"accuracy\"])\n",
        "\n",
        "model_3_func.summary()"
      ],
      "metadata": {
        "colab": {
          "base_uri": "https://localhost:8080/"
        },
        "outputId": "a766f0c1-2ec6-4944-81dc-ea4eb4e2a839",
        "id": "VLqtrD_DL-dB"
      },
      "execution_count": null,
      "outputs": [
        {
          "output_type": "stream",
          "name": "stdout",
          "text": [
            "Model: \"model_3_gru\"\n",
            "_________________________________________________________________\n",
            " Layer (type)                Output Shape              Param #   \n",
            "=================================================================\n",
            " input_6 (InputLayer)        [(None, 1)]               0         \n",
            "                                                                 \n",
            " text_vectorization (TextVec  (None, 15)               0         \n",
            " torization)                                                     \n",
            "                                                                 \n",
            " embedding_5 (Embedding)     (None, 15, 128)           1280000   \n",
            "                                                                 \n",
            " lstm_2 (LSTM)               (None, 64)                49408     \n",
            "                                                                 \n",
            " dense_4 (Dense)             (None, 1)                 65        \n",
            "                                                                 \n",
            "=================================================================\n",
            "Total params: 1,329,473\n",
            "Trainable params: 1,329,473\n",
            "Non-trainable params: 0\n",
            "_________________________________________________________________\n"
          ]
        }
      ]
    },
    {
      "cell_type": "code",
      "source": [
        "# Train the model\n",
        "model_3_func_hist= model_3_func.fit(train_sent,train_target\n",
        "                                    ,validation_data=(val_sent,val_target)\n",
        "                                    ,epochs=3)"
      ],
      "metadata": {
        "colab": {
          "base_uri": "https://localhost:8080/"
        },
        "outputId": "de38faf0-c747-453b-c549-e6b36f832153",
        "id": "lEXRu-mDL-dB"
      },
      "execution_count": null,
      "outputs": [
        {
          "output_type": "stream",
          "name": "stdout",
          "text": [
            "Epoch 1/3\n",
            "215/215 [==============================] - 11s 36ms/step - loss: 0.5149 - accuracy: 0.7441 - val_loss: 0.4649 - val_accuracy: 0.7927\n",
            "Epoch 2/3\n",
            "215/215 [==============================] - 9s 44ms/step - loss: 0.3148 - accuracy: 0.8720 - val_loss: 0.5288 - val_accuracy: 0.7887\n",
            "Epoch 3/3\n",
            "215/215 [==============================] - 8s 37ms/step - loss: 0.2126 - accuracy: 0.9237 - val_loss: 0.5340 - val_accuracy: 0.7690\n"
          ]
        }
      ]
    },
    {
      "cell_type": "code",
      "source": [
        "# Evaluate the model\n",
        "model_3_func.evaluate(val_sent,val_target)"
      ],
      "metadata": {
        "colab": {
          "base_uri": "https://localhost:8080/"
        },
        "outputId": "1c6102b9-7224-4f1d-f881-8a591efa103b",
        "id": "_4z9c_iUL-dC"
      },
      "execution_count": null,
      "outputs": [
        {
          "output_type": "stream",
          "name": "stdout",
          "text": [
            "24/24 [==============================] - 0s 6ms/step - loss: 0.5340 - accuracy: 0.7690\n"
          ]
        },
        {
          "output_type": "execute_result",
          "data": {
            "text/plain": [
              "[0.5340465307235718, 0.7690288424491882]"
            ]
          },
          "metadata": {},
          "execution_count": 45
        }
      ]
    },
    {
      "cell_type": "code",
      "source": [
        "# Predict\n",
        "model_3_func_preds_proba= model_3_func.predict(val_sent)\n",
        "model_3_func_preds= tf.squeeze(tf.round(model_3_func_preds_proba))"
      ],
      "metadata": {
        "colab": {
          "base_uri": "https://localhost:8080/"
        },
        "outputId": "908beccd-62a9-47f0-988e-acb656deca48",
        "id": "VjflHHMuL-dC"
      },
      "execution_count": null,
      "outputs": [
        {
          "output_type": "stream",
          "name": "stdout",
          "text": [
            "24/24 [==============================] - 1s 6ms/step\n"
          ]
        }
      ]
    },
    {
      "cell_type": "code",
      "source": [
        "# Calculate results\n",
        "model_3_func_results= calculate_results(y_true=val_target,y_pred=model_3_func_preds)\n",
        "model_3_func_results"
      ],
      "metadata": {
        "colab": {
          "base_uri": "https://localhost:8080/"
        },
        "outputId": "c2afed94-717c-4e99-d3a8-bf2d4ff610f0",
        "id": "8UD6QK4RL-dC"
      },
      "execution_count": null,
      "outputs": [
        {
          "output_type": "execute_result",
          "data": {
            "text/plain": [
              "{'accuracy': 76.9028871391076,\n",
              " 'precision': 0.769694818612314,\n",
              " 'recall': 0.7690288713910761,\n",
              " 'f1': 0.7664584533150937}"
            ]
          },
          "metadata": {},
          "execution_count": 92
        }
      ]
    },
    {
      "cell_type": "markdown",
      "source": [
        "### Model 4: Bidirectional RNN"
      ],
      "metadata": {
        "id": "znPSjkRFN3Sb"
      }
    },
    {
      "cell_type": "markdown",
      "source": [
        "#### Sequential API"
      ],
      "metadata": {
        "id": "PDwus1xgUQnN"
      }
    },
    {
      "cell_type": "markdown",
      "source": [
        "##### Emdedding Layer"
      ],
      "metadata": {
        "id": "rOutTcyzUvZn"
      }
    },
    {
      "cell_type": "code",
      "source": [
        "import tensorflow as tf\n",
        "from tensorflow.keras import layers\n",
        "embedding_layer_birnn= layers.Embedding(input_dim=max_vocab_length\n",
        "                                        ,output_dim=128\n",
        "                                        ,input_length=max_length)"
      ],
      "metadata": {
        "id": "AVR0dhR2WzUY"
      },
      "execution_count": null,
      "outputs": []
    },
    {
      "cell_type": "markdown",
      "source": [
        "##### Build, Train, Evaluate Model"
      ],
      "metadata": {
        "id": "2pmZreMAUu5U"
      }
    },
    {
      "cell_type": "code",
      "source": [
        "# Build the model\n",
        "model_4_seq= tf.keras.Sequential([\n",
        "    layers.Input(shape=(1,),dtype=\"string\")\n",
        "    ,text_vectorizer\n",
        "    ,embedding_layer_birnn\n",
        "    ,layers.Bidirectional(layers.LSTM(64))\n",
        "    ,layers.Dense(1,activation=\"sigmoid\")\n",
        "])\n",
        "model_4_seq.compile(loss=tf.keras.losses.binary_crossentropy\n",
        "                    ,optimizer=tf.keras.optimizers.Adam()\n",
        "                    ,metrics=[\"accuracy\"])\n",
        "\n",
        "model_4_seq.summary()"
      ],
      "metadata": {
        "colab": {
          "base_uri": "https://localhost:8080/"
        },
        "id": "KFUKJMj3XEpU",
        "outputId": "a86cc33a-84eb-4436-bd09-f9e166aa37b1"
      },
      "execution_count": null,
      "outputs": [
        {
          "output_type": "stream",
          "name": "stdout",
          "text": [
            "Model: \"sequential_3\"\n",
            "_________________________________________________________________\n",
            " Layer (type)                Output Shape              Param #   \n",
            "=================================================================\n",
            " text_vectorization (TextVec  (None, 15)               0         \n",
            " torization)                                                     \n",
            "                                                                 \n",
            " embedding_6 (Embedding)     (None, 15, 128)           1280000   \n",
            "                                                                 \n",
            " bidirectional (Bidirectiona  (None, 128)              98816     \n",
            " l)                                                              \n",
            "                                                                 \n",
            " dense_5 (Dense)             (None, 1)                 129       \n",
            "                                                                 \n",
            "=================================================================\n",
            "Total params: 1,378,945\n",
            "Trainable params: 1,378,945\n",
            "Non-trainable params: 0\n",
            "_________________________________________________________________\n"
          ]
        }
      ]
    },
    {
      "cell_type": "code",
      "source": [
        "# Train the model\n",
        "model_4_seq_hist= model_4_seq.fit(train_sent,train_target\n",
        "                                  ,validation_data=(val_sent,val_target)\n",
        "                                  ,epochs=3)"
      ],
      "metadata": {
        "colab": {
          "base_uri": "https://localhost:8080/"
        },
        "id": "UIbvtz9JXyHc",
        "outputId": "7a69d987-de6d-4a08-e344-33c8f920f8e0"
      },
      "execution_count": null,
      "outputs": [
        {
          "output_type": "stream",
          "name": "stdout",
          "text": [
            "Epoch 1/3\n",
            "215/215 [==============================] - 17s 52ms/step - loss: 0.5112 - accuracy: 0.7449 - val_loss: 0.4632 - val_accuracy: 0.8031\n",
            "Epoch 2/3\n",
            "215/215 [==============================] - 10s 48ms/step - loss: 0.3136 - accuracy: 0.8708 - val_loss: 0.4901 - val_accuracy: 0.7887\n",
            "Epoch 3/3\n",
            "215/215 [==============================] - 10s 48ms/step - loss: 0.2093 - accuracy: 0.9219 - val_loss: 0.5516 - val_accuracy: 0.7769\n"
          ]
        }
      ]
    },
    {
      "cell_type": "code",
      "source": [
        "# evaluate the model\n",
        "model_4_seq.evaluate(val_sent,val_target)"
      ],
      "metadata": {
        "colab": {
          "base_uri": "https://localhost:8080/"
        },
        "id": "gWVnLHIHXx5N",
        "outputId": "5ecf27bf-18c4-4fc2-d592-89f195acfcb1"
      },
      "execution_count": null,
      "outputs": [
        {
          "output_type": "stream",
          "name": "stdout",
          "text": [
            "24/24 [==============================] - 0s 8ms/step - loss: 0.5516 - accuracy: 0.7769\n"
          ]
        },
        {
          "output_type": "execute_result",
          "data": {
            "text/plain": [
              "[0.5515688061714172, 0.7769029140472412]"
            ]
          },
          "metadata": {},
          "execution_count": 51
        }
      ]
    },
    {
      "cell_type": "code",
      "source": [
        "# Predict\n",
        "model_4_seq_pred_proba= model_4_seq.predict(val_sent)\n",
        "model_4_seq_pred= tf.squeeze(tf.round(model_4_seq_pred_proba))"
      ],
      "metadata": {
        "colab": {
          "base_uri": "https://localhost:8080/"
        },
        "id": "KevR8a7_Xxpr",
        "outputId": "6f9b7c3d-9cd0-4627-9dcb-fef560eacbb0"
      },
      "execution_count": null,
      "outputs": [
        {
          "output_type": "stream",
          "name": "stdout",
          "text": [
            "24/24 [==============================] - 1s 8ms/step\n"
          ]
        }
      ]
    },
    {
      "cell_type": "code",
      "source": [
        "# Calculate result\n",
        "model_4_seq_results= calculate_results(y_true=val_target,y_pred=model_4_seq_pred)\n",
        "model_4_seq_results"
      ],
      "metadata": {
        "colab": {
          "base_uri": "https://localhost:8080/"
        },
        "id": "H3hJBlf5Yu5B",
        "outputId": "f0a8e8a0-05fa-4586-a917-6b8393199050"
      },
      "execution_count": null,
      "outputs": [
        {
          "output_type": "execute_result",
          "data": {
            "text/plain": [
              "{'accuracy': 77.69028871391076,\n",
              " 'precision': 0.7833110923960127,\n",
              " 'recall': 0.7769028871391076,\n",
              " 'f1': 0.7718140166956104}"
            ]
          },
          "metadata": {},
          "execution_count": 93
        }
      ]
    },
    {
      "cell_type": "markdown",
      "source": [
        "#### Functional API"
      ],
      "metadata": {
        "id": "G66h5KsjUrFF"
      }
    },
    {
      "cell_type": "markdown",
      "source": [
        "##### Embedding Layer"
      ],
      "metadata": {
        "id": "v_R4ySwuUsvH"
      }
    },
    {
      "cell_type": "code",
      "source": [
        "import tensorflow as tf\n",
        "from tensorflow.keras import layers\n",
        "embedding_layer_birnn2= layers.Embedding(input_dim=max_vocab_length\n",
        "                                        ,output_dim= 128\n",
        "                                        ,input_length=max_length)"
      ],
      "metadata": {
        "id": "siUkdePGZPBT"
      },
      "execution_count": null,
      "outputs": []
    },
    {
      "cell_type": "markdown",
      "source": [
        "##### Train, Build & Evaluate Model"
      ],
      "metadata": {
        "id": "35jlgVhwU9Aq"
      }
    },
    {
      "cell_type": "code",
      "source": [
        "# Build the model\n",
        "inputs= layers.Input(shape=(1,),dtype=\"string\")\n",
        "x= text_vectorizer(inputs)\n",
        "x= embedding_layer_birnn2(x)\n",
        "x= layers.Bidirectional(layers.LSTM(64))(x)\n",
        "outputs= layers.Dense(1,activation=\"sigmoid\")(x)\n",
        "model_4_func= tf.keras.Model(inputs=inputs\n",
        "                             ,outputs=outputs\n",
        "                             ,name=\"model_4_bidirectional_birnn2\")\n",
        "\n",
        "model_4_func.compile(loss=tf.keras.losses.binary_crossentropy\n",
        "                     ,optimizer=tf.keras.optimizers.Adam()\n",
        "                     ,metrics=[\"accuracy\"])\n",
        "\n",
        "model_4_func.summary()"
      ],
      "metadata": {
        "colab": {
          "base_uri": "https://localhost:8080/"
        },
        "id": "6WtJxrBWZQbh",
        "outputId": "f445a86d-fe22-4b66-8875-fbce0e980518"
      },
      "execution_count": null,
      "outputs": [
        {
          "output_type": "stream",
          "name": "stdout",
          "text": [
            "Model: \"model_4_bidirectional_birnn2\"\n",
            "_________________________________________________________________\n",
            " Layer (type)                Output Shape              Param #   \n",
            "=================================================================\n",
            " input_8 (InputLayer)        [(None, 1)]               0         \n",
            "                                                                 \n",
            " text_vectorization (TextVec  (None, 15)               0         \n",
            " torization)                                                     \n",
            "                                                                 \n",
            " embedding_7 (Embedding)     (None, 15, 128)           1280000   \n",
            "                                                                 \n",
            " bidirectional_1 (Bidirectio  (None, 128)              98816     \n",
            " nal)                                                            \n",
            "                                                                 \n",
            " dense_6 (Dense)             (None, 1)                 129       \n",
            "                                                                 \n",
            "=================================================================\n",
            "Total params: 1,378,945\n",
            "Trainable params: 1,378,945\n",
            "Non-trainable params: 0\n",
            "_________________________________________________________________\n"
          ]
        }
      ]
    },
    {
      "cell_type": "code",
      "source": [
        "# Train the model\n",
        "model_4_func_hist= model_4_func.fit(train_sent,train_target\n",
        "                                    ,validation_data=(val_sent,val_target)\n",
        "                                    ,epochs=3)"
      ],
      "metadata": {
        "colab": {
          "base_uri": "https://localhost:8080/"
        },
        "id": "yuGxzxDeZQNT",
        "outputId": "c5abbdeb-d992-41fa-9f3e-9a471afeaddb"
      },
      "execution_count": null,
      "outputs": [
        {
          "output_type": "stream",
          "name": "stdout",
          "text": [
            "Epoch 1/3\n",
            "215/215 [==============================] - 16s 52ms/step - loss: 0.5101 - accuracy: 0.7486 - val_loss: 0.4630 - val_accuracy: 0.8005\n",
            "Epoch 2/3\n",
            "215/215 [==============================] - 11s 50ms/step - loss: 0.3128 - accuracy: 0.8718 - val_loss: 0.4916 - val_accuracy: 0.7887\n",
            "Epoch 3/3\n",
            "215/215 [==============================] - 11s 52ms/step - loss: 0.2072 - accuracy: 0.9257 - val_loss: 0.5439 - val_accuracy: 0.7795\n"
          ]
        }
      ]
    },
    {
      "cell_type": "code",
      "source": [
        "# Evaluate\n",
        "model_4_func.evaluate(val_sent,val_target)"
      ],
      "metadata": {
        "colab": {
          "base_uri": "https://localhost:8080/"
        },
        "id": "z-sqzSGQbESk",
        "outputId": "7a887179-f7e5-40ae-b8b2-b4b723f3358d"
      },
      "execution_count": null,
      "outputs": [
        {
          "output_type": "stream",
          "name": "stdout",
          "text": [
            "24/24 [==============================] - 0s 8ms/step - loss: 0.5439 - accuracy: 0.7795\n"
          ]
        },
        {
          "output_type": "execute_result",
          "data": {
            "text/plain": [
              "[0.5439496636390686, 0.7795275449752808]"
            ]
          },
          "metadata": {},
          "execution_count": 57
        }
      ]
    },
    {
      "cell_type": "code",
      "source": [
        "# Predict\n",
        "model_4_func_pred_proba= model_4_func.predict(val_sent)\n",
        "model_4_func_pred= tf.squeeze(tf.round(model_4_func_pred_proba))"
      ],
      "metadata": {
        "colab": {
          "base_uri": "https://localhost:8080/"
        },
        "id": "T9MeZGqsZP_h",
        "outputId": "9630d883-d0c9-450a-c153-b79423b269a9"
      },
      "execution_count": null,
      "outputs": [
        {
          "output_type": "stream",
          "name": "stdout",
          "text": [
            "24/24 [==============================] - 2s 12ms/step\n"
          ]
        }
      ]
    },
    {
      "cell_type": "code",
      "source": [
        "# Calculate results\n",
        "model_4_func_results= calculate_results(y_true=val_target,y_pred=model_4_func_pred)\n",
        "model_4_func_results"
      ],
      "metadata": {
        "colab": {
          "base_uri": "https://localhost:8080/"
        },
        "id": "fmEr9T_iZPtz",
        "outputId": "7f2baa3c-a450-499c-d2e1-22e4af96d87e"
      },
      "execution_count": null,
      "outputs": [
        {
          "output_type": "execute_result",
          "data": {
            "text/plain": [
              "{'accuracy': 77.95275590551181,\n",
              " 'precision': 0.782963195548265,\n",
              " 'recall': 0.7795275590551181,\n",
              " 'f1': 0.7758009523839113}"
            ]
          },
          "metadata": {},
          "execution_count": 94
        }
      ]
    },
    {
      "cell_type": "markdown",
      "source": [
        "### Model 5: Conv1D"
      ],
      "metadata": {
        "id": "FOoXdrAPVBn0"
      }
    },
    {
      "cell_type": "markdown",
      "source": [
        "#### Sequential API"
      ],
      "metadata": {
        "id": "EcIhrURmSWKp"
      }
    },
    {
      "cell_type": "markdown",
      "source": [
        "##### Embedding Layer"
      ],
      "metadata": {
        "id": "kOj3ARM6SZG7"
      }
    },
    {
      "cell_type": "code",
      "source": [
        "import tensorflow as tf\n",
        "from tensorflow.keras import layers\n",
        "embedding_layer_conv1d= layers.Embedding(input_dim=max_vocab_length\n",
        "                                         ,output_dim=128\n",
        "                                         ,input_length=max_length)"
      ],
      "metadata": {
        "id": "rWkPBsaDS44A"
      },
      "execution_count": null,
      "outputs": []
    },
    {
      "cell_type": "markdown",
      "source": [
        "##### Build, Train and Evaluate model"
      ],
      "metadata": {
        "id": "gWzdbmEmSfjK"
      }
    },
    {
      "cell_type": "code",
      "source": [
        "# Build Model\n",
        "model_5_seq= tf.keras.Sequential([\n",
        "    layers.Input(shape=(1,),dtype=\"string\")\n",
        "    ,text_vectorizer\n",
        "    ,embedding_layer_conv1d\n",
        "    ,layers.Conv1D(filters=32,kernel_size=5,activation=\"relu\")\n",
        "    ,layers.GlobalMaxPool1D()\n",
        "    ,layers.Dense(1,activation=\"sigmoid\")\n",
        "])\n",
        "\n",
        "model_5_seq.compile(loss=tf.keras.losses.binary_crossentropy\n",
        "                    ,optimizer=tf.keras.optimizers.Adam()\n",
        "                    ,metrics=[\"accuracy\"])\n",
        "\n",
        "model_5_seq.summary()"
      ],
      "metadata": {
        "colab": {
          "base_uri": "https://localhost:8080/"
        },
        "id": "NvugjL9ES9id",
        "outputId": "cc5cd64b-c654-472e-c633-840d4585aa98"
      },
      "execution_count": null,
      "outputs": [
        {
          "output_type": "stream",
          "name": "stdout",
          "text": [
            "Model: \"sequential_4\"\n",
            "_________________________________________________________________\n",
            " Layer (type)                Output Shape              Param #   \n",
            "=================================================================\n",
            " text_vectorization (TextVec  (None, 15)               0         \n",
            " torization)                                                     \n",
            "                                                                 \n",
            " embedding_8 (Embedding)     (None, 15, 128)           1280000   \n",
            "                                                                 \n",
            " conv1d (Conv1D)             (None, 11, 32)            20512     \n",
            "                                                                 \n",
            " global_max_pooling1d (Globa  (None, 32)               0         \n",
            " lMaxPooling1D)                                                  \n",
            "                                                                 \n",
            " dense_7 (Dense)             (None, 1)                 33        \n",
            "                                                                 \n",
            "=================================================================\n",
            "Total params: 1,300,545\n",
            "Trainable params: 1,300,545\n",
            "Non-trainable params: 0\n",
            "_________________________________________________________________\n"
          ]
        }
      ]
    },
    {
      "cell_type": "code",
      "source": [
        "# Train the model\n",
        "model_5_seq_hist= model_5_seq.fit(train_sent,train_target\n",
        "                                  ,validation_data=(val_sent,val_target)\n",
        "                                  ,epochs=3)"
      ],
      "metadata": {
        "colab": {
          "base_uri": "https://localhost:8080/"
        },
        "id": "B5xM1JCuS8-Z",
        "outputId": "b3f77122-2864-4e39-bbc7-139d66550564"
      },
      "execution_count": null,
      "outputs": [
        {
          "output_type": "stream",
          "name": "stdout",
          "text": [
            "Epoch 1/3\n",
            "215/215 [==============================] - 6s 22ms/step - loss: 0.5737 - accuracy: 0.7008 - val_loss: 0.4826 - val_accuracy: 0.7861\n",
            "Epoch 2/3\n",
            "215/215 [==============================] - 4s 20ms/step - loss: 0.3446 - accuracy: 0.8565 - val_loss: 0.4991 - val_accuracy: 0.7690\n",
            "Epoch 3/3\n",
            "215/215 [==============================] - 5s 24ms/step - loss: 0.2120 - accuracy: 0.9218 - val_loss: 0.5829 - val_accuracy: 0.7520\n"
          ]
        }
      ]
    },
    {
      "cell_type": "code",
      "source": [
        "# Evaluate the model\n",
        "model_5_seq.evaluate(val_sent,val_target)"
      ],
      "metadata": {
        "colab": {
          "base_uri": "https://localhost:8080/"
        },
        "id": "P5XU8HrbS8jL",
        "outputId": "26af6f3e-0f07-40f7-a9ec-ba26f63513f3"
      },
      "execution_count": null,
      "outputs": [
        {
          "output_type": "stream",
          "name": "stdout",
          "text": [
            "24/24 [==============================] - 0s 4ms/step - loss: 0.5829 - accuracy: 0.7520\n"
          ]
        },
        {
          "output_type": "execute_result",
          "data": {
            "text/plain": [
              "[0.5828826427459717, 0.751968502998352]"
            ]
          },
          "metadata": {},
          "execution_count": 63
        }
      ]
    },
    {
      "cell_type": "code",
      "source": [
        "# Predict\n",
        "model_5_seq_pred_proba= model_5_seq.predict(val_sent)\n",
        "model_5_seq_pred= tf.squeeze(tf.round(model_5_seq_pred_proba))"
      ],
      "metadata": {
        "colab": {
          "base_uri": "https://localhost:8080/"
        },
        "id": "XBV4Ez2QS7gO",
        "outputId": "3a48b29e-2e69-4801-9195-07fb3632ba85"
      },
      "execution_count": null,
      "outputs": [
        {
          "output_type": "stream",
          "name": "stdout",
          "text": [
            "24/24 [==============================] - 0s 3ms/step\n"
          ]
        }
      ]
    },
    {
      "cell_type": "code",
      "source": [
        "# Calculate results\n",
        "model_5_seq_results= calculate_results(y_true=val_target, y_pred=model_5_seq_pred)\n",
        "model_5_seq_results"
      ],
      "metadata": {
        "colab": {
          "base_uri": "https://localhost:8080/"
        },
        "id": "j5vbRGSHS6RS",
        "outputId": "aaabc43b-6c63-4660-bd17-6c897471e68d"
      },
      "execution_count": null,
      "outputs": [
        {
          "output_type": "execute_result",
          "data": {
            "text/plain": [
              "{'accuracy': 75.19685039370079,\n",
              " 'precision': 0.7510902920793296,\n",
              " 'recall': 0.7519685039370079,\n",
              " 'f1': 0.7508333353554226}"
            ]
          },
          "metadata": {},
          "execution_count": 95
        }
      ]
    },
    {
      "cell_type": "markdown",
      "source": [
        "#### Functional API"
      ],
      "metadata": {
        "id": "nUz_JwB-Sm28"
      }
    },
    {
      "cell_type": "markdown",
      "source": [
        "##### Embedding Layer"
      ],
      "metadata": {
        "id": "3E7nh7ZsSrIp"
      }
    },
    {
      "cell_type": "code",
      "source": [
        "import tensorflow as tf\n",
        "from tensorflow.keras import layers\n",
        "\n",
        "embedding_layer_conv1d2= layers.Embedding(input_dim=max_vocab_length\n",
        "                                          ,output_dim=128\n",
        "                                          ,input_length=max_length)"
      ],
      "metadata": {
        "id": "yMyIHoAdS_xs"
      },
      "execution_count": null,
      "outputs": []
    },
    {
      "cell_type": "markdown",
      "source": [
        "##### Build, Train and Evaluate Model"
      ],
      "metadata": {
        "id": "NOYlH9yASwCy"
      }
    },
    {
      "cell_type": "code",
      "source": [
        "# Build the model\n",
        "inputs= layers.Input(shape=(1,), dtype=\"string\")\n",
        "x= text_vectorizer(inputs)\n",
        "x= embedding_layer(x)\n",
        "x= layers.Conv1D(filters=32,kernel_size=5,activation=\"relu\")(x)\n",
        "x= layers.GlobalMaxPool1D()(x)\n",
        "outputs= layers.Dense(1,activation=\"sigmoid\")(x)\n",
        "model_5_func= tf.keras.Model(inputs=inputs\n",
        "                             ,outputs=outputs\n",
        "                             ,name=\"model_5_func_conv1d\")\n",
        "\n",
        "model_5_func.compile(loss=tf.keras.losses.binary_crossentropy\n",
        "                     ,optimizer=tf.keras.optimizers.Adam()\n",
        "                     ,metrics=[\"accuracy\"])\n",
        "\n",
        "model_5_func.summary()"
      ],
      "metadata": {
        "colab": {
          "base_uri": "https://localhost:8080/"
        },
        "id": "vVRv8A10TCGH",
        "outputId": "7e4d26be-5f31-4cab-cc96-c6360976d10a"
      },
      "execution_count": null,
      "outputs": [
        {
          "output_type": "stream",
          "name": "stdout",
          "text": [
            "Model: \"model_5_func_conv1d\"\n",
            "_________________________________________________________________\n",
            " Layer (type)                Output Shape              Param #   \n",
            "=================================================================\n",
            " input_10 (InputLayer)       [(None, 1)]               0         \n",
            "                                                                 \n",
            " text_vectorization (TextVec  (None, 15)               0         \n",
            " torization)                                                     \n",
            "                                                                 \n",
            " embedding_1 (Embedding)     (None, 15, 128)           1280000   \n",
            "                                                                 \n",
            " conv1d_1 (Conv1D)           (None, 11, 32)            20512     \n",
            "                                                                 \n",
            " global_max_pooling1d_1 (Glo  (None, 32)               0         \n",
            " balMaxPooling1D)                                                \n",
            "                                                                 \n",
            " dense_8 (Dense)             (None, 1)                 33        \n",
            "                                                                 \n",
            "=================================================================\n",
            "Total params: 1,300,545\n",
            "Trainable params: 1,300,545\n",
            "Non-trainable params: 0\n",
            "_________________________________________________________________\n"
          ]
        }
      ]
    },
    {
      "cell_type": "code",
      "source": [
        "# Train the model\n",
        "model_5_func_hist= model_5_func.fit(train_sent,train_target\n",
        "                                    ,validation_data=(val_sent,val_target)\n",
        "                                    ,epochs=3)"
      ],
      "metadata": {
        "colab": {
          "base_uri": "https://localhost:8080/"
        },
        "id": "gPogMYKYTB6r",
        "outputId": "5632c11c-d1a3-4b8d-a03d-9b1a8dcd10f0"
      },
      "execution_count": null,
      "outputs": [
        {
          "output_type": "stream",
          "name": "stdout",
          "text": [
            "Epoch 1/3\n",
            "215/215 [==============================] - 6s 21ms/step - loss: 0.2964 - accuracy: 0.8829 - val_loss: 0.5539 - val_accuracy: 0.7782\n",
            "Epoch 2/3\n",
            "215/215 [==============================] - 5s 24ms/step - loss: 0.2247 - accuracy: 0.9111 - val_loss: 0.5978 - val_accuracy: 0.7598\n",
            "Epoch 3/3\n",
            "215/215 [==============================] - 4s 19ms/step - loss: 0.1692 - accuracy: 0.9349 - val_loss: 0.6697 - val_accuracy: 0.7730\n"
          ]
        }
      ]
    },
    {
      "cell_type": "code",
      "source": [
        "# Evaluate model\n",
        "model_5_func.evaluate(val_sent,val_target)"
      ],
      "metadata": {
        "colab": {
          "base_uri": "https://localhost:8080/"
        },
        "id": "weFw_Vn2TBv4",
        "outputId": "3b00f8db-61d1-4f91-8362-ad263efc6260"
      },
      "execution_count": null,
      "outputs": [
        {
          "output_type": "stream",
          "name": "stdout",
          "text": [
            "24/24 [==============================] - 0s 3ms/step - loss: 0.6697 - accuracy: 0.7730\n"
          ]
        },
        {
          "output_type": "execute_result",
          "data": {
            "text/plain": [
              "[0.6697019934654236, 0.7729659080505371]"
            ]
          },
          "metadata": {},
          "execution_count": 69
        }
      ]
    },
    {
      "cell_type": "code",
      "source": [
        "# Predict\n",
        "model_5_func_pred_proba= model_5_func.predict(val_sent)\n",
        "model_5_func_pred= tf.squeeze(tf.round(model_5_func_pred_proba))"
      ],
      "metadata": {
        "colab": {
          "base_uri": "https://localhost:8080/"
        },
        "id": "lkj00iLKTBlD",
        "outputId": "b42ac384-b2bc-4a52-a749-03be780227fd"
      },
      "execution_count": null,
      "outputs": [
        {
          "output_type": "stream",
          "name": "stdout",
          "text": [
            "24/24 [==============================] - 0s 3ms/step\n"
          ]
        }
      ]
    },
    {
      "cell_type": "code",
      "source": [
        "# Calculate results\n",
        "model_5_func_results= calculate_results(y_true=val_target,y_pred=model_5_func_pred)\n",
        "model_5_func_results"
      ],
      "metadata": {
        "colab": {
          "base_uri": "https://localhost:8080/"
        },
        "id": "GDa1L2jDS0Wx",
        "outputId": "3248e44b-4682-436f-89e5-afd9ae3dc420"
      },
      "execution_count": null,
      "outputs": [
        {
          "output_type": "execute_result",
          "data": {
            "text/plain": [
              "{'accuracy': 77.29658792650919,\n",
              " 'precision': 0.7724168295590069,\n",
              " 'recall': 0.7729658792650919,\n",
              " 'f1': 0.771700874480935}"
            ]
          },
          "metadata": {},
          "execution_count": 96
        }
      ]
    },
    {
      "cell_type": "markdown",
      "source": [
        "### Pretrained Embedding"
      ],
      "metadata": {
        "id": "4V1wzw48YFYA"
      }
    },
    {
      "cell_type": "markdown",
      "source": [
        "#### Sequential API"
      ],
      "metadata": {
        "id": "qA_KjoXUZf8z"
      }
    },
    {
      "cell_type": "markdown",
      "source": [
        "##### Embedding layer"
      ],
      "metadata": {
        "id": "xAwKHN42Z6y_"
      }
    },
    {
      "cell_type": "code",
      "source": [
        "import tensorflow as tf\n",
        "from tensorflow.keras import layers\n",
        "import tensorflow_hub as hub\n",
        "use_embedding= hub.load(\"https://tfhub.dev/google/universal-sentence-encoder/4\")\n",
        "embedding_layer_pretrained= hub.KerasLayer(handle=\"https://tfhub.dev/google/universal-sentence-encoder/4\"\n",
        "                                ,trainable=False\n",
        "                                ,input_shape=[]\n",
        "                                ,dtype=tf.string\n",
        "                                ,name=\"USE\")"
      ],
      "metadata": {
        "id": "ho-abc5GaUkB"
      },
      "execution_count": null,
      "outputs": []
    },
    {
      "cell_type": "markdown",
      "source": [
        "##### Build, Train & Evaluate Model"
      ],
      "metadata": {
        "id": "-DMVG6hnZ9Qi"
      }
    },
    {
      "cell_type": "code",
      "source": [
        "# Build model\n",
        "model_6_seq= tf.keras.Sequential([\n",
        "    embedding_layer_pretrained\n",
        "    ,layers.Dense(64,activation=\"relu\")\n",
        "    ,layers.Dense(1,activation=\"relu\")\n",
        "])\n",
        "\n",
        "model_6_seq.compile(loss=tf.keras.losses.binary_crossentropy\n",
        "                    ,optimizer=tf.keras.optimizers.Adam()\n",
        "                    ,metrics=[\"accuracy\"])\n",
        "\n",
        "model_6_seq.summary()"
      ],
      "metadata": {
        "colab": {
          "base_uri": "https://localhost:8080/"
        },
        "id": "uUDfKNxsaToD",
        "outputId": "7988ccbf-3094-48ff-cafd-ff18544ce973"
      },
      "execution_count": null,
      "outputs": [
        {
          "output_type": "stream",
          "name": "stdout",
          "text": [
            "Model: \"sequential_7\"\n",
            "_________________________________________________________________\n",
            " Layer (type)                Output Shape              Param #   \n",
            "=================================================================\n",
            " USE (KerasLayer)            (None, 512)               256797824 \n",
            "                                                                 \n",
            " dense_15 (Dense)            (None, 64)                32832     \n",
            "                                                                 \n",
            " dense_16 (Dense)            (None, 1)                 65        \n",
            "                                                                 \n",
            "=================================================================\n",
            "Total params: 256,830,721\n",
            "Trainable params: 32,897\n",
            "Non-trainable params: 256,797,824\n",
            "_________________________________________________________________\n"
          ]
        }
      ]
    },
    {
      "cell_type": "code",
      "source": [
        "# Train model\n",
        "model_6_seq_hist= model_6_seq.fit(train_sent,train_target\n",
        "                                  ,validation_data=(val_sent,val_target)\n",
        "                                  ,epochs=3)"
      ],
      "metadata": {
        "colab": {
          "base_uri": "https://localhost:8080/"
        },
        "id": "pkygBYCJaTX5",
        "outputId": "a01e58d6-d808-464c-87f4-3869a3dcd1c3"
      },
      "execution_count": null,
      "outputs": [
        {
          "output_type": "stream",
          "name": "stdout",
          "text": [
            "Epoch 1/3\n",
            "215/215 [==============================] - 7s 15ms/step - loss: 0.6004 - accuracy: 0.7559 - val_loss: 0.4740 - val_accuracy: 0.7795\n",
            "Epoch 2/3\n",
            "215/215 [==============================] - 3s 13ms/step - loss: 0.5609 - accuracy: 0.7619 - val_loss: 0.5024 - val_accuracy: 0.7572\n",
            "Epoch 3/3\n",
            "215/215 [==============================] - 3s 13ms/step - loss: 0.4507 - accuracy: 0.8057 - val_loss: 0.4624 - val_accuracy: 0.8241\n"
          ]
        }
      ]
    },
    {
      "cell_type": "code",
      "source": [
        "# Evaluate\n",
        "model_6_seq.evaluate(val_sent,val_target)"
      ],
      "metadata": {
        "colab": {
          "base_uri": "https://localhost:8080/"
        },
        "id": "4Nnp91blaTGB",
        "outputId": "0ac2382f-be17-46b0-d278-a1de94359008"
      },
      "execution_count": null,
      "outputs": [
        {
          "output_type": "stream",
          "name": "stdout",
          "text": [
            "24/24 [==============================] - 1s 31ms/step - loss: 0.4624 - accuracy: 0.8241\n"
          ]
        },
        {
          "output_type": "execute_result",
          "data": {
            "text/plain": [
              "[0.4623833894729614, 0.8241469860076904]"
            ]
          },
          "metadata": {},
          "execution_count": 121
        }
      ]
    },
    {
      "cell_type": "code",
      "source": [
        "# Predict\n",
        "model_6_seq_pred_proba= model_6_seq.predict(val_sent)\n",
        "model_6_seq_preds= tf.squeeze(tf.round(model_6_seq_pred_proba))"
      ],
      "metadata": {
        "colab": {
          "base_uri": "https://localhost:8080/"
        },
        "id": "1gpuh4g3aSey",
        "outputId": "ed7eb7d1-2aa2-408e-f2bb-7c0168f2082b"
      },
      "execution_count": null,
      "outputs": [
        {
          "output_type": "stream",
          "name": "stdout",
          "text": [
            "24/24 [==============================] - 1s 18ms/step\n"
          ]
        }
      ]
    },
    {
      "cell_type": "code",
      "source": [
        "# Calculate Result\n",
        "model_6_seq_results= calculate_results(y_true=val_target,y_pred=model_6_seq_preds)\n",
        "model_6_seq_results"
      ],
      "metadata": {
        "colab": {
          "base_uri": "https://localhost:8080/"
        },
        "id": "ddD8MxmvaSIp",
        "outputId": "40c7c7a4-35c5-4589-9632-1fec30900792"
      },
      "execution_count": null,
      "outputs": [
        {
          "output_type": "stream",
          "name": "stderr",
          "text": [
            "/usr/local/lib/python3.10/dist-packages/sklearn/metrics/_classification.py:1344: UndefinedMetricWarning: Recall and F-score are ill-defined and being set to 0.0 in labels with no true samples. Use `zero_division` parameter to control this behavior.\n",
            "  _warn_prf(average, modifier, msg_start, len(result))\n"
          ]
        },
        {
          "output_type": "execute_result",
          "data": {
            "text/plain": [
              "{'accuracy': 82.28346456692913,\n",
              " 'precision': 0.8251182062273564,\n",
              " 'recall': 0.8228346456692913,\n",
              " 'f1': 0.8217872787201989}"
            ]
          },
          "metadata": {},
          "execution_count": 123
        }
      ]
    },
    {
      "cell_type": "markdown",
      "source": [
        "#### Functional Api"
      ],
      "metadata": {
        "id": "9k2GIkVGaD9f"
      }
    },
    {
      "cell_type": "markdown",
      "source": [
        "##### Embedding Layer"
      ],
      "metadata": {
        "id": "pegY_IU4aHDM"
      }
    },
    {
      "cell_type": "code",
      "source": [
        "import tensorflow as tf\n",
        "from tensorflow.keras import layers\n",
        "import tensorflow_hub as hub\n",
        "use_embedding= hub.load(\"https://tfhub.dev/google/universal-sentence-encoder/4\")\n",
        "embedding_layer_pretrained2= hub.KerasLayer(handle=\"https://tfhub.dev/google/universal-sentence-encoder/4\"\n",
        "                                            ,trainable=False\n",
        "                                            ,input_shape=[]\n",
        "                                            ,dtype=tf.string\n",
        "                                            ,name=\"USE_func\")"
      ],
      "metadata": {
        "id": "e_B6LZMeaV_k"
      },
      "execution_count": null,
      "outputs": []
    },
    {
      "cell_type": "markdown",
      "source": [
        "##### Build, Train & Evaluate Model"
      ],
      "metadata": {
        "id": "nS9u8sytaJQC"
      }
    },
    {
      "cell_type": "code",
      "source": [
        "# Build model\n",
        "inputs= layers.Input(shape=[],dtype=\"string\")\n",
        "x= embedding_layer_pretrained2(inputs)\n",
        "x= layers.Dense(64,activation=\"relu\")(x)\n",
        "outputs= layers.Dense(1,activation=\"sigmoid\")(x)\n",
        "model_6_func= tf.keras.Model(inputs= inputs\n",
        "                             ,outputs= outputs\n",
        "                             ,name=\"model_6_func_pretrained_embedding\")\n",
        "\n",
        "model_6_func.compile(loss=tf.keras.losses.binary_crossentropy\n",
        "                     ,optimizer=tf.keras.optimizers.Adam()\n",
        "                     ,metrics=[\"accuracy\"])\n",
        "\n",
        "model_6_func.summary()"
      ],
      "metadata": {
        "colab": {
          "base_uri": "https://localhost:8080/"
        },
        "id": "lbP2sqwqaXnN",
        "outputId": "bbc81cf1-22ba-4d6a-a80c-5f7aa98311fc"
      },
      "execution_count": null,
      "outputs": [
        {
          "output_type": "stream",
          "name": "stdout",
          "text": [
            "Model: \"model_6_func_pretrained_embedding\"\n",
            "_________________________________________________________________\n",
            " Layer (type)                Output Shape              Param #   \n",
            "=================================================================\n",
            " input_12 (InputLayer)       [(None,)]                 0         \n",
            "                                                                 \n",
            " USE_func (KerasLayer)       (None, 512)               256797824 \n",
            "                                                                 \n",
            " dense_17 (Dense)            (None, 64)                32832     \n",
            "                                                                 \n",
            " dense_18 (Dense)            (None, 1)                 65        \n",
            "                                                                 \n",
            "=================================================================\n",
            "Total params: 256,830,721\n",
            "Trainable params: 32,897\n",
            "Non-trainable params: 256,797,824\n",
            "_________________________________________________________________\n"
          ]
        }
      ]
    },
    {
      "cell_type": "code",
      "source": [
        "# Train model\n",
        "model_6_func_hist= model_6_func.fit(train_sent,train_target\n",
        "                                    ,validation_data=(val_sent,val_target)\n",
        "                                    ,epochs=3)\n"
      ],
      "metadata": {
        "id": "FGrQoJz2aXc8",
        "colab": {
          "base_uri": "https://localhost:8080/"
        },
        "outputId": "2dc752d5-6db2-482d-992f-65b3e084dd46"
      },
      "execution_count": null,
      "outputs": [
        {
          "output_type": "stream",
          "name": "stdout",
          "text": [
            "Epoch 1/3\n",
            "215/215 [==============================] - 7s 19ms/step - loss: 0.5138 - accuracy: 0.7813 - val_loss: 0.4283 - val_accuracy: 0.8031\n",
            "Epoch 2/3\n",
            "215/215 [==============================] - 3s 13ms/step - loss: 0.4198 - accuracy: 0.8139 - val_loss: 0.4094 - val_accuracy: 0.8163\n",
            "Epoch 3/3\n",
            "215/215 [==============================] - 3s 13ms/step - loss: 0.4055 - accuracy: 0.8206 - val_loss: 0.4027 - val_accuracy: 0.8176\n"
          ]
        }
      ]
    },
    {
      "cell_type": "code",
      "source": [
        "# Evaluate model\n",
        "model_6_func.evaluate(val_sent,val_target)"
      ],
      "metadata": {
        "id": "HIWiRuvYaXSZ",
        "colab": {
          "base_uri": "https://localhost:8080/"
        },
        "outputId": "ec5fe2b0-397e-4dfd-80ef-c551001b3f3b"
      },
      "execution_count": null,
      "outputs": [
        {
          "output_type": "stream",
          "name": "stdout",
          "text": [
            "24/24 [==============================] - 0s 11ms/step - loss: 0.4027 - accuracy: 0.8176\n"
          ]
        },
        {
          "output_type": "execute_result",
          "data": {
            "text/plain": [
              "[0.40271392464637756, 0.817585289478302]"
            ]
          },
          "metadata": {},
          "execution_count": 128
        }
      ]
    },
    {
      "cell_type": "code",
      "source": [
        "# Predict\n",
        "model_6_func_pred_proba=model_6_func.predict(val_sent)\n",
        "model_6_func_pred= tf.squeeze(tf.round(model_6_func_pred_proba))"
      ],
      "metadata": {
        "id": "Hz0h9YFDaXGo",
        "colab": {
          "base_uri": "https://localhost:8080/"
        },
        "outputId": "ab66e190-94e7-4153-c549-ec02a9361135"
      },
      "execution_count": null,
      "outputs": [
        {
          "output_type": "stream",
          "name": "stdout",
          "text": [
            "24/24 [==============================] - 1s 11ms/step\n"
          ]
        }
      ]
    },
    {
      "cell_type": "code",
      "source": [
        "# Calculate Result\n",
        "model_6_func_results= calculate_results(y_true=val_target,y_pred=model_6_func_pred)\n",
        "model_6_func_results"
      ],
      "metadata": {
        "id": "kcMtBB0raN0Y",
        "colab": {
          "base_uri": "https://localhost:8080/"
        },
        "outputId": "2e8efcb2-2a09-46d1-adc2-ffe07c558656"
      },
      "execution_count": null,
      "outputs": [
        {
          "output_type": "execute_result",
          "data": {
            "text/plain": [
              "{'accuracy': 81.75853018372703,\n",
              " 'precision': 0.8174373223875417,\n",
              " 'recall': 0.8175853018372703,\n",
              " 'f1': 0.8167504424042527}"
            ]
          },
          "metadata": {},
          "execution_count": 130
        }
      ]
    },
    {
      "cell_type": "markdown",
      "source": [
        "### Compare Models"
      ],
      "metadata": {
        "id": "Cp6U_7KloXy3"
      }
    },
    {
      "cell_type": "code",
      "source": [
        "all_model_results= pd.DataFrame({\n",
        "    \"baseline\":baseline_results\n",
        "    ,\"model_1_seq\": model_1_seq_results\n",
        "    ,\"model_1_func\": model_1_func_results\n",
        "    ,\"model_2_seq\": model_2_seq_results\n",
        "    ,\"model_2_func\": model_2_func_results\n",
        "    ,\"model_3_seq\": model_3_seq_results\n",
        "    ,\"model_3_func\": model_3_func_results\n",
        "    ,\"model_4_seq\": model_4_seq_results\n",
        "    ,\"model_4_func\": model_4_func_results\n",
        "    ,\"model_5_seq\": model_5_seq_results\n",
        "    ,\"model_5_func\": model_5_func_results\n",
        "    ,\"model_6_seq\": model_6_seq_results\n",
        "    ,\"model_6_func\": model_6_func_results\n",
        "})\n",
        "all_model_results= all_model_results.transpose()\n",
        "all_model_results[\"accuracy\"]= all_model_results[\"accuracy\"]/100\n",
        "all_model_results.plot(kind=\"bar\", figsize=(10, 7)).legend(bbox_to_anchor=(1.0, 1.0));"
      ],
      "metadata": {
        "colab": {
          "base_uri": "https://localhost:8080/",
          "height": 681
        },
        "id": "ZyqnLOBRoeAJ",
        "outputId": "36fd7eec-db37-434b-96af-d00dc38a16d1"
      },
      "execution_count": null,
      "outputs": [
        {
          "output_type": "display_data",
          "data": {
            "text/plain": [
              "<Figure size 1000x700 with 1 Axes>"
            ],
            "image/png": "[encoded data removed]"
          },
          "metadata": {}
        }
      ]
    },
    {
      "cell_type": "markdown",
      "source": [
        "### Saving and Load Model"
      ],
      "metadata": {
        "id": "LdsvVTSSpMo9"
      }
    },
    {
      "cell_type": "code",
      "source": [
        "# save model in .h5 format\n",
        "model_6_seq.save(\"pretrained_embedding_model.h5\")"
      ],
      "metadata": {
        "id": "EvN0RxS4qXZs"
      },
      "execution_count": null,
      "outputs": []
    },
    {
      "cell_type": "code",
      "source": [
        "loaded_model_6_seq= tf.keras.models.load_model(\"pretrained_embedding_model.h5\",\n",
        "                                        custom_objects={\"KerasLayer\":hub.KerasLayer})"
      ],
      "metadata": {
        "id": "KNPM6T67rFc8"
      },
      "execution_count": null,
      "outputs": []
    },
    {
      "cell_type": "code",
      "source": [
        "# Evaluate loaded model\n",
        "loaded_model_6_seq.evaluate(val_sent,val_target)"
      ],
      "metadata": {
        "id": "0k9IULThteeb"
      },
      "execution_count": null,
      "outputs": []
    }
  ]
}