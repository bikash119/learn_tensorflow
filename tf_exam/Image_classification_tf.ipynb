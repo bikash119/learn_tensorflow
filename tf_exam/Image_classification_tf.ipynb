{
  "nbformat": 4,
  "nbformat_minor": 0,
  "metadata": {
    "colab": {
      "provenance": [],
      "authorship_tag": "ABX9TyM06g0RHtvc1b/Yy/8p9Wst",
      "include_colab_link": true
    },
    "kernelspec": {
      "name": "python3",
      "display_name": "Python 3"
    },
    "language_info": {
      "name": "python"
    }
  },
  "cells": [
    {
      "cell_type": "markdown",
      "metadata": {
        "id": "view-in-github",
        "colab_type": "text"
      },
      "source": [
        "<a href=\"https://colab.research.google.com/github/bikash119/learn_tensorflow/blob/main/tf_exam/Image_classification_tf.ipynb\" target=\"_parent\"><img src=\"https://colab.research.google.com/assets/colab-badge.svg\" alt=\"Open In Colab\"/></a>"
      ]
    },
    {
      "cell_type": "markdown",
      "source": [
        "# Image Classification [ MultiClass Classification: Train NN from Sratch]"
      ],
      "metadata": {
        "id": "jyaJi03li5Pv"
      }
    },
    {
      "cell_type": "markdown",
      "source": [
        "## Load Data"
      ],
      "metadata": {
        "id": "qNI7mx0ekAii"
      }
    },
    {
      "cell_type": "markdown",
      "source": [
        "### Import Statements"
      ],
      "metadata": {
        "id": "onRQCMq8lEaj"
      }
    },
    {
      "cell_type": "code",
      "source": [
        "import tensorflow as tf\n",
        "import random\n",
        "import datetime\n",
        "from tensorflow.keras import layers\n",
        "import pandas as pd\n",
        "import numpy as np"
      ],
      "metadata": {
        "id": "rATz6tRokwH-"
      },
      "execution_count": 1,
      "outputs": []
    },
    {
      "cell_type": "markdown",
      "source": [
        "### Load data from tfds.dataset"
      ],
      "metadata": {
        "id": "D3fkGAIglB1n"
      }
    },
    {
      "cell_type": "markdown",
      "source": [
        "## Build and Compile Model"
      ],
      "metadata": {
        "id": "4CCyJk-LkEIq"
      }
    },
    {
      "cell_type": "markdown",
      "source": [
        "## Train with callbacks"
      ],
      "metadata": {
        "id": "9DV-_gVckGqB"
      }
    },
    {
      "cell_type": "markdown",
      "source": [
        "## Save Model"
      ],
      "metadata": {
        "id": "d5XeH1xBkK5y"
      }
    },
    {
      "cell_type": "markdown",
      "source": [
        "## Evaluate Model"
      ],
      "metadata": {
        "id": "1E8T1Ho9kNkp"
      }
    },
    {
      "cell_type": "markdown",
      "source": [
        "## Perform Prediction"
      ],
      "metadata": {
        "id": "duFFI35KkPS3"
      }
    },
    {
      "cell_type": "code",
      "source": [],
      "metadata": {
        "id": "qdds3egVkRtv"
      },
      "execution_count": null,
      "outputs": []
    },
    {
      "cell_type": "markdown",
      "source": [
        "# Image Classification [ MultiClass Classification: Transfer Learning]"
      ],
      "metadata": {
        "id": "f13bGxhbkaEx"
      }
    },
    {
      "cell_type": "markdown",
      "source": [
        "## Load Data"
      ],
      "metadata": {
        "id": "ReHKZuLpkaEy"
      }
    },
    {
      "cell_type": "markdown",
      "source": [
        "## Build and Compile Model"
      ],
      "metadata": {
        "id": "gbp1746IkaEy"
      }
    },
    {
      "cell_type": "markdown",
      "source": [
        "## Train with callbacks"
      ],
      "metadata": {
        "id": "F4ZmhnmykaEy"
      }
    },
    {
      "cell_type": "markdown",
      "source": [
        "## Save Model"
      ],
      "metadata": {
        "id": "lBHxXWLNkaEy"
      }
    },
    {
      "cell_type": "markdown",
      "source": [
        "## Evaluate Model"
      ],
      "metadata": {
        "id": "Lwi2xpSQkaEy"
      }
    },
    {
      "cell_type": "markdown",
      "source": [
        "## Perform Prediction"
      ],
      "metadata": {
        "id": "ooQ7TgSPkaEy"
      }
    },
    {
      "cell_type": "code",
      "source": [],
      "metadata": {
        "id": "ceYP-LRgkaEy"
      },
      "execution_count": null,
      "outputs": []
    }
  ]
}