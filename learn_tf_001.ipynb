{
  "nbformat": 4,
  "nbformat_minor": 0,
  "metadata": {
    "colab": {
      "provenance": [],
      "gpuType": "T4",
      "authorship_tag": "ABX9TyPeQd3fa34XpmFtw/YFnGJf",
      "include_colab_link": true
    },
    "kernelspec": {
      "name": "python3",
      "display_name": "Python 3"
    },
    "language_info": {
      "name": "python"
    },
    "accelerator": "GPU"
  },
  "cells": [
    {
      "cell_type": "markdown",
      "metadata": {
        "id": "view-in-github",
        "colab_type": "text"
      },
      "source": [
        "<a href=\"https://colab.research.google.com/github/bikash119/learn_tensorflow/blob/main/learn_tf_001.ipynb\" target=\"_parent\"><img src=\"https://colab.research.google.com/assets/colab-badge.svg\" alt=\"Open In Colab\"/></a>"
      ]
    },
    {
      "cell_type": "markdown",
      "source": [
        "Learning outcome\n",
        "1. Understand and play with tensors.\n",
        "2. Make my Feet wet with Tensorflow.\n",
        "3. Manipulating tensors and fix / understand any errors on the way.\n",
        "4. Using `@tf.function`"
      ],
      "metadata": {
        "id": "pk2mbou02NCN"
      }
    },
    {
      "cell_type": "code",
      "execution_count": 1,
      "metadata": {
        "colab": {
          "base_uri": "https://localhost:8080/"
        },
        "id": "IKcFuuAM0JOZ",
        "outputId": "51573146-0f6d-49cf-f3b6-fe73830f84b9"
      },
      "outputs": [
        {
          "output_type": "stream",
          "name": "stdout",
          "text": [
            " Current version of tensorflow : 2.12.0\n"
          ]
        }
      ],
      "source": [
        "import tensorflow as tf\n",
        "\n",
        "print(f\" Current version of tensorflow : {tf.__version__}\")"
      ]
    },
    {
      "cell_type": "code",
      "source": [
        "# Create a scalar ( Rank 0 tensor)\n",
        "scalar = tf.constant(7)\n",
        "print(f\" Scalar value : {scalar}\")\n",
        "print(f\" Shape of the scalar value : {scalar.shape}\")\n",
        "print(f\" Number of dimensions in scalar : {scalar.ndim}\")"
      ],
      "metadata": {
        "colab": {
          "base_uri": "https://localhost:8080/"
        },
        "id": "P1Vua7AM28Vq",
        "outputId": "2dd58985-d3d7-488a-86cf-61f7d04df90e"
      },
      "execution_count": 2,
      "outputs": [
        {
          "output_type": "stream",
          "name": "stdout",
          "text": [
            " Scalar value : 7\n",
            " Shape of the scalar value : ()\n",
            " Number of dimensions in scalar : 0\n"
          ]
        }
      ]
    },
    {
      "cell_type": "code",
      "source": [
        "# create a vector\n",
        "vector = tf.constant([10\n",
        "                     ,10])\n",
        "print(f\" vector value : {vector}\")\n",
        "print(f\" Shape of the vector value : {vector.shape}\")\n",
        "print(f\" Number of dimensions in vector : {vector.ndim}\")"
      ],
      "metadata": {
        "colab": {
          "base_uri": "https://localhost:8080/"
        },
        "id": "KWhQrjBx3Th4",
        "outputId": "fb991ca0-3c96-442f-e1dd-338d870cc605"
      },
      "execution_count": 3,
      "outputs": [
        {
          "output_type": "stream",
          "name": "stdout",
          "text": [
            " vector value : [10 10]\n",
            " Shape of the vector value : (2,)\n",
            " Number of dimensions in vector : 1\n"
          ]
        }
      ]
    },
    {
      "cell_type": "code",
      "source": [
        "# create a matrix\n",
        "matrix = tf.constant([\n",
        "                      [10,10]\n",
        "                     ,[20,20]\n",
        "                     ,[20,20]])\n",
        "print(f\" matrix value : {matrix}\")\n",
        "print(f\" Shape of the matrix value : {matrix.shape}\")\n",
        "print(f\" Number of dimensions in matrix : {matrix.ndim}\")"
      ],
      "metadata": {
        "colab": {
          "base_uri": "https://localhost:8080/"
        },
        "id": "HDNLrXWc4m3A",
        "outputId": "14650d20-4ebc-4c12-f2de-82b3f4b15cba"
      },
      "execution_count": 4,
      "outputs": [
        {
          "output_type": "stream",
          "name": "stdout",
          "text": [
            " matrix value : [[10 10]\n",
            " [20 20]\n",
            " [20 20]]\n",
            " Shape of the matrix value : (3, 2)\n",
            " Number of dimensions in matrix : 2\n"
          ]
        }
      ]
    },
    {
      "cell_type": "code",
      "source": [
        "_3d_matrix = tf.constant([\n",
        "                           [[10,10,10,10],[10,10,10,10]]\n",
        "                          ,[[20,20,20,20],[20,20,20,20]]\n",
        "                          ,[[30,30,30,30],[30,30,30,30]]\n",
        "                        ])\n",
        "print(f\" _3d_matrix value : {_3d_matrix}\")\n",
        "print(f\" Shape of the _3d_matrix value : {_3d_matrix.shape}\")\n",
        "print(f\" Number of dimensions in _3d_matrix : {_3d_matrix.ndim}\")"
      ],
      "metadata": {
        "colab": {
          "base_uri": "https://localhost:8080/"
        },
        "id": "XngKpuYr5tiS",
        "outputId": "4e45c390-aec3-45e8-e9d7-c721bdb3c81e"
      },
      "execution_count": 5,
      "outputs": [
        {
          "output_type": "stream",
          "name": "stdout",
          "text": [
            " _3d_matrix value : [[[10 10 10 10]\n",
            "  [10 10 10 10]]\n",
            "\n",
            " [[20 20 20 20]\n",
            "  [20 20 20 20]]\n",
            "\n",
            " [[30 30 30 30]\n",
            "  [30 30 30 30]]]\n",
            " Shape of the _3d_matrix value : (3, 2, 4)\n",
            " Number of dimensions in _3d_matrix : 3\n"
          ]
        }
      ]
    },
    {
      "cell_type": "markdown",
      "source": [
        "Similartity and difference between `tf.Variable()` and `tf.constant()`"
      ],
      "metadata": {
        "id": "sVq_YD93ACy3"
      }
    },
    {
      "cell_type": "code",
      "source": [
        "# Create a scalar ( Rank 0 tensor)\n",
        "const_scalar = tf.constant(7)\n",
        "print(f\" Scalar value : {const_scalar}\")\n",
        "print(f\" Shape of the scalar value : {const_scalar.shape}\")\n",
        "print(f\" Number of dimensions in scalar : {const_scalar.ndim}\")\n",
        "\n",
        "var_scalar = tf.Variable(7)\n",
        "print(f\" Scalar value : {var_scalar}\")\n",
        "print(f\" Shape of the scalar value : {var_scalar.shape}\")\n",
        "#print(f\" Number of dimensions in scalar : {var_scalar.ndim}\")\n",
        "print(f\" *\"*50,sep=\"\\n\")\n",
        "# create a vector\n",
        "const_vector = tf.constant([10\n",
        "                     ,10])\n",
        "print(f\" vector value : {const_vector}\")\n",
        "print(f\" Shape of the vector value : {const_vector.shape}\")\n",
        "print(f\" Number of dimensions in vector : {const_vector.ndim}\")\n",
        "\n",
        "var_vector = tf.Variable([10\n",
        "                     ,10])\n",
        "print(f\" vector value : {var_vector}\")\n",
        "print(f\" Shape of the vector value : {var_vector.shape}\")\n",
        "#print(f\" Number of dimensions in vector : {var_vector.ndim}\")\n",
        "print(f\" *\"*50,sep=\"\\n\")\n",
        "# create a matrix\n",
        "const_matrix = tf.constant([\n",
        "                      [10,10]\n",
        "                     ,[20,20]\n",
        "                     ,[20,20]])\n",
        "print(f\" matrix value : {const_matrix}\")\n",
        "print(f\" Shape of the matrix value : {const_matrix.shape}\")\n",
        "print(f\" Number of dimensions in matrix : {const_matrix.ndim}\")\n",
        "\n",
        "var_matrix = tf.Variable([\n",
        "                      [10,10]\n",
        "                     ,[20,20]\n",
        "                     ,[20,20]])\n",
        "print(f\" matrix value : {var_matrix}\")\n",
        "print(f\" Shape of the matrix value : {var_matrix.shape}\")\n",
        "#print(f\" Number of dimensions in matrix : {var_matrix.ndim}\")\n",
        "print(f\" *\"*50,sep=\"\\n\")\n",
        "const_3d_matrix = tf.constant([\n",
        "                           [[10,10,10,10],[10,10,10,10]]\n",
        "                          ,[[20,20,20,20],[20,20,20,20]]\n",
        "                          ,[[30,30,30,30],[30,30,30,30]]\n",
        "                        ])\n",
        "print(f\" _3d_matrix value : {_3d_matrix}\")\n",
        "print(f\" Shape of the _3d_matrix value : {_3d_matrix.shape}\")\n",
        "print(f\" Number of dimensions in _3d_matrix : {_3d_matrix.ndim}\")\n",
        "print(f\" Number of dimensions in _3d_matrix : {tf.size(_3d_matrix)}\")\n",
        "\n",
        "var_3d_matrix = tf.Variable([\n",
        "                           [[10,10,10,10],[10,10,10,10]]\n",
        "                          ,[[20,20,20,20],[20,20,20,20]]\n",
        "                          ,[[30,30,30,30],[30,30,30,30]]\n",
        "                        ])\n",
        "print(f\" _3d_matrix value : {var_3d_matrix}\")\n",
        "print(f\" Shape of the _3d_matrix value : {var_3d_matrix.shape}\")\n",
        "print(f\" Number of dimensions in _3d_matrix : {tf.size(var_3d_matrix)}\")\n",
        "print(f\" *\"*50,sep=\"\\n\")"
      ],
      "metadata": {
        "colab": {
          "base_uri": "https://localhost:8080/"
        },
        "id": "zUPKXhea9ujz",
        "outputId": "04b309d4-5cc9-4f44-add1-b4b81a3fcf5f"
      },
      "execution_count": 6,
      "outputs": [
        {
          "output_type": "stream",
          "name": "stdout",
          "text": [
            " Scalar value : 7\n",
            " Shape of the scalar value : ()\n",
            " Number of dimensions in scalar : 0\n",
            " Scalar value : <tf.Variable 'Variable:0' shape=() dtype=int32, numpy=7>\n",
            " Shape of the scalar value : ()\n",
            " * * * * * * * * * * * * * * * * * * * * * * * * * * * * * * * * * * * * * * * * * * * * * * * * * *\n",
            " vector value : [10 10]\n",
            " Shape of the vector value : (2,)\n",
            " Number of dimensions in vector : 1\n",
            " vector value : <tf.Variable 'Variable:0' shape=(2,) dtype=int32, numpy=array([10, 10], dtype=int32)>\n",
            " Shape of the vector value : (2,)\n",
            " * * * * * * * * * * * * * * * * * * * * * * * * * * * * * * * * * * * * * * * * * * * * * * * * * *\n",
            " matrix value : [[10 10]\n",
            " [20 20]\n",
            " [20 20]]\n",
            " Shape of the matrix value : (3, 2)\n",
            " Number of dimensions in matrix : 2\n",
            " matrix value : <tf.Variable 'Variable:0' shape=(3, 2) dtype=int32, numpy=\n",
            "array([[10, 10],\n",
            "       [20, 20],\n",
            "       [20, 20]], dtype=int32)>\n",
            " Shape of the matrix value : (3, 2)\n",
            " * * * * * * * * * * * * * * * * * * * * * * * * * * * * * * * * * * * * * * * * * * * * * * * * * *\n",
            " _3d_matrix value : [[[10 10 10 10]\n",
            "  [10 10 10 10]]\n",
            "\n",
            " [[20 20 20 20]\n",
            "  [20 20 20 20]]\n",
            "\n",
            " [[30 30 30 30]\n",
            "  [30 30 30 30]]]\n",
            " Shape of the _3d_matrix value : (3, 2, 4)\n",
            " Number of dimensions in _3d_matrix : 3\n",
            " Number of dimensions in _3d_matrix : 24\n",
            " _3d_matrix value : <tf.Variable 'Variable:0' shape=(3, 2, 4) dtype=int32, numpy=\n",
            "array([[[10, 10, 10, 10],\n",
            "        [10, 10, 10, 10]],\n",
            "\n",
            "       [[20, 20, 20, 20],\n",
            "        [20, 20, 20, 20]],\n",
            "\n",
            "       [[30, 30, 30, 30],\n",
            "        [30, 30, 30, 30]]], dtype=int32)>\n",
            " Shape of the _3d_matrix value : (3, 2, 4)\n",
            " Number of dimensions in _3d_matrix : 24\n",
            " * * * * * * * * * * * * * * * * * * * * * * * * * * * * * * * * * * * * * * * * * * * * * * * * * *\n"
          ]
        }
      ]
    },
    {
      "cell_type": "code",
      "source": [
        "const_scalar[0] = 30"
      ],
      "metadata": {
        "colab": {
          "base_uri": "https://localhost:8080/",
          "height": 171
        },
        "id": "o8Nl860jBT05",
        "outputId": "0971e09e-b76e-4959-cecc-f99f9c02862c"
      },
      "execution_count": 8,
      "outputs": [
        {
          "output_type": "error",
          "ename": "TypeError",
          "evalue": "ignored",
          "traceback": [
            "\u001b[0;31m---------------------------------------------------------------------------\u001b[0m",
            "\u001b[0;31mTypeError\u001b[0m                                 Traceback (most recent call last)",
            "\u001b[0;32m<ipython-input-8-94d2342dc81e>\u001b[0m in \u001b[0;36m<cell line: 1>\u001b[0;34m()\u001b[0m\n\u001b[0;32m----> 1\u001b[0;31m \u001b[0mconst_scalar\u001b[0m\u001b[0;34m[\u001b[0m\u001b[0;36m0\u001b[0m\u001b[0;34m]\u001b[0m \u001b[0;34m=\u001b[0m \u001b[0;36m30\u001b[0m\u001b[0;34m\u001b[0m\u001b[0;34m\u001b[0m\u001b[0m\n\u001b[0m",
            "\u001b[0;31mTypeError\u001b[0m: 'tensorflow.python.framework.ops.EagerTensor' object does not support item assignment"
          ]
        }
      ]
    },
    {
      "cell_type": "code",
      "source": [
        "var_scalar.assign(9)"
      ],
      "metadata": {
        "colab": {
          "base_uri": "https://localhost:8080/"
        },
        "id": "BfSpQ7s7CQcA",
        "outputId": "918c403c-2e75-4e9c-d02a-6d8e1d38dcf7"
      },
      "execution_count": 9,
      "outputs": [
        {
          "output_type": "execute_result",
          "data": {
            "text/plain": [
              "<tf.Variable 'UnreadVariable' shape=() dtype=int32, numpy=9>"
            ]
          },
          "metadata": {},
          "execution_count": 9
        }
      ]
    },
    {
      "cell_type": "markdown",
      "source": [
        "Generate Randome tensors"
      ],
      "metadata": {
        "id": "HEYPG6sJFruh"
      }
    },
    {
      "cell_type": "code",
      "source": [
        "random_gen_1 = tf.random.Generator.from_seed(seed=42)\n",
        "random_gen_2 = tf.random.Generator.from_seed(seed=42)\n",
        "print(f\" Are the generators same: {random_gen_1 == random_gen_2}\")\n",
        "random_tensor_1 = random_gen_1.normal((3,2,4))\n",
        "random_tensor_2 = random_gen_2.normal((3,2,4))\n",
        "\n",
        "print(f\" Are the tensors from 2 generators same : {random_tensor_1 == random_tensor_2}\")\n"
      ],
      "metadata": {
        "colab": {
          "base_uri": "https://localhost:8080/"
        },
        "id": "oHl1KUttFrg6",
        "outputId": "83b9826a-9640-4ab4-be01-871ba7d49667"
      },
      "execution_count": 10,
      "outputs": [
        {
          "output_type": "stream",
          "name": "stdout",
          "text": [
            " Are the generators same: False\n",
            " Are the tensors from 2 generators same : [[[ True  True  True  True]\n",
            "  [ True  True  True  True]]\n",
            "\n",
            " [[ True  True  True  True]\n",
            "  [ True  True  True  True]]\n",
            "\n",
            " [[ True  True  True  True]\n",
            "  [ True  True  True  True]]]\n"
          ]
        }
      ]
    },
    {
      "cell_type": "markdown",
      "source": [
        "Global and operation-level seed\n",
        "`tf.random.set_seed()` sets the global seed, and the `seed` parameter in `tf.random.shuffle(seed=42)` set the operation level seed."
      ],
      "metadata": {
        "id": "70eN2OwSJXP1"
      }
    },
    {
      "cell_type": "code",
      "source": [
        "# Global seed\n",
        "tf.random.set_seed(42)\n",
        "\n",
        "# operation level seed\n",
        "tf.random.shuffle(const_matrix,seed=42)"
      ],
      "metadata": {
        "colab": {
          "base_uri": "https://localhost:8080/"
        },
        "id": "SxoWJujsFibD",
        "outputId": "df7317a6-11e1-4285-95c7-a205f85ad3f6"
      },
      "execution_count": 11,
      "outputs": [
        {
          "output_type": "execute_result",
          "data": {
            "text/plain": [
              "<tf.Tensor: shape=(3, 2), dtype=int32, numpy=\n",
              "array([[10, 10],\n",
              "       [20, 20],\n",
              "       [20, 20]], dtype=int32)>"
            ]
          },
          "metadata": {},
          "execution_count": 11
        }
      ]
    },
    {
      "cell_type": "markdown",
      "source": [
        "Other ways to make tensors"
      ],
      "metadata": {
        "id": "izB7B7J2Kivt"
      }
    },
    {
      "cell_type": "code",
      "source": [
        "tf.ones(dtype=tf.dtypes.int32,shape=(3,2))"
      ],
      "metadata": {
        "colab": {
          "base_uri": "https://localhost:8080/"
        },
        "id": "k1Za7LHFJuvN",
        "outputId": "3b17d8e6-385a-4635-fa71-9f890c90c8a6"
      },
      "execution_count": 12,
      "outputs": [
        {
          "output_type": "execute_result",
          "data": {
            "text/plain": [
              "<tf.Tensor: shape=(3, 2), dtype=int32, numpy=\n",
              "array([[1, 1],\n",
              "       [1, 1],\n",
              "       [1, 1]], dtype=int32)>"
            ]
          },
          "metadata": {},
          "execution_count": 12
        }
      ]
    },
    {
      "cell_type": "code",
      "source": [
        "tf.zeros(dtype=tf.dtypes.float32,shape=(3,2))"
      ],
      "metadata": {
        "colab": {
          "base_uri": "https://localhost:8080/"
        },
        "id": "IH6nuWtAK2IA",
        "outputId": "ad2788f4-da23-48a4-e36c-ad1910ba941b"
      },
      "execution_count": 13,
      "outputs": [
        {
          "output_type": "execute_result",
          "data": {
            "text/plain": [
              "<tf.Tensor: shape=(3, 2), dtype=float32, numpy=\n",
              "array([[0., 0.],\n",
              "       [0., 0.],\n",
              "       [0., 0.]], dtype=float32)>"
            ]
          },
          "metadata": {},
          "execution_count": 13
        }
      ]
    },
    {
      "cell_type": "markdown",
      "source": [
        "Adding dimension to a tensor"
      ],
      "metadata": {
        "id": "AQdZW4_ANmIq"
      }
    },
    {
      "cell_type": "code",
      "source": [
        "# Create a rank 2 tensor\n",
        "rank_2_tensor = tf.random.shuffle(value=const_matrix,seed=42)\n",
        "rank_3_tensor = tf.expand_dims(rank_2_tensor,axis=-1)\n",
        "print(f\" Rank of rank_2_tensor : {rank_2_tensor.shape}\")\n",
        "print(f\" Rank of rank_3_tensor : {rank_3_tensor.shape}\")"
      ],
      "metadata": {
        "colab": {
          "base_uri": "https://localhost:8080/"
        },
        "id": "NgFg35GvLgSX",
        "outputId": "2c132612-05c2-4707-fa10-0f8648fd7e16"
      },
      "execution_count": 14,
      "outputs": [
        {
          "output_type": "stream",
          "name": "stdout",
          "text": [
            " Rank of rank_2_tensor : (3, 2)\n",
            " Rank of rank_3_tensor : (3, 2, 1)\n"
          ]
        }
      ]
    },
    {
      "cell_type": "code",
      "source": [
        "rank_3_tensor"
      ],
      "metadata": {
        "colab": {
          "base_uri": "https://localhost:8080/"
        },
        "id": "SnJGocqmOH26",
        "outputId": "9d675782-f068-47af-85d4-bec9bdefe963"
      },
      "execution_count": 15,
      "outputs": [
        {
          "output_type": "execute_result",
          "data": {
            "text/plain": [
              "<tf.Tensor: shape=(3, 2, 1), dtype=int32, numpy=\n",
              "array([[[20],\n",
              "        [20]],\n",
              "\n",
              "       [[10],\n",
              "        [10]],\n",
              "\n",
              "       [[20],\n",
              "        [20]]], dtype=int32)>"
            ]
          },
          "metadata": {},
          "execution_count": 15
        }
      ]
    },
    {
      "cell_type": "markdown",
      "source": [
        "Tensor operations\n",
        "1. Addition\n",
        "2. Substraction\n",
        "3. Multiplication\n",
        "4. Matrix Multiplication"
      ],
      "metadata": {
        "id": "YYjb4XOWOvAQ"
      }
    },
    {
      "cell_type": "code",
      "source": [
        "random_tensor = tf.constant([ [[10,10,10,10],[10,10,10,10],[10,10,10,10],[10,10,10,10],[10,10,10,10]]\n",
        "                             ,[[20,20,20,20],[20,20,20,20],[20,20,20,20],[20,20,20,20],[20,20,20,20]]\n",
        "                             ,[[30,30,30,30],[30,30,30,30],[30,30,30,30],[30,30,30,30],[30,30,30,30]]\n",
        "                            ],dtype=tf.dtypes.float32,shape=(3,5,4))\n",
        "print(f\" Add 25 to random_tensor : {tf.add(random_tensor,25)}\")\n",
        "print(f\" Substract 25 from random_tensor : {tf.subtract (random_tensor,25)}\")\n",
        "print(f\" Multiply 25 to random_tensor : {tf.add (random_tensor,25)}\")"
      ],
      "metadata": {
        "colab": {
          "base_uri": "https://localhost:8080/"
        },
        "id": "gd-5DbeXOLEy",
        "outputId": "57363659-5cc7-4aed-f0a0-e90ff45958fe"
      },
      "execution_count": 16,
      "outputs": [
        {
          "output_type": "stream",
          "name": "stdout",
          "text": [
            " Add 25 to random_tensor : [[[35. 35. 35. 35.]\n",
            "  [35. 35. 35. 35.]\n",
            "  [35. 35. 35. 35.]\n",
            "  [35. 35. 35. 35.]\n",
            "  [35. 35. 35. 35.]]\n",
            "\n",
            " [[45. 45. 45. 45.]\n",
            "  [45. 45. 45. 45.]\n",
            "  [45. 45. 45. 45.]\n",
            "  [45. 45. 45. 45.]\n",
            "  [45. 45. 45. 45.]]\n",
            "\n",
            " [[55. 55. 55. 55.]\n",
            "  [55. 55. 55. 55.]\n",
            "  [55. 55. 55. 55.]\n",
            "  [55. 55. 55. 55.]\n",
            "  [55. 55. 55. 55.]]]\n",
            " Substract 25 from random_tensor : [[[-15. -15. -15. -15.]\n",
            "  [-15. -15. -15. -15.]\n",
            "  [-15. -15. -15. -15.]\n",
            "  [-15. -15. -15. -15.]\n",
            "  [-15. -15. -15. -15.]]\n",
            "\n",
            " [[ -5.  -5.  -5.  -5.]\n",
            "  [ -5.  -5.  -5.  -5.]\n",
            "  [ -5.  -5.  -5.  -5.]\n",
            "  [ -5.  -5.  -5.  -5.]\n",
            "  [ -5.  -5.  -5.  -5.]]\n",
            "\n",
            " [[  5.   5.   5.   5.]\n",
            "  [  5.   5.   5.   5.]\n",
            "  [  5.   5.   5.   5.]\n",
            "  [  5.   5.   5.   5.]\n",
            "  [  5.   5.   5.   5.]]]\n",
            " Multiply 25 to random_tensor : [[[35. 35. 35. 35.]\n",
            "  [35. 35. 35. 35.]\n",
            "  [35. 35. 35. 35.]\n",
            "  [35. 35. 35. 35.]\n",
            "  [35. 35. 35. 35.]]\n",
            "\n",
            " [[45. 45. 45. 45.]\n",
            "  [45. 45. 45. 45.]\n",
            "  [45. 45. 45. 45.]\n",
            "  [45. 45. 45. 45.]\n",
            "  [45. 45. 45. 45.]]\n",
            "\n",
            " [[55. 55. 55. 55.]\n",
            "  [55. 55. 55. 55.]\n",
            "  [55. 55. 55. 55.]\n",
            "  [55. 55. 55. 55.]\n",
            "  [55. 55. 55. 55.]]]\n"
          ]
        }
      ]
    },
    {
      "cell_type": "markdown",
      "source": [
        "Matrix Multiplication"
      ],
      "metadata": {
        "id": "xooacnuURQFj"
      }
    },
    {
      "cell_type": "code",
      "source": [
        "tensor_1 = tf.constant(value=[[10,10,10],[10,10,10]],dtype=tf.dtypes.int32)\n",
        "tensor_2 = tf.constant(value=[[10,10],[10,10],[10,10]],dtype=tf.dtypes.int32)\n",
        "tf.matmul(tensor_1,tensor_2)"
      ],
      "metadata": {
        "colab": {
          "base_uri": "https://localhost:8080/"
        },
        "id": "roytlSRLP_q2",
        "outputId": "190533ed-9f65-49b6-9dcd-d55e4dc6338d"
      },
      "execution_count": 17,
      "outputs": [
        {
          "output_type": "execute_result",
          "data": {
            "text/plain": [
              "<tf.Tensor: shape=(2, 2), dtype=int32, numpy=\n",
              "array([[300, 300],\n",
              "       [300, 300]], dtype=int32)>"
            ]
          },
          "metadata": {},
          "execution_count": 17
        }
      ]
    },
    {
      "cell_type": "markdown",
      "source": [
        "Finding the max, min, mean, sum, abs"
      ],
      "metadata": {
        "id": "Z3MAQoAiUL-o"
      }
    },
    {
      "cell_type": "code",
      "source": [
        "# create a tensor with 50 random values between 0 and 100\n",
        "import numpy as np\n",
        "E = tf.constant(np.random.randint(low=-10,high=100,size=50))\n",
        "E"
      ],
      "metadata": {
        "colab": {
          "base_uri": "https://localhost:8080/"
        },
        "id": "mItYBaihR3-y",
        "outputId": "be49be0d-748a-476c-9e7c-a75c90fa23cc"
      },
      "execution_count": 18,
      "outputs": [
        {
          "output_type": "execute_result",
          "data": {
            "text/plain": [
              "<tf.Tensor: shape=(50,), dtype=int64, numpy=\n",
              "array([ 93, -10,  25,   0,  29,  85,  51,  21,  20,  75,  97,   3,  36,\n",
              "        27,  81,  74,  35,  62,  51, -10,  74,  75,  28,  93,  54,  64,\n",
              "         7,  17,  52,  40,  92,  37,  86,  59,  41,  85,  65,  -1,   2,\n",
              "        57,  77,  90,  50,  50,  76,  61,  -9,  30,  44,  41])>"
            ]
          },
          "metadata": {},
          "execution_count": 18
        }
      ]
    },
    {
      "cell_type": "code",
      "source": [
        "# Min\n",
        "print(f\" Minimum value in E : {tf.reduce_min(E)}\")\n",
        "# Max\n",
        "print(f\" Max value in E : {tf.reduce_max(E)}\")\n",
        "# Mean\n",
        "print(f\" Mean value in E : {tf.reduce_mean(E)}\")\n",
        "#abs\n",
        "print(f\" Abs value of E[10] :{tf.abs(E[10])}\")"
      ],
      "metadata": {
        "colab": {
          "base_uri": "https://localhost:8080/"
        },
        "id": "14vDaijuUluB",
        "outputId": "599d48a5-aa1c-4e2f-def2-c285a565464b"
      },
      "execution_count": 19,
      "outputs": [
        {
          "output_type": "stream",
          "name": "stdout",
          "text": [
            " Minimum value in E : -10\n",
            " Max value in E : 97\n",
            " Mean value in E : 47\n",
            " Abs value of E[10] :97\n"
          ]
        }
      ]
    },
    {
      "cell_type": "code",
      "source": [
        "# Finding positional max and min\n",
        "# Create a tensor with 50 values between 0 and 1\n",
        "F = tf.constant(np.random.random(50))\n",
        "F"
      ],
      "metadata": {
        "id": "Fsw2JruyU9cB",
        "colab": {
          "base_uri": "https://localhost:8080/"
        },
        "outputId": "ea58d060-862e-4abe-c085-1fc2c6ff59b0"
      },
      "execution_count": 20,
      "outputs": [
        {
          "output_type": "execute_result",
          "data": {
            "text/plain": [
              "<tf.Tensor: shape=(50,), dtype=float64, numpy=\n",
              "array([0.14919227, 0.95801968, 0.55568926, 0.68971043, 0.2408837 ,\n",
              "       0.84069223, 0.845783  , 0.60637532, 0.3194909 , 0.64088485,\n",
              "       0.34984159, 0.45138568, 0.26335132, 0.86655589, 0.25576287,\n",
              "       0.89908755, 0.94338073, 0.52647197, 0.218997  , 0.03030664,\n",
              "       0.38761528, 0.40503161, 0.7304157 , 0.15104655, 0.83793809,\n",
              "       0.72215718, 0.81346129, 0.06280607, 0.32745998, 0.2437112 ,\n",
              "       0.13957961, 0.43133419, 0.72225295, 0.47801708, 0.75857079,\n",
              "       0.13139   , 0.42433454, 0.43828962, 0.37394905, 0.36482609,\n",
              "       0.80009673, 0.11636296, 0.51419319, 0.30901844, 0.80080883,\n",
              "       0.55426808, 0.45055079, 0.20378153, 0.56985891, 0.70095548])>"
            ]
          },
          "metadata": {},
          "execution_count": 20
        }
      ]
    },
    {
      "cell_type": "code",
      "source": [
        "tf.argmax(F)"
      ],
      "metadata": {
        "colab": {
          "base_uri": "https://localhost:8080/"
        },
        "id": "tSZGg9OcRaGd",
        "outputId": "bce3acad-e59c-4cd3-b49a-321c611d5d40"
      },
      "execution_count": 21,
      "outputs": [
        {
          "output_type": "execute_result",
          "data": {
            "text/plain": [
              "<tf.Tensor: shape=(), dtype=int64, numpy=1>"
            ]
          },
          "metadata": {},
          "execution_count": 21
        }
      ]
    },
    {
      "cell_type": "code",
      "source": [
        "tf.argmin(F)"
      ],
      "metadata": {
        "colab": {
          "base_uri": "https://localhost:8080/"
        },
        "id": "OdLcSdgsReVY",
        "outputId": "c64fb5f1-8f75-4df9-d97f-ae37208e5686"
      },
      "execution_count": 22,
      "outputs": [
        {
          "output_type": "execute_result",
          "data": {
            "text/plain": [
              "<tf.Tensor: shape=(), dtype=int64, numpy=19>"
            ]
          },
          "metadata": {},
          "execution_count": 22
        }
      ]
    },
    {
      "cell_type": "code",
      "source": [
        "print(f\" The maximum value of F is at index : {tf.argmax(F).numpy()}\")\n",
        "print(f\" The minimum value of F is at index : {tf.argmin(F).numpy()}\")\n",
        "print(f\" The maximum value of F is at index : {tf.argmax(F).numpy()} and the value is {F[tf.argmax(F).numpy()].numpy():.5f}\")\n",
        "print(f\" The maximum value of F is at index : {tf.argmin(F).numpy()} and the value is {F[tf.argmin(F).numpy()].numpy():.5f}\")"
      ],
      "metadata": {
        "colab": {
          "base_uri": "https://localhost:8080/"
        },
        "id": "2akdS4m8RivS",
        "outputId": "28dfae24-f524-49e4-aaf3-53feba1a10ee"
      },
      "execution_count": 23,
      "outputs": [
        {
          "output_type": "stream",
          "name": "stdout",
          "text": [
            " The maximum value of F is at index : 1\n",
            " The minimum value of F is at index : 19\n",
            " The maximum value of F is at index : 1 and the value is 0.95802\n",
            " The maximum value of F is at index : 19 and the value is 0.03031\n"
          ]
        }
      ]
    },
    {
      "cell_type": "markdown",
      "source": [
        "Manipulating `tf.Variable` tensors"
      ],
      "metadata": {
        "id": "oxCkDG5-TENn"
      }
    },
    {
      "cell_type": "code",
      "source": [
        "I = tf.Variable(np.arange(0,5))\n",
        "I"
      ],
      "metadata": {
        "colab": {
          "base_uri": "https://localhost:8080/"
        },
        "id": "2m076vY-Ry3I",
        "outputId": "cc394e53-260d-4ae0-e10c-345ee0557da9"
      },
      "execution_count": 24,
      "outputs": [
        {
          "output_type": "execute_result",
          "data": {
            "text/plain": [
              "<tf.Variable 'Variable:0' shape=(5,) dtype=int64, numpy=array([0, 1, 2, 3, 4])>"
            ]
          },
          "metadata": {},
          "execution_count": 24
        }
      ]
    },
    {
      "cell_type": "code",
      "source": [
        "I.assign([0,1,3,2,60])"
      ],
      "metadata": {
        "colab": {
          "base_uri": "https://localhost:8080/"
        },
        "id": "Z9Wfetm9TPgm",
        "outputId": "eb196b88-9f92-4859-c5eb-a99349fcebbe"
      },
      "execution_count": 25,
      "outputs": [
        {
          "output_type": "execute_result",
          "data": {
            "text/plain": [
              "<tf.Variable 'UnreadVariable' shape=(5,) dtype=int64, numpy=array([ 0,  1,  3,  2, 60])>"
            ]
          },
          "metadata": {},
          "execution_count": 25
        }
      ]
    },
    {
      "cell_type": "code",
      "source": [
        "I.assign_add([0,1,3,2,60])"
      ],
      "metadata": {
        "colab": {
          "base_uri": "https://localhost:8080/"
        },
        "id": "ZuxflRU5TiAP",
        "outputId": "c839c485-07e4-4905-966a-058f7a55fc29"
      },
      "execution_count": 26,
      "outputs": [
        {
          "output_type": "execute_result",
          "data": {
            "text/plain": [
              "<tf.Variable 'UnreadVariable' shape=(5,) dtype=int64, numpy=array([  0,   2,   6,   4, 120])>"
            ]
          },
          "metadata": {},
          "execution_count": 26
        }
      ]
    },
    {
      "cell_type": "markdown",
      "source": [
        "By default tensors have `float32` and numpy array have `float64` as datatype.\n",
        "Learn more about `args` and `kwargs` at [here](https://realpython.com/python-kwargs-and-args/)"
      ],
      "metadata": {
        "id": "z_ta7CLhT8yR"
      }
    },
    {
      "cell_type": "markdown",
      "source": [
        "Finding access to GPU"
      ],
      "metadata": {
        "id": "GT42VDJRav3s"
      }
    },
    {
      "cell_type": "code",
      "source": [
        "print(tf.config.list_physical_devices('GPU'))"
      ],
      "metadata": {
        "colab": {
          "base_uri": "https://localhost:8080/"
        },
        "id": "T6IduVoaTn5A",
        "outputId": "ce19844c-a87e-45fa-adbf-7b5b77794721"
      },
      "execution_count": 27,
      "outputs": [
        {
          "output_type": "stream",
          "name": "stdout",
          "text": [
            "[PhysicalDevice(name='/physical_device:GPU:0', device_type='GPU')]\n"
          ]
        }
      ]
    },
    {
      "cell_type": "code",
      "source": [
        "!nvidia-smi"
      ],
      "metadata": {
        "colab": {
          "base_uri": "https://localhost:8080/"
        },
        "id": "5VoxIgila5pu",
        "outputId": "d4ea3cbe-0fcf-4ea6-f12d-73be7699dfce"
      },
      "execution_count": 28,
      "outputs": [
        {
          "output_type": "stream",
          "name": "stdout",
          "text": [
            "Sun Jun 25 21:19:17 2023       \n",
            "+-----------------------------------------------------------------------------+\n",
            "| NVIDIA-SMI 525.85.12    Driver Version: 525.85.12    CUDA Version: 12.0     |\n",
            "|-------------------------------+----------------------+----------------------+\n",
            "| GPU  Name        Persistence-M| Bus-Id        Disp.A | Volatile Uncorr. ECC |\n",
            "| Fan  Temp  Perf  Pwr:Usage/Cap|         Memory-Usage | GPU-Util  Compute M. |\n",
            "|                               |                      |               MIG M. |\n",
            "|===============================+======================+======================|\n",
            "|   0  Tesla T4            Off  | 00000000:00:04.0 Off |                    0 |\n",
            "| N/A   64C    P0    30W /  70W |    389MiB / 15360MiB |      0%      Default |\n",
            "|                               |                      |                  N/A |\n",
            "+-------------------------------+----------------------+----------------------+\n",
            "                                                                               \n",
            "+-----------------------------------------------------------------------------+\n",
            "| Processes:                                                                  |\n",
            "|  GPU   GI   CI        PID   Type   Process name                  GPU Memory |\n",
            "|        ID   ID                                                   Usage      |\n",
            "|=============================================================================|\n",
            "+-----------------------------------------------------------------------------+\n"
          ]
        }
      ]
    },
    {
      "cell_type": "markdown",
      "source": [
        "# Exercises"
      ],
      "metadata": {
        "id": "FVhCCVjDbmCV"
      }
    },
    {
      "cell_type": "markdown",
      "source": [
        "\n",
        "\n",
        "1. Shape of Tensor : The number of elements in each dimension.\n",
        "2. Rank : The number of dimension\n",
        "3. Size : The number of elements in tensor\n",
        "\n"
      ],
      "metadata": {
        "id": "1-sFA-ylcest"
      }
    },
    {
      "cell_type": "code",
      "source": [
        "#Create a vector, scalar, matrix and tensor with values of your choosing using tf.constant().\n",
        "#Find the shape, rank and size of the tensors you created in 1\n",
        "vector = tf.constant([0,10])\n",
        "scalar = tf.constant(10)\n",
        "matrix = tf.constant([ [10,10]\n",
        "                      ,[20,20]\n",
        "                    ])\n",
        "\n",
        "\n",
        "print(f\" Printing Shape, Rank and Size of vector ....\")\n",
        "print(f\" Shape of vector : {vector.shape}\")\n",
        "print(f\" Rank of vector : {vector.ndim}\")\n",
        "print(f\" Size of vector : {tf.size(vector)}\")\n",
        "\n",
        "\n",
        "print(f\" Printing Shape, Rank and Size of scalar ....\")\n",
        "print(f\" Shape of scalar : {scalar.shape}\")\n",
        "print(f\" Rank of scalar : {scalar.ndim}\")\n",
        "print(f\" Size of scalar : {tf.size(vector)}\")\n",
        "\n",
        "print(f\" Printing Shape, Rank and Size of matrix ....\")\n",
        "print(f\" Shape of matrix : {matrix.shape}\")\n",
        "print(f\" Rank of matrix : {matrix.ndim}\")\n",
        "print(f\" Size of matrix : {tf.size(matrix)}\")\n"
      ],
      "metadata": {
        "colab": {
          "base_uri": "https://localhost:8080/"
        },
        "id": "nvmTOk9-bN-I",
        "outputId": "3a8452fe-3775-4e48-8ca7-32200ef9092f"
      },
      "execution_count": 30,
      "outputs": [
        {
          "output_type": "stream",
          "name": "stdout",
          "text": [
            " Printing Shape, Rank and Size of vector ....\n",
            " Shape of vector : (2,)\n",
            " Rank of vector : 1\n",
            " Size of vector : 2\n",
            " Printing Shape, Rank and Size of scalar ....\n",
            " Shape of scalar : ()\n",
            " Rank of scalar : 0\n",
            " Size of scalar : 2\n",
            " Printing Shape, Rank and Size of matrix ....\n",
            " Shape of matrix : (2, 2)\n",
            " Rank of matrix : 2\n",
            " Size of matrix : 4\n"
          ]
        }
      ]
    },
    {
      "cell_type": "code",
      "source": [
        "#3. Create two tensors containing random values between 0 and 1 with shape [5, 300].\n",
        "#4. Multiply the two tensors you created in 3 using matrix multiplication.\n",
        "#5. Multiply the two tensors you created in 3 using dot product.\n",
        "gen = tf.random.Generator.from_seed(42)\n",
        "random_1 = gen.normal(shape=(3,500))\n",
        "random_2 = gen.normal(shape=(3,500))\n",
        "\n",
        "def print_srs(tensor:tf.Tensor):\n",
        "  print(f\" Shape : {tensor.shape}\")\n",
        "  print(f\" Rank : {tensor.ndim}\")\n",
        "  print(f\" Size : {tf.size(tensor)}\")\n",
        "\n",
        "print_srs(random_1)\n",
        "\n",
        "#matrix multiplication\n",
        "# matmul_result = tf.matmul(random_1,random_2)\n",
        "# print(f\" matmul result: {matmul_result}\")\n",
        "\n",
        "# Dot Product\n",
        "dot_result = random_1 * random_2\n",
        "print(f\" dot result : {dot_result}\")\n",
        "print_srs(dot_result)"
      ],
      "metadata": {
        "colab": {
          "base_uri": "https://localhost:8080/"
        },
        "id": "XPmJNw1PdZnr",
        "outputId": "4f0ea0b0-1cb5-4d67-dcb3-378821e6c1b6"
      },
      "execution_count": 41,
      "outputs": [
        {
          "output_type": "stream",
          "name": "stdout",
          "text": [
            " Shape : (3, 500)\n",
            " Rank : 2\n",
            " Size : 1500\n",
            " dot result : [[ 0.6169889  -0.01782765  0.05413234 ...  0.00294868  0.3637814\n",
            "  -0.03261912]\n",
            " [-0.39358786 -1.0440075   0.04571367 ... -0.5981697  -0.13508786\n",
            "   0.41872486]\n",
            " [ 0.19866256 -1.2366698  -0.12448977 ...  0.3734429  -0.16223323\n",
            "  -0.13076478]]\n",
            " Shape : (3, 500)\n",
            " Rank : 2\n",
            " Size : 1500\n"
          ]
        }
      ]
    },
    {
      "cell_type": "code",
      "source": [
        "#6. Create a tensor with random values between 0 and 1 with shape [224, 224, 3].\n",
        "#7. Find the min and max values of the tensor you created in 6.\n",
        "gen = tf.random.Generator.from_seed(42)\n",
        "random_3 = gen.normal(shape=(224,224,3))\n",
        "\n",
        "print(f\" The max value in random_3 :{ tf.reduce_max(random_3)}\")\n",
        "print(f\" The min value in random_3 :{ tf.reduce_min(random_3)}\")"
      ],
      "metadata": {
        "colab": {
          "base_uri": "https://localhost:8080/"
        },
        "id": "yDb0jUhmdzJ5",
        "outputId": "5cebe132-42af-4c95-8e2b-29177779e093"
      },
      "execution_count": 43,
      "outputs": [
        {
          "output_type": "stream",
          "name": "stdout",
          "text": [
            " The max value in random_3 :4.403286457061768\n",
            " The min value in random_3 :-4.848316192626953\n"
          ]
        }
      ]
    },
    {
      "cell_type": "code",
      "source": [
        "#8. Created a tensor with random values of shape [1, 224, 224, 3] then squeeze it to change the shape to [224, 224, 3]\n",
        "gen = tf.random.Generator.from_seed(42)\n",
        "random_4 = gen.normal(shape=(1,224,224,3))\n",
        "print_srs(random_4)\n",
        "print_srs(tf.squeeze(random_4))"
      ],
      "metadata": {
        "colab": {
          "base_uri": "https://localhost:8080/"
        },
        "id": "xEXFuhaghNXU",
        "outputId": "1dd7f2ab-d6ec-4a4d-9fba-c9cbcc0abce4"
      },
      "execution_count": 44,
      "outputs": [
        {
          "output_type": "stream",
          "name": "stdout",
          "text": [
            " Shape : (1, 224, 224, 3)\n",
            " Rank : 4\n",
            " Size : 150528\n",
            " Shape : (224, 224, 3)\n",
            " Rank : 3\n",
            " Size : 150528\n"
          ]
        }
      ]
    },
    {
      "cell_type": "code",
      "source": [
        "#9. Create a tensor with shape [10] using your own choice of values, then find the index which has the maximum value.\n",
        "random_5 = tf.random.shuffle(np.random.random(10))\n",
        "print_srs(random_5)\n",
        "print(f\" Index of maximum value : {tf.argmax(random_5).numpy()} and the value is {tf.reduce_max(random_5)}\")\n",
        "print(f\" Is the max value same as this? : {random_5[tf.argmax(random_5).numpy()].numpy()}\")"
      ],
      "metadata": {
        "colab": {
          "base_uri": "https://localhost:8080/"
        },
        "id": "Juivz6FmjFHe",
        "outputId": "4c70d376-9d29-4f95-ca24-56dfb792a62a"
      },
      "execution_count": 47,
      "outputs": [
        {
          "output_type": "stream",
          "name": "stdout",
          "text": [
            " Shape : (10,)\n",
            " Rank : 1\n",
            " Size : 10\n",
            " Index of maximum value : 8 and the value is 0.8703344228800377\n",
            " Is the max value same as this? : 0.8703344228800377\n"
          ]
        }
      ]
    },
    {
      "cell_type": "code",
      "source": [],
      "metadata": {
        "id": "FsPBxRSojviH"
      },
      "execution_count": null,
      "outputs": []
    }
  ]
}