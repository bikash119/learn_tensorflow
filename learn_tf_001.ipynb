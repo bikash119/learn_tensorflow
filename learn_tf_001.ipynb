{
  "nbformat": 4,
  "nbformat_minor": 0,
  "metadata": {
    "colab": {
      "provenance": [],
      "authorship_tag": "ABX9TyO1P54LXn9RA7Ph3sv0HLMR",
      "include_colab_link": true
    },
    "kernelspec": {
      "name": "python3",
      "display_name": "Python 3"
    },
    "language_info": {
      "name": "python"
    }
  },
  "cells": [
    {
      "cell_type": "markdown",
      "metadata": {
        "id": "view-in-github",
        "colab_type": "text"
      },
      "source": [
        "<a href=\"https://colab.research.google.com/github/bikash119/learn_tensorflow/blob/main/learn_tf_001.ipynb\" target=\"_parent\"><img src=\"https://colab.research.google.com/assets/colab-badge.svg\" alt=\"Open In Colab\"/></a>"
      ]
    },
    {
      "cell_type": "markdown",
      "source": [
        "Learning outcome\n",
        "1. Understand and play with tensors.\n",
        "2. Make my Feet wet with Tensorflow.\n",
        "3. Manipulating tensors and fix / understand any errors on the way.\n",
        "4. Using `@tf.function`"
      ],
      "metadata": {
        "id": "pk2mbou02NCN"
      }
    },
    {
      "cell_type": "code",
      "execution_count": null,
      "metadata": {
        "colab": {
          "base_uri": "https://localhost:8080/"
        },
        "id": "IKcFuuAM0JOZ",
        "outputId": "9cb5d53c-8319-4b37-c0a6-c00980fd95b4"
      },
      "outputs": [
        {
          "output_type": "stream",
          "name": "stdout",
          "text": [
            " Current version of tensorflow : 2.12.0\n"
          ]
        }
      ],
      "source": [
        "import tensorflow as tf\n",
        "\n",
        "print(f\" Current version of tensorflow : {tf.__version__}\")"
      ]
    },
    {
      "cell_type": "code",
      "source": [
        "# Create a scalar ( Rank 0 tensor)\n",
        "scalar = tf.constant(7)\n",
        "print(f\" Scalar value : {scalar}\")\n",
        "print(f\" Shape of the scalar value : {scalar.shape}\")\n",
        "print(f\" Number of dimensions in scalar : {scalar.ndim}\")"
      ],
      "metadata": {
        "colab": {
          "base_uri": "https://localhost:8080/"
        },
        "id": "P1Vua7AM28Vq",
        "outputId": "bee3bcd1-1218-4d23-a3f1-d78152ca255e"
      },
      "execution_count": null,
      "outputs": [
        {
          "output_type": "stream",
          "name": "stdout",
          "text": [
            " Scalar value : 7\n",
            " Shape of the scalar value : ()\n",
            " Number of dimensions in scalar : 0\n"
          ]
        }
      ]
    },
    {
      "cell_type": "code",
      "source": [
        "# create a vector\n",
        "vector = tf.constant([10\n",
        "                     ,10])\n",
        "print(f\" vector value : {vector}\")\n",
        "print(f\" Shape of the vector value : {vector.shape}\")\n",
        "print(f\" Number of dimensions in vector : {vector.ndim}\")"
      ],
      "metadata": {
        "colab": {
          "base_uri": "https://localhost:8080/"
        },
        "id": "KWhQrjBx3Th4",
        "outputId": "8933ac14-23ce-44cc-85e3-538e5c67fc2a"
      },
      "execution_count": null,
      "outputs": [
        {
          "output_type": "stream",
          "name": "stdout",
          "text": [
            " vector value : [10 10]\n",
            " Shape of the vector value : (2,)\n",
            " Number of dimensions in vector : 1\n"
          ]
        }
      ]
    },
    {
      "cell_type": "code",
      "source": [
        "# create a matrix\n",
        "matrix = tf.constant([\n",
        "                      [10,10]\n",
        "                     ,[20,20]\n",
        "                     ,[20,20]])\n",
        "print(f\" matrix value : {matrix}\")\n",
        "print(f\" Shape of the matrix value : {matrix.shape}\")\n",
        "print(f\" Number of dimensions in matrix : {matrix.ndim}\")"
      ],
      "metadata": {
        "colab": {
          "base_uri": "https://localhost:8080/"
        },
        "id": "HDNLrXWc4m3A",
        "outputId": "149f228d-a5c7-42cc-fa10-8d502b556b4c"
      },
      "execution_count": null,
      "outputs": [
        {
          "output_type": "stream",
          "name": "stdout",
          "text": [
            " matrix value : [[10 10]\n",
            " [20 20]\n",
            " [20 20]]\n",
            " Shape of the matrix value : (3, 2)\n",
            " Number of dimensions in matrix : 2\n"
          ]
        }
      ]
    },
    {
      "cell_type": "code",
      "source": [
        "_3d_matrix = tf.constant([\n",
        "                           [[10,10,10,10],[10,10,10,10]]\n",
        "                          ,[[20,20,20,20],[20,20,20,20]]\n",
        "                          ,[[30,30,30,30],[30,30,30,30]]\n",
        "                        ])\n",
        "print(f\" _3d_matrix value : {_3d_matrix}\")\n",
        "print(f\" Shape of the _3d_matrix value : {_3d_matrix.shape}\")\n",
        "print(f\" Number of dimensions in _3d_matrix : {_3d_matrix.ndim}\")"
      ],
      "metadata": {
        "colab": {
          "base_uri": "https://localhost:8080/"
        },
        "id": "XngKpuYr5tiS",
        "outputId": "9cb9a4d8-b6fb-4a67-fadb-4b550447a778"
      },
      "execution_count": null,
      "outputs": [
        {
          "output_type": "stream",
          "name": "stdout",
          "text": [
            " _3d_matrix value : [[[10 10 10 10]\n",
            "  [10 10 10 10]]\n",
            "\n",
            " [[20 20 20 20]\n",
            "  [20 20 20 20]]\n",
            "\n",
            " [[30 30 30 30]\n",
            "  [30 30 30 30]]]\n",
            " Shape of the _3d_matrix value : (3, 2, 4)\n",
            " Number of dimensions in _3d_matrix : 3\n"
          ]
        }
      ]
    },
    {
      "cell_type": "markdown",
      "source": [
        "Similartity and difference between `tf.Variable()` and `tf.constant()`"
      ],
      "metadata": {
        "id": "sVq_YD93ACy3"
      }
    },
    {
      "cell_type": "code",
      "source": [
        "# Create a scalar ( Rank 0 tensor)\n",
        "const_scalar = tf.constant(7)\n",
        "print(f\" Scalar value : {const_scalar}\")\n",
        "print(f\" Shape of the scalar value : {const_scalar.shape}\")\n",
        "print(f\" Number of dimensions in scalar : {const_scalar.ndim}\")\n",
        "\n",
        "var_scalar = tf.Variable(7)\n",
        "print(f\" Scalar value : {var_scalar}\")\n",
        "print(f\" Shape of the scalar value : {var_scalar.shape}\")\n",
        "#print(f\" Number of dimensions in scalar : {var_scalar.ndim}\")\n",
        "print(f\" *\"*50,sep=\"\\n\")\n",
        "# create a vector\n",
        "const_vector = tf.constant([10\n",
        "                     ,10])\n",
        "print(f\" vector value : {const_vector}\")\n",
        "print(f\" Shape of the vector value : {const_vector.shape}\")\n",
        "print(f\" Number of dimensions in vector : {const_vector.ndim}\")\n",
        "\n",
        "var_vector = tf.Variable([10\n",
        "                     ,10])\n",
        "print(f\" vector value : {var_vector}\")\n",
        "print(f\" Shape of the vector value : {var_vector.shape}\")\n",
        "#print(f\" Number of dimensions in vector : {var_vector.ndim}\")\n",
        "print(f\" *\"*50,sep=\"\\n\")\n",
        "# create a matrix\n",
        "const_matrix = tf.constant([\n",
        "                      [10,10]\n",
        "                     ,[20,20]\n",
        "                     ,[20,20]])\n",
        "print(f\" matrix value : {const_matrix}\")\n",
        "print(f\" Shape of the matrix value : {const_matrix.shape}\")\n",
        "print(f\" Number of dimensions in matrix : {const_matrix.ndim}\")\n",
        "\n",
        "var_matrix = tf.Variable([\n",
        "                      [10,10]\n",
        "                     ,[20,20]\n",
        "                     ,[20,20]])\n",
        "print(f\" matrix value : {var_matrix}\")\n",
        "print(f\" Shape of the matrix value : {var_matrix.shape}\")\n",
        "#print(f\" Number of dimensions in matrix : {var_matrix.ndim}\")\n",
        "print(f\" *\"*50,sep=\"\\n\")\n",
        "const_3d_matrix = tf.constant([\n",
        "                           [[10,10,10,10],[10,10,10,10]]\n",
        "                          ,[[20,20,20,20],[20,20,20,20]]\n",
        "                          ,[[30,30,30,30],[30,30,30,30]]\n",
        "                        ])\n",
        "print(f\" _3d_matrix value : {_3d_matrix}\")\n",
        "print(f\" Shape of the _3d_matrix value : {_3d_matrix.shape}\")\n",
        "print(f\" Number of dimensions in _3d_matrix : {_3d_matrix.ndim}\")\n",
        "print(f\" Number of dimensions in _3d_matrix : {tf.size(_3d_matrix)}\")\n",
        "\n",
        "var_3d_matrix = tf.Variable([\n",
        "                           [[10,10,10,10],[10,10,10,10]]\n",
        "                          ,[[20,20,20,20],[20,20,20,20]]\n",
        "                          ,[[30,30,30,30],[30,30,30,30]]\n",
        "                        ])\n",
        "print(f\" _3d_matrix value : {var_3d_matrix}\")\n",
        "print(f\" Shape of the _3d_matrix value : {var_3d_matrix.shape}\")\n",
        "print(f\" Number of dimensions in _3d_matrix : {tf.size(var_3d_matrix)}\")\n",
        "print(f\" *\"*50,sep=\"\\n\")"
      ],
      "metadata": {
        "colab": {
          "base_uri": "https://localhost:8080/"
        },
        "id": "zUPKXhea9ujz",
        "outputId": "96419da8-398c-4838-8b38-8b9ae0cef7ed"
      },
      "execution_count": null,
      "outputs": [
        {
          "output_type": "stream",
          "name": "stdout",
          "text": [
            " Scalar value : 7\n",
            " Shape of the scalar value : ()\n",
            " Number of dimensions in scalar : 0\n",
            " Scalar value : <tf.Variable 'Variable:0' shape=() dtype=int32, numpy=7>\n",
            " Shape of the scalar value : ()\n",
            " * * * * * * * * * * * * * * * * * * * * * * * * * * * * * * * * * * * * * * * * * * * * * * * * * *\n",
            " vector value : [10 10]\n",
            " Shape of the vector value : (2,)\n",
            " Number of dimensions in vector : 1\n",
            " vector value : <tf.Variable 'Variable:0' shape=(2,) dtype=int32, numpy=array([10, 10], dtype=int32)>\n",
            " Shape of the vector value : (2,)\n",
            " * * * * * * * * * * * * * * * * * * * * * * * * * * * * * * * * * * * * * * * * * * * * * * * * * *\n",
            " matrix value : [[10 10]\n",
            " [20 20]\n",
            " [20 20]]\n",
            " Shape of the matrix value : (3, 2)\n",
            " Number of dimensions in matrix : 2\n",
            " matrix value : <tf.Variable 'Variable:0' shape=(3, 2) dtype=int32, numpy=\n",
            "array([[10, 10],\n",
            "       [20, 20],\n",
            "       [20, 20]], dtype=int32)>\n",
            " Shape of the matrix value : (3, 2)\n",
            " * * * * * * * * * * * * * * * * * * * * * * * * * * * * * * * * * * * * * * * * * * * * * * * * * *\n",
            " _3d_matrix value : [[[10 10 10 10]\n",
            "  [10 10 10 10]]\n",
            "\n",
            " [[20 20 20 20]\n",
            "  [20 20 20 20]]\n",
            "\n",
            " [[30 30 30 30]\n",
            "  [30 30 30 30]]]\n",
            " Shape of the _3d_matrix value : (3, 2, 4)\n",
            " Number of dimensions in _3d_matrix : 3\n",
            " Number of dimensions in _3d_matrix : 24\n",
            " _3d_matrix value : <tf.Variable 'Variable:0' shape=(3, 2, 4) dtype=int32, numpy=\n",
            "array([[[10, 10, 10, 10],\n",
            "        [10, 10, 10, 10]],\n",
            "\n",
            "       [[20, 20, 20, 20],\n",
            "        [20, 20, 20, 20]],\n",
            "\n",
            "       [[30, 30, 30, 30],\n",
            "        [30, 30, 30, 30]]], dtype=int32)>\n",
            " Shape of the _3d_matrix value : (3, 2, 4)\n",
            " Number of dimensions in _3d_matrix : 24\n",
            " * * * * * * * * * * * * * * * * * * * * * * * * * * * * * * * * * * * * * * * * * * * * * * * * * *\n"
          ]
        }
      ]
    },
    {
      "cell_type": "code",
      "source": [
        "const_scalar[0] = 30"
      ],
      "metadata": {
        "colab": {
          "base_uri": "https://localhost:8080/",
          "height": 171
        },
        "id": "o8Nl860jBT05",
        "outputId": "b2cb22e9-5d87-4f69-9b40-25adda14f956"
      },
      "execution_count": null,
      "outputs": [
        {
          "output_type": "error",
          "ename": "TypeError",
          "evalue": "ignored",
          "traceback": [
            "\u001b[0;31m---------------------------------------------------------------------------\u001b[0m",
            "\u001b[0;31mTypeError\u001b[0m                                 Traceback (most recent call last)",
            "\u001b[0;32m<ipython-input-31-94d2342dc81e>\u001b[0m in \u001b[0;36m<cell line: 1>\u001b[0;34m()\u001b[0m\n\u001b[0;32m----> 1\u001b[0;31m \u001b[0mconst_scalar\u001b[0m\u001b[0;34m[\u001b[0m\u001b[0;36m0\u001b[0m\u001b[0;34m]\u001b[0m \u001b[0;34m=\u001b[0m \u001b[0;36m30\u001b[0m\u001b[0;34m\u001b[0m\u001b[0;34m\u001b[0m\u001b[0m\n\u001b[0m",
            "\u001b[0;31mTypeError\u001b[0m: 'tensorflow.python.framework.ops.EagerTensor' object does not support item assignment"
          ]
        }
      ]
    },
    {
      "cell_type": "code",
      "source": [
        "var_scalar.assign(9)"
      ],
      "metadata": {
        "colab": {
          "base_uri": "https://localhost:8080/"
        },
        "id": "BfSpQ7s7CQcA",
        "outputId": "69898683-776f-4fc2-8361-9be75ece9523"
      },
      "execution_count": null,
      "outputs": [
        {
          "output_type": "execute_result",
          "data": {
            "text/plain": [
              "<tf.Variable 'UnreadVariable' shape=() dtype=int32, numpy=9>"
            ]
          },
          "metadata": {},
          "execution_count": 33
        }
      ]
    },
    {
      "cell_type": "markdown",
      "source": [
        "Generate Randome tensors"
      ],
      "metadata": {
        "id": "HEYPG6sJFruh"
      }
    },
    {
      "cell_type": "code",
      "source": [
        "random_gen_1 = tf.random.Generator.from_seed(seed=42)\n",
        "random_gen_2 = tf.random.Generator.from_seed(seed=42)\n",
        "print(f\" Are the generators same: {random_gen_1 == random_gen_2}\")\n",
        "random_tensor_1 = random_gen_1.normal((3,2,4))\n",
        "random_tensor_2 = random_gen_2.normal((3,2,4))\n",
        "\n",
        "print(f\" Are the tensors from 2 generators same : {random_tensor_1 == random_tensor_2}\")\n"
      ],
      "metadata": {
        "colab": {
          "base_uri": "https://localhost:8080/"
        },
        "id": "oHl1KUttFrg6",
        "outputId": "f7f5dcc7-ff03-47d9-807c-41bbd452afdf"
      },
      "execution_count": null,
      "outputs": [
        {
          "output_type": "stream",
          "name": "stdout",
          "text": [
            " Are the generators same: False\n",
            " Are the tensors from 2 generators same : [[[ True  True  True  True]\n",
            "  [ True  True  True  True]]\n",
            "\n",
            " [[ True  True  True  True]\n",
            "  [ True  True  True  True]]\n",
            "\n",
            " [[ True  True  True  True]\n",
            "  [ True  True  True  True]]]\n"
          ]
        }
      ]
    },
    {
      "cell_type": "markdown",
      "source": [
        "Global and operation-level seed\n",
        "`tf.random.set_seed()` sets the global seed, and the `seed` parameter in `tf.random.shuffle(seed=42)` set the operation level seed."
      ],
      "metadata": {
        "id": "70eN2OwSJXP1"
      }
    },
    {
      "cell_type": "code",
      "source": [
        "# Global seed\n",
        "tf.random.set_seed(42)\n",
        "\n",
        "# operation level seed\n",
        "tf.random.shuffle(const_matrix,seed=42)"
      ],
      "metadata": {
        "colab": {
          "base_uri": "https://localhost:8080/"
        },
        "id": "SxoWJujsFibD",
        "outputId": "80ce9a97-f15d-4beb-e58b-b683fa6f07c2"
      },
      "execution_count": null,
      "outputs": [
        {
          "output_type": "execute_result",
          "data": {
            "text/plain": [
              "<tf.Tensor: shape=(3, 2), dtype=int32, numpy=\n",
              "array([[10, 10],\n",
              "       [20, 20],\n",
              "       [20, 20]], dtype=int32)>"
            ]
          },
          "metadata": {},
          "execution_count": 47
        }
      ]
    },
    {
      "cell_type": "markdown",
      "source": [
        "Other ways to make tensors"
      ],
      "metadata": {
        "id": "izB7B7J2Kivt"
      }
    },
    {
      "cell_type": "code",
      "source": [
        "tf.ones(dtype=tf.dtypes.int32,shape=(3,2))"
      ],
      "metadata": {
        "colab": {
          "base_uri": "https://localhost:8080/"
        },
        "id": "k1Za7LHFJuvN",
        "outputId": "0876de43-9244-4fd6-b474-97156406bb58"
      },
      "execution_count": null,
      "outputs": [
        {
          "output_type": "execute_result",
          "data": {
            "text/plain": [
              "<tf.Tensor: shape=(3, 2), dtype=int32, numpy=\n",
              "array([[1, 1],\n",
              "       [1, 1],\n",
              "       [1, 1]], dtype=int32)>"
            ]
          },
          "metadata": {},
          "execution_count": 52
        }
      ]
    },
    {
      "cell_type": "code",
      "source": [
        "tf.zeros(dtype=tf.dtypes.float32,shape=(3,2))"
      ],
      "metadata": {
        "colab": {
          "base_uri": "https://localhost:8080/"
        },
        "id": "IH6nuWtAK2IA",
        "outputId": "1935e459-559f-452d-f9df-df73be4ee13b"
      },
      "execution_count": null,
      "outputs": [
        {
          "output_type": "execute_result",
          "data": {
            "text/plain": [
              "<tf.Tensor: shape=(3, 2), dtype=float32, numpy=\n",
              "array([[0., 0.],\n",
              "       [0., 0.],\n",
              "       [0., 0.]], dtype=float32)>"
            ]
          },
          "metadata": {},
          "execution_count": 55
        }
      ]
    },
    {
      "cell_type": "markdown",
      "source": [
        "Adding dimension to a tensor"
      ],
      "metadata": {
        "id": "AQdZW4_ANmIq"
      }
    },
    {
      "cell_type": "code",
      "source": [
        "# Create a rank 2 tensor\n",
        "rank_2_tensor = tf.random.shuffle(value=const_matrix,seed=42)\n",
        "rank_3_tensor = tf.expand_dims(rank_2_tensor,axis=-1)\n",
        "print(f\" Rank of rank_2_tensor : {rank_2_tensor.shape}\")\n",
        "print(f\" Rank of rank_3_tensor : {rank_3_tensor.shape}\")"
      ],
      "metadata": {
        "colab": {
          "base_uri": "https://localhost:8080/"
        },
        "id": "NgFg35GvLgSX",
        "outputId": "bb8d9c60-f768-478d-a866-c13a63138307"
      },
      "execution_count": null,
      "outputs": [
        {
          "output_type": "stream",
          "name": "stdout",
          "text": [
            " Rank of rank_2_tensor : (3, 2)\n",
            " Rank of rank_3_tensor : (3, 2, 1)\n"
          ]
        }
      ]
    },
    {
      "cell_type": "code",
      "source": [
        "rank_3_tensor"
      ],
      "metadata": {
        "colab": {
          "base_uri": "https://localhost:8080/"
        },
        "id": "SnJGocqmOH26",
        "outputId": "92724ab9-4044-4207-d32f-8160bc3dcba8"
      },
      "execution_count": null,
      "outputs": [
        {
          "output_type": "execute_result",
          "data": {
            "text/plain": [
              "<tf.Tensor: shape=(3, 2, 1), dtype=int32, numpy=\n",
              "array([[[20],\n",
              "        [20]],\n",
              "\n",
              "       [[10],\n",
              "        [10]],\n",
              "\n",
              "       [[20],\n",
              "        [20]]], dtype=int32)>"
            ]
          },
          "metadata": {},
          "execution_count": 59
        }
      ]
    },
    {
      "cell_type": "markdown",
      "source": [
        "Tensor operations\n",
        "1. Addition\n",
        "2. Substraction\n",
        "3. Multiplication\n",
        "4. Matrix Multiplication"
      ],
      "metadata": {
        "id": "YYjb4XOWOvAQ"
      }
    },
    {
      "cell_type": "code",
      "source": [
        "random_tensor = tf.constant([ [[10,10,10,10],[10,10,10,10],[10,10,10,10],[10,10,10,10],[10,10,10,10]]\n",
        "                             ,[[20,20,20,20],[20,20,20,20],[20,20,20,20],[20,20,20,20],[20,20,20,20]]\n",
        "                             ,[[30,30,30,30],[30,30,30,30],[30,30,30,30],[30,30,30,30],[30,30,30,30]]\n",
        "                            ],dtype=tf.dtypes.float32,shape=(3,5,4))\n",
        "print(f\" Add 25 to random_tensor : {tf.add(random_tensor,25)}\")\n",
        "print(f\" Substract 25 from random_tensor : {tf.subtract (random_tensor,25)}\")\n",
        "print(f\" Multiply 25 to random_tensor : {tf.add (random_tensor,25)}\")"
      ],
      "metadata": {
        "colab": {
          "base_uri": "https://localhost:8080/"
        },
        "id": "gd-5DbeXOLEy",
        "outputId": "9cb16fd9-e284-4c24-8156-8c0478eac996"
      },
      "execution_count": null,
      "outputs": [
        {
          "output_type": "stream",
          "name": "stdout",
          "text": [
            " Add 25 to random_tensor : [[[35. 35. 35. 35.]\n",
            "  [35. 35. 35. 35.]\n",
            "  [35. 35. 35. 35.]\n",
            "  [35. 35. 35. 35.]\n",
            "  [35. 35. 35. 35.]]\n",
            "\n",
            " [[45. 45. 45. 45.]\n",
            "  [45. 45. 45. 45.]\n",
            "  [45. 45. 45. 45.]\n",
            "  [45. 45. 45. 45.]\n",
            "  [45. 45. 45. 45.]]\n",
            "\n",
            " [[55. 55. 55. 55.]\n",
            "  [55. 55. 55. 55.]\n",
            "  [55. 55. 55. 55.]\n",
            "  [55. 55. 55. 55.]\n",
            "  [55. 55. 55. 55.]]]\n",
            " Substract 25 from random_tensor : [[[-15. -15. -15. -15.]\n",
            "  [-15. -15. -15. -15.]\n",
            "  [-15. -15. -15. -15.]\n",
            "  [-15. -15. -15. -15.]\n",
            "  [-15. -15. -15. -15.]]\n",
            "\n",
            " [[ -5.  -5.  -5.  -5.]\n",
            "  [ -5.  -5.  -5.  -5.]\n",
            "  [ -5.  -5.  -5.  -5.]\n",
            "  [ -5.  -5.  -5.  -5.]\n",
            "  [ -5.  -5.  -5.  -5.]]\n",
            "\n",
            " [[  5.   5.   5.   5.]\n",
            "  [  5.   5.   5.   5.]\n",
            "  [  5.   5.   5.   5.]\n",
            "  [  5.   5.   5.   5.]\n",
            "  [  5.   5.   5.   5.]]]\n",
            " Multiply 25 to random_tensor : [[[35. 35. 35. 35.]\n",
            "  [35. 35. 35. 35.]\n",
            "  [35. 35. 35. 35.]\n",
            "  [35. 35. 35. 35.]\n",
            "  [35. 35. 35. 35.]]\n",
            "\n",
            " [[45. 45. 45. 45.]\n",
            "  [45. 45. 45. 45.]\n",
            "  [45. 45. 45. 45.]\n",
            "  [45. 45. 45. 45.]\n",
            "  [45. 45. 45. 45.]]\n",
            "\n",
            " [[55. 55. 55. 55.]\n",
            "  [55. 55. 55. 55.]\n",
            "  [55. 55. 55. 55.]\n",
            "  [55. 55. 55. 55.]\n",
            "  [55. 55. 55. 55.]]]\n"
          ]
        }
      ]
    },
    {
      "cell_type": "markdown",
      "source": [
        "Matrix Multiplication"
      ],
      "metadata": {
        "id": "xooacnuURQFj"
      }
    },
    {
      "cell_type": "code",
      "source": [
        "tensor_1 = tf.constant(value=[[10,10,10],[10,10,10]],dtype=tf.dtypes.int32)\n",
        "tensor_2 = tf.constant(value=[[10,10],[10,10],[10,10]],dtype=tf.dtypes.int32)\n",
        "tf.matmul(tensor_1,tensor_2)"
      ],
      "metadata": {
        "colab": {
          "base_uri": "https://localhost:8080/"
        },
        "id": "roytlSRLP_q2",
        "outputId": "c4726e8c-8fcb-4122-b943-f97f852056df"
      },
      "execution_count": null,
      "outputs": [
        {
          "output_type": "execute_result",
          "data": {
            "text/plain": [
              "<tf.Tensor: shape=(2, 2), dtype=int32, numpy=\n",
              "array([[300, 300],\n",
              "       [300, 300]], dtype=int32)>"
            ]
          },
          "metadata": {},
          "execution_count": 66
        }
      ]
    },
    {
      "cell_type": "markdown",
      "source": [
        "Finding the max, min, mean, sum, abs"
      ],
      "metadata": {
        "id": "Z3MAQoAiUL-o"
      }
    },
    {
      "cell_type": "code",
      "source": [
        "# create a tensor with 50 random values between 0 and 100\n",
        "import numpy as np\n",
        "E = tf.constant(np.random.randint(low=-10,high=100,size=50))\n",
        "E"
      ],
      "metadata": {
        "colab": {
          "base_uri": "https://localhost:8080/"
        },
        "id": "mItYBaihR3-y",
        "outputId": "959430e8-68a7-474d-cf33-0535790f8694"
      },
      "execution_count": null,
      "outputs": [
        {
          "output_type": "execute_result",
          "data": {
            "text/plain": [
              "<tf.Tensor: shape=(50,), dtype=int64, numpy=\n",
              "array([ 34, -10,  45,  97,  58,  81,  25,   0,  39,   2,  94,   2,  73,\n",
              "        -3,  37,  27,  68,  16,  99,   1,  85,  47,  63,  79,  -4,  66,\n",
              "        43,  87,  94,  96,  43,  60,  89,  63,  -9,  40,  20,  12,  33,\n",
              "         9,  -1,  24,  47,  15,  -1,  40,  78,  82,  35,  43])>"
            ]
          },
          "metadata": {},
          "execution_count": 76
        }
      ]
    },
    {
      "cell_type": "code",
      "source": [
        "# Min\n",
        "print(f\" Minimum value in E : {tf.reduce_min(E)}\")\n",
        "# Max\n",
        "print(f\" Max value in E : {tf.reduce_max(E)}\")\n",
        "# Mean\n",
        "print(f\" Mean value in E : {tf.reduce_mean(E)}\")\n",
        "#abs\n",
        "print(f\" Abs value of E[10] :{tf.abs(E[10])}\")"
      ],
      "metadata": {
        "colab": {
          "base_uri": "https://localhost:8080/"
        },
        "id": "14vDaijuUluB",
        "outputId": "ee150a08-8e04-409f-8089-aaa24512adc4"
      },
      "execution_count": null,
      "outputs": [
        {
          "output_type": "stream",
          "name": "stdout",
          "text": [
            " Minimum value in E : 2\n",
            " Max value in E : 99\n",
            " Mean value in E : 55\n",
            " Abs value of E[10] :49\n"
          ]
        }
      ]
    },
    {
      "cell_type": "code",
      "source": [],
      "metadata": {
        "id": "Fsw2JruyU9cB"
      },
      "execution_count": null,
      "outputs": []
    }
  ]
}