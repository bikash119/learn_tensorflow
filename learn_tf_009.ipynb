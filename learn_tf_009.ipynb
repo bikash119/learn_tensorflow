{
  "nbformat": 4,
  "nbformat_minor": 0,
  "metadata": {
    "colab": {
      "provenance": [],
      "gpuType": "T4",
      "authorship_tag": "ABX9TyNwFU6PbQwGHWjzfSyo6TCF",
      "include_colab_link": true
    },
    "kernelspec": {
      "name": "python3",
      "display_name": "Python 3"
    },
    "language_info": {
      "name": "python"
    },
    "accelerator": "GPU"
  },
  "cells": [
    {
      "cell_type": "markdown",
      "metadata": {
        "id": "view-in-github",
        "colab_type": "text"
      },
      "source": [
        "<a href=\"https://colab.research.google.com/github/bikash119/learn_tensorflow/blob/main/learn_tf_009.ipynb\" target=\"_parent\"><img src=\"https://colab.research.google.com/assets/colab-badge.svg\" alt=\"Open In Colab\"/></a>"
      ]
    },
    {
      "cell_type": "markdown",
      "source": [
        "## Transfer Learning Part 2: Fine-Tuning\n",
        "\n",
        "### What we will cover\n",
        "1. Introduce fine-tuning, a transfer learning approach to modify pre-trained layers to be more suited for our data.\n",
        "2. Using the keras Functional API\n",
        "3. Smaller dataset of faster experimentation\n",
        "4. Data Augmenetation ( how to make our training dataset more diverse without adding more data).\n",
        "5. Running a series of model experiments using our Food Vision data\n",
        "    1. Model0: A transfer learning model using Keras functional api\n",
        "    2. Model1: A feature extraction transfer learning model using 1% of the data with data augmentation\n",
        "    3. Model2: A feature extraction transfer learning model using 10% of the data with data augmentation.\n",
        "    4. Model3: A fine-tuned transfer learning model on 10% of data.\n",
        "    5. Model4: A fine-tuned transfer learning model on 100% of data.\n",
        "6. Introduce model checkpoints to save intermediate model results\n",
        "7. Compare the model experiments using tensorboard.\n",
        "\n",
        "\n"
      ],
      "metadata": {
        "id": "XB-lnnymj3tK"
      }
    },
    {
      "cell_type": "code",
      "source": [
        "%load_ext autoreload\n",
        "%autoreload 2"
      ],
      "metadata": {
        "id": "dXMf20WQnIr3"
      },
      "execution_count": 1,
      "outputs": []
    },
    {
      "cell_type": "code",
      "source": [
        "import datetime\n",
        "print(f\" Notebook last run (end-to-end) {datetime.datetime.now()}\")"
      ],
      "metadata": {
        "colab": {
          "base_uri": "https://localhost:8080/"
        },
        "id": "TfEM6d2fmO8z",
        "outputId": "0927f1d7-0dd2-4bf6-fd28-d377ea43e460"
      },
      "execution_count": 2,
      "outputs": [
        {
          "output_type": "stream",
          "name": "stdout",
          "text": [
            " Notebook last run (end-to-end) 2023-08-06 03:29:40.619798\n"
          ]
        }
      ]
    },
    {
      "cell_type": "code",
      "source": [
        "import tensorflow as tf\n",
        "print(f\" Tensorflow version : {tf.__version__}\")"
      ],
      "metadata": {
        "colab": {
          "base_uri": "https://localhost:8080/"
        },
        "id": "irjZ5un9moib",
        "outputId": "3e3e6a0a-b67f-4034-bce4-7ed0334761fc"
      },
      "execution_count": 3,
      "outputs": [
        {
          "output_type": "stream",
          "name": "stdout",
          "text": [
            " Tensorflow version : 2.12.0\n"
          ]
        }
      ]
    },
    {
      "cell_type": "code",
      "source": [
        "%%writefile helper_functions.py\n",
        "import matplotlib.pyplot as plt\n",
        "\n",
        "def plot_loss_curve(history):\n",
        "  \"\"\"\n",
        "    Plots the loss and accuracy curve for training and validation metrics\n",
        "    Args:\n",
        "      history(A History object):\n",
        "\n",
        "  \"\"\"\n",
        "  epochs= range(len(history.history[\"loss\"]))\n",
        "  loss= history.history[\"loss\"]\n",
        "  val_loss= history.history[\"val_loss\"]\n",
        "\n",
        "  plt.plot(epochs,loss,label=\"Train loss\")\n",
        "  plt.plot(epochs,val_loss,label=\"Test loss\")\n",
        "  plt.title(\"Loss\")\n",
        "  plt.xlabel(\"Epochs\")\n",
        "  plt.legend()\n",
        "\n",
        "  ## Plot Accuracy\n",
        "  plt.figure()\n",
        "  accuracy= history.history[\"accuracy\"]\n",
        "  val_accuracy= history.history[\"val_accuracy\"]\n",
        "  plt.plot(epochs,accuracy,label=\"Train Accuracy\")\n",
        "  plt.plot(epochs,val_accuracy, label=\"Test Accuracy\")\n",
        "  plt.title(\"Accuracy\")\n",
        "  plt.xlabel(\"Epochs\")\n",
        "  plt.legend();\n",
        "\n"
      ],
      "metadata": {
        "colab": {
          "base_uri": "https://localhost:8080/"
        },
        "id": "t3Kp5Fm6mvwN",
        "outputId": "25229666-b0b1-48ba-a7d3-70e81e3cbec7"
      },
      "execution_count": 26,
      "outputs": [
        {
          "output_type": "stream",
          "name": "stdout",
          "text": [
            "Overwriting helper_functions.py\n"
          ]
        }
      ]
    },
    {
      "cell_type": "code",
      "source": [
        "## Download data and unzip it\n",
        "!wget https://storage.googleapis.com/ztm_tf_course/food_vision/10_food_classes_10_percent.zip\n",
        "\n"
      ],
      "metadata": {
        "colab": {
          "base_uri": "https://localhost:8080/"
        },
        "id": "424j0L0Ps0Uc",
        "outputId": "398187b5-da24-4643-f56e-eb69fe4c831d"
      },
      "execution_count": 5,
      "outputs": [
        {
          "output_type": "stream",
          "name": "stdout",
          "text": [
            "--2023-08-06 03:29:44--  https://storage.googleapis.com/ztm_tf_course/food_vision/10_food_classes_10_percent.zip\n",
            "Resolving storage.googleapis.com (storage.googleapis.com)... 108.177.111.128, 142.250.103.128, 108.177.121.128, ...\n",
            "Connecting to storage.googleapis.com (storage.googleapis.com)|108.177.111.128|:443... connected.\n",
            "HTTP request sent, awaiting response... 200 OK\n",
            "Length: 168546183 (161M) [application/zip]\n",
            "Saving to: ‘10_food_classes_10_percent.zip’\n",
            "\n",
            "10_food_classes_10_ 100%[===================>] 160.74M   264MB/s    in 0.6s    \n",
            "\n",
            "2023-08-06 03:29:45 (264 MB/s) - ‘10_food_classes_10_percent.zip’ saved [168546183/168546183]\n",
            "\n"
          ]
        }
      ]
    },
    {
      "cell_type": "code",
      "source": [
        "%%writefile -a helper_functions.py\n",
        "\n",
        "import zipfile\n",
        "import os\n",
        "def unzip_data(zipped_file,remove_src_zip=True):\n",
        "  \"\"\"\n",
        "    Takes a zipped file and unzips it.Removes the source zipfile.\n",
        "  \"\"\"\n",
        "  zip_ref= zipfile.ZipFile(zipped_file,\"r\")\n",
        "  zip_ref.extractall()\n",
        "  zip_ref.close()\n",
        "  os.remove(zipped_file)"
      ],
      "metadata": {
        "colab": {
          "base_uri": "https://localhost:8080/"
        },
        "id": "WfiiyruOuXSp",
        "outputId": "cce5ecae-a1a8-43e5-843c-00f3920d929a"
      },
      "execution_count": 27,
      "outputs": [
        {
          "output_type": "stream",
          "name": "stdout",
          "text": [
            "Appending to helper_functions.py\n"
          ]
        }
      ]
    },
    {
      "cell_type": "code",
      "source": [
        "from helper_functions import unzip_data\n",
        "unzip_data(\"/content/10_food_classes_10_percent.zip\")"
      ],
      "metadata": {
        "id": "EuDnBw6hvHYz"
      },
      "execution_count": 7,
      "outputs": []
    },
    {
      "cell_type": "code",
      "source": [
        "!rm -r \"/content/__MACOSX\""
      ],
      "metadata": {
        "id": "HqqNMiRavLZo"
      },
      "execution_count": 8,
      "outputs": []
    },
    {
      "cell_type": "code",
      "source": [
        "data_dir= \"/content/10_food_classes_10_percent\""
      ],
      "metadata": {
        "id": "7J1x3Tx3wejJ"
      },
      "execution_count": 9,
      "outputs": []
    },
    {
      "cell_type": "code",
      "source": [
        "%%writefile -a helper_functions.py\n",
        "\n",
        "def walk_through_dir(data_dir):\n",
        "  for dirpath,dirnames,filenames in os.walk(data_dir):\n",
        "    print(f\" There are {len(filenames)} images and {len(dirnames)} folder at {dirpath}\")\n",
        "\n"
      ],
      "metadata": {
        "colab": {
          "base_uri": "https://localhost:8080/"
        },
        "id": "6LEN1OuKwOyJ",
        "outputId": "59d0756f-4370-4c80-c7e4-d972b1e73835"
      },
      "execution_count": 28,
      "outputs": [
        {
          "output_type": "stream",
          "name": "stdout",
          "text": [
            "Appending to helper_functions.py\n"
          ]
        }
      ]
    },
    {
      "cell_type": "code",
      "source": [
        "from helper_functions import walk_through_dir\n",
        "walk_through_dir(data_dir)\n"
      ],
      "metadata": {
        "colab": {
          "base_uri": "https://localhost:8080/"
        },
        "id": "FlVaIJtFxO7a",
        "outputId": "8b1be141-90df-4240-f872-f90d23971cb5"
      },
      "execution_count": 11,
      "outputs": [
        {
          "output_type": "stream",
          "name": "stdout",
          "text": [
            " There are 0 images and 2 folder at /content/10_food_classes_10_percent\n",
            " There are 0 images and 10 folder at /content/10_food_classes_10_percent/test\n",
            " There are 250 images and 0 folder at /content/10_food_classes_10_percent/test/chicken_wings\n",
            " There are 250 images and 0 folder at /content/10_food_classes_10_percent/test/sushi\n",
            " There are 250 images and 0 folder at /content/10_food_classes_10_percent/test/fried_rice\n",
            " There are 250 images and 0 folder at /content/10_food_classes_10_percent/test/steak\n",
            " There are 250 images and 0 folder at /content/10_food_classes_10_percent/test/grilled_salmon\n",
            " There are 250 images and 0 folder at /content/10_food_classes_10_percent/test/ice_cream\n",
            " There are 250 images and 0 folder at /content/10_food_classes_10_percent/test/chicken_curry\n",
            " There are 250 images and 0 folder at /content/10_food_classes_10_percent/test/pizza\n",
            " There are 250 images and 0 folder at /content/10_food_classes_10_percent/test/ramen\n",
            " There are 250 images and 0 folder at /content/10_food_classes_10_percent/test/hamburger\n",
            " There are 0 images and 10 folder at /content/10_food_classes_10_percent/train\n",
            " There are 75 images and 0 folder at /content/10_food_classes_10_percent/train/chicken_wings\n",
            " There are 75 images and 0 folder at /content/10_food_classes_10_percent/train/sushi\n",
            " There are 75 images and 0 folder at /content/10_food_classes_10_percent/train/fried_rice\n",
            " There are 75 images and 0 folder at /content/10_food_classes_10_percent/train/steak\n",
            " There are 75 images and 0 folder at /content/10_food_classes_10_percent/train/grilled_salmon\n",
            " There are 75 images and 0 folder at /content/10_food_classes_10_percent/train/ice_cream\n",
            " There are 75 images and 0 folder at /content/10_food_classes_10_percent/train/chicken_curry\n",
            " There are 75 images and 0 folder at /content/10_food_classes_10_percent/train/pizza\n",
            " There are 75 images and 0 folder at /content/10_food_classes_10_percent/train/ramen\n",
            " There are 75 images and 0 folder at /content/10_food_classes_10_percent/train/hamburger\n"
          ]
        }
      ]
    },
    {
      "cell_type": "code",
      "source": [
        "train_dir=\"/content/10_food_classes_10_percent/train\"\n",
        "test_dir=\"/content/10_food_classes_10_percent/train\"\n"
      ],
      "metadata": {
        "id": "Y8GMG2izycFv"
      },
      "execution_count": 12,
      "outputs": []
    },
    {
      "cell_type": "code",
      "source": [
        "#Create data inputs\n",
        "import tensorflow as tf\n",
        "\n",
        "IMG_SIZE=(224,224)\n",
        "train_data_10_percent= tf.keras.preprocessing.image_dataset_from_directory(directory=train_dir\n",
        "                                                                           ,labels=\"inferred\"\n",
        "                                                                           ,label_mode=\"categorical\"\n",
        "                                                                           ,image_size=IMG_SIZE\n",
        "                                                                           ,shuffle=True\n",
        "                                                                           )\n",
        "test_data_10_percent= tf.keras.preprocessing.image_dataset_from_directory(directory=test_dir\n",
        "                                                                          ,labels=\"inferred\"\n",
        "                                                                          ,label_mode=\"categorical\"\n",
        "                                                                          ,image_size=IMG_SIZE\n",
        "                                                                          )\n"
      ],
      "metadata": {
        "colab": {
          "base_uri": "https://localhost:8080/"
        },
        "id": "9xEdwhUjp9Rm",
        "outputId": "aad8b8ad-3adf-4cd9-e897-b60301f02049"
      },
      "execution_count": 13,
      "outputs": [
        {
          "output_type": "stream",
          "name": "stdout",
          "text": [
            "Found 750 files belonging to 10 classes.\n",
            "Found 750 files belonging to 10 classes.\n"
          ]
        }
      ]
    },
    {
      "cell_type": "code",
      "source": [
        "train_data_10_percent"
      ],
      "metadata": {
        "colab": {
          "base_uri": "https://localhost:8080/"
        },
        "id": "3gOjV5OcrEYa",
        "outputId": "ed833382-65d3-4486-be25-287f9b7bc234"
      },
      "execution_count": 14,
      "outputs": [
        {
          "output_type": "execute_result",
          "data": {
            "text/plain": [
              "<_BatchDataset element_spec=(TensorSpec(shape=(None, 224, 224, 3), dtype=tf.float32, name=None), TensorSpec(shape=(None, 10), dtype=tf.float32, name=None))>"
            ]
          },
          "metadata": {},
          "execution_count": 14
        }
      ]
    },
    {
      "cell_type": "code",
      "source": [
        "train_data_10_percent.class_names"
      ],
      "metadata": {
        "colab": {
          "base_uri": "https://localhost:8080/"
        },
        "id": "XLwu71_DrRpF",
        "outputId": "f7857226-7b80-4fcb-b754-367fafe3dc03"
      },
      "execution_count": 15,
      "outputs": [
        {
          "output_type": "execute_result",
          "data": {
            "text/plain": [
              "['chicken_curry',\n",
              " 'chicken_wings',\n",
              " 'fried_rice',\n",
              " 'grilled_salmon',\n",
              " 'hamburger',\n",
              " 'ice_cream',\n",
              " 'pizza',\n",
              " 'ramen',\n",
              " 'steak',\n",
              " 'sushi']"
            ]
          },
          "metadata": {},
          "execution_count": 15
        }
      ]
    },
    {
      "cell_type": "code",
      "source": [
        "%%writefile -a helper_functions.py\n",
        "import datetime\n",
        "import tensorflow as tf\n",
        "def create_tensorboard_callbacks(log_dir,experiment_name):\n",
        "  log_dir = log_dir + \"/\" + experiment_name+ \"/\"+ datetime.datetime.now().strftime(\"%Y%m%d-%H%M%S\")\n",
        "  return tf.keras.callbacks.TensorBoard(log_dir=log_dir)"
      ],
      "metadata": {
        "colab": {
          "base_uri": "https://localhost:8080/"
        },
        "id": "LiliRdvRyTQB",
        "outputId": "9227a281-bc72-4fe5-cecc-4d3e94be189b"
      },
      "execution_count": 29,
      "outputs": [
        {
          "output_type": "stream",
          "name": "stdout",
          "text": [
            "Appending to helper_functions.py\n"
          ]
        }
      ]
    },
    {
      "cell_type": "markdown",
      "source": [
        "## Model 0: Build a Transfer Learning model using keras Functional API\n",
        "\n",
        "Steps:\n",
        "1. Instantiate a pre-trained base model object by choosing the target model as [EfficientNetB0]() from `tf.keras.applications` setting the `include_top` parameter to `False` ( as we will have our own output layers)\n",
        "2. Set the base model's `trainable` attribute to `False` to freeze all of the weights in the pre-trained model\n",
        "3. Define an input layer for our model, what shape of data should our model expects.\n",
        "4. Normalize the input to our model if needed.\n",
        "5. Pass the input to the model.\n",
        "6. Pool the output of the base model into a shape compatible with output activation layer ( turn base model output tensors to same shape as label tensors). This can be done using `tf.keras.layers.GlobalAveragePooling2d()` or `tf.keras.layers.GlobalMaxPooling2D()` though the former is more common in practice.\n",
        "7. Create an output activation layer using `tf.keras.layers.Dense()` with appropriate activation function and number of neurons.\n",
        "8. Combine the input and out layers with `tf.keras.Model()`\n",
        "9. Compile the model using appropriate loss function and optimizer.\n",
        "10. Fit the model with desired number of epochs and necessary callbacks."
      ],
      "metadata": {
        "id": "MiFJAPH5rcmr"
      }
    },
    {
      "cell_type": "code",
      "source": [
        "from helper_functions import create_tensorboard_callbacks\n",
        "# 1. Instantiate a pre-trained EfficientNetB0 model disabling the top layers with include_top=False\n",
        "effnetb0_model= tf.keras.applications.EfficientNetB0(include_top=False)\n",
        "# 2. Set the base model trainable attribute to false to freeze all of the weights in pre-trained model\n",
        "effnetb0_model.trainable= False\n",
        "# 3. Define an output layer for our model\n",
        "inputs= tf.keras.layers.Input(shape=(224,224,3),name=\"input_layer\")\n",
        "# 4. Normalize the input ( Not required as per this thread: https://github.com/tensorflow/tensorflow/issues/42506)\n",
        "\n",
        "# 5. Pass the input to the model\n",
        "x= effnetb0_model(inputs)\n",
        "\n",
        "# 6. Pool the output of the base model inot a shape compatible with output activation layer\n",
        "x= tf.keras.layers.GlobalAveragePooling2D(name=\"global_average_pooling_layer\")(x)\n",
        "# 7. Create the output activation layer\n",
        "outputs= tf.keras.layers.Dense(len(train_data_10_percent.class_names),activation=\"softmax\",name=\"output_layer\")(x)\n",
        "# 8. Combine the input and output layers\n",
        "model= tf.keras.Model(inputs= inputs\n",
        "                      ,outputs= outputs\n",
        "                      ,name=\"effnetb0_pretrained\")\n",
        "\n",
        "# 9. Compile the model\n",
        "model.compile(loss=tf.keras.losses.categorical_crossentropy\n",
        "              ,optimizer=tf.keras.optimizers.Adam()\n",
        "              ,metrics=[\"accuracy\"])\n",
        "# 10. Fit the model with desired number of epochs and necessary callbacks.\n",
        "effnetb0_history= model.fit(train_data_10_percent\n",
        "                            ,steps_per_epoch=len(train_data_10_percent),\n",
        "                            validation_data=test_data_10_percent\n",
        "                            ,validation_steps=int(0.25 * len(test_data_10_percent))\n",
        "                            ,epochs=5\n",
        "                            ,callbacks=[create_tensorboard_callbacks(log_dir=\"transfer_learning\",\n",
        "                                                                     experiment_name=\"effnet_10_percent_feature_extract\")])\n",
        "\n"
      ],
      "metadata": {
        "colab": {
          "base_uri": "https://localhost:8080/"
        },
        "id": "xE91Ny2eue_W",
        "outputId": "25a2e149-9f6c-4835-d67f-0598fa170b76"
      },
      "execution_count": 30,
      "outputs": [
        {
          "output_type": "stream",
          "name": "stderr",
          "text": [
            "WARNING:tensorflow:Model failed to serialize as JSON. Ignoring... Unable to serialize [2.0896919 2.1128857 2.1081853] to JSON. Unrecognized type <class 'tensorflow.python.framework.ops.EagerTensor'>.\n"
          ]
        },
        {
          "output_type": "stream",
          "name": "stdout",
          "text": [
            "Epoch 1/5\n",
            "24/24 [==============================] - 14s 200ms/step - loss: 1.8728 - accuracy: 0.4160 - val_loss: 1.2888 - val_accuracy: 0.7188\n",
            "Epoch 2/5\n",
            "24/24 [==============================] - 4s 127ms/step - loss: 1.0981 - accuracy: 0.7827 - val_loss: 0.8076 - val_accuracy: 0.8646\n",
            "Epoch 3/5\n",
            "24/24 [==============================] - 4s 131ms/step - loss: 0.7911 - accuracy: 0.8307 - val_loss: 0.6385 - val_accuracy: 0.8594\n",
            "Epoch 4/5\n",
            "24/24 [==============================] - 4s 158ms/step - loss: 0.6415 - accuracy: 0.8480 - val_loss: 0.5193 - val_accuracy: 0.8802\n",
            "Epoch 5/5\n",
            "24/24 [==============================] - 4s 128ms/step - loss: 0.5492 - accuracy: 0.8800 - val_loss: 0.4578 - val_accuracy: 0.8854\n"
          ]
        }
      ]
    },
    {
      "cell_type": "code",
      "source": [
        "from helper_functions import plot_loss_curve\n",
        "plot_loss_curve(effnetb0_history)"
      ],
      "metadata": {
        "colab": {
          "base_uri": "https://localhost:8080/",
          "height": 927
        },
        "id": "ef4daSYM0mYI",
        "outputId": "84bc0c64-d8c9-4d12-b789-3dd8bf1ff07a"
      },
      "execution_count": 31,
      "outputs": [
        {
          "output_type": "display_data",
          "data": {
            "text/plain": [
              "<Figure size 640x480 with 1 Axes>"
            ],
            "image/png": "[encoded data removed]"
          },
          "metadata": {}
        },
        {
          "output_type": "display_data",
          "data": {
            "text/plain": [
              "<Figure size 640x480 with 1 Axes>"
            ],
            "image/png": "[encoded data removed]"
          },
          "metadata": {}
        }
      ]
    },
    {
      "cell_type": "code",
      "source": [
        "import pandas as pd\n",
        "pd.DataFrame(effnetb0_history.history).plot()"
      ],
      "metadata": {
        "colab": {
          "base_uri": "https://localhost:8080/",
          "height": 448
        },
        "id": "TUx76eK33Xjz",
        "outputId": "cb1e6957-3f62-4ca4-d0c2-7b649a0feeab"
      },
      "execution_count": 23,
      "outputs": [
        {
          "output_type": "execute_result",
          "data": {
            "text/plain": [
              "<Axes: >"
            ]
          },
          "metadata": {},
          "execution_count": 23
        },
        {
          "output_type": "display_data",
          "data": {
            "text/plain": [
              "<Figure size 640x480 with 1 Axes>"
            ],
            "image/png": "[encoded data removed]"
          },
          "metadata": {}
        }
      ]
    },
    {
      "cell_type": "code",
      "source": [],
      "metadata": {
        "id": "_0-KVi1C5_jc"
      },
      "execution_count": null,
      "outputs": []
    }
  ]
}