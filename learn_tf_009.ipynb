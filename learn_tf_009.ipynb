{
  "nbformat": 4,
  "nbformat_minor": 0,
  "metadata": {
    "colab": {
      "provenance": [],
      "authorship_tag": "ABX9TyPaMK4iU59q7qL4rI+5HH1Q",
      "include_colab_link": true
    },
    "kernelspec": {
      "name": "python3",
      "display_name": "Python 3"
    },
    "language_info": {
      "name": "python"
    }
  },
  "cells": [
    {
      "cell_type": "markdown",
      "metadata": {
        "id": "view-in-github",
        "colab_type": "text"
      },
      "source": [
        "<a href=\"https://colab.research.google.com/github/bikash119/learn_tensorflow/blob/main/learn_tf_009.ipynb\" target=\"_parent\"><img src=\"https://colab.research.google.com/assets/colab-badge.svg\" alt=\"Open In Colab\"/></a>"
      ]
    },
    {
      "cell_type": "markdown",
      "source": [
        "## Transfer Learning Part 2: Fine-Tuning\n",
        "\n",
        "### What we will cover\n",
        "1. Introduce fine-tuning, a transfer learning approach to modify pre-trained layers to be more suited for our data.\n",
        "2. Using the keras Functional API\n",
        "3. Smaller dataset of faster experimentation\n",
        "4. Data Augmenetation ( how to make our training dataset more diverse without adding more data).\n",
        "5. Running a series of model experiments using our Food Vision data\n",
        "    1. Model0: A transfer learning model using Keras functional api\n",
        "    2. Model1: A feature extraction transfer learning model using 1% of the data with data augmentation\n",
        "    3. Model2: A feature extraction transfer learning model using 10% of the data with data augmentation.\n",
        "    4. Model3: A fine-tuned transfer learning model on 10% of data.\n",
        "    5. Model4: A fine-tuned transfer learning model on 100% of data.\n",
        "6. Introduce model checkpoints to save intermediate model results\n",
        "7. Compare the model experiments using tensorboard.\n",
        "\n",
        "\n"
      ],
      "metadata": {
        "id": "XB-lnnymj3tK"
      }
    },
    {
      "cell_type": "code",
      "source": [
        "import datetime\n",
        "print(f\" Notebook last run (end-to-end) {datetime.datetime.now()}\")"
      ],
      "metadata": {
        "colab": {
          "base_uri": "https://localhost:8080/"
        },
        "id": "TfEM6d2fmO8z",
        "outputId": "d0aa32d7-0332-4802-cc30-356ae734b7ca"
      },
      "execution_count": 1,
      "outputs": [
        {
          "output_type": "stream",
          "name": "stdout",
          "text": [
            " Notebook last run (end-to-end) 2023-08-02 23:34:54.131200\n"
          ]
        }
      ]
    },
    {
      "cell_type": "code",
      "source": [
        "import tensorflow as tf\n",
        "print(f\" Tensorflow version : {tf.__version__}\")"
      ],
      "metadata": {
        "colab": {
          "base_uri": "https://localhost:8080/"
        },
        "id": "irjZ5un9moib",
        "outputId": "82b6ff91-d6bc-4703-fb35-e9a00a10a8af"
      },
      "execution_count": 2,
      "outputs": [
        {
          "output_type": "stream",
          "name": "stdout",
          "text": [
            " Tensorflow version : 2.12.0\n"
          ]
        }
      ]
    },
    {
      "cell_type": "code",
      "source": [
        "%%writefile helper_functions.py\n",
        "import matplotlib.pyplot as plt\n",
        "\n",
        "def plot_loss_curve(history):\n",
        "  \"\"\"\n",
        "    Plots the loss and accuracy curve for training and validation metrics\n",
        "    Args:\n",
        "      history(A History object):\n",
        "\n",
        "  \"\"\"\n",
        "  epochs= range(len(history.history[\"loss\"]))\n",
        "  loss= history.history[\"loss\"]\n",
        "  val_loss= history.history[\"accuracy\"]\n",
        "\n",
        "  plt.plot(loss,epochs,label=\"Train loss\")\n",
        "  plt.plot(val_loss,epochs,label=\"Validation loss\")\n",
        "  plt.title(\"Loss\")\n",
        "  plt.xlabel(\"Epochs\")\n",
        "  plt.legend()\n",
        "\n",
        "  ## Plot Accuracy\n",
        "  plt.figure()\n",
        "  accuracy= history.history[\"accuracy\"]\n",
        "  val_accuracy= history.history[\"val_accuracy\"]\n",
        "  plt.title(\"Accuracy\")\n",
        "  plt.xlabel(\"Epochs\")\n",
        "  plt.legend();\n",
        "\n"
      ],
      "metadata": {
        "colab": {
          "base_uri": "https://localhost:8080/"
        },
        "id": "t3Kp5Fm6mvwN",
        "outputId": "c82a1a6d-75dd-4ede-9d84-30210485a6a0"
      },
      "execution_count": 35,
      "outputs": [
        {
          "output_type": "stream",
          "name": "stdout",
          "text": [
            "Writing helper_functions.py\n"
          ]
        }
      ]
    },
    {
      "cell_type": "code",
      "source": [
        "from helper_functions import plot_loss_curve"
      ],
      "metadata": {
        "id": "onjJKUNQsAaz"
      },
      "execution_count": 8,
      "outputs": []
    },
    {
      "cell_type": "code",
      "source": [
        "## Download data and unzip it\n",
        "!wget https://storage.googleapis.com/ztm_tf_course/food_vision/10_food_classes_10_percent.zip\n",
        "\n"
      ],
      "metadata": {
        "colab": {
          "base_uri": "https://localhost:8080/"
        },
        "id": "424j0L0Ps0Uc",
        "outputId": "59a4fcec-7ae9-42de-e771-1042ca57a1fc"
      },
      "execution_count": 9,
      "outputs": [
        {
          "output_type": "stream",
          "name": "stdout",
          "text": [
            "--2023-08-03 00:08:30--  https://storage.googleapis.com/ztm_tf_course/food_vision/10_food_classes_10_percent.zip\n",
            "Resolving storage.googleapis.com (storage.googleapis.com)... 142.251.2.128, 74.125.137.128, 142.250.101.128, ...\n",
            "Connecting to storage.googleapis.com (storage.googleapis.com)|142.251.2.128|:443... connected.\n",
            "HTTP request sent, awaiting response... 200 OK\n",
            "Length: 168546183 (161M) [application/zip]\n",
            "Saving to: ‘10_food_classes_10_percent.zip’\n",
            "\n",
            "10_food_classes_10_ 100%[===================>] 160.74M   127MB/s    in 1.3s    \n",
            "\n",
            "2023-08-03 00:08:31 (127 MB/s) - ‘10_food_classes_10_percent.zip’ saved [168546183/168546183]\n",
            "\n"
          ]
        }
      ]
    },
    {
      "cell_type": "code",
      "source": [
        "%%writefile -a helper_functions.py\n",
        "\n",
        "import zipfile\n",
        "import os\n",
        "def unzip_data(zipped_file,remove_src_zip=True):\n",
        "  \"\"\"\n",
        "    Takes a zipped file and unzips it.Removes the source zipfile.\n",
        "  \"\"\"\n",
        "  zip_ref= zipfile.ZipFile(zipped_file,\"r\")\n",
        "  zip_ref.extractall()\n",
        "  zip_ref.close()\n",
        "  os.remove(zipped_file)"
      ],
      "metadata": {
        "colab": {
          "base_uri": "https://localhost:8080/"
        },
        "id": "WfiiyruOuXSp",
        "outputId": "573bb61a-c637-4323-ea70-f1e5a5a2e810"
      },
      "execution_count": 36,
      "outputs": [
        {
          "output_type": "stream",
          "name": "stdout",
          "text": [
            "Appending to helper_functions.py\n"
          ]
        }
      ]
    },
    {
      "cell_type": "code",
      "source": [
        "unzip_data(\"/content/10_food_classes_10_percent.zip\")"
      ],
      "metadata": {
        "id": "EuDnBw6hvHYz"
      },
      "execution_count": 15,
      "outputs": []
    },
    {
      "cell_type": "code",
      "source": [
        "!rm -r \"/content/__MACOSX\""
      ],
      "metadata": {
        "id": "HqqNMiRavLZo"
      },
      "execution_count": 16,
      "outputs": []
    },
    {
      "cell_type": "code",
      "source": [
        "%less helper_functions.py"
      ],
      "metadata": {
        "id": "gxHN5VDXvXoN"
      },
      "execution_count": 26,
      "outputs": []
    },
    {
      "cell_type": "code",
      "source": [
        "os.walk?"
      ],
      "metadata": {
        "id": "53N1-u0xvyrs"
      },
      "execution_count": 27,
      "outputs": []
    },
    {
      "cell_type": "code",
      "source": [
        "data_dir= \"/content/10_food_classes_10_percent\""
      ],
      "metadata": {
        "id": "7J1x3Tx3wejJ"
      },
      "execution_count": 6,
      "outputs": []
    },
    {
      "cell_type": "code",
      "source": [
        "%%writefile -a helper_functions.py\n",
        "\n",
        "def walk_through_dir(data_dir):\n",
        "  for dirpath,dirnames,filenames in os.walk(data_dir):\n",
        "    print(f\" There are {len(filenames)} images and {len(dirnames)} folder at {dirpath}\")\n",
        "\n"
      ],
      "metadata": {
        "colab": {
          "base_uri": "https://localhost:8080/"
        },
        "id": "6LEN1OuKwOyJ",
        "outputId": "ef78d6c4-de93-4c05-b13b-f7a69d4c574e"
      },
      "execution_count": 37,
      "outputs": [
        {
          "output_type": "stream",
          "name": "stdout",
          "text": [
            "Appending to helper_functions.py\n"
          ]
        }
      ]
    },
    {
      "cell_type": "code",
      "source": [
        "import sys\n",
        "sys.path.append(\"/content\")\n",
        "from helper_functions import walk_through_dir\n",
        "walk_through_dir(data_dir)\n"
      ],
      "metadata": {
        "colab": {
          "base_uri": "https://localhost:8080/"
        },
        "id": "FlVaIJtFxO7a",
        "outputId": "e3764536-0bb5-4ebd-96fd-069759207bcf"
      },
      "execution_count": 7,
      "outputs": [
        {
          "output_type": "stream",
          "name": "stdout",
          "text": [
            " There are 0 images and 2 folder at /content/10_food_classes_10_percent\n",
            " There are 0 images and 10 folder at /content/10_food_classes_10_percent/test\n",
            " There are 250 images and 0 folder at /content/10_food_classes_10_percent/test/sushi\n",
            " There are 250 images and 0 folder at /content/10_food_classes_10_percent/test/chicken_curry\n",
            " There are 250 images and 0 folder at /content/10_food_classes_10_percent/test/ramen\n",
            " There are 250 images and 0 folder at /content/10_food_classes_10_percent/test/grilled_salmon\n",
            " There are 250 images and 0 folder at /content/10_food_classes_10_percent/test/chicken_wings\n",
            " There are 250 images and 0 folder at /content/10_food_classes_10_percent/test/ice_cream\n",
            " There are 250 images and 0 folder at /content/10_food_classes_10_percent/test/fried_rice\n",
            " There are 250 images and 0 folder at /content/10_food_classes_10_percent/test/hamburger\n",
            " There are 250 images and 0 folder at /content/10_food_classes_10_percent/test/steak\n",
            " There are 250 images and 0 folder at /content/10_food_classes_10_percent/test/pizza\n",
            " There are 0 images and 10 folder at /content/10_food_classes_10_percent/train\n",
            " There are 75 images and 0 folder at /content/10_food_classes_10_percent/train/sushi\n",
            " There are 75 images and 0 folder at /content/10_food_classes_10_percent/train/chicken_curry\n",
            " There are 75 images and 0 folder at /content/10_food_classes_10_percent/train/ramen\n",
            " There are 75 images and 0 folder at /content/10_food_classes_10_percent/train/grilled_salmon\n",
            " There are 75 images and 0 folder at /content/10_food_classes_10_percent/train/chicken_wings\n",
            " There are 75 images and 0 folder at /content/10_food_classes_10_percent/train/ice_cream\n",
            " There are 75 images and 0 folder at /content/10_food_classes_10_percent/train/fried_rice\n",
            " There are 75 images and 0 folder at /content/10_food_classes_10_percent/train/hamburger\n",
            " There are 75 images and 0 folder at /content/10_food_classes_10_percent/train/steak\n",
            " There are 75 images and 0 folder at /content/10_food_classes_10_percent/train/pizza\n"
          ]
        }
      ]
    },
    {
      "cell_type": "code",
      "source": [
        "%less helper_functions.py"
      ],
      "metadata": {
        "id": "tjnkqFZmxuaQ"
      },
      "execution_count": 39,
      "outputs": []
    },
    {
      "cell_type": "code",
      "source": [
        "\n",
        "\n",
        "unzip_data(\"xyz\")"
      ],
      "metadata": {
        "colab": {
          "base_uri": "https://localhost:8080/",
          "height": 339
        },
        "id": "2lcDz2ACx4ae",
        "outputId": "6c96c6c6-81cb-4794-d701-0504033f7a1b"
      },
      "execution_count": 50,
      "outputs": [
        {
          "output_type": "error",
          "ename": "FileNotFoundError",
          "evalue": "ignored",
          "traceback": [
            "\u001b[0;31m---------------------------------------------------------------------------\u001b[0m",
            "\u001b[0;31mFileNotFoundError\u001b[0m                         Traceback (most recent call last)",
            "\u001b[0;32m<ipython-input-50-bbdcba4bf599>\u001b[0m in \u001b[0;36m<cell line: 1>\u001b[0;34m()\u001b[0m\n\u001b[0;32m----> 1\u001b[0;31m \u001b[0munzip_data\u001b[0m\u001b[0;34m(\u001b[0m\u001b[0;34m\"xyz\"\u001b[0m\u001b[0;34m)\u001b[0m\u001b[0;34m\u001b[0m\u001b[0;34m\u001b[0m\u001b[0m\n\u001b[0m",
            "\u001b[0;32m<ipython-input-14-08651ee3605f>\u001b[0m in \u001b[0;36munzip_data\u001b[0;34m(zipped_file, remove_src_zip)\u001b[0m\n\u001b[1;32m      5\u001b[0m     \u001b[0mTakes\u001b[0m \u001b[0ma\u001b[0m \u001b[0mzipped\u001b[0m \u001b[0mfile\u001b[0m \u001b[0;32mand\u001b[0m \u001b[0munzips\u001b[0m \u001b[0mit\u001b[0m\u001b[0;34m.\u001b[0m\u001b[0mRemoves\u001b[0m \u001b[0mthe\u001b[0m \u001b[0msource\u001b[0m \u001b[0mzipfile\u001b[0m\u001b[0;34m.\u001b[0m\u001b[0;34m\u001b[0m\u001b[0;34m\u001b[0m\u001b[0m\n\u001b[1;32m      6\u001b[0m   \"\"\"\n\u001b[0;32m----> 7\u001b[0;31m   \u001b[0mzip_ref\u001b[0m\u001b[0;34m=\u001b[0m \u001b[0mzipfile\u001b[0m\u001b[0;34m.\u001b[0m\u001b[0mZipFile\u001b[0m\u001b[0;34m(\u001b[0m\u001b[0mzipped_file\u001b[0m\u001b[0;34m,\u001b[0m\u001b[0;34m\"r\"\u001b[0m\u001b[0;34m)\u001b[0m\u001b[0;34m\u001b[0m\u001b[0;34m\u001b[0m\u001b[0m\n\u001b[0m\u001b[1;32m      8\u001b[0m   \u001b[0mzip_ref\u001b[0m\u001b[0;34m.\u001b[0m\u001b[0mextractall\u001b[0m\u001b[0;34m(\u001b[0m\u001b[0;34m)\u001b[0m\u001b[0;34m\u001b[0m\u001b[0;34m\u001b[0m\u001b[0m\n\u001b[1;32m      9\u001b[0m   \u001b[0mzip_ref\u001b[0m\u001b[0;34m.\u001b[0m\u001b[0mclose\u001b[0m\u001b[0;34m(\u001b[0m\u001b[0;34m)\u001b[0m\u001b[0;34m\u001b[0m\u001b[0;34m\u001b[0m\u001b[0m\n",
            "\u001b[0;32m/usr/lib/python3.10/zipfile.py\u001b[0m in \u001b[0;36m__init__\u001b[0;34m(self, file, mode, compression, allowZip64, compresslevel, strict_timestamps)\u001b[0m\n\u001b[1;32m   1249\u001b[0m             \u001b[0;32mwhile\u001b[0m \u001b[0;32mTrue\u001b[0m\u001b[0;34m:\u001b[0m\u001b[0;34m\u001b[0m\u001b[0;34m\u001b[0m\u001b[0m\n\u001b[1;32m   1250\u001b[0m                 \u001b[0;32mtry\u001b[0m\u001b[0;34m:\u001b[0m\u001b[0;34m\u001b[0m\u001b[0;34m\u001b[0m\u001b[0m\n\u001b[0;32m-> 1251\u001b[0;31m                     \u001b[0mself\u001b[0m\u001b[0;34m.\u001b[0m\u001b[0mfp\u001b[0m \u001b[0;34m=\u001b[0m \u001b[0mio\u001b[0m\u001b[0;34m.\u001b[0m\u001b[0mopen\u001b[0m\u001b[0;34m(\u001b[0m\u001b[0mfile\u001b[0m\u001b[0;34m,\u001b[0m \u001b[0mfilemode\u001b[0m\u001b[0;34m)\u001b[0m\u001b[0;34m\u001b[0m\u001b[0;34m\u001b[0m\u001b[0m\n\u001b[0m\u001b[1;32m   1252\u001b[0m                 \u001b[0;32mexcept\u001b[0m \u001b[0mOSError\u001b[0m\u001b[0;34m:\u001b[0m\u001b[0;34m\u001b[0m\u001b[0;34m\u001b[0m\u001b[0m\n\u001b[1;32m   1253\u001b[0m                     \u001b[0;32mif\u001b[0m \u001b[0mfilemode\u001b[0m \u001b[0;32min\u001b[0m \u001b[0mmodeDict\u001b[0m\u001b[0;34m:\u001b[0m\u001b[0;34m\u001b[0m\u001b[0;34m\u001b[0m\u001b[0m\n",
            "\u001b[0;31mFileNotFoundError\u001b[0m: [Errno 2] No such file or directory: 'xyz'"
          ]
        }
      ]
    },
    {
      "cell_type": "code",
      "source": [],
      "metadata": {
        "id": "Y8GMG2izycFv"
      },
      "execution_count": null,
      "outputs": []
    }
  ]
}