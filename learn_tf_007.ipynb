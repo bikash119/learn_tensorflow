{
  "nbformat": 4,
  "nbformat_minor": 0,
  "metadata": {
    "colab": {
      "provenance": [],
      "gpuType": "T4",
      "authorship_tag": "ABX9TyOt64pHIMRjxmI47TlnuLfB",
      "include_colab_link": true
    },
    "kernelspec": {
      "name": "python3",
      "display_name": "Python 3"
    },
    "language_info": {
      "name": "python"
    },
    "accelerator": "GPU"
  },
  "cells": [
    {
      "cell_type": "markdown",
      "metadata": {
        "id": "view-in-github",
        "colab_type": "text"
      },
      "source": [
        "<a href=\"https://colab.research.google.com/github/bikash119/learn_tensorflow/blob/main/learn_tf_007.ipynb\" target=\"_parent\"><img src=\"https://colab.research.google.com/assets/colab-badge.svg\" alt=\"Open In Colab\"/></a>"
      ]
    },
    {
      "cell_type": "markdown",
      "source": [
        "## Time-series forecasting with TensorFlow\n",
        "\n",
        "What are we going to cover?\n",
        "1. Get a time series data (the historical price of Bitcoin)\n",
        "  * Load time series data using Pandas/Python CSV\n",
        "2. Format data for a time series problem\n",
        "  * Creating a training and test set wrong way\n",
        "  * Creating a training and test set right way\n",
        "  * Visualizing time series data\n",
        "  * Turning time series model into supervised learning problem ( Windowing )\n",
        "  * Preparing Univariate and Multivariable ( more than one variable ) data\n",
        "\n",
        "3. Evaluating a time series model\n",
        "4. Setting up a series for deep leaning modelling experiments\n",
        "  * Dense fully connected\n",
        "  * Sequence model ( LSTM and 1D CNN )\n",
        "  * Ensembling ( combining multiple models together )\n",
        "  * Multivariate models\n",
        "  * Replicating the N-Beats algorithm using Tensorflow Layer subclassing\n",
        "5. Creating a modelling checkpoint to save best performing model\n",
        "6. Making predictions (forecast) with time series model.\n",
        "7. Creating prediction intervals for time series forecasts.\n"
      ],
      "metadata": {
        "id": "j_40Hk26PoJ_"
      }
    },
    {
      "cell_type": "markdown",
      "source": [
        "## 1. Get the data"
      ],
      "metadata": {
        "id": "4iv5WIQbVTE6"
      }
    },
    {
      "cell_type": "code",
      "execution_count": 1,
      "metadata": {
        "colab": {
          "base_uri": "https://localhost:8080/"
        },
        "id": "lAw6D6NNPiZW",
        "outputId": "0b2a4448-8209-4bd6-f171-b1e2db0f46e6"
      },
      "outputs": [
        {
          "output_type": "stream",
          "name": "stdout",
          "text": [
            "--2023-07-29 00:56:10--  https://raw.githubusercontent.com/mrdbourke/tensorflow-deep-learning/main/extras/BTC_USD_2013-10-01_2021-05-18-CoinDesk.csv\n",
            "Resolving raw.githubusercontent.com (raw.githubusercontent.com)... 185.199.111.133, 185.199.108.133, 185.199.110.133, ...\n",
            "Connecting to raw.githubusercontent.com (raw.githubusercontent.com)|185.199.111.133|:443... connected.\n",
            "HTTP request sent, awaiting response... 200 OK\n",
            "Length: 178509 (174K) [text/plain]\n",
            "Saving to: ‘BTC_USD_2013-10-01_2021-05-18-CoinDesk.csv’\n",
            "\n",
            "BTC_USD_2013-10-01_ 100%[===================>] 174.33K  --.-KB/s    in 0.003s  \n",
            "\n",
            "2023-07-29 00:56:10 (53.5 MB/s) - ‘BTC_USD_2013-10-01_2021-05-18-CoinDesk.csv’ saved [178509/178509]\n",
            "\n"
          ]
        }
      ],
      "source": [
        "!wget https://raw.githubusercontent.com/mrdbourke/tensorflow-deep-learning/main/extras/BTC_USD_2013-10-01_2021-05-18-CoinDesk.csv"
      ]
    },
    {
      "cell_type": "markdown",
      "source": [
        "### 1.1 Import time series data with Pandas"
      ],
      "metadata": {
        "id": "w8vBsIc4Vd0o"
      }
    },
    {
      "cell_type": "code",
      "source": [
        "import pandas as pd\n",
        "price_df = pd.read_csv(\"/content/BTC_USD_2013-10-01_2021-05-18-CoinDesk.csv\"\n",
        "                 ,parse_dates=[\"Date\"]\n",
        "                 ,index_col=[\"Date\"]\n",
        "                 )\n",
        "\n",
        "price_df.head()"
      ],
      "metadata": {
        "colab": {
          "base_uri": "https://localhost:8080/",
          "height": 237
        },
        "id": "SVtR0PcuVY6F",
        "outputId": "d3544117-b52b-4a05-94d6-093f3fa85027"
      },
      "execution_count": 2,
      "outputs": [
        {
          "output_type": "execute_result",
          "data": {
            "text/plain": [
              "           Currency  Closing Price (USD)  24h Open (USD)  24h High (USD)  \\\n",
              "Date                                                                       \n",
              "2013-10-01      BTC            123.65499       124.30466       124.75166   \n",
              "2013-10-02      BTC            125.45500       123.65499       125.75850   \n",
              "2013-10-03      BTC            108.58483       125.45500       125.66566   \n",
              "2013-10-04      BTC            118.67466       108.58483       118.67500   \n",
              "2013-10-05      BTC            121.33866       118.67466       121.93633   \n",
              "\n",
              "            24h Low (USD)  \n",
              "Date                       \n",
              "2013-10-01      122.56349  \n",
              "2013-10-02      123.63383  \n",
              "2013-10-03       83.32833  \n",
              "2013-10-04      107.05816  \n",
              "2013-10-05      118.00566  "
            ],
            "text/html": [
              "\n",
              "\n",
              "  <div id=\"df-3559d46c-6d22-46e3-908d-ff78822ce32d\">\n",
              "    <div class=\"colab-df-container\">\n",
              "      <div>\n",
              "<style scoped>\n",
              "    .dataframe tbody tr th:only-of-type {\n",
              "        vertical-align: middle;\n",
              "    }\n",
              "\n",
              "    .dataframe tbody tr th {\n",
              "        vertical-align: top;\n",
              "    }\n",
              "\n",
              "    .dataframe thead th {\n",
              "        text-align: right;\n",
              "    }\n",
              "</style>\n",
              "<table border=\"1\" class=\"dataframe\">\n",
              "  <thead>\n",
              "    <tr style=\"text-align: right;\">\n",
              "      <th></th>\n",
              "      <th>Currency</th>\n",
              "      <th>Closing Price (USD)</th>\n",
              "      <th>24h Open (USD)</th>\n",
              "      <th>24h High (USD)</th>\n",
              "      <th>24h Low (USD)</th>\n",
              "    </tr>\n",
              "    <tr>\n",
              "      <th>Date</th>\n",
              "      <th></th>\n",
              "      <th></th>\n",
              "      <th></th>\n",
              "      <th></th>\n",
              "      <th></th>\n",
              "    </tr>\n",
              "  </thead>\n",
              "  <tbody>\n",
              "    <tr>\n",
              "      <th>2013-10-01</th>\n",
              "      <td>BTC</td>\n",
              "      <td>123.65499</td>\n",
              "      <td>124.30466</td>\n",
              "      <td>124.75166</td>\n",
              "      <td>122.56349</td>\n",
              "    </tr>\n",
              "    <tr>\n",
              "      <th>2013-10-02</th>\n",
              "      <td>BTC</td>\n",
              "      <td>125.45500</td>\n",
              "      <td>123.65499</td>\n",
              "      <td>125.75850</td>\n",
              "      <td>123.63383</td>\n",
              "    </tr>\n",
              "    <tr>\n",
              "      <th>2013-10-03</th>\n",
              "      <td>BTC</td>\n",
              "      <td>108.58483</td>\n",
              "      <td>125.45500</td>\n",
              "      <td>125.66566</td>\n",
              "      <td>83.32833</td>\n",
              "    </tr>\n",
              "    <tr>\n",
              "      <th>2013-10-04</th>\n",
              "      <td>BTC</td>\n",
              "      <td>118.67466</td>\n",
              "      <td>108.58483</td>\n",
              "      <td>118.67500</td>\n",
              "      <td>107.05816</td>\n",
              "    </tr>\n",
              "    <tr>\n",
              "      <th>2013-10-05</th>\n",
              "      <td>BTC</td>\n",
              "      <td>121.33866</td>\n",
              "      <td>118.67466</td>\n",
              "      <td>121.93633</td>\n",
              "      <td>118.00566</td>\n",
              "    </tr>\n",
              "  </tbody>\n",
              "</table>\n",
              "</div>\n",
              "      <button class=\"colab-df-convert\" onclick=\"convertToInteractive('df-3559d46c-6d22-46e3-908d-ff78822ce32d')\"\n",
              "              title=\"Convert this dataframe to an interactive table.\"\n",
              "              style=\"display:none;\">\n",
              "\n",
              "  <svg xmlns=\"http://www.w3.org/2000/svg\" height=\"24px\"viewBox=\"0 0 24 24\"\n",
              "       width=\"24px\">\n",
              "    <path d=\"M0 0h24v24H0V0z\" fill=\"none\"/>\n",
              "    <path d=\"M18.56 5.44l.94 2.06.94-2.06 2.06-.94-2.06-.94-.94-2.06-.94 2.06-2.06.94zm-11 1L8.5 8.5l.94-2.06 2.06-.94-2.06-.94L8.5 2.5l-.94 2.06-2.06.94zm10 10l.94 2.06.94-2.06 2.06-.94-2.06-.94-.94-2.06-.94 2.06-2.06.94z\"/><path d=\"M17.41 7.96l-1.37-1.37c-.4-.4-.92-.59-1.43-.59-.52 0-1.04.2-1.43.59L10.3 9.45l-7.72 7.72c-.78.78-.78 2.05 0 2.83L4 21.41c.39.39.9.59 1.41.59.51 0 1.02-.2 1.41-.59l7.78-7.78 2.81-2.81c.8-.78.8-2.07 0-2.86zM5.41 20L4 18.59l7.72-7.72 1.47 1.35L5.41 20z\"/>\n",
              "  </svg>\n",
              "      </button>\n",
              "\n",
              "\n",
              "\n",
              "    <div id=\"df-e3f4d9f4-8058-401a-aec9-52a677280590\">\n",
              "      <button class=\"colab-df-quickchart\" onclick=\"quickchart('df-e3f4d9f4-8058-401a-aec9-52a677280590')\"\n",
              "              title=\"Suggest charts.\"\n",
              "              style=\"display:none;\">\n",
              "\n",
              "<svg xmlns=\"http://www.w3.org/2000/svg\" height=\"24px\"viewBox=\"0 0 24 24\"\n",
              "     width=\"24px\">\n",
              "    <g>\n",
              "        <path d=\"M19 3H5c-1.1 0-2 .9-2 2v14c0 1.1.9 2 2 2h14c1.1 0 2-.9 2-2V5c0-1.1-.9-2-2-2zM9 17H7v-7h2v7zm4 0h-2V7h2v10zm4 0h-2v-4h2v4z\"/>\n",
              "    </g>\n",
              "</svg>\n",
              "      </button>\n",
              "    </div>\n",
              "\n",
              "<style>\n",
              "  .colab-df-quickchart {\n",
              "    background-color: #E8F0FE;\n",
              "    border: none;\n",
              "    border-radius: 50%;\n",
              "    cursor: pointer;\n",
              "    display: none;\n",
              "    fill: #1967D2;\n",
              "    height: 32px;\n",
              "    padding: 0 0 0 0;\n",
              "    width: 32px;\n",
              "  }\n",
              "\n",
              "  .colab-df-quickchart:hover {\n",
              "    background-color: #E2EBFA;\n",
              "    box-shadow: 0px 1px 2px rgba(60, 64, 67, 0.3), 0px 1px 3px 1px rgba(60, 64, 67, 0.15);\n",
              "    fill: #174EA6;\n",
              "  }\n",
              "\n",
              "  [theme=dark] .colab-df-quickchart {\n",
              "    background-color: #3B4455;\n",
              "    fill: #D2E3FC;\n",
              "  }\n",
              "\n",
              "  [theme=dark] .colab-df-quickchart:hover {\n",
              "    background-color: #434B5C;\n",
              "    box-shadow: 0px 1px 3px 1px rgba(0, 0, 0, 0.15);\n",
              "    filter: drop-shadow(0px 1px 2px rgba(0, 0, 0, 0.3));\n",
              "    fill: #FFFFFF;\n",
              "  }\n",
              "</style>\n",
              "\n",
              "    <script>\n",
              "      async function quickchart(key) {\n",
              "        const containerElement = document.querySelector('#' + key);\n",
              "        const charts = await google.colab.kernel.invokeFunction(\n",
              "            'suggestCharts', [key], {});\n",
              "      }\n",
              "    </script>\n",
              "\n",
              "      <script>\n",
              "\n",
              "function displayQuickchartButton(domScope) {\n",
              "  let quickchartButtonEl =\n",
              "    domScope.querySelector('#df-e3f4d9f4-8058-401a-aec9-52a677280590 button.colab-df-quickchart');\n",
              "  quickchartButtonEl.style.display =\n",
              "    google.colab.kernel.accessAllowed ? 'block' : 'none';\n",
              "}\n",
              "\n",
              "        displayQuickchartButton(document);\n",
              "      </script>\n",
              "      <style>\n",
              "    .colab-df-container {\n",
              "      display:flex;\n",
              "      flex-wrap:wrap;\n",
              "      gap: 12px;\n",
              "    }\n",
              "\n",
              "    .colab-df-convert {\n",
              "      background-color: #E8F0FE;\n",
              "      border: none;\n",
              "      border-radius: 50%;\n",
              "      cursor: pointer;\n",
              "      display: none;\n",
              "      fill: #1967D2;\n",
              "      height: 32px;\n",
              "      padding: 0 0 0 0;\n",
              "      width: 32px;\n",
              "    }\n",
              "\n",
              "    .colab-df-convert:hover {\n",
              "      background-color: #E2EBFA;\n",
              "      box-shadow: 0px 1px 2px rgba(60, 64, 67, 0.3), 0px 1px 3px 1px rgba(60, 64, 67, 0.15);\n",
              "      fill: #174EA6;\n",
              "    }\n",
              "\n",
              "    [theme=dark] .colab-df-convert {\n",
              "      background-color: #3B4455;\n",
              "      fill: #D2E3FC;\n",
              "    }\n",
              "\n",
              "    [theme=dark] .colab-df-convert:hover {\n",
              "      background-color: #434B5C;\n",
              "      box-shadow: 0px 1px 3px 1px rgba(0, 0, 0, 0.15);\n",
              "      filter: drop-shadow(0px 1px 2px rgba(0, 0, 0, 0.3));\n",
              "      fill: #FFFFFF;\n",
              "    }\n",
              "  </style>\n",
              "\n",
              "      <script>\n",
              "        const buttonEl =\n",
              "          document.querySelector('#df-3559d46c-6d22-46e3-908d-ff78822ce32d button.colab-df-convert');\n",
              "        buttonEl.style.display =\n",
              "          google.colab.kernel.accessAllowed ? 'block' : 'none';\n",
              "\n",
              "        async function convertToInteractive(key) {\n",
              "          const element = document.querySelector('#df-3559d46c-6d22-46e3-908d-ff78822ce32d');\n",
              "          const dataTable =\n",
              "            await google.colab.kernel.invokeFunction('convertToInteractive',\n",
              "                                                     [key], {});\n",
              "          if (!dataTable) return;\n",
              "\n",
              "          const docLinkHtml = 'Like what you see? Visit the ' +\n",
              "            '<a target=\"_blank\" href=https://colab.research.google.com/notebooks/data_table.ipynb>data table notebook</a>'\n",
              "            + ' to learn more about interactive tables.';\n",
              "          element.innerHTML = '';\n",
              "          dataTable['output_type'] = 'display_data';\n",
              "          await google.colab.output.renderOutput(dataTable, element);\n",
              "          const docLink = document.createElement('div');\n",
              "          docLink.innerHTML = docLinkHtml;\n",
              "          element.appendChild(docLink);\n",
              "        }\n",
              "      </script>\n",
              "    </div>\n",
              "  </div>\n"
            ]
          },
          "metadata": {},
          "execution_count": 2
        }
      ]
    },
    {
      "cell_type": "code",
      "source": [
        "price_df.info()"
      ],
      "metadata": {
        "colab": {
          "base_uri": "https://localhost:8080/"
        },
        "id": "gL0C9cMfV9mA",
        "outputId": "7a970aa5-9285-487d-b741-70c2329dd81b"
      },
      "execution_count": 3,
      "outputs": [
        {
          "output_type": "stream",
          "name": "stdout",
          "text": [
            "<class 'pandas.core.frame.DataFrame'>\n",
            "DatetimeIndex: 2787 entries, 2013-10-01 to 2021-05-18\n",
            "Data columns (total 5 columns):\n",
            " #   Column               Non-Null Count  Dtype  \n",
            "---  ------               --------------  -----  \n",
            " 0   Currency             2787 non-null   object \n",
            " 1   Closing Price (USD)  2787 non-null   float64\n",
            " 2   24h Open (USD)       2787 non-null   float64\n",
            " 3   24h High (USD)       2787 non-null   float64\n",
            " 4   24h Low (USD)        2787 non-null   float64\n",
            "dtypes: float64(4), object(1)\n",
            "memory usage: 130.6+ KB\n"
          ]
        }
      ]
    },
    {
      "cell_type": "code",
      "source": [
        "len(price_df)"
      ],
      "metadata": {
        "colab": {
          "base_uri": "https://localhost:8080/"
        },
        "id": "cq1uWX30WC9v",
        "outputId": "b695bf02-5bb1-4365-8896-27be71e1b936"
      },
      "execution_count": 4,
      "outputs": [
        {
          "output_type": "execute_result",
          "data": {
            "text/plain": [
              "2787"
            ]
          },
          "metadata": {},
          "execution_count": 4
        }
      ]
    },
    {
      "cell_type": "markdown",
      "source": [
        "🔑note: The frequency at which time series data is collected is often referred to as **seasonality**. Seasonality is often measured as number of samples / year."
      ],
      "metadata": {
        "id": "91eEOllLWLpt"
      }
    },
    {
      "cell_type": "code",
      "source": [
        "# We only want the closing price\n",
        "daily_price_df = pd.DataFrame(price_df[\"Closing Price (USD)\"]).rename(columns={\"Closing Price (USD)\": \"Price\"})\n",
        "daily_price_df.head()"
      ],
      "metadata": {
        "colab": {
          "base_uri": "https://localhost:8080/",
          "height": 237
        },
        "id": "R2aLSQDuWE3X",
        "outputId": "4b18888c-1015-4bae-f590-f120f3b6bf1a"
      },
      "execution_count": 5,
      "outputs": [
        {
          "output_type": "execute_result",
          "data": {
            "text/plain": [
              "                Price\n",
              "Date                 \n",
              "2013-10-01  123.65499\n",
              "2013-10-02  125.45500\n",
              "2013-10-03  108.58483\n",
              "2013-10-04  118.67466\n",
              "2013-10-05  121.33866"
            ],
            "text/html": [
              "\n",
              "\n",
              "  <div id=\"df-33634154-5de9-435d-9fb3-ee4d724d466e\">\n",
              "    <div class=\"colab-df-container\">\n",
              "      <div>\n",
              "<style scoped>\n",
              "    .dataframe tbody tr th:only-of-type {\n",
              "        vertical-align: middle;\n",
              "    }\n",
              "\n",
              "    .dataframe tbody tr th {\n",
              "        vertical-align: top;\n",
              "    }\n",
              "\n",
              "    .dataframe thead th {\n",
              "        text-align: right;\n",
              "    }\n",
              "</style>\n",
              "<table border=\"1\" class=\"dataframe\">\n",
              "  <thead>\n",
              "    <tr style=\"text-align: right;\">\n",
              "      <th></th>\n",
              "      <th>Price</th>\n",
              "    </tr>\n",
              "    <tr>\n",
              "      <th>Date</th>\n",
              "      <th></th>\n",
              "    </tr>\n",
              "  </thead>\n",
              "  <tbody>\n",
              "    <tr>\n",
              "      <th>2013-10-01</th>\n",
              "      <td>123.65499</td>\n",
              "    </tr>\n",
              "    <tr>\n",
              "      <th>2013-10-02</th>\n",
              "      <td>125.45500</td>\n",
              "    </tr>\n",
              "    <tr>\n",
              "      <th>2013-10-03</th>\n",
              "      <td>108.58483</td>\n",
              "    </tr>\n",
              "    <tr>\n",
              "      <th>2013-10-04</th>\n",
              "      <td>118.67466</td>\n",
              "    </tr>\n",
              "    <tr>\n",
              "      <th>2013-10-05</th>\n",
              "      <td>121.33866</td>\n",
              "    </tr>\n",
              "  </tbody>\n",
              "</table>\n",
              "</div>\n",
              "      <button class=\"colab-df-convert\" onclick=\"convertToInteractive('df-33634154-5de9-435d-9fb3-ee4d724d466e')\"\n",
              "              title=\"Convert this dataframe to an interactive table.\"\n",
              "              style=\"display:none;\">\n",
              "\n",
              "  <svg xmlns=\"http://www.w3.org/2000/svg\" height=\"24px\"viewBox=\"0 0 24 24\"\n",
              "       width=\"24px\">\n",
              "    <path d=\"M0 0h24v24H0V0z\" fill=\"none\"/>\n",
              "    <path d=\"M18.56 5.44l.94 2.06.94-2.06 2.06-.94-2.06-.94-.94-2.06-.94 2.06-2.06.94zm-11 1L8.5 8.5l.94-2.06 2.06-.94-2.06-.94L8.5 2.5l-.94 2.06-2.06.94zm10 10l.94 2.06.94-2.06 2.06-.94-2.06-.94-.94-2.06-.94 2.06-2.06.94z\"/><path d=\"M17.41 7.96l-1.37-1.37c-.4-.4-.92-.59-1.43-.59-.52 0-1.04.2-1.43.59L10.3 9.45l-7.72 7.72c-.78.78-.78 2.05 0 2.83L4 21.41c.39.39.9.59 1.41.59.51 0 1.02-.2 1.41-.59l7.78-7.78 2.81-2.81c.8-.78.8-2.07 0-2.86zM5.41 20L4 18.59l7.72-7.72 1.47 1.35L5.41 20z\"/>\n",
              "  </svg>\n",
              "      </button>\n",
              "\n",
              "\n",
              "\n",
              "    <div id=\"df-89b17d90-ac35-499e-b78f-ae9c13e4f0e9\">\n",
              "      <button class=\"colab-df-quickchart\" onclick=\"quickchart('df-89b17d90-ac35-499e-b78f-ae9c13e4f0e9')\"\n",
              "              title=\"Suggest charts.\"\n",
              "              style=\"display:none;\">\n",
              "\n",
              "<svg xmlns=\"http://www.w3.org/2000/svg\" height=\"24px\"viewBox=\"0 0 24 24\"\n",
              "     width=\"24px\">\n",
              "    <g>\n",
              "        <path d=\"M19 3H5c-1.1 0-2 .9-2 2v14c0 1.1.9 2 2 2h14c1.1 0 2-.9 2-2V5c0-1.1-.9-2-2-2zM9 17H7v-7h2v7zm4 0h-2V7h2v10zm4 0h-2v-4h2v4z\"/>\n",
              "    </g>\n",
              "</svg>\n",
              "      </button>\n",
              "    </div>\n",
              "\n",
              "<style>\n",
              "  .colab-df-quickchart {\n",
              "    background-color: #E8F0FE;\n",
              "    border: none;\n",
              "    border-radius: 50%;\n",
              "    cursor: pointer;\n",
              "    display: none;\n",
              "    fill: #1967D2;\n",
              "    height: 32px;\n",
              "    padding: 0 0 0 0;\n",
              "    width: 32px;\n",
              "  }\n",
              "\n",
              "  .colab-df-quickchart:hover {\n",
              "    background-color: #E2EBFA;\n",
              "    box-shadow: 0px 1px 2px rgba(60, 64, 67, 0.3), 0px 1px 3px 1px rgba(60, 64, 67, 0.15);\n",
              "    fill: #174EA6;\n",
              "  }\n",
              "\n",
              "  [theme=dark] .colab-df-quickchart {\n",
              "    background-color: #3B4455;\n",
              "    fill: #D2E3FC;\n",
              "  }\n",
              "\n",
              "  [theme=dark] .colab-df-quickchart:hover {\n",
              "    background-color: #434B5C;\n",
              "    box-shadow: 0px 1px 3px 1px rgba(0, 0, 0, 0.15);\n",
              "    filter: drop-shadow(0px 1px 2px rgba(0, 0, 0, 0.3));\n",
              "    fill: #FFFFFF;\n",
              "  }\n",
              "</style>\n",
              "\n",
              "    <script>\n",
              "      async function quickchart(key) {\n",
              "        const containerElement = document.querySelector('#' + key);\n",
              "        const charts = await google.colab.kernel.invokeFunction(\n",
              "            'suggestCharts', [key], {});\n",
              "      }\n",
              "    </script>\n",
              "\n",
              "      <script>\n",
              "\n",
              "function displayQuickchartButton(domScope) {\n",
              "  let quickchartButtonEl =\n",
              "    domScope.querySelector('#df-89b17d90-ac35-499e-b78f-ae9c13e4f0e9 button.colab-df-quickchart');\n",
              "  quickchartButtonEl.style.display =\n",
              "    google.colab.kernel.accessAllowed ? 'block' : 'none';\n",
              "}\n",
              "\n",
              "        displayQuickchartButton(document);\n",
              "      </script>\n",
              "      <style>\n",
              "    .colab-df-container {\n",
              "      display:flex;\n",
              "      flex-wrap:wrap;\n",
              "      gap: 12px;\n",
              "    }\n",
              "\n",
              "    .colab-df-convert {\n",
              "      background-color: #E8F0FE;\n",
              "      border: none;\n",
              "      border-radius: 50%;\n",
              "      cursor: pointer;\n",
              "      display: none;\n",
              "      fill: #1967D2;\n",
              "      height: 32px;\n",
              "      padding: 0 0 0 0;\n",
              "      width: 32px;\n",
              "    }\n",
              "\n",
              "    .colab-df-convert:hover {\n",
              "      background-color: #E2EBFA;\n",
              "      box-shadow: 0px 1px 2px rgba(60, 64, 67, 0.3), 0px 1px 3px 1px rgba(60, 64, 67, 0.15);\n",
              "      fill: #174EA6;\n",
              "    }\n",
              "\n",
              "    [theme=dark] .colab-df-convert {\n",
              "      background-color: #3B4455;\n",
              "      fill: #D2E3FC;\n",
              "    }\n",
              "\n",
              "    [theme=dark] .colab-df-convert:hover {\n",
              "      background-color: #434B5C;\n",
              "      box-shadow: 0px 1px 3px 1px rgba(0, 0, 0, 0.15);\n",
              "      filter: drop-shadow(0px 1px 2px rgba(0, 0, 0, 0.3));\n",
              "      fill: #FFFFFF;\n",
              "    }\n",
              "  </style>\n",
              "\n",
              "      <script>\n",
              "        const buttonEl =\n",
              "          document.querySelector('#df-33634154-5de9-435d-9fb3-ee4d724d466e button.colab-df-convert');\n",
              "        buttonEl.style.display =\n",
              "          google.colab.kernel.accessAllowed ? 'block' : 'none';\n",
              "\n",
              "        async function convertToInteractive(key) {\n",
              "          const element = document.querySelector('#df-33634154-5de9-435d-9fb3-ee4d724d466e');\n",
              "          const dataTable =\n",
              "            await google.colab.kernel.invokeFunction('convertToInteractive',\n",
              "                                                     [key], {});\n",
              "          if (!dataTable) return;\n",
              "\n",
              "          const docLinkHtml = 'Like what you see? Visit the ' +\n",
              "            '<a target=\"_blank\" href=https://colab.research.google.com/notebooks/data_table.ipynb>data table notebook</a>'\n",
              "            + ' to learn more about interactive tables.';\n",
              "          element.innerHTML = '';\n",
              "          dataTable['output_type'] = 'display_data';\n",
              "          await google.colab.output.renderOutput(dataTable, element);\n",
              "          const docLink = document.createElement('div');\n",
              "          docLink.innerHTML = docLinkHtml;\n",
              "          element.appendChild(docLink);\n",
              "        }\n",
              "      </script>\n",
              "    </div>\n",
              "  </div>\n"
            ]
          },
          "metadata": {},
          "execution_count": 5
        }
      ]
    },
    {
      "cell_type": "code",
      "source": [
        "import matplotlib.pyplot as plt\n",
        "daily_price_df.plot(figsize=(10,7))\n",
        "plt.ylabel(\"Price\")\n",
        "plt.title(\"Price of Bitcoin from 1 Oct 2013 to 18 May 2021\", fontsize=16)\n",
        "plt.legend(fontsize=14);"
      ],
      "metadata": {
        "colab": {
          "base_uri": "https://localhost:8080/",
          "height": 643
        },
        "id": "kSJRF4FFXWw_",
        "outputId": "2cddeea7-8e32-4ee4-936f-d0ef79f052f7"
      },
      "execution_count": 6,
      "outputs": [
        {
          "output_type": "display_data",
          "data": {
            "text/plain": [
              "<Figure size 1000x700 with 1 Axes>"
            ],
            "image/png": "[encoded data removed]"
          },
          "metadata": {}
        }
      ]
    },
    {
      "cell_type": "markdown",
      "source": [
        "## 2. Creating the training and test set\n",
        "### 2.1 The wrong way"
      ],
      "metadata": {
        "id": "I5TCpPgOYA8y"
      }
    },
    {
      "cell_type": "code",
      "source": [
        "# Convert our dataframe index and columns to numpy arrays\n",
        "timesteps = daily_price_df.index.to_numpy()\n",
        "prices = daily_price_df[\"Price\"].to_numpy()\n",
        "\n",
        "timesteps[:10], prices[:10]"
      ],
      "metadata": {
        "colab": {
          "base_uri": "https://localhost:8080/"
        },
        "id": "tZfAZPdjXwC0",
        "outputId": "d17e8807-a983-4b58-8780-f2dea380f26c"
      },
      "execution_count": 7,
      "outputs": [
        {
          "output_type": "execute_result",
          "data": {
            "text/plain": [
              "(array(['2013-10-01T00:00:00.000000000', '2013-10-02T00:00:00.000000000',\n",
              "        '2013-10-03T00:00:00.000000000', '2013-10-04T00:00:00.000000000',\n",
              "        '2013-10-05T00:00:00.000000000', '2013-10-06T00:00:00.000000000',\n",
              "        '2013-10-07T00:00:00.000000000', '2013-10-08T00:00:00.000000000',\n",
              "        '2013-10-09T00:00:00.000000000', '2013-10-10T00:00:00.000000000'],\n",
              "       dtype='datetime64[ns]'),\n",
              " array([123.65499, 125.455  , 108.58483, 118.67466, 121.33866, 120.65533,\n",
              "        121.795  , 123.033  , 124.049  , 125.96116]))"
            ]
          },
          "metadata": {},
          "execution_count": 7
        }
      ]
    },
    {
      "cell_type": "code",
      "source": [
        "from sklearn.model_selection import train_test_split\n",
        "X_train,X_test, y_train, y_test = train_test_split(timesteps\n",
        "                                                   ,prices\n",
        "                                                   ,test_size=0.2\n",
        "                                                   ,random_state=42)\n",
        "len(X_train),len(X_test), len(y_train), len(y_test)"
      ],
      "metadata": {
        "colab": {
          "base_uri": "https://localhost:8080/"
        },
        "id": "x-YbG5myY0zK",
        "outputId": "3c6dacfd-f0b0-42d2-8d28-b4b3bda4bf92"
      },
      "execution_count": 8,
      "outputs": [
        {
          "output_type": "execute_result",
          "data": {
            "text/plain": [
              "(2229, 558, 2229, 558)"
            ]
          },
          "metadata": {},
          "execution_count": 8
        }
      ]
    },
    {
      "cell_type": "markdown",
      "source": [
        "### 2.2 Let's visualize the splits"
      ],
      "metadata": {
        "id": "b2sX70oLZd06"
      }
    },
    {
      "cell_type": "code",
      "source": [
        "plt.figure(figsize=(10,7))\n",
        "plt.scatter(X_train,y_train,s=5,label=\"Train data\")\n",
        "plt.scatter(X_test,y_test,s=5,label=\"Test data\")\n",
        "plt.xlabel(\"Date\")\n",
        "plt.ylabel(\"Bitcoin Price\")\n",
        "plt.legend(fontsize=14)\n",
        "plt.show();"
      ],
      "metadata": {
        "colab": {
          "base_uri": "https://localhost:8080/",
          "height": 619
        },
        "id": "a6DHfU-sZY6G",
        "outputId": "d2656360-9e20-4102-b4e6-74f2c93c1ec2"
      },
      "execution_count": 9,
      "outputs": [
        {
          "output_type": "display_data",
          "data": {
            "text/plain": [
              "<Figure size 1000x700 with 1 Axes>"
            ],
            "image/png": "[encoded data removed]"
          },
          "metadata": {}
        }
      ]
    },
    {
      "cell_type": "markdown",
      "source": [
        "As we can see in the above plot our test data is scattered across the training data. This kind of random split works great with data where there is no temporal (time) component. But when time component is invovled, we need to split the data in such a way that it should reflect our purpose. The purpose here is to analyze the historical price and predict or forecast the future price.\n",
        "\n",
        "### 2.3 Creating the train test split the right way"
      ],
      "metadata": {
        "id": "1hEAJsKLcmoN"
      }
    },
    {
      "cell_type": "code",
      "source": [
        "split_size = int(0.8* len(prices))\n",
        "\n",
        "X_train,y_train = timesteps[:split_size],prices[:split_size]\n",
        "\n",
        "X_test, y_test = timesteps[split_size:], prices[split_size:]"
      ],
      "metadata": {
        "id": "NJzinLO_cFZ4"
      },
      "execution_count": 10,
      "outputs": []
    },
    {
      "cell_type": "code",
      "source": [
        "plt.figure(figsize=(10,7))\n",
        "plt.scatter(X_train,y_train,s=5,label=\"Train data\")\n",
        "plt.scatter(X_test,y_test,s=5,label=\"Test data\")\n",
        "plt.xlabel(\"Date\")\n",
        "plt.ylabel(\"Bitcoin Price\")\n",
        "plt.legend(fontsize=14)\n",
        "plt.show();"
      ],
      "metadata": {
        "colab": {
          "base_uri": "https://localhost:8080/",
          "height": 619
        },
        "id": "MgWF9MVdeX3V",
        "outputId": "b8b0a01f-2591-4ccd-b371-18c9f8f4e30f"
      },
      "execution_count": 11,
      "outputs": [
        {
          "output_type": "display_data",
          "data": {
            "text/plain": [
              "<Figure size 1000x700 with 1 Axes>"
            ],
            "image/png": "[encoded data removed]"
          },
          "metadata": {}
        }
      ]
    },
    {
      "cell_type": "markdown",
      "source": [
        "## Model 0: Navive Forecast ( baseline )\n",
        "As usual lets start with a baseline.\n",
        "One of the most common baseline for time series forecasting, the naive model requires no training.\n",
        "That's because all that the naive model does is forecast the next timestep value based on previous timestep value.\n",
        "The formula looks like:\n",
        "\n",
        "̂y<sub>t</sub> = y<sub>t</sub> -1"
      ],
      "metadata": {
        "id": "AV7I8vTmhh5n"
      }
    },
    {
      "cell_type": "code",
      "source": [
        "# create a naive forecast\n",
        "naive_forecast = y_test[:-1]\n",
        "naive_forecast[:10],naive_forecast[-10:]"
      ],
      "metadata": {
        "id": "Gy0k5yooeaf5",
        "colab": {
          "base_uri": "https://localhost:8080/"
        },
        "outputId": "85d17ccc-a6b7-45f4-88e5-6fb8e5ef66ad"
      },
      "execution_count": 12,
      "outputs": [
        {
          "output_type": "execute_result",
          "data": {
            "text/plain": [
              "(array([9226.48582088, 8794.35864452, 8798.04205463, 9081.18687849,\n",
              "        8711.53433917, 8760.89271814, 8749.52059102, 8656.97092235,\n",
              "        8500.64355816, 8469.2608989 ]),\n",
              " array([57107.12067189, 58788.20967893, 58102.19142623, 55715.54665129,\n",
              "        56573.5554719 , 52147.82118698, 49764.1320816 , 50032.69313676,\n",
              "        47885.62525472, 45604.61575361]))"
            ]
          },
          "metadata": {},
          "execution_count": 12
        }
      ]
    },
    {
      "cell_type": "code",
      "source": [
        "# Create a plotting function\n",
        "\n",
        "def plot_time_series(timesteps,values,format='.', start=0, end=None, label=None):\n",
        "  \"\"\"\n",
        "    Plots a timesteps (a series of points in time) against values ( a series of values across timesteps)\n",
        "\n",
        "    Parameters\n",
        "    -------------\n",
        "    timesteps: array of timesteps\n",
        "    values: array of values across time\n",
        "    format: style of plot, default \".\"\n",
        "    start: where to start the plot ( setting a value will index from start of timesteps and values)\n",
        "    end: where to end the plot (setting a value will index from end of timesteps & values )\n",
        "    label: label to show on plot of values\n",
        "  \"\"\"\n",
        "  ## Plot the series\n",
        "  plt.plot(timesteps[start:end],values[start:end], format, label=label)\n",
        "  plt.xlabel(\"Time\")\n",
        "  plt.ylabel(\"BTC price\")\n",
        "  if label:\n",
        "    plt.legend(fontsize=14)\n",
        "  plt.grid(True)"
      ],
      "metadata": {
        "id": "-JfNe7Mclprp"
      },
      "execution_count": 13,
      "outputs": []
    },
    {
      "cell_type": "code",
      "source": [
        "# Plot the naive forecast\n",
        "plt.figure(figsize=(10,7))\n",
        "plot_time_series(timesteps=X_train,values=y_train,label=\"Train data\")\n",
        "plot_time_series(timesteps=X_test,values=y_test,label=\"Test data\")\n",
        "plot_time_series(timesteps=X_test[1:],values=naive_forecast,format=\"-\",label=\"Naive Forecast\")"
      ],
      "metadata": {
        "colab": {
          "base_uri": "https://localhost:8080/",
          "height": 619
        },
        "id": "zdVL72WijrtX",
        "outputId": "3c564772-01df-4bfb-8552-022c1ae1e1fb"
      },
      "execution_count": 14,
      "outputs": [
        {
          "output_type": "display_data",
          "data": {
            "text/plain": [
              "<Figure size 1000x700 with 1 Axes>"
            ],
            "image/png": "[encoded data removed]"
          },
          "metadata": {}
        }
      ]
    },
    {
      "cell_type": "code",
      "source": [
        "plt.figure(figsize=(10,7))\n",
        "offset = 300\n",
        "plot_time_series(timesteps=X_test,values=y_test, start=offset, label=\"Test Data\")\n",
        "plot_time_series(timesteps=X_test[1:],values=naive_forecast, format=\"-\", start=offset, label=\"Naive forecast\")"
      ],
      "metadata": {
        "colab": {
          "base_uri": "https://localhost:8080/",
          "height": 619
        },
        "id": "73FTRnYInoak",
        "outputId": "bc9ce986-29a3-435f-af2a-e7ac1cf36d7d"
      },
      "execution_count": 15,
      "outputs": [
        {
          "output_type": "display_data",
          "data": {
            "text/plain": [
              "<Figure size 1000x700 with 1 Axes>"
            ],
            "image/png": "[encoded data removed]"
          },
          "metadata": {}
        }
      ]
    },
    {
      "cell_type": "markdown",
      "source": [
        "## Evaluate a time series model\n",
        "Time series forecasting often involves predicting a number.\n",
        "As the problem statement is about predicting a number, it comes under **regression**\n",
        "For all the following metrics **lower is better** ( for e.g MAE 0 is better than MAE 100)\n",
        "\n",
        "### Scale-depdendent errors\n",
        "These are metrics which can be used to compare time series values and forecast that are on the same scale\n",
        "\n",
        "Metrics| Details|Code\n",
        "---|---|---\n",
        "MAE ( Mean Absolute Error ) | Easy to interpret. Forecast methods which minimizes the <br> MAE will lead to forecasts of the median |`tf.keras.metrics.mean_absolute_error()`\n",
        "RMSE(Root Mean Squared Error ) | Forecast which minimizes the RMSE lead to forecasts <br> to the mean| `tf.keras.metrics.mean_squared_error()`\n",
        "\n",
        "### Percentage Errors\n",
        "Percentage errors do not have units, which mean they can be used to compare forecasts across different units.\n",
        "\n",
        "Metrics|Details|Code\n",
        "---|---|---\n",
        "**MAPE**(Mean Absolute Percentage Error)|Most commonly used percentage error|`tf.keras.metrics.mean_absolute_percentage_error`\n",
        "**sMAPE**(symmetric Mean Absolute Percentage Error)| Recommend not to use|Custom implementation\n",
        "\n",
        "### Scaled Errors\n",
        "Scaled errors are alternative to percentage errors when comparing forecasting performance across different timeseries\n",
        "\n",
        "Metrics|Details|Code\n",
        "---|---|---\n",
        "MASE(mean absolute scaled error)|A forecast which performs better than naive should get <1 MASE|See sktimes<br> `mase_loss()`\n"
      ],
      "metadata": {
        "id": "sZ3NgovVr42_"
      }
    },
    {
      "cell_type": "code",
      "source": [
        "import tensorflow as tf\n"
      ],
      "metadata": {
        "id": "_JGmnHHly34B"
      },
      "execution_count": 16,
      "outputs": []
    },
    {
      "cell_type": "code",
      "source": [
        "# MASE implemented\n",
        "def mean_absolute_scaled_error(y_true, y_pred):\n",
        "  \"\"\"\n",
        "    Implement MASE ( assuming no seasonality data)\n",
        "  \"\"\"\n",
        "  mae = tf.reduce_mean(tf.abs(y_true - y_pred))\n",
        "  ## find MAE for naive forecast\n",
        "  mae_naive_no_season = tf.reduce_mean(tf.abs(y_true[1:]- y_true[:-1]))\n",
        "\n",
        "  return mae/mae_naive_no_season"
      ],
      "metadata": {
        "id": "S4PT6NIfru5d"
      },
      "execution_count": 17,
      "outputs": []
    },
    {
      "cell_type": "markdown",
      "source": [
        "> In practice the naive model should achieve an MASE of 1 (or very close to 1). Any model worse than the naive forecast will achieve an MASE of > 1 and any model better than naive forecast will achieve and MASE of < 1\n",
        "\n",
        "Let's put each of our different evaluation metrics together into a function"
      ],
      "metadata": {
        "id": "zvjiTFtWzfEd"
      }
    },
    {
      "cell_type": "code",
      "source": [
        "def evaluate_pred(y_true,y_pred):\n",
        "  #Make sure float32 ( for metric calculation)\n",
        "  y_true= tf.cast(y_true,dtype=tf.float32)\n",
        "  y_pred= tf.cast(y_pred,dtype=tf.float32)\n",
        "\n",
        "  # Calculate various metrics\n",
        "  mae= tf.keras.metrics.mean_absolute_error(y_true,y_pred)\n",
        "  mse= tf.keras.metrics.mean_squared_error(y_true,y_pred)\n",
        "  rmse= tf.sqrt(mse)\n",
        "  mape= tf.keras.metrics.mean_absolute_percentage_error(y_true,y_pred)\n",
        "  mase= mean_absolute_scaled_error(y_true,y_pred)\n",
        "\n",
        "  return {\n",
        "      \"mae\": mae.numpy()\n",
        "      ,\"mse\": mse.numpy()\n",
        "      ,\"rmse\": rmse.numpy()\n",
        "      ,\"mape\": mape.numpy()\n",
        "      ,\"mase\": mase.numpy()\n",
        "  }"
      ],
      "metadata": {
        "id": "D0ym0T1gzeZU"
      },
      "execution_count": 18,
      "outputs": []
    },
    {
      "cell_type": "code",
      "source": [
        "naive_results= evaluate_pred(y_true=y_test[1:]\n",
        "                             ,y_pred=naive_forecast)\n",
        "naive_results"
      ],
      "metadata": {
        "colab": {
          "base_uri": "https://localhost:8080/"
        },
        "id": "LXfICDQQ18pT",
        "outputId": "d28fbfb5-175c-4bd4-9816-7df8ad6b49e6"
      },
      "execution_count": 19,
      "outputs": [
        {
          "output_type": "execute_result",
          "data": {
            "text/plain": [
              "{'mae': 567.9802,\n",
              " 'mse': 1147547.0,\n",
              " 'rmse': 1071.2362,\n",
              " 'mape': 2.516525,\n",
              " 'mase': 0.99957}"
            ]
          },
          "metadata": {},
          "execution_count": 19
        }
      ]
    },
    {
      "cell_type": "markdown",
      "source": [
        "Looking at the MAE results, we can infer that on an average the predicted bitcoin price is off from the actual price by about ~567 USD."
      ],
      "metadata": {
        "id": "HM5Tvi0r2tym"
      }
    },
    {
      "cell_type": "markdown",
      "source": [
        "## Format Data Part2: Windowing dataset\n",
        "**Windowing** is a method to turn a time series dataset to _supervised learning problem_.\n",
        "In other words, we want to use windows of the past to predict the future.\n",
        "For example, for a univariate time series, windowing for one week(`window=7`) to predict the next single value (`horizon=1`) might look like:\n",
        "\n",
        "```\n",
        "Window for one week (univariate time series)\n",
        "[0,1,2,3,4,5,6] -> [7]\n",
        "[1,2,3,4,5,6,7] -> [8]\n",
        "[2,3,4,5,6,7,8] -> [9]\n",
        "```\n",
        "\n",
        "Let's write a function that can take a univariate time series and turn into windows and horizon of specified sizes.\n",
        "\n",
        "We'll start the default horizon size of 1 and window size of 7\n"
      ],
      "metadata": {
        "id": "Y3X3DjT83_Uj"
      }
    },
    {
      "cell_type": "code",
      "source": [
        "HORIZON= 1 # predict 1 timestep at a time\n",
        "WINDOW_SIZE= 7 #use a week worth of timesteps to predict the horizon"
      ],
      "metadata": {
        "id": "nCFqT5GN2Mm0"
      },
      "execution_count": 20,
      "outputs": []
    },
    {
      "cell_type": "markdown",
      "source": [
        "Now we will write a function that will take an array and return a window and horizon\n"
      ],
      "metadata": {
        "id": "bHX8Rq4B5v-i"
      }
    },
    {
      "cell_type": "code",
      "source": [
        "# Create a function to create labelled window data\n",
        "def get_labelled_windows(x,horizon=1):\n",
        "  \"\"\"\n",
        "    Creates a label for window dataset\n",
        "    E.g if horizon=1 (default)\n",
        "    Input: [1,2,3,4,5,6] -> Output ([1,2,3,4,5],[6])\n",
        "  \"\"\"\n",
        "  return (x[:,:-horizon],x[:, -horizon:])"
      ],
      "metadata": {
        "id": "BuqojxtN5vV6"
      },
      "execution_count": 21,
      "outputs": []
    },
    {
      "cell_type": "code",
      "source": [
        "# Test the window labelling function\n",
        "test_window, test_label= get_labelled_windows(tf.expand_dims(tf.range(8)+1, axis=0),horizon=HORIZON)\n",
        "print(f\"Window: {tf.squeeze(test_window).numpy()} -> Label: {tf.squeeze(test_label).numpy()}\")"
      ],
      "metadata": {
        "colab": {
          "base_uri": "https://localhost:8080/"
        },
        "id": "HWV9ZmOn6pN_",
        "outputId": "4ae311b8-e16d-4c6a-ebd2-332ca29e982b"
      },
      "execution_count": 22,
      "outputs": [
        {
          "output_type": "stream",
          "name": "stdout",
          "text": [
            "Window: [1 2 3 4 5 6 7] -> Label: 8\n"
          ]
        }
      ]
    },
    {
      "cell_type": "markdown",
      "source": [
        "#### Make window for the entire timeseries\n",
        "Let's write a function which:\n",
        "1. Create a window step of specific window size, for example `[[0,1,2,3,4,5,6]]`\n",
        "2. Uses [Numpy Indexing]() to create a 2D of multiple window steps, for example\n",
        "```\n",
        "[[0,1,2,3,4,5,6,7]\n",
        " [1,2,3,4,5,6,7,8]\n",
        " [2,3,4,5,6,7,8,9]]\n",
        "```\n",
        "3. Uses the 2D array of multiple window steps to index to a target series.\n",
        "4. Uses the `get_labelled_window` function we created above to turn the window steps into windows with a specified horizon."
      ],
      "metadata": {
        "id": "QcJaGf5x90lW"
      }
    },
    {
      "cell_type": "code",
      "source": [
        "import numpy as np"
      ],
      "metadata": {
        "id": "yUTXpXOv_taN"
      },
      "execution_count": 23,
      "outputs": []
    },
    {
      "cell_type": "code",
      "source": [
        "# Create a function to view Numpy arrays as windows\n",
        "def make_windows(x, window_size=7, horizon=1):\n",
        "  \"\"\"\n",
        "   Turns a 1D array into a 2D array of sequential windows of a given window size.\n",
        "  \"\"\"\n",
        "  # 1. Create a window of specific window size (add the horizon on the end for later labelling)\n",
        "  window_step= np.expand_dims(np.arange(window_size+horizon),axis=0)\n",
        "  # 2. Create a 2D array of multiple window steps\n",
        "  window_indexes= window_step+ np.expand_dims(np.arange(len(x)- (window_size+horizon-1)),axis=0).T\n",
        "  # 3. Index on the target array with 2D array of multiple window steps\n",
        "  windowed_array= x[window_indexes]\n",
        "  # 4. Get the labelled windows\n",
        "  windows, labels= get_labelled_windows(windowed_array,horizon=horizon)\n",
        "  return windows,labels"
      ],
      "metadata": {
        "id": "h-pAYNBj7LiP"
      },
      "execution_count": 24,
      "outputs": []
    },
    {
      "cell_type": "code",
      "source": [
        "np.expand_dims(np.arange(7+1),0).T"
      ],
      "metadata": {
        "colab": {
          "base_uri": "https://localhost:8080/"
        },
        "id": "PkG9VWpGDTP6",
        "outputId": "0512c399-d7ed-4f4d-f52e-19071a15b61b"
      },
      "execution_count": 25,
      "outputs": [
        {
          "output_type": "execute_result",
          "data": {
            "text/plain": [
              "array([[0],\n",
              "       [1],\n",
              "       [2],\n",
              "       [3],\n",
              "       [4],\n",
              "       [5],\n",
              "       [6],\n",
              "       [7]])"
            ]
          },
          "metadata": {},
          "execution_count": 25
        }
      ]
    },
    {
      "cell_type": "code",
      "source": [
        "full_windows, full_labels= make_windows(prices,window_size=WINDOW_SIZE,horizon=HORIZON)\n",
        "len(full_windows), len(full_labels)"
      ],
      "metadata": {
        "colab": {
          "base_uri": "https://localhost:8080/"
        },
        "id": "QIZR7M_gCmnN",
        "outputId": "a321dc85-003a-4185-be6d-8274e582fcec"
      },
      "execution_count": 26,
      "outputs": [
        {
          "output_type": "execute_result",
          "data": {
            "text/plain": [
              "(2780, 2780)"
            ]
          },
          "metadata": {},
          "execution_count": 26
        }
      ]
    },
    {
      "cell_type": "code",
      "source": [
        "## view the first 3 windows/labels\n",
        "for i in range(3):\n",
        "  print(f\" Window: {full_windows[i]}, Label: {full_labels[i]}\")"
      ],
      "metadata": {
        "colab": {
          "base_uri": "https://localhost:8080/"
        },
        "id": "OZiQvg6FC0DK",
        "outputId": "62d04e15-e118-4a20-f8c0-1bfb6b1950a4"
      },
      "execution_count": 27,
      "outputs": [
        {
          "output_type": "stream",
          "name": "stdout",
          "text": [
            " Window: [123.65499 125.455   108.58483 118.67466 121.33866 120.65533 121.795  ], Label: [123.033]\n",
            " Window: [125.455   108.58483 118.67466 121.33866 120.65533 121.795   123.033  ], Label: [124.049]\n",
            " Window: [108.58483 118.67466 121.33866 120.65533 121.795   123.033   124.049  ], Label: [125.96116]\n"
          ]
        }
      ]
    },
    {
      "cell_type": "markdown",
      "source": [
        "We can use tensorflow inbuilt functions to achieve the same output. We need to use `tf.keras.preprocessing.timeseries_dataset_from_array()`\n",
        "\n",
        "TODO: We will look into this later."
      ],
      "metadata": {
        "id": "Vrrr5LjXD54b"
      }
    },
    {
      "cell_type": "markdown",
      "source": [
        "### Turning windows into training and test set\n",
        "Let's write a function that takes a full set of windows and their labels and splits them into train & test splits."
      ],
      "metadata": {
        "id": "GiZP39WqITA5"
      }
    },
    {
      "cell_type": "code",
      "source": [
        "# Make the train/test split\n",
        "def make_train_test_split(windows,labels,test_split=0.2):\n",
        "  \"\"\"\n",
        "    Splits matching pairs of windows and labels into train and test split.\n",
        "\n",
        "  \"\"\"\n",
        "  split_size= int(len(windows) * (1-test_split))\n",
        "\n",
        "  train_windows= windows[:split_size]\n",
        "  train_labels= labels[:split_size]\n",
        "  test_windows= windows[split_size:]\n",
        "  test_labels= labels[split_size:]\n",
        "\n",
        "  return train_windows, train_labels, test_windows,test_labels\n"
      ],
      "metadata": {
        "id": "OiovcKLHEOkW"
      },
      "execution_count": 28,
      "outputs": []
    },
    {
      "cell_type": "code",
      "source": [
        "train_windows, train_labels, test_windows,test_labels = make_train_test_split(full_windows,full_labels)\n",
        "len(train_windows), len(test_windows),  len(train_labels),len(test_labels)\n"
      ],
      "metadata": {
        "colab": {
          "base_uri": "https://localhost:8080/"
        },
        "id": "gR_1yH5KJb2i",
        "outputId": "ed6272bd-2193-4cf3-c56c-b1597a3781ab"
      },
      "execution_count": 29,
      "outputs": [
        {
          "output_type": "execute_result",
          "data": {
            "text/plain": [
              "(2224, 556, 2224, 556)"
            ]
          },
          "metadata": {},
          "execution_count": 29
        }
      ]
    },
    {
      "cell_type": "code",
      "source": [
        "train_windows[:5],train_labels[:5]"
      ],
      "metadata": {
        "colab": {
          "base_uri": "https://localhost:8080/"
        },
        "id": "Fx7RuUKkJujh",
        "outputId": "75e45e80-dfe6-4586-e49b-ccb785e8a278"
      },
      "execution_count": 30,
      "outputs": [
        {
          "output_type": "execute_result",
          "data": {
            "text/plain": [
              "(array([[123.65499, 125.455  , 108.58483, 118.67466, 121.33866, 120.65533,\n",
              "         121.795  ],\n",
              "        [125.455  , 108.58483, 118.67466, 121.33866, 120.65533, 121.795  ,\n",
              "         123.033  ],\n",
              "        [108.58483, 118.67466, 121.33866, 120.65533, 121.795  , 123.033  ,\n",
              "         124.049  ],\n",
              "        [118.67466, 121.33866, 120.65533, 121.795  , 123.033  , 124.049  ,\n",
              "         125.96116],\n",
              "        [121.33866, 120.65533, 121.795  , 123.033  , 124.049  , 125.96116,\n",
              "         125.27966]]),\n",
              " array([[123.033  ],\n",
              "        [124.049  ],\n",
              "        [125.96116],\n",
              "        [125.27966],\n",
              "        [125.9275 ]]))"
            ]
          },
          "metadata": {},
          "execution_count": 30
        }
      ]
    },
    {
      "cell_type": "markdown",
      "source": [
        "### Making a model checkpoint\n",
        "The `ModelCheckpoint` callback will monitor our model performance during the training and saves the best model to the file system by setting `save_best_only=True`"
      ],
      "metadata": {
        "id": "CD95GF-pMpTb"
      }
    },
    {
      "cell_type": "code",
      "source": [
        "import os\n",
        "# create a function to implement a ModelCheckpoint callback with a specific filename\n",
        "def create_model_checkpoint(model_name,save_path=\"model_experiment\"):\n",
        "  return tf.keras.callbacks.ModelCheckpoint(filepath=os.path.join(save_path,model_name)\n",
        "                                            ,verbose=0\n",
        "                                            ,save_best_only=True)"
      ],
      "metadata": {
        "id": "kqXCNThULBYo"
      },
      "execution_count": 31,
      "outputs": []
    },
    {
      "cell_type": "markdown",
      "source": [
        "## Model 1: Dense Model ( window = 7, horizon = 1)\n",
        "Time to build one of our models\n",
        "\n",
        "`model_1` will have:\n",
        "* A single dense layer with 128 hidden units and ReLU activation unit.\n",
        "* An output layer with linear activation.\n",
        "* Adam optimizer with MAE loss\n",
        "* Batch size of 128\n",
        "* 100 epochs"
      ],
      "metadata": {
        "id": "pP-C66xvNqf7"
      }
    },
    {
      "cell_type": "code",
      "source": [
        "import tensorflow as tf\n",
        "from tensorflow.keras import layers\n",
        "\n",
        "## set seed\n",
        "tf.random.set_seed(42)\n",
        "model_1 = tf.keras.Sequential([\n",
        "    layers.Dense(128,activation=tf.keras.activations.relu)\n",
        "    ,layers.Dense(HORIZON,activation=tf.keras.activations.linear)\n",
        "],name=\"model_1_dense\")\n",
        "\n",
        "model_1.compile(loss=tf.keras.losses.mean_absolute_error\n",
        "                ,optimizer=tf.keras.optimizers.Adam()\n",
        "                ,metrics=[\"mae\"]\n",
        "                )\n",
        "\n",
        "history_1= model_1.fit(x=train_windows\n",
        "                       ,y=train_labels\n",
        "                       ,epochs=100\n",
        "                       ,verbose=1\n",
        "                       ,batch_size=128\n",
        "                       ,validation_data=(test_windows,test_labels)\n",
        "                       ,callbacks=[create_model_checkpoint(model_name=model_1.name)]\n",
        "                       )\n",
        "\n"
      ],
      "metadata": {
        "colab": {
          "base_uri": "https://localhost:8080/"
        },
        "id": "KpsmU0quP8hV",
        "outputId": "dccd692b-e427-44f7-be82-87fbd9d31f9b"
      },
      "execution_count": 32,
      "outputs": [
        {
          "output_type": "stream",
          "name": "stdout",
          "text": [
            "Epoch 1/100\n",
            "10/18 [===============>..............] - ETA: 0s - loss: 3119.9148 - mae: 3119.9148  "
          ]
        },
        {
          "output_type": "stream",
          "name": "stderr",
          "text": [
            "WARNING:absl:Found untraced functions such as _update_step_xla while saving (showing 1 of 1). These functions will not be directly callable after loading.\n"
          ]
        },
        {
          "output_type": "stream",
          "name": "stdout",
          "text": [
            "\b\b\b\b\b\b\b\b\b\b\b\b\b\b\b\b\b\b\b\b\b\b\b\b\b\b\b\b\b\b\b\b\b\b\b\b\b\b\b\b\b\b\b\b\b\b\b\b\b\b\b\b\b\b\b\b\b\b\b\b\b\b\b\b\b\b\b\b\b\b\b\b\b\b\b\b\b\b\b\b\b\b\b\r18/18 [==============================] - 9s 80ms/step - loss: 2474.8938 - mae: 2474.8938 - val_loss: 4693.1689 - val_mae: 4693.1689\n",
            "Epoch 2/100\n",
            "10/18 [===============>..............] - ETA: 0s - loss: 391.9913 - mae: 391.9913"
          ]
        },
        {
          "output_type": "stream",
          "name": "stderr",
          "text": [
            "WARNING:absl:Found untraced functions such as _update_step_xla while saving (showing 1 of 1). These functions will not be directly callable after loading.\n"
          ]
        },
        {
          "output_type": "stream",
          "name": "stdout",
          "text": [
            "\b\b\b\b\b\b\b\b\b\b\b\b\b\b\b\b\b\b\b\b\b\b\b\b\b\b\b\b\b\b\b\b\b\b\b\b\b\b\b\b\b\b\b\b\b\b\b\b\b\b\b\b\b\b\b\b\b\b\b\b\b\b\b\b\b\b\b\b\b\b\b\b\b\b\b\b\b\b\b\b\b\r18/18 [==============================] - 1s 55ms/step - loss: 391.9669 - mae: 391.9669 - val_loss: 1158.9851 - val_mae: 1158.9851\n",
            "Epoch 3/100\n",
            "18/18 [==============================] - 0s 14ms/step - loss: 237.3890 - mae: 237.3890 - val_loss: 1189.4362 - val_mae: 1189.4362\n",
            "Epoch 4/100\n",
            "14/18 [======================>.......] - ETA: 0s - loss: 220.4588 - mae: 220.4588"
          ]
        },
        {
          "output_type": "stream",
          "name": "stderr",
          "text": [
            "WARNING:absl:Found untraced functions such as _update_step_xla while saving (showing 1 of 1). These functions will not be directly callable after loading.\n"
          ]
        },
        {
          "output_type": "stream",
          "name": "stdout",
          "text": [
            "\b\b\b\b\b\b\b\b\b\b\b\b\b\b\b\b\b\b\b\b\b\b\b\b\b\b\b\b\b\b\b\b\b\b\b\b\b\b\b\b\b\b\b\b\b\b\b\b\b\b\b\b\b\b\b\b\b\b\b\b\b\b\b\b\b\b\b\b\b\b\b\b\b\b\b\b\b\b\b\b\b\r18/18 [==============================] - 1s 55ms/step - loss: 213.5859 - mae: 213.5859 - val_loss: 1143.8274 - val_mae: 1143.8274\n",
            "Epoch 5/100\n",
            " 1/18 [>.............................] - ETA: 0s - loss: 227.3166 - mae: 227.3166"
          ]
        },
        {
          "output_type": "stream",
          "name": "stderr",
          "text": [
            "WARNING:absl:Found untraced functions such as _update_step_xla while saving (showing 1 of 1). These functions will not be directly callable after loading.\n"
          ]
        },
        {
          "output_type": "stream",
          "name": "stdout",
          "text": [
            "\b\b\b\b\b\b\b\b\b\b\b\b\b\b\b\b\b\b\b\b\b\b\b\b\b\b\b\b\b\b\b\b\b\b\b\b\b\b\b\b\b\b\b\b\b\b\b\b\b\b\b\b\b\b\b\b\b\b\b\b\b\b\b\b\b\b\b\b\b\b\b\b\b\b\b\b\b\b\b\b\b\r18/18 [==============================] - 1s 75ms/step - loss: 202.5035 - mae: 202.5035 - val_loss: 1111.7921 - val_mae: 1111.7921\n",
            "Epoch 6/100\n",
            "18/18 [==============================] - 0s 21ms/step - loss: 203.4056 - mae: 203.4056 - val_loss: 1115.6945 - val_mae: 1115.6945\n",
            "Epoch 7/100\n",
            "17/18 [===========================>..] - ETA: 0s - loss: 200.0759 - mae: 200.0759"
          ]
        },
        {
          "output_type": "stream",
          "name": "stderr",
          "text": [
            "WARNING:absl:Found untraced functions such as _update_step_xla while saving (showing 1 of 1). These functions will not be directly callable after loading.\n"
          ]
        },
        {
          "output_type": "stream",
          "name": "stdout",
          "text": [
            "\b\b\b\b\b\b\b\b\b\b\b\b\b\b\b\b\b\b\b\b\b\b\b\b\b\b\b\b\b\b\b\b\b\b\b\b\b\b\b\b\b\b\b\b\b\b\b\b\b\b\b\b\b\b\b\b\b\b\b\b\b\b\b\b\b\b\b\b\b\b\b\b\b\b\b\b\b\b\b\b\b\r18/18 [==============================] - 2s 138ms/step - loss: 199.4317 - mae: 199.4317 - val_loss: 1076.7581 - val_mae: 1076.7581\n",
            "Epoch 8/100\n",
            "11/18 [=================>............] - ETA: 0s - loss: 188.4368 - mae: 188.4368"
          ]
        },
        {
          "output_type": "stream",
          "name": "stderr",
          "text": [
            "WARNING:absl:Found untraced functions such as _update_step_xla while saving (showing 1 of 1). These functions will not be directly callable after loading.\n"
          ]
        },
        {
          "output_type": "stream",
          "name": "stdout",
          "text": [
            "\b\b\b\b\b\b\b\b\b\b\b\b\b\b\b\b\b\b\b\b\b\b\b\b\b\b\b\b\b\b\b\b\b\b\b\b\b\b\b\b\b\b\b\b\b\b\b\b\b\b\b\b\b\b\b\b\b\b\b\b\b\b\b\b\b\b\b\b\b\b\b\b\b\b\b\b\b\b\b\b\b\r18/18 [==============================] - 1s 67ms/step - loss: 190.4314 - mae: 190.4314 - val_loss: 1060.6055 - val_mae: 1060.6055\n",
            "Epoch 9/100\n",
            "18/18 [==============================] - ETA: 0s - loss: 187.7693 - mae: 187.7693"
          ]
        },
        {
          "output_type": "stream",
          "name": "stderr",
          "text": [
            "WARNING:absl:Found untraced functions such as _update_step_xla while saving (showing 1 of 1). These functions will not be directly callable after loading.\n"
          ]
        },
        {
          "output_type": "stream",
          "name": "stdout",
          "text": [
            "\b\b\b\b\b\b\b\b\b\b\b\b\b\b\b\b\b\b\b\b\b\b\b\b\b\b\b\b\b\b\b\b\b\b\b\b\b\b\b\b\b\b\b\b\b\b\b\b\b\b\b\b\b\b\b\b\b\b\b\b\b\b\b\b\b\b\b\b\b\b\b\b\b\b\b\b\b\b\b\b\b\r18/18 [==============================] - 1s 70ms/step - loss: 187.7693 - mae: 187.7693 - val_loss: 1058.0078 - val_mae: 1058.0078\n",
            "Epoch 10/100\n",
            "11/18 [=================>............] - ETA: 0s - loss: 179.6338 - mae: 179.6338"
          ]
        },
        {
          "output_type": "stream",
          "name": "stderr",
          "text": [
            "WARNING:absl:Found untraced functions such as _update_step_xla while saving (showing 1 of 1). These functions will not be directly callable after loading.\n"
          ]
        },
        {
          "output_type": "stream",
          "name": "stdout",
          "text": [
            "\b\b\b\b\b\b\b\b\b\b\b\b\b\b\b\b\b\b\b\b\b\b\b\b\b\b\b\b\b\b\b\b\b\b\b\b\b\b\b\b\b\b\b\b\b\b\b\b\b\b\b\b\b\b\b\b\b\b\b\b\b\b\b\b\b\b\b\b\b\b\b\b\b\b\b\b\b\b\b\b\b\r18/18 [==============================] - 1s 69ms/step - loss: 183.6759 - mae: 183.6759 - val_loss: 1034.2361 - val_mae: 1034.2361\n",
            "Epoch 11/100\n",
            " 1/18 [>.............................] - ETA: 0s - loss: 207.6702 - mae: 207.6702"
          ]
        },
        {
          "output_type": "stream",
          "name": "stderr",
          "text": [
            "WARNING:absl:Found untraced functions such as _update_step_xla while saving (showing 1 of 1). These functions will not be directly callable after loading.\n"
          ]
        },
        {
          "output_type": "stream",
          "name": "stdout",
          "text": [
            "\b\b\b\b\b\b\b\b\b\b\b\b\b\b\b\b\b\b\b\b\b\b\b\b\b\b\b\b\b\b\b\b\b\b\b\b\b\b\b\b\b\b\b\b\b\b\b\b\b\b\b\b\b\b\b\b\b\b\b\b\b\b\b\b\b\b\b\b\b\b\b\b\b\b\b\b\b\b\b\b\b\r18/18 [==============================] - 1s 71ms/step - loss: 180.1844 - mae: 180.1844 - val_loss: 996.8539 - val_mae: 996.8539\n",
            "Epoch 12/100\n",
            "18/18 [==============================] - 0s 5ms/step - loss: 180.4889 - mae: 180.4889 - val_loss: 1007.9096 - val_mae: 1007.9096\n",
            "Epoch 13/100\n",
            "18/18 [==============================] - 0s 17ms/step - loss: 174.4412 - mae: 174.4412 - val_loss: 1014.7676 - val_mae: 1014.7676\n",
            "Epoch 14/100\n",
            "13/18 [====================>.........] - ETA: 0s - loss: 166.2525 - mae: 166.2525"
          ]
        },
        {
          "output_type": "stream",
          "name": "stderr",
          "text": [
            "WARNING:absl:Found untraced functions such as _update_step_xla while saving (showing 1 of 1). These functions will not be directly callable after loading.\n"
          ]
        },
        {
          "output_type": "stream",
          "name": "stdout",
          "text": [
            "\b\b\b\b\b\b\b\b\b\b\b\b\b\b\b\b\b\b\b\b\b\b\b\b\b\b\b\b\b\b\b\b\b\b\b\b\b\b\b\b\b\b\b\b\b\b\b\b\b\b\b\b\b\b\b\b\b\b\b\b\b\b\b\b\b\b\b\b\b\b\b\b\b\b\b\b\b\b\b\b\b\r18/18 [==============================] - 1s 47ms/step - loss: 168.9922 - mae: 168.9922 - val_loss: 969.7894 - val_mae: 969.7892\n",
            "Epoch 15/100\n",
            "10/18 [===============>..............] - ETA: 0s - loss: 166.0409 - mae: 166.0409"
          ]
        },
        {
          "output_type": "stream",
          "name": "stderr",
          "text": [
            "WARNING:absl:Found untraced functions such as _update_step_xla while saving (showing 1 of 1). These functions will not be directly callable after loading.\n"
          ]
        },
        {
          "output_type": "stream",
          "name": "stdout",
          "text": [
            "\b\b\b\b\b\b\b\b\b\b\b\b\b\b\b\b\b\b\b\b\b\b\b\b\b\b\b\b\b\b\b\b\b\b\b\b\b\b\b\b\b\b\b\b\b\b\b\b\b\b\b\b\b\b\b\b\b\b\b\b\b\b\b\b\b\b\b\b\b\b\b\b\b\b\b\b\b\b\b\b\b\r18/18 [==============================] - 1s 51ms/step - loss: 168.4707 - mae: 168.4707 - val_loss: 934.4990 - val_mae: 934.4990\n",
            "Epoch 16/100\n",
            "18/18 [==============================] - ETA: 0s - loss: 161.2919 - mae: 161.2919"
          ]
        },
        {
          "output_type": "stream",
          "name": "stderr",
          "text": [
            "WARNING:absl:Found untraced functions such as _update_step_xla while saving (showing 1 of 1). These functions will not be directly callable after loading.\n"
          ]
        },
        {
          "output_type": "stream",
          "name": "stdout",
          "text": [
            "\b\b\b\b\b\b\b\b\b\b\b\b\b\b\b\b\b\b\b\b\b\b\b\b\b\b\b\b\b\b\b\b\b\b\b\b\b\b\b\b\b\b\b\b\b\b\b\b\b\b\b\b\b\b\b\b\b\b\b\b\b\b\b\b\b\b\b\b\b\b\b\b\b\b\b\b\b\b\b\b\b\r18/18 [==============================] - 1s 46ms/step - loss: 161.2919 - mae: 161.2919 - val_loss: 903.2578 - val_mae: 903.2578\n",
            "Epoch 17/100\n",
            "18/18 [==============================] - 0s 14ms/step - loss: 157.3325 - mae: 157.3325 - val_loss: 951.6493 - val_mae: 951.6493\n",
            "Epoch 18/100\n",
            "18/18 [==============================] - 0s 9ms/step - loss: 155.0747 - mae: 155.0747 - val_loss: 907.8203 - val_mae: 907.8203\n",
            "Epoch 19/100\n",
            "10/18 [===============>..............] - ETA: 0s - loss: 149.4917 - mae: 149.4917"
          ]
        },
        {
          "output_type": "stream",
          "name": "stderr",
          "text": [
            "WARNING:absl:Found untraced functions such as _update_step_xla while saving (showing 1 of 1). These functions will not be directly callable after loading.\n"
          ]
        },
        {
          "output_type": "stream",
          "name": "stdout",
          "text": [
            "\b\b\b\b\b\b\b\b\b\b\b\b\b\b\b\b\b\b\b\b\b\b\b\b\b\b\b\b\b\b\b\b\b\b\b\b\b\b\b\b\b\b\b\b\b\b\b\b\b\b\b\b\b\b\b\b\b\b\b\b\b\b\b\b\b\b\b\b\b\b\b\b\b\b\b\b\b\b\b\b\b\r18/18 [==============================] - 2s 88ms/step - loss: 150.4001 - mae: 150.4001 - val_loss: 876.0443 - val_mae: 876.0443\n",
            "Epoch 20/100\n",
            "13/18 [====================>.........] - ETA: 0s - loss: 152.8131 - mae: 152.8131"
          ]
        },
        {
          "output_type": "stream",
          "name": "stderr",
          "text": [
            "WARNING:absl:Found untraced functions such as _update_step_xla while saving (showing 1 of 1). These functions will not be directly callable after loading.\n"
          ]
        },
        {
          "output_type": "stream",
          "name": "stdout",
          "text": [
            "\b\b\b\b\b\b\b\b\b\b\b\b\b\b\b\b\b\b\b\b\b\b\b\b\b\b\b\b\b\b\b\b\b\b\b\b\b\b\b\b\b\b\b\b\b\b\b\b\b\b\b\b\b\b\b\b\b\b\b\b\b\b\b\b\b\b\b\b\b\b\b\b\b\b\b\b\b\b\b\b\b\r18/18 [==============================] - 2s 111ms/step - loss: 149.6752 - mae: 149.6752 - val_loss: 839.1474 - val_mae: 839.1474\n",
            "Epoch 21/100\n",
            "18/18 [==============================] - ETA: 0s - loss: 145.8477 - mae: 145.8477"
          ]
        },
        {
          "output_type": "stream",
          "name": "stderr",
          "text": [
            "WARNING:absl:Found untraced functions such as _update_step_xla while saving (showing 1 of 1). These functions will not be directly callable after loading.\n"
          ]
        },
        {
          "output_type": "stream",
          "name": "stdout",
          "text": [
            "\b\b\b\b\b\b\b\b\b\b\b\b\b\b\b\b\b\b\b\b\b\b\b\b\b\b\b\b\b\b\b\b\b\b\b\b\b\b\b\b\b\b\b\b\b\b\b\b\b\b\b\b\b\b\b\b\b\b\b\b\b\b\b\b\b\b\b\b\b\b\b\b\b\b\b\b\b\b\b\b\b\r18/18 [==============================] - 2s 123ms/step - loss: 145.8477 - mae: 145.8477 - val_loss: 787.6827 - val_mae: 787.6827\n",
            "Epoch 22/100\n",
            "18/18 [==============================] - 0s 13ms/step - loss: 141.7988 - mae: 141.7988 - val_loss: 799.2583 - val_mae: 799.2583\n",
            "Epoch 23/100\n",
            "14/18 [======================>.......] - ETA: 0s - loss: 134.0754 - mae: 134.0754"
          ]
        },
        {
          "output_type": "stream",
          "name": "stderr",
          "text": [
            "WARNING:absl:Found untraced functions such as _update_step_xla while saving (showing 1 of 1). These functions will not be directly callable after loading.\n"
          ]
        },
        {
          "output_type": "stream",
          "name": "stdout",
          "text": [
            "\b\b\b\b\b\b\b\b\b\b\b\b\b\b\b\b\b\b\b\b\b\b\b\b\b\b\b\b\b\b\b\b\b\b\b\b\b\b\b\b\b\b\b\b\b\b\b\b\b\b\b\b\b\b\b\b\b\b\b\b\b\b\b\b\b\b\b\b\b\b\b\b\b\b\b\b\b\b\b\b\b\r18/18 [==============================] - 1s 54ms/step - loss: 136.9160 - mae: 136.9160 - val_loss: 775.0152 - val_mae: 775.0152\n",
            "Epoch 24/100\n",
            "18/18 [==============================] - 0s 10ms/step - loss: 136.5735 - mae: 136.5735 - val_loss: 790.7350 - val_mae: 790.7350\n",
            "Epoch 25/100\n",
            "11/18 [=================>............] - ETA: 0s - loss: 138.7769 - mae: 138.7769"
          ]
        },
        {
          "output_type": "stream",
          "name": "stderr",
          "text": [
            "WARNING:absl:Found untraced functions such as _update_step_xla while saving (showing 1 of 1). These functions will not be directly callable after loading.\n"
          ]
        },
        {
          "output_type": "stream",
          "name": "stdout",
          "text": [
            "\b\b\b\b\b\b\b\b\b\b\b\b\b\b\b\b\b\b\b\b\b\b\b\b\b\b\b\b\b\b\b\b\b\b\b\b\b\b\b\b\b\b\b\b\b\b\b\b\b\b\b\b\b\b\b\b\b\b\b\b\b\b\b\b\b\b\b\b\b\b\b\b\b\b\b\b\b\b\b\b\b\r18/18 [==============================] - 1s 60ms/step - loss: 132.8806 - mae: 132.8806 - val_loss: 759.7278 - val_mae: 759.7278\n",
            "Epoch 26/100\n",
            "15/18 [========================>.....] - ETA: 0s - loss: 133.3266 - mae: 133.3266"
          ]
        },
        {
          "output_type": "stream",
          "name": "stderr",
          "text": [
            "WARNING:absl:Found untraced functions such as _update_step_xla while saving (showing 1 of 1). These functions will not be directly callable after loading.\n"
          ]
        },
        {
          "output_type": "stream",
          "name": "stdout",
          "text": [
            "\b\b\b\b\b\b\b\b\b\b\b\b\b\b\b\b\b\b\b\b\b\b\b\b\b\b\b\b\b\b\b\b\b\b\b\b\b\b\b\b\b\b\b\b\b\b\b\b\b\b\b\b\b\b\b\b\b\b\b\b\b\b\b\b\b\b\b\b\b\b\b\b\b\b\b\b\b\b\b\b\b\r18/18 [==============================] - 1s 52ms/step - loss: 129.0381 - mae: 129.0381 - val_loss: 712.7974 - val_mae: 712.7974\n",
            "Epoch 27/100\n",
            "12/18 [===================>..........] - ETA: 0s - loss: 131.7707 - mae: 131.7707"
          ]
        },
        {
          "output_type": "stream",
          "name": "stderr",
          "text": [
            "WARNING:absl:Found untraced functions such as _update_step_xla while saving (showing 1 of 1). These functions will not be directly callable after loading.\n"
          ]
        },
        {
          "output_type": "stream",
          "name": "stdout",
          "text": [
            "\b\b\b\b\b\b\b\b\b\b\b\b\b\b\b\b\b\b\b\b\b\b\b\b\b\b\b\b\b\b\b\b\b\b\b\b\b\b\b\b\b\b\b\b\b\b\b\b\b\b\b\b\b\b\b\b\b\b\b\b\b\b\b\b\b\b\b\b\b\b\b\b\b\b\b\b\b\b\b\b\b\r18/18 [==============================] - 1s 60ms/step - loss: 126.6497 - mae: 126.6497 - val_loss: 699.0728 - val_mae: 699.0728\n",
            "Epoch 28/100\n",
            " 9/18 [==============>...............] - ETA: 0s - loss: 131.6290 - mae: 131.6290"
          ]
        },
        {
          "output_type": "stream",
          "name": "stderr",
          "text": [
            "WARNING:absl:Found untraced functions such as _update_step_xla while saving (showing 1 of 1). These functions will not be directly callable after loading.\n"
          ]
        },
        {
          "output_type": "stream",
          "name": "stdout",
          "text": [
            "\b\b\b\b\b\b\b\b\b\b\b\b\b\b\b\b\b\b\b\b\b\b\b\b\b\b\b\b\b\b\b\b\b\b\b\b\b\b\b\b\b\b\b\b\b\b\b\b\b\b\b\b\b\b\b\b\b\b\b\b\b\b\b\b\b\b\b\b\b\b\b\b\b\b\b\b\b\b\b\b\b\r18/18 [==============================] - 1s 65ms/step - loss: 123.8828 - mae: 123.8828 - val_loss: 689.1431 - val_mae: 689.1431\n",
            "Epoch 29/100\n",
            "12/18 [===================>..........] - ETA: 0s - loss: 123.7934 - mae: 123.7934"
          ]
        },
        {
          "output_type": "stream",
          "name": "stderr",
          "text": [
            "WARNING:absl:Found untraced functions such as _update_step_xla while saving (showing 1 of 1). These functions will not be directly callable after loading.\n"
          ]
        },
        {
          "output_type": "stream",
          "name": "stdout",
          "text": [
            "\b\b\b\b\b\b\b\b\b\b\b\b\b\b\b\b\b\b\b\b\b\b\b\b\b\b\b\b\b\b\b\b\b\b\b\b\b\b\b\b\b\b\b\b\b\b\b\b\b\b\b\b\b\b\b\b\b\b\b\b\b\b\b\b\b\b\b\b\b\b\b\b\b\b\b\b\b\b\b\b\b\r18/18 [==============================] - 1s 62ms/step - loss: 122.4630 - mae: 122.4630 - val_loss: 675.1374 - val_mae: 675.1374\n",
            "Epoch 30/100\n",
            "18/18 [==============================] - 0s 11ms/step - loss: 124.4024 - mae: 124.4024 - val_loss: 678.9478 - val_mae: 678.9478\n",
            "Epoch 31/100\n",
            "18/18 [==============================] - 0s 4ms/step - loss: 121.2907 - mae: 121.2907 - val_loss: 694.1503 - val_mae: 694.1503\n",
            "Epoch 32/100\n",
            " 1/18 [>.............................] - ETA: 0s - loss: 114.2192 - mae: 114.2192"
          ]
        },
        {
          "output_type": "stream",
          "name": "stderr",
          "text": [
            "WARNING:absl:Found untraced functions such as _update_step_xla while saving (showing 1 of 1). These functions will not be directly callable after loading.\n"
          ]
        },
        {
          "output_type": "stream",
          "name": "stdout",
          "text": [
            "\b\b\b\b\b\b\b\b\b\b\b\b\b\b\b\b\b\b\b\b\b\b\b\b\b\b\b\b\b\b\b\b\b\b\b\b\b\b\b\b\b\b\b\b\b\b\b\b\b\b\b\b\b\b\b\b\b\b\b\b\b\b\b\b\b\b\b\b\b\b\b\b\b\b\b\b\b\b\b\b\b\r18/18 [==============================] - 1s 56ms/step - loss: 121.6552 - mae: 121.6552 - val_loss: 661.8483 - val_mae: 661.8483\n",
            "Epoch 33/100\n",
            "18/18 [==============================] - 0s 13ms/step - loss: 117.4547 - mae: 117.4547 - val_loss: 720.2442 - val_mae: 720.2442\n",
            "Epoch 34/100\n",
            " 9/18 [==============>...............] - ETA: 0s - loss: 120.5814 - mae: 120.5814"
          ]
        },
        {
          "output_type": "stream",
          "name": "stderr",
          "text": [
            "WARNING:absl:Found untraced functions such as _update_step_xla while saving (showing 1 of 1). These functions will not be directly callable after loading.\n"
          ]
        },
        {
          "output_type": "stream",
          "name": "stdout",
          "text": [
            "\b\b\b\b\b\b\b\b\b\b\b\b\b\b\b\b\b\b\b\b\b\b\b\b\b\b\b\b\b\b\b\b\b\b\b\b\b\b\b\b\b\b\b\b\b\b\b\b\b\b\b\b\b\b\b\b\b\b\b\b\b\b\b\b\b\b\b\b\b\b\b\b\b\b\b\b\b\b\b\b\b\r18/18 [==============================] - 1s 41ms/step - loss: 120.6764 - mae: 120.6764 - val_loss: 657.6562 - val_mae: 657.6562\n",
            "Epoch 35/100\n",
            " 1/18 [>.............................] - ETA: 0s - loss: 102.3403 - mae: 102.3403"
          ]
        },
        {
          "output_type": "stream",
          "name": "stderr",
          "text": [
            "WARNING:absl:Found untraced functions such as _update_step_xla while saving (showing 1 of 1). These functions will not be directly callable after loading.\n"
          ]
        },
        {
          "output_type": "stream",
          "name": "stdout",
          "text": [
            "\b\b\b\b\b\b\b\b\b\b\b\b\b\b\b\b\b\b\b\b\b\b\b\b\b\b\b\b\b\b\b\b\b\b\b\b\b\b\b\b\b\b\b\b\b\b\b\b\b\b\b\b\b\b\b\b\b\b\b\b\b\b\b\b\b\b\b\b\b\b\b\b\b\b\b\b\b\b\b\b\b\r18/18 [==============================] - 2s 115ms/step - loss: 118.0150 - mae: 118.0150 - val_loss: 639.0272 - val_mae: 639.0272\n",
            "Epoch 36/100\n",
            "18/18 [==============================] - 0s 14ms/step - loss: 120.7231 - mae: 120.7231 - val_loss: 646.7753 - val_mae: 646.7753\n",
            "Epoch 37/100\n",
            "17/18 [===========================>..] - ETA: 0s - loss: 119.6344 - mae: 119.6344"
          ]
        },
        {
          "output_type": "stream",
          "name": "stderr",
          "text": [
            "WARNING:absl:Found untraced functions such as _update_step_xla while saving (showing 1 of 1). These functions will not be directly callable after loading.\n"
          ]
        },
        {
          "output_type": "stream",
          "name": "stdout",
          "text": [
            "\b\b\b\b\b\b\b\b\b\b\b\b\b\b\b\b\b\b\b\b\b\b\b\b\b\b\b\b\b\b\b\b\b\b\b\b\b\b\b\b\b\b\b\b\b\b\b\b\b\b\b\b\b\b\b\b\b\b\b\b\b\b\b\b\b\b\b\b\b\b\b\b\b\b\b\b\b\b\b\b\b\r18/18 [==============================] - 1s 72ms/step - loss: 120.3193 - mae: 120.3193 - val_loss: 621.0537 - val_mae: 621.0537\n",
            "Epoch 38/100\n",
            " 6/18 [=========>....................] - ETA: 0s - loss: 130.7545 - mae: 130.7545"
          ]
        },
        {
          "output_type": "stream",
          "name": "stderr",
          "text": [
            "WARNING:absl:Found untraced functions such as _update_step_xla while saving (showing 1 of 1). These functions will not be directly callable after loading.\n"
          ]
        },
        {
          "output_type": "stream",
          "name": "stdout",
          "text": [
            "\b\b\b\b\b\b\b\b\b\b\b\b\b\b\b\b\b\b\b\b\b\b\b\b\b\b\b\b\b\b\b\b\b\b\b\b\b\b\b\b\b\b\b\b\b\b\b\b\b\b\b\b\b\b\b\b\b\b\b\b\b\b\b\b\b\b\b\b\b\b\b\b\b\b\b\b\b\b\b\b\b\r18/18 [==============================] - 1s 50ms/step - loss: 114.7086 - mae: 114.7086 - val_loss: 615.2505 - val_mae: 615.2505\n",
            "Epoch 39/100\n",
            "18/18 [==============================] - 0s 9ms/step - loss: 112.7777 - mae: 112.7777 - val_loss: 624.3047 - val_mae: 624.3047\n",
            "Epoch 40/100\n",
            "11/18 [=================>............] - ETA: 0s - loss: 111.1641 - mae: 111.1641"
          ]
        },
        {
          "output_type": "stream",
          "name": "stderr",
          "text": [
            "WARNING:absl:Found untraced functions such as _update_step_xla while saving (showing 1 of 1). These functions will not be directly callable after loading.\n"
          ]
        },
        {
          "output_type": "stream",
          "name": "stdout",
          "text": [
            "\b\b\b\b\b\b\b\b\b\b\b\b\b\b\b\b\b\b\b\b\b\b\b\b\b\b\b\b\b\b\b\b\b\b\b\b\b\b\b\b\b\b\b\b\b\b\b\b\b\b\b\b\b\b\b\b\b\b\b\b\b\b\b\b\b\b\b\b\b\b\b\b\b\b\b\b\b\b\b\b\b\r18/18 [==============================] - 1s 61ms/step - loss: 111.8383 - mae: 111.8383 - val_loss: 609.1974 - val_mae: 609.1974\n",
            "Epoch 41/100\n",
            "18/18 [==============================] - 0s 12ms/step - loss: 112.2642 - mae: 112.2642 - val_loss: 628.9989 - val_mae: 628.9989\n",
            "Epoch 42/100\n",
            "12/18 [===================>..........] - ETA: 0s - loss: 114.9758 - mae: 114.9758"
          ]
        },
        {
          "output_type": "stream",
          "name": "stderr",
          "text": [
            "WARNING:absl:Found untraced functions such as _update_step_xla while saving (showing 1 of 1). These functions will not be directly callable after loading.\n"
          ]
        },
        {
          "output_type": "stream",
          "name": "stdout",
          "text": [
            "\b\b\b\b\b\b\b\b\b\b\b\b\b\b\b\b\b\b\b\b\b\b\b\b\b\b\b\b\b\b\b\b\b\b\b\b\b\b\b\b\b\b\b\b\b\b\b\b\b\b\b\b\b\b\b\b\b\b\b\b\b\b\b\b\b\b\b\b\b\b\b\b\b\b\b\b\b\b\b\b\b\r18/18 [==============================] - 1s 52ms/step - loss: 118.2435 - mae: 118.2435 - val_loss: 605.3145 - val_mae: 605.3145\n",
            "Epoch 43/100\n",
            "18/18 [==============================] - 0s 9ms/step - loss: 112.7992 - mae: 112.7992 - val_loss: 633.1926 - val_mae: 633.1926\n",
            "Epoch 44/100\n",
            "14/18 [======================>.......] - ETA: 0s - loss: 110.5124 - mae: 110.5124"
          ]
        },
        {
          "output_type": "stream",
          "name": "stderr",
          "text": [
            "WARNING:absl:Found untraced functions such as _update_step_xla while saving (showing 1 of 1). These functions will not be directly callable after loading.\n"
          ]
        },
        {
          "output_type": "stream",
          "name": "stdout",
          "text": [
            "\b\b\b\b\b\b\b\b\b\b\b\b\b\b\b\b\b\b\b\b\b\b\b\b\b\b\b\b\b\b\b\b\b\b\b\b\b\b\b\b\b\b\b\b\b\b\b\b\b\b\b\b\b\b\b\b\b\b\b\b\b\b\b\b\b\b\b\b\b\b\b\b\b\b\b\b\b\b\b\b\b\r18/18 [==============================] - 1s 63ms/step - loss: 113.9353 - mae: 113.9353 - val_loss: 597.9756 - val_mae: 597.9756\n",
            "Epoch 45/100\n",
            "18/18 [==============================] - 0s 5ms/step - loss: 110.7181 - mae: 110.7181 - val_loss: 599.2021 - val_mae: 599.2021\n",
            "Epoch 46/100\n",
            " 1/18 [>.............................] - ETA: 0s - loss: 84.7308 - mae: 84.7308"
          ]
        },
        {
          "output_type": "stream",
          "name": "stderr",
          "text": [
            "WARNING:absl:Found untraced functions such as _update_step_xla while saving (showing 1 of 1). These functions will not be directly callable after loading.\n"
          ]
        },
        {
          "output_type": "stream",
          "name": "stdout",
          "text": [
            "\b\b\b\b\b\b\b\b\b\b\b\b\b\b\b\b\b\b\b\b\b\b\b\b\b\b\b\b\b\b\b\b\b\b\b\b\b\b\b\b\b\b\b\b\b\b\b\b\b\b\b\b\b\b\b\b\b\b\b\b\b\b\b\b\b\b\b\b\b\b\b\b\b\b\b\b\b\b\b\r18/18 [==============================] - 1s 30ms/step - loss: 112.6162 - mae: 112.6162 - val_loss: 596.1751 - val_mae: 596.1751\n",
            "Epoch 47/100\n",
            "18/18 [==============================] - 0s 4ms/step - loss: 111.9526 - mae: 111.9526 - val_loss: 697.6033 - val_mae: 697.6033\n",
            "Epoch 48/100\n",
            "18/18 [==============================] - 0s 6ms/step - loss: 111.7492 - mae: 111.7492 - val_loss: 602.2405 - val_mae: 602.2405\n",
            "Epoch 49/100\n",
            "18/18 [==============================] - 0s 5ms/step - loss: 111.1467 - mae: 111.1467 - val_loss: 626.2000 - val_mae: 626.2000\n",
            "Epoch 50/100\n",
            "18/18 [==============================] - 0s 4ms/step - loss: 114.5612 - mae: 114.5612 - val_loss: 597.9068 - val_mae: 597.9068\n",
            "Epoch 51/100\n",
            " 1/18 [>.............................] - ETA: 0s - loss: 85.7857 - mae: 85.7857"
          ]
        },
        {
          "output_type": "stream",
          "name": "stderr",
          "text": [
            "WARNING:absl:Found untraced functions such as _update_step_xla while saving (showing 1 of 1). These functions will not be directly callable after loading.\n"
          ]
        },
        {
          "output_type": "stream",
          "name": "stdout",
          "text": [
            "\b\b\b\b\b\b\b\b\b\b\b\b\b\b\b\b\b\b\b\b\b\b\b\b\b\b\b\b\b\b\b\b\b\b\b\b\b\b\b\b\b\b\b\b\b\b\b\b\b\b\b\b\b\b\b\b\b\b\b\b\b\b\b\b\b\b\b\b\b\b\b\b\b\b\b\b\b\b\b\r18/18 [==============================] - 1s 29ms/step - loss: 110.5712 - mae: 110.5712 - val_loss: 590.8340 - val_mae: 590.8340\n",
            "Epoch 52/100\n",
            "18/18 [==============================] - 0s 5ms/step - loss: 113.9458 - mae: 113.9458 - val_loss: 623.4016 - val_mae: 623.4016\n",
            "Epoch 53/100\n",
            "18/18 [==============================] - 0s 5ms/step - loss: 110.9170 - mae: 110.9170 - val_loss: 611.2315 - val_mae: 611.2315\n",
            "Epoch 54/100\n",
            "18/18 [==============================] - 0s 5ms/step - loss: 110.4080 - mae: 110.4080 - val_loss: 590.8555 - val_mae: 590.8555\n",
            "Epoch 55/100\n",
            " 1/18 [>.............................] - ETA: 0s - loss: 127.6813 - mae: 127.6813"
          ]
        },
        {
          "output_type": "stream",
          "name": "stderr",
          "text": [
            "WARNING:absl:Found untraced functions such as _update_step_xla while saving (showing 1 of 1). These functions will not be directly callable after loading.\n"
          ]
        },
        {
          "output_type": "stream",
          "name": "stdout",
          "text": [
            "\b\b\b\b\b\b\b\b\b\b\b\b\b\b\b\b\b\b\b\b\b\b\b\b\b\b\b\b\b\b\b\b\b\b\b\b\b\b\b\b\b\b\b\b\b\b\b\b\b\b\b\b\b\b\b\b\b\b\b\b\b\b\b\b\b\b\b\b\b\b\b\b\b\b\b\b\b\b\b\b\b\r18/18 [==============================] - 1s 29ms/step - loss: 113.4899 - mae: 113.4899 - val_loss: 587.0169 - val_mae: 587.0169\n",
            "Epoch 56/100\n",
            "18/18 [==============================] - 0s 5ms/step - loss: 111.6605 - mae: 111.6605 - val_loss: 687.5815 - val_mae: 687.5816\n",
            "Epoch 57/100\n",
            "18/18 [==============================] - 0s 4ms/step - loss: 120.2608 - mae: 120.2608 - val_loss: 640.7870 - val_mae: 640.7870\n",
            "Epoch 58/100\n",
            " 1/18 [>.............................] - ETA: 0s - loss: 93.0968 - mae: 93.0968"
          ]
        },
        {
          "output_type": "stream",
          "name": "stderr",
          "text": [
            "WARNING:absl:Found untraced functions such as _update_step_xla while saving (showing 1 of 1). These functions will not be directly callable after loading.\n"
          ]
        },
        {
          "output_type": "stream",
          "name": "stdout",
          "text": [
            "\b\b\b\b\b\b\b\b\b\b\b\b\b\b\b\b\b\b\b\b\b\b\b\b\b\b\b\b\b\b\b\b\b\b\b\b\b\b\b\b\b\b\b\b\b\b\b\b\b\b\b\b\b\b\b\b\b\b\b\b\b\b\b\b\b\b\b\b\b\b\b\b\b\b\b\b\b\b\b\r18/18 [==============================] - 1s 31ms/step - loss: 117.6212 - mae: 117.6212 - val_loss: 584.0880 - val_mae: 584.0880\n",
            "Epoch 59/100\n",
            " 1/18 [>.............................] - ETA: 0s - loss: 80.4016 - mae: 80.4016"
          ]
        },
        {
          "output_type": "stream",
          "name": "stderr",
          "text": [
            "WARNING:absl:Found untraced functions such as _update_step_xla while saving (showing 1 of 1). These functions will not be directly callable after loading.\n"
          ]
        },
        {
          "output_type": "stream",
          "name": "stdout",
          "text": [
            "\b\b\b\b\b\b\b\b\b\b\b\b\b\b\b\b\b\b\b\b\b\b\b\b\b\b\b\b\b\b\b\b\b\b\b\b\b\b\b\b\b\b\b\b\b\b\b\b\b\b\b\b\b\b\b\b\b\b\b\b\b\b\b\b\b\b\b\b\b\b\b\b\b\b\b\b\b\b\b\r18/18 [==============================] - 1s 31ms/step - loss: 110.1385 - mae: 110.1385 - val_loss: 583.6204 - val_mae: 583.6204\n",
            "Epoch 60/100\n",
            "18/18 [==============================] - 0s 5ms/step - loss: 108.9846 - mae: 108.9846 - val_loss: 621.3847 - val_mae: 621.3847\n",
            "Epoch 61/100\n",
            "18/18 [==============================] - 0s 5ms/step - loss: 110.3219 - mae: 110.3219 - val_loss: 585.4926 - val_mae: 585.4926\n",
            "Epoch 62/100\n",
            "18/18 [==============================] - 0s 5ms/step - loss: 109.7141 - mae: 109.7141 - val_loss: 633.1057 - val_mae: 633.1057\n",
            "Epoch 63/100\n",
            "18/18 [==============================] - 0s 5ms/step - loss: 114.3262 - mae: 114.3262 - val_loss: 612.2175 - val_mae: 612.2175\n",
            "Epoch 64/100\n",
            "18/18 [==============================] - 0s 5ms/step - loss: 111.2383 - mae: 111.2383 - val_loss: 679.5093 - val_mae: 679.5093\n",
            "Epoch 65/100\n",
            " 1/18 [>.............................] - ETA: 0s - loss: 146.0591 - mae: 146.0591"
          ]
        },
        {
          "output_type": "stream",
          "name": "stderr",
          "text": [
            "WARNING:absl:Found untraced functions such as _update_step_xla while saving (showing 1 of 1). These functions will not be directly callable after loading.\n"
          ]
        },
        {
          "output_type": "stream",
          "name": "stdout",
          "text": [
            "\b\b\b\b\b\b\b\b\b\b\b\b\b\b\b\b\b\b\b\b\b\b\b\b\b\b\b\b\b\b\b\b\b\b\b\b\b\b\b\b\b\b\b\b\b\b\b\b\b\b\b\b\b\b\b\b\b\b\b\b\b\b\b\b\b\b\b\b\b\b\b\b\b\b\b\b\b\b\b\b\b\r18/18 [==============================] - 1s 30ms/step - loss: 111.3693 - mae: 111.3693 - val_loss: 581.4755 - val_mae: 581.4755\n",
            "Epoch 66/100\n",
            "18/18 [==============================] - 0s 5ms/step - loss: 108.5430 - mae: 108.5430 - val_loss: 582.2659 - val_mae: 582.2659\n",
            "Epoch 67/100\n",
            "18/18 [==============================] - 0s 5ms/step - loss: 107.6163 - mae: 107.6163 - val_loss: 712.2000 - val_mae: 712.2000\n",
            "Epoch 68/100\n",
            "18/18 [==============================] - 0s 5ms/step - loss: 117.5700 - mae: 117.5700 - val_loss: 738.3881 - val_mae: 738.3881\n",
            "Epoch 69/100\n",
            "18/18 [==============================] - 0s 5ms/step - loss: 128.3785 - mae: 128.3785 - val_loss: 622.3885 - val_mae: 622.3885\n",
            "Epoch 70/100\n",
            "18/18 [==============================] - 0s 7ms/step - loss: 122.6918 - mae: 122.6918 - val_loss: 595.6204 - val_mae: 595.6204\n",
            "Epoch 71/100\n",
            "18/18 [==============================] - 0s 7ms/step - loss: 109.8377 - mae: 109.8377 - val_loss: 598.0516 - val_mae: 598.0516\n",
            "Epoch 72/100\n",
            "18/18 [==============================] - 0s 7ms/step - loss: 109.5190 - mae: 109.5190 - val_loss: 582.9479 - val_mae: 582.9479\n",
            "Epoch 73/100\n",
            "18/18 [==============================] - 0s 7ms/step - loss: 109.6472 - mae: 109.6472 - val_loss: 614.3947 - val_mae: 614.3947\n",
            "Epoch 74/100\n",
            "14/18 [======================>.......] - ETA: 0s - loss: 106.9908 - mae: 106.9908"
          ]
        },
        {
          "output_type": "stream",
          "name": "stderr",
          "text": [
            "WARNING:absl:Found untraced functions such as _update_step_xla while saving (showing 1 of 1). These functions will not be directly callable after loading.\n"
          ]
        },
        {
          "output_type": "stream",
          "name": "stdout",
          "text": [
            "\b\b\b\b\b\b\b\b\b\b\b\b\b\b\b\b\b\b\b\b\b\b\b\b\b\b\b\b\b\b\b\b\b\b\b\b\b\b\b\b\b\b\b\b\b\b\b\b\b\b\b\b\b\b\b\b\b\b\b\b\b\b\b\b\b\b\b\b\b\b\b\b\b\b\b\b\b\b\b\b\b\r18/18 [==============================] - 1s 46ms/step - loss: 107.1393 - mae: 107.1393 - val_loss: 578.1879 - val_mae: 578.1879\n",
            "Epoch 75/100\n",
            "18/18 [==============================] - 0s 7ms/step - loss: 109.1462 - mae: 109.1462 - val_loss: 595.1381 - val_mae: 595.1381\n",
            "Epoch 76/100\n",
            "18/18 [==============================] - 0s 7ms/step - loss: 109.1453 - mae: 109.1453 - val_loss: 587.0237 - val_mae: 587.0237\n",
            "Epoch 77/100\n",
            "18/18 [==============================] - 0s 7ms/step - loss: 110.2856 - mae: 110.2856 - val_loss: 600.4637 - val_mae: 600.4637\n",
            "Epoch 78/100\n",
            "13/18 [====================>.........] - ETA: 0s - loss: 103.7996 - mae: 103.7996"
          ]
        },
        {
          "output_type": "stream",
          "name": "stderr",
          "text": [
            "WARNING:absl:Found untraced functions such as _update_step_xla while saving (showing 1 of 1). These functions will not be directly callable after loading.\n"
          ]
        },
        {
          "output_type": "stream",
          "name": "stdout",
          "text": [
            "\b\b\b\b\b\b\b\b\b\b\b\b\b\b\b\b\b\b\b\b\b\b\b\b\b\b\b\b\b\b\b\b\b\b\b\b\b\b\b\b\b\b\b\b\b\b\b\b\b\b\b\b\b\b\b\b\b\b\b\b\b\b\b\b\b\b\b\b\b\b\b\b\b\b\b\b\b\b\b\b\b\r18/18 [==============================] - 1s 41ms/step - loss: 106.9266 - mae: 106.9266 - val_loss: 575.7059 - val_mae: 575.7059\n",
            "Epoch 79/100\n",
            "18/18 [==============================] - 0s 5ms/step - loss: 107.3470 - mae: 107.3470 - val_loss: 584.4290 - val_mae: 584.4290\n",
            "Epoch 80/100\n",
            "18/18 [==============================] - 0s 5ms/step - loss: 107.5685 - mae: 107.5685 - val_loss: 596.0263 - val_mae: 596.0263\n",
            "Epoch 81/100\n",
            " 1/18 [>.............................] - ETA: 0s - loss: 95.1098 - mae: 95.1098"
          ]
        },
        {
          "output_type": "stream",
          "name": "stderr",
          "text": [
            "WARNING:absl:Found untraced functions such as _update_step_xla while saving (showing 1 of 1). These functions will not be directly callable after loading.\n"
          ]
        },
        {
          "output_type": "stream",
          "name": "stdout",
          "text": [
            "\b\b\b\b\b\b\b\b\b\b\b\b\b\b\b\b\b\b\b\b\b\b\b\b\b\b\b\b\b\b\b\b\b\b\b\b\b\b\b\b\b\b\b\b\b\b\b\b\b\b\b\b\b\b\b\b\b\b\b\b\b\b\b\b\b\b\b\b\b\b\b\b\b\b\b\b\b\b\b\r18/18 [==============================] - 1s 41ms/step - loss: 107.2264 - mae: 107.2264 - val_loss: 574.7416 - val_mae: 574.7416\n",
            "Epoch 82/100\n",
            "18/18 [==============================] - 0s 10ms/step - loss: 115.9805 - mae: 115.9805 - val_loss: 582.1184 - val_mae: 582.1184\n",
            "Epoch 83/100\n",
            "18/18 [==============================] - 0s 6ms/step - loss: 110.5089 - mae: 110.5089 - val_loss: 627.0969 - val_mae: 627.0969\n",
            "Epoch 84/100\n",
            "18/18 [==============================] - 0s 8ms/step - loss: 110.9411 - mae: 110.9411 - val_loss: 582.0397 - val_mae: 582.0397\n",
            "Epoch 85/100\n",
            "18/18 [==============================] - 0s 11ms/step - loss: 106.7979 - mae: 106.7979 - val_loss: 580.8143 - val_mae: 580.8143\n",
            "Epoch 86/100\n",
            "18/18 [==============================] - 0s 10ms/step - loss: 107.1578 - mae: 107.1578 - val_loss: 588.9248 - val_mae: 588.9248\n",
            "Epoch 87/100\n",
            "18/18 [==============================] - 0s 10ms/step - loss: 106.2695 - mae: 106.2695 - val_loss: 601.0750 - val_mae: 601.0750\n",
            "Epoch 88/100\n",
            "18/18 [==============================] - 0s 12ms/step - loss: 107.4966 - mae: 107.4966 - val_loss: 577.1780 - val_mae: 577.1780\n",
            "Epoch 89/100\n",
            "11/18 [=================>............] - ETA: 0s - loss: 98.4202 - mae: 98.4202  "
          ]
        },
        {
          "output_type": "stream",
          "name": "stderr",
          "text": [
            "WARNING:absl:Found untraced functions such as _update_step_xla while saving (showing 1 of 1). These functions will not be directly callable after loading.\n"
          ]
        },
        {
          "output_type": "stream",
          "name": "stdout",
          "text": [
            "\b\b\b\b\b\b\b\b\b\b\b\b\b\b\b\b\b\b\b\b\b\b\b\b\b\b\b\b\b\b\b\b\b\b\b\b\b\b\b\b\b\b\b\b\b\b\b\b\b\b\b\b\b\b\b\b\b\b\b\b\b\b\b\b\b\b\b\b\b\b\b\b\b\b\b\b\b\b\b\r18/18 [==============================] - 1s 79ms/step - loss: 107.4067 - mae: 107.4067 - val_loss: 574.3358 - val_mae: 574.3358\n",
            "Epoch 90/100\n",
            "18/18 [==============================] - 0s 8ms/step - loss: 106.8240 - mae: 106.8240 - val_loss: 605.1922 - val_mae: 605.1922\n",
            "Epoch 91/100\n",
            "13/18 [====================>.........] - ETA: 0s - loss: 105.8419 - mae: 105.8419"
          ]
        },
        {
          "output_type": "stream",
          "name": "stderr",
          "text": [
            "WARNING:absl:Found untraced functions such as _update_step_xla while saving (showing 1 of 1). These functions will not be directly callable after loading.\n"
          ]
        },
        {
          "output_type": "stream",
          "name": "stdout",
          "text": [
            "\b\b\b\b\b\b\b\b\b\b\b\b\b\b\b\b\b\b\b\b\b\b\b\b\b\b\b\b\b\b\b\b\b\b\b\b\b\b\b\b\b\b\b\b\b\b\b\b\b\b\b\b\b\b\b\b\b\b\b\b\b\b\b\b\b\b\b\b\b\b\b\b\b\b\b\b\b\b\b\b\b\r18/18 [==============================] - 1s 44ms/step - loss: 108.9456 - mae: 108.9456 - val_loss: 573.5940 - val_mae: 573.5940\n",
            "Epoch 92/100\n",
            "14/18 [======================>.......] - ETA: 0s - loss: 109.1038 - mae: 109.1038"
          ]
        },
        {
          "output_type": "stream",
          "name": "stderr",
          "text": [
            "WARNING:absl:Found untraced functions such as _update_step_xla while saving (showing 1 of 1). These functions will not be directly callable after loading.\n"
          ]
        },
        {
          "output_type": "stream",
          "name": "stdout",
          "text": [
            "\b\b\b\b\b\b\b\b\b\b\b\b\b\b\b\b\b\b\b\b\b\b\b\b\b\b\b\b\b\b\b\b\b\b\b\b\b\b\b\b\b\b\b\b\b\b\b\b\b\b\b\b\b\b\b\b\b\b\b\b\b\b\b\b\b\b\b\b\b\b\b\b\b\b\b\b\b\b\b\b\b\r18/18 [==============================] - 1s 53ms/step - loss: 108.7275 - mae: 108.7275 - val_loss: 573.0451 - val_mae: 573.0451\n",
            "Epoch 93/100\n",
            "18/18 [==============================] - 0s 7ms/step - loss: 113.2202 - mae: 113.2202 - val_loss: 615.1943 - val_mae: 615.1943\n",
            "Epoch 94/100\n",
            "18/18 [==============================] - 0s 5ms/step - loss: 109.9992 - mae: 109.9992 - val_loss: 591.7327 - val_mae: 591.7327\n",
            "Epoch 95/100\n",
            "18/18 [==============================] - 0s 6ms/step - loss: 106.3771 - mae: 106.3771 - val_loss: 580.6734 - val_mae: 580.6734\n",
            "Epoch 96/100\n",
            "18/18 [==============================] - 0s 9ms/step - loss: 108.5869 - mae: 108.5869 - val_loss: 621.3984 - val_mae: 621.3984\n",
            "Epoch 97/100\n",
            "18/18 [==============================] - 0s 9ms/step - loss: 108.7144 - mae: 108.7144 - val_loss: 594.6421 - val_mae: 594.6421\n",
            "Epoch 98/100\n",
            "18/18 [==============================] - 0s 8ms/step - loss: 107.3033 - mae: 107.3033 - val_loss: 575.5452 - val_mae: 575.5452\n",
            "Epoch 99/100\n",
            "13/18 [====================>.........] - ETA: 0s - loss: 103.6008 - mae: 103.6008"
          ]
        },
        {
          "output_type": "stream",
          "name": "stderr",
          "text": [
            "WARNING:absl:Found untraced functions such as _update_step_xla while saving (showing 1 of 1). These functions will not be directly callable after loading.\n"
          ]
        },
        {
          "output_type": "stream",
          "name": "stdout",
          "text": [
            "\b\b\b\b\b\b\b\b\b\b\b\b\b\b\b\b\b\b\b\b\b\b\b\b\b\b\b\b\b\b\b\b\b\b\b\b\b\b\b\b\b\b\b\b\b\b\b\b\b\b\b\b\b\b\b\b\b\b\b\b\b\b\b\b\b\b\b\b\b\b\b\b\b\b\b\b\b\b\b\b\b\r18/18 [==============================] - 1s 42ms/step - loss: 108.1777 - mae: 108.1777 - val_loss: 571.7001 - val_mae: 571.7001\n",
            "Epoch 100/100\n",
            "18/18 [==============================] - 0s 9ms/step - loss: 107.5492 - mae: 107.5492 - val_loss: 596.2319 - val_mae: 596.2319\n"
          ]
        }
      ]
    },
    {
      "cell_type": "code",
      "source": [
        "model_1.evaluate(test_windows,test_labels)"
      ],
      "metadata": {
        "colab": {
          "base_uri": "https://localhost:8080/"
        },
        "id": "5MfZbhUaRNGJ",
        "outputId": "f8b5390c-94e4-4dc0-fcf8-dd9890bf1272"
      },
      "execution_count": 33,
      "outputs": [
        {
          "output_type": "stream",
          "name": "stdout",
          "text": [
            "18/18 [==============================] - 0s 5ms/step - loss: 596.2319 - mae: 596.2319\n"
          ]
        },
        {
          "output_type": "execute_result",
          "data": {
            "text/plain": [
              "[596.2318725585938, 596.2318725585938]"
            ]
          },
          "metadata": {},
          "execution_count": 33
        }
      ]
    },
    {
      "cell_type": "code",
      "source": [
        "# Load in best saved model and evaluate on test data\n",
        "saved_model_1 = tf.keras.models.load_model(\"model_experiment/model_1_dense\")\n",
        "saved_model_1.evaluate(test_windows,test_labels)"
      ],
      "metadata": {
        "colab": {
          "base_uri": "https://localhost:8080/"
        },
        "id": "nY2du9FPs7GB",
        "outputId": "4758b03e-bd22-40d3-be0a-ea6164fe4925"
      },
      "execution_count": 34,
      "outputs": [
        {
          "output_type": "stream",
          "name": "stdout",
          "text": [
            "18/18 [==============================] - 0s 4ms/step - loss: 571.7000 - mae: 571.7000\n"
          ]
        },
        {
          "output_type": "execute_result",
          "data": {
            "text/plain": [
              "[571.7000122070312, 571.7000122070312]"
            ]
          },
          "metadata": {},
          "execution_count": 34
        }
      ]
    },
    {
      "cell_type": "markdown",
      "source": [
        "## Making forecast with a model ( on test dataset )\n",
        "Since we are going to run more modelling experiments, lets write a function which can return the predictions given a model and input data\n",
        "\n",
        "* Take a trained model\n",
        "* Take in some input data\n",
        "* Pass the input data to the model\n",
        "* Returns the prediction"
      ],
      "metadata": {
        "id": "ZCkrqt7RtdEC"
      }
    },
    {
      "cell_type": "code",
      "source": [
        "def make_preds(model,input_data):\n",
        "  \"\"\"\n",
        "    Uses model to make predictions on input data\n",
        "\n",
        "    Args:\n",
        "      model: trained model\n",
        "      input_data: windowed input data ( same kind as the model is trained on)\n",
        "    Returns:\n",
        "      model prediction on input data\n",
        "  \"\"\"\n",
        "  return tf.squeeze(model.predict(input_data))"
      ],
      "metadata": {
        "id": "ilIrBtWfvPX8"
      },
      "execution_count": 35,
      "outputs": []
    },
    {
      "cell_type": "code",
      "source": [
        "model_1_preds = make_preds(model_1,test_windows)\n",
        "model_1_preds[:10], len(model_1_preds)"
      ],
      "metadata": {
        "colab": {
          "base_uri": "https://localhost:8080/"
        },
        "id": "G5SuXN51yxIv",
        "outputId": "a9382859-8d19-42be-e1cf-a87712cda8f9"
      },
      "execution_count": 36,
      "outputs": [
        {
          "output_type": "stream",
          "name": "stdout",
          "text": [
            "18/18 [==============================] - 0s 2ms/step\n"
          ]
        },
        {
          "output_type": "execute_result",
          "data": {
            "text/plain": [
              "(<tf.Tensor: shape=(10,), dtype=float32, numpy=\n",
              " array([8794.736 , 8700.321 , 8987.522 , 8717.64  , 8634.877 , 8706.923 ,\n",
              "        8624.287 , 8432.216 , 8410.5625, 8467.961 ], dtype=float32)>,\n",
              " 556)"
            ]
          },
          "metadata": {},
          "execution_count": 36
        }
      ]
    },
    {
      "cell_type": "markdown",
      "source": [
        "### Now lets evaluate our model using the `evaluate_model` method we create above in this notebook"
      ],
      "metadata": {
        "id": "hL6BaSCly5yu"
      }
    },
    {
      "cell_type": "code",
      "source": [
        "test_labels.shape, model_1_preds.shape"
      ],
      "metadata": {
        "colab": {
          "base_uri": "https://localhost:8080/"
        },
        "id": "wp_xpmdSzndS",
        "outputId": "d9a77e10-62cb-4592-f4ab-e97ce2bdf5f6"
      },
      "execution_count": 37,
      "outputs": [
        {
          "output_type": "execute_result",
          "data": {
            "text/plain": [
              "((556, 1), TensorShape([556]))"
            ]
          },
          "metadata": {},
          "execution_count": 37
        }
      ]
    },
    {
      "cell_type": "code",
      "source": [
        "evaluate_pred?"
      ],
      "metadata": {
        "id": "aNCxAmRvz2J2"
      },
      "execution_count": 38,
      "outputs": []
    },
    {
      "cell_type": "code",
      "source": [
        "model_1_results = evaluate_pred(y_true=tf.squeeze(test_labels)\n",
        "                                ,y_pred=model_1_preds)\n",
        "model_1_results"
      ],
      "metadata": {
        "colab": {
          "base_uri": "https://localhost:8080/"
        },
        "id": "6nAWS9lqzSge",
        "outputId": "41ff16bb-ba66-4626-8ae9-175f8ca4d29f"
      },
      "execution_count": 39,
      "outputs": [
        {
          "output_type": "execute_result",
          "data": {
            "text/plain": [
              "{'mae': 596.2318,\n",
              " 'mse': 1220747.2,\n",
              " 'rmse': 1104.8743,\n",
              " 'mape': 2.6514933,\n",
              " 'mase': 1.0474142}"
            ]
          },
          "metadata": {},
          "execution_count": 39
        }
      ]
    },
    {
      "cell_type": "markdown",
      "source": [
        "### Let us use the `plot_time_series` function to plot the `model_1_preds` against the test_data"
      ],
      "metadata": {
        "id": "Q354fURQzmiJ"
      }
    },
    {
      "cell_type": "code",
      "source": [
        "offset= 300\n",
        "plt.figure(figsize=(10,7))\n",
        "\n",
        "plot_time_series(timesteps=X_test[-len(test_windows):],values=test_labels[:,0]\n",
        "                 ,start=offset,label=\"Test data\")\n",
        "plot_time_series(timesteps=X_test[-len(test_windows):],values=model_1_preds\n",
        "                 ,start=offset,label=\"model_1_preds\",format=\"-\")\n"
      ],
      "metadata": {
        "colab": {
          "base_uri": "https://localhost:8080/",
          "height": 619
        },
        "id": "l8Bhxd-yzk0S",
        "outputId": "f823c9a3-966c-4cbf-9f32-78805b3e1c36"
      },
      "execution_count": 40,
      "outputs": [
        {
          "output_type": "display_data",
          "data": {
            "text/plain": [
              "<Figure size 1000x700 with 1 Axes>"
            ],
            "image/png": "[encoded data removed]"
          },
          "metadata": {}
        }
      ]
    },
    {
      "cell_type": "markdown",
      "source": [
        "## Model 2: Window size=30, Horizon=1\n",
        "We will start with our second modelling experiment where the window size=30 and horizon=1\n",
        "\n",
        "We will use the functions we have created earlier to create our train/test feature and train/test labels\n"
      ],
      "metadata": {
        "id": "NDKMNXxE1mog"
      }
    },
    {
      "cell_type": "code",
      "source": [
        "HORIZON=1\n",
        "WINDOW_SIZE=30"
      ],
      "metadata": {
        "id": "-u8toHb85CNf"
      },
      "execution_count": 41,
      "outputs": []
    },
    {
      "cell_type": "code",
      "source": [
        "full_windows, full_labels = make_windows(prices,window_size=WINDOW_SIZE\n",
        "                                         ,horizon=HORIZON)\n",
        "\n",
        "len(full_windows), len(full_labels)"
      ],
      "metadata": {
        "colab": {
          "base_uri": "https://localhost:8080/"
        },
        "id": "lW1KOh2j5LTi",
        "outputId": "7550eb85-ec6a-4029-c4cd-5fadc535d728"
      },
      "execution_count": 42,
      "outputs": [
        {
          "output_type": "execute_result",
          "data": {
            "text/plain": [
              "(2757, 2757)"
            ]
          },
          "metadata": {},
          "execution_count": 42
        }
      ]
    },
    {
      "cell_type": "code",
      "source": [
        "train_window, train_label, test_window , test_label=make_train_test_split(full_windows\n",
        "                                                                         ,full_labels\n",
        "                                                                         ,test_split=0.2)\n",
        "len(train_window), len(train_label), len(test_window), len(test_label)\n"
      ],
      "metadata": {
        "colab": {
          "base_uri": "https://localhost:8080/"
        },
        "id": "U4nDH_r25ZsU",
        "outputId": "b6c48f3f-7417-4d60-911f-f2d9b532b8c4"
      },
      "execution_count": 43,
      "outputs": [
        {
          "output_type": "execute_result",
          "data": {
            "text/plain": [
              "(2205, 2205, 552, 552)"
            ]
          },
          "metadata": {},
          "execution_count": 43
        }
      ]
    },
    {
      "cell_type": "code",
      "source": [
        "import tensorflow as tf\n",
        "from tensorflow.keras import layers\n",
        "\n",
        "# set seed\n",
        "tf.random.set_seed(42)\n",
        "\n",
        "# Create model\n",
        "model_2 = tf.keras.Sequential([\n",
        "    layers.Dense(128,activation=\"relu\")\n",
        "    ,layers.Dense(HORIZON,activation=\"linear\")\n",
        "],name=\"model_2_Dense\")\n",
        "\n",
        "model_2.compile(loss=\"mae\"\n",
        "                 ,optimizer=tf.keras.optimizers.Adam()\n",
        "                 ,metrics=[\"mae\"]\n",
        "                 )\n",
        "history_2 = model_2.fit(x=train_window\n",
        "                        ,y=train_label\n",
        "                        ,epochs=100\n",
        "                        ,verbose=1\n",
        "                        ,validation_data=(test_window,test_label)\n",
        "                        ,callbacks=[create_model_checkpoint(model_name=model_2.name)])\n",
        "\n",
        "\n",
        "\n"
      ],
      "metadata": {
        "colab": {
          "base_uri": "https://localhost:8080/"
        },
        "id": "ATKQ-xPN5yt8",
        "outputId": "8adada76-9cf7-4cdd-a01f-4261cf8c5609"
      },
      "execution_count": 44,
      "outputs": [
        {
          "output_type": "stream",
          "name": "stdout",
          "text": [
            "Epoch 1/100\n",
            "61/69 [=========================>....] - ETA: 0s - loss: 499.1999 - mae: 499.1999"
          ]
        },
        {
          "output_type": "stream",
          "name": "stderr",
          "text": [
            "WARNING:absl:Found untraced functions such as _update_step_xla while saving (showing 1 of 1). These functions will not be directly callable after loading.\n"
          ]
        },
        {
          "output_type": "stream",
          "name": "stdout",
          "text": [
            "\b\b\b\b\b\b\b\b\b\b\b\b\b\b\b\b\b\b\b\b\b\b\b\b\b\b\b\b\b\b\b\b\b\b\b\b\b\b\b\b\b\b\b\b\b\b\b\b\b\b\b\b\b\b\b\b\b\b\b\b\b\b\b\b\b\b\b\b\b\b\b\b\b\b\b\b\b\b\b\b\b\r69/69 [==============================] - 4s 27ms/step - loss: 476.2355 - mae: 476.2355 - val_loss: 1632.4976 - val_mae: 1632.4976\n",
            "Epoch 2/100\n",
            "69/69 [==============================] - 0s 4ms/step - loss: 257.1349 - mae: 257.1349 - val_loss: 2029.1934 - val_mae: 2029.1934\n",
            "Epoch 3/100\n",
            "55/69 [======================>.......] - ETA: 0s - loss: 288.7770 - mae: 288.7770"
          ]
        },
        {
          "output_type": "stream",
          "name": "stderr",
          "text": [
            "WARNING:absl:Found untraced functions such as _update_step_xla while saving (showing 1 of 1). These functions will not be directly callable after loading.\n"
          ]
        },
        {
          "output_type": "stream",
          "name": "stdout",
          "text": [
            "\b\b\b\b\b\b\b\b\b\b\b\b\b\b\b\b\b\b\b\b\b\b\b\b\b\b\b\b\b\b\b\b\b\b\b\b\b\b\b\b\b\b\b\b\b\b\b\b\b\b\b\b\b\b\b\b\b\b\b\b\b\b\b\b\b\b\b\b\b\b\b\b\b\b\b\b\b\b\b\b\b\r69/69 [==============================] - 1s 10ms/step - loss: 270.0990 - mae: 270.0990 - val_loss: 1085.1206 - val_mae: 1085.1206\n",
            "Epoch 4/100\n",
            "69/69 [==============================] - 0s 4ms/step - loss: 200.7354 - mae: 200.7354 - val_loss: 1087.7996 - val_mae: 1087.7996\n",
            "Epoch 5/100\n",
            "58/69 [========================>.....] - ETA: 0s - loss: 177.7808 - mae: 177.7808"
          ]
        },
        {
          "output_type": "stream",
          "name": "stderr",
          "text": [
            "WARNING:absl:Found untraced functions such as _update_step_xla while saving (showing 1 of 1). These functions will not be directly callable after loading.\n"
          ]
        },
        {
          "output_type": "stream",
          "name": "stdout",
          "text": [
            "\b\b\b\b\b\b\b\b\b\b\b\b\b\b\b\b\b\b\b\b\b\b\b\b\b\b\b\b\b\b\b\b\b\b\b\b\b\b\b\b\b\b\b\b\b\b\b\b\b\b\b\b\b\b\b\b\b\b\b\b\b\b\b\b\b\b\b\b\b\b\b\b\b\b\b\b\b\b\b\b\b\r69/69 [==============================] - 1s 10ms/step - loss: 177.6009 - mae: 177.6009 - val_loss: 902.5558 - val_mae: 902.5558\n",
            "Epoch 6/100\n",
            "69/69 [==============================] - 0s 4ms/step - loss: 179.5687 - mae: 179.5687 - val_loss: 913.0562 - val_mae: 913.0562\n",
            "Epoch 7/100\n",
            "69/69 [==============================] - 0s 4ms/step - loss: 193.1787 - mae: 193.1787 - val_loss: 1569.5507 - val_mae: 1569.5507\n",
            "Epoch 8/100\n",
            "69/69 [==============================] - 0s 3ms/step - loss: 186.6747 - mae: 186.6747 - val_loss: 1008.5926 - val_mae: 1008.5926\n",
            "Epoch 9/100\n",
            "69/69 [==============================] - 0s 3ms/step - loss: 208.6494 - mae: 208.6494 - val_loss: 1233.5732 - val_mae: 1233.5732\n",
            "Epoch 10/100\n",
            "53/69 [======================>.......] - ETA: 0s - loss: 179.9966 - mae: 179.9966"
          ]
        },
        {
          "output_type": "stream",
          "name": "stderr",
          "text": [
            "WARNING:absl:Found untraced functions such as _update_step_xla while saving (showing 1 of 1). These functions will not be directly callable after loading.\n"
          ]
        },
        {
          "output_type": "stream",
          "name": "stdout",
          "text": [
            "\b\b\b\b\b\b\b\b\b\b\b\b\b\b\b\b\b\b\b\b\b\b\b\b\b\b\b\b\b\b\b\b\b\b\b\b\b\b\b\b\b\b\b\b\b\b\b\b\b\b\b\b\b\b\b\b\b\b\b\b\b\b\b\b\b\b\b\b\b\b\b\b\b\b\b\b\b\b\b\b\b\r69/69 [==============================] - 1s 12ms/step - loss: 178.2922 - mae: 178.2922 - val_loss: 879.0799 - val_mae: 879.0799\n",
            "Epoch 11/100\n",
            "69/69 [==============================] - 1s 8ms/step - loss: 171.6047 - mae: 171.6047 - val_loss: 960.7001 - val_mae: 960.7001\n",
            "Epoch 12/100\n",
            "69/69 [==============================] - 0s 5ms/step - loss: 175.5034 - mae: 175.5034 - val_loss: 1031.6769 - val_mae: 1031.6769\n",
            "Epoch 13/100\n",
            "57/69 [=======================>......] - ETA: 0s - loss: 183.8461 - mae: 183.8461"
          ]
        },
        {
          "output_type": "stream",
          "name": "stderr",
          "text": [
            "WARNING:absl:Found untraced functions such as _update_step_xla while saving (showing 1 of 1). These functions will not be directly callable after loading.\n"
          ]
        },
        {
          "output_type": "stream",
          "name": "stdout",
          "text": [
            "\b\b\b\b\b\b\b\b\b\b\b\b\b\b\b\b\b\b\b\b\b\b\b\b\b\b\b\b\b\b\b\b\b\b\b\b\b\b\b\b\b\b\b\b\b\b\b\b\b\b\b\b\b\b\b\b\b\b\b\b\b\b\b\b\b\b\b\b\b\b\b\b\b\b\b\b\b\b\b\b\b\r69/69 [==============================] - 1s 12ms/step - loss: 180.7123 - mae: 180.7123 - val_loss: 770.4318 - val_mae: 770.4318\n",
            "Epoch 14/100\n",
            "69/69 [==============================] - 0s 3ms/step - loss: 145.8467 - mae: 145.8467 - val_loss: 914.5248 - val_mae: 914.5248\n",
            "Epoch 15/100\n",
            "69/69 [==============================] - 0s 4ms/step - loss: 146.9620 - mae: 146.9620 - val_loss: 783.6486 - val_mae: 783.6486\n",
            "Epoch 16/100\n",
            "69/69 [==============================] - 0s 4ms/step - loss: 154.0614 - mae: 154.0614 - val_loss: 1077.6152 - val_mae: 1077.6152\n",
            "Epoch 17/100\n",
            "69/69 [==============================] - 0s 4ms/step - loss: 184.2703 - mae: 184.2703 - val_loss: 801.5911 - val_mae: 801.5911\n",
            "Epoch 18/100\n",
            "58/69 [========================>.....] - ETA: 0s - loss: 141.1131 - mae: 141.1131"
          ]
        },
        {
          "output_type": "stream",
          "name": "stderr",
          "text": [
            "WARNING:absl:Found untraced functions such as _update_step_xla while saving (showing 1 of 1). These functions will not be directly callable after loading.\n"
          ]
        },
        {
          "output_type": "stream",
          "name": "stdout",
          "text": [
            "\b\b\b\b\b\b\b\b\b\b\b\b\b\b\b\b\b\b\b\b\b\b\b\b\b\b\b\b\b\b\b\b\b\b\b\b\b\b\b\b\b\b\b\b\b\b\b\b\b\b\b\b\b\b\b\b\b\b\b\b\b\b\b\b\b\b\b\b\b\b\b\b\b\b\b\b\b\b\b\b\b\r69/69 [==============================] - 1s 10ms/step - loss: 142.0281 - mae: 142.0281 - val_loss: 725.8480 - val_mae: 725.8480\n",
            "Epoch 19/100\n",
            "69/69 [==============================] - 0s 3ms/step - loss: 163.4479 - mae: 163.4479 - val_loss: 1271.6443 - val_mae: 1271.6443\n",
            "Epoch 20/100\n",
            "69/69 [==============================] - 0s 4ms/step - loss: 164.4186 - mae: 164.4186 - val_loss: 855.8304 - val_mae: 855.8304\n",
            "Epoch 21/100\n",
            "69/69 [==============================] - 0s 4ms/step - loss: 140.7743 - mae: 140.7743 - val_loss: 788.5804 - val_mae: 788.5804\n",
            "Epoch 22/100\n",
            "57/69 [=======================>......] - ETA: 0s - loss: 134.5434 - mae: 134.5434"
          ]
        },
        {
          "output_type": "stream",
          "name": "stderr",
          "text": [
            "WARNING:absl:Found untraced functions such as _update_step_xla while saving (showing 1 of 1). These functions will not be directly callable after loading.\n"
          ]
        },
        {
          "output_type": "stream",
          "name": "stdout",
          "text": [
            "\b\b\b\b\b\b\b\b\b\b\b\b\b\b\b\b\b\b\b\b\b\b\b\b\b\b\b\b\b\b\b\b\b\b\b\b\b\b\b\b\b\b\b\b\b\b\b\b\b\b\b\b\b\b\b\b\b\b\b\b\b\b\b\b\b\b\b\b\b\b\b\b\b\b\b\b\b\b\b\b\b\r69/69 [==============================] - 1s 10ms/step - loss: 135.9147 - mae: 135.9147 - val_loss: 668.8672 - val_mae: 668.8672\n",
            "Epoch 23/100\n",
            "69/69 [==============================] - 0s 4ms/step - loss: 159.6143 - mae: 159.6143 - val_loss: 2303.6785 - val_mae: 2303.6785\n",
            "Epoch 24/100\n",
            "69/69 [==============================] - 0s 5ms/step - loss: 187.8191 - mae: 187.8191 - val_loss: 848.4772 - val_mae: 848.4772\n",
            "Epoch 25/100\n",
            "69/69 [==============================] - 0s 5ms/step - loss: 146.6131 - mae: 146.6131 - val_loss: 809.0403 - val_mae: 809.0403\n",
            "Epoch 26/100\n",
            "69/69 [==============================] - 0s 5ms/step - loss: 157.4892 - mae: 157.4892 - val_loss: 779.7370 - val_mae: 779.7370\n",
            "Epoch 27/100\n",
            "69/69 [==============================] - 0s 5ms/step - loss: 150.9109 - mae: 150.9109 - val_loss: 757.2491 - val_mae: 757.2491\n",
            "Epoch 28/100\n",
            "62/69 [=========================>....] - ETA: 0s - loss: 150.1985 - mae: 150.1985"
          ]
        },
        {
          "output_type": "stream",
          "name": "stderr",
          "text": [
            "WARNING:absl:Found untraced functions such as _update_step_xla while saving (showing 1 of 1). These functions will not be directly callable after loading.\n"
          ]
        },
        {
          "output_type": "stream",
          "name": "stdout",
          "text": [
            "\b\b\b\b\b\b\b\b\b\b\b\b\b\b\b\b\b\b\b\b\b\b\b\b\b\b\b\b\b\b\b\b\b\b\b\b\b\b\b\b\b\b\b\b\b\b\b\b\b\b\b\b\b\b\b\b\b\b\b\b\b\b\b\b\b\b\b\b\b\b\b\b\b\b\b\b\b\b\b\b\b\r69/69 [==============================] - 1s 14ms/step - loss: 147.6553 - mae: 147.6553 - val_loss: 650.6548 - val_mae: 650.6548\n",
            "Epoch 29/100\n",
            "58/69 [========================>.....] - ETA: 0s - loss: 128.7470 - mae: 128.7470"
          ]
        },
        {
          "output_type": "stream",
          "name": "stderr",
          "text": [
            "WARNING:absl:Found untraced functions such as _update_step_xla while saving (showing 1 of 1). These functions will not be directly callable after loading.\n"
          ]
        },
        {
          "output_type": "stream",
          "name": "stdout",
          "text": [
            "\b\b\b\b\b\b\b\b\b\b\b\b\b\b\b\b\b\b\b\b\b\b\b\b\b\b\b\b\b\b\b\b\b\b\b\b\b\b\b\b\b\b\b\b\b\b\b\b\b\b\b\b\b\b\b\b\b\b\b\b\b\b\b\b\b\b\b\b\b\b\b\b\b\b\b\b\b\b\b\b\b\r69/69 [==============================] - 1s 15ms/step - loss: 131.7292 - mae: 131.7292 - val_loss: 643.3257 - val_mae: 643.3257\n",
            "Epoch 30/100\n",
            "69/69 [==============================] - 0s 4ms/step - loss: 171.3372 - mae: 171.3372 - val_loss: 1214.1909 - val_mae: 1214.1909\n",
            "Epoch 31/100\n",
            "69/69 [==============================] - 0s 3ms/step - loss: 130.8551 - mae: 130.8551 - val_loss: 649.3912 - val_mae: 649.3912\n",
            "Epoch 32/100\n",
            "69/69 [==============================] - 0s 4ms/step - loss: 144.4658 - mae: 144.4658 - val_loss: 814.4922 - val_mae: 814.4922\n",
            "Epoch 33/100\n",
            "69/69 [==============================] - 0s 3ms/step - loss: 126.8258 - mae: 126.8258 - val_loss: 1134.7242 - val_mae: 1134.7242\n",
            "Epoch 34/100\n",
            "69/69 [==============================] - 0s 4ms/step - loss: 193.2783 - mae: 193.2783 - val_loss: 884.5269 - val_mae: 884.5269\n",
            "Epoch 35/100\n",
            "69/69 [==============================] - 0s 4ms/step - loss: 132.4526 - mae: 132.4526 - val_loss: 766.5671 - val_mae: 766.5671\n",
            "Epoch 36/100\n",
            "69/69 [==============================] - 0s 4ms/step - loss: 151.8328 - mae: 151.8328 - val_loss: 765.5693 - val_mae: 765.5693\n",
            "Epoch 37/100\n",
            "69/69 [==============================] - 0s 4ms/step - loss: 146.1263 - mae: 146.1263 - val_loss: 829.7562 - val_mae: 829.7562\n",
            "Epoch 38/100\n",
            "69/69 [==============================] - 0s 3ms/step - loss: 150.8865 - mae: 150.8865 - val_loss: 690.0510 - val_mae: 690.0510\n",
            "Epoch 39/100\n",
            "57/69 [=======================>......] - ETA: 0s - loss: 126.4311 - mae: 126.4311"
          ]
        },
        {
          "output_type": "stream",
          "name": "stderr",
          "text": [
            "WARNING:absl:Found untraced functions such as _update_step_xla while saving (showing 1 of 1). These functions will not be directly callable after loading.\n"
          ]
        },
        {
          "output_type": "stream",
          "name": "stdout",
          "text": [
            "\b\b\b\b\b\b\b\b\b\b\b\b\b\b\b\b\b\b\b\b\b\b\b\b\b\b\b\b\b\b\b\b\b\b\b\b\b\b\b\b\b\b\b\b\b\b\b\b\b\b\b\b\b\b\b\b\b\b\b\b\b\b\b\b\b\b\b\b\b\b\b\b\b\b\b\b\b\b\b\b\b\r69/69 [==============================] - 1s 10ms/step - loss: 131.9890 - mae: 131.9890 - val_loss: 624.6299 - val_mae: 624.6299\n",
            "Epoch 40/100\n",
            "69/69 [==============================] - 0s 4ms/step - loss: 150.3968 - mae: 150.3968 - val_loss: 756.5433 - val_mae: 756.5433\n",
            "Epoch 41/100\n",
            "69/69 [==============================] - 0s 3ms/step - loss: 128.8337 - mae: 128.8337 - val_loss: 1030.2180 - val_mae: 1030.2180\n",
            "Epoch 42/100\n",
            "69/69 [==============================] - 0s 4ms/step - loss: 137.5561 - mae: 137.5561 - val_loss: 673.0781 - val_mae: 673.0781\n",
            "Epoch 43/100\n",
            "51/69 [=====================>........] - ETA: 0s - loss: 146.0859 - mae: 146.0859"
          ]
        },
        {
          "output_type": "stream",
          "name": "stderr",
          "text": [
            "WARNING:absl:Found untraced functions such as _update_step_xla while saving (showing 1 of 1). These functions will not be directly callable after loading.\n"
          ]
        },
        {
          "output_type": "stream",
          "name": "stdout",
          "text": [
            "\b\b\b\b\b\b\b\b\b\b\b\b\b\b\b\b\b\b\b\b\b\b\b\b\b\b\b\b\b\b\b\b\b\b\b\b\b\b\b\b\b\b\b\b\b\b\b\b\b\b\b\b\b\b\b\b\b\b\b\b\b\b\b\b\b\b\b\b\b\b\b\b\b\b\b\b\b\b\b\b\b\r69/69 [==============================] - 1s 10ms/step - loss: 137.3330 - mae: 137.3330 - val_loss: 618.9949 - val_mae: 618.9949\n",
            "Epoch 44/100\n",
            "69/69 [==============================] - 0s 3ms/step - loss: 141.6258 - mae: 141.6258 - val_loss: 776.8821 - val_mae: 776.8821\n",
            "Epoch 45/100\n",
            "69/69 [==============================] - 0s 4ms/step - loss: 127.2959 - mae: 127.2959 - val_loss: 655.5589 - val_mae: 655.5589\n",
            "Epoch 46/100\n",
            "69/69 [==============================] - 0s 4ms/step - loss: 147.6964 - mae: 147.6964 - val_loss: 621.4299 - val_mae: 621.4299\n",
            "Epoch 47/100\n",
            "69/69 [==============================] - 0s 3ms/step - loss: 130.4187 - mae: 130.4187 - val_loss: 1329.8066 - val_mae: 1329.8066\n",
            "Epoch 48/100\n",
            "69/69 [==============================] - 0s 4ms/step - loss: 168.4618 - mae: 168.4618 - val_loss: 666.0176 - val_mae: 666.0176\n",
            "Epoch 49/100\n",
            "69/69 [==============================] - 0s 4ms/step - loss: 138.4957 - mae: 138.4957 - val_loss: 647.7224 - val_mae: 647.7224\n",
            "Epoch 50/100\n",
            "69/69 [==============================] - 0s 4ms/step - loss: 138.5727 - mae: 138.5727 - val_loss: 621.6307 - val_mae: 621.6307\n",
            "Epoch 51/100\n",
            "69/69 [==============================] - 0s 4ms/step - loss: 119.6140 - mae: 119.6140 - val_loss: 645.7871 - val_mae: 645.7871\n",
            "Epoch 52/100\n",
            "53/69 [======================>.......] - ETA: 0s - loss: 135.6837 - mae: 135.6837"
          ]
        },
        {
          "output_type": "stream",
          "name": "stderr",
          "text": [
            "WARNING:absl:Found untraced functions such as _update_step_xla while saving (showing 1 of 1). These functions will not be directly callable after loading.\n"
          ]
        },
        {
          "output_type": "stream",
          "name": "stdout",
          "text": [
            "\b\b\b\b\b\b\b\b\b\b\b\b\b\b\b\b\b\b\b\b\b\b\b\b\b\b\b\b\b\b\b\b\b\b\b\b\b\b\b\b\b\b\b\b\b\b\b\b\b\b\b\b\b\b\b\b\b\b\b\b\b\b\b\b\b\b\b\b\b\b\b\b\b\b\b\b\b\b\b\b\b\r69/69 [==============================] - 1s 11ms/step - loss: 128.8190 - mae: 128.8190 - val_loss: 611.4984 - val_mae: 611.4984\n",
            "Epoch 53/100\n",
            "69/69 [==============================] - 0s 4ms/step - loss: 143.9510 - mae: 143.9510 - val_loss: 881.6825 - val_mae: 881.6825\n",
            "Epoch 54/100\n",
            "69/69 [==============================] - 0s 4ms/step - loss: 125.0510 - mae: 125.0510 - val_loss: 685.9076 - val_mae: 685.9076\n",
            "Epoch 55/100\n",
            "69/69 [==============================] - 0s 4ms/step - loss: 121.4784 - mae: 121.4784 - val_loss: 652.3171 - val_mae: 652.3171\n",
            "Epoch 56/100\n",
            "69/69 [==============================] - 0s 4ms/step - loss: 161.5749 - mae: 161.5749 - val_loss: 618.2188 - val_mae: 618.2188\n",
            "Epoch 57/100\n",
            "69/69 [==============================] - 0s 4ms/step - loss: 147.2603 - mae: 147.2603 - val_loss: 856.4584 - val_mae: 856.4584\n",
            "Epoch 58/100\n",
            "69/69 [==============================] - 0s 5ms/step - loss: 142.8620 - mae: 142.8620 - val_loss: 658.0791 - val_mae: 658.0791\n",
            "Epoch 59/100\n",
            "69/69 [==============================] - 0s 5ms/step - loss: 156.6718 - mae: 156.6718 - val_loss: 733.4022 - val_mae: 733.4022\n",
            "Epoch 60/100\n",
            "69/69 [==============================] - 0s 5ms/step - loss: 124.5350 - mae: 124.5350 - val_loss: 617.3373 - val_mae: 617.3373\n",
            "Epoch 61/100\n",
            "69/69 [==============================] - 0s 6ms/step - loss: 137.4437 - mae: 137.4437 - val_loss: 752.0455 - val_mae: 752.0455\n",
            "Epoch 62/100\n",
            "62/69 [=========================>....] - ETA: 0s - loss: 137.0572 - mae: 137.0572"
          ]
        },
        {
          "output_type": "stream",
          "name": "stderr",
          "text": [
            "WARNING:absl:Found untraced functions such as _update_step_xla while saving (showing 1 of 1). These functions will not be directly callable after loading.\n"
          ]
        },
        {
          "output_type": "stream",
          "name": "stdout",
          "text": [
            "\b\b\b\b\b\b\b\b\b\b\b\b\b\b\b\b\b\b\b\b\b\b\b\b\b\b\b\b\b\b\b\b\b\b\b\b\b\b\b\b\b\b\b\b\b\b\b\b\b\b\b\b\b\b\b\b\b\b\b\b\b\b\b\b\b\b\b\b\b\b\b\b\b\b\b\b\b\b\b\b\b\r69/69 [==============================] - 1s 18ms/step - loss: 136.6558 - mae: 136.6558 - val_loss: 604.7435 - val_mae: 604.7435\n",
            "Epoch 63/100\n",
            "69/69 [==============================] - 0s 5ms/step - loss: 130.3778 - mae: 130.3778 - val_loss: 615.3881 - val_mae: 615.3881\n",
            "Epoch 64/100\n",
            "69/69 [==============================] - 0s 7ms/step - loss: 143.4695 - mae: 143.4695 - val_loss: 905.7433 - val_mae: 905.7433\n",
            "Epoch 65/100\n",
            "69/69 [==============================] - 0s 6ms/step - loss: 127.4809 - mae: 127.4809 - val_loss: 612.2792 - val_mae: 612.2792\n",
            "Epoch 66/100\n",
            "69/69 [==============================] - 0s 4ms/step - loss: 150.9658 - mae: 150.9658 - val_loss: 988.2472 - val_mae: 988.2472\n",
            "Epoch 67/100\n",
            "69/69 [==============================] - 0s 5ms/step - loss: 137.6287 - mae: 137.6287 - val_loss: 752.8150 - val_mae: 752.8150\n",
            "Epoch 68/100\n",
            "69/69 [==============================] - 0s 5ms/step - loss: 126.5323 - mae: 126.5323 - val_loss: 829.8335 - val_mae: 829.8335\n",
            "Epoch 69/100\n",
            "51/69 [=====================>........] - ETA: 0s - loss: 171.5566 - mae: 171.5566"
          ]
        },
        {
          "output_type": "stream",
          "name": "stderr",
          "text": [
            "WARNING:absl:Found untraced functions such as _update_step_xla while saving (showing 1 of 1). These functions will not be directly callable after loading.\n"
          ]
        },
        {
          "output_type": "stream",
          "name": "stdout",
          "text": [
            "\b\b\b\b\b\b\b\b\b\b\b\b\b\b\b\b\b\b\b\b\b\b\b\b\b\b\b\b\b\b\b\b\b\b\b\b\b\b\b\b\b\b\b\b\b\b\b\b\b\b\b\b\b\b\b\b\b\b\b\b\b\b\b\b\b\b\b\b\b\b\b\b\b\b\b\b\b\b\b\b\b\r69/69 [==============================] - 1s 14ms/step - loss: 160.9986 - mae: 160.9986 - val_loss: 598.5658 - val_mae: 598.5658\n",
            "Epoch 70/100\n",
            "69/69 [==============================] - 0s 5ms/step - loss: 119.4746 - mae: 119.4746 - val_loss: 789.5904 - val_mae: 789.5904\n",
            "Epoch 71/100\n",
            "69/69 [==============================] - 0s 7ms/step - loss: 119.8662 - mae: 119.8662 - val_loss: 650.1426 - val_mae: 650.1426\n",
            "Epoch 72/100\n",
            "69/69 [==============================] - 0s 6ms/step - loss: 123.8340 - mae: 123.8340 - val_loss: 986.9015 - val_mae: 986.9015\n",
            "Epoch 73/100\n",
            "69/69 [==============================] - 0s 5ms/step - loss: 136.4302 - mae: 136.4302 - val_loss: 1169.4586 - val_mae: 1169.4586\n",
            "Epoch 74/100\n",
            "69/69 [==============================] - 0s 5ms/step - loss: 131.0624 - mae: 131.0624 - val_loss: 860.6323 - val_mae: 860.6323\n",
            "Epoch 75/100\n",
            "69/69 [==============================] - 0s 6ms/step - loss: 131.7955 - mae: 131.7955 - val_loss: 1544.3643 - val_mae: 1544.3643\n",
            "Epoch 76/100\n",
            "69/69 [==============================] - 0s 6ms/step - loss: 159.0260 - mae: 159.0260 - val_loss: 632.8410 - val_mae: 632.8410\n",
            "Epoch 77/100\n",
            "69/69 [==============================] - 0s 5ms/step - loss: 126.6147 - mae: 126.6147 - val_loss: 1038.1094 - val_mae: 1038.1094\n",
            "Epoch 78/100\n",
            "69/69 [==============================] - 0s 7ms/step - loss: 134.1282 - mae: 134.1282 - val_loss: 689.8207 - val_mae: 689.8207\n",
            "Epoch 79/100\n",
            "69/69 [==============================] - 0s 6ms/step - loss: 124.5205 - mae: 124.5205 - val_loss: 619.1838 - val_mae: 619.1838\n",
            "Epoch 80/100\n",
            "69/69 [==============================] - 0s 5ms/step - loss: 125.3342 - mae: 125.3342 - val_loss: 667.0261 - val_mae: 667.0261\n",
            "Epoch 81/100\n",
            "69/69 [==============================] - 0s 6ms/step - loss: 125.5581 - mae: 125.5581 - val_loss: 745.2419 - val_mae: 745.2419\n",
            "Epoch 82/100\n",
            "62/69 [=========================>....] - ETA: 0s - loss: 122.0362 - mae: 122.0362"
          ]
        },
        {
          "output_type": "stream",
          "name": "stderr",
          "text": [
            "WARNING:absl:Found untraced functions such as _update_step_xla while saving (showing 1 of 1). These functions will not be directly callable after loading.\n"
          ]
        },
        {
          "output_type": "stream",
          "name": "stdout",
          "text": [
            "\b\b\b\b\b\b\b\b\b\b\b\b\b\b\b\b\b\b\b\b\b\b\b\b\b\b\b\b\b\b\b\b\b\b\b\b\b\b\b\b\b\b\b\b\b\b\b\b\b\b\b\b\b\b\b\b\b\b\b\b\b\b\b\b\b\b\b\b\b\b\b\b\b\b\b\b\b\b\b\b\b\r69/69 [==============================] - 1s 15ms/step - loss: 122.8306 - mae: 122.8306 - val_loss: 587.4337 - val_mae: 587.4337\n",
            "Epoch 83/100\n",
            "69/69 [==============================] - 0s 6ms/step - loss: 125.1678 - mae: 125.1678 - val_loss: 1044.8739 - val_mae: 1044.8739\n",
            "Epoch 84/100\n",
            "69/69 [==============================] - 1s 8ms/step - loss: 128.0998 - mae: 128.0998 - val_loss: 733.3141 - val_mae: 733.3141\n",
            "Epoch 85/100\n",
            "69/69 [==============================] - 1s 8ms/step - loss: 120.4767 - mae: 120.4767 - val_loss: 634.2354 - val_mae: 634.2354\n",
            "Epoch 86/100\n",
            "69/69 [==============================] - 1s 8ms/step - loss: 144.7122 - mae: 144.7122 - val_loss: 679.2128 - val_mae: 679.2128\n",
            "Epoch 87/100\n",
            "69/69 [==============================] - 0s 6ms/step - loss: 139.5948 - mae: 139.5948 - val_loss: 900.5421 - val_mae: 900.5421\n",
            "Epoch 88/100\n",
            "69/69 [==============================] - 0s 5ms/step - loss: 137.2974 - mae: 137.2974 - val_loss: 664.0985 - val_mae: 664.0985\n",
            "Epoch 89/100\n",
            "69/69 [==============================] - 0s 5ms/step - loss: 123.6041 - mae: 123.6041 - val_loss: 961.8041 - val_mae: 961.8041\n",
            "Epoch 90/100\n",
            "69/69 [==============================] - 0s 3ms/step - loss: 125.3884 - mae: 125.3884 - val_loss: 777.7333 - val_mae: 777.7333\n",
            "Epoch 91/100\n",
            "69/69 [==============================] - 0s 4ms/step - loss: 147.1511 - mae: 147.1511 - val_loss: 593.1205 - val_mae: 593.1205\n",
            "Epoch 92/100\n",
            "69/69 [==============================] - 0s 4ms/step - loss: 112.8839 - mae: 112.8839 - val_loss: 605.9354 - val_mae: 605.9354\n",
            "Epoch 93/100\n",
            "55/69 [======================>.......] - ETA: 0s - loss: 112.1750 - mae: 112.1750"
          ]
        },
        {
          "output_type": "stream",
          "name": "stderr",
          "text": [
            "WARNING:absl:Found untraced functions such as _update_step_xla while saving (showing 1 of 1). These functions will not be directly callable after loading.\n"
          ]
        },
        {
          "output_type": "stream",
          "name": "stdout",
          "text": [
            "\b\b\b\b\b\b\b\b\b\b\b\b\b\b\b\b\b\b\b\b\b\b\b\b\b\b\b\b\b\b\b\b\b\b\b\b\b\b\b\b\b\b\b\b\b\b\b\b\b\b\b\b\b\b\b\b\b\b\b\b\b\b\b\b\b\b\b\b\b\b\b\b\b\b\b\b\b\b\b\b\b\r69/69 [==============================] - 1s 10ms/step - loss: 111.2066 - mae: 111.2066 - val_loss: 584.7877 - val_mae: 584.7877\n",
            "Epoch 94/100\n",
            "69/69 [==============================] - 0s 4ms/step - loss: 154.3544 - mae: 154.3544 - val_loss: 598.0330 - val_mae: 598.0330\n",
            "Epoch 95/100\n",
            "69/69 [==============================] - 0s 4ms/step - loss: 124.5940 - mae: 124.5940 - val_loss: 1049.6213 - val_mae: 1049.6213\n",
            "Epoch 96/100\n",
            "69/69 [==============================] - 0s 4ms/step - loss: 121.5540 - mae: 121.5540 - val_loss: 620.3879 - val_mae: 620.3879\n",
            "Epoch 97/100\n",
            "69/69 [==============================] - 0s 4ms/step - loss: 138.4108 - mae: 138.4108 - val_loss: 594.0101 - val_mae: 594.0101\n",
            "Epoch 98/100\n",
            "69/69 [==============================] - 0s 4ms/step - loss: 135.7317 - mae: 135.7317 - val_loss: 661.5496 - val_mae: 661.5496\n",
            "Epoch 99/100\n",
            "69/69 [==============================] - 0s 4ms/step - loss: 122.8978 - mae: 122.8978 - val_loss: 613.1983 - val_mae: 613.1983\n",
            "Epoch 100/100\n",
            "69/69 [==============================] - 0s 4ms/step - loss: 162.1994 - mae: 162.1994 - val_loss: 1835.9264 - val_mae: 1835.9264\n"
          ]
        }
      ]
    },
    {
      "cell_type": "code",
      "source": [
        "# Evaluate model\n",
        "model_2.evaluate(test_window,test_label)"
      ],
      "metadata": {
        "id": "CAPf_n_M7_Mk",
        "colab": {
          "base_uri": "https://localhost:8080/"
        },
        "outputId": "e9120d49-7950-485b-cad1-945680ce1fcb"
      },
      "execution_count": 45,
      "outputs": [
        {
          "output_type": "stream",
          "name": "stdout",
          "text": [
            "18/18 [==============================] - 0s 2ms/step - loss: 1835.9264 - mae: 1835.9264\n"
          ]
        },
        {
          "output_type": "execute_result",
          "data": {
            "text/plain": [
              "[1835.9263916015625, 1835.9263916015625]"
            ]
          },
          "metadata": {},
          "execution_count": 45
        }
      ]
    },
    {
      "cell_type": "code",
      "source": [
        "model_2_preds = make_preds(model_2,test_window)\n",
        "len(model_2_preds),model_2_preds[:10]"
      ],
      "metadata": {
        "colab": {
          "base_uri": "https://localhost:8080/"
        },
        "id": "Wc0lc1hwAY3M",
        "outputId": "6b59e3d0-7d59-4bbf-b094-1fea6963b522"
      },
      "execution_count": 46,
      "outputs": [
        {
          "output_type": "stream",
          "name": "stdout",
          "text": [
            "18/18 [==============================] - 0s 2ms/step\n"
          ]
        },
        {
          "output_type": "execute_result",
          "data": {
            "text/plain": [
              "(552,\n",
              " <tf.Tensor: shape=(10,), dtype=float32, numpy=\n",
              " array([9673.082, 9706.843, 9656.78 , 9468.61 , 9335.96 , 9263.385,\n",
              "        9119.814, 9132.64 , 9059.272, 8638.523], dtype=float32)>)"
            ]
          },
          "metadata": {},
          "execution_count": 46
        }
      ]
    },
    {
      "cell_type": "code",
      "source": [
        "model_2_results = evaluate_pred(y_true=tf.squeeze(test_label)\n",
        "                                ,y_pred=model_2_preds)\n",
        "model_2_results"
      ],
      "metadata": {
        "colab": {
          "base_uri": "https://localhost:8080/"
        },
        "id": "OQYxx9OVAqOW",
        "outputId": "b84f2f78-3079-445f-b854-33197fc00254"
      },
      "execution_count": 47,
      "outputs": [
        {
          "output_type": "execute_result",
          "data": {
            "text/plain": [
              "{'mae': 1835.9264,\n",
              " 'mse': 7281724.5,\n",
              " 'rmse': 2698.467,\n",
              " 'mape': 9.44132,\n",
              " 'mase': 3.2092173}"
            ]
          },
          "metadata": {},
          "execution_count": 47
        }
      ]
    },
    {
      "cell_type": "code",
      "source": [
        "## Lets plot the predictions\n",
        "offset=300\n",
        "plt.figure(figsize=(10,7))\n",
        "plot_time_series(timesteps=X_test[-len(test_window):],values=test_label[:,0]\n",
        "                 ,start=offset,label=\"Test data\")\n",
        "plot_time_series(timesteps=X_test[-len(test_window):],values=model_2_preds\n",
        "                 ,start=offset,label=\"model_2_preds\",format=\"-\")"
      ],
      "metadata": {
        "colab": {
          "base_uri": "https://localhost:8080/",
          "height": 619
        },
        "id": "jxZNYAAPA2aE",
        "outputId": "897d2240-004f-4a0f-ac1e-f3a9b227b0f3"
      },
      "execution_count": 48,
      "outputs": [
        {
          "output_type": "display_data",
          "data": {
            "text/plain": [
              "<Figure size 1000x700 with 1 Axes>"
            ],
            "image/png": "[encoded data removed]"
          },
          "metadata": {}
        }
      ]
    },
    {
      "cell_type": "markdown",
      "source": [
        "## Model 3: Window size=30, Horizon=7"
      ],
      "metadata": {
        "id": "ecYV0ORJBdOp"
      }
    },
    {
      "cell_type": "code",
      "source": [
        "WINDOW_SIZE=30\n",
        "HORIZON=7\n",
        "full_window, full_label = make_windows(prices, window_size=WINDOW_SIZE,horizon=HORIZON)\n",
        "len(full_window), len(full_label)"
      ],
      "metadata": {
        "colab": {
          "base_uri": "https://localhost:8080/"
        },
        "id": "eWtRk9N7CUfI",
        "outputId": "da779aab-7322-4f85-8698-9229cb79c411"
      },
      "execution_count": 49,
      "outputs": [
        {
          "output_type": "execute_result",
          "data": {
            "text/plain": [
              "(2751, 2751)"
            ]
          },
          "metadata": {},
          "execution_count": 49
        }
      ]
    },
    {
      "cell_type": "code",
      "source": [
        "train_window, train_label, test_window, test_label = make_train_test_split(windows=full_window, labels=full_label\n",
        "                                                                           ,test_split=0.2)\n",
        "len(train_window), len(train_label), len(test_window), len(test_label)"
      ],
      "metadata": {
        "colab": {
          "base_uri": "https://localhost:8080/"
        },
        "id": "lvHC5jCGCuFy",
        "outputId": "1b05b4f9-8936-44f2-ac88-9553b1a7491e"
      },
      "execution_count": 50,
      "outputs": [
        {
          "output_type": "execute_result",
          "data": {
            "text/plain": [
              "(2200, 2200, 551, 551)"
            ]
          },
          "metadata": {},
          "execution_count": 50
        }
      ]
    },
    {
      "cell_type": "code",
      "source": [
        "import tensorflow as tf\n",
        "from tensorflow.keras import layers\n",
        "# set random seed\n",
        "tf.random.set_seed(42)\n",
        "\n",
        "model_3 = tf.keras.Sequential([\n",
        "    layers.Dense(128, activation=\"relu\")\n",
        "    ,layers.Dense(HORIZON,activation=\"linear\")\n",
        "],name=\"model_3_dense\")\n",
        "\n",
        "model_3.compile(loss=\"mae\"\n",
        "                ,optimizer=tf.keras.optimizers.Adam()\n",
        "                ,metrics=[\"mae\"])\n",
        "\n",
        "history_3 = model_3.fit(x=train_window\n",
        "                        ,y=train_label\n",
        "                        ,epochs=100\n",
        "                        ,verbose=1\n",
        "                        ,validation_data=(test_window,test_label)\n",
        "                        ,callbacks=[create_model_checkpoint(model_name=model_3.name)])"
      ],
      "metadata": {
        "colab": {
          "base_uri": "https://localhost:8080/"
        },
        "id": "bzkjY3siEg2s",
        "outputId": "621abc0d-23da-4237-f7ce-9b4d74ae7bed"
      },
      "execution_count": 51,
      "outputs": [
        {
          "output_type": "stream",
          "name": "stdout",
          "text": [
            "Epoch 1/100\n",
            "64/69 [==========================>...] - ETA: 0s - loss: 666.0872 - mae: 666.0872"
          ]
        },
        {
          "output_type": "stream",
          "name": "stderr",
          "text": [
            "WARNING:absl:Found untraced functions such as _update_step_xla while saving (showing 1 of 1). These functions will not be directly callable after loading.\n"
          ]
        },
        {
          "output_type": "stream",
          "name": "stdout",
          "text": [
            "\b\b\b\b\b\b\b\b\b\b\b\b\b\b\b\b\b\b\b\b\b\b\b\b\b\b\b\b\b\b\b\b\b\b\b\b\b\b\b\b\b\b\b\b\b\b\b\b\b\b\b\b\b\b\b\b\b\b\b\b\b\b\b\b\b\b\b\b\b\b\b\b\b\b\b\b\b\b\b\b\b\r69/69 [==============================] - 3s 24ms/step - loss: 646.3141 - mae: 646.3141 - val_loss: 1844.6725 - val_mae: 1844.6725\n",
            "Epoch 2/100\n",
            "68/69 [============================>.] - ETA: 0s - loss: 346.0438 - mae: 346.0438"
          ]
        },
        {
          "output_type": "stream",
          "name": "stderr",
          "text": [
            "WARNING:absl:Found untraced functions such as _update_step_xla while saving (showing 1 of 1). These functions will not be directly callable after loading.\n"
          ]
        },
        {
          "output_type": "stream",
          "name": "stdout",
          "text": [
            "\b\b\b\b\b\b\b\b\b\b\b\b\b\b\b\b\b\b\b\b\b\b\b\b\b\b\b\b\b\b\b\b\b\b\b\b\b\b\b\b\b\b\b\b\b\b\b\b\b\b\b\b\b\b\b\b\b\b\b\b\b\b\b\b\b\b\b\b\b\b\b\b\b\b\b\b\b\b\b\b\b\r69/69 [==============================] - 2s 28ms/step - loss: 345.8870 - mae: 345.8870 - val_loss: 1723.0177 - val_mae: 1723.0177\n",
            "Epoch 3/100\n",
            "67/69 [============================>.] - ETA: 0s - loss: 303.4541 - mae: 303.4541"
          ]
        },
        {
          "output_type": "stream",
          "name": "stderr",
          "text": [
            "WARNING:absl:Found untraced functions such as _update_step_xla while saving (showing 1 of 1). These functions will not be directly callable after loading.\n"
          ]
        },
        {
          "output_type": "stream",
          "name": "stdout",
          "text": [
            "\b\b\b\b\b\b\b\b\b\b\b\b\b\b\b\b\b\b\b\b\b\b\b\b\b\b\b\b\b\b\b\b\b\b\b\b\b\b\b\b\b\b\b\b\b\b\b\b\b\b\b\b\b\b\b\b\b\b\b\b\b\b\b\b\b\b\b\b\b\b\b\b\b\b\b\b\b\b\b\b\b\r69/69 [==============================] - 1s 15ms/step - loss: 301.9443 - mae: 301.9443 - val_loss: 1688.5446 - val_mae: 1688.5446\n",
            "Epoch 4/100\n",
            "68/69 [============================>.] - ETA: 0s - loss: 287.2436 - mae: 287.2436"
          ]
        },
        {
          "output_type": "stream",
          "name": "stderr",
          "text": [
            "WARNING:absl:Found untraced functions such as _update_step_xla while saving (showing 1 of 1). These functions will not be directly callable after loading.\n"
          ]
        },
        {
          "output_type": "stream",
          "name": "stdout",
          "text": [
            "\b\b\b\b\b\b\b\b\b\b\b\b\b\b\b\b\b\b\b\b\b\b\b\b\b\b\b\b\b\b\b\b\b\b\b\b\b\b\b\b\b\b\b\b\b\b\b\b\b\b\b\b\b\b\b\b\b\b\b\b\b\b\b\b\b\b\b\b\b\b\b\b\b\b\b\b\b\b\b\b\b\r69/69 [==============================] - 1s 20ms/step - loss: 286.7459 - mae: 286.7459 - val_loss: 1487.0232 - val_mae: 1487.0232\n",
            "Epoch 5/100\n",
            "69/69 [==============================] - 0s 6ms/step - loss: 272.4444 - mae: 272.4444 - val_loss: 1729.9907 - val_mae: 1729.9907\n",
            "Epoch 6/100\n",
            "69/69 [==============================] - 1s 9ms/step - loss: 268.1653 - mae: 268.1653 - val_loss: 1741.8818 - val_mae: 1741.8818\n",
            "Epoch 7/100\n",
            "66/69 [===========================>..] - ETA: 0s - loss: 273.1353 - mae: 273.1353"
          ]
        },
        {
          "output_type": "stream",
          "name": "stderr",
          "text": [
            "WARNING:absl:Found untraced functions such as _update_step_xla while saving (showing 1 of 1). These functions will not be directly callable after loading.\n"
          ]
        },
        {
          "output_type": "stream",
          "name": "stdout",
          "text": [
            "\b\b\b\b\b\b\b\b\b\b\b\b\b\b\b\b\b\b\b\b\b\b\b\b\b\b\b\b\b\b\b\b\b\b\b\b\b\b\b\b\b\b\b\b\b\b\b\b\b\b\b\b\b\b\b\b\b\b\b\b\b\b\b\b\b\b\b\b\b\b\b\b\b\b\b\b\b\b\b\b\b\r69/69 [==============================] - 1s 18ms/step - loss: 271.4835 - mae: 271.4835 - val_loss: 1382.6987 - val_mae: 1382.6987\n",
            "Epoch 8/100\n",
            "69/69 [==============================] - 1s 10ms/step - loss: 260.6907 - mae: 260.6907 - val_loss: 1417.7623 - val_mae: 1417.7623\n",
            "Epoch 9/100\n",
            "69/69 [==============================] - 0s 5ms/step - loss: 253.1796 - mae: 253.1796 - val_loss: 1436.9657 - val_mae: 1436.9657\n",
            "Epoch 10/100\n",
            "69/69 [==============================] - 0s 4ms/step - loss: 258.3198 - mae: 258.3198 - val_loss: 1406.5323 - val_mae: 1406.5323\n",
            "Epoch 11/100\n",
            "69/69 [==============================] - 0s 4ms/step - loss: 252.6072 - mae: 252.6072 - val_loss: 1400.8920 - val_mae: 1400.8920\n",
            "Epoch 12/100\n",
            "58/69 [========================>.....] - ETA: 0s - loss: 248.0176 - mae: 248.0176"
          ]
        },
        {
          "output_type": "stream",
          "name": "stderr",
          "text": [
            "WARNING:absl:Found untraced functions such as _update_step_xla while saving (showing 1 of 1). These functions will not be directly callable after loading.\n"
          ]
        },
        {
          "output_type": "stream",
          "name": "stdout",
          "text": [
            "\b\b\b\b\b\b\b\b\b\b\b\b\b\b\b\b\b\b\b\b\b\b\b\b\b\b\b\b\b\b\b\b\b\b\b\b\b\b\b\b\b\b\b\b\b\b\b\b\b\b\b\b\b\b\b\b\b\b\b\b\b\b\b\b\b\b\b\b\b\b\b\b\b\b\b\b\b\b\b\b\b\r69/69 [==============================] - 1s 10ms/step - loss: 253.9075 - mae: 253.9075 - val_loss: 1319.9044 - val_mae: 1319.9044\n",
            "Epoch 13/100\n",
            "69/69 [==============================] - 0s 4ms/step - loss: 251.7946 - mae: 251.7946 - val_loss: 1593.3676 - val_mae: 1593.3676\n",
            "Epoch 14/100\n",
            "69/69 [==============================] - 0s 4ms/step - loss: 253.4298 - mae: 253.4298 - val_loss: 1522.6926 - val_mae: 1522.6926\n",
            "Epoch 15/100\n",
            "69/69 [==============================] - 0s 4ms/step - loss: 248.6073 - mae: 248.6073 - val_loss: 1563.8433 - val_mae: 1563.8433\n",
            "Epoch 16/100\n",
            "69/69 [==============================] - 0s 4ms/step - loss: 259.3301 - mae: 259.3301 - val_loss: 1614.0289 - val_mae: 1614.0289\n",
            "Epoch 17/100\n",
            "69/69 [==============================] - 0s 4ms/step - loss: 245.9796 - mae: 245.9796 - val_loss: 1410.6403 - val_mae: 1410.6403\n",
            "Epoch 18/100\n",
            "69/69 [==============================] - 0s 4ms/step - loss: 242.0439 - mae: 242.0439 - val_loss: 1342.0009 - val_mae: 1342.0009\n",
            "Epoch 19/100\n",
            "69/69 [==============================] - 0s 4ms/step - loss: 244.1479 - mae: 244.1479 - val_loss: 1568.5314 - val_mae: 1568.5314\n",
            "Epoch 20/100\n",
            "69/69 [==============================] - 0s 4ms/step - loss: 245.2124 - mae: 245.2124 - val_loss: 1342.7540 - val_mae: 1342.7540\n",
            "Epoch 21/100\n",
            "69/69 [==============================] - 0s 4ms/step - loss: 245.4197 - mae: 245.4197 - val_loss: 1337.7797 - val_mae: 1337.7797\n",
            "Epoch 22/100\n",
            "69/69 [==============================] - 0s 4ms/step - loss: 242.2401 - mae: 242.2401 - val_loss: 1513.3425 - val_mae: 1513.3425\n",
            "Epoch 23/100\n",
            "67/69 [============================>.] - ETA: 0s - loss: 244.1310 - mae: 244.1310"
          ]
        },
        {
          "output_type": "stream",
          "name": "stderr",
          "text": [
            "WARNING:absl:Found untraced functions such as _update_step_xla while saving (showing 1 of 1). These functions will not be directly callable after loading.\n"
          ]
        },
        {
          "output_type": "stream",
          "name": "stdout",
          "text": [
            "\b\b\b\b\b\b\b\b\b\b\b\b\b\b\b\b\b\b\b\b\b\b\b\b\b\b\b\b\b\b\b\b\b\b\b\b\b\b\b\b\b\b\b\b\b\b\b\b\b\b\b\b\b\b\b\b\b\b\b\b\b\b\b\b\b\b\b\b\b\b\b\b\b\b\b\b\b\b\b\b\b\r69/69 [==============================] - 1s 15ms/step - loss: 244.1435 - mae: 244.1435 - val_loss: 1282.0095 - val_mae: 1282.0095\n",
            "Epoch 24/100\n",
            "69/69 [==============================] - 0s 5ms/step - loss: 251.0309 - mae: 251.0309 - val_loss: 1314.8398 - val_mae: 1314.8398\n",
            "Epoch 25/100\n",
            "69/69 [==============================] - 0s 5ms/step - loss: 238.6097 - mae: 238.6097 - val_loss: 1360.2278 - val_mae: 1360.2278\n",
            "Epoch 26/100\n",
            "69/69 [==============================] - 0s 6ms/step - loss: 239.3182 - mae: 239.3182 - val_loss: 1341.4460 - val_mae: 1341.4460\n",
            "Epoch 27/100\n",
            "69/69 [==============================] - 0s 5ms/step - loss: 242.1477 - mae: 242.1477 - val_loss: 1444.3246 - val_mae: 1444.3246\n",
            "Epoch 28/100\n",
            "69/69 [==============================] - 0s 6ms/step - loss: 238.6069 - mae: 238.6069 - val_loss: 1331.3702 - val_mae: 1331.3702\n",
            "Epoch 29/100\n",
            "61/69 [=========================>....] - ETA: 0s - loss: 235.5182 - mae: 235.5182"
          ]
        },
        {
          "output_type": "stream",
          "name": "stderr",
          "text": [
            "WARNING:absl:Found untraced functions such as _update_step_xla while saving (showing 1 of 1). These functions will not be directly callable after loading.\n"
          ]
        },
        {
          "output_type": "stream",
          "name": "stdout",
          "text": [
            "\b\b\b\b\b\b\b\b\b\b\b\b\b\b\b\b\b\b\b\b\b\b\b\b\b\b\b\b\b\b\b\b\b\b\b\b\b\b\b\b\b\b\b\b\b\b\b\b\b\b\b\b\b\b\b\b\b\b\b\b\b\b\b\b\b\b\b\b\b\b\b\b\b\b\b\b\b\b\b\b\b\r69/69 [==============================] - 1s 21ms/step - loss: 237.3247 - mae: 237.3247 - val_loss: 1244.9923 - val_mae: 1244.9923\n",
            "Epoch 30/100\n",
            "69/69 [==============================] - 0s 6ms/step - loss: 236.9720 - mae: 236.9720 - val_loss: 1470.7596 - val_mae: 1470.7596\n",
            "Epoch 31/100\n",
            "69/69 [==============================] - 0s 4ms/step - loss: 236.0946 - mae: 236.0946 - val_loss: 1261.2820 - val_mae: 1261.2820\n",
            "Epoch 32/100\n",
            "69/69 [==============================] - 0s 4ms/step - loss: 237.2684 - mae: 237.2684 - val_loss: 1370.8978 - val_mae: 1370.8978\n",
            "Epoch 33/100\n",
            "55/69 [======================>.......] - ETA: 0s - loss: 234.4252 - mae: 234.4252"
          ]
        },
        {
          "output_type": "stream",
          "name": "stderr",
          "text": [
            "WARNING:absl:Found untraced functions such as _update_step_xla while saving (showing 1 of 1). These functions will not be directly callable after loading.\n"
          ]
        },
        {
          "output_type": "stream",
          "name": "stdout",
          "text": [
            "\b\b\b\b\b\b\b\b\b\b\b\b\b\b\b\b\b\b\b\b\b\b\b\b\b\b\b\b\b\b\b\b\b\b\b\b\b\b\b\b\b\b\b\b\b\b\b\b\b\b\b\b\b\b\b\b\b\b\b\b\b\b\b\b\b\b\b\b\b\b\b\b\b\b\b\b\b\b\b\b\b\r69/69 [==============================] - 1s 11ms/step - loss: 235.8849 - mae: 235.8849 - val_loss: 1238.1906 - val_mae: 1238.1906\n",
            "Epoch 34/100\n",
            "69/69 [==============================] - 0s 4ms/step - loss: 232.7698 - mae: 232.7698 - val_loss: 1660.3032 - val_mae: 1660.3032\n",
            "Epoch 35/100\n",
            "69/69 [==============================] - 0s 6ms/step - loss: 234.3387 - mae: 234.3387 - val_loss: 1273.6787 - val_mae: 1273.6787\n",
            "Epoch 36/100\n",
            "69/69 [==============================] - 0s 7ms/step - loss: 239.8312 - mae: 239.8312 - val_loss: 1241.7904 - val_mae: 1241.7904\n",
            "Epoch 37/100\n",
            "69/69 [==============================] - 0s 4ms/step - loss: 236.6618 - mae: 236.6618 - val_loss: 1282.7775 - val_mae: 1282.7775\n",
            "Epoch 38/100\n",
            "69/69 [==============================] - 0s 7ms/step - loss: 231.3195 - mae: 231.3195 - val_loss: 1416.2051 - val_mae: 1416.2051\n",
            "Epoch 39/100\n",
            "69/69 [==============================] - 0s 4ms/step - loss: 254.6201 - mae: 254.6201 - val_loss: 1298.5312 - val_mae: 1298.5312\n",
            "Epoch 40/100\n",
            "69/69 [==============================] - 0s 6ms/step - loss: 239.3513 - mae: 239.3513 - val_loss: 1337.2947 - val_mae: 1337.2947\n",
            "Epoch 41/100\n",
            "69/69 [==============================] - 1s 7ms/step - loss: 242.1468 - mae: 242.1468 - val_loss: 1242.9766 - val_mae: 1242.9766\n",
            "Epoch 42/100\n",
            "69/69 [==============================] - 0s 5ms/step - loss: 237.0669 - mae: 237.0669 - val_loss: 1807.6643 - val_mae: 1807.6643\n",
            "Epoch 43/100\n",
            "69/69 [==============================] - 0s 6ms/step - loss: 238.6118 - mae: 238.6118 - val_loss: 1251.3168 - val_mae: 1251.3168\n",
            "Epoch 44/100\n",
            "69/69 [==============================] - 0s 5ms/step - loss: 235.1303 - mae: 235.1303 - val_loss: 1865.5876 - val_mae: 1865.5876\n",
            "Epoch 45/100\n",
            "69/69 [==============================] - 0s 6ms/step - loss: 248.3752 - mae: 248.3752 - val_loss: 1294.0385 - val_mae: 1294.0385\n",
            "Epoch 46/100\n",
            "69/69 [==============================] - 0s 5ms/step - loss: 236.0919 - mae: 236.0919 - val_loss: 1329.0248 - val_mae: 1329.0248\n",
            "Epoch 47/100\n",
            "69/69 [==============================] - 0s 5ms/step - loss: 236.6834 - mae: 236.6834 - val_loss: 1350.5538 - val_mae: 1350.5538\n",
            "Epoch 48/100\n",
            "69/69 [==============================] - 0s 6ms/step - loss: 232.0317 - mae: 232.0317 - val_loss: 1250.8700 - val_mae: 1250.8700\n",
            "Epoch 49/100\n",
            "69/69 [==============================] - 0s 6ms/step - loss: 228.7937 - mae: 228.7937 - val_loss: 1316.9929 - val_mae: 1316.9929\n",
            "Epoch 50/100\n",
            "69/69 [==============================] - 0s 5ms/step - loss: 229.8653 - mae: 229.8653 - val_loss: 1337.5581 - val_mae: 1337.5581\n",
            "Epoch 51/100\n",
            "69/69 [==============================] - 0s 6ms/step - loss: 228.7566 - mae: 228.7566 - val_loss: 1435.0122 - val_mae: 1435.0122\n",
            "Epoch 52/100\n",
            "69/69 [==============================] - 1s 10ms/step - loss: 232.5910 - mae: 232.5910 - val_loss: 1291.2700 - val_mae: 1291.2700\n",
            "Epoch 53/100\n",
            "68/69 [============================>.] - ETA: 0s - loss: 235.3701 - mae: 235.3701"
          ]
        },
        {
          "output_type": "stream",
          "name": "stderr",
          "text": [
            "WARNING:absl:Found untraced functions such as _update_step_xla while saving (showing 1 of 1). These functions will not be directly callable after loading.\n"
          ]
        },
        {
          "output_type": "stream",
          "name": "stdout",
          "text": [
            "\b\b\b\b\b\b\b\b\b\b\b\b\b\b\b\b\b\b\b\b\b\b\b\b\b\b\b\b\b\b\b\b\b\b\b\b\b\b\b\b\b\b\b\b\b\b\b\b\b\b\b\b\b\b\b\b\b\b\b\b\b\b\b\b\b\b\b\b\b\b\b\b\b\b\b\b\b\b\b\b\b\r69/69 [==============================] - 2s 24ms/step - loss: 236.0302 - mae: 236.0302 - val_loss: 1224.4156 - val_mae: 1224.4156\n",
            "Epoch 54/100\n",
            "69/69 [==============================] - 0s 5ms/step - loss: 228.3989 - mae: 228.3989 - val_loss: 1489.7271 - val_mae: 1489.7271\n",
            "Epoch 55/100\n",
            "69/69 [==============================] - 0s 4ms/step - loss: 232.9672 - mae: 232.9672 - val_loss: 1305.5071 - val_mae: 1305.5071\n",
            "Epoch 56/100\n",
            "69/69 [==============================] - 0s 4ms/step - loss: 238.7833 - mae: 238.7833 - val_loss: 1300.4591 - val_mae: 1300.4591\n",
            "Epoch 57/100\n",
            "69/69 [==============================] - 0s 4ms/step - loss: 231.4538 - mae: 231.4538 - val_loss: 1242.5308 - val_mae: 1242.5308\n",
            "Epoch 58/100\n",
            "69/69 [==============================] - 0s 4ms/step - loss: 233.3320 - mae: 233.3320 - val_loss: 1245.3262 - val_mae: 1245.3262\n",
            "Epoch 59/100\n",
            "69/69 [==============================] - 0s 4ms/step - loss: 233.1002 - mae: 233.1002 - val_loss: 1351.2758 - val_mae: 1351.2758\n",
            "Epoch 60/100\n",
            "69/69 [==============================] - 0s 4ms/step - loss: 229.3732 - mae: 229.3732 - val_loss: 1322.1162 - val_mae: 1322.1162\n",
            "Epoch 61/100\n",
            "69/69 [==============================] - 0s 3ms/step - loss: 224.1605 - mae: 224.1605 - val_loss: 1268.7023 - val_mae: 1268.7023\n",
            "Epoch 62/100\n",
            "69/69 [==============================] - 0s 4ms/step - loss: 224.6617 - mae: 224.6617 - val_loss: 1300.9470 - val_mae: 1300.9470\n",
            "Epoch 63/100\n",
            "69/69 [==============================] - 0s 3ms/step - loss: 231.6194 - mae: 231.6194 - val_loss: 1393.6007 - val_mae: 1393.6007\n",
            "Epoch 64/100\n",
            "69/69 [==============================] - 0s 4ms/step - loss: 226.1696 - mae: 226.1696 - val_loss: 1292.8079 - val_mae: 1292.8079\n",
            "Epoch 65/100\n",
            "69/69 [==============================] - 0s 4ms/step - loss: 223.9429 - mae: 223.9429 - val_loss: 1300.6001 - val_mae: 1300.6001\n",
            "Epoch 66/100\n",
            "69/69 [==============================] - 0s 6ms/step - loss: 231.8557 - mae: 231.8557 - val_loss: 1351.5508 - val_mae: 1351.5508\n",
            "Epoch 67/100\n",
            "69/69 [==============================] - 0s 6ms/step - loss: 229.4957 - mae: 229.4957 - val_loss: 1311.6483 - val_mae: 1311.6483\n",
            "Epoch 68/100\n",
            "69/69 [==============================] - 0s 6ms/step - loss: 229.9341 - mae: 229.9341 - val_loss: 1316.1831 - val_mae: 1316.1831\n",
            "Epoch 69/100\n",
            "69/69 [==============================] - 1s 9ms/step - loss: 226.5338 - mae: 226.5338 - val_loss: 1428.5308 - val_mae: 1428.5308\n",
            "Epoch 70/100\n",
            "69/69 [==============================] - 0s 6ms/step - loss: 226.6070 - mae: 226.6070 - val_loss: 1406.0938 - val_mae: 1406.0938\n",
            "Epoch 71/100\n",
            "69/69 [==============================] - 0s 7ms/step - loss: 238.6204 - mae: 238.6204 - val_loss: 1421.6656 - val_mae: 1421.6656\n",
            "Epoch 72/100\n",
            "69/69 [==============================] - 0s 6ms/step - loss: 238.1079 - mae: 238.1079 - val_loss: 1260.6174 - val_mae: 1260.6174\n",
            "Epoch 73/100\n",
            "59/69 [========================>.....] - ETA: 0s - loss: 224.0242 - mae: 224.0242"
          ]
        },
        {
          "output_type": "stream",
          "name": "stderr",
          "text": [
            "WARNING:absl:Found untraced functions such as _update_step_xla while saving (showing 1 of 1). These functions will not be directly callable after loading.\n"
          ]
        },
        {
          "output_type": "stream",
          "name": "stdout",
          "text": [
            "\b\b\b\b\b\b\b\b\b\b\b\b\b\b\b\b\b\b\b\b\b\b\b\b\b\b\b\b\b\b\b\b\b\b\b\b\b\b\b\b\b\b\b\b\b\b\b\b\b\b\b\b\b\b\b\b\b\b\b\b\b\b\b\b\b\b\b\b\b\b\b\b\b\b\b\b\b\b\b\b\b\r69/69 [==============================] - 1s 14ms/step - loss: 223.6843 - mae: 223.6843 - val_loss: 1208.9463 - val_mae: 1208.9463\n",
            "Epoch 74/100\n",
            "69/69 [==============================] - 0s 4ms/step - loss: 226.4627 - mae: 226.4627 - val_loss: 1593.9365 - val_mae: 1593.9365\n",
            "Epoch 75/100\n",
            "69/69 [==============================] - 0s 4ms/step - loss: 227.1071 - mae: 227.1071 - val_loss: 1455.8121 - val_mae: 1455.8121\n",
            "Epoch 76/100\n",
            "69/69 [==============================] - 0s 3ms/step - loss: 228.6570 - mae: 228.6570 - val_loss: 1235.5531 - val_mae: 1235.5531\n",
            "Epoch 77/100\n",
            "69/69 [==============================] - 0s 3ms/step - loss: 227.0105 - mae: 227.0105 - val_loss: 1310.2428 - val_mae: 1310.2428\n",
            "Epoch 78/100\n",
            "69/69 [==============================] - 0s 4ms/step - loss: 230.1012 - mae: 230.1012 - val_loss: 1328.5686 - val_mae: 1328.5686\n",
            "Epoch 79/100\n",
            "69/69 [==============================] - 1s 8ms/step - loss: 222.8274 - mae: 222.8274 - val_loss: 1265.0836 - val_mae: 1265.0836\n",
            "Epoch 80/100\n",
            "69/69 [==============================] - 1s 9ms/step - loss: 227.6830 - mae: 227.6830 - val_loss: 1232.4868 - val_mae: 1232.4868\n",
            "Epoch 81/100\n",
            "69/69 [==============================] - 1s 10ms/step - loss: 237.3096 - mae: 237.3096 - val_loss: 1242.3639 - val_mae: 1242.3639\n",
            "Epoch 82/100\n",
            "69/69 [==============================] - 1s 11ms/step - loss: 240.5031 - mae: 240.5031 - val_loss: 1545.5844 - val_mae: 1545.5844\n",
            "Epoch 83/100\n",
            "69/69 [==============================] - 0s 6ms/step - loss: 227.2090 - mae: 227.2090 - val_loss: 1493.9674 - val_mae: 1493.9674\n",
            "Epoch 84/100\n",
            "69/69 [==============================] - 0s 5ms/step - loss: 230.3326 - mae: 230.3326 - val_loss: 1401.8910 - val_mae: 1401.8910\n",
            "Epoch 85/100\n",
            "69/69 [==============================] - 0s 6ms/step - loss: 232.2338 - mae: 232.2338 - val_loss: 1229.9203 - val_mae: 1229.9203\n",
            "Epoch 86/100\n",
            "69/69 [==============================] - 0s 4ms/step - loss: 225.6738 - mae: 225.6738 - val_loss: 1244.0298 - val_mae: 1244.0298\n",
            "Epoch 87/100\n",
            "69/69 [==============================] - 0s 4ms/step - loss: 233.4330 - mae: 233.4330 - val_loss: 1285.8539 - val_mae: 1285.8539\n",
            "Epoch 88/100\n",
            "69/69 [==============================] - 0s 4ms/step - loss: 230.7893 - mae: 230.7893 - val_loss: 1635.4320 - val_mae: 1635.4320\n",
            "Epoch 89/100\n",
            "69/69 [==============================] - 0s 3ms/step - loss: 231.9157 - mae: 231.9157 - val_loss: 1339.7520 - val_mae: 1339.7520\n",
            "Epoch 90/100\n",
            "69/69 [==============================] - 0s 4ms/step - loss: 226.9404 - mae: 226.9404 - val_loss: 1235.8878 - val_mae: 1235.8878\n",
            "Epoch 91/100\n",
            "69/69 [==============================] - 0s 4ms/step - loss: 231.3582 - mae: 231.3582 - val_loss: 1228.2908 - val_mae: 1228.2908\n",
            "Epoch 92/100\n",
            "55/69 [======================>.......] - ETA: 0s - loss: 218.2425 - mae: 218.2425"
          ]
        },
        {
          "output_type": "stream",
          "name": "stderr",
          "text": [
            "WARNING:absl:Found untraced functions such as _update_step_xla while saving (showing 1 of 1). These functions will not be directly callable after loading.\n"
          ]
        },
        {
          "output_type": "stream",
          "name": "stdout",
          "text": [
            "\b\b\b\b\b\b\b\b\b\b\b\b\b\b\b\b\b\b\b\b\b\b\b\b\b\b\b\b\b\b\b\b\b\b\b\b\b\b\b\b\b\b\b\b\b\b\b\b\b\b\b\b\b\b\b\b\b\b\b\b\b\b\b\b\b\b\b\b\b\b\b\b\b\b\b\b\b\b\b\b\b\r69/69 [==============================] - 1s 11ms/step - loss: 221.4933 - mae: 221.4933 - val_loss: 1186.8727 - val_mae: 1186.8727\n",
            "Epoch 93/100\n",
            "69/69 [==============================] - 0s 4ms/step - loss: 231.0441 - mae: 231.0441 - val_loss: 1967.6597 - val_mae: 1967.6597\n",
            "Epoch 94/100\n",
            "69/69 [==============================] - 0s 3ms/step - loss: 246.3276 - mae: 246.3276 - val_loss: 1418.1910 - val_mae: 1418.1910\n",
            "Epoch 95/100\n",
            "69/69 [==============================] - 0s 3ms/step - loss: 224.5696 - mae: 224.5696 - val_loss: 1225.8060 - val_mae: 1225.8060\n",
            "Epoch 96/100\n",
            "69/69 [==============================] - 0s 4ms/step - loss: 220.0760 - mae: 220.0760 - val_loss: 1256.5073 - val_mae: 1256.5073\n",
            "Epoch 97/100\n",
            "69/69 [==============================] - 0s 4ms/step - loss: 220.9907 - mae: 220.9907 - val_loss: 1285.9351 - val_mae: 1285.9351\n",
            "Epoch 98/100\n",
            "69/69 [==============================] - 0s 5ms/step - loss: 223.1057 - mae: 223.1057 - val_loss: 1249.0209 - val_mae: 1249.0209\n",
            "Epoch 99/100\n",
            "69/69 [==============================] - 0s 6ms/step - loss: 220.8988 - mae: 220.8988 - val_loss: 1303.8469 - val_mae: 1303.8469\n",
            "Epoch 100/100\n",
            "69/69 [==============================] - 0s 6ms/step - loss: 224.4193 - mae: 224.4193 - val_loss: 1364.9095 - val_mae: 1364.9095\n"
          ]
        }
      ]
    },
    {
      "cell_type": "code",
      "source": [
        "model_3.evaluate(test_window,test_label)"
      ],
      "metadata": {
        "colab": {
          "base_uri": "https://localhost:8080/"
        },
        "id": "nhUU-mSuFlnL",
        "outputId": "54febecf-5c50-4abf-85a8-7919c76aba37"
      },
      "execution_count": 52,
      "outputs": [
        {
          "output_type": "stream",
          "name": "stdout",
          "text": [
            "18/18 [==============================] - 0s 4ms/step - loss: 1364.9095 - mae: 1364.9095\n"
          ]
        },
        {
          "output_type": "execute_result",
          "data": {
            "text/plain": [
              "[1364.9095458984375, 1364.9095458984375]"
            ]
          },
          "metadata": {},
          "execution_count": 52
        }
      ]
    },
    {
      "cell_type": "code",
      "source": [
        "model_3_preds = make_preds(model_3,test_window)\n",
        "len(model_3_preds), model_3_preds[:10]"
      ],
      "metadata": {
        "colab": {
          "base_uri": "https://localhost:8080/"
        },
        "id": "fx66R_qUF39q",
        "outputId": "6c7607a4-6b03-4ea1-fb2e-2181643dfb4a"
      },
      "execution_count": 53,
      "outputs": [
        {
          "output_type": "stream",
          "name": "stdout",
          "text": [
            "18/18 [==============================] - 0s 1ms/step\n"
          ]
        },
        {
          "output_type": "execute_result",
          "data": {
            "text/plain": [
              "(551,\n",
              " <tf.Tensor: shape=(10, 7), dtype=float32, numpy=\n",
              " array([[8974.028 , 8824.919 , 9167.285 , 9122.184 , 9145.57  , 9175.151 ,\n",
              "         9101.498 ],\n",
              "        [8583.329 , 8446.791 , 8788.648 , 8762.99  , 8752.037 , 8846.832 ,\n",
              "         8759.663 ],\n",
              "        [8373.825 , 8323.761 , 8738.035 , 8738.505 , 8734.525 , 8654.838 ,\n",
              "         8759.559 ],\n",
              "        [8544.139 , 8661.152 , 9033.083 , 9028.711 , 9036.084 , 9038.19  ,\n",
              "         8987.309 ],\n",
              "        [8487.342 , 8572.875 , 8917.778 , 8842.314 , 8814.725 , 8753.861 ,\n",
              "         8662.806 ],\n",
              "        [8507.719 , 8576.103 , 8870.844 , 8890.535 , 8797.135 , 8621.398 ,\n",
              "         8404.393 ],\n",
              "        [8548.677 , 8471.351 , 8807.24  , 8780.084 , 8681.584 , 8487.715 ,\n",
              "         8264.367 ],\n",
              "        [8442.116 , 8168.354 , 8577.183 , 8480.191 , 8435.228 , 8275.353 ,\n",
              "         8137.3765],\n",
              "        [8156.2666, 7885.7744, 8292.119 , 8203.963 , 8091.278 , 8198.258 ,\n",
              "         8058.737 ],\n",
              "        [8004.9473, 7905.7427, 8156.8315, 8133.7593, 8017.631 , 8196.666 ,\n",
              "         8068.4673]], dtype=float32)>)"
            ]
          },
          "metadata": {},
          "execution_count": 53
        }
      ]
    },
    {
      "cell_type": "code",
      "source": [
        "model_3_results = evaluate_pred(y_true=tf.squeeze(test_label),\n",
        "                                y_pred=model_3_preds)\n",
        "model_3_results"
      ],
      "metadata": {
        "colab": {
          "base_uri": "https://localhost:8080/"
        },
        "id": "es9gDnKTGDFA",
        "outputId": "a2878cc6-3b20-492d-eee1-9d084689faa7"
      },
      "execution_count": 54,
      "outputs": [
        {
          "output_type": "execute_result",
          "data": {
            "text/plain": [
              "{'mae': array([ 279.73297,  197.10254,  235.86496,  353.82535,  295.95132,\n",
              "         296.49072,  250.40541,  245.07791,  362.13205,  433.4604 ,\n",
              "         545.5519 ,  583.47986,  598.4674 ,  579.05066,  190.86922,\n",
              "         281.50076,  361.99094,  611.59094,  550.5849 ,  534.35876,\n",
              "         225.47385,  241.80705,  184.33586,  153.57777,  208.28041,\n",
              "         273.5623 ,  335.28217,  378.15646,  253.70271,  133.30943,\n",
              "         138.26067,  161.3155 ,  126.1822 ,  211.15353,  289.10324,\n",
              "         274.3169 ,  217.5392 ,  234.90039,  221.72719,  478.23242,\n",
              "         847.8088 ,  241.40012,  277.1607 ,  290.285  ,  127.78334,\n",
              "         138.28746,  241.08308,  196.55656,  185.48961,  299.75287,\n",
              "         216.55357,  184.74477,  159.99365,  252.84006,  377.70703,\n",
              "         525.4902 ,  849.42004,  687.9372 ,  700.7297 ,  778.0634 ,\n",
              "         518.3784 ,  315.07394,  356.74338,  637.8885 ,  622.3864 ,\n",
              "         686.74023,  672.97565,  721.3487 ,  250.68387,  166.34793,\n",
              "         184.35854,  288.8355 ,  337.73996,  244.48605,  269.74973,\n",
              "         288.89203,  297.46207,  553.9863 ,  690.82465,  985.01166,\n",
              "        1030.2876 ,  771.1634 ,  447.33902,  244.88002,  204.06836,\n",
              "         251.02428,  339.59375,  432.9841 ,  650.50616,  965.9249 ,\n",
              "         662.5101 ,  632.52374,  561.2581 ,  382.2712 ,  228.46889,\n",
              "         403.39536,  349.48453,  449.98227,  410.49442,  469.64536,\n",
              "         196.83817,  213.45857,  408.11496,  176.4873 ,  288.59598,\n",
              "         366.05203,  461.43695,  624.69293,  770.3906 ,  657.5751 ,\n",
              "         468.07324,  277.19086,  356.4481 ,  429.6691 ,  548.15826,\n",
              "         580.06506,  426.69385,  499.25467,  580.43835, 1024.1329 ,\n",
              "        1415.651  , 1758.9381 , 1555.4714 , 1787.6283 , 1996.7108 ,\n",
              "        2206.5222 ,  691.5557 ,  535.01746,  493.79547,  518.0976 ,\n",
              "         787.01117,  677.11566,  698.7616 ,  321.07205,  256.02475,\n",
              "         342.99588,  606.66595,  427.57526,  304.60953,  360.53766,\n",
              "         352.61295,  344.78864,  699.38654, 1037.4218 ,  672.6856 ,\n",
              "         613.76276,  509.16245,  212.56815,  192.47356,  166.64516,\n",
              "         315.23032,  297.20865,  262.14713,  373.09305,  343.06445,\n",
              "         233.4257 ,  354.2438 ,  277.53738,  344.88412,  333.66733,\n",
              "         524.4561 ,  282.6889 ,  358.7011 ,  255.59445,  260.05328,\n",
              "         641.913  ,  817.166  ,  928.11035,  641.99817,  820.4657 ,\n",
              "         942.8768 , 1116.2788 , 1144.4861 , 1251.7122 ,  511.09598,\n",
              "         382.9484 ,  421.18668,  380.34473,  365.26382,  564.6083 ,\n",
              "         580.98816,  545.0297 ,  667.0292 ,  794.0038 ,  616.7419 ,\n",
              "         341.49637,  815.1901 ,  912.8224 ,  499.08246,  155.01576,\n",
              "         237.90276,  230.97754,  327.46136,  435.32828,  382.71512,\n",
              "         265.05664,  275.3443 ,  385.79312,  357.13754,  414.2772 ,\n",
              "         874.96844, 1149.7885 , 1003.9184 ,  570.7485 ,  457.51227,\n",
              "         212.45605,  376.7934 ,  324.9248 ,  229.58203,  311.33817,\n",
              "         244.78697,  271.07324,  284.52957,  218.91072,  275.30566,\n",
              "         190.65067,  250.65681,  216.95076,  149.4474 ,  160.40945,\n",
              "         214.56445,  249.19643,  271.82227,  214.39314,  298.9975 ,\n",
              "         381.71332,  304.81598,  325.48563,  259.39984,  269.05942,\n",
              "         160.09389,  121.9276 ,  224.8976 ,  405.012  ,  392.75238,\n",
              "         236.37277,  283.3047 ,  239.77916,  294.2853 ,  382.32925,\n",
              "         369.78726,  498.31696,  298.5823 ,  270.43637,  114.45703,\n",
              "         165.22852,  193.10031,  244.18039,  194.661  ,  221.39104,\n",
              "         167.66322,  237.94168,  366.68137,  403.72906,  494.7726 ,\n",
              "         633.6847 ,  921.0466 ,  944.0829 , 1019.2878 , 1106.7928 ,\n",
              "        1386.8064 , 1578.6599 , 1581.4926 ,  497.64676,  462.21582,\n",
              "         258.73676,  383.7564 ,  311.73172,  202.92076,  335.29535,\n",
              "         388.1243 ,  537.40753,  194.2673 ,  221.52092,  214.6483 ,\n",
              "         224.42355,  198.98549,  161.934  ,  561.8598 ,  478.67285,\n",
              "         408.26562,  338.7723 ,  273.90012,  304.4495 ,  276.64188,\n",
              "         214.32631,  127.97266,  205.5844 ,  235.39871,  252.99428,\n",
              "         218.12318,  212.09612,  464.61356,  486.7168 ,  570.66437,\n",
              "         542.119  ,  631.977  ,  785.87836,  939.3895 , 1192.9103 ,\n",
              "         929.41907,  319.56293,  178.26619,  636.67566,  587.49664,\n",
              "         454.93457,  710.2172 ,  766.2037 ,  701.06195,  670.74677,\n",
              "         748.1999 ,  845.6688 ,  544.51605,  267.09375,  205.56529,\n",
              "         287.33636,  294.5837 ,  207.6084 ,  225.95871,  385.09457,\n",
              "         446.6614 ,  641.3676 ,  365.68625,  162.8552 ,  155.69768,\n",
              "         218.6282 ,  208.40681,  208.57617,  173.4407 ,  217.72531,\n",
              "         408.82492,  569.9442 ,  607.1745 ,  650.56903,  915.3265 ,\n",
              "        1039.0463 ,  866.19293,  700.94434,  315.69266,  251.10603,\n",
              "         192.11174,  288.7574 ,  545.6519 ,  777.3217 , 1115.6569 ,\n",
              "        1433.526  , 1522.4484 , 1385.7228 , 1442.2352 ,  420.43262,\n",
              "         210.95605,  357.00278,  392.23062,  542.1773 ,  649.03156,\n",
              "         157.51018,  448.1335 ,  699.4632 ,  947.7843 ,  734.39734,\n",
              "        1137.618  , 1434.5896 , 1435.2634 , 1392.8778 ,  346.25684,\n",
              "         388.065  ,  786.35547,  543.44   ,  893.6339 , 1222.142  ,\n",
              "        1231.217  ,  910.92523, 1098.8099 , 1624.3888 , 2015.5032 ,\n",
              "        1767.2236 , 1211.5848 ,  843.2938 ,  729.08875,  664.62195,\n",
              "         713.8764 ,  911.2143 , 1015.75305,  888.2628 ,  744.52203,\n",
              "        1291.7109 , 1913.0651 , 1696.6493 , 1473.2057 ,  297.3853 ,\n",
              "         315.5745 ,  374.27094,  461.04688,  426.6512 ,  566.93585,\n",
              "         548.673  ,  394.11578,  689.44977, 1117.2793 , 2075.0496 ,\n",
              "        3068.0078 , 3169.6355 , 3486.3188 , 3629.3657 , 3904.9338 ,\n",
              "        2378.2583 ,  879.1144 ,  771.84796,  727.269  , 1056.0555 ,\n",
              "        1859.4099 , 2231.4766 , 3093.6868 , 3481.844  , 3372.1785 ,\n",
              "        2314.8406 , 2879.9944 , 3158.112  , 3939.2683 , 3486.5432 ,\n",
              "        4296.949  , 5473.827  , 4365.056  , 4305.079  , 5583.987  ,\n",
              "        3616.1301 , 3127.256  , 2903.0386 , 3736.3577 , 4829.524  ,\n",
              "        3836.8928 ,  736.2349 , 1818.8186 , 1528.2924 , 2667.0598 ,\n",
              "        2150.1233 , 2358.9246 , 3061.53   , 3175.848  , 3321.896  ,\n",
              "        2597.9646 , 1851.3156 , 1224.3577 , 1852.847  , 2000.5295 ,\n",
              "        2306.536  , 3287.818  , 5226.6167 , 4270.811  , 2314.0405 ,\n",
              "        2853.117  , 4191.0146 , 5613.6787 , 5901.704  , 5397.755  ,\n",
              "        6546.8174 , 7616.527  , 6731.794  , 8559.977  , 3674.4688 ,\n",
              "        1311.9889 , 2423.3733 , 1523.005  , 2143.3984 , 3130.6902 ,\n",
              "        3484.519  , 4396.357  , 4348.196  , 2975.1653 , 3810.576  ,\n",
              "        5889.2554 , 6537.8643 , 9492.599  , 7748.8984 , 2653.8862 ,\n",
              "        2113.351  , 1100.4564 , 2991.447  , 3308.0725 , 5532.134  ,\n",
              "        3231.0942 , 4431.9946 , 2744.0417 , 5580.1763 , 5745.45   ,\n",
              "        7806.2417 , 7521.693  , 7329.823  , 5589.5347 , 3276.1233 ,\n",
              "        2671.9492 , 2524.3003 , 1471.6389 , 1525.7333 , 1202.5988 ,\n",
              "        1789.5195 , 3133.0369 , 3775.3103 , 4011.1116 , 3680.0925 ,\n",
              "        2822.5715 , 1999.0402 , 1829.2756 , 4472.0024 , 5959.046  ,\n",
              "        5233.0806 , 2961.8035 , 4449.074  , 2913.332  , 1891.6641 ,\n",
              "        1458.841  ,  983.36945,  738.3644 , 1805.5759 , 1880.4213 ,\n",
              "        1371.2338 , 2490.7483 , 4970.4414 , 5055.9976 , 5383.9062 ,\n",
              "        4049.0637 , 2889.5173 , 2970.4006 , 3584.141  , 4791.847  ,\n",
              "        5849.9326 , 5903.9897 , 5675.313  , 3698.231  , 3056.217  ,\n",
              "        3030.6606 , 2115.0652 , 2753.823  , 4191.535  , 5584.927  ,\n",
              "        8279.432  , 5080.4937 , 2545.2656 , 2750.1992 , 4068.5793 ,\n",
              "        1792.8298 , 1704.3287 , 2092.8035 , 1951.903  , 4879.868  ,\n",
              "        2566.2192 , 2844.3577 , 3296.1016 , 4714.207  , 6390.742  ,\n",
              "        6589.755  ], dtype=float32),\n",
              " 'mse': array([1.05113242e+05, 7.96650078e+04, 1.09347945e+05, 1.52773891e+05,\n",
              "        9.51240391e+04, 1.00211289e+05, 8.34788281e+04, 8.38021172e+04,\n",
              "        2.16424656e+05, 2.85867281e+05, 4.10855719e+05, 3.76829250e+05,\n",
              "        4.25019844e+05, 4.13320656e+05, 6.79545078e+04, 1.16316141e+05,\n",
              "        1.75011453e+05, 3.95789594e+05, 3.27349344e+05, 3.01222938e+05,\n",
              "        9.55819219e+04, 1.28029148e+05, 4.62076641e+04, 2.59550137e+04,\n",
              "        5.56175352e+04, 8.85745703e+04, 1.14857461e+05, 1.54708703e+05,\n",
              "        9.10816406e+04, 3.52108906e+04, 2.77587031e+04, 2.98451621e+04,\n",
              "        2.24253848e+04, 7.00327031e+04, 1.06560891e+05, 1.02973438e+05,\n",
              "        8.26899297e+04, 8.58227109e+04, 7.48693047e+04, 2.76088906e+05,\n",
              "        7.38158562e+05, 6.22422695e+04, 9.08125547e+04, 9.35005703e+04,\n",
              "        2.47070840e+04, 3.16520664e+04, 7.39013359e+04, 4.27826797e+04,\n",
              "        3.88069297e+04, 1.10940211e+05, 7.73737422e+04, 4.70411562e+04,\n",
              "        3.66880234e+04, 9.55842969e+04, 2.53234641e+05, 4.03873219e+05,\n",
              "        8.01320000e+05, 5.18322969e+05, 5.34117438e+05, 6.44261875e+05,\n",
              "        2.97006781e+05, 1.76616875e+05, 2.31452359e+05, 5.05560844e+05,\n",
              "        4.92628750e+05, 5.40828500e+05, 5.03326031e+05, 5.34428312e+05,\n",
              "        8.06641406e+04, 4.04077578e+04, 5.16838008e+04, 1.08249938e+05,\n",
              "        1.63178906e+05, 6.73336250e+04, 7.87758906e+04, 1.00699008e+05,\n",
              "        1.46800953e+05, 4.84120438e+05, 6.23411438e+05, 1.05343650e+06,\n",
              "        1.08367400e+06, 6.04069875e+05, 2.33618125e+05, 1.02890625e+05,\n",
              "        5.24398398e+04, 7.80158672e+04, 1.56213141e+05, 2.67930906e+05,\n",
              "        4.79048906e+05, 9.88786000e+05, 4.97658938e+05, 4.36041781e+05,\n",
              "        3.62235781e+05, 1.61705359e+05, 6.63496016e+04, 2.40060703e+05,\n",
              "        1.59313250e+05, 2.50142719e+05, 2.13711281e+05, 2.74804531e+05,\n",
              "        6.06994102e+04, 8.75607656e+04, 2.36422422e+05, 4.51316836e+04,\n",
              "        1.12489898e+05, 1.70810672e+05, 2.84225281e+05, 4.30859281e+05,\n",
              "        7.87775875e+05, 5.30263625e+05, 2.52331469e+05, 8.74571953e+04,\n",
              "        1.46218641e+05, 2.32286984e+05, 3.64404062e+05, 4.14864938e+05,\n",
              "        1.92713484e+05, 2.77170281e+05, 3.77160219e+05, 1.70550225e+06,\n",
              "        3.29846175e+06, 4.54860100e+06, 3.89008150e+06, 4.04459200e+06,\n",
              "        4.40738500e+06, 4.99931200e+06, 5.53479312e+05, 3.34362500e+05,\n",
              "        3.85481406e+05, 3.60138281e+05, 7.22241688e+05, 6.13940938e+05,\n",
              "        5.88751875e+05, 1.21866758e+05, 8.14539844e+04, 1.44872375e+05,\n",
              "        4.41071031e+05, 2.71224906e+05, 1.04983430e+05, 1.78113859e+05,\n",
              "        1.71986453e+05, 1.91079547e+05, 6.49181562e+05, 1.11530038e+06,\n",
              "        4.77814156e+05, 4.03498656e+05, 2.93634250e+05, 7.04389922e+04,\n",
              "        6.33192148e+04, 5.26335820e+04, 1.37335641e+05, 1.12512805e+05,\n",
              "        1.05528938e+05, 1.84343359e+05, 1.26815039e+05, 6.84217422e+04,\n",
              "        1.87187891e+05, 9.61766172e+04, 1.46060375e+05, 1.67196672e+05,\n",
              "        3.12405406e+05, 1.17140500e+05, 1.63837672e+05, 7.69478906e+04,\n",
              "        1.02303000e+05, 4.59012562e+05, 7.05771188e+05, 1.06301762e+06,\n",
              "        7.03643000e+05, 1.03711200e+06, 1.24087088e+06, 1.47044638e+06,\n",
              "        1.43687100e+06, 1.57338088e+06, 2.92156156e+05, 2.66063000e+05,\n",
              "        3.37196312e+05, 2.43683516e+05, 2.17088125e+05, 3.92787938e+05,\n",
              "        4.55697344e+05, 3.75000156e+05, 6.67945062e+05, 8.29474000e+05,\n",
              "        4.90867719e+05, 1.70917500e+05, 7.14933438e+05, 9.02583938e+05,\n",
              "        2.93650562e+05, 5.03395664e+04, 7.07732891e+04, 7.84208125e+04,\n",
              "        1.17450508e+05, 2.22731969e+05, 2.11373781e+05, 1.13539445e+05,\n",
              "        9.63584531e+04, 1.95416719e+05, 1.89810281e+05, 2.73458938e+05,\n",
              "        9.57602312e+05, 1.41189425e+06, 1.08209375e+06, 4.03189938e+05,\n",
              "        2.61153219e+05, 1.24042867e+05, 2.25905703e+05, 1.25972750e+05,\n",
              "        7.72746016e+04, 1.13854695e+05, 6.88497188e+04, 9.41531250e+04,\n",
              "        9.79846016e+04, 6.54046992e+04, 9.39585156e+04, 6.55341875e+04,\n",
              "        7.80650156e+04, 6.28351602e+04, 4.23229648e+04, 4.01904023e+04,\n",
              "        7.56110000e+04, 1.10622438e+05, 9.83995547e+04, 6.51158750e+04,\n",
              "        1.14102688e+05, 1.57153219e+05, 1.55884141e+05, 2.05752484e+05,\n",
              "        7.83628984e+04, 1.02148820e+05, 3.15750195e+04, 2.03773008e+04,\n",
              "        5.73423047e+04, 1.83308422e+05, 1.71999594e+05, 8.76770156e+04,\n",
              "        1.04235750e+05, 8.24114453e+04, 1.11702680e+05, 1.53677453e+05,\n",
              "        1.53558500e+05, 2.57764359e+05, 1.26629586e+05, 1.03702391e+05,\n",
              "        1.56624668e+04, 3.22051934e+04, 5.11990273e+04, 7.44686016e+04,\n",
              "        5.95518086e+04, 6.85829453e+04, 5.20224609e+04, 9.52983906e+04,\n",
              "        1.94119109e+05, 2.06092141e+05, 2.70528844e+05, 4.43072562e+05,\n",
              "        1.18972062e+06, 1.34421538e+06, 1.54439025e+06, 1.67165888e+06,\n",
              "        2.24971475e+06, 2.76980675e+06, 2.54637025e+06, 2.97502469e+05,\n",
              "        2.52135719e+05, 1.12074836e+05, 2.41066172e+05, 1.32896141e+05,\n",
              "        7.40890469e+04, 1.19671664e+05, 1.69488453e+05, 3.37934688e+05,\n",
              "        6.30764648e+04, 7.74524766e+04, 6.32906953e+04, 7.06757891e+04,\n",
              "        5.86738125e+04, 5.76368828e+04, 3.67090469e+05, 2.58677719e+05,\n",
              "        2.10032109e+05, 1.42504250e+05, 1.47177984e+05, 1.80456547e+05,\n",
              "        1.04675438e+05, 5.62532148e+04, 3.97189648e+04, 5.04484805e+04,\n",
              "        9.48643281e+04, 1.01580430e+05, 9.00767422e+04, 5.36923477e+04,\n",
              "        2.77299062e+05, 2.76992781e+05, 3.81874312e+05, 3.31680250e+05,\n",
              "        4.89613250e+05, 7.60053062e+05, 1.03054000e+06, 1.72637712e+06,\n",
              "        9.69601812e+05, 1.42618250e+05, 4.72105430e+04, 4.77665656e+05,\n",
              "        3.75080000e+05, 2.44922172e+05, 5.64003562e+05, 6.88371312e+05,\n",
              "        5.82877875e+05, 4.86945469e+05, 5.91001625e+05, 7.25931688e+05,\n",
              "        3.42391719e+05, 1.21288875e+05, 5.36254297e+04, 9.70925859e+04,\n",
              "        9.84569531e+04, 6.52041562e+04, 6.38926328e+04, 1.64589078e+05,\n",
              "        2.12041859e+05, 4.29968781e+05, 1.52395109e+05, 4.91455508e+04,\n",
              "        4.82637266e+04, 8.29484609e+04, 5.42789922e+04, 5.30194414e+04,\n",
              "        3.89940977e+04, 7.48336016e+04, 2.30428594e+05, 4.51506500e+05,\n",
              "        5.00585844e+05, 5.76731188e+05, 9.33069438e+05, 1.11764875e+06,\n",
              "        7.76827938e+05, 5.00342156e+05, 1.47296969e+05, 1.06309789e+05,\n",
              "        5.18238633e+04, 1.36429516e+05, 6.74502188e+05, 1.13786150e+06,\n",
              "        1.73017600e+06, 2.47563725e+06, 2.53023000e+06, 2.04757062e+06,\n",
              "        2.18794200e+06, 2.26238469e+05, 8.16721484e+04, 1.73789719e+05,\n",
              "        2.07282594e+05, 3.77287781e+05, 4.81646031e+05, 3.96336758e+04,\n",
              "        2.60206391e+05, 9.56769812e+05, 1.52934100e+06, 9.67310312e+05,\n",
              "        1.76847862e+06, 2.28742800e+06, 2.22203975e+06, 2.13559750e+06,\n",
              "        2.41530203e+05, 2.00412250e+05, 7.29337562e+05, 3.50222500e+05,\n",
              "        9.31991812e+05, 1.84958912e+06, 2.02028512e+06, 1.22246362e+06,\n",
              "        2.00104312e+06, 3.34361675e+06, 4.40446850e+06, 3.18965125e+06,\n",
              "        1.53849200e+06, 7.83825312e+05, 5.84249625e+05, 7.91003562e+05,\n",
              "        9.71531312e+05, 1.26684938e+06, 1.20961388e+06, 1.25406662e+06,\n",
              "        6.58045875e+05, 2.22848275e+06, 3.82172800e+06, 3.05044625e+06,\n",
              "        2.27544500e+06, 1.40609234e+05, 2.17607703e+05, 2.27953641e+05,\n",
              "        2.68023812e+05, 2.07610422e+05, 3.48120719e+05, 3.58010344e+05,\n",
              "        2.25098828e+05, 6.34904188e+05, 2.41779000e+06, 7.06452500e+06,\n",
              "        1.24950750e+07, 1.34230730e+07, 1.45988000e+07, 1.45390060e+07,\n",
              "        1.55551570e+07, 5.71990050e+06, 1.00556562e+06, 9.28175000e+05,\n",
              "        1.21580975e+06, 2.43175450e+06, 5.28065500e+06, 6.70365500e+06,\n",
              "        1.17888140e+07, 1.39057380e+07, 1.24913060e+07, 8.04710050e+06,\n",
              "        1.18827050e+07, 1.27831630e+07, 1.86226860e+07, 1.59859510e+07,\n",
              "        2.66911660e+07, 3.97227520e+07, 2.76978900e+07, 2.35999780e+07,\n",
              "        3.56826520e+07, 1.83631200e+07, 1.18597500e+07, 1.09437420e+07,\n",
              "        1.83649040e+07, 2.65795100e+07, 1.55495540e+07, 9.74996188e+05,\n",
              "        4.94412300e+06, 3.15549075e+06, 1.31163690e+07, 1.00773060e+07,\n",
              "        9.59525500e+06, 1.26120100e+07, 1.28428860e+07, 1.31241860e+07,\n",
              "        8.05711100e+06, 4.31061550e+06, 2.10127975e+06, 4.83640850e+06,\n",
              "        5.16557350e+06, 6.76961200e+06, 1.28182580e+07, 2.93177280e+07,\n",
              "        2.08683560e+07, 7.37660900e+06, 1.21560070e+07, 2.12138860e+07,\n",
              "        4.03906040e+07, 4.69413520e+07, 3.97180400e+07, 5.52666520e+07,\n",
              "        6.91607440e+07, 5.41689960e+07, 7.57765840e+07, 1.39387780e+07,\n",
              "        2.48439150e+06, 7.75553250e+06, 5.08860950e+06, 9.13686200e+06,\n",
              "        1.40722890e+07, 1.79600220e+07, 2.35223180e+07, 2.28958500e+07,\n",
              "        1.07940890e+07, 1.56889370e+07, 4.71057840e+07, 5.32528920e+07,\n",
              "        1.02026520e+08, 6.51749400e+07, 1.15281360e+07, 5.52537850e+06,\n",
              "        2.43510175e+06, 1.13821950e+07, 1.34935890e+07, 3.16636380e+07,\n",
              "        1.29307950e+07, 2.30520140e+07, 1.46021150e+07, 3.92859600e+07,\n",
              "        4.05696440e+07, 6.94039840e+07, 6.34098280e+07, 5.74867840e+07,\n",
              "        3.27522980e+07, 1.34474240e+07, 1.09940110e+07, 9.71177000e+06,\n",
              "        2.73442825e+06, 2.53611675e+06, 2.99773450e+06, 4.26724250e+06,\n",
              "        1.49193270e+07, 1.89621660e+07, 2.03147060e+07, 1.88524420e+07,\n",
              "        1.17654430e+07, 5.66092700e+06, 6.29798950e+06, 2.36735640e+07,\n",
              "        3.86852280e+07, 2.88523880e+07, 9.64413600e+06, 2.06755400e+07,\n",
              "        9.61424200e+06, 3.95799225e+06, 3.50076375e+06, 1.38436325e+06,\n",
              "        8.50557438e+05, 4.53663100e+06, 4.62128250e+06, 2.87774925e+06,\n",
              "        1.13388140e+07, 2.86061120e+07, 2.86224340e+07, 3.03894040e+07,\n",
              "        1.68668700e+07, 9.66732800e+06, 1.08724940e+07, 1.69946600e+07,\n",
              "        3.05077020e+07, 4.60462640e+07, 4.51125480e+07, 3.85645800e+07,\n",
              "        1.69697860e+07, 1.27642990e+07, 1.38096820e+07, 6.56721600e+06,\n",
              "        9.24907600e+06, 2.35079360e+07, 3.79876920e+07, 7.16226880e+07,\n",
              "        2.78081560e+07, 7.52136050e+06, 1.08877050e+07, 2.00717780e+07,\n",
              "        3.98768775e+06, 4.87428500e+06, 6.67207700e+06, 4.86876900e+06,\n",
              "        2.45803160e+07, 6.95861500e+06, 1.00315250e+07, 1.56922380e+07,\n",
              "        3.33907020e+07, 5.69766440e+07, 5.68592000e+07], dtype=float32),\n",
              " 'rmse': array([  324.21173,   282.2499 ,   330.678  ,   390.863  ,   308.42184,\n",
              "          316.56168,   288.92703,   289.48596,   465.21463,   534.6656 ,\n",
              "          640.9803 ,   613.8642 ,   651.9355 ,   642.9002 ,   260.68085,\n",
              "          341.0515 ,   418.3437 ,   629.1181 ,   572.14453,   548.83777,\n",
              "          309.16327,   357.8116 ,   214.95967,   161.10559,   235.8337 ,\n",
              "          297.6148 ,   338.90625,   393.33026,   301.79733,   187.64565,\n",
              "          166.60944,   172.75752,   149.75107,   264.63693,   326.43665,\n",
              "          320.89474,   287.55856,   292.95514,   273.62256,   525.4416 ,\n",
              "          859.1615 ,   249.48401,   301.3512 ,   305.77863,   157.18488,\n",
              "          177.91028,   271.848  ,   206.83974,   196.99475,   333.07687,\n",
              "          278.16135,   216.88972,   191.54118,   309.16708,   503.22424,\n",
              "          635.5102 ,   895.1648 ,   719.9465 ,   730.8334 ,   802.65924,\n",
              "          544.9833 ,   420.2581 ,   481.09494,   711.028  ,   701.8752 ,\n",
              "          735.4104 ,   709.4547 ,   731.046  ,   284.0143 ,   201.01682,\n",
              "          227.34071,   329.01358,   403.9541 ,   259.48724,   280.67044,\n",
              "          317.33105,   383.14612,   695.7876 ,   789.5641 ,  1026.3705 ,\n",
              "         1040.9966 ,   777.21936,   483.34058,   320.7657 ,   228.99747,\n",
              "          279.3132 ,   395.23807,   517.6204 ,   692.1336 ,   994.3772 ,\n",
              "          705.44946,   660.3346 ,   601.8602 ,   402.12607,   257.58417,\n",
              "          489.9599 ,   399.14062,   500.1427 ,   462.28915,   524.218  ,\n",
              "          246.3725 ,   295.90668,   486.23288,   212.44218,   335.39514,\n",
              "          413.29248,   533.1278 ,   656.3987 ,   887.5674 ,   728.192  ,\n",
              "          502.32605,   295.73163,   382.38547,   481.9616 ,   603.6589 ,\n",
              "          644.1001 ,   438.99142,   526.46967,   614.1337 ,  1305.9487 ,\n",
              "         1816.1667 ,  2132.7449 ,  1972.329  ,  2011.1171 ,  2099.3772 ,\n",
              "         2235.914  ,   743.9619 ,   578.24084,   620.87146,   600.11523,\n",
              "          849.848  ,   783.5438 ,   767.3017 ,   349.09418,   285.40143,\n",
              "          380.62103,   664.1318 ,   520.79254,   324.01147,   422.0354 ,\n",
              "          414.7125 ,   437.12646,   805.718  ,  1056.0778 ,   691.241  ,\n",
              "          635.21545,   541.8803 ,   265.40344,   251.63309,   229.42009,\n",
              "          370.58823,   335.4293 ,   324.85217,   429.35223,   356.111  ,\n",
              "          261.5755 ,   432.65216,   310.12357,   382.17844,   408.8969 ,\n",
              "          558.9324 ,   342.25793,   404.76868,   277.3948 ,   319.8484 ,\n",
              "          677.50464,   840.10187,  1031.0275 ,   838.8343 ,  1018.38696,\n",
              "         1113.9438 ,  1212.6196 ,  1198.6956 ,  1254.3447 ,   540.5147 ,\n",
              "          515.8129 ,   580.68604,   493.6431 ,   465.92715,   626.72797,\n",
              "          675.0536 ,   612.37256,   817.27905,   910.75464,   700.6195 ,\n",
              "          413.4217 ,   845.53735,   950.0441 ,   541.8953 ,   224.3648 ,\n",
              "          266.0325 ,   280.03717,   342.71054,   471.9449 ,   459.75403,\n",
              "          336.95615,   310.41656,   442.05963,   435.6722 ,   522.933  ,\n",
              "          978.5716 ,  1188.2316 ,  1040.2373 ,   634.97235,   511.03152,\n",
              "          352.1972 ,   475.29538,   354.9264 ,   277.9831 ,   337.4236 ,\n",
              "          262.3923 ,   306.8438 ,   313.0249 ,   255.74342,   306.52652,\n",
              "          255.99646,   279.40115,   250.66942,   205.72546,   200.47543,\n",
              "          274.97455,   332.59952,   313.687  ,   255.17812,   337.7909 ,\n",
              "          396.42557,   394.82166,   453.5995 ,   279.93375,   319.6073 ,\n",
              "          177.6936 ,   142.74908,   239.46252,   428.14532,   414.72833,\n",
              "          296.10306,   322.85562,   287.07394,   334.2195 ,   392.01715,\n",
              "          391.86542,   507.705  ,   355.8505 ,   322.02856,   125.14977,\n",
              "          179.45805,   226.27202,   272.88934,   244.0324 ,   261.88345,\n",
              "          228.08434,   308.70438,   440.5895 ,   453.97372,   520.12384,\n",
              "          665.63696,  1090.7432 ,  1159.403  ,  1242.735  ,  1292.9264 ,\n",
              "         1499.9049 ,  1664.2736 ,  1595.735  ,   545.43787,   502.13116,\n",
              "          334.7758 ,   490.9849 ,   364.54922,   272.19302,   345.9359 ,\n",
              "          411.68976,   581.3215 ,   251.15028,   278.30286,   251.57642,\n",
              "          265.84918,   242.22678,   240.07683,   605.8799 ,   508.6037 ,\n",
              "          458.2926 ,   377.49734,   383.63785,   424.80176,   323.53583,\n",
              "          237.1776 ,   199.29617,   224.60739,   308.00052,   318.71686,\n",
              "          300.12787,   231.7161 ,   526.5919 ,   526.301  ,   617.9598 ,\n",
              "          575.9169 ,   699.7237 ,   871.81024,  1015.15515,  1313.9167 ,\n",
              "          984.6836 ,   377.64832,   217.27986,   691.1336 ,   612.43774,\n",
              "          494.89612,   751.0017 ,   829.68146,   763.46436,   697.81476,\n",
              "          768.7663 ,   852.01624,   585.14246,   348.2655 ,   231.57166,\n",
              "          311.59683,   313.7785 ,   255.35104,   252.76991,   405.6958 ,\n",
              "          460.48004,   655.72003,   390.37814,   221.68796,   219.69006,\n",
              "          288.00775,   232.97852,   230.2595 ,   197.46922,   273.5573 ,\n",
              "          480.0298 ,   671.9423 ,   707.5209 ,   759.42816,   965.9552 ,\n",
              "         1057.1891 ,   881.3784 ,   707.3487 ,   383.79288,   326.05182,\n",
              "          227.64854,   369.36368,   821.2808 ,  1066.7059 ,  1315.3616 ,\n",
              "         1573.4158 ,  1590.6697 ,  1430.9335 ,  1479.1694 ,   475.64532,\n",
              "          285.7834 ,   416.88095,   455.283  ,   614.23755,   694.0072 ,\n",
              "          199.08208,   510.10428,   978.1461 ,  1236.6653 ,   983.51935,\n",
              "         1329.8416 ,  1512.4246 ,  1490.6508 ,  1461.3683 ,   491.4572 ,\n",
              "          447.67426,   854.01263,   591.79596,   965.3972 ,  1359.996  ,\n",
              "         1421.3673 ,  1105.6508 ,  1414.5823 ,  1828.5559 ,  2098.6824 ,\n",
              "         1785.9595 ,  1240.3596 ,   885.3391 ,   764.36224,   889.3838 ,\n",
              "          985.66284,  1125.544  ,  1099.8245 ,  1119.8512 ,   811.20026,\n",
              "         1492.8103 ,  1954.9241 ,  1746.5526 ,  1508.4578 ,   374.97897,\n",
              "          466.4844 ,   477.44492,   517.71014,   455.64285,   590.0176 ,\n",
              "          598.33966,   474.4458 ,   796.8087 ,  1554.9244 ,  2657.9175 ,\n",
              "         3534.8374 ,  3663.7512 ,  3820.8376 ,  3813.005  ,  3944.0027 ,\n",
              "         2391.6313 ,  1002.77893,   963.4184 ,  1102.6376 ,  1559.4083 ,\n",
              "         2297.9675 ,  2589.1416 ,  3433.4841 ,  3729.0398 ,  3534.3042 ,\n",
              "         2836.7412 ,  3447.13   ,  3575.355  ,  4315.401  ,  3998.2434 ,\n",
              "         5166.3496 ,  6302.5986 ,  5262.8784 ,  4857.981  ,  5973.4956 ,\n",
              "         4285.221  ,  3443.7988 ,  3308.1326 ,  4285.429  ,  5155.5317 ,\n",
              "         3943.2922 ,   987.41895,  2223.5383 ,  1776.3701 ,  3621.6528 ,\n",
              "         3174.4773 ,  3097.6208 ,  3551.339  ,  3583.6973 ,  3622.7317 ,\n",
              "         2838.5051 ,  2076.2021 ,  1449.5791 ,  2199.1836 ,  2272.7898 ,\n",
              "         2601.8477 ,  3580.2595 ,  5414.585  ,  4568.1895 ,  2715.9912 ,\n",
              "         3486.5466 ,  4605.8535 ,  6355.3604 ,  6851.376  ,  6302.225  ,\n",
              "         7434.1543 ,  8316.294  ,  7359.959  ,  8704.975  ,  3733.4673 ,\n",
              "         1576.1953 ,  2784.8757 ,  2255.7947 ,  3022.7244 ,  3751.305  ,\n",
              "         4237.9263 ,  4849.9814 ,  4784.9604 ,  3285.4358 ,  3960.9263 ,\n",
              "         6863.365  ,  7297.458  , 10100.817  ,  8073.0996 ,  3395.311  ,\n",
              "         2350.6123 ,  1560.4812 ,  3373.751  ,  3673.362  ,  5627.045  ,\n",
              "         3595.9414 ,  4801.2515 ,  3821.2712 ,  6267.8516 ,  6369.43   ,\n",
              "         8330.905  ,  7963.029  ,  7582.004  ,  5722.9624 ,  3667.073  ,\n",
              "         3315.722  ,  3116.371  ,  1653.6106 ,  1592.5189 ,  1731.3967 ,\n",
              "         2065.7305 ,  3862.5544 ,  4354.5566 ,  4507.1836 ,  4341.94   ,\n",
              "         3430.079  ,  2379.2703 ,  2509.5793 ,  4865.5483 ,  6219.745  ,\n",
              "         5371.442  ,  3105.501  ,  4547.036  ,  3100.684  ,  1989.4703 ,\n",
              "         1871.0328 ,  1176.5896 ,   922.2567 ,  2129.9368 ,  2149.7168 ,\n",
              "         1696.3931 ,  3367.3154 ,  5348.4683 ,  5349.9937 ,  5512.6587 ,\n",
              "         4106.929  ,  3109.2327 ,  3297.3464 ,  4122.458  ,  5523.3774 ,\n",
              "         6785.7397 ,  6716.5874 ,  6210.0386 ,  4119.44   ,  3572.7158 ,\n",
              "         3716.138  ,  2562.658  ,  3041.2292 ,  4848.4985 ,  6163.4155 ,\n",
              "         8463.019  ,  5273.3438 ,  2742.5098 ,  3299.652  ,  4480.154  ,\n",
              "         1996.9196 ,  2207.7783 ,  2583.0364 ,  2206.5286 ,  4957.854  ,\n",
              "         2637.9187 ,  3167.2583 ,  3961.343  ,  5778.4688 ,  7548.2876 ,\n",
              "         7540.504  ], dtype=float32),\n",
              " 'mape': array([ 3.2001193,  2.2292008,  2.680688 ,  4.126003 ,  3.4796834,\n",
              "         3.5223074,  3.0175197,  3.046863 ,  4.613816 ,  5.6796584,\n",
              "         7.3969088,  7.9066978,  8.233378 ,  8.026026 ,  2.6660678,\n",
              "         3.7759933,  4.838184 ,  8.211918 ,  7.3735156,  7.144849 ,\n",
              "         2.9908037,  3.1937308,  2.5108652,  2.0818145,  2.8018827,\n",
              "         3.6814446,  4.5295377,  5.1040964,  3.4155993,  1.7891716,\n",
              "         1.882722 ,  2.2455063,  1.7850336,  3.0470088,  4.1166925,\n",
              "         3.9267983,  3.171779 ,  3.3440814,  3.1052005,  6.6109524,\n",
              "        11.707016 ,  3.3541348,  3.8383286,  4.0152135,  1.7655885,\n",
              "         1.8957889,  3.3140042,  2.7110963,  2.5555756,  4.1324925,\n",
              "         2.964477 ,  2.5450473,  2.231995 ,  3.426912 ,  4.9185762,\n",
              "         6.758028 , 10.9707155,  8.762329 ,  8.821539 ,  9.699531 ,\n",
              "         6.4166865,  3.7717588,  4.1744256,  7.476375 ,  7.1739264,\n",
              "         7.8583426,  7.6693254,  8.206003 ,  2.8413084,  1.8948872,\n",
              "         2.1056788,  3.3740501,  3.9873953,  2.8733108,  3.155664 ,\n",
              "         3.3445768,  3.3366296,  6.0287085,  7.4781632, 10.650629 ,\n",
              "        11.068453 ,  8.247302 ,  4.7672963,  2.579434 ,  2.1704438,\n",
              "         2.6354864,  3.5143218,  4.3961296,  6.6199436,  9.726992 ,\n",
              "         6.5816545,  6.246631 ,  5.494672 ,  3.744926 ,  2.2450073,\n",
              "         3.9441895,  3.4880948,  4.561792 ,  4.183312 ,  4.827345 ,\n",
              "         2.0307605,  2.1466346,  4.129908 ,  1.8361071,  3.0646517,\n",
              "         3.9455957,  5.061548 ,  6.9330597,  8.826705 ,  7.5376234,\n",
              "         5.37186  ,  3.1609669,  4.0382357,  4.823367 ,  6.128257 ,\n",
              "         6.479951 ,  4.9182196,  5.812376 ,  6.8389497, 14.632699 ,\n",
              "        22.137642 , 29.314407 , 27.804235 , 32.65132  , 36.648376 ,\n",
              "        41.135803 , 12.9336815,  9.601425 ,  8.306618 ,  8.651289 ,\n",
              "        12.8867655, 10.623125 , 10.817261 ,  5.000777 ,  3.9134953,\n",
              "         5.245172 ,  9.204831 ,  6.438037 ,  4.7751555,  5.716778 ,\n",
              "         5.502909 ,  5.251548 , 10.429464 , 15.478781 ,  9.845899 ,\n",
              "         8.868277 ,  7.2116017,  2.9425728,  2.6583714,  2.3264349,\n",
              "         4.3517327,  4.221711 ,  3.679647 ,  5.4061074,  4.982156 ,\n",
              "         3.34323  ,  4.9776864,  3.9237835,  4.8590684,  4.6792464,\n",
              "         7.358669 ,  3.9031022,  4.9142785,  3.541247 ,  3.480256 ,\n",
              "         8.544252 , 10.762989 , 11.670734 ,  7.684218 ,  9.611527 ,\n",
              "        10.8483095, 12.778404 , 12.987043 , 14.102921 ,  5.677676 ,\n",
              "         4.073849 ,  4.362356 ,  3.9205682,  3.7783782,  5.9365273,\n",
              "         6.098237 ,  5.8934517,  7.4786716,  8.873881 ,  6.8974457,\n",
              "         3.6069126,  8.572598 ,  9.503596 ,  5.1856704,  1.6592773,\n",
              "         2.4983552,  2.4204593,  3.505224 ,  4.755601 ,  4.244608 ,\n",
              "         2.958262 ,  2.9967904,  4.171766 ,  3.8250308,  4.3769116,\n",
              "         9.069163 , 11.935023 , 10.353833 ,  5.8331556,  4.6604404,\n",
              "         2.1244736,  3.8057156,  3.3562648,  2.3520296,  3.1848323,\n",
              "         2.5171638,  2.79099  ,  2.9426095,  2.2771873,  2.8896863,\n",
              "         1.9864559,  2.6642034,  2.295269 ,  1.5863097,  1.7076625,\n",
              "         2.2742693,  2.6155357,  2.8569953,  2.2586572,  3.1622481,\n",
              "         4.0529227,  3.214307 ,  3.4221377,  2.8040285,  2.9497771,\n",
              "         1.7468957,  1.3346499,  2.4642034,  4.4282107,  4.295451 ,\n",
              "         2.571969 ,  3.0805252,  2.5889661,  3.17536  ,  4.134701 ,\n",
              "         3.9906178,  5.3646564,  3.2023277,  2.9018424,  1.2382476,\n",
              "         1.792535 ,  2.0941951,  2.6478782,  2.1106374,  2.4044492,\n",
              "         1.8119465,  2.5458434,  3.8938563,  4.269967 ,  5.2066717,\n",
              "         6.588123 ,  9.075722 ,  9.011442 ,  9.455978 , 10.126157 ,\n",
              "        12.573192 , 14.039842 , 14.018433 ,  4.384271 ,  4.062916 ,\n",
              "         2.2440064,  3.2936625,  2.681938 ,  1.7883973,  2.8865144,\n",
              "         3.3189921,  4.5924044,  1.6641793,  1.9184467,  1.8542442,\n",
              "         1.9287229,  1.6908357,  1.3490696,  4.693091 ,  3.9964073,\n",
              "         3.3977323,  2.8228035,  2.2651384,  2.520536 ,  2.3602421,\n",
              "         1.8417418,  1.0907441,  1.7852942,  2.0265622,  2.18313  ,\n",
              "         1.8815339,  1.8433303,  3.9852202,  4.182813 ,  4.915756 ,\n",
              "         4.7392445,  5.776343 ,  7.3764124,  8.93334  , 11.609756 ,\n",
              "         9.080095 ,  3.1355608,  1.7397689,  6.1571836,  5.6896067,\n",
              "         4.3751884,  6.7531185,  7.186965 ,  6.5206027,  6.2154574,\n",
              "         6.891469 ,  7.75787  ,  4.9862323,  2.44183  ,  1.9332286,\n",
              "         2.6969602,  2.7614264,  1.9700644,  2.136517 ,  3.6017933,\n",
              "         4.1704135,  5.9664555,  3.4046214,  1.5156741,  1.4471887,\n",
              "         2.032354 ,  1.9503947,  1.9564658,  1.6347606,  2.0306053,\n",
              "         3.7789564,  5.1829166,  5.4691033,  5.768957 ,  8.103607 ,\n",
              "         9.160825 ,  7.5887485,  6.1287684,  2.747159 ,  2.1779337,\n",
              "         1.6707517,  2.4708593,  4.4085526,  6.143024 ,  8.813469 ,\n",
              "        11.228038 , 11.842142 , 10.674608 , 10.933442 ,  3.1688697,\n",
              "         1.575212 ,  2.6584408,  2.889617 ,  3.975464 ,  4.754323 ,\n",
              "         1.1516714,  3.2360513,  4.8047433,  6.361736 ,  4.871298 ,\n",
              "         7.5252824,  9.485145 ,  9.40431  ,  9.007179 ,  2.1870127,\n",
              "         2.4816751,  4.934147 ,  3.3978071,  5.5164156,  7.355483 ,\n",
              "         7.229773 ,  5.2266884,  6.111434 ,  9.005035 , 11.100366 ,\n",
              "         9.6711645,  6.5546923,  4.5280185,  3.9515991,  3.7824643,\n",
              "         4.0959535,  5.1823974,  5.664019 ,  5.056128 ,  4.1553116,\n",
              "         6.7859063, 10.110189 ,  8.897616 ,  7.6875277,  1.5523319,\n",
              "         1.6416556,  1.9790215,  2.4675763,  2.2850032,  3.038901 ,\n",
              "         2.9459069,  2.1140647,  3.6267407,  5.5712333,  9.911197 ,\n",
              "        14.353339 , 14.259049 , 15.418193 , 15.865909 , 16.89091  ,\n",
              "        10.198652 ,  3.7350404,  3.224938 ,  2.912885 ,  4.0997686,\n",
              "         7.1861467,  8.517043 , 11.514056 , 12.680907 , 12.047691 ,\n",
              "         7.8028917,  9.374547 , 10.171945 , 12.334714 , 10.434643 ,\n",
              "        12.082071 , 14.811477 , 11.297521 , 11.093987 , 14.475812 ,\n",
              "         9.214531 ,  8.113952 ,  7.959861 , 10.408695 , 13.461949 ,\n",
              "        10.702574 ,  1.9955775,  4.8850603,  4.1553016,  7.981622 ,\n",
              "         6.601756 ,  7.2856836,  9.434998 ,  9.839426 , 10.346491 ,\n",
              "         8.224397 ,  5.6648254,  3.728207 ,  5.5257473,  6.006831 ,\n",
              "         6.81746  ,  9.591133 , 14.956175 , 11.966026 ,  6.323866 ,\n",
              "         7.521604 , 11.033944 , 14.039095 , 14.023245 , 12.433035 ,\n",
              "        14.628194 , 16.660408 , 14.43803  , 18.17855  ,  7.7294273,\n",
              "         2.7266922,  4.90878  ,  2.9834816,  4.0532074,  5.890298 ,\n",
              "         6.3747826,  8.049566 ,  7.974819 ,  5.618654 ,  7.3569407,\n",
              "        12.113421 , 13.62213  , 20.166685 , 16.49727  ,  5.737977 ,\n",
              "         4.5034575,  2.3218508,  6.1142583,  6.7325535, 11.196677 ,\n",
              "         6.4476027,  8.662248 ,  5.075681 , 10.297716 , 10.396512 ,\n",
              "        13.784615 , 13.007721 , 12.622976 ,  9.599276 ,  5.5610504,\n",
              "         4.5048823,  4.243854 ,  2.5384967,  2.6479166,  2.1272454,\n",
              "         3.1503239,  5.7206125,  6.9781103,  7.4497156,  6.873315 ,\n",
              "         5.2797136,  3.6143627,  3.2014675,  7.844174 , 10.362131 ,\n",
              "         9.020829 ,  5.0892344,  7.6144466,  4.96701  ,  3.231606 ,\n",
              "         2.4889634,  1.6899583,  1.2813414,  3.0852032,  3.205626 ,\n",
              "         2.3184934,  4.092738 ,  8.171158 ,  8.214149 ,  8.714545 ,\n",
              "         6.548337 ,  4.685053 ,  4.8714733,  6.1573157,  8.45382  ,\n",
              "        10.64296  , 11.021465 , 10.76725  ,  7.2150693,  5.9693027,\n",
              "         5.9842563,  4.0979123,  5.1994333,  7.6579213, 10.06818  ,\n",
              "        14.872591 ,  9.032197 ,  4.5202417,  4.8201165,  7.121574 ,\n",
              "         3.1833012,  3.0139015,  3.6161125,  3.412119 ,  8.521156 ,\n",
              "         4.534402 ,  5.1798677,  6.2774673,  9.367928 , 13.131897 ,\n",
              "        14.043927 ], dtype=float32),\n",
              " 'mase': 2.4287803}"
            ]
          },
          "metadata": {},
          "execution_count": 54
        }
      ]
    },
    {
      "cell_type": "markdown",
      "source": [
        "### Make our evaluation function work for larger horizons\n",
        "We need to update `evaluate_preds` function to work with multiple shapes of data"
      ],
      "metadata": {
        "id": "Lt4EaGEMGUFZ"
      }
    },
    {
      "cell_type": "code",
      "source": [
        "def evaluate_preds(y_true,y_pred):\n",
        "  \"\"\"\n",
        "   Ensure float32 for metric calculation\n",
        "  \"\"\"\n",
        "  y_true= tf.cast(y_true,dtype=tf.float32)\n",
        "  y_pred= tf.cast(y_pred,dtype=tf.float32)\n",
        "\n",
        "  # Calculate the various metrics\n",
        "  mae= tf.keras.metrics.mean_absolute_error(y_true,y_pred)\n",
        "  mape= tf.keras.metrics.mean_absolute_percentage_error(y_true,y_pred)\n",
        "  mse= tf.keras.metrics.mean_squared_error(y_true,y_pred)\n",
        "  rmse= tf.sqrt(mse)\n",
        "  mase= mean_absolute_scaled_error(y_true,y_pred)\n",
        "\n",
        "  ## Account for different size of matrices (for longer horizons reduce to single number)\n",
        "  if mae.ndim > 0:\n",
        "    mae= tf.reduce_mean(mae)\n",
        "    mape= tf.reduce_mean(mape)\n",
        "    rmse= tf.reduce_mean(rmse)\n",
        "    mase= tf.reduce_mean(mase)\n",
        "    mse= tf.reduce_mean(mse)\n",
        "\n",
        "  return {\n",
        "       \"mse\":mse.numpy()\n",
        "      ,\"rmse\":rmse.numpy()\n",
        "      ,\"mase\":mase.numpy()\n",
        "      ,\"mape\":mape.numpy()\n",
        "      ,\"mae\":mae.numpy()\n",
        "  }"
      ],
      "metadata": {
        "id": "ZwMzT3Mr3s8J"
      },
      "execution_count": 64,
      "outputs": []
    },
    {
      "cell_type": "code",
      "source": [
        "model_3_results = evaluate_preds(y_true=tf.squeeze(test_label),\n",
        "                                 y_pred=model_3_preds)\n",
        "model_3_results"
      ],
      "metadata": {
        "colab": {
          "base_uri": "https://localhost:8080/"
        },
        "id": "pYx27qnELUsa",
        "outputId": "4cecf6ac-3972-4b6d-8ed5-8b0aa2c86d79"
      },
      "execution_count": 65,
      "outputs": [
        {
          "output_type": "execute_result",
          "data": {
            "text/plain": [
              "{'mse': 5798801.5,\n",
              " 'rmse': 1536.4823,\n",
              " 'mase': 2.4287803,\n",
              " 'mape': 6.122626,\n",
              " 'mae': 1364.9097}"
            ]
          },
          "metadata": {},
          "execution_count": 65
        }
      ]
    },
    {
      "cell_type": "code",
      "source": [
        "## Visualize the predictions\n",
        "offset= 300\n",
        "plt.figure(figsize=(10,7))\n",
        "plot_time_series(timesteps= X_test[-len(test_window):]\n",
        "                 ,values= test_label[:,0]\n",
        "                 ,start= offset\n",
        "                 ,label= \"Test data\")\n",
        "plot_time_series(timesteps= X_test[-len(test_window):]\n",
        "                 ,values= model_3_preds\n",
        "                 ,start= offset\n",
        "                 ,label= \"model_3_preds\"\n",
        "                 ,format= \"-\")"
      ],
      "metadata": {
        "colab": {
          "base_uri": "https://localhost:8080/",
          "height": 619
        },
        "id": "qQSGg4SOLse0",
        "outputId": "24d6c5dd-9b33-4a2e-a1d1-e0d4ac201c69"
      },
      "execution_count": 72,
      "outputs": [
        {
          "output_type": "display_data",
          "data": {
            "text/plain": [
              "<Figure size 1000x700 with 1 Axes>"
            ],
            "image/png": "[encoded data removed]"
          },
          "metadata": {}
        }
      ]
    },
    {
      "cell_type": "markdown",
      "source": [
        "We can aggregate the model prediction"
      ],
      "metadata": {
        "id": "IMz2ZynuNSNF"
      }
    },
    {
      "cell_type": "code",
      "source": [
        "offset= 300\n",
        "plt.figure(figsize=(10,7))\n",
        "plot_time_series(timesteps=X_test[-len(test_window):]\n",
        "                 ,values=test_label[:,0]\n",
        "                 ,start= offset\n",
        "                 ,label= \"Test data\")\n",
        "plot_time_series(timesteps=X_test[-len(test_window):]\n",
        "                 ,values=tf.reduce_mean(model_3_preds,axis=1)\n",
        "                 ,start= offset\n",
        "                 ,label=\"model_3_pred\"\n",
        "                 ,format=\"-\")"
      ],
      "metadata": {
        "colab": {
          "base_uri": "https://localhost:8080/",
          "height": 619
        },
        "id": "AF4JANxcPJPR",
        "outputId": "036d62d4-45af-40be-d63a-a23c74be6dbe"
      },
      "execution_count": 73,
      "outputs": [
        {
          "output_type": "display_data",
          "data": {
            "text/plain": [
              "<Figure size 1000x700 with 1 Axes>"
            ],
            "image/png": "[encoded data removed]"
          },
          "metadata": {}
        }
      ]
    },
    {
      "cell_type": "markdown",
      "source": [
        "## Model 4: Conv1D\n",
        "Our next modelling experiment.\n",
        "This time we will use a Conv1D model. Conv1D can be used for a seq2seq (sequence to sequence) problems.\n",
        "\n",
        "In our case, the input is the sequence of previous 7 days input and the output is price of bitcoin the following day. Since there are more than 1 input these kind of seq2seq problems are termed as many-to-one problem"
      ],
      "metadata": {
        "id": "J_vwA1t8QExU"
      }
    },
    {
      "cell_type": "code",
      "source": [
        "HORIZON= 1\n",
        "WINDOW_SIZE= 7\n"
      ],
      "metadata": {
        "id": "OL11GwP-S6Xq"
      },
      "execution_count": 74,
      "outputs": []
    },
    {
      "cell_type": "code",
      "source": [
        "## Create windowed dataset\n",
        "full_window,full_label= make_windows(prices,window_size=WINDOW_SIZE,horizon=HORIZON)\n",
        "len(full_window), len(full_label)"
      ],
      "metadata": {
        "colab": {
          "base_uri": "https://localhost:8080/"
        },
        "id": "3f8Ys0LeTBCT",
        "outputId": "58c9a4cb-c590-494f-b8d6-1194fd748724"
      },
      "execution_count": 75,
      "outputs": [
        {
          "output_type": "execute_result",
          "data": {
            "text/plain": [
              "(2780, 2780)"
            ]
          },
          "metadata": {},
          "execution_count": 75
        }
      ]
    },
    {
      "cell_type": "code",
      "source": [
        "## create train test split\n",
        "train_window, train_label, test_window, test_label = make_train_test_split(windows=full_window\n",
        "                                                                           ,labels=full_label\n",
        "                                                                           ,test_split=0.2)\n",
        "len(train_window), len(train_label), len(test_window), len(test_label)"
      ],
      "metadata": {
        "colab": {
          "base_uri": "https://localhost:8080/"
        },
        "id": "FjNeQJzXTTe5",
        "outputId": "0df1e9f3-0952-4d69-e565-5ff46bb616da"
      },
      "execution_count": 78,
      "outputs": [
        {
          "output_type": "execute_result",
          "data": {
            "text/plain": [
              "(2224, 2224, 556, 556)"
            ]
          },
          "metadata": {},
          "execution_count": 78
        }
      ]
    },
    {
      "cell_type": "markdown",
      "source": [
        "The Conv1D in Tensorflow takes an input of :(`batch_size, timesteps,input_dim`)\n",
        "In our case, the `batch_size` (defaults = 32) is handled for us but we need to prepare other inputs.\n",
        "* `timesteps= WINDOW_SIZE` - the timeestep is also\n",
        "referred to as `features`. Our `features` are the previous `WINDOW_SIZE` of bitcoin prices.\n",
        "* `input_dim=HORIZON` our model views `WINDOW_SIZE` worth of data to predict `HORIZON`"
      ],
      "metadata": {
        "id": "DxqaU1HnY1z_"
      }
    },
    {
      "cell_type": "code",
      "source": [],
      "metadata": {
        "id": "vSjvFkFWTn6P"
      },
      "execution_count": null,
      "outputs": []
    }
  ]
}