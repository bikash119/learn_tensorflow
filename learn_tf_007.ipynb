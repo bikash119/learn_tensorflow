{
  "nbformat": 4,
  "nbformat_minor": 0,
  "metadata": {
    "colab": {
      "provenance": [],
      "gpuType": "T4",
      "authorship_tag": "ABX9TyNrzN0prnFcn+H8C+BUfUYc",
      "include_colab_link": true
    },
    "kernelspec": {
      "name": "python3",
      "display_name": "Python 3"
    },
    "language_info": {
      "name": "python"
    },
    "accelerator": "GPU"
  },
  "cells": [
    {
      "cell_type": "markdown",
      "metadata": {
        "id": "view-in-github",
        "colab_type": "text"
      },
      "source": [
        "<a href=\"https://colab.research.google.com/github/bikash119/learn_tensorflow/blob/main/learn_tf_007.ipynb\" target=\"_parent\"><img src=\"https://colab.research.google.com/assets/colab-badge.svg\" alt=\"Open In Colab\"/></a>"
      ]
    },
    {
      "cell_type": "markdown",
      "source": [
        "## Time-series forecasting with TensorFlow\n",
        "\n",
        "What are we going to cover?\n",
        "1. Get a time series data (the historical price of Bitcoin)\n",
        "  * Load time series data using Pandas/Python CSV\n",
        "2. Format data for a time series problem\n",
        "  * Creating a training and test set wrong way\n",
        "  * Creating a training and test set right way\n",
        "  * Visualizing time series data\n",
        "  * Turning time series model into supervised learning problem ( Windowing )\n",
        "  * Preparing Univariate and Multivariable ( more than one variable ) data\n",
        "\n",
        "3. Evaluating a time series model\n",
        "4. Setting up a series for deep leaning modelling experiments\n",
        "  * Dense fully connected\n",
        "  * Sequence model ( LSTM and 1D CNN )\n",
        "  * Ensembling ( combining multiple models together )\n",
        "  * Multivariate models\n",
        "  * Replicating the N-Beats algorithm using Tensorflow Layer subclassing\n",
        "5. Creating a modelling checkpoint to save best performing model\n",
        "6. Making predictions (forecast) with time series model.\n",
        "7. Creating prediction intervals for time series forecasts.\n"
      ],
      "metadata": {
        "id": "j_40Hk26PoJ_"
      }
    },
    {
      "cell_type": "markdown",
      "source": [
        "## 1. Get the data"
      ],
      "metadata": {
        "id": "4iv5WIQbVTE6"
      }
    },
    {
      "cell_type": "code",
      "execution_count": null,
      "metadata": {
        "colab": {
          "base_uri": "https://localhost:8080/"
        },
        "id": "lAw6D6NNPiZW",
        "outputId": "8e42dda2-dc5f-4141-c711-d32d5af631e8"
      },
      "outputs": [
        {
          "output_type": "stream",
          "name": "stdout",
          "text": [
            "--2023-07-27 23:24:13--  https://raw.githubusercontent.com/mrdbourke/tensorflow-deep-learning/main/extras/BTC_USD_2013-10-01_2021-05-18-CoinDesk.csv\n",
            "Resolving raw.githubusercontent.com (raw.githubusercontent.com)... 185.199.108.133, 185.199.109.133, 185.199.110.133, ...\n",
            "Connecting to raw.githubusercontent.com (raw.githubusercontent.com)|185.199.108.133|:443... connected.\n",
            "HTTP request sent, awaiting response... 200 OK\n",
            "Length: 178509 (174K) [text/plain]\n",
            "Saving to: ‘BTC_USD_2013-10-01_2021-05-18-CoinDesk.csv’\n",
            "\n",
            "\r          BTC_USD_2   0%[                    ]       0  --.-KB/s               \rBTC_USD_2013-10-01_ 100%[===================>] 174.33K  --.-KB/s    in 0.02s   \n",
            "\n",
            "2023-07-27 23:24:14 (7.30 MB/s) - ‘BTC_USD_2013-10-01_2021-05-18-CoinDesk.csv’ saved [178509/178509]\n",
            "\n"
          ]
        }
      ],
      "source": [
        "!wget https://raw.githubusercontent.com/mrdbourke/tensorflow-deep-learning/main/extras/BTC_USD_2013-10-01_2021-05-18-CoinDesk.csv"
      ]
    },
    {
      "cell_type": "markdown",
      "source": [
        "### 1.1 Import time series data with Pandas"
      ],
      "metadata": {
        "id": "w8vBsIc4Vd0o"
      }
    },
    {
      "cell_type": "code",
      "source": [
        "import pandas as pd\n",
        "price_df = pd.read_csv(\"/content/BTC_USD_2013-10-01_2021-05-18-CoinDesk.csv\"\n",
        "                 ,parse_dates=[\"Date\"]\n",
        "                 ,index_col=[\"Date\"]\n",
        "                 )\n",
        "\n",
        "price_df.head()"
      ],
      "metadata": {
        "colab": {
          "base_uri": "https://localhost:8080/",
          "height": 281
        },
        "id": "SVtR0PcuVY6F",
        "outputId": "19d7a2eb-fe2c-425f-d123-7de96016d692"
      },
      "execution_count": null,
      "outputs": [
        {
          "output_type": "execute_result",
          "data": {
            "text/plain": [
              "           Currency  Closing Price (USD)  24h Open (USD)  24h High (USD)  \\\n",
              "Date                                                                       \n",
              "2013-10-01      BTC            123.65499       124.30466       124.75166   \n",
              "2013-10-02      BTC            125.45500       123.65499       125.75850   \n",
              "2013-10-03      BTC            108.58483       125.45500       125.66566   \n",
              "2013-10-04      BTC            118.67466       108.58483       118.67500   \n",
              "2013-10-05      BTC            121.33866       118.67466       121.93633   \n",
              "\n",
              "            24h Low (USD)  \n",
              "Date                       \n",
              "2013-10-01      122.56349  \n",
              "2013-10-02      123.63383  \n",
              "2013-10-03       83.32833  \n",
              "2013-10-04      107.05816  \n",
              "2013-10-05      118.00566  "
            ],
            "text/html": [
              "\n",
              "\n",
              "  <div id=\"df-6114dec4-de35-469c-b4d8-a080ac00cfd0\">\n",
              "    <div class=\"colab-df-container\">\n",
              "      <div>\n",
              "<style scoped>\n",
              "    .dataframe tbody tr th:only-of-type {\n",
              "        vertical-align: middle;\n",
              "    }\n",
              "\n",
              "    .dataframe tbody tr th {\n",
              "        vertical-align: top;\n",
              "    }\n",
              "\n",
              "    .dataframe thead th {\n",
              "        text-align: right;\n",
              "    }\n",
              "</style>\n",
              "<table border=\"1\" class=\"dataframe\">\n",
              "  <thead>\n",
              "    <tr style=\"text-align: right;\">\n",
              "      <th></th>\n",
              "      <th>Currency</th>\n",
              "      <th>Closing Price (USD)</th>\n",
              "      <th>24h Open (USD)</th>\n",
              "      <th>24h High (USD)</th>\n",
              "      <th>24h Low (USD)</th>\n",
              "    </tr>\n",
              "    <tr>\n",
              "      <th>Date</th>\n",
              "      <th></th>\n",
              "      <th></th>\n",
              "      <th></th>\n",
              "      <th></th>\n",
              "      <th></th>\n",
              "    </tr>\n",
              "  </thead>\n",
              "  <tbody>\n",
              "    <tr>\n",
              "      <th>2013-10-01</th>\n",
              "      <td>BTC</td>\n",
              "      <td>123.65499</td>\n",
              "      <td>124.30466</td>\n",
              "      <td>124.75166</td>\n",
              "      <td>122.56349</td>\n",
              "    </tr>\n",
              "    <tr>\n",
              "      <th>2013-10-02</th>\n",
              "      <td>BTC</td>\n",
              "      <td>125.45500</td>\n",
              "      <td>123.65499</td>\n",
              "      <td>125.75850</td>\n",
              "      <td>123.63383</td>\n",
              "    </tr>\n",
              "    <tr>\n",
              "      <th>2013-10-03</th>\n",
              "      <td>BTC</td>\n",
              "      <td>108.58483</td>\n",
              "      <td>125.45500</td>\n",
              "      <td>125.66566</td>\n",
              "      <td>83.32833</td>\n",
              "    </tr>\n",
              "    <tr>\n",
              "      <th>2013-10-04</th>\n",
              "      <td>BTC</td>\n",
              "      <td>118.67466</td>\n",
              "      <td>108.58483</td>\n",
              "      <td>118.67500</td>\n",
              "      <td>107.05816</td>\n",
              "    </tr>\n",
              "    <tr>\n",
              "      <th>2013-10-05</th>\n",
              "      <td>BTC</td>\n",
              "      <td>121.33866</td>\n",
              "      <td>118.67466</td>\n",
              "      <td>121.93633</td>\n",
              "      <td>118.00566</td>\n",
              "    </tr>\n",
              "  </tbody>\n",
              "</table>\n",
              "</div>\n",
              "      <button class=\"colab-df-convert\" onclick=\"convertToInteractive('df-6114dec4-de35-469c-b4d8-a080ac00cfd0')\"\n",
              "              title=\"Convert this dataframe to an interactive table.\"\n",
              "              style=\"display:none;\">\n",
              "\n",
              "  <svg xmlns=\"http://www.w3.org/2000/svg\" height=\"24px\"viewBox=\"0 0 24 24\"\n",
              "       width=\"24px\">\n",
              "    <path d=\"M0 0h24v24H0V0z\" fill=\"none\"/>\n",
              "    <path d=\"M18.56 5.44l.94 2.06.94-2.06 2.06-.94-2.06-.94-.94-2.06-.94 2.06-2.06.94zm-11 1L8.5 8.5l.94-2.06 2.06-.94-2.06-.94L8.5 2.5l-.94 2.06-2.06.94zm10 10l.94 2.06.94-2.06 2.06-.94-2.06-.94-.94-2.06-.94 2.06-2.06.94z\"/><path d=\"M17.41 7.96l-1.37-1.37c-.4-.4-.92-.59-1.43-.59-.52 0-1.04.2-1.43.59L10.3 9.45l-7.72 7.72c-.78.78-.78 2.05 0 2.83L4 21.41c.39.39.9.59 1.41.59.51 0 1.02-.2 1.41-.59l7.78-7.78 2.81-2.81c.8-.78.8-2.07 0-2.86zM5.41 20L4 18.59l7.72-7.72 1.47 1.35L5.41 20z\"/>\n",
              "  </svg>\n",
              "      </button>\n",
              "\n",
              "\n",
              "\n",
              "    <div id=\"df-7004d434-5eb3-44e6-a501-e9331b040aca\">\n",
              "      <button class=\"colab-df-quickchart\" onclick=\"quickchart('df-7004d434-5eb3-44e6-a501-e9331b040aca')\"\n",
              "              title=\"Suggest charts.\"\n",
              "              style=\"display:none;\">\n",
              "\n",
              "<svg xmlns=\"http://www.w3.org/2000/svg\" height=\"24px\"viewBox=\"0 0 24 24\"\n",
              "     width=\"24px\">\n",
              "    <g>\n",
              "        <path d=\"M19 3H5c-1.1 0-2 .9-2 2v14c0 1.1.9 2 2 2h14c1.1 0 2-.9 2-2V5c0-1.1-.9-2-2-2zM9 17H7v-7h2v7zm4 0h-2V7h2v10zm4 0h-2v-4h2v4z\"/>\n",
              "    </g>\n",
              "</svg>\n",
              "      </button>\n",
              "    </div>\n",
              "\n",
              "<style>\n",
              "  .colab-df-quickchart {\n",
              "    background-color: #E8F0FE;\n",
              "    border: none;\n",
              "    border-radius: 50%;\n",
              "    cursor: pointer;\n",
              "    display: none;\n",
              "    fill: #1967D2;\n",
              "    height: 32px;\n",
              "    padding: 0 0 0 0;\n",
              "    width: 32px;\n",
              "  }\n",
              "\n",
              "  .colab-df-quickchart:hover {\n",
              "    background-color: #E2EBFA;\n",
              "    box-shadow: 0px 1px 2px rgba(60, 64, 67, 0.3), 0px 1px 3px 1px rgba(60, 64, 67, 0.15);\n",
              "    fill: #174EA6;\n",
              "  }\n",
              "\n",
              "  [theme=dark] .colab-df-quickchart {\n",
              "    background-color: #3B4455;\n",
              "    fill: #D2E3FC;\n",
              "  }\n",
              "\n",
              "  [theme=dark] .colab-df-quickchart:hover {\n",
              "    background-color: #434B5C;\n",
              "    box-shadow: 0px 1px 3px 1px rgba(0, 0, 0, 0.15);\n",
              "    filter: drop-shadow(0px 1px 2px rgba(0, 0, 0, 0.3));\n",
              "    fill: #FFFFFF;\n",
              "  }\n",
              "</style>\n",
              "\n",
              "    <script>\n",
              "      async function quickchart(key) {\n",
              "        const containerElement = document.querySelector('#' + key);\n",
              "        const charts = await google.colab.kernel.invokeFunction(\n",
              "            'suggestCharts', [key], {});\n",
              "      }\n",
              "    </script>\n",
              "\n",
              "      <script>\n",
              "\n",
              "function displayQuickchartButton(domScope) {\n",
              "  let quickchartButtonEl =\n",
              "    domScope.querySelector('#df-7004d434-5eb3-44e6-a501-e9331b040aca button.colab-df-quickchart');\n",
              "  quickchartButtonEl.style.display =\n",
              "    google.colab.kernel.accessAllowed ? 'block' : 'none';\n",
              "}\n",
              "\n",
              "        displayQuickchartButton(document);\n",
              "      </script>\n",
              "      <style>\n",
              "    .colab-df-container {\n",
              "      display:flex;\n",
              "      flex-wrap:wrap;\n",
              "      gap: 12px;\n",
              "    }\n",
              "\n",
              "    .colab-df-convert {\n",
              "      background-color: #E8F0FE;\n",
              "      border: none;\n",
              "      border-radius: 50%;\n",
              "      cursor: pointer;\n",
              "      display: none;\n",
              "      fill: #1967D2;\n",
              "      height: 32px;\n",
              "      padding: 0 0 0 0;\n",
              "      width: 32px;\n",
              "    }\n",
              "\n",
              "    .colab-df-convert:hover {\n",
              "      background-color: #E2EBFA;\n",
              "      box-shadow: 0px 1px 2px rgba(60, 64, 67, 0.3), 0px 1px 3px 1px rgba(60, 64, 67, 0.15);\n",
              "      fill: #174EA6;\n",
              "    }\n",
              "\n",
              "    [theme=dark] .colab-df-convert {\n",
              "      background-color: #3B4455;\n",
              "      fill: #D2E3FC;\n",
              "    }\n",
              "\n",
              "    [theme=dark] .colab-df-convert:hover {\n",
              "      background-color: #434B5C;\n",
              "      box-shadow: 0px 1px 3px 1px rgba(0, 0, 0, 0.15);\n",
              "      filter: drop-shadow(0px 1px 2px rgba(0, 0, 0, 0.3));\n",
              "      fill: #FFFFFF;\n",
              "    }\n",
              "  </style>\n",
              "\n",
              "      <script>\n",
              "        const buttonEl =\n",
              "          document.querySelector('#df-6114dec4-de35-469c-b4d8-a080ac00cfd0 button.colab-df-convert');\n",
              "        buttonEl.style.display =\n",
              "          google.colab.kernel.accessAllowed ? 'block' : 'none';\n",
              "\n",
              "        async function convertToInteractive(key) {\n",
              "          const element = document.querySelector('#df-6114dec4-de35-469c-b4d8-a080ac00cfd0');\n",
              "          const dataTable =\n",
              "            await google.colab.kernel.invokeFunction('convertToInteractive',\n",
              "                                                     [key], {});\n",
              "          if (!dataTable) return;\n",
              "\n",
              "          const docLinkHtml = 'Like what you see? Visit the ' +\n",
              "            '<a target=\"_blank\" href=https://colab.research.google.com/notebooks/data_table.ipynb>data table notebook</a>'\n",
              "            + ' to learn more about interactive tables.';\n",
              "          element.innerHTML = '';\n",
              "          dataTable['output_type'] = 'display_data';\n",
              "          await google.colab.output.renderOutput(dataTable, element);\n",
              "          const docLink = document.createElement('div');\n",
              "          docLink.innerHTML = docLinkHtml;\n",
              "          element.appendChild(docLink);\n",
              "        }\n",
              "      </script>\n",
              "    </div>\n",
              "  </div>\n"
            ]
          },
          "metadata": {},
          "execution_count": 2
        }
      ]
    },
    {
      "cell_type": "code",
      "source": [
        "price_df.info()"
      ],
      "metadata": {
        "colab": {
          "base_uri": "https://localhost:8080/"
        },
        "id": "gL0C9cMfV9mA",
        "outputId": "85602ab0-d1b7-4383-d393-0b1e3438c401"
      },
      "execution_count": null,
      "outputs": [
        {
          "output_type": "stream",
          "name": "stdout",
          "text": [
            "<class 'pandas.core.frame.DataFrame'>\n",
            "DatetimeIndex: 2787 entries, 2013-10-01 to 2021-05-18\n",
            "Data columns (total 5 columns):\n",
            " #   Column               Non-Null Count  Dtype  \n",
            "---  ------               --------------  -----  \n",
            " 0   Currency             2787 non-null   object \n",
            " 1   Closing Price (USD)  2787 non-null   float64\n",
            " 2   24h Open (USD)       2787 non-null   float64\n",
            " 3   24h High (USD)       2787 non-null   float64\n",
            " 4   24h Low (USD)        2787 non-null   float64\n",
            "dtypes: float64(4), object(1)\n",
            "memory usage: 130.6+ KB\n"
          ]
        }
      ]
    },
    {
      "cell_type": "code",
      "source": [
        "len(price_df)"
      ],
      "metadata": {
        "colab": {
          "base_uri": "https://localhost:8080/"
        },
        "id": "cq1uWX30WC9v",
        "outputId": "d75f121b-d04d-4e6c-964e-2f51e145123c"
      },
      "execution_count": null,
      "outputs": [
        {
          "output_type": "execute_result",
          "data": {
            "text/plain": [
              "2787"
            ]
          },
          "metadata": {},
          "execution_count": 4
        }
      ]
    },
    {
      "cell_type": "markdown",
      "source": [
        "🔑note: The frequency at which time series data is collected is often referred to as **seasonality**. Seasonality is often measured as number of samples / year."
      ],
      "metadata": {
        "id": "91eEOllLWLpt"
      }
    },
    {
      "cell_type": "code",
      "source": [
        "# We only want the closing price\n",
        "daily_price_df = pd.DataFrame(price_df[\"Closing Price (USD)\"]).rename(columns={\"Closing Price (USD)\": \"Price\"})\n",
        "daily_price_df.head()"
      ],
      "metadata": {
        "colab": {
          "base_uri": "https://localhost:8080/",
          "height": 237
        },
        "id": "R2aLSQDuWE3X",
        "outputId": "f7362447-03ea-4e48-f847-c161165fd750"
      },
      "execution_count": null,
      "outputs": [
        {
          "output_type": "execute_result",
          "data": {
            "text/plain": [
              "                Price\n",
              "Date                 \n",
              "2013-10-01  123.65499\n",
              "2013-10-02  125.45500\n",
              "2013-10-03  108.58483\n",
              "2013-10-04  118.67466\n",
              "2013-10-05  121.33866"
            ],
            "text/html": [
              "\n",
              "\n",
              "  <div id=\"df-5c8f34f2-d27e-4876-96c8-0e606388888c\">\n",
              "    <div class=\"colab-df-container\">\n",
              "      <div>\n",
              "<style scoped>\n",
              "    .dataframe tbody tr th:only-of-type {\n",
              "        vertical-align: middle;\n",
              "    }\n",
              "\n",
              "    .dataframe tbody tr th {\n",
              "        vertical-align: top;\n",
              "    }\n",
              "\n",
              "    .dataframe thead th {\n",
              "        text-align: right;\n",
              "    }\n",
              "</style>\n",
              "<table border=\"1\" class=\"dataframe\">\n",
              "  <thead>\n",
              "    <tr style=\"text-align: right;\">\n",
              "      <th></th>\n",
              "      <th>Price</th>\n",
              "    </tr>\n",
              "    <tr>\n",
              "      <th>Date</th>\n",
              "      <th></th>\n",
              "    </tr>\n",
              "  </thead>\n",
              "  <tbody>\n",
              "    <tr>\n",
              "      <th>2013-10-01</th>\n",
              "      <td>123.65499</td>\n",
              "    </tr>\n",
              "    <tr>\n",
              "      <th>2013-10-02</th>\n",
              "      <td>125.45500</td>\n",
              "    </tr>\n",
              "    <tr>\n",
              "      <th>2013-10-03</th>\n",
              "      <td>108.58483</td>\n",
              "    </tr>\n",
              "    <tr>\n",
              "      <th>2013-10-04</th>\n",
              "      <td>118.67466</td>\n",
              "    </tr>\n",
              "    <tr>\n",
              "      <th>2013-10-05</th>\n",
              "      <td>121.33866</td>\n",
              "    </tr>\n",
              "  </tbody>\n",
              "</table>\n",
              "</div>\n",
              "      <button class=\"colab-df-convert\" onclick=\"convertToInteractive('df-5c8f34f2-d27e-4876-96c8-0e606388888c')\"\n",
              "              title=\"Convert this dataframe to an interactive table.\"\n",
              "              style=\"display:none;\">\n",
              "\n",
              "  <svg xmlns=\"http://www.w3.org/2000/svg\" height=\"24px\"viewBox=\"0 0 24 24\"\n",
              "       width=\"24px\">\n",
              "    <path d=\"M0 0h24v24H0V0z\" fill=\"none\"/>\n",
              "    <path d=\"M18.56 5.44l.94 2.06.94-2.06 2.06-.94-2.06-.94-.94-2.06-.94 2.06-2.06.94zm-11 1L8.5 8.5l.94-2.06 2.06-.94-2.06-.94L8.5 2.5l-.94 2.06-2.06.94zm10 10l.94 2.06.94-2.06 2.06-.94-2.06-.94-.94-2.06-.94 2.06-2.06.94z\"/><path d=\"M17.41 7.96l-1.37-1.37c-.4-.4-.92-.59-1.43-.59-.52 0-1.04.2-1.43.59L10.3 9.45l-7.72 7.72c-.78.78-.78 2.05 0 2.83L4 21.41c.39.39.9.59 1.41.59.51 0 1.02-.2 1.41-.59l7.78-7.78 2.81-2.81c.8-.78.8-2.07 0-2.86zM5.41 20L4 18.59l7.72-7.72 1.47 1.35L5.41 20z\"/>\n",
              "  </svg>\n",
              "      </button>\n",
              "\n",
              "\n",
              "\n",
              "    <div id=\"df-93a5e8a9-2c8f-44d2-975e-f6b9fae5a699\">\n",
              "      <button class=\"colab-df-quickchart\" onclick=\"quickchart('df-93a5e8a9-2c8f-44d2-975e-f6b9fae5a699')\"\n",
              "              title=\"Suggest charts.\"\n",
              "              style=\"display:none;\">\n",
              "\n",
              "<svg xmlns=\"http://www.w3.org/2000/svg\" height=\"24px\"viewBox=\"0 0 24 24\"\n",
              "     width=\"24px\">\n",
              "    <g>\n",
              "        <path d=\"M19 3H5c-1.1 0-2 .9-2 2v14c0 1.1.9 2 2 2h14c1.1 0 2-.9 2-2V5c0-1.1-.9-2-2-2zM9 17H7v-7h2v7zm4 0h-2V7h2v10zm4 0h-2v-4h2v4z\"/>\n",
              "    </g>\n",
              "</svg>\n",
              "      </button>\n",
              "    </div>\n",
              "\n",
              "<style>\n",
              "  .colab-df-quickchart {\n",
              "    background-color: #E8F0FE;\n",
              "    border: none;\n",
              "    border-radius: 50%;\n",
              "    cursor: pointer;\n",
              "    display: none;\n",
              "    fill: #1967D2;\n",
              "    height: 32px;\n",
              "    padding: 0 0 0 0;\n",
              "    width: 32px;\n",
              "  }\n",
              "\n",
              "  .colab-df-quickchart:hover {\n",
              "    background-color: #E2EBFA;\n",
              "    box-shadow: 0px 1px 2px rgba(60, 64, 67, 0.3), 0px 1px 3px 1px rgba(60, 64, 67, 0.15);\n",
              "    fill: #174EA6;\n",
              "  }\n",
              "\n",
              "  [theme=dark] .colab-df-quickchart {\n",
              "    background-color: #3B4455;\n",
              "    fill: #D2E3FC;\n",
              "  }\n",
              "\n",
              "  [theme=dark] .colab-df-quickchart:hover {\n",
              "    background-color: #434B5C;\n",
              "    box-shadow: 0px 1px 3px 1px rgba(0, 0, 0, 0.15);\n",
              "    filter: drop-shadow(0px 1px 2px rgba(0, 0, 0, 0.3));\n",
              "    fill: #FFFFFF;\n",
              "  }\n",
              "</style>\n",
              "\n",
              "    <script>\n",
              "      async function quickchart(key) {\n",
              "        const containerElement = document.querySelector('#' + key);\n",
              "        const charts = await google.colab.kernel.invokeFunction(\n",
              "            'suggestCharts', [key], {});\n",
              "      }\n",
              "    </script>\n",
              "\n",
              "      <script>\n",
              "\n",
              "function displayQuickchartButton(domScope) {\n",
              "  let quickchartButtonEl =\n",
              "    domScope.querySelector('#df-93a5e8a9-2c8f-44d2-975e-f6b9fae5a699 button.colab-df-quickchart');\n",
              "  quickchartButtonEl.style.display =\n",
              "    google.colab.kernel.accessAllowed ? 'block' : 'none';\n",
              "}\n",
              "\n",
              "        displayQuickchartButton(document);\n",
              "      </script>\n",
              "      <style>\n",
              "    .colab-df-container {\n",
              "      display:flex;\n",
              "      flex-wrap:wrap;\n",
              "      gap: 12px;\n",
              "    }\n",
              "\n",
              "    .colab-df-convert {\n",
              "      background-color: #E8F0FE;\n",
              "      border: none;\n",
              "      border-radius: 50%;\n",
              "      cursor: pointer;\n",
              "      display: none;\n",
              "      fill: #1967D2;\n",
              "      height: 32px;\n",
              "      padding: 0 0 0 0;\n",
              "      width: 32px;\n",
              "    }\n",
              "\n",
              "    .colab-df-convert:hover {\n",
              "      background-color: #E2EBFA;\n",
              "      box-shadow: 0px 1px 2px rgba(60, 64, 67, 0.3), 0px 1px 3px 1px rgba(60, 64, 67, 0.15);\n",
              "      fill: #174EA6;\n",
              "    }\n",
              "\n",
              "    [theme=dark] .colab-df-convert {\n",
              "      background-color: #3B4455;\n",
              "      fill: #D2E3FC;\n",
              "    }\n",
              "\n",
              "    [theme=dark] .colab-df-convert:hover {\n",
              "      background-color: #434B5C;\n",
              "      box-shadow: 0px 1px 3px 1px rgba(0, 0, 0, 0.15);\n",
              "      filter: drop-shadow(0px 1px 2px rgba(0, 0, 0, 0.3));\n",
              "      fill: #FFFFFF;\n",
              "    }\n",
              "  </style>\n",
              "\n",
              "      <script>\n",
              "        const buttonEl =\n",
              "          document.querySelector('#df-5c8f34f2-d27e-4876-96c8-0e606388888c button.colab-df-convert');\n",
              "        buttonEl.style.display =\n",
              "          google.colab.kernel.accessAllowed ? 'block' : 'none';\n",
              "\n",
              "        async function convertToInteractive(key) {\n",
              "          const element = document.querySelector('#df-5c8f34f2-d27e-4876-96c8-0e606388888c');\n",
              "          const dataTable =\n",
              "            await google.colab.kernel.invokeFunction('convertToInteractive',\n",
              "                                                     [key], {});\n",
              "          if (!dataTable) return;\n",
              "\n",
              "          const docLinkHtml = 'Like what you see? Visit the ' +\n",
              "            '<a target=\"_blank\" href=https://colab.research.google.com/notebooks/data_table.ipynb>data table notebook</a>'\n",
              "            + ' to learn more about interactive tables.';\n",
              "          element.innerHTML = '';\n",
              "          dataTable['output_type'] = 'display_data';\n",
              "          await google.colab.output.renderOutput(dataTable, element);\n",
              "          const docLink = document.createElement('div');\n",
              "          docLink.innerHTML = docLinkHtml;\n",
              "          element.appendChild(docLink);\n",
              "        }\n",
              "      </script>\n",
              "    </div>\n",
              "  </div>\n"
            ]
          },
          "metadata": {},
          "execution_count": 5
        }
      ]
    },
    {
      "cell_type": "code",
      "source": [
        "import matplotlib.pyplot as plt\n",
        "daily_price_df.plot(figsize=(10,7))\n",
        "plt.ylabel(\"Price\")\n",
        "plt.title(\"Price of Bitcoin from 1 Oct 2013 to 18 May 2021\", fontsize=16)\n",
        "plt.legend(fontsize=14);"
      ],
      "metadata": {
        "colab": {
          "base_uri": "https://localhost:8080/",
          "height": 556
        },
        "id": "kSJRF4FFXWw_",
        "outputId": "4b42284c-2a46-4814-d210-25fcec738073"
      },
      "execution_count": null,
      "outputs": [
        {
          "output_type": "display_data",
          "data": {
            "text/plain": [
              "<Figure size 1000x700 with 1 Axes>"
            ],
            "image/png": "[encoded data removed]"
          },
          "metadata": {}
        }
      ]
    },
    {
      "cell_type": "markdown",
      "source": [
        "## 2. Creating the training and test set\n",
        "### 2.1 The wrong way"
      ],
      "metadata": {
        "id": "I5TCpPgOYA8y"
      }
    },
    {
      "cell_type": "code",
      "source": [
        "# Convert our dataframe index and columns to numpy arrays\n",
        "timesteps = daily_price_df.index.to_numpy()\n",
        "prices = daily_price_df[\"Price\"].to_numpy()\n",
        "\n",
        "timesteps[:10], prices[:10]"
      ],
      "metadata": {
        "colab": {
          "base_uri": "https://localhost:8080/"
        },
        "id": "tZfAZPdjXwC0",
        "outputId": "034a6578-7f3a-4ed5-87dc-5566b5e1fd10"
      },
      "execution_count": null,
      "outputs": [
        {
          "output_type": "execute_result",
          "data": {
            "text/plain": [
              "(array(['2013-10-01T00:00:00.000000000', '2013-10-02T00:00:00.000000000',\n",
              "        '2013-10-03T00:00:00.000000000', '2013-10-04T00:00:00.000000000',\n",
              "        '2013-10-05T00:00:00.000000000', '2013-10-06T00:00:00.000000000',\n",
              "        '2013-10-07T00:00:00.000000000', '2013-10-08T00:00:00.000000000',\n",
              "        '2013-10-09T00:00:00.000000000', '2013-10-10T00:00:00.000000000'],\n",
              "       dtype='datetime64[ns]'),\n",
              " array([123.65499, 125.455  , 108.58483, 118.67466, 121.33866, 120.65533,\n",
              "        121.795  , 123.033  , 124.049  , 125.96116]))"
            ]
          },
          "metadata": {},
          "execution_count": 7
        }
      ]
    },
    {
      "cell_type": "code",
      "source": [
        "from sklearn.model_selection import train_test_split\n",
        "X_train,X_test, y_train, y_test = train_test_split(timesteps\n",
        "                                                   ,prices\n",
        "                                                   ,test_size=0.2\n",
        "                                                   ,random_state=42)\n",
        "len(X_train),len(X_test), len(y_train), len(y_test)"
      ],
      "metadata": {
        "colab": {
          "base_uri": "https://localhost:8080/"
        },
        "id": "x-YbG5myY0zK",
        "outputId": "f264f036-0eb0-43d0-ad4d-a3763dc5cd0c"
      },
      "execution_count": null,
      "outputs": [
        {
          "output_type": "execute_result",
          "data": {
            "text/plain": [
              "(2229, 558, 2229, 558)"
            ]
          },
          "metadata": {},
          "execution_count": 8
        }
      ]
    },
    {
      "cell_type": "markdown",
      "source": [
        "### 2.2 Let's visualize the splits"
      ],
      "metadata": {
        "id": "b2sX70oLZd06"
      }
    },
    {
      "cell_type": "code",
      "source": [
        "plt.figure(figsize=(10,7))\n",
        "plt.scatter(X_train,y_train,s=5,label=\"Train data\")\n",
        "plt.scatter(X_test,y_test,s=5,label=\"Test data\")\n",
        "plt.xlabel(\"Date\")\n",
        "plt.ylabel(\"Bitcoin Price\")\n",
        "plt.legend(fontsize=14)\n",
        "plt.show();"
      ],
      "metadata": {
        "colab": {
          "base_uri": "https://localhost:8080/",
          "height": 535
        },
        "id": "a6DHfU-sZY6G",
        "outputId": "c6298810-e72f-4a06-9fd7-342970f9c30c"
      },
      "execution_count": null,
      "outputs": [
        {
          "output_type": "display_data",
          "data": {
            "text/plain": [
              "<Figure size 1000x700 with 1 Axes>"
            ],
            "image/png": "[encoded data removed]"
          },
          "metadata": {}
        }
      ]
    },
    {
      "cell_type": "markdown",
      "source": [
        "As we can see in the above plot our test data is scattered across the training data. This kind of random split works great with data where there is no temporal (time) component. But when time component is invovled, we need to split the data in such a way that it should reflect our purpose. The purpose here is to analyze the historical price and predict or forecast the future price.\n",
        "\n",
        "### 2.3 Creating the train test split the right way"
      ],
      "metadata": {
        "id": "1hEAJsKLcmoN"
      }
    },
    {
      "cell_type": "code",
      "source": [
        "split_size = int(0.8* len(prices))\n",
        "\n",
        "X_train,y_train = timesteps[:split_size],prices[:split_size]\n",
        "\n",
        "X_test, y_test = timesteps[split_size:], prices[split_size:]"
      ],
      "metadata": {
        "id": "NJzinLO_cFZ4"
      },
      "execution_count": null,
      "outputs": []
    },
    {
      "cell_type": "code",
      "source": [
        "plt.figure(figsize=(10,7))\n",
        "plt.scatter(X_train,y_train,s=5,label=\"Train data\")\n",
        "plt.scatter(X_test,y_test,s=5,label=\"Test data\")\n",
        "plt.xlabel(\"Date\")\n",
        "plt.ylabel(\"Bitcoin Price\")\n",
        "plt.legend(fontsize=14)\n",
        "plt.show();"
      ],
      "metadata": {
        "colab": {
          "base_uri": "https://localhost:8080/",
          "height": 535
        },
        "id": "MgWF9MVdeX3V",
        "outputId": "428d6e8f-0ef2-4a8d-e1c2-879e6769f9b9"
      },
      "execution_count": null,
      "outputs": [
        {
          "output_type": "display_data",
          "data": {
            "text/plain": [
              "<Figure size 1000x700 with 1 Axes>"
            ],
            "image/png": "[encoded data removed]"
          },
          "metadata": {}
        }
      ]
    },
    {
      "cell_type": "markdown",
      "source": [
        "## Model 0: Navive Forecast ( baseline )\n",
        "As usual lets start with a baseline.\n",
        "One of the most common baseline for time series forecasting, the naive model requires no training.\n",
        "That's because all that the naive model does is forecast the next timestep value based on previous timestep value.\n",
        "The formula looks like:\n",
        "\n",
        "̂y<sub>t</sub> = y<sub>t</sub> -1"
      ],
      "metadata": {
        "id": "AV7I8vTmhh5n"
      }
    },
    {
      "cell_type": "code",
      "source": [
        "# create a naive forecast\n",
        "naive_forecast = y_test[:-1]\n",
        "naive_forecast[:10],naive_forecast[-10:]"
      ],
      "metadata": {
        "id": "Gy0k5yooeaf5",
        "colab": {
          "base_uri": "https://localhost:8080/"
        },
        "outputId": "85322ac6-d4a4-49fd-ad9b-b53393f9338a"
      },
      "execution_count": null,
      "outputs": [
        {
          "output_type": "execute_result",
          "data": {
            "text/plain": [
              "(array([9226.48582088, 8794.35864452, 8798.04205463, 9081.18687849,\n",
              "        8711.53433917, 8760.89271814, 8749.52059102, 8656.97092235,\n",
              "        8500.64355816, 8469.2608989 ]),\n",
              " array([57107.12067189, 58788.20967893, 58102.19142623, 55715.54665129,\n",
              "        56573.5554719 , 52147.82118698, 49764.1320816 , 50032.69313676,\n",
              "        47885.62525472, 45604.61575361]))"
            ]
          },
          "metadata": {},
          "execution_count": 12
        }
      ]
    },
    {
      "cell_type": "code",
      "source": [
        "# Create a plotting function\n",
        "\n",
        "def plot_time_series(timesteps,values,format='.', start=0, end=None, label=None):\n",
        "  \"\"\"\n",
        "    Plots a timesteps (a series of points in time) against values ( a series of values across timesteps)\n",
        "\n",
        "    Parameters\n",
        "    -------------\n",
        "    timesteps: array of timesteps\n",
        "    values: array of values across time\n",
        "    format: style of plot, default \".\"\n",
        "    start: where to start the plot ( setting a value will index from start of timesteps and values)\n",
        "    end: where to end the plot (setting a value will index from end of timesteps & values )\n",
        "    label: label to show on plot of values\n",
        "  \"\"\"\n",
        "  ## Plot the series\n",
        "  plt.plot(timesteps[start:end],values[start:end], format, label=label)\n",
        "  plt.xlabel(\"Time\")\n",
        "  plt.ylabel(\"BTC price\")\n",
        "  if label:\n",
        "    plt.legend(fontsize=14)\n",
        "  plt.grid(True)"
      ],
      "metadata": {
        "id": "-JfNe7Mclprp"
      },
      "execution_count": null,
      "outputs": []
    },
    {
      "cell_type": "code",
      "source": [
        "# Plot the naive forecast\n",
        "plt.figure(figsize=(10,7))\n",
        "plot_time_series(timesteps=X_train,values=y_train,label=\"Train data\")\n",
        "plot_time_series(timesteps=X_test,values=y_test,label=\"Test data\")\n",
        "plot_time_series(timesteps=X_test[1:],values=naive_forecast,format=\"-\",label=\"Naive Forecast\")"
      ],
      "metadata": {
        "colab": {
          "base_uri": "https://localhost:8080/",
          "height": 535
        },
        "id": "zdVL72WijrtX",
        "outputId": "224e89b0-1b0c-426f-80a3-d41652c52eab"
      },
      "execution_count": null,
      "outputs": [
        {
          "output_type": "display_data",
          "data": {
            "text/plain": [
              "<Figure size 1000x700 with 1 Axes>"
            ],
            "image/png": "[encoded data removed]"
          },
          "metadata": {}
        }
      ]
    },
    {
      "cell_type": "code",
      "source": [
        "plt.figure(figsize=(10,7))\n",
        "offset = 300\n",
        "plot_time_series(timesteps=X_test,values=y_test, start=offset, label=\"Test Data\")\n",
        "plot_time_series(timesteps=X_test[1:],values=naive_forecast, format=\"-\", start=offset, label=\"Naive forecast\")"
      ],
      "metadata": {
        "colab": {
          "base_uri": "https://localhost:8080/",
          "height": 535
        },
        "id": "73FTRnYInoak",
        "outputId": "8632f6f7-77f7-45fb-d51d-f6e17a7fbfcc"
      },
      "execution_count": null,
      "outputs": [
        {
          "output_type": "display_data",
          "data": {
            "text/plain": [
              "<Figure size 1000x700 with 1 Axes>"
            ],
            "image/png": "[encoded data removed]"
          },
          "metadata": {}
        }
      ]
    },
    {
      "cell_type": "markdown",
      "source": [
        "## Evaluate a time series model\n",
        "Time series forecasting often involves predicting a number.\n",
        "As the problem statement is about predicting a number, it comes under **regression**\n",
        "For all the following metrics **lower is better** ( for e.g MAE 0 is better than MAE 100)\n",
        "\n",
        "### Scale-depdendent errors\n",
        "These are metrics which can be used to compare time series values and forecast that are on the same scale\n",
        "\n",
        "Metrics| Details|Code\n",
        "---|---|---\n",
        "MAE ( Mean Absolute Error ) | Easy to interpret. Forecast methods which minimizes the <br> MAE will lead to forecasts of the median |`tf.keras.metrics.mean_absolute_error()`\n",
        "RMSE(Root Mean Squared Error ) | Forecast which minimizes the RMSE lead to forecasts <br> to the mean| `tf.keras.metrics.mean_squared_error()`\n",
        "\n",
        "### Percentage Errors\n",
        "Percentage errors do not have units, which mean they can be used to compare forecasts across different units.\n",
        "\n",
        "Metrics|Details|Code\n",
        "---|---|---\n",
        "**MAPE**(Mean Absolute Percentage Error)|Most commonly used percentage error|`tf.keras.metrics.mean_absolute_percentage_error`\n",
        "**sMAPE**(symmetric Mean Absolute Percentage Error)| Recommend not to use|Custom implementation\n",
        "\n",
        "### Scaled Errors\n",
        "Scaled errors are alternative to percentage errors when comparing forecasting performance across different timeseries\n",
        "\n",
        "Metrics|Details|Code\n",
        "---|---|---\n",
        "MASE(mean absolute scaled error)|A forecast which performs better than naive should get <1 MASE|See sktimes<br> `mase_loss()`\n"
      ],
      "metadata": {
        "id": "sZ3NgovVr42_"
      }
    },
    {
      "cell_type": "code",
      "source": [
        "import tensorflow as tf\n"
      ],
      "metadata": {
        "id": "_JGmnHHly34B"
      },
      "execution_count": null,
      "outputs": []
    },
    {
      "cell_type": "code",
      "source": [
        "# MASE implemented\n",
        "def mean_absolute_scaled_error(y_true, y_pred):\n",
        "  \"\"\"\n",
        "    Implement MASE ( assuming no seasonality data)\n",
        "  \"\"\"\n",
        "  mae = tf.reduce_mean(tf.abs(y_true - y_pred))\n",
        "  ## find MAE for naive forecast\n",
        "  mae_naive_no_season = tf.reduce_mean(tf.abs(y_true[1:]- y_true[:-1]))\n",
        "\n",
        "  return mae/mae_naive_no_season"
      ],
      "metadata": {
        "id": "S4PT6NIfru5d"
      },
      "execution_count": null,
      "outputs": []
    },
    {
      "cell_type": "markdown",
      "source": [
        "> In practice the naive model should achieve an MASE of 1 (or very close to 1). Any model worse than the naive forecast will achieve an MASE of > 1 and any model better than naive forecast will achieve and MASE of < 1\n",
        "\n",
        "Let's put each of our different evaluation metrics together into a function"
      ],
      "metadata": {
        "id": "zvjiTFtWzfEd"
      }
    },
    {
      "cell_type": "code",
      "source": [
        "def evaluate_pred(y_true,y_pred):\n",
        "  #Make sure float32 ( for metric calculation)\n",
        "  y_true= tf.cast(y_true,dtype=tf.float32)\n",
        "  y_pred= tf.cast(y_pred,dtype=tf.float32)\n",
        "\n",
        "  # Calculate various metrics\n",
        "  mae= tf.keras.metrics.mean_absolute_error(y_true,y_pred)\n",
        "  mse= tf.keras.metrics.mean_squared_error(y_true,y_pred)\n",
        "  rmse= tf.sqrt(mse)\n",
        "  mape= tf.keras.metrics.mean_absolute_percentage_error(y_true,y_pred)\n",
        "  mase= mean_absolute_scaled_error(y_true,y_pred)\n",
        "\n",
        "  return {\n",
        "      \"mae\": mae.numpy()\n",
        "      ,\"mse\": mse.numpy()\n",
        "      ,\"rmse\": rmse.numpy()\n",
        "      ,\"mape\": mape.numpy()\n",
        "      ,\"mase\": mase.numpy()\n",
        "  }"
      ],
      "metadata": {
        "id": "D0ym0T1gzeZU"
      },
      "execution_count": null,
      "outputs": []
    },
    {
      "cell_type": "code",
      "source": [
        "naive_results= evaluate_pred(y_true=y_test[1:]\n",
        "                             ,y_pred=naive_forecast)\n",
        "naive_results"
      ],
      "metadata": {
        "colab": {
          "base_uri": "https://localhost:8080/"
        },
        "id": "LXfICDQQ18pT",
        "outputId": "9a3c355d-f217-4d01-bf25-b5500ee38087"
      },
      "execution_count": null,
      "outputs": [
        {
          "output_type": "execute_result",
          "data": {
            "text/plain": [
              "{'mae': 567.9802,\n",
              " 'mse': 1147547.0,\n",
              " 'rmse': 1071.2362,\n",
              " 'mape': 2.5165248,\n",
              " 'mase': 0.99957}"
            ]
          },
          "metadata": {},
          "execution_count": 19
        }
      ]
    },
    {
      "cell_type": "markdown",
      "source": [
        "Looking at the MAE results, we can infer that on an average the predicted bitcoin price is off from the actual price by about ~567 USD."
      ],
      "metadata": {
        "id": "HM5Tvi0r2tym"
      }
    },
    {
      "cell_type": "markdown",
      "source": [
        "## Format Data Part2: Windowing dataset\n",
        "**Windowing** is a method to turn a time series dataset to _supervised learning problem_.\n",
        "In other words, we want to use windows of the past to predict the future.\n",
        "For example, for a univariate time series, windowing for one week(`window=7`) to predict the next single value (`horizon=1`) might look like:\n",
        "\n",
        "```\n",
        "Window for one week (univariate time series)\n",
        "[0,1,2,3,4,5,6] -> [7]\n",
        "[1,2,3,4,5,6,7] -> [8]\n",
        "[2,3,4,5,6,7,8] -> [9]\n",
        "```\n",
        "\n",
        "Let's write a function that can take a univariate time series and turn into windows and horizon of specified sizes.\n",
        "\n",
        "We'll start the default horizon size of 1 and window size of 7\n"
      ],
      "metadata": {
        "id": "Y3X3DjT83_Uj"
      }
    },
    {
      "cell_type": "code",
      "source": [
        "HORIZON= 1 # predict 1 timestep at a time\n",
        "WINDOW_SIZE= 7 #use a week worth of timesteps to predict the horizon"
      ],
      "metadata": {
        "id": "nCFqT5GN2Mm0"
      },
      "execution_count": null,
      "outputs": []
    },
    {
      "cell_type": "markdown",
      "source": [
        "Now we will write a function that will take an array and return a window and horizon\n"
      ],
      "metadata": {
        "id": "bHX8Rq4B5v-i"
      }
    },
    {
      "cell_type": "code",
      "source": [
        "# Create a function to create labelled window data\n",
        "def get_labelled_windows(x,horizon=1):\n",
        "  \"\"\"\n",
        "    Creates a label for window dataset\n",
        "    E.g if horizon=1 (default)\n",
        "    Input: [1,2,3,4,5,6] -> Output ([1,2,3,4,5],[6])\n",
        "  \"\"\"\n",
        "  return (x[:,:-horizon],x[:, -horizon:])"
      ],
      "metadata": {
        "id": "BuqojxtN5vV6"
      },
      "execution_count": null,
      "outputs": []
    },
    {
      "cell_type": "code",
      "source": [
        "# Test the window labelling function\n",
        "test_window, test_label= get_labelled_windows(tf.expand_dims(tf.range(8)+1, axis=0),horizon=HORIZON)\n",
        "print(f\"Window: {tf.squeeze(test_window).numpy()} -> Label: {tf.squeeze(test_label).numpy()}\")"
      ],
      "metadata": {
        "colab": {
          "base_uri": "https://localhost:8080/"
        },
        "id": "HWV9ZmOn6pN_",
        "outputId": "a1efd6c1-e754-48cb-fecd-480bda81989b"
      },
      "execution_count": null,
      "outputs": [
        {
          "output_type": "stream",
          "name": "stdout",
          "text": [
            "Window: [1 2 3 4 5 6 7] -> Label: 8\n"
          ]
        }
      ]
    },
    {
      "cell_type": "markdown",
      "source": [
        "#### Make window for the entire timeseries\n",
        "Let's write a function which:\n",
        "1. Create a window step of specific window size, for example `[[0,1,2,3,4,5,6]]`\n",
        "2. Uses [Numpy Indexing]() to create a 2D of multiple window steps, for example\n",
        "```\n",
        "[[0,1,2,3,4,5,6,7]\n",
        " [1,2,3,4,5,6,7,8]\n",
        " [2,3,4,5,6,7,8,9]]\n",
        "```\n",
        "3. Uses the 2D array of multiple window steps to index to a target series.\n",
        "4. Uses the `get_labelled_window` function we created above to turn the window steps into windows with a specified horizon."
      ],
      "metadata": {
        "id": "QcJaGf5x90lW"
      }
    },
    {
      "cell_type": "code",
      "source": [
        "import numpy as np"
      ],
      "metadata": {
        "id": "yUTXpXOv_taN"
      },
      "execution_count": null,
      "outputs": []
    },
    {
      "cell_type": "code",
      "source": [
        "# Create a function to view Numpy arrays as windows\n",
        "def make_windows(x, window_size=7, horizon=1):\n",
        "  \"\"\"\n",
        "   Turns a 1D array into a 2D array of sequential windows of a given window size.\n",
        "  \"\"\"\n",
        "  # 1. Create a window of specific window size (add the horizon on the end for later labelling)\n",
        "  window_step= np.expand_dims(np.arange(window_size+horizon),axis=0)\n",
        "  # 2. Create a 2D array of multiple window steps\n",
        "  window_indexes= window_step+ np.expand_dims(np.arange(len(x)- window_size+horizon-1),axis=0).T\n",
        "  # 3. Index on the target array with 2D array of multiple window steps\n",
        "  windowed_array= x[window_indexes]\n",
        "  # 4. Get the labelled windows\n",
        "  windows, labels= get_labelled_windows(windowed_array,horizon=horizon)\n",
        "  return windows,labels"
      ],
      "metadata": {
        "id": "h-pAYNBj7LiP"
      },
      "execution_count": null,
      "outputs": []
    },
    {
      "cell_type": "code",
      "source": [
        "np.expand_dims(np.arange(7+1),0).T"
      ],
      "metadata": {
        "colab": {
          "base_uri": "https://localhost:8080/"
        },
        "id": "PkG9VWpGDTP6",
        "outputId": "a88f0bf4-287c-4e9a-e228-7c9bbb15f754"
      },
      "execution_count": null,
      "outputs": [
        {
          "output_type": "execute_result",
          "data": {
            "text/plain": [
              "array([[0],\n",
              "       [1],\n",
              "       [2],\n",
              "       [3],\n",
              "       [4],\n",
              "       [5],\n",
              "       [6],\n",
              "       [7]])"
            ]
          },
          "metadata": {},
          "execution_count": 25
        }
      ]
    },
    {
      "cell_type": "code",
      "source": [
        "full_windows, full_labels= make_windows(prices,window_size=WINDOW_SIZE,horizon=HORIZON)\n",
        "len(full_windows), len(full_labels)"
      ],
      "metadata": {
        "colab": {
          "base_uri": "https://localhost:8080/"
        },
        "id": "QIZR7M_gCmnN",
        "outputId": "7d7464a1-4182-4ed7-8eeb-ba67ab5375ee"
      },
      "execution_count": null,
      "outputs": [
        {
          "output_type": "execute_result",
          "data": {
            "text/plain": [
              "(2780, 2780)"
            ]
          },
          "metadata": {},
          "execution_count": 26
        }
      ]
    },
    {
      "cell_type": "code",
      "source": [
        "## view the first 3 windows/labels\n",
        "for i in range(3):\n",
        "  print(f\" Window: {full_windows[i]}, Label: {full_labels[i]}\")"
      ],
      "metadata": {
        "colab": {
          "base_uri": "https://localhost:8080/"
        },
        "id": "OZiQvg6FC0DK",
        "outputId": "a37b1a07-519c-44c3-c2f5-6bafd24e4eb4"
      },
      "execution_count": null,
      "outputs": [
        {
          "output_type": "stream",
          "name": "stdout",
          "text": [
            " Window: [123.65499 125.455   108.58483 118.67466 121.33866 120.65533 121.795  ], Label: [123.033]\n",
            " Window: [125.455   108.58483 118.67466 121.33866 120.65533 121.795   123.033  ], Label: [124.049]\n",
            " Window: [108.58483 118.67466 121.33866 120.65533 121.795   123.033   124.049  ], Label: [125.96116]\n"
          ]
        }
      ]
    },
    {
      "cell_type": "markdown",
      "source": [
        "We can use tensorflow inbuilt functions to achieve the same output. We need to use `tf.keras.preprocessing.timeseries_dataset_from_array()`\n",
        "\n",
        "TODO: We will look into this later."
      ],
      "metadata": {
        "id": "Vrrr5LjXD54b"
      }
    },
    {
      "cell_type": "markdown",
      "source": [
        "### Turning windows into training and test set\n",
        "Let's write a function that takes a full set of windows and their labels and splits them into train & test splits."
      ],
      "metadata": {
        "id": "GiZP39WqITA5"
      }
    },
    {
      "cell_type": "code",
      "source": [
        "# Make the train/test split\n",
        "def make_train_test_split(windows,labels,test_split=0.2):\n",
        "  \"\"\"\n",
        "    Splits matching pairs of windows and labels into train and test split.\n",
        "\n",
        "  \"\"\"\n",
        "  split_size= int(len(windows) * (1-test_split))\n",
        "\n",
        "  train_windows= windows[:split_size]\n",
        "  train_labels= labels[:split_size]\n",
        "  test_windows= windows[split_size:]\n",
        "  test_labels= labels[split_size:]\n",
        "\n",
        "  return train_windows, train_labels, test_windows,test_labels\n"
      ],
      "metadata": {
        "id": "OiovcKLHEOkW"
      },
      "execution_count": null,
      "outputs": []
    },
    {
      "cell_type": "code",
      "source": [
        "train_windows, train_labels, test_windows,test_labels = make_train_test_split(full_windows,full_labels)\n",
        "len(train_windows), len(test_windows),  len(train_labels),len(test_labels)\n"
      ],
      "metadata": {
        "colab": {
          "base_uri": "https://localhost:8080/"
        },
        "id": "gR_1yH5KJb2i",
        "outputId": "f6c032b7-1b9a-456c-d26a-678fb8607991"
      },
      "execution_count": null,
      "outputs": [
        {
          "output_type": "execute_result",
          "data": {
            "text/plain": [
              "(2224, 556, 2224, 556)"
            ]
          },
          "metadata": {},
          "execution_count": 29
        }
      ]
    },
    {
      "cell_type": "code",
      "source": [
        "train_windows[:5],train_labels[:5]"
      ],
      "metadata": {
        "colab": {
          "base_uri": "https://localhost:8080/"
        },
        "id": "Fx7RuUKkJujh",
        "outputId": "4a7b69fe-fb64-4dcf-e4c3-d1b87b2ce646"
      },
      "execution_count": null,
      "outputs": [
        {
          "output_type": "execute_result",
          "data": {
            "text/plain": [
              "(array([[123.65499, 125.455  , 108.58483, 118.67466, 121.33866, 120.65533,\n",
              "         121.795  ],\n",
              "        [125.455  , 108.58483, 118.67466, 121.33866, 120.65533, 121.795  ,\n",
              "         123.033  ],\n",
              "        [108.58483, 118.67466, 121.33866, 120.65533, 121.795  , 123.033  ,\n",
              "         124.049  ],\n",
              "        [118.67466, 121.33866, 120.65533, 121.795  , 123.033  , 124.049  ,\n",
              "         125.96116],\n",
              "        [121.33866, 120.65533, 121.795  , 123.033  , 124.049  , 125.96116,\n",
              "         125.27966]]),\n",
              " array([[123.033  ],\n",
              "        [124.049  ],\n",
              "        [125.96116],\n",
              "        [125.27966],\n",
              "        [125.9275 ]]))"
            ]
          },
          "metadata": {},
          "execution_count": 30
        }
      ]
    },
    {
      "cell_type": "markdown",
      "source": [
        "### Making a model checkpoint\n",
        "The `ModelCheckpoint` callback will monitor our model performance during the training and saves the best model to the file system by setting `save_best_only=True`"
      ],
      "metadata": {
        "id": "CD95GF-pMpTb"
      }
    },
    {
      "cell_type": "code",
      "source": [
        "import os\n",
        "# create a function to implement a ModelCheckpoint callback with a specific filename\n",
        "def create_model_checkpoint(model_name,save_path=\"model_experiment\"):\n",
        "  return tf.keras.callbacks.ModelCheckpoint(filepath=os.path.join(save_path,model_name)\n",
        "                                            ,verbose=0\n",
        "                                            ,save_best_only=True)"
      ],
      "metadata": {
        "id": "kqXCNThULBYo"
      },
      "execution_count": null,
      "outputs": []
    },
    {
      "cell_type": "markdown",
      "source": [
        "## Model 1: Dense Model ( window = 7, horizon = 1)\n",
        "Time to build one of our models\n",
        "\n",
        "`model_1` will have:\n",
        "* A single dense layer with 128 hidden units and ReLU activation unit.\n",
        "* An output layer with linear activation.\n",
        "* Adam optimizer with MAE loss\n",
        "* Batch size of 128\n",
        "* 100 epochs"
      ],
      "metadata": {
        "id": "pP-C66xvNqf7"
      }
    },
    {
      "cell_type": "code",
      "source": [
        "import tensorflow as tf\n",
        "from tensorflow.keras import layers\n",
        "\n",
        "## set seed\n",
        "tf.random.set_seed(42)\n",
        "model_1 = tf.keras.Sequential([\n",
        "    layers.Dense(128,activation=tf.keras.activations.relu)\n",
        "    ,layers.Dense(HORIZON,activation=tf.keras.activations.linear)\n",
        "],name=\"model_1_dense\")\n",
        "\n",
        "model_1.compile(loss=tf.keras.losses.mean_absolute_error\n",
        "                ,optimizer=tf.keras.optimizers.Adam()\n",
        "                ,metrics=[\"mae\"]\n",
        "                )\n",
        "\n",
        "history_1= model_1.fit(x=train_windows\n",
        "                       ,y=train_labels\n",
        "                       ,epochs=100\n",
        "                       ,verbose=1\n",
        "                       ,batch_size=128\n",
        "                       ,validation_data=(test_windows,test_labels)\n",
        "                       ,callbacks=[create_model_checkpoint(model_name=model_1.name)]\n",
        "                       )\n",
        "\n"
      ],
      "metadata": {
        "colab": {
          "base_uri": "https://localhost:8080/"
        },
        "id": "KpsmU0quP8hV",
        "outputId": "b4204f08-d79e-4c57-c96b-243cc4a556a7"
      },
      "execution_count": null,
      "outputs": [
        {
          "output_type": "stream",
          "name": "stdout",
          "text": [
            "Epoch 1/100\n",
            " 1/18 [>.............................] - ETA: 9s - loss: 4484.0469 - mae: 4484.0469"
          ]
        },
        {
          "output_type": "stream",
          "name": "stderr",
          "text": [
            "WARNING:absl:Found untraced functions such as _update_step_xla while saving (showing 1 of 1). These functions will not be directly callable after loading.\n"
          ]
        },
        {
          "output_type": "stream",
          "name": "stdout",
          "text": [
            "\b\b\b\b\b\b\b\b\b\b\b\b\b\b\b\b\b\b\b\b\b\b\b\b\b\b\b\b\b\b\b\b\b\b\b\b\b\b\b\b\b\b\b\b\b\b\b\b\b\b\b\b\b\b\b\b\b\b\b\b\b\b\b\b\b\b\b\b\b\b\b\b\b\b\b\b\b\b\b\b\b\b\b\r18/18 [==============================] - 1s 48ms/step - loss: 2072.4587 - mae: 2072.4587 - val_loss: 1655.2394 - val_mae: 1655.2394\n",
            "Epoch 2/100\n",
            "18/18 [==============================] - 0s 6ms/step - loss: 449.9562 - mae: 449.9562 - val_loss: 2307.6875 - val_mae: 2307.6875\n",
            "Epoch 3/100\n",
            " 1/18 [>.............................] - ETA: 0s - loss: 308.5726 - mae: 308.5726"
          ]
        },
        {
          "output_type": "stream",
          "name": "stderr",
          "text": [
            "WARNING:absl:Found untraced functions such as _update_step_xla while saving (showing 1 of 1). These functions will not be directly callable after loading.\n"
          ]
        },
        {
          "output_type": "stream",
          "name": "stdout",
          "text": [
            "\b\b\b\b\b\b\b\b\b\b\b\b\b\b\b\b\b\b\b\b\b\b\b\b\b\b\b\b\b\b\b\b\b\b\b\b\b\b\b\b\b\b\b\b\b\b\b\b\b\b\b\b\b\b\b\b\b\b\b\b\b\b\b\b\b\b\b\b\b\b\b\b\b\b\b\b\b\b\b\b\b\r18/18 [==============================] - 1s 39ms/step - loss: 273.5443 - mae: 273.5443 - val_loss: 1311.7064 - val_mae: 1311.7064\n",
            "Epoch 4/100\n",
            " 1/18 [>.............................] - ETA: 0s - loss: 272.2764 - mae: 272.2764"
          ]
        },
        {
          "output_type": "stream",
          "name": "stderr",
          "text": [
            "WARNING:absl:Found untraced functions such as _update_step_xla while saving (showing 1 of 1). These functions will not be directly callable after loading.\n"
          ]
        },
        {
          "output_type": "stream",
          "name": "stdout",
          "text": [
            "\b\b\b\b\b\b\b\b\b\b\b\b\b\b\b\b\b\b\b\b\b\b\b\b\b\b\b\b\b\b\b\b\b\b\b\b\b\b\b\b\b\b\b\b\b\b\b\b\b\b\b\b\b\b\b\b\b\b\b\b\b\b\b\b\b\b\b\b\b\b\b\b\b\b\b\b\b\b\b\b\b\r18/18 [==============================] - 1s 37ms/step - loss: 216.8738 - mae: 216.8738 - val_loss: 1180.6146 - val_mae: 1180.6146\n",
            "Epoch 5/100\n",
            " 1/18 [>.............................] - ETA: 0s - loss: 193.5980 - mae: 193.5980"
          ]
        },
        {
          "output_type": "stream",
          "name": "stderr",
          "text": [
            "WARNING:absl:Found untraced functions such as _update_step_xla while saving (showing 1 of 1). These functions will not be directly callable after loading.\n"
          ]
        },
        {
          "output_type": "stream",
          "name": "stdout",
          "text": [
            "\b\b\b\b\b\b\b\b\b\b\b\b\b\b\b\b\b\b\b\b\b\b\b\b\b\b\b\b\b\b\b\b\b\b\b\b\b\b\b\b\b\b\b\b\b\b\b\b\b\b\b\b\b\b\b\b\b\b\b\b\b\b\b\b\b\b\b\b\b\b\b\b\b\b\b\b\b\b\b\b\b\r18/18 [==============================] - 1s 42ms/step - loss: 209.2532 - mae: 209.2532 - val_loss: 1175.0481 - val_mae: 1175.0481\n",
            "Epoch 6/100\n",
            " 1/18 [>.............................] - ETA: 0s - loss: 155.8885 - mae: 155.8885"
          ]
        },
        {
          "output_type": "stream",
          "name": "stderr",
          "text": [
            "WARNING:absl:Found untraced functions such as _update_step_xla while saving (showing 1 of 1). These functions will not be directly callable after loading.\n"
          ]
        },
        {
          "output_type": "stream",
          "name": "stdout",
          "text": [
            "\b\b\b\b\b\b\b\b\b\b\b\b\b\b\b\b\b\b\b\b\b\b\b\b\b\b\b\b\b\b\b\b\b\b\b\b\b\b\b\b\b\b\b\b\b\b\b\b\b\b\b\b\b\b\b\b\b\b\b\b\b\b\b\b\b\b\b\b\b\b\b\b\b\b\b\b\b\b\b\b\b\r18/18 [==============================] - 1s 39ms/step - loss: 197.3655 - mae: 197.3655 - val_loss: 1090.3442 - val_mae: 1090.3442\n",
            "Epoch 7/100\n",
            " 1/18 [>.............................] - ETA: 0s - loss: 239.8273 - mae: 239.8273"
          ]
        },
        {
          "output_type": "stream",
          "name": "stderr",
          "text": [
            "WARNING:absl:Found untraced functions such as _update_step_xla while saving (showing 1 of 1). These functions will not be directly callable after loading.\n"
          ]
        },
        {
          "output_type": "stream",
          "name": "stdout",
          "text": [
            "\b\b\b\b\b\b\b\b\b\b\b\b\b\b\b\b\b\b\b\b\b\b\b\b\b\b\b\b\b\b\b\b\b\b\b\b\b\b\b\b\b\b\b\b\b\b\b\b\b\b\b\b\b\b\b\b\b\b\b\b\b\b\b\b\b\b\b\b\b\b\b\b\b\b\b\b\b\b\b\b\b\r18/18 [==============================] - 1s 61ms/step - loss: 190.7315 - mae: 190.7315 - val_loss: 1073.0914 - val_mae: 1073.0914\n",
            "Epoch 8/100\n",
            " 1/18 [>.............................] - ETA: 0s - loss: 160.6720 - mae: 160.6720"
          ]
        },
        {
          "output_type": "stream",
          "name": "stderr",
          "text": [
            "WARNING:absl:Found untraced functions such as _update_step_xla while saving (showing 1 of 1). These functions will not be directly callable after loading.\n"
          ]
        },
        {
          "output_type": "stream",
          "name": "stdout",
          "text": [
            "\b\b\b\b\b\b\b\b\b\b\b\b\b\b\b\b\b\b\b\b\b\b\b\b\b\b\b\b\b\b\b\b\b\b\b\b\b\b\b\b\b\b\b\b\b\b\b\b\b\b\b\b\b\b\b\b\b\b\b\b\b\b\b\b\b\b\b\b\b\b\b\b\b\b\b\b\b\b\b\b\b\r18/18 [==============================] - 1s 39ms/step - loss: 183.8749 - mae: 183.8749 - val_loss: 1020.6396 - val_mae: 1020.6396\n",
            "Epoch 9/100\n",
            " 1/18 [>.............................] - ETA: 0s - loss: 145.0934 - mae: 145.0934"
          ]
        },
        {
          "output_type": "stream",
          "name": "stderr",
          "text": [
            "WARNING:absl:Found untraced functions such as _update_step_xla while saving (showing 1 of 1). These functions will not be directly callable after loading.\n"
          ]
        },
        {
          "output_type": "stream",
          "name": "stdout",
          "text": [
            "\b\b\b\b\b\b\b\b\b\b\b\b\b\b\b\b\b\b\b\b\b\b\b\b\b\b\b\b\b\b\b\b\b\b\b\b\b\b\b\b\b\b\b\b\b\b\b\b\b\b\b\b\b\b\b\b\b\b\b\b\b\b\b\b\b\b\b\b\b\b\b\b\b\b\b\b\b\b\b\b\b\r18/18 [==============================] - 1s 38ms/step - loss: 179.9046 - mae: 179.9046 - val_loss: 1017.5096 - val_mae: 1017.5096\n",
            "Epoch 10/100\n",
            " 1/18 [>.............................] - ETA: 0s - loss: 190.0373 - mae: 190.0373"
          ]
        },
        {
          "output_type": "stream",
          "name": "stderr",
          "text": [
            "WARNING:absl:Found untraced functions such as _update_step_xla while saving (showing 1 of 1). These functions will not be directly callable after loading.\n"
          ]
        },
        {
          "output_type": "stream",
          "name": "stdout",
          "text": [
            "\b\b\b\b\b\b\b\b\b\b\b\b\b\b\b\b\b\b\b\b\b\b\b\b\b\b\b\b\b\b\b\b\b\b\b\b\b\b\b\b\b\b\b\b\b\b\b\b\b\b\b\b\b\b\b\b\b\b\b\b\b\b\b\b\b\b\b\b\b\b\b\b\b\b\b\b\b\b\b\b\b\r18/18 [==============================] - 1s 44ms/step - loss: 175.4215 - mae: 175.4215 - val_loss: 980.1496 - val_mae: 980.1496\n",
            "Epoch 11/100\n",
            "17/18 [===========================>..] - ETA: 0s - loss: 168.4407 - mae: 168.4407"
          ]
        },
        {
          "output_type": "stream",
          "name": "stderr",
          "text": [
            "WARNING:absl:Found untraced functions such as _update_step_xla while saving (showing 1 of 1). These functions will not be directly callable after loading.\n"
          ]
        },
        {
          "output_type": "stream",
          "name": "stdout",
          "text": [
            "\b\b\b\b\b\b\b\b\b\b\b\b\b\b\b\b\b\b\b\b\b\b\b\b\b\b\b\b\b\b\b\b\b\b\b\b\b\b\b\b\b\b\b\b\b\b\b\b\b\b\b\b\b\b\b\b\b\b\b\b\b\b\b\b\b\b\b\b\b\b\b\b\b\b\b\b\b\b\b\b\b\r18/18 [==============================] - 1s 56ms/step - loss: 168.2519 - mae: 168.2519 - val_loss: 928.6438 - val_mae: 928.6438\n",
            "Epoch 12/100\n",
            "18/18 [==============================] - 0s 7ms/step - loss: 161.5949 - mae: 161.5949 - val_loss: 1029.5776 - val_mae: 1029.5778\n",
            "Epoch 13/100\n",
            "18/18 [==============================] - 0s 7ms/step - loss: 159.2992 - mae: 159.2992 - val_loss: 971.2962 - val_mae: 971.2962\n",
            "Epoch 14/100\n",
            "17/18 [===========================>..] - ETA: 0s - loss: 151.6669 - mae: 151.6669"
          ]
        },
        {
          "output_type": "stream",
          "name": "stderr",
          "text": [
            "WARNING:absl:Found untraced functions such as _update_step_xla while saving (showing 1 of 1). These functions will not be directly callable after loading.\n"
          ]
        },
        {
          "output_type": "stream",
          "name": "stdout",
          "text": [
            "\b\b\b\b\b\b\b\b\b\b\b\b\b\b\b\b\b\b\b\b\b\b\b\b\b\b\b\b\b\b\b\b\b\b\b\b\b\b\b\b\b\b\b\b\b\b\b\b\b\b\b\b\b\b\b\b\b\b\b\b\b\b\b\b\b\b\b\b\b\b\b\b\b\b\b\b\b\b\b\b\b\r18/18 [==============================] - 1s 55ms/step - loss: 154.4109 - mae: 154.4109 - val_loss: 894.5269 - val_mae: 894.5269\n",
            "Epoch 15/100\n",
            "18/18 [==============================] - ETA: 0s - loss: 148.1554 - mae: 148.1554"
          ]
        },
        {
          "output_type": "stream",
          "name": "stderr",
          "text": [
            "WARNING:absl:Found untraced functions such as _update_step_xla while saving (showing 1 of 1). These functions will not be directly callable after loading.\n"
          ]
        },
        {
          "output_type": "stream",
          "name": "stdout",
          "text": [
            "\b\b\b\b\b\b\b\b\b\b\b\b\b\b\b\b\b\b\b\b\b\b\b\b\b\b\b\b\b\b\b\b\b\b\b\b\b\b\b\b\b\b\b\b\b\b\b\b\b\b\b\b\b\b\b\b\b\b\b\b\b\b\b\b\b\b\b\b\b\b\b\b\b\b\b\b\b\b\b\b\b\r18/18 [==============================] - 1s 40ms/step - loss: 148.1554 - mae: 148.1554 - val_loss: 814.4669 - val_mae: 814.4669\n",
            "Epoch 16/100\n",
            " 1/18 [>.............................] - ETA: 0s - loss: 135.3338 - mae: 135.3338"
          ]
        },
        {
          "output_type": "stream",
          "name": "stderr",
          "text": [
            "WARNING:absl:Found untraced functions such as _update_step_xla while saving (showing 1 of 1). These functions will not be directly callable after loading.\n"
          ]
        },
        {
          "output_type": "stream",
          "name": "stdout",
          "text": [
            "\b\b\b\b\b\b\b\b\b\b\b\b\b\b\b\b\b\b\b\b\b\b\b\b\b\b\b\b\b\b\b\b\b\b\b\b\b\b\b\b\b\b\b\b\b\b\b\b\b\b\b\b\b\b\b\b\b\b\b\b\b\b\b\b\b\b\b\b\b\b\b\b\b\b\b\b\b\b\b\b\b\r18/18 [==============================] - 1s 36ms/step - loss: 142.0452 - mae: 142.0452 - val_loss: 793.2522 - val_mae: 793.2522\n",
            "Epoch 17/100\n",
            "18/18 [==============================] - 0s 5ms/step - loss: 140.7014 - mae: 140.7014 - val_loss: 802.2610 - val_mae: 802.2610\n",
            "Epoch 18/100\n",
            "18/18 [==============================] - 0s 5ms/step - loss: 140.4762 - mae: 140.4762 - val_loss: 845.6437 - val_mae: 845.6437\n",
            "Epoch 19/100\n",
            "18/18 [==============================] - 0s 5ms/step - loss: 134.7144 - mae: 134.7144 - val_loss: 835.7392 - val_mae: 835.7392\n",
            "Epoch 20/100\n",
            " 1/18 [>.............................] - ETA: 0s - loss: 148.9956 - mae: 148.9956"
          ]
        },
        {
          "output_type": "stream",
          "name": "stderr",
          "text": [
            "WARNING:absl:Found untraced functions such as _update_step_xla while saving (showing 1 of 1). These functions will not be directly callable after loading.\n"
          ]
        },
        {
          "output_type": "stream",
          "name": "stdout",
          "text": [
            "\b\b\b\b\b\b\b\b\b\b\b\b\b\b\b\b\b\b\b\b\b\b\b\b\b\b\b\b\b\b\b\b\b\b\b\b\b\b\b\b\b\b\b\b\b\b\b\b\b\b\b\b\b\b\b\b\b\b\b\b\b\b\b\b\b\b\b\b\b\b\b\b\b\b\b\b\b\b\b\b\b\r18/18 [==============================] - 1s 38ms/step - loss: 132.6932 - mae: 132.6932 - val_loss: 730.9480 - val_mae: 730.9479\n",
            "Epoch 21/100\n",
            " 1/18 [>.............................] - ETA: 0s - loss: 172.8282 - mae: 172.8282"
          ]
        },
        {
          "output_type": "stream",
          "name": "stderr",
          "text": [
            "WARNING:absl:Found untraced functions such as _update_step_xla while saving (showing 1 of 1). These functions will not be directly callable after loading.\n"
          ]
        },
        {
          "output_type": "stream",
          "name": "stdout",
          "text": [
            "\b\b\b\b\b\b\b\b\b\b\b\b\b\b\b\b\b\b\b\b\b\b\b\b\b\b\b\b\b\b\b\b\b\b\b\b\b\b\b\b\b\b\b\b\b\b\b\b\b\b\b\b\b\b\b\b\b\b\b\b\b\b\b\b\b\b\b\b\b\b\b\b\b\b\b\b\b\b\b\b\b\r18/18 [==============================] - 1s 37ms/step - loss: 132.6693 - mae: 132.6693 - val_loss: 716.7968 - val_mae: 716.7968\n",
            "Epoch 22/100\n",
            "18/18 [==============================] - 0s 5ms/step - loss: 128.0967 - mae: 128.0967 - val_loss: 722.2093 - val_mae: 722.2093\n",
            "Epoch 23/100\n",
            " 1/18 [>.............................] - ETA: 0s - loss: 126.1123 - mae: 126.1123"
          ]
        },
        {
          "output_type": "stream",
          "name": "stderr",
          "text": [
            "WARNING:absl:Found untraced functions such as _update_step_xla while saving (showing 1 of 1). These functions will not be directly callable after loading.\n"
          ]
        },
        {
          "output_type": "stream",
          "name": "stdout",
          "text": [
            "\b\b\b\b\b\b\b\b\b\b\b\b\b\b\b\b\b\b\b\b\b\b\b\b\b\b\b\b\b\b\b\b\b\b\b\b\b\b\b\b\b\b\b\b\b\b\b\b\b\b\b\b\b\b\b\b\b\b\b\b\b\b\b\b\b\b\b\b\b\b\b\b\b\b\b\b\b\b\b\b\b\r18/18 [==============================] - 1s 36ms/step - loss: 127.9418 - mae: 127.9418 - val_loss: 696.8690 - val_mae: 696.8690\n",
            "Epoch 24/100\n",
            " 1/18 [>.............................] - ETA: 0s - loss: 138.3152 - mae: 138.3152"
          ]
        },
        {
          "output_type": "stream",
          "name": "stderr",
          "text": [
            "WARNING:absl:Found untraced functions such as _update_step_xla while saving (showing 1 of 1). These functions will not be directly callable after loading.\n"
          ]
        },
        {
          "output_type": "stream",
          "name": "stdout",
          "text": [
            "\b\b\b\b\b\b\b\b\b\b\b\b\b\b\b\b\b\b\b\b\b\b\b\b\b\b\b\b\b\b\b\b\b\b\b\b\b\b\b\b\b\b\b\b\b\b\b\b\b\b\b\b\b\b\b\b\b\b\b\b\b\b\b\b\b\b\b\b\b\b\b\b\b\b\b\b\b\b\b\b\b\r18/18 [==============================] - 1s 37ms/step - loss: 126.7910 - mae: 126.7910 - val_loss: 682.2964 - val_mae: 682.2964\n",
            "Epoch 25/100\n",
            " 1/18 [>.............................] - ETA: 0s - loss: 125.2836 - mae: 125.2836"
          ]
        },
        {
          "output_type": "stream",
          "name": "stderr",
          "text": [
            "WARNING:absl:Found untraced functions such as _update_step_xla while saving (showing 1 of 1). These functions will not be directly callable after loading.\n"
          ]
        },
        {
          "output_type": "stream",
          "name": "stdout",
          "text": [
            "\b\b\b\b\b\b\b\b\b\b\b\b\b\b\b\b\b\b\b\b\b\b\b\b\b\b\b\b\b\b\b\b\b\b\b\b\b\b\b\b\b\b\b\b\b\b\b\b\b\b\b\b\b\b\b\b\b\b\b\b\b\b\b\b\b\b\b\b\b\b\b\b\b\b\b\b\b\b\b\b\b\r18/18 [==============================] - 1s 38ms/step - loss: 124.1037 - mae: 124.1037 - val_loss: 673.7326 - val_mae: 673.7326\n",
            "Epoch 26/100\n",
            " 1/18 [>.............................] - ETA: 0s - loss: 124.7318 - mae: 124.7318"
          ]
        },
        {
          "output_type": "stream",
          "name": "stderr",
          "text": [
            "WARNING:absl:Found untraced functions such as _update_step_xla while saving (showing 1 of 1). These functions will not be directly callable after loading.\n"
          ]
        },
        {
          "output_type": "stream",
          "name": "stdout",
          "text": [
            "\b\b\b\b\b\b\b\b\b\b\b\b\b\b\b\b\b\b\b\b\b\b\b\b\b\b\b\b\b\b\b\b\b\b\b\b\b\b\b\b\b\b\b\b\b\b\b\b\b\b\b\b\b\b\b\b\b\b\b\b\b\b\b\b\b\b\b\b\b\b\b\b\b\b\b\b\b\b\b\b\b\r18/18 [==============================] - 1s 36ms/step - loss: 123.7176 - mae: 123.7176 - val_loss: 665.6469 - val_mae: 665.6469\n",
            "Epoch 27/100\n",
            "18/18 [==============================] - 0s 4ms/step - loss: 123.2939 - mae: 123.2939 - val_loss: 668.3240 - val_mae: 668.3240\n",
            "Epoch 28/100\n",
            "18/18 [==============================] - 0s 4ms/step - loss: 120.7064 - mae: 120.7064 - val_loss: 671.0621 - val_mae: 671.0621\n",
            "Epoch 29/100\n",
            " 1/18 [>.............................] - ETA: 0s - loss: 112.6219 - mae: 112.6219"
          ]
        },
        {
          "output_type": "stream",
          "name": "stderr",
          "text": [
            "WARNING:absl:Found untraced functions such as _update_step_xla while saving (showing 1 of 1). These functions will not be directly callable after loading.\n"
          ]
        },
        {
          "output_type": "stream",
          "name": "stdout",
          "text": [
            "\b\b\b\b\b\b\b\b\b\b\b\b\b\b\b\b\b\b\b\b\b\b\b\b\b\b\b\b\b\b\b\b\b\b\b\b\b\b\b\b\b\b\b\b\b\b\b\b\b\b\b\b\b\b\b\b\b\b\b\b\b\b\b\b\b\b\b\b\b\b\b\b\b\b\b\b\b\b\b\b\b\r18/18 [==============================] - 1s 37ms/step - loss: 123.8968 - mae: 123.8968 - val_loss: 645.0730 - val_mae: 645.0730\n",
            "Epoch 30/100\n",
            " 1/18 [>.............................] - ETA: 0s - loss: 132.3640 - mae: 132.3640"
          ]
        },
        {
          "output_type": "stream",
          "name": "stderr",
          "text": [
            "WARNING:absl:Found untraced functions such as _update_step_xla while saving (showing 1 of 1). These functions will not be directly callable after loading.\n"
          ]
        },
        {
          "output_type": "stream",
          "name": "stdout",
          "text": [
            "\b\b\b\b\b\b\b\b\b\b\b\b\b\b\b\b\b\b\b\b\b\b\b\b\b\b\b\b\b\b\b\b\b\b\b\b\b\b\b\b\b\b\b\b\b\b\b\b\b\b\b\b\b\b\b\b\b\b\b\b\b\b\b\b\b\b\b\b\b\b\b\b\b\b\b\b\b\b\b\b\b\r18/18 [==============================] - 1s 36ms/step - loss: 124.7720 - mae: 124.7720 - val_loss: 644.4996 - val_mae: 644.4996\n",
            "Epoch 31/100\n",
            "18/18 [==============================] - 0s 4ms/step - loss: 116.8382 - mae: 116.8382 - val_loss: 668.0569 - val_mae: 668.0569\n",
            "Epoch 32/100\n",
            " 1/18 [>.............................] - ETA: 0s - loss: 118.4436 - mae: 118.4436"
          ]
        },
        {
          "output_type": "stream",
          "name": "stderr",
          "text": [
            "WARNING:absl:Found untraced functions such as _update_step_xla while saving (showing 1 of 1). These functions will not be directly callable after loading.\n"
          ]
        },
        {
          "output_type": "stream",
          "name": "stdout",
          "text": [
            "\b\b\b\b\b\b\b\b\b\b\b\b\b\b\b\b\b\b\b\b\b\b\b\b\b\b\b\b\b\b\b\b\b\b\b\b\b\b\b\b\b\b\b\b\b\b\b\b\b\b\b\b\b\b\b\b\b\b\b\b\b\b\b\b\b\b\b\b\b\b\b\b\b\b\b\b\b\b\b\b\b\r18/18 [==============================] - 1s 61ms/step - loss: 116.9605 - mae: 116.9605 - val_loss: 631.1653 - val_mae: 631.1653\n",
            "Epoch 33/100\n",
            "18/18 [==============================] - 0s 5ms/step - loss: 116.1641 - mae: 116.1641 - val_loss: 665.5618 - val_mae: 665.5618\n",
            "Epoch 34/100\n",
            "18/18 [==============================] - 0s 5ms/step - loss: 116.6976 - mae: 116.6976 - val_loss: 639.1680 - val_mae: 639.1680\n",
            "Epoch 35/100\n",
            "18/18 [==============================] - 0s 5ms/step - loss: 113.9285 - mae: 113.9285 - val_loss: 635.6187 - val_mae: 635.6187\n",
            "Epoch 36/100\n",
            " 1/18 [>.............................] - ETA: 0s - loss: 164.3644 - mae: 164.3644"
          ]
        },
        {
          "output_type": "stream",
          "name": "stderr",
          "text": [
            "WARNING:absl:Found untraced functions such as _update_step_xla while saving (showing 1 of 1). These functions will not be directly callable after loading.\n"
          ]
        },
        {
          "output_type": "stream",
          "name": "stdout",
          "text": [
            "\b\b\b\b\b\b\b\b\b\b\b\b\b\b\b\b\b\b\b\b\b\b\b\b\b\b\b\b\b\b\b\b\b\b\b\b\b\b\b\b\b\b\b\b\b\b\b\b\b\b\b\b\b\b\b\b\b\b\b\b\b\b\b\b\b\b\b\b\b\b\b\b\b\b\b\b\b\b\b\b\b\r18/18 [==============================] - 1s 37ms/step - loss: 116.3276 - mae: 116.3276 - val_loss: 613.2930 - val_mae: 613.2930\n",
            "Epoch 37/100\n",
            " 1/18 [>.............................] - ETA: 0s - loss: 134.9868 - mae: 134.9868"
          ]
        },
        {
          "output_type": "stream",
          "name": "stderr",
          "text": [
            "WARNING:absl:Found untraced functions such as _update_step_xla while saving (showing 1 of 1). These functions will not be directly callable after loading.\n"
          ]
        },
        {
          "output_type": "stream",
          "name": "stdout",
          "text": [
            "\b\b\b\b\b\b\b\b\b\b\b\b\b\b\b\b\b\b\b\b\b\b\b\b\b\b\b\b\b\b\b\b\b\b\b\b\b\b\b\b\b\b\b\b\b\b\b\b\b\b\b\b\b\b\b\b\b\b\b\b\b\b\b\b\b\b\b\b\b\b\b\b\b\b\b\b\b\b\b\b\b\r18/18 [==============================] - 1s 37ms/step - loss: 115.1226 - mae: 115.1226 - val_loss: 611.2570 - val_mae: 611.2570\n",
            "Epoch 38/100\n",
            "18/18 [==============================] - 0s 5ms/step - loss: 114.1030 - mae: 114.1030 - val_loss: 622.1312 - val_mae: 622.1312\n",
            "Epoch 39/100\n",
            " 1/18 [>.............................] - ETA: 0s - loss: 132.5607 - mae: 132.5607"
          ]
        },
        {
          "output_type": "stream",
          "name": "stderr",
          "text": [
            "WARNING:absl:Found untraced functions such as _update_step_xla while saving (showing 1 of 1). These functions will not be directly callable after loading.\n"
          ]
        },
        {
          "output_type": "stream",
          "name": "stdout",
          "text": [
            "\b\b\b\b\b\b\b\b\b\b\b\b\b\b\b\b\b\b\b\b\b\b\b\b\b\b\b\b\b\b\b\b\b\b\b\b\b\b\b\b\b\b\b\b\b\b\b\b\b\b\b\b\b\b\b\b\b\b\b\b\b\b\b\b\b\b\b\b\b\b\b\b\b\b\b\b\b\b\b\b\b\r18/18 [==============================] - 1s 47ms/step - loss: 114.0236 - mae: 114.0236 - val_loss: 606.2267 - val_mae: 606.2267\n",
            "Epoch 40/100\n",
            "16/18 [=========================>....] - ETA: 0s - loss: 111.9828 - mae: 111.9828"
          ]
        },
        {
          "output_type": "stream",
          "name": "stderr",
          "text": [
            "WARNING:absl:Found untraced functions such as _update_step_xla while saving (showing 1 of 1). These functions will not be directly callable after loading.\n"
          ]
        },
        {
          "output_type": "stream",
          "name": "stdout",
          "text": [
            "\b\b\b\b\b\b\b\b\b\b\b\b\b\b\b\b\b\b\b\b\b\b\b\b\b\b\b\b\b\b\b\b\b\b\b\b\b\b\b\b\b\b\b\b\b\b\b\b\b\b\b\b\b\b\b\b\b\b\b\b\b\b\b\b\b\b\b\b\b\b\b\b\b\b\b\b\b\b\b\b\b\r18/18 [==============================] - 1s 55ms/step - loss: 111.5858 - mae: 111.5858 - val_loss: 601.4215 - val_mae: 601.4215\n",
            "Epoch 41/100\n",
            "18/18 [==============================] - 0s 6ms/step - loss: 111.7303 - mae: 111.7303 - val_loss: 602.9898 - val_mae: 602.9898\n",
            "Epoch 42/100\n",
            "18/18 [==============================] - 0s 7ms/step - loss: 114.2328 - mae: 114.2328 - val_loss: 638.9105 - val_mae: 638.9105\n",
            "Epoch 43/100\n",
            "18/18 [==============================] - 0s 6ms/step - loss: 114.3165 - mae: 114.3165 - val_loss: 638.5380 - val_mae: 638.5380\n",
            "Epoch 44/100\n",
            "18/18 [==============================] - ETA: 0s - loss: 112.0259 - mae: 112.0259"
          ]
        },
        {
          "output_type": "stream",
          "name": "stderr",
          "text": [
            "WARNING:absl:Found untraced functions such as _update_step_xla while saving (showing 1 of 1). These functions will not be directly callable after loading.\n"
          ]
        },
        {
          "output_type": "stream",
          "name": "stdout",
          "text": [
            "\b\b\b\b\b\b\b\b\b\b\b\b\b\b\b\b\b\b\b\b\b\b\b\b\b\b\b\b\b\b\b\b\b\b\b\b\b\b\b\b\b\b\b\b\b\b\b\b\b\b\b\b\b\b\b\b\b\b\b\b\b\b\b\b\b\b\b\b\b\b\b\b\b\b\b\b\b\b\b\b\b\r18/18 [==============================] - 1s 55ms/step - loss: 112.0259 - mae: 112.0259 - val_loss: 586.9832 - val_mae: 586.9832\n",
            "Epoch 45/100\n",
            "18/18 [==============================] - 0s 5ms/step - loss: 109.9646 - mae: 109.9646 - val_loss: 592.5984 - val_mae: 592.5984\n",
            "Epoch 46/100\n",
            "18/18 [==============================] - 0s 5ms/step - loss: 111.9994 - mae: 111.9994 - val_loss: 616.1850 - val_mae: 616.1850\n",
            "Epoch 47/100\n",
            "18/18 [==============================] - 0s 4ms/step - loss: 114.5087 - mae: 114.5087 - val_loss: 610.5009 - val_mae: 610.5009\n",
            "Epoch 48/100\n",
            "18/18 [==============================] - 0s 4ms/step - loss: 110.1440 - mae: 110.1440 - val_loss: 595.9713 - val_mae: 595.9713\n",
            "Epoch 49/100\n",
            "18/18 [==============================] - 0s 4ms/step - loss: 113.3377 - mae: 113.3377 - val_loss: 609.2538 - val_mae: 609.2538\n",
            "Epoch 50/100\n",
            "18/18 [==============================] - 0s 5ms/step - loss: 116.1432 - mae: 116.1432 - val_loss: 650.5400 - val_mae: 650.5400\n",
            "Epoch 51/100\n",
            "18/18 [==============================] - 0s 4ms/step - loss: 112.8686 - mae: 112.8686 - val_loss: 609.7712 - val_mae: 609.7712\n",
            "Epoch 52/100\n",
            " 1/18 [>.............................] - ETA: 0s - loss: 121.7978 - mae: 121.7978"
          ]
        },
        {
          "output_type": "stream",
          "name": "stderr",
          "text": [
            "WARNING:absl:Found untraced functions such as _update_step_xla while saving (showing 1 of 1). These functions will not be directly callable after loading.\n"
          ]
        },
        {
          "output_type": "stream",
          "name": "stdout",
          "text": [
            "\b\b\b\b\b\b\b\b\b\b\b\b\b\b\b\b\b\b\b\b\b\b\b\b\b\b\b\b\b\b\b\b\b\b\b\b\b\b\b\b\b\b\b\b\b\b\b\b\b\b\b\b\b\b\b\b\b\b\b\b\b\b\b\b\b\b\b\b\b\b\b\b\b\b\b\b\b\b\b\b\b\r18/18 [==============================] - 1s 38ms/step - loss: 114.4340 - mae: 114.4340 - val_loss: 584.3478 - val_mae: 584.3478\n",
            "Epoch 53/100\n",
            "18/18 [==============================] - 0s 5ms/step - loss: 110.6895 - mae: 110.6895 - val_loss: 638.3386 - val_mae: 638.3386\n",
            "Epoch 54/100\n",
            " 1/18 [>.............................] - ETA: 0s - loss: 107.3284 - mae: 107.3284"
          ]
        },
        {
          "output_type": "stream",
          "name": "stderr",
          "text": [
            "WARNING:absl:Found untraced functions such as _update_step_xla while saving (showing 1 of 1). These functions will not be directly callable after loading.\n"
          ]
        },
        {
          "output_type": "stream",
          "name": "stdout",
          "text": [
            "\b\b\b\b\b\b\b\b\b\b\b\b\b\b\b\b\b\b\b\b\b\b\b\b\b\b\b\b\b\b\b\b\b\b\b\b\b\b\b\b\b\b\b\b\b\b\b\b\b\b\b\b\b\b\b\b\b\b\b\b\b\b\b\b\b\b\b\b\b\b\b\b\b\b\b\b\b\b\b\b\b\r18/18 [==============================] - 1s 36ms/step - loss: 110.7643 - mae: 110.7643 - val_loss: 579.8644 - val_mae: 579.8644\n",
            "Epoch 55/100\n",
            "18/18 [==============================] - 0s 4ms/step - loss: 113.9292 - mae: 113.9292 - val_loss: 597.2839 - val_mae: 597.2839\n",
            "Epoch 56/100\n",
            "18/18 [==============================] - 0s 5ms/step - loss: 111.9291 - mae: 111.9291 - val_loss: 789.5436 - val_mae: 789.5436\n",
            "Epoch 57/100\n",
            "18/18 [==============================] - 0s 5ms/step - loss: 128.0115 - mae: 128.0115 - val_loss: 631.3500 - val_mae: 631.3500\n",
            "Epoch 58/100\n",
            "18/18 [==============================] - 0s 4ms/step - loss: 120.3102 - mae: 120.3102 - val_loss: 659.1815 - val_mae: 659.1815\n",
            "Epoch 59/100\n",
            "18/18 [==============================] - 0s 4ms/step - loss: 113.7835 - mae: 113.7835 - val_loss: 656.1085 - val_mae: 656.1085\n",
            "Epoch 60/100\n",
            "18/18 [==============================] - 0s 5ms/step - loss: 113.9044 - mae: 113.9044 - val_loss: 682.7517 - val_mae: 682.7517\n",
            "Epoch 61/100\n",
            " 1/18 [>.............................] - ETA: 0s - loss: 151.6628 - mae: 151.6628"
          ]
        },
        {
          "output_type": "stream",
          "name": "stderr",
          "text": [
            "WARNING:absl:Found untraced functions such as _update_step_xla while saving (showing 1 of 1). These functions will not be directly callable after loading.\n"
          ]
        },
        {
          "output_type": "stream",
          "name": "stdout",
          "text": [
            "\b\b\b\b\b\b\b\b\b\b\b\b\b\b\b\b\b\b\b\b\b\b\b\b\b\b\b\b\b\b\b\b\b\b\b\b\b\b\b\b\b\b\b\b\b\b\b\b\b\b\b\b\b\b\b\b\b\b\b\b\b\b\b\b\b\b\b\b\b\b\b\b\b\b\b\b\b\b\b\b\b\r18/18 [==============================] - 1s 37ms/step - loss: 111.2712 - mae: 111.2712 - val_loss: 573.2762 - val_mae: 573.2762\n",
            "Epoch 62/100\n",
            " 1/18 [>.............................] - ETA: 0s - loss: 73.9498 - mae: 73.9498"
          ]
        },
        {
          "output_type": "stream",
          "name": "stderr",
          "text": [
            "WARNING:absl:Found untraced functions such as _update_step_xla while saving (showing 1 of 1). These functions will not be directly callable after loading.\n"
          ]
        },
        {
          "output_type": "stream",
          "name": "stdout",
          "text": [
            "\b\b\b\b\b\b\b\b\b\b\b\b\b\b\b\b\b\b\b\b\b\b\b\b\b\b\b\b\b\b\b\b\b\b\b\b\b\b\b\b\b\b\b\b\b\b\b\b\b\b\b\b\b\b\b\b\b\b\b\b\b\b\b\b\b\b\b\b\b\b\b\b\b\b\b\b\b\b\b\r18/18 [==============================] - 1s 38ms/step - loss: 106.7057 - mae: 106.7057 - val_loss: 570.5534 - val_mae: 570.5534\n",
            "Epoch 63/100\n",
            " 1/18 [>.............................] - ETA: 0s - loss: 89.9750 - mae: 89.9750"
          ]
        },
        {
          "output_type": "stream",
          "name": "stderr",
          "text": [
            "WARNING:absl:Found untraced functions such as _update_step_xla while saving (showing 1 of 1). These functions will not be directly callable after loading.\n"
          ]
        },
        {
          "output_type": "stream",
          "name": "stdout",
          "text": [
            "\b\b\b\b\b\b\b\b\b\b\b\b\b\b\b\b\b\b\b\b\b\b\b\b\b\b\b\b\b\b\b\b\b\b\b\b\b\b\b\b\b\b\b\b\b\b\b\b\b\b\b\b\b\b\b\b\b\b\b\b\b\b\b\b\b\b\b\b\b\b\b\b\b\b\b\b\b\b\b\r18/18 [==============================] - 1s 37ms/step - loss: 108.1693 - mae: 108.1693 - val_loss: 569.8910 - val_mae: 569.8910\n",
            "Epoch 64/100\n",
            "18/18 [==============================] - 0s 4ms/step - loss: 106.9611 - mae: 106.9611 - val_loss: 666.8349 - val_mae: 666.8349\n",
            "Epoch 65/100\n",
            "18/18 [==============================] - 0s 4ms/step - loss: 117.6863 - mae: 117.6863 - val_loss: 597.6945 - val_mae: 597.6945\n",
            "Epoch 66/100\n",
            " 1/18 [>.............................] - ETA: 0s - loss: 120.7222 - mae: 120.7222"
          ]
        },
        {
          "output_type": "stream",
          "name": "stderr",
          "text": [
            "WARNING:absl:Found untraced functions such as _update_step_xla while saving (showing 1 of 1). These functions will not be directly callable after loading.\n"
          ]
        },
        {
          "output_type": "stream",
          "name": "stdout",
          "text": [
            "\b\b\b\b\b\b\b\b\b\b\b\b\b\b\b\b\b\b\b\b\b\b\b\b\b\b\b\b\b\b\b\b\b\b\b\b\b\b\b\b\b\b\b\b\b\b\b\b\b\b\b\b\b\b\b\b\b\b\b\b\b\b\b\b\b\b\b\b\b\b\b\b\b\b\b\b\b\b\b\b\b\r18/18 [==============================] - 1s 38ms/step - loss: 109.3348 - mae: 109.3348 - val_loss: 569.2255 - val_mae: 569.2255\n",
            "Epoch 67/100\n",
            "18/18 [==============================] - 0s 5ms/step - loss: 105.6815 - mae: 105.6815 - val_loss: 637.6056 - val_mae: 637.6056\n",
            "Epoch 68/100\n",
            "18/18 [==============================] - 0s 4ms/step - loss: 112.3201 - mae: 112.3201 - val_loss: 648.0038 - val_mae: 648.0038\n",
            "Epoch 69/100\n",
            "18/18 [==============================] - 0s 5ms/step - loss: 120.0777 - mae: 120.0777 - val_loss: 700.5358 - val_mae: 700.5358\n",
            "Epoch 70/100\n",
            "18/18 [==============================] - 0s 4ms/step - loss: 131.0706 - mae: 131.0706 - val_loss: 694.9090 - val_mae: 694.9090\n",
            "Epoch 71/100\n",
            "18/18 [==============================] - 0s 5ms/step - loss: 121.3916 - mae: 121.3916 - val_loss: 590.8796 - val_mae: 590.8796\n",
            "Epoch 72/100\n",
            "18/18 [==============================] - 0s 5ms/step - loss: 110.3456 - mae: 110.3456 - val_loss: 581.1583 - val_mae: 581.1583\n",
            "Epoch 73/100\n",
            "18/18 [==============================] - 0s 5ms/step - loss: 108.2557 - mae: 108.2557 - val_loss: 571.8918 - val_mae: 571.8918\n",
            "Epoch 74/100\n",
            "18/18 [==============================] - 0s 4ms/step - loss: 110.8524 - mae: 110.8524 - val_loss: 569.5089 - val_mae: 569.5089\n",
            "Epoch 75/100\n",
            "18/18 [==============================] - 0s 4ms/step - loss: 110.6455 - mae: 110.6455 - val_loss: 655.8553 - val_mae: 655.8553\n",
            "Epoch 76/100\n",
            "18/18 [==============================] - 0s 6ms/step - loss: 113.8815 - mae: 113.8815 - val_loss: 628.2634 - val_mae: 628.2634\n",
            "Epoch 77/100\n",
            "18/18 [==============================] - 0s 5ms/step - loss: 108.2959 - mae: 108.2959 - val_loss: 583.0352 - val_mae: 583.0352\n",
            "Epoch 78/100\n",
            "18/18 [==============================] - 0s 4ms/step - loss: 108.3515 - mae: 108.3515 - val_loss: 588.7352 - val_mae: 588.7352\n",
            "Epoch 79/100\n",
            "18/18 [==============================] - 0s 4ms/step - loss: 107.8426 - mae: 107.8426 - val_loss: 574.3905 - val_mae: 574.3905\n",
            "Epoch 80/100\n",
            "18/18 [==============================] - 0s 4ms/step - loss: 107.5023 - mae: 107.5023 - val_loss: 599.0839 - val_mae: 599.0839\n",
            "Epoch 81/100\n",
            "18/18 [==============================] - 0s 4ms/step - loss: 107.9594 - mae: 107.9594 - val_loss: 575.9960 - val_mae: 575.9960\n",
            "Epoch 82/100\n",
            " 1/18 [>.............................] - ETA: 0s - loss: 189.8303 - mae: 189.8303"
          ]
        },
        {
          "output_type": "stream",
          "name": "stderr",
          "text": [
            "WARNING:absl:Found untraced functions such as _update_step_xla while saving (showing 1 of 1). These functions will not be directly callable after loading.\n"
          ]
        },
        {
          "output_type": "stream",
          "name": "stdout",
          "text": [
            "\b\b\b\b\b\b\b\b\b\b\b\b\b\b\b\b\b\b\b\b\b\b\b\b\b\b\b\b\b\b\b\b\b\b\b\b\b\b\b\b\b\b\b\b\b\b\b\b\b\b\b\b\b\b\b\b\b\b\b\b\b\b\b\b\b\b\b\b\b\b\b\b\b\b\b\b\b\b\b\b\b\r18/18 [==============================] - 1s 35ms/step - loss: 117.6177 - mae: 117.6177 - val_loss: 567.0255 - val_mae: 567.0255\n",
            "Epoch 83/100\n",
            "18/18 [==============================] - 0s 5ms/step - loss: 114.2115 - mae: 114.2115 - val_loss: 695.3563 - val_mae: 695.3563\n",
            "Epoch 84/100\n",
            "18/18 [==============================] - 0s 5ms/step - loss: 114.6356 - mae: 114.6356 - val_loss: 568.4750 - val_mae: 568.4750\n",
            "Epoch 85/100\n",
            "18/18 [==============================] - 0s 4ms/step - loss: 108.1980 - mae: 108.1980 - val_loss: 567.1545 - val_mae: 567.1545\n",
            "Epoch 86/100\n",
            "18/18 [==============================] - 0s 4ms/step - loss: 107.0754 - mae: 107.0754 - val_loss: 570.8162 - val_mae: 570.8162\n",
            "Epoch 87/100\n",
            "18/18 [==============================] - 0s 4ms/step - loss: 105.6515 - mae: 105.6515 - val_loss: 580.9564 - val_mae: 580.9564\n",
            "Epoch 88/100\n",
            "18/18 [==============================] - 0s 5ms/step - loss: 106.3959 - mae: 106.3959 - val_loss: 569.0807 - val_mae: 569.0807\n",
            "Epoch 89/100\n",
            " 1/18 [>.............................] - ETA: 0s - loss: 101.0583 - mae: 101.0583"
          ]
        },
        {
          "output_type": "stream",
          "name": "stderr",
          "text": [
            "WARNING:absl:Found untraced functions such as _update_step_xla while saving (showing 1 of 1). These functions will not be directly callable after loading.\n"
          ]
        },
        {
          "output_type": "stream",
          "name": "stdout",
          "text": [
            "\b\b\b\b\b\b\b\b\b\b\b\b\b\b\b\b\b\b\b\b\b\b\b\b\b\b\b\b\b\b\b\b\b\b\b\b\b\b\b\b\b\b\b\b\b\b\b\b\b\b\b\b\b\b\b\b\b\b\b\b\b\b\b\b\b\b\b\b\b\b\b\b\b\b\b\b\b\b\b\b\b\r18/18 [==============================] - 1s 35ms/step - loss: 106.1459 - mae: 106.1459 - val_loss: 563.5523 - val_mae: 563.5523\n",
            "Epoch 90/100\n",
            "18/18 [==============================] - 0s 5ms/step - loss: 105.5183 - mae: 105.5183 - val_loss: 598.5599 - val_mae: 598.5599\n",
            "Epoch 91/100\n",
            "18/18 [==============================] - 0s 4ms/step - loss: 110.0172 - mae: 110.0172 - val_loss: 578.3920 - val_mae: 578.3920\n",
            "Epoch 92/100\n",
            "18/18 [==============================] - 0s 4ms/step - loss: 110.0705 - mae: 110.0705 - val_loss: 566.3077 - val_mae: 566.3077\n",
            "Epoch 93/100\n",
            "18/18 [==============================] - 0s 4ms/step - loss: 118.1133 - mae: 118.1133 - val_loss: 617.8469 - val_mae: 617.8469\n",
            "Epoch 94/100\n",
            "18/18 [==============================] - 0s 4ms/step - loss: 115.1866 - mae: 115.1866 - val_loss: 603.8304 - val_mae: 603.8304\n",
            "Epoch 95/100\n",
            "18/18 [==============================] - 0s 4ms/step - loss: 107.2335 - mae: 107.2335 - val_loss: 565.1974 - val_mae: 565.1974\n",
            "Epoch 96/100\n",
            "18/18 [==============================] - 0s 4ms/step - loss: 114.0754 - mae: 114.0754 - val_loss: 667.2597 - val_mae: 667.2597\n",
            "Epoch 97/100\n",
            "18/18 [==============================] - 0s 4ms/step - loss: 110.5491 - mae: 110.5491 - val_loss: 613.4246 - val_mae: 613.4246\n",
            "Epoch 98/100\n",
            "18/18 [==============================] - 0s 5ms/step - loss: 108.9591 - mae: 108.9591 - val_loss: 576.6081 - val_mae: 576.6081\n",
            "Epoch 99/100\n",
            "18/18 [==============================] - 0s 4ms/step - loss: 106.9745 - mae: 106.9745 - val_loss: 564.1527 - val_mae: 564.1527\n",
            "Epoch 100/100\n",
            "18/18 [==============================] - 0s 4ms/step - loss: 113.4341 - mae: 113.4341 - val_loss: 670.2364 - val_mae: 670.2364\n"
          ]
        }
      ]
    },
    {
      "cell_type": "code",
      "source": [
        "model_1.evaluate(test_windows,test_labels)"
      ],
      "metadata": {
        "colab": {
          "base_uri": "https://localhost:8080/"
        },
        "id": "5MfZbhUaRNGJ",
        "outputId": "236cc877-afd5-4b97-96b9-9c41b919f65f"
      },
      "execution_count": null,
      "outputs": [
        {
          "output_type": "stream",
          "name": "stdout",
          "text": [
            "18/18 [==============================] - 0s 2ms/step - loss: 670.2364 - mae: 670.2364\n"
          ]
        },
        {
          "output_type": "execute_result",
          "data": {
            "text/plain": [
              "[670.2363891601562, 670.2363891601562]"
            ]
          },
          "metadata": {},
          "execution_count": 39
        }
      ]
    },
    {
      "cell_type": "code",
      "source": [
        "# Load in best saved model and evaluate on test data\n",
        "saved_model_1 = tf.keras.models.load_model(\"model_experiment/model_1_dense\")\n",
        "saved_model_1.evaluate(test_windows,test_labels)"
      ],
      "metadata": {
        "colab": {
          "base_uri": "https://localhost:8080/"
        },
        "id": "nY2du9FPs7GB",
        "outputId": "5b3011c5-88b8-4201-8026-89537d816c7c"
      },
      "execution_count": null,
      "outputs": [
        {
          "output_type": "stream",
          "name": "stdout",
          "text": [
            "18/18 [==============================] - 0s 2ms/step - loss: 563.5522 - mae: 563.5522\n"
          ]
        },
        {
          "output_type": "execute_result",
          "data": {
            "text/plain": [
              "[563.55224609375, 563.55224609375]"
            ]
          },
          "metadata": {},
          "execution_count": 40
        }
      ]
    },
    {
      "cell_type": "markdown",
      "source": [
        "## Making forecast with a model ( on test dataset )\n",
        "Since we are going to run more modelling experiments, lets write a function which can return the predictions given a model and input data\n",
        "\n",
        "* Take a trained model\n",
        "* Take in some input data\n",
        "* Pass the input data to the model\n",
        "* Returns the prediction"
      ],
      "metadata": {
        "id": "ZCkrqt7RtdEC"
      }
    },
    {
      "cell_type": "code",
      "source": [
        "def make_preds(model,input_data):\n",
        "  \"\"\"\n",
        "    Uses model to make predictions on input data\n",
        "\n",
        "    Args:\n",
        "      model: trained model\n",
        "      input_data: windowed input data ( same kind as the model is trained on)\n",
        "    Returns:\n",
        "      model prediction on input data\n",
        "  \"\"\"\n",
        "  return tf.squeeze(model.predict(input_data))"
      ],
      "metadata": {
        "id": "ilIrBtWfvPX8"
      },
      "execution_count": null,
      "outputs": []
    },
    {
      "cell_type": "code",
      "source": [
        "model_1_preds = make_preds(model_1,test_windows)\n",
        "model_1_preds[:10], len(model_1_preds)"
      ],
      "metadata": {
        "colab": {
          "base_uri": "https://localhost:8080/"
        },
        "id": "G5SuXN51yxIv",
        "outputId": "5c2bd1bc-123f-4117-ad53-ae7ad1987530"
      },
      "execution_count": null,
      "outputs": [
        {
          "output_type": "stream",
          "name": "stdout",
          "text": [
            "18/18 [==============================] - 0s 7ms/step\n"
          ]
        },
        {
          "output_type": "execute_result",
          "data": {
            "text/plain": [
              "(<tf.Tensor: shape=(10,), dtype=float32, numpy=\n",
              " array([8670.272, 8624.59 , 8865.709, 8586.955, 8595.436, 8570.949,\n",
              "        8503.167, 8365.449, 8303.16 , 8367.681], dtype=float32)>,\n",
              " 556)"
            ]
          },
          "metadata": {},
          "execution_count": 43
        }
      ]
    },
    {
      "cell_type": "markdown",
      "source": [
        "### Now lets evaluate our model using the `evaluate_model` method we create above in this notebook"
      ],
      "metadata": {
        "id": "hL6BaSCly5yu"
      }
    },
    {
      "cell_type": "code",
      "source": [
        "test_labels.shape, model_1_preds.shape"
      ],
      "metadata": {
        "colab": {
          "base_uri": "https://localhost:8080/"
        },
        "id": "wp_xpmdSzndS",
        "outputId": "cac51384-13c1-401d-be8d-392d3a69d307"
      },
      "execution_count": null,
      "outputs": [
        {
          "output_type": "execute_result",
          "data": {
            "text/plain": [
              "((556, 1), TensorShape([556]))"
            ]
          },
          "metadata": {},
          "execution_count": 45
        }
      ]
    },
    {
      "cell_type": "code",
      "source": [
        "evaluate_pred?"
      ],
      "metadata": {
        "id": "aNCxAmRvz2J2"
      },
      "execution_count": null,
      "outputs": []
    },
    {
      "cell_type": "code",
      "source": [
        "model_1_results = evaluate_pred(y_true=tf.squeeze(test_labels)\n",
        "                                ,y_pred=model_1_preds)\n",
        "model_1_results"
      ],
      "metadata": {
        "colab": {
          "base_uri": "https://localhost:8080/"
        },
        "id": "6nAWS9lqzSge",
        "outputId": "0d70cc8d-f260-4d72-c800-1ed545e42666"
      },
      "execution_count": null,
      "outputs": [
        {
          "output_type": "execute_result",
          "data": {
            "text/plain": [
              "{'mae': 670.2364,\n",
              " 'mse': 1384025.6,\n",
              " 'rmse': 1176.4462,\n",
              " 'mape': 3.0963743,\n",
              " 'mase': 1.1774197}"
            ]
          },
          "metadata": {},
          "execution_count": 49
        }
      ]
    },
    {
      "cell_type": "markdown",
      "source": [
        "### Let us use the `plot_time_series` function to plot the `model_1_preds` against the test_data"
      ],
      "metadata": {
        "id": "Q354fURQzmiJ"
      }
    },
    {
      "cell_type": "code",
      "source": [
        "offset= 300\n",
        "plt.figure(figsize=(10,7))\n",
        "\n",
        "plot_time_series(timesteps=X_test[-len(test_windows):],values=test_labels[:,0]\n",
        "                 ,start=offset,label=\"Test data\")\n",
        "plot_time_series(timesteps=X_test[-len(test_windows):],values=model_1_preds\n",
        "                 ,start=offset,label=\"model_1_preds\",format=\"-\")\n"
      ],
      "metadata": {
        "colab": {
          "base_uri": "https://localhost:8080/",
          "height": 535
        },
        "id": "l8Bhxd-yzk0S",
        "outputId": "bfa630fe-ca1f-4f73-85d3-8ee1371f1202"
      },
      "execution_count": null,
      "outputs": [
        {
          "output_type": "display_data",
          "data": {
            "text/plain": [
              "<Figure size 1000x700 with 1 Axes>"
            ],
            "image/png": "[encoded data removed]"
          },
          "metadata": {}
        }
      ]
    },
    {
      "cell_type": "markdown",
      "source": [
        "## Model 2: Window size=30, Horizon=1\n",
        "We will start with our second modelling experiment where the window size=30 and horizon=1\n",
        "\n",
        "We will use the functions we have created earlier to create our train/test feature and train/test labels\n"
      ],
      "metadata": {
        "id": "NDKMNXxE1mog"
      }
    },
    {
      "cell_type": "code",
      "source": [
        "HORIZON=1\n",
        "WINDOW_SIZE=30"
      ],
      "metadata": {
        "id": "-u8toHb85CNf"
      },
      "execution_count": null,
      "outputs": []
    },
    {
      "cell_type": "code",
      "source": [
        "full_windows, full_labels = make_windows(prices,window_size=WINDOW_SIZE\n",
        "                                         ,horizon=HORIZON)\n",
        "\n",
        "len(full_windows), len(full_labels)"
      ],
      "metadata": {
        "colab": {
          "base_uri": "https://localhost:8080/"
        },
        "id": "lW1KOh2j5LTi",
        "outputId": "00a16e9e-c4c2-4f26-f3ff-cb81d0211ef5"
      },
      "execution_count": null,
      "outputs": [
        {
          "output_type": "execute_result",
          "data": {
            "text/plain": [
              "(2757, 2757)"
            ]
          },
          "metadata": {},
          "execution_count": 55
        }
      ]
    },
    {
      "cell_type": "code",
      "source": [
        "train_window, train_label, test_window , test_label=make_train_test_split(full_windows\n",
        "                                                                         ,full_labels\n",
        "                                                                         ,test_split=0.2)\n",
        "len(train_window), len(train_label), len(test_window), len(test_label)\n"
      ],
      "metadata": {
        "colab": {
          "base_uri": "https://localhost:8080/"
        },
        "id": "U4nDH_r25ZsU",
        "outputId": "2d8457c1-bd6c-4197-8858-4b8ad5102eb6"
      },
      "execution_count": null,
      "outputs": [
        {
          "output_type": "execute_result",
          "data": {
            "text/plain": [
              "(2205, 2205, 552, 552)"
            ]
          },
          "metadata": {},
          "execution_count": 58
        }
      ]
    },
    {
      "cell_type": "code",
      "source": [
        "import tensorflow as tf\n",
        "from tensorflow.keras import layers\n",
        "\n",
        "# set seed\n",
        "tf.random.set_seed(42)\n",
        "\n",
        "# Create model\n",
        "model_2 = tf.keras.Sequential([\n",
        "    layers.Dense(128,activation=\"relu\")\n",
        "    ,layers.Dense(HORIZON,activation=\"linear\")\n",
        "],name=\"model_2_Dense\")\n",
        "\n",
        "model_2.compile(loss=\"mae\"\n",
        "                 ,optimizer=tf.keras.optimizers.Adam()\n",
        "                 ,metrics=[\"mae\"]\n",
        "                 )\n",
        "history_2 = model_2.fit(x=train_window\n",
        "                        ,y=train_label\n",
        "                        ,epochs=100\n",
        "                        ,verbose=1\n",
        "                        ,validation_data=(test_window,test_label)\n",
        "                        ,callbacks=[create_model_checkpoint(model_name=model_2.name)])\n",
        "\n",
        "\n",
        "\n"
      ],
      "metadata": {
        "colab": {
          "base_uri": "https://localhost:8080/"
        },
        "id": "ATKQ-xPN5yt8",
        "outputId": "39ddf790-9d0b-4167-8973-272b99889f89"
      },
      "execution_count": null,
      "outputs": [
        {
          "output_type": "stream",
          "name": "stdout",
          "text": [
            "Epoch 1/100\n",
            "56/69 [=======================>......] - ETA: 0s - loss: 620.1631 - mae: 620.1631"
          ]
        },
        {
          "output_type": "stream",
          "name": "stderr",
          "text": [
            "WARNING:absl:Found untraced functions such as _update_step_xla while saving (showing 1 of 1). These functions will not be directly callable after loading.\n"
          ]
        },
        {
          "output_type": "stream",
          "name": "stdout",
          "text": [
            "\b\b\b\b\b\b\b\b\b\b\b\b\b\b\b\b\b\b\b\b\b\b\b\b\b\b\b\b\b\b\b\b\b\b\b\b\b\b\b\b\b\b\b\b\b\b\b\b\b\b\b\b\b\b\b\b\b\b\b\b\b\b\b\b\b\b\b\b\b\b\b\b\b\b\b\b\b\b\b\b\b\r69/69 [==============================] - 2s 16ms/step - loss: 551.4172 - mae: 551.4172 - val_loss: 1083.5880 - val_mae: 1083.5880\n",
            "Epoch 2/100\n",
            "69/69 [==============================] - 0s 4ms/step - loss: 218.5343 - mae: 218.5343 - val_loss: 1337.0811 - val_mae: 1337.0811\n",
            "Epoch 3/100\n",
            "65/69 [===========================>..] - ETA: 0s - loss: 179.6153 - mae: 179.6153"
          ]
        },
        {
          "output_type": "stream",
          "name": "stderr",
          "text": [
            "WARNING:absl:Found untraced functions such as _update_step_xla while saving (showing 1 of 1). These functions will not be directly callable after loading.\n"
          ]
        },
        {
          "output_type": "stream",
          "name": "stdout",
          "text": [
            "\b\b\b\b\b\b\b\b\b\b\b\b\b\b\b\b\b\b\b\b\b\b\b\b\b\b\b\b\b\b\b\b\b\b\b\b\b\b\b\b\b\b\b\b\b\b\b\b\b\b\b\b\b\b\b\b\b\b\b\b\b\b\b\b\b\b\b\b\b\b\b\b\b\b\b\b\b\b\b\b\b\r69/69 [==============================] - 1s 21ms/step - loss: 178.8003 - mae: 178.8003 - val_loss: 901.9918 - val_mae: 901.9918\n",
            "Epoch 4/100\n",
            "69/69 [==============================] - 0s 4ms/step - loss: 214.4983 - mae: 214.4983 - val_loss: 972.3517 - val_mae: 972.3517\n",
            "Epoch 5/100\n",
            "43/69 [=================>............] - ETA: 0s - loss: 157.4948 - mae: 157.4948"
          ]
        },
        {
          "output_type": "stream",
          "name": "stderr",
          "text": [
            "WARNING:absl:Found untraced functions such as _update_step_xla while saving (showing 1 of 1). These functions will not be directly callable after loading.\n"
          ]
        },
        {
          "output_type": "stream",
          "name": "stdout",
          "text": [
            "\b\b\b\b\b\b\b\b\b\b\b\b\b\b\b\b\b\b\b\b\b\b\b\b\b\b\b\b\b\b\b\b\b\b\b\b\b\b\b\b\b\b\b\b\b\b\b\b\b\b\b\b\b\b\b\b\b\b\b\b\b\b\b\b\b\b\b\b\b\b\b\b\b\b\b\b\b\b\b\b\b\r69/69 [==============================] - 1s 11ms/step - loss: 163.3219 - mae: 163.3219 - val_loss: 792.3395 - val_mae: 792.3395\n",
            "Epoch 6/100\n",
            "52/69 [=====================>........] - ETA: 0s - loss: 169.9726 - mae: 169.9726"
          ]
        },
        {
          "output_type": "stream",
          "name": "stderr",
          "text": [
            "WARNING:absl:Found untraced functions such as _update_step_xla while saving (showing 1 of 1). These functions will not be directly callable after loading.\n"
          ]
        },
        {
          "output_type": "stream",
          "name": "stdout",
          "text": [
            "\b\b\b\b\b\b\b\b\b\b\b\b\b\b\b\b\b\b\b\b\b\b\b\b\b\b\b\b\b\b\b\b\b\b\b\b\b\b\b\b\b\b\b\b\b\b\b\b\b\b\b\b\b\b\b\b\b\b\b\b\b\b\b\b\b\b\b\b\b\b\b\b\b\b\b\b\b\b\b\b\b\r69/69 [==============================] - 1s 11ms/step - loss: 161.4892 - mae: 161.4892 - val_loss: 789.0844 - val_mae: 789.0844\n",
            "Epoch 7/100\n",
            "69/69 [==============================] - 0s 3ms/step - loss: 168.6597 - mae: 168.6597 - val_loss: 1024.2445 - val_mae: 1024.2445\n",
            "Epoch 8/100\n",
            "69/69 [==============================] - 0s 3ms/step - loss: 148.2304 - mae: 148.2304 - val_loss: 959.1981 - val_mae: 959.1981\n",
            "Epoch 9/100\n",
            "52/69 [=====================>........] - ETA: 0s - loss: 148.8140 - mae: 148.8140"
          ]
        },
        {
          "output_type": "stream",
          "name": "stderr",
          "text": [
            "WARNING:absl:Found untraced functions such as _update_step_xla while saving (showing 1 of 1). These functions will not be directly callable after loading.\n"
          ]
        },
        {
          "output_type": "stream",
          "name": "stdout",
          "text": [
            "\b\b\b\b\b\b\b\b\b\b\b\b\b\b\b\b\b\b\b\b\b\b\b\b\b\b\b\b\b\b\b\b\b\b\b\b\b\b\b\b\b\b\b\b\b\b\b\b\b\b\b\b\b\b\b\b\b\b\b\b\b\b\b\b\b\b\b\b\b\b\b\b\b\b\b\b\b\b\b\b\b\r69/69 [==============================] - 1s 11ms/step - loss: 151.7644 - mae: 151.7644 - val_loss: 711.5560 - val_mae: 711.5560\n",
            "Epoch 10/100\n",
            "58/69 [========================>.....] - ETA: 0s - loss: 148.4801 - mae: 148.4801"
          ]
        },
        {
          "output_type": "stream",
          "name": "stderr",
          "text": [
            "WARNING:absl:Found untraced functions such as _update_step_xla while saving (showing 1 of 1). These functions will not be directly callable after loading.\n"
          ]
        },
        {
          "output_type": "stream",
          "name": "stdout",
          "text": [
            "\b\b\b\b\b\b\b\b\b\b\b\b\b\b\b\b\b\b\b\b\b\b\b\b\b\b\b\b\b\b\b\b\b\b\b\b\b\b\b\b\b\b\b\b\b\b\b\b\b\b\b\b\b\b\b\b\b\b\b\b\b\b\b\b\b\b\b\b\b\b\b\b\b\b\b\b\b\b\b\b\b\r69/69 [==============================] - 1s 11ms/step - loss: 144.7743 - mae: 144.7743 - val_loss: 702.4862 - val_mae: 702.4862\n",
            "Epoch 11/100\n",
            "59/69 [========================>.....] - ETA: 0s - loss: 149.8535 - mae: 149.8535"
          ]
        },
        {
          "output_type": "stream",
          "name": "stderr",
          "text": [
            "WARNING:absl:Found untraced functions such as _update_step_xla while saving (showing 1 of 1). These functions will not be directly callable after loading.\n"
          ]
        },
        {
          "output_type": "stream",
          "name": "stdout",
          "text": [
            "\b\b\b\b\b\b\b\b\b\b\b\b\b\b\b\b\b\b\b\b\b\b\b\b\b\b\b\b\b\b\b\b\b\b\b\b\b\b\b\b\b\b\b\b\b\b\b\b\b\b\b\b\b\b\b\b\b\b\b\b\b\b\b\b\b\b\b\b\b\b\b\b\b\b\b\b\b\b\b\b\b\r69/69 [==============================] - 1s 11ms/step - loss: 147.0139 - mae: 147.0139 - val_loss: 682.6910 - val_mae: 682.6910\n",
            "Epoch 12/100\n",
            "69/69 [==============================] - 0s 3ms/step - loss: 136.3236 - mae: 136.3236 - val_loss: 819.9323 - val_mae: 819.9323\n",
            "Epoch 13/100\n",
            "69/69 [==============================] - 0s 3ms/step - loss: 143.6075 - mae: 143.6075 - val_loss: 905.7053 - val_mae: 905.7053\n",
            "Epoch 14/100\n",
            "69/69 [==============================] - 0s 3ms/step - loss: 139.9405 - mae: 139.9405 - val_loss: 724.4088 - val_mae: 724.4088\n",
            "Epoch 15/100\n",
            "69/69 [==============================] - 0s 3ms/step - loss: 196.9353 - mae: 196.9353 - val_loss: 1382.9548 - val_mae: 1382.9548\n",
            "Epoch 16/100\n",
            "69/69 [==============================] - 0s 3ms/step - loss: 153.1789 - mae: 153.1789 - val_loss: 1174.4281 - val_mae: 1174.4281\n",
            "Epoch 17/100\n",
            "69/69 [==============================] - 0s 3ms/step - loss: 167.6864 - mae: 167.6864 - val_loss: 729.4026 - val_mae: 729.4026\n",
            "Epoch 18/100\n",
            "56/69 [=======================>......] - ETA: 0s - loss: 145.9091 - mae: 145.9091"
          ]
        },
        {
          "output_type": "stream",
          "name": "stderr",
          "text": [
            "WARNING:absl:Found untraced functions such as _update_step_xla while saving (showing 1 of 1). These functions will not be directly callable after loading.\n"
          ]
        },
        {
          "output_type": "stream",
          "name": "stdout",
          "text": [
            "\b\b\b\b\b\b\b\b\b\b\b\b\b\b\b\b\b\b\b\b\b\b\b\b\b\b\b\b\b\b\b\b\b\b\b\b\b\b\b\b\b\b\b\b\b\b\b\b\b\b\b\b\b\b\b\b\b\b\b\b\b\b\b\b\b\b\b\b\b\b\b\b\b\b\b\b\b\b\b\b\b\r69/69 [==============================] - 1s 11ms/step - loss: 149.1245 - mae: 149.1245 - val_loss: 630.4102 - val_mae: 630.4102\n",
            "Epoch 19/100\n",
            "69/69 [==============================] - 0s 3ms/step - loss: 138.7013 - mae: 138.7013 - val_loss: 1367.8477 - val_mae: 1367.8477\n",
            "Epoch 20/100\n",
            "69/69 [==============================] - 0s 3ms/step - loss: 161.1037 - mae: 161.1037 - val_loss: 895.1210 - val_mae: 895.1210\n",
            "Epoch 21/100\n",
            "69/69 [==============================] - 0s 3ms/step - loss: 147.9379 - mae: 147.9379 - val_loss: 910.4041 - val_mae: 910.4041\n",
            "Epoch 22/100\n",
            "69/69 [==============================] - 0s 3ms/step - loss: 148.7256 - mae: 148.7256 - val_loss: 636.0518 - val_mae: 636.0518\n",
            "Epoch 23/100\n",
            "69/69 [==============================] - 0s 3ms/step - loss: 151.7493 - mae: 151.7493 - val_loss: 1461.2512 - val_mae: 1461.2512\n",
            "Epoch 24/100\n",
            "69/69 [==============================] - 0s 3ms/step - loss: 180.7482 - mae: 180.7482 - val_loss: 772.6065 - val_mae: 772.6065\n",
            "Epoch 25/100\n",
            "69/69 [==============================] - 0s 3ms/step - loss: 127.8233 - mae: 127.8233 - val_loss: 830.4228 - val_mae: 830.4228\n",
            "Epoch 26/100\n",
            "69/69 [==============================] - 0s 3ms/step - loss: 139.6774 - mae: 139.6774 - val_loss: 1135.9880 - val_mae: 1135.9880\n",
            "Epoch 27/100\n",
            "54/69 [======================>.......] - ETA: 0s - loss: 140.8382 - mae: 140.8382"
          ]
        },
        {
          "output_type": "stream",
          "name": "stderr",
          "text": [
            "WARNING:absl:Found untraced functions such as _update_step_xla while saving (showing 1 of 1). These functions will not be directly callable after loading.\n"
          ]
        },
        {
          "output_type": "stream",
          "name": "stdout",
          "text": [
            "\b\b\b\b\b\b\b\b\b\b\b\b\b\b\b\b\b\b\b\b\b\b\b\b\b\b\b\b\b\b\b\b\b\b\b\b\b\b\b\b\b\b\b\b\b\b\b\b\b\b\b\b\b\b\b\b\b\b\b\b\b\b\b\b\b\b\b\b\b\b\b\b\b\b\b\b\b\b\b\b\b\r69/69 [==============================] - 1s 11ms/step - loss: 145.6409 - mae: 145.6409 - val_loss: 611.2093 - val_mae: 611.2093\n",
            "Epoch 28/100\n",
            "69/69 [==============================] - 0s 3ms/step - loss: 146.0807 - mae: 146.0807 - val_loss: 751.6107 - val_mae: 751.6107\n",
            "Epoch 29/100\n",
            "69/69 [==============================] - 0s 3ms/step - loss: 124.8781 - mae: 124.8781 - val_loss: 661.9066 - val_mae: 661.9066\n",
            "Epoch 30/100\n",
            "69/69 [==============================] - 0s 3ms/step - loss: 142.3227 - mae: 142.3227 - val_loss: 676.3108 - val_mae: 676.3108\n",
            "Epoch 31/100\n",
            "69/69 [==============================] - 0s 3ms/step - loss: 127.0674 - mae: 127.0674 - val_loss: 633.9117 - val_mae: 633.9117\n",
            "Epoch 32/100\n",
            "69/69 [==============================] - 0s 3ms/step - loss: 130.3732 - mae: 130.3732 - val_loss: 777.4150 - val_mae: 777.4150\n",
            "Epoch 33/100\n",
            "69/69 [==============================] - 0s 3ms/step - loss: 119.9974 - mae: 119.9974 - val_loss: 816.9276 - val_mae: 816.9276\n",
            "Epoch 34/100\n",
            "69/69 [==============================] - 0s 3ms/step - loss: 139.4877 - mae: 139.4877 - val_loss: 1118.4867 - val_mae: 1118.4867\n",
            "Epoch 35/100\n",
            "69/69 [==============================] - 0s 4ms/step - loss: 143.1843 - mae: 143.1843 - val_loss: 888.3168 - val_mae: 888.3168\n",
            "Epoch 36/100\n",
            "69/69 [==============================] - 0s 4ms/step - loss: 118.1521 - mae: 118.1521 - val_loss: 648.7201 - val_mae: 648.7201\n",
            "Epoch 37/100\n",
            "69/69 [==============================] - 0s 4ms/step - loss: 150.1644 - mae: 150.1644 - val_loss: 712.5863 - val_mae: 712.5863\n",
            "Epoch 38/100\n",
            "69/69 [==============================] - 0s 4ms/step - loss: 123.2102 - mae: 123.2102 - val_loss: 650.3954 - val_mae: 650.3954\n",
            "Epoch 39/100\n",
            "69/69 [==============================] - 0s 4ms/step - loss: 136.9581 - mae: 136.9581 - val_loss: 888.9959 - val_mae: 888.9959\n",
            "Epoch 40/100\n",
            "69/69 [==============================] - 0s 4ms/step - loss: 146.6680 - mae: 146.6680 - val_loss: 1245.3069 - val_mae: 1245.3069\n",
            "Epoch 41/100\n",
            "69/69 [==============================] - 0s 4ms/step - loss: 136.5831 - mae: 136.5831 - val_loss: 744.3143 - val_mae: 744.3143\n",
            "Epoch 42/100\n",
            "56/69 [=======================>......] - ETA: 0s - loss: 136.3910 - mae: 136.3910"
          ]
        },
        {
          "output_type": "stream",
          "name": "stderr",
          "text": [
            "WARNING:absl:Found untraced functions such as _update_step_xla while saving (showing 1 of 1). These functions will not be directly callable after loading.\n"
          ]
        },
        {
          "output_type": "stream",
          "name": "stdout",
          "text": [
            "\b\b\b\b\b\b\b\b\b\b\b\b\b\b\b\b\b\b\b\b\b\b\b\b\b\b\b\b\b\b\b\b\b\b\b\b\b\b\b\b\b\b\b\b\b\b\b\b\b\b\b\b\b\b\b\b\b\b\b\b\b\b\b\b\b\b\b\b\b\b\b\b\b\b\b\b\b\b\b\b\b\r69/69 [==============================] - 1s 13ms/step - loss: 131.6156 - mae: 131.6156 - val_loss: 592.6143 - val_mae: 592.6143\n",
            "Epoch 43/100\n",
            "69/69 [==============================] - 0s 3ms/step - loss: 137.4030 - mae: 137.4030 - val_loss: 601.9695 - val_mae: 601.9695\n",
            "Epoch 44/100\n",
            "69/69 [==============================] - 0s 3ms/step - loss: 120.8819 - mae: 120.8819 - val_loss: 614.7012 - val_mae: 614.7012\n",
            "Epoch 45/100\n",
            "69/69 [==============================] - 0s 3ms/step - loss: 136.4604 - mae: 136.4604 - val_loss: 1370.8997 - val_mae: 1370.8997\n",
            "Epoch 46/100\n",
            "69/69 [==============================] - 0s 3ms/step - loss: 139.3648 - mae: 139.3648 - val_loss: 655.4042 - val_mae: 655.4042\n",
            "Epoch 47/100\n",
            "69/69 [==============================] - 0s 3ms/step - loss: 125.2048 - mae: 125.2048 - val_loss: 1443.2543 - val_mae: 1443.2543\n",
            "Epoch 48/100\n",
            "69/69 [==============================] - 0s 3ms/step - loss: 154.1074 - mae: 154.1074 - val_loss: 624.4426 - val_mae: 624.4426\n",
            "Epoch 49/100\n",
            "69/69 [==============================] - 0s 3ms/step - loss: 136.9995 - mae: 136.9995 - val_loss: 964.1660 - val_mae: 964.1660\n",
            "Epoch 50/100\n",
            "69/69 [==============================] - 0s 3ms/step - loss: 148.7442 - mae: 148.7442 - val_loss: 605.7188 - val_mae: 605.7188\n",
            "Epoch 51/100\n",
            "69/69 [==============================] - 0s 3ms/step - loss: 125.6303 - mae: 125.6303 - val_loss: 612.7175 - val_mae: 612.7175\n",
            "Epoch 52/100\n",
            "69/69 [==============================] - 0s 3ms/step - loss: 122.2716 - mae: 122.2716 - val_loss: 616.3021 - val_mae: 616.3021\n",
            "Epoch 53/100\n",
            "69/69 [==============================] - 0s 3ms/step - loss: 134.6952 - mae: 134.6952 - val_loss: 604.9142 - val_mae: 604.9142\n",
            "Epoch 54/100\n",
            "69/69 [==============================] - 0s 3ms/step - loss: 124.4621 - mae: 124.4621 - val_loss: 593.9069 - val_mae: 593.9069\n",
            "Epoch 55/100\n",
            "69/69 [==============================] - 0s 3ms/step - loss: 115.6108 - mae: 115.6108 - val_loss: 685.2297 - val_mae: 685.2297\n",
            "Epoch 56/100\n",
            "69/69 [==============================] - 0s 3ms/step - loss: 138.0676 - mae: 138.0676 - val_loss: 594.1196 - val_mae: 594.1196\n",
            "Epoch 57/100\n",
            "69/69 [==============================] - 0s 3ms/step - loss: 133.9434 - mae: 133.9434 - val_loss: 1114.3505 - val_mae: 1114.3505\n",
            "Epoch 58/100\n",
            "69/69 [==============================] - 0s 3ms/step - loss: 143.3576 - mae: 143.3576 - val_loss: 640.1238 - val_mae: 640.1238\n",
            "Epoch 59/100\n",
            "52/69 [=====================>........] - ETA: 0s - loss: 112.1075 - mae: 112.1075"
          ]
        },
        {
          "output_type": "stream",
          "name": "stderr",
          "text": [
            "WARNING:absl:Found untraced functions such as _update_step_xla while saving (showing 1 of 1). These functions will not be directly callable after loading.\n"
          ]
        },
        {
          "output_type": "stream",
          "name": "stdout",
          "text": [
            "\b\b\b\b\b\b\b\b\b\b\b\b\b\b\b\b\b\b\b\b\b\b\b\b\b\b\b\b\b\b\b\b\b\b\b\b\b\b\b\b\b\b\b\b\b\b\b\b\b\b\b\b\b\b\b\b\b\b\b\b\b\b\b\b\b\b\b\b\b\b\b\b\b\b\b\b\b\b\b\b\b\r69/69 [==============================] - 1s 11ms/step - loss: 114.2347 - mae: 114.2347 - val_loss: 591.3126 - val_mae: 591.3126\n",
            "Epoch 60/100\n",
            "69/69 [==============================] - 0s 2ms/step - loss: 121.9808 - mae: 121.9808 - val_loss: 621.6407 - val_mae: 621.6407\n",
            "Epoch 61/100\n",
            "69/69 [==============================] - 0s 3ms/step - loss: 132.8565 - mae: 132.8565 - val_loss: 742.1337 - val_mae: 742.1337\n",
            "Epoch 62/100\n",
            "69/69 [==============================] - 0s 2ms/step - loss: 123.1428 - mae: 123.1428 - val_loss: 738.4547 - val_mae: 738.4547\n",
            "Epoch 63/100\n",
            "69/69 [==============================] - 0s 3ms/step - loss: 126.2953 - mae: 126.2953 - val_loss: 746.5279 - val_mae: 746.5279\n",
            "Epoch 64/100\n",
            "69/69 [==============================] - 0s 3ms/step - loss: 121.2062 - mae: 121.2062 - val_loss: 855.7368 - val_mae: 855.7368\n",
            "Epoch 65/100\n",
            "69/69 [==============================] - 0s 3ms/step - loss: 120.8023 - mae: 120.8023 - val_loss: 638.7488 - val_mae: 638.7488\n",
            "Epoch 66/100\n",
            "69/69 [==============================] - 0s 3ms/step - loss: 132.1412 - mae: 132.1412 - val_loss: 845.4791 - val_mae: 845.4791\n",
            "Epoch 67/100\n",
            "69/69 [==============================] - 0s 3ms/step - loss: 125.8521 - mae: 125.8521 - val_loss: 649.2894 - val_mae: 649.2894\n",
            "Epoch 68/100\n",
            "69/69 [==============================] - 0s 3ms/step - loss: 134.3552 - mae: 134.3552 - val_loss: 611.0853 - val_mae: 611.0853\n",
            "Epoch 69/100\n",
            "59/69 [========================>.....] - ETA: 0s - loss: 139.6700 - mae: 139.6700"
          ]
        },
        {
          "output_type": "stream",
          "name": "stderr",
          "text": [
            "WARNING:absl:Found untraced functions such as _update_step_xla while saving (showing 1 of 1). These functions will not be directly callable after loading.\n"
          ]
        },
        {
          "output_type": "stream",
          "name": "stdout",
          "text": [
            "\b\b\b\b\b\b\b\b\b\b\b\b\b\b\b\b\b\b\b\b\b\b\b\b\b\b\b\b\b\b\b\b\b\b\b\b\b\b\b\b\b\b\b\b\b\b\b\b\b\b\b\b\b\b\b\b\b\b\b\b\b\b\b\b\b\b\b\b\b\b\b\b\b\b\b\b\b\b\b\b\b\r69/69 [==============================] - 1s 10ms/step - loss: 138.4197 - mae: 138.4197 - val_loss: 589.3622 - val_mae: 589.3622\n",
            "Epoch 70/100\n",
            "69/69 [==============================] - 0s 3ms/step - loss: 118.1580 - mae: 118.1580 - val_loss: 694.0253 - val_mae: 694.0253\n",
            "Epoch 71/100\n",
            "69/69 [==============================] - 0s 3ms/step - loss: 140.1487 - mae: 140.1487 - val_loss: 856.5816 - val_mae: 856.5816\n",
            "Epoch 72/100\n",
            "69/69 [==============================] - 0s 3ms/step - loss: 145.7947 - mae: 145.7947 - val_loss: 594.8990 - val_mae: 594.8990\n",
            "Epoch 73/100\n",
            "69/69 [==============================] - 0s 3ms/step - loss: 128.8797 - mae: 128.8797 - val_loss: 600.1854 - val_mae: 600.1854\n",
            "Epoch 74/100\n",
            "69/69 [==============================] - 0s 3ms/step - loss: 122.0327 - mae: 122.0327 - val_loss: 623.8476 - val_mae: 623.8476\n",
            "Epoch 75/100\n",
            "69/69 [==============================] - 0s 2ms/step - loss: 121.7906 - mae: 121.7906 - val_loss: 1124.9452 - val_mae: 1124.9452\n",
            "Epoch 76/100\n",
            "69/69 [==============================] - 0s 3ms/step - loss: 127.1881 - mae: 127.1881 - val_loss: 720.7355 - val_mae: 720.7355\n",
            "Epoch 77/100\n",
            "69/69 [==============================] - 0s 3ms/step - loss: 166.8855 - mae: 166.8855 - val_loss: 626.9769 - val_mae: 626.9769\n",
            "Epoch 78/100\n",
            "69/69 [==============================] - 0s 3ms/step - loss: 157.6969 - mae: 157.6969 - val_loss: 717.1458 - val_mae: 717.1458\n",
            "Epoch 79/100\n",
            "69/69 [==============================] - 0s 3ms/step - loss: 137.9752 - mae: 137.9752 - val_loss: 593.9872 - val_mae: 593.9872\n",
            "Epoch 80/100\n",
            "69/69 [==============================] - 0s 3ms/step - loss: 120.2535 - mae: 120.2535 - val_loss: 665.9895 - val_mae: 665.9895\n",
            "Epoch 81/100\n",
            "69/69 [==============================] - 0s 3ms/step - loss: 120.9431 - mae: 120.9431 - val_loss: 637.6637 - val_mae: 637.6637\n",
            "Epoch 82/100\n",
            "69/69 [==============================] - 0s 3ms/step - loss: 119.9845 - mae: 119.9845 - val_loss: 678.7496 - val_mae: 678.7496\n",
            "Epoch 83/100\n",
            "69/69 [==============================] - 0s 3ms/step - loss: 118.6739 - mae: 118.6739 - val_loss: 618.0530 - val_mae: 618.0530\n",
            "Epoch 84/100\n",
            "69/69 [==============================] - 0s 4ms/step - loss: 125.9892 - mae: 125.9892 - val_loss: 728.3341 - val_mae: 728.3341\n",
            "Epoch 85/100\n",
            "69/69 [==============================] - 0s 4ms/step - loss: 126.3479 - mae: 126.3479 - val_loss: 611.5181 - val_mae: 611.5181\n",
            "Epoch 86/100\n",
            "61/69 [=========================>....] - ETA: 0s - loss: 121.4529 - mae: 121.4529"
          ]
        },
        {
          "output_type": "stream",
          "name": "stderr",
          "text": [
            "WARNING:absl:Found untraced functions such as _update_step_xla while saving (showing 1 of 1). These functions will not be directly callable after loading.\n"
          ]
        },
        {
          "output_type": "stream",
          "name": "stdout",
          "text": [
            "\b\b\b\b\b\b\b\b\b\b\b\b\b\b\b\b\b\b\b\b\b\b\b\b\b\b\b\b\b\b\b\b\b\b\b\b\b\b\b\b\b\b\b\b\b\b\b\b\b\b\b\b\b\b\b\b\b\b\b\b\b\b\b\b\b\b\b\b\b\b\b\b\b\b\b\b\b\b\b\b\b\r69/69 [==============================] - 1s 15ms/step - loss: 127.6353 - mae: 127.6353 - val_loss: 587.0542 - val_mae: 587.0542\n",
            "Epoch 87/100\n",
            "69/69 [==============================] - 0s 4ms/step - loss: 126.8219 - mae: 126.8219 - val_loss: 626.7807 - val_mae: 626.7807\n",
            "Epoch 88/100\n",
            "69/69 [==============================] - 0s 4ms/step - loss: 119.5884 - mae: 119.5884 - val_loss: 627.4825 - val_mae: 627.4825\n",
            "Epoch 89/100\n",
            "69/69 [==============================] - 0s 4ms/step - loss: 116.7887 - mae: 116.7887 - val_loss: 775.7974 - val_mae: 775.7974\n",
            "Epoch 90/100\n",
            "69/69 [==============================] - 0s 4ms/step - loss: 138.0076 - mae: 138.0076 - val_loss: 602.5238 - val_mae: 602.5238\n",
            "Epoch 91/100\n",
            "69/69 [==============================] - 0s 3ms/step - loss: 134.6242 - mae: 134.6242 - val_loss: 739.1082 - val_mae: 739.1082\n",
            "Epoch 92/100\n",
            "69/69 [==============================] - 0s 3ms/step - loss: 114.9013 - mae: 114.9013 - val_loss: 711.4137 - val_mae: 711.4137\n",
            "Epoch 93/100\n",
            "69/69 [==============================] - 0s 3ms/step - loss: 131.7017 - mae: 131.7017 - val_loss: 647.1556 - val_mae: 647.1556\n",
            "Epoch 94/100\n",
            "69/69 [==============================] - 0s 3ms/step - loss: 124.6959 - mae: 124.6959 - val_loss: 893.1627 - val_mae: 893.1627\n",
            "Epoch 95/100\n",
            "69/69 [==============================] - 0s 3ms/step - loss: 119.8337 - mae: 119.8337 - val_loss: 755.7776 - val_mae: 755.7776\n",
            "Epoch 96/100\n",
            "69/69 [==============================] - 0s 3ms/step - loss: 118.2485 - mae: 118.2485 - val_loss: 633.4170 - val_mae: 633.4170\n",
            "Epoch 97/100\n",
            "52/69 [=====================>........] - ETA: 0s - loss: 126.6466 - mae: 126.6466"
          ]
        },
        {
          "output_type": "stream",
          "name": "stderr",
          "text": [
            "WARNING:absl:Found untraced functions such as _update_step_xla while saving (showing 1 of 1). These functions will not be directly callable after loading.\n"
          ]
        },
        {
          "output_type": "stream",
          "name": "stdout",
          "text": [
            "\b\b\b\b\b\b\b\b\b\b\b\b\b\b\b\b\b\b\b\b\b\b\b\b\b\b\b\b\b\b\b\b\b\b\b\b\b\b\b\b\b\b\b\b\b\b\b\b\b\b\b\b\b\b\b\b\b\b\b\b\b\b\b\b\b\b\b\b\b\b\b\b\b\b\b\b\b\b\b\b\b\r69/69 [==============================] - 1s 11ms/step - loss: 126.0161 - mae: 126.0161 - val_loss: 584.6978 - val_mae: 584.6978\n",
            "Epoch 98/100\n",
            "69/69 [==============================] - 0s 3ms/step - loss: 137.9169 - mae: 137.9169 - val_loss: 596.5149 - val_mae: 596.5149\n",
            "Epoch 99/100\n",
            "69/69 [==============================] - 0s 3ms/step - loss: 119.1559 - mae: 119.1559 - val_loss: 594.6257 - val_mae: 594.6257\n",
            "Epoch 100/100\n",
            "69/69 [==============================] - 0s 3ms/step - loss: 128.1882 - mae: 128.1882 - val_loss: 631.8973 - val_mae: 631.8973\n"
          ]
        }
      ]
    },
    {
      "cell_type": "code",
      "source": [],
      "metadata": {
        "id": "CAPf_n_M7_Mk"
      },
      "execution_count": null,
      "outputs": []
    }
  ]
}