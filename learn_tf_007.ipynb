{
  "nbformat": 4,
  "nbformat_minor": 0,
  "metadata": {
    "colab": {
      "provenance": [],
      "gpuType": "T4",
      "authorship_tag": "ABX9TyMgGTRAMOYwAeZxV5l1GjtD",
      "include_colab_link": true
    },
    "kernelspec": {
      "name": "python3",
      "display_name": "Python 3"
    },
    "language_info": {
      "name": "python"
    },
    "accelerator": "GPU"
  },
  "cells": [
    {
      "cell_type": "markdown",
      "metadata": {
        "id": "view-in-github",
        "colab_type": "text"
      },
      "source": [
        "<a href=\"https://colab.research.google.com/github/bikash119/learn_tensorflow/blob/main/learn_tf_007.ipynb\" target=\"_parent\"><img src=\"https://colab.research.google.com/assets/colab-badge.svg\" alt=\"Open In Colab\"/></a>"
      ]
    },
    {
      "cell_type": "markdown",
      "source": [
        "## Time-series forecasting with TensorFlow\n",
        "\n",
        "What are we going to cover?\n",
        "1. Get a time series data (the historical price of Bitcoin)\n",
        "  * Load time series data using Pandas/Python CSV\n",
        "2. Format data for a time series problem\n",
        "  * Creating a training and test set wrong way\n",
        "  * Creating a training and test set right way\n",
        "  * Visualizing time series data\n",
        "  * Turning time series model into supervised learning problem ( Windowing )\n",
        "  * Preparing Univariate and Multivariable ( more than one variable ) data\n",
        "\n",
        "3. Evaluating a time series model\n",
        "4. Setting up a series for deep leaning modelling experiments\n",
        "  * Dense fully connected\n",
        "  * Sequence model ( LSTM and 1D CNN )\n",
        "  * Ensembling ( combining multiple models together )\n",
        "  * Multivariate models\n",
        "  * Replicating the N-Beats algorithm using Tensorflow Layer subclassing\n",
        "5. Creating a modelling checkpoint to save best performing model\n",
        "6. Making predictions (forecast) with time series model.\n",
        "7. Creating prediction intervals for time series forecasts.\n"
      ],
      "metadata": {
        "id": "j_40Hk26PoJ_"
      }
    },
    {
      "cell_type": "markdown",
      "source": [
        "## 1. Get the data"
      ],
      "metadata": {
        "id": "4iv5WIQbVTE6"
      }
    },
    {
      "cell_type": "code",
      "execution_count": 1,
      "metadata": {
        "colab": {
          "base_uri": "https://localhost:8080/"
        },
        "id": "lAw6D6NNPiZW",
        "outputId": "5cb14f3b-e149-4bad-fb11-694d7c425535"
      },
      "outputs": [
        {
          "output_type": "stream",
          "name": "stdout",
          "text": [
            "--2023-07-28 01:13:06--  https://raw.githubusercontent.com/mrdbourke/tensorflow-deep-learning/main/extras/BTC_USD_2013-10-01_2021-05-18-CoinDesk.csv\n",
            "Resolving raw.githubusercontent.com (raw.githubusercontent.com)... 185.199.108.133, 185.199.109.133, 185.199.110.133, ...\n",
            "Connecting to raw.githubusercontent.com (raw.githubusercontent.com)|185.199.108.133|:443... connected.\n",
            "HTTP request sent, awaiting response... 200 OK\n",
            "Length: 178509 (174K) [text/plain]\n",
            "Saving to: ‘BTC_USD_2013-10-01_2021-05-18-CoinDesk.csv.1’\n",
            "\n",
            "\r          BTC_USD_2   0%[                    ]       0  --.-KB/s               \rBTC_USD_2013-10-01_ 100%[===================>] 174.33K  --.-KB/s    in 0.02s   \n",
            "\n",
            "2023-07-28 01:13:06 (6.87 MB/s) - ‘BTC_USD_2013-10-01_2021-05-18-CoinDesk.csv.1’ saved [178509/178509]\n",
            "\n"
          ]
        }
      ],
      "source": [
        "!wget https://raw.githubusercontent.com/mrdbourke/tensorflow-deep-learning/main/extras/BTC_USD_2013-10-01_2021-05-18-CoinDesk.csv"
      ]
    },
    {
      "cell_type": "markdown",
      "source": [
        "### 1.1 Import time series data with Pandas"
      ],
      "metadata": {
        "id": "w8vBsIc4Vd0o"
      }
    },
    {
      "cell_type": "code",
      "source": [
        "import pandas as pd\n",
        "price_df = pd.read_csv(\"/content/BTC_USD_2013-10-01_2021-05-18-CoinDesk.csv\"\n",
        "                 ,parse_dates=[\"Date\"]\n",
        "                 ,index_col=[\"Date\"]\n",
        "                 )\n",
        "\n",
        "price_df.head()"
      ],
      "metadata": {
        "colab": {
          "base_uri": "https://localhost:8080/",
          "height": 237
        },
        "id": "SVtR0PcuVY6F",
        "outputId": "6d4a9a3c-2d8a-4fb3-8c26-28e062467ab9"
      },
      "execution_count": 2,
      "outputs": [
        {
          "output_type": "execute_result",
          "data": {
            "text/plain": [
              "           Currency  Closing Price (USD)  24h Open (USD)  24h High (USD)  \\\n",
              "Date                                                                       \n",
              "2013-10-01      BTC            123.65499       124.30466       124.75166   \n",
              "2013-10-02      BTC            125.45500       123.65499       125.75850   \n",
              "2013-10-03      BTC            108.58483       125.45500       125.66566   \n",
              "2013-10-04      BTC            118.67466       108.58483       118.67500   \n",
              "2013-10-05      BTC            121.33866       118.67466       121.93633   \n",
              "\n",
              "            24h Low (USD)  \n",
              "Date                       \n",
              "2013-10-01      122.56349  \n",
              "2013-10-02      123.63383  \n",
              "2013-10-03       83.32833  \n",
              "2013-10-04      107.05816  \n",
              "2013-10-05      118.00566  "
            ],
            "text/html": [
              "\n",
              "\n",
              "  <div id=\"df-689a1ce5-37a7-477e-a835-25aaa4e22d78\">\n",
              "    <div class=\"colab-df-container\">\n",
              "      <div>\n",
              "<style scoped>\n",
              "    .dataframe tbody tr th:only-of-type {\n",
              "        vertical-align: middle;\n",
              "    }\n",
              "\n",
              "    .dataframe tbody tr th {\n",
              "        vertical-align: top;\n",
              "    }\n",
              "\n",
              "    .dataframe thead th {\n",
              "        text-align: right;\n",
              "    }\n",
              "</style>\n",
              "<table border=\"1\" class=\"dataframe\">\n",
              "  <thead>\n",
              "    <tr style=\"text-align: right;\">\n",
              "      <th></th>\n",
              "      <th>Currency</th>\n",
              "      <th>Closing Price (USD)</th>\n",
              "      <th>24h Open (USD)</th>\n",
              "      <th>24h High (USD)</th>\n",
              "      <th>24h Low (USD)</th>\n",
              "    </tr>\n",
              "    <tr>\n",
              "      <th>Date</th>\n",
              "      <th></th>\n",
              "      <th></th>\n",
              "      <th></th>\n",
              "      <th></th>\n",
              "      <th></th>\n",
              "    </tr>\n",
              "  </thead>\n",
              "  <tbody>\n",
              "    <tr>\n",
              "      <th>2013-10-01</th>\n",
              "      <td>BTC</td>\n",
              "      <td>123.65499</td>\n",
              "      <td>124.30466</td>\n",
              "      <td>124.75166</td>\n",
              "      <td>122.56349</td>\n",
              "    </tr>\n",
              "    <tr>\n",
              "      <th>2013-10-02</th>\n",
              "      <td>BTC</td>\n",
              "      <td>125.45500</td>\n",
              "      <td>123.65499</td>\n",
              "      <td>125.75850</td>\n",
              "      <td>123.63383</td>\n",
              "    </tr>\n",
              "    <tr>\n",
              "      <th>2013-10-03</th>\n",
              "      <td>BTC</td>\n",
              "      <td>108.58483</td>\n",
              "      <td>125.45500</td>\n",
              "      <td>125.66566</td>\n",
              "      <td>83.32833</td>\n",
              "    </tr>\n",
              "    <tr>\n",
              "      <th>2013-10-04</th>\n",
              "      <td>BTC</td>\n",
              "      <td>118.67466</td>\n",
              "      <td>108.58483</td>\n",
              "      <td>118.67500</td>\n",
              "      <td>107.05816</td>\n",
              "    </tr>\n",
              "    <tr>\n",
              "      <th>2013-10-05</th>\n",
              "      <td>BTC</td>\n",
              "      <td>121.33866</td>\n",
              "      <td>118.67466</td>\n",
              "      <td>121.93633</td>\n",
              "      <td>118.00566</td>\n",
              "    </tr>\n",
              "  </tbody>\n",
              "</table>\n",
              "</div>\n",
              "      <button class=\"colab-df-convert\" onclick=\"convertToInteractive('df-689a1ce5-37a7-477e-a835-25aaa4e22d78')\"\n",
              "              title=\"Convert this dataframe to an interactive table.\"\n",
              "              style=\"display:none;\">\n",
              "\n",
              "  <svg xmlns=\"http://www.w3.org/2000/svg\" height=\"24px\"viewBox=\"0 0 24 24\"\n",
              "       width=\"24px\">\n",
              "    <path d=\"M0 0h24v24H0V0z\" fill=\"none\"/>\n",
              "    <path d=\"M18.56 5.44l.94 2.06.94-2.06 2.06-.94-2.06-.94-.94-2.06-.94 2.06-2.06.94zm-11 1L8.5 8.5l.94-2.06 2.06-.94-2.06-.94L8.5 2.5l-.94 2.06-2.06.94zm10 10l.94 2.06.94-2.06 2.06-.94-2.06-.94-.94-2.06-.94 2.06-2.06.94z\"/><path d=\"M17.41 7.96l-1.37-1.37c-.4-.4-.92-.59-1.43-.59-.52 0-1.04.2-1.43.59L10.3 9.45l-7.72 7.72c-.78.78-.78 2.05 0 2.83L4 21.41c.39.39.9.59 1.41.59.51 0 1.02-.2 1.41-.59l7.78-7.78 2.81-2.81c.8-.78.8-2.07 0-2.86zM5.41 20L4 18.59l7.72-7.72 1.47 1.35L5.41 20z\"/>\n",
              "  </svg>\n",
              "      </button>\n",
              "\n",
              "\n",
              "\n",
              "    <div id=\"df-8ba8ee95-bc93-4cf1-b574-3ae5bd607d5c\">\n",
              "      <button class=\"colab-df-quickchart\" onclick=\"quickchart('df-8ba8ee95-bc93-4cf1-b574-3ae5bd607d5c')\"\n",
              "              title=\"Suggest charts.\"\n",
              "              style=\"display:none;\">\n",
              "\n",
              "<svg xmlns=\"http://www.w3.org/2000/svg\" height=\"24px\"viewBox=\"0 0 24 24\"\n",
              "     width=\"24px\">\n",
              "    <g>\n",
              "        <path d=\"M19 3H5c-1.1 0-2 .9-2 2v14c0 1.1.9 2 2 2h14c1.1 0 2-.9 2-2V5c0-1.1-.9-2-2-2zM9 17H7v-7h2v7zm4 0h-2V7h2v10zm4 0h-2v-4h2v4z\"/>\n",
              "    </g>\n",
              "</svg>\n",
              "      </button>\n",
              "    </div>\n",
              "\n",
              "<style>\n",
              "  .colab-df-quickchart {\n",
              "    background-color: #E8F0FE;\n",
              "    border: none;\n",
              "    border-radius: 50%;\n",
              "    cursor: pointer;\n",
              "    display: none;\n",
              "    fill: #1967D2;\n",
              "    height: 32px;\n",
              "    padding: 0 0 0 0;\n",
              "    width: 32px;\n",
              "  }\n",
              "\n",
              "  .colab-df-quickchart:hover {\n",
              "    background-color: #E2EBFA;\n",
              "    box-shadow: 0px 1px 2px rgba(60, 64, 67, 0.3), 0px 1px 3px 1px rgba(60, 64, 67, 0.15);\n",
              "    fill: #174EA6;\n",
              "  }\n",
              "\n",
              "  [theme=dark] .colab-df-quickchart {\n",
              "    background-color: #3B4455;\n",
              "    fill: #D2E3FC;\n",
              "  }\n",
              "\n",
              "  [theme=dark] .colab-df-quickchart:hover {\n",
              "    background-color: #434B5C;\n",
              "    box-shadow: 0px 1px 3px 1px rgba(0, 0, 0, 0.15);\n",
              "    filter: drop-shadow(0px 1px 2px rgba(0, 0, 0, 0.3));\n",
              "    fill: #FFFFFF;\n",
              "  }\n",
              "</style>\n",
              "\n",
              "    <script>\n",
              "      async function quickchart(key) {\n",
              "        const containerElement = document.querySelector('#' + key);\n",
              "        const charts = await google.colab.kernel.invokeFunction(\n",
              "            'suggestCharts', [key], {});\n",
              "      }\n",
              "    </script>\n",
              "\n",
              "      <script>\n",
              "\n",
              "function displayQuickchartButton(domScope) {\n",
              "  let quickchartButtonEl =\n",
              "    domScope.querySelector('#df-8ba8ee95-bc93-4cf1-b574-3ae5bd607d5c button.colab-df-quickchart');\n",
              "  quickchartButtonEl.style.display =\n",
              "    google.colab.kernel.accessAllowed ? 'block' : 'none';\n",
              "}\n",
              "\n",
              "        displayQuickchartButton(document);\n",
              "      </script>\n",
              "      <style>\n",
              "    .colab-df-container {\n",
              "      display:flex;\n",
              "      flex-wrap:wrap;\n",
              "      gap: 12px;\n",
              "    }\n",
              "\n",
              "    .colab-df-convert {\n",
              "      background-color: #E8F0FE;\n",
              "      border: none;\n",
              "      border-radius: 50%;\n",
              "      cursor: pointer;\n",
              "      display: none;\n",
              "      fill: #1967D2;\n",
              "      height: 32px;\n",
              "      padding: 0 0 0 0;\n",
              "      width: 32px;\n",
              "    }\n",
              "\n",
              "    .colab-df-convert:hover {\n",
              "      background-color: #E2EBFA;\n",
              "      box-shadow: 0px 1px 2px rgba(60, 64, 67, 0.3), 0px 1px 3px 1px rgba(60, 64, 67, 0.15);\n",
              "      fill: #174EA6;\n",
              "    }\n",
              "\n",
              "    [theme=dark] .colab-df-convert {\n",
              "      background-color: #3B4455;\n",
              "      fill: #D2E3FC;\n",
              "    }\n",
              "\n",
              "    [theme=dark] .colab-df-convert:hover {\n",
              "      background-color: #434B5C;\n",
              "      box-shadow: 0px 1px 3px 1px rgba(0, 0, 0, 0.15);\n",
              "      filter: drop-shadow(0px 1px 2px rgba(0, 0, 0, 0.3));\n",
              "      fill: #FFFFFF;\n",
              "    }\n",
              "  </style>\n",
              "\n",
              "      <script>\n",
              "        const buttonEl =\n",
              "          document.querySelector('#df-689a1ce5-37a7-477e-a835-25aaa4e22d78 button.colab-df-convert');\n",
              "        buttonEl.style.display =\n",
              "          google.colab.kernel.accessAllowed ? 'block' : 'none';\n",
              "\n",
              "        async function convertToInteractive(key) {\n",
              "          const element = document.querySelector('#df-689a1ce5-37a7-477e-a835-25aaa4e22d78');\n",
              "          const dataTable =\n",
              "            await google.colab.kernel.invokeFunction('convertToInteractive',\n",
              "                                                     [key], {});\n",
              "          if (!dataTable) return;\n",
              "\n",
              "          const docLinkHtml = 'Like what you see? Visit the ' +\n",
              "            '<a target=\"_blank\" href=https://colab.research.google.com/notebooks/data_table.ipynb>data table notebook</a>'\n",
              "            + ' to learn more about interactive tables.';\n",
              "          element.innerHTML = '';\n",
              "          dataTable['output_type'] = 'display_data';\n",
              "          await google.colab.output.renderOutput(dataTable, element);\n",
              "          const docLink = document.createElement('div');\n",
              "          docLink.innerHTML = docLinkHtml;\n",
              "          element.appendChild(docLink);\n",
              "        }\n",
              "      </script>\n",
              "    </div>\n",
              "  </div>\n"
            ]
          },
          "metadata": {},
          "execution_count": 2
        }
      ]
    },
    {
      "cell_type": "code",
      "source": [
        "price_df.info()"
      ],
      "metadata": {
        "colab": {
          "base_uri": "https://localhost:8080/"
        },
        "id": "gL0C9cMfV9mA",
        "outputId": "bf21ec30-758f-46e7-9618-9a576359b0f4"
      },
      "execution_count": 3,
      "outputs": [
        {
          "output_type": "stream",
          "name": "stdout",
          "text": [
            "<class 'pandas.core.frame.DataFrame'>\n",
            "DatetimeIndex: 2787 entries, 2013-10-01 to 2021-05-18\n",
            "Data columns (total 5 columns):\n",
            " #   Column               Non-Null Count  Dtype  \n",
            "---  ------               --------------  -----  \n",
            " 0   Currency             2787 non-null   object \n",
            " 1   Closing Price (USD)  2787 non-null   float64\n",
            " 2   24h Open (USD)       2787 non-null   float64\n",
            " 3   24h High (USD)       2787 non-null   float64\n",
            " 4   24h Low (USD)        2787 non-null   float64\n",
            "dtypes: float64(4), object(1)\n",
            "memory usage: 130.6+ KB\n"
          ]
        }
      ]
    },
    {
      "cell_type": "code",
      "source": [
        "len(price_df)"
      ],
      "metadata": {
        "colab": {
          "base_uri": "https://localhost:8080/"
        },
        "id": "cq1uWX30WC9v",
        "outputId": "a5354fd9-ceba-4540-baf8-cc8007e7dac0"
      },
      "execution_count": 4,
      "outputs": [
        {
          "output_type": "execute_result",
          "data": {
            "text/plain": [
              "2787"
            ]
          },
          "metadata": {},
          "execution_count": 4
        }
      ]
    },
    {
      "cell_type": "markdown",
      "source": [
        "🔑note: The frequency at which time series data is collected is often referred to as **seasonality**. Seasonality is often measured as number of samples / year."
      ],
      "metadata": {
        "id": "91eEOllLWLpt"
      }
    },
    {
      "cell_type": "code",
      "source": [
        "# We only want the closing price\n",
        "daily_price_df = pd.DataFrame(price_df[\"Closing Price (USD)\"]).rename(columns={\"Closing Price (USD)\": \"Price\"})\n",
        "daily_price_df.head()"
      ],
      "metadata": {
        "colab": {
          "base_uri": "https://localhost:8080/",
          "height": 237
        },
        "id": "R2aLSQDuWE3X",
        "outputId": "57de57ef-8467-4263-8cc6-9b2354c6823a"
      },
      "execution_count": 5,
      "outputs": [
        {
          "output_type": "execute_result",
          "data": {
            "text/plain": [
              "                Price\n",
              "Date                 \n",
              "2013-10-01  123.65499\n",
              "2013-10-02  125.45500\n",
              "2013-10-03  108.58483\n",
              "2013-10-04  118.67466\n",
              "2013-10-05  121.33866"
            ],
            "text/html": [
              "\n",
              "\n",
              "  <div id=\"df-87c0b5be-bdb4-4d71-8802-ab776805cc4e\">\n",
              "    <div class=\"colab-df-container\">\n",
              "      <div>\n",
              "<style scoped>\n",
              "    .dataframe tbody tr th:only-of-type {\n",
              "        vertical-align: middle;\n",
              "    }\n",
              "\n",
              "    .dataframe tbody tr th {\n",
              "        vertical-align: top;\n",
              "    }\n",
              "\n",
              "    .dataframe thead th {\n",
              "        text-align: right;\n",
              "    }\n",
              "</style>\n",
              "<table border=\"1\" class=\"dataframe\">\n",
              "  <thead>\n",
              "    <tr style=\"text-align: right;\">\n",
              "      <th></th>\n",
              "      <th>Price</th>\n",
              "    </tr>\n",
              "    <tr>\n",
              "      <th>Date</th>\n",
              "      <th></th>\n",
              "    </tr>\n",
              "  </thead>\n",
              "  <tbody>\n",
              "    <tr>\n",
              "      <th>2013-10-01</th>\n",
              "      <td>123.65499</td>\n",
              "    </tr>\n",
              "    <tr>\n",
              "      <th>2013-10-02</th>\n",
              "      <td>125.45500</td>\n",
              "    </tr>\n",
              "    <tr>\n",
              "      <th>2013-10-03</th>\n",
              "      <td>108.58483</td>\n",
              "    </tr>\n",
              "    <tr>\n",
              "      <th>2013-10-04</th>\n",
              "      <td>118.67466</td>\n",
              "    </tr>\n",
              "    <tr>\n",
              "      <th>2013-10-05</th>\n",
              "      <td>121.33866</td>\n",
              "    </tr>\n",
              "  </tbody>\n",
              "</table>\n",
              "</div>\n",
              "      <button class=\"colab-df-convert\" onclick=\"convertToInteractive('df-87c0b5be-bdb4-4d71-8802-ab776805cc4e')\"\n",
              "              title=\"Convert this dataframe to an interactive table.\"\n",
              "              style=\"display:none;\">\n",
              "\n",
              "  <svg xmlns=\"http://www.w3.org/2000/svg\" height=\"24px\"viewBox=\"0 0 24 24\"\n",
              "       width=\"24px\">\n",
              "    <path d=\"M0 0h24v24H0V0z\" fill=\"none\"/>\n",
              "    <path d=\"M18.56 5.44l.94 2.06.94-2.06 2.06-.94-2.06-.94-.94-2.06-.94 2.06-2.06.94zm-11 1L8.5 8.5l.94-2.06 2.06-.94-2.06-.94L8.5 2.5l-.94 2.06-2.06.94zm10 10l.94 2.06.94-2.06 2.06-.94-2.06-.94-.94-2.06-.94 2.06-2.06.94z\"/><path d=\"M17.41 7.96l-1.37-1.37c-.4-.4-.92-.59-1.43-.59-.52 0-1.04.2-1.43.59L10.3 9.45l-7.72 7.72c-.78.78-.78 2.05 0 2.83L4 21.41c.39.39.9.59 1.41.59.51 0 1.02-.2 1.41-.59l7.78-7.78 2.81-2.81c.8-.78.8-2.07 0-2.86zM5.41 20L4 18.59l7.72-7.72 1.47 1.35L5.41 20z\"/>\n",
              "  </svg>\n",
              "      </button>\n",
              "\n",
              "\n",
              "\n",
              "    <div id=\"df-56d3a022-707b-442d-9a35-14f25f87e9ed\">\n",
              "      <button class=\"colab-df-quickchart\" onclick=\"quickchart('df-56d3a022-707b-442d-9a35-14f25f87e9ed')\"\n",
              "              title=\"Suggest charts.\"\n",
              "              style=\"display:none;\">\n",
              "\n",
              "<svg xmlns=\"http://www.w3.org/2000/svg\" height=\"24px\"viewBox=\"0 0 24 24\"\n",
              "     width=\"24px\">\n",
              "    <g>\n",
              "        <path d=\"M19 3H5c-1.1 0-2 .9-2 2v14c0 1.1.9 2 2 2h14c1.1 0 2-.9 2-2V5c0-1.1-.9-2-2-2zM9 17H7v-7h2v7zm4 0h-2V7h2v10zm4 0h-2v-4h2v4z\"/>\n",
              "    </g>\n",
              "</svg>\n",
              "      </button>\n",
              "    </div>\n",
              "\n",
              "<style>\n",
              "  .colab-df-quickchart {\n",
              "    background-color: #E8F0FE;\n",
              "    border: none;\n",
              "    border-radius: 50%;\n",
              "    cursor: pointer;\n",
              "    display: none;\n",
              "    fill: #1967D2;\n",
              "    height: 32px;\n",
              "    padding: 0 0 0 0;\n",
              "    width: 32px;\n",
              "  }\n",
              "\n",
              "  .colab-df-quickchart:hover {\n",
              "    background-color: #E2EBFA;\n",
              "    box-shadow: 0px 1px 2px rgba(60, 64, 67, 0.3), 0px 1px 3px 1px rgba(60, 64, 67, 0.15);\n",
              "    fill: #174EA6;\n",
              "  }\n",
              "\n",
              "  [theme=dark] .colab-df-quickchart {\n",
              "    background-color: #3B4455;\n",
              "    fill: #D2E3FC;\n",
              "  }\n",
              "\n",
              "  [theme=dark] .colab-df-quickchart:hover {\n",
              "    background-color: #434B5C;\n",
              "    box-shadow: 0px 1px 3px 1px rgba(0, 0, 0, 0.15);\n",
              "    filter: drop-shadow(0px 1px 2px rgba(0, 0, 0, 0.3));\n",
              "    fill: #FFFFFF;\n",
              "  }\n",
              "</style>\n",
              "\n",
              "    <script>\n",
              "      async function quickchart(key) {\n",
              "        const containerElement = document.querySelector('#' + key);\n",
              "        const charts = await google.colab.kernel.invokeFunction(\n",
              "            'suggestCharts', [key], {});\n",
              "      }\n",
              "    </script>\n",
              "\n",
              "      <script>\n",
              "\n",
              "function displayQuickchartButton(domScope) {\n",
              "  let quickchartButtonEl =\n",
              "    domScope.querySelector('#df-56d3a022-707b-442d-9a35-14f25f87e9ed button.colab-df-quickchart');\n",
              "  quickchartButtonEl.style.display =\n",
              "    google.colab.kernel.accessAllowed ? 'block' : 'none';\n",
              "}\n",
              "\n",
              "        displayQuickchartButton(document);\n",
              "      </script>\n",
              "      <style>\n",
              "    .colab-df-container {\n",
              "      display:flex;\n",
              "      flex-wrap:wrap;\n",
              "      gap: 12px;\n",
              "    }\n",
              "\n",
              "    .colab-df-convert {\n",
              "      background-color: #E8F0FE;\n",
              "      border: none;\n",
              "      border-radius: 50%;\n",
              "      cursor: pointer;\n",
              "      display: none;\n",
              "      fill: #1967D2;\n",
              "      height: 32px;\n",
              "      padding: 0 0 0 0;\n",
              "      width: 32px;\n",
              "    }\n",
              "\n",
              "    .colab-df-convert:hover {\n",
              "      background-color: #E2EBFA;\n",
              "      box-shadow: 0px 1px 2px rgba(60, 64, 67, 0.3), 0px 1px 3px 1px rgba(60, 64, 67, 0.15);\n",
              "      fill: #174EA6;\n",
              "    }\n",
              "\n",
              "    [theme=dark] .colab-df-convert {\n",
              "      background-color: #3B4455;\n",
              "      fill: #D2E3FC;\n",
              "    }\n",
              "\n",
              "    [theme=dark] .colab-df-convert:hover {\n",
              "      background-color: #434B5C;\n",
              "      box-shadow: 0px 1px 3px 1px rgba(0, 0, 0, 0.15);\n",
              "      filter: drop-shadow(0px 1px 2px rgba(0, 0, 0, 0.3));\n",
              "      fill: #FFFFFF;\n",
              "    }\n",
              "  </style>\n",
              "\n",
              "      <script>\n",
              "        const buttonEl =\n",
              "          document.querySelector('#df-87c0b5be-bdb4-4d71-8802-ab776805cc4e button.colab-df-convert');\n",
              "        buttonEl.style.display =\n",
              "          google.colab.kernel.accessAllowed ? 'block' : 'none';\n",
              "\n",
              "        async function convertToInteractive(key) {\n",
              "          const element = document.querySelector('#df-87c0b5be-bdb4-4d71-8802-ab776805cc4e');\n",
              "          const dataTable =\n",
              "            await google.colab.kernel.invokeFunction('convertToInteractive',\n",
              "                                                     [key], {});\n",
              "          if (!dataTable) return;\n",
              "\n",
              "          const docLinkHtml = 'Like what you see? Visit the ' +\n",
              "            '<a target=\"_blank\" href=https://colab.research.google.com/notebooks/data_table.ipynb>data table notebook</a>'\n",
              "            + ' to learn more about interactive tables.';\n",
              "          element.innerHTML = '';\n",
              "          dataTable['output_type'] = 'display_data';\n",
              "          await google.colab.output.renderOutput(dataTable, element);\n",
              "          const docLink = document.createElement('div');\n",
              "          docLink.innerHTML = docLinkHtml;\n",
              "          element.appendChild(docLink);\n",
              "        }\n",
              "      </script>\n",
              "    </div>\n",
              "  </div>\n"
            ]
          },
          "metadata": {},
          "execution_count": 5
        }
      ]
    },
    {
      "cell_type": "code",
      "source": [
        "import matplotlib.pyplot as plt\n",
        "daily_price_df.plot(figsize=(10,7))\n",
        "plt.ylabel(\"Price\")\n",
        "plt.title(\"Price of Bitcoin from 1 Oct 2013 to 18 May 2021\", fontsize=16)\n",
        "plt.legend(fontsize=14);"
      ],
      "metadata": {
        "colab": {
          "base_uri": "https://localhost:8080/",
          "height": 643
        },
        "id": "kSJRF4FFXWw_",
        "outputId": "5cfe326f-49ae-48e2-caea-9c9a7a9a9d75"
      },
      "execution_count": 6,
      "outputs": [
        {
          "output_type": "display_data",
          "data": {
            "text/plain": [
              "<Figure size 1000x700 with 1 Axes>"
            ],
            "image/png": "[encoded data removed]"
          },
          "metadata": {}
        }
      ]
    },
    {
      "cell_type": "markdown",
      "source": [
        "## 2. Creating the training and test set\n",
        "### 2.1 The wrong way"
      ],
      "metadata": {
        "id": "I5TCpPgOYA8y"
      }
    },
    {
      "cell_type": "code",
      "source": [
        "# Convert our dataframe index and columns to numpy arrays\n",
        "timesteps = daily_price_df.index.to_numpy()\n",
        "prices = daily_price_df[\"Price\"].to_numpy()\n",
        "\n",
        "timesteps[:10], prices[:10]"
      ],
      "metadata": {
        "colab": {
          "base_uri": "https://localhost:8080/"
        },
        "id": "tZfAZPdjXwC0",
        "outputId": "a62ac40e-e6a0-4c5a-f979-0cb9285ee2bf"
      },
      "execution_count": 7,
      "outputs": [
        {
          "output_type": "execute_result",
          "data": {
            "text/plain": [
              "(array(['2013-10-01T00:00:00.000000000', '2013-10-02T00:00:00.000000000',\n",
              "        '2013-10-03T00:00:00.000000000', '2013-10-04T00:00:00.000000000',\n",
              "        '2013-10-05T00:00:00.000000000', '2013-10-06T00:00:00.000000000',\n",
              "        '2013-10-07T00:00:00.000000000', '2013-10-08T00:00:00.000000000',\n",
              "        '2013-10-09T00:00:00.000000000', '2013-10-10T00:00:00.000000000'],\n",
              "       dtype='datetime64[ns]'),\n",
              " array([123.65499, 125.455  , 108.58483, 118.67466, 121.33866, 120.65533,\n",
              "        121.795  , 123.033  , 124.049  , 125.96116]))"
            ]
          },
          "metadata": {},
          "execution_count": 7
        }
      ]
    },
    {
      "cell_type": "code",
      "source": [
        "from sklearn.model_selection import train_test_split\n",
        "X_train,X_test, y_train, y_test = train_test_split(timesteps\n",
        "                                                   ,prices\n",
        "                                                   ,test_size=0.2\n",
        "                                                   ,random_state=42)\n",
        "len(X_train),len(X_test), len(y_train), len(y_test)"
      ],
      "metadata": {
        "colab": {
          "base_uri": "https://localhost:8080/"
        },
        "id": "x-YbG5myY0zK",
        "outputId": "58690f6d-eed3-4345-bf4b-57ea642090d0"
      },
      "execution_count": 8,
      "outputs": [
        {
          "output_type": "execute_result",
          "data": {
            "text/plain": [
              "(2229, 558, 2229, 558)"
            ]
          },
          "metadata": {},
          "execution_count": 8
        }
      ]
    },
    {
      "cell_type": "markdown",
      "source": [
        "### 2.2 Let's visualize the splits"
      ],
      "metadata": {
        "id": "b2sX70oLZd06"
      }
    },
    {
      "cell_type": "code",
      "source": [
        "plt.figure(figsize=(10,7))\n",
        "plt.scatter(X_train,y_train,s=5,label=\"Train data\")\n",
        "plt.scatter(X_test,y_test,s=5,label=\"Test data\")\n",
        "plt.xlabel(\"Date\")\n",
        "plt.ylabel(\"Bitcoin Price\")\n",
        "plt.legend(fontsize=14)\n",
        "plt.show();"
      ],
      "metadata": {
        "colab": {
          "base_uri": "https://localhost:8080/",
          "height": 619
        },
        "id": "a6DHfU-sZY6G",
        "outputId": "a2c4c8d9-ad53-4afa-9e9d-6434e145f75c"
      },
      "execution_count": 9,
      "outputs": [
        {
          "output_type": "display_data",
          "data": {
            "text/plain": [
              "<Figure size 1000x700 with 1 Axes>"
            ],
            "image/png": "[encoded data removed]"
          },
          "metadata": {}
        }
      ]
    },
    {
      "cell_type": "markdown",
      "source": [
        "As we can see in the above plot our test data is scattered across the training data. This kind of random split works great with data where there is no temporal (time) component. But when time component is invovled, we need to split the data in such a way that it should reflect our purpose. The purpose here is to analyze the historical price and predict or forecast the future price.\n",
        "\n",
        "### 2.3 Creating the train test split the right way"
      ],
      "metadata": {
        "id": "1hEAJsKLcmoN"
      }
    },
    {
      "cell_type": "code",
      "source": [
        "split_size = int(0.8* len(prices))\n",
        "\n",
        "X_train,y_train = timesteps[:split_size],prices[:split_size]\n",
        "\n",
        "X_test, y_test = timesteps[split_size:], prices[split_size:]"
      ],
      "metadata": {
        "id": "NJzinLO_cFZ4"
      },
      "execution_count": 10,
      "outputs": []
    },
    {
      "cell_type": "code",
      "source": [
        "plt.figure(figsize=(10,7))\n",
        "plt.scatter(X_train,y_train,s=5,label=\"Train data\")\n",
        "plt.scatter(X_test,y_test,s=5,label=\"Test data\")\n",
        "plt.xlabel(\"Date\")\n",
        "plt.ylabel(\"Bitcoin Price\")\n",
        "plt.legend(fontsize=14)\n",
        "plt.show();"
      ],
      "metadata": {
        "colab": {
          "base_uri": "https://localhost:8080/",
          "height": 619
        },
        "id": "MgWF9MVdeX3V",
        "outputId": "73285a5a-f8f1-44b9-f67f-79561e29e181"
      },
      "execution_count": 11,
      "outputs": [
        {
          "output_type": "display_data",
          "data": {
            "text/plain": [
              "<Figure size 1000x700 with 1 Axes>"
            ],
            "image/png": "[encoded data removed]"
          },
          "metadata": {}
        }
      ]
    },
    {
      "cell_type": "markdown",
      "source": [
        "## Model 0: Navive Forecast ( baseline )\n",
        "As usual lets start with a baseline.\n",
        "One of the most common baseline for time series forecasting, the naive model requires no training.\n",
        "That's because all that the naive model does is forecast the next timestep value based on previous timestep value.\n",
        "The formula looks like:\n",
        "\n",
        "̂y<sub>t</sub> = y<sub>t</sub> -1"
      ],
      "metadata": {
        "id": "AV7I8vTmhh5n"
      }
    },
    {
      "cell_type": "code",
      "source": [
        "# create a naive forecast\n",
        "naive_forecast = y_test[:-1]\n",
        "naive_forecast[:10],naive_forecast[-10:]"
      ],
      "metadata": {
        "id": "Gy0k5yooeaf5",
        "colab": {
          "base_uri": "https://localhost:8080/"
        },
        "outputId": "293cb3ed-4418-40a9-e97f-ad09a92ee0ba"
      },
      "execution_count": 12,
      "outputs": [
        {
          "output_type": "execute_result",
          "data": {
            "text/plain": [
              "(array([9226.48582088, 8794.35864452, 8798.04205463, 9081.18687849,\n",
              "        8711.53433917, 8760.89271814, 8749.52059102, 8656.97092235,\n",
              "        8500.64355816, 8469.2608989 ]),\n",
              " array([57107.12067189, 58788.20967893, 58102.19142623, 55715.54665129,\n",
              "        56573.5554719 , 52147.82118698, 49764.1320816 , 50032.69313676,\n",
              "        47885.62525472, 45604.61575361]))"
            ]
          },
          "metadata": {},
          "execution_count": 12
        }
      ]
    },
    {
      "cell_type": "code",
      "source": [
        "# Create a plotting function\n",
        "\n",
        "def plot_time_series(timesteps,values,format='.', start=0, end=None, label=None):\n",
        "  \"\"\"\n",
        "    Plots a timesteps (a series of points in time) against values ( a series of values across timesteps)\n",
        "\n",
        "    Parameters\n",
        "    -------------\n",
        "    timesteps: array of timesteps\n",
        "    values: array of values across time\n",
        "    format: style of plot, default \".\"\n",
        "    start: where to start the plot ( setting a value will index from start of timesteps and values)\n",
        "    end: where to end the plot (setting a value will index from end of timesteps & values )\n",
        "    label: label to show on plot of values\n",
        "  \"\"\"\n",
        "  ## Plot the series\n",
        "  plt.plot(timesteps[start:end],values[start:end], format, label=label)\n",
        "  plt.xlabel(\"Time\")\n",
        "  plt.ylabel(\"BTC price\")\n",
        "  if label:\n",
        "    plt.legend(fontsize=14)\n",
        "  plt.grid(True)"
      ],
      "metadata": {
        "id": "-JfNe7Mclprp"
      },
      "execution_count": 13,
      "outputs": []
    },
    {
      "cell_type": "code",
      "source": [
        "# Plot the naive forecast\n",
        "plt.figure(figsize=(10,7))\n",
        "plot_time_series(timesteps=X_train,values=y_train,label=\"Train data\")\n",
        "plot_time_series(timesteps=X_test,values=y_test,label=\"Test data\")\n",
        "plot_time_series(timesteps=X_test[1:],values=naive_forecast,format=\"-\",label=\"Naive Forecast\")"
      ],
      "metadata": {
        "colab": {
          "base_uri": "https://localhost:8080/",
          "height": 619
        },
        "id": "zdVL72WijrtX",
        "outputId": "ed5dbb50-0e21-4e16-d87a-bdfe65ecd83e"
      },
      "execution_count": 14,
      "outputs": [
        {
          "output_type": "display_data",
          "data": {
            "text/plain": [
              "<Figure size 1000x700 with 1 Axes>"
            ],
            "image/png": "[encoded data removed]"
          },
          "metadata": {}
        }
      ]
    },
    {
      "cell_type": "code",
      "source": [
        "plt.figure(figsize=(10,7))\n",
        "offset = 300\n",
        "plot_time_series(timesteps=X_test,values=y_test, start=offset, label=\"Test Data\")\n",
        "plot_time_series(timesteps=X_test[1:],values=naive_forecast, format=\"-\", start=offset, label=\"Naive forecast\")"
      ],
      "metadata": {
        "colab": {
          "base_uri": "https://localhost:8080/",
          "height": 619
        },
        "id": "73FTRnYInoak",
        "outputId": "18c83fc6-e525-44c8-956e-dd5caa02c8d1"
      },
      "execution_count": 15,
      "outputs": [
        {
          "output_type": "display_data",
          "data": {
            "text/plain": [
              "<Figure size 1000x700 with 1 Axes>"
            ],
            "image/png": "[encoded data removed]"
          },
          "metadata": {}
        }
      ]
    },
    {
      "cell_type": "markdown",
      "source": [
        "## Evaluate a time series model\n",
        "Time series forecasting often involves predicting a number.\n",
        "As the problem statement is about predicting a number, it comes under **regression**\n",
        "For all the following metrics **lower is better** ( for e.g MAE 0 is better than MAE 100)\n",
        "\n",
        "### Scale-depdendent errors\n",
        "These are metrics which can be used to compare time series values and forecast that are on the same scale\n",
        "\n",
        "Metrics| Details|Code\n",
        "---|---|---\n",
        "MAE ( Mean Absolute Error ) | Easy to interpret. Forecast methods which minimizes the <br> MAE will lead to forecasts of the median |`tf.keras.metrics.mean_absolute_error()`\n",
        "RMSE(Root Mean Squared Error ) | Forecast which minimizes the RMSE lead to forecasts <br> to the mean| `tf.keras.metrics.mean_squared_error()`\n",
        "\n",
        "### Percentage Errors\n",
        "Percentage errors do not have units, which mean they can be used to compare forecasts across different units.\n",
        "\n",
        "Metrics|Details|Code\n",
        "---|---|---\n",
        "**MAPE**(Mean Absolute Percentage Error)|Most commonly used percentage error|`tf.keras.metrics.mean_absolute_percentage_error`\n",
        "**sMAPE**(symmetric Mean Absolute Percentage Error)| Recommend not to use|Custom implementation\n",
        "\n",
        "### Scaled Errors\n",
        "Scaled errors are alternative to percentage errors when comparing forecasting performance across different timeseries\n",
        "\n",
        "Metrics|Details|Code\n",
        "---|---|---\n",
        "MASE(mean absolute scaled error)|A forecast which performs better than naive should get <1 MASE|See sktimes<br> `mase_loss()`\n"
      ],
      "metadata": {
        "id": "sZ3NgovVr42_"
      }
    },
    {
      "cell_type": "code",
      "source": [
        "import tensorflow as tf\n"
      ],
      "metadata": {
        "id": "_JGmnHHly34B"
      },
      "execution_count": 16,
      "outputs": []
    },
    {
      "cell_type": "code",
      "source": [
        "# MASE implemented\n",
        "def mean_absolute_scaled_error(y_true, y_pred):\n",
        "  \"\"\"\n",
        "    Implement MASE ( assuming no seasonality data)\n",
        "  \"\"\"\n",
        "  mae = tf.reduce_mean(tf.abs(y_true - y_pred))\n",
        "  ## find MAE for naive forecast\n",
        "  mae_naive_no_season = tf.reduce_mean(tf.abs(y_true[1:]- y_true[:-1]))\n",
        "\n",
        "  return mae/mae_naive_no_season"
      ],
      "metadata": {
        "id": "S4PT6NIfru5d"
      },
      "execution_count": 17,
      "outputs": []
    },
    {
      "cell_type": "markdown",
      "source": [
        "> In practice the naive model should achieve an MASE of 1 (or very close to 1). Any model worse than the naive forecast will achieve an MASE of > 1 and any model better than naive forecast will achieve and MASE of < 1\n",
        "\n",
        "Let's put each of our different evaluation metrics together into a function"
      ],
      "metadata": {
        "id": "zvjiTFtWzfEd"
      }
    },
    {
      "cell_type": "code",
      "source": [
        "def evaluate_pred(y_true,y_pred):\n",
        "  #Make sure float32 ( for metric calculation)\n",
        "  y_true= tf.cast(y_true,dtype=tf.float32)\n",
        "  y_pred= tf.cast(y_pred,dtype=tf.float32)\n",
        "\n",
        "  # Calculate various metrics\n",
        "  mae= tf.keras.metrics.mean_absolute_error(y_true,y_pred)\n",
        "  mse= tf.keras.metrics.mean_squared_error(y_true,y_pred)\n",
        "  rmse= tf.sqrt(mse)\n",
        "  mape= tf.keras.metrics.mean_absolute_percentage_error(y_true,y_pred)\n",
        "  mase= mean_absolute_scaled_error(y_true,y_pred)\n",
        "\n",
        "  return {\n",
        "      \"mae\": mae.numpy()\n",
        "      ,\"mse\": mse.numpy()\n",
        "      ,\"rmse\": rmse.numpy()\n",
        "      ,\"mape\": mape.numpy()\n",
        "      ,\"mase\": mase.numpy()\n",
        "  }"
      ],
      "metadata": {
        "id": "D0ym0T1gzeZU"
      },
      "execution_count": 18,
      "outputs": []
    },
    {
      "cell_type": "code",
      "source": [
        "naive_results= evaluate_pred(y_true=y_test[1:]\n",
        "                             ,y_pred=naive_forecast)\n",
        "naive_results"
      ],
      "metadata": {
        "colab": {
          "base_uri": "https://localhost:8080/"
        },
        "id": "LXfICDQQ18pT",
        "outputId": "d7482e63-fdc4-4abf-cb17-7143818abd63"
      },
      "execution_count": 19,
      "outputs": [
        {
          "output_type": "execute_result",
          "data": {
            "text/plain": [
              "{'mae': 567.9802,\n",
              " 'mse': 1147547.0,\n",
              " 'rmse': 1071.2362,\n",
              " 'mape': 2.5165248,\n",
              " 'mase': 0.99957}"
            ]
          },
          "metadata": {},
          "execution_count": 19
        }
      ]
    },
    {
      "cell_type": "markdown",
      "source": [
        "Looking at the MAE results, we can infer that on an average the predicted bitcoin price is off from the actual price by about ~567 USD."
      ],
      "metadata": {
        "id": "HM5Tvi0r2tym"
      }
    },
    {
      "cell_type": "markdown",
      "source": [
        "## Format Data Part2: Windowing dataset\n",
        "**Windowing** is a method to turn a time series dataset to _supervised learning problem_.\n",
        "In other words, we want to use windows of the past to predict the future.\n",
        "For example, for a univariate time series, windowing for one week(`window=7`) to predict the next single value (`horizon=1`) might look like:\n",
        "\n",
        "```\n",
        "Window for one week (univariate time series)\n",
        "[0,1,2,3,4,5,6] -> [7]\n",
        "[1,2,3,4,5,6,7] -> [8]\n",
        "[2,3,4,5,6,7,8] -> [9]\n",
        "```\n",
        "\n",
        "Let's write a function that can take a univariate time series and turn into windows and horizon of specified sizes.\n",
        "\n",
        "We'll start the default horizon size of 1 and window size of 7\n"
      ],
      "metadata": {
        "id": "Y3X3DjT83_Uj"
      }
    },
    {
      "cell_type": "code",
      "source": [
        "HORIZON= 1 # predict 1 timestep at a time\n",
        "WINDOW_SIZE= 7 #use a week worth of timesteps to predict the horizon"
      ],
      "metadata": {
        "id": "nCFqT5GN2Mm0"
      },
      "execution_count": 20,
      "outputs": []
    },
    {
      "cell_type": "markdown",
      "source": [
        "Now we will write a function that will take an array and return a window and horizon\n"
      ],
      "metadata": {
        "id": "bHX8Rq4B5v-i"
      }
    },
    {
      "cell_type": "code",
      "source": [
        "# Create a function to create labelled window data\n",
        "def get_labelled_windows(x,horizon=1):\n",
        "  \"\"\"\n",
        "    Creates a label for window dataset\n",
        "    E.g if horizon=1 (default)\n",
        "    Input: [1,2,3,4,5,6] -> Output ([1,2,3,4,5],[6])\n",
        "  \"\"\"\n",
        "  return (x[:,:-horizon],x[:, -horizon:])"
      ],
      "metadata": {
        "id": "BuqojxtN5vV6"
      },
      "execution_count": 21,
      "outputs": []
    },
    {
      "cell_type": "code",
      "source": [
        "# Test the window labelling function\n",
        "test_window, test_label= get_labelled_windows(tf.expand_dims(tf.range(8)+1, axis=0),horizon=HORIZON)\n",
        "print(f\"Window: {tf.squeeze(test_window).numpy()} -> Label: {tf.squeeze(test_label).numpy()}\")"
      ],
      "metadata": {
        "colab": {
          "base_uri": "https://localhost:8080/"
        },
        "id": "HWV9ZmOn6pN_",
        "outputId": "19ea4427-f010-40f9-a31d-c643d4d445ed"
      },
      "execution_count": 22,
      "outputs": [
        {
          "output_type": "stream",
          "name": "stdout",
          "text": [
            "Window: [1 2 3 4 5 6 7] -> Label: 8\n"
          ]
        }
      ]
    },
    {
      "cell_type": "markdown",
      "source": [
        "#### Make window for the entire timeseries\n",
        "Let's write a function which:\n",
        "1. Create a window step of specific window size, for example `[[0,1,2,3,4,5,6]]`\n",
        "2. Uses [Numpy Indexing]() to create a 2D of multiple window steps, for example\n",
        "```\n",
        "[[0,1,2,3,4,5,6,7]\n",
        " [1,2,3,4,5,6,7,8]\n",
        " [2,3,4,5,6,7,8,9]]\n",
        "```\n",
        "3. Uses the 2D array of multiple window steps to index to a target series.\n",
        "4. Uses the `get_labelled_window` function we created above to turn the window steps into windows with a specified horizon."
      ],
      "metadata": {
        "id": "QcJaGf5x90lW"
      }
    },
    {
      "cell_type": "code",
      "source": [
        "import numpy as np"
      ],
      "metadata": {
        "id": "yUTXpXOv_taN"
      },
      "execution_count": 23,
      "outputs": []
    },
    {
      "cell_type": "code",
      "source": [
        "# Create a function to view Numpy arrays as windows\n",
        "def make_windows(x, window_size=7, horizon=1):\n",
        "  \"\"\"\n",
        "   Turns a 1D array into a 2D array of sequential windows of a given window size.\n",
        "  \"\"\"\n",
        "  # 1. Create a window of specific window size (add the horizon on the end for later labelling)\n",
        "  window_step= np.expand_dims(np.arange(window_size+horizon),axis=0)\n",
        "  # 2. Create a 2D array of multiple window steps\n",
        "  window_indexes= window_step+ np.expand_dims(np.arange(len(x)- (window_size+horizon-1)),axis=0).T\n",
        "  # 3. Index on the target array with 2D array of multiple window steps\n",
        "  windowed_array= x[window_indexes]\n",
        "  # 4. Get the labelled windows\n",
        "  windows, labels= get_labelled_windows(windowed_array,horizon=horizon)\n",
        "  return windows,labels"
      ],
      "metadata": {
        "id": "h-pAYNBj7LiP"
      },
      "execution_count": 24,
      "outputs": []
    },
    {
      "cell_type": "code",
      "source": [
        "np.expand_dims(np.arange(7+1),0).T"
      ],
      "metadata": {
        "colab": {
          "base_uri": "https://localhost:8080/"
        },
        "id": "PkG9VWpGDTP6",
        "outputId": "0bc42e4a-545b-497e-b9b9-095a62c9e7fa"
      },
      "execution_count": 25,
      "outputs": [
        {
          "output_type": "execute_result",
          "data": {
            "text/plain": [
              "array([[0],\n",
              "       [1],\n",
              "       [2],\n",
              "       [3],\n",
              "       [4],\n",
              "       [5],\n",
              "       [6],\n",
              "       [7]])"
            ]
          },
          "metadata": {},
          "execution_count": 25
        }
      ]
    },
    {
      "cell_type": "code",
      "source": [
        "full_windows, full_labels= make_windows(prices,window_size=WINDOW_SIZE,horizon=HORIZON)\n",
        "len(full_windows), len(full_labels)"
      ],
      "metadata": {
        "colab": {
          "base_uri": "https://localhost:8080/"
        },
        "id": "QIZR7M_gCmnN",
        "outputId": "685b6023-d609-42ee-8757-7d7b2b1147bd"
      },
      "execution_count": 26,
      "outputs": [
        {
          "output_type": "execute_result",
          "data": {
            "text/plain": [
              "(2780, 2780)"
            ]
          },
          "metadata": {},
          "execution_count": 26
        }
      ]
    },
    {
      "cell_type": "code",
      "source": [
        "## view the first 3 windows/labels\n",
        "for i in range(3):\n",
        "  print(f\" Window: {full_windows[i]}, Label: {full_labels[i]}\")"
      ],
      "metadata": {
        "colab": {
          "base_uri": "https://localhost:8080/"
        },
        "id": "OZiQvg6FC0DK",
        "outputId": "65174929-5acc-4890-bab5-0a89af28c2b6"
      },
      "execution_count": 27,
      "outputs": [
        {
          "output_type": "stream",
          "name": "stdout",
          "text": [
            " Window: [123.65499 125.455   108.58483 118.67466 121.33866 120.65533 121.795  ], Label: [123.033]\n",
            " Window: [125.455   108.58483 118.67466 121.33866 120.65533 121.795   123.033  ], Label: [124.049]\n",
            " Window: [108.58483 118.67466 121.33866 120.65533 121.795   123.033   124.049  ], Label: [125.96116]\n"
          ]
        }
      ]
    },
    {
      "cell_type": "markdown",
      "source": [
        "We can use tensorflow inbuilt functions to achieve the same output. We need to use `tf.keras.preprocessing.timeseries_dataset_from_array()`\n",
        "\n",
        "TODO: We will look into this later."
      ],
      "metadata": {
        "id": "Vrrr5LjXD54b"
      }
    },
    {
      "cell_type": "markdown",
      "source": [
        "### Turning windows into training and test set\n",
        "Let's write a function that takes a full set of windows and their labels and splits them into train & test splits."
      ],
      "metadata": {
        "id": "GiZP39WqITA5"
      }
    },
    {
      "cell_type": "code",
      "source": [
        "# Make the train/test split\n",
        "def make_train_test_split(windows,labels,test_split=0.2):\n",
        "  \"\"\"\n",
        "    Splits matching pairs of windows and labels into train and test split.\n",
        "\n",
        "  \"\"\"\n",
        "  split_size= int(len(windows) * (1-test_split))\n",
        "\n",
        "  train_windows= windows[:split_size]\n",
        "  train_labels= labels[:split_size]\n",
        "  test_windows= windows[split_size:]\n",
        "  test_labels= labels[split_size:]\n",
        "\n",
        "  return train_windows, train_labels, test_windows,test_labels\n"
      ],
      "metadata": {
        "id": "OiovcKLHEOkW"
      },
      "execution_count": 28,
      "outputs": []
    },
    {
      "cell_type": "code",
      "source": [
        "train_windows, train_labels, test_windows,test_labels = make_train_test_split(full_windows,full_labels)\n",
        "len(train_windows), len(test_windows),  len(train_labels),len(test_labels)\n"
      ],
      "metadata": {
        "colab": {
          "base_uri": "https://localhost:8080/"
        },
        "id": "gR_1yH5KJb2i",
        "outputId": "953fd56f-8988-4a2e-a217-f6c6b713bcd5"
      },
      "execution_count": 29,
      "outputs": [
        {
          "output_type": "execute_result",
          "data": {
            "text/plain": [
              "(2224, 556, 2224, 556)"
            ]
          },
          "metadata": {},
          "execution_count": 29
        }
      ]
    },
    {
      "cell_type": "code",
      "source": [
        "train_windows[:5],train_labels[:5]"
      ],
      "metadata": {
        "colab": {
          "base_uri": "https://localhost:8080/"
        },
        "id": "Fx7RuUKkJujh",
        "outputId": "09119264-62d6-4aa1-f0dc-e6e932991522"
      },
      "execution_count": 30,
      "outputs": [
        {
          "output_type": "execute_result",
          "data": {
            "text/plain": [
              "(array([[123.65499, 125.455  , 108.58483, 118.67466, 121.33866, 120.65533,\n",
              "         121.795  ],\n",
              "        [125.455  , 108.58483, 118.67466, 121.33866, 120.65533, 121.795  ,\n",
              "         123.033  ],\n",
              "        [108.58483, 118.67466, 121.33866, 120.65533, 121.795  , 123.033  ,\n",
              "         124.049  ],\n",
              "        [118.67466, 121.33866, 120.65533, 121.795  , 123.033  , 124.049  ,\n",
              "         125.96116],\n",
              "        [121.33866, 120.65533, 121.795  , 123.033  , 124.049  , 125.96116,\n",
              "         125.27966]]),\n",
              " array([[123.033  ],\n",
              "        [124.049  ],\n",
              "        [125.96116],\n",
              "        [125.27966],\n",
              "        [125.9275 ]]))"
            ]
          },
          "metadata": {},
          "execution_count": 30
        }
      ]
    },
    {
      "cell_type": "markdown",
      "source": [
        "### Making a model checkpoint\n",
        "The `ModelCheckpoint` callback will monitor our model performance during the training and saves the best model to the file system by setting `save_best_only=True`"
      ],
      "metadata": {
        "id": "CD95GF-pMpTb"
      }
    },
    {
      "cell_type": "code",
      "source": [
        "import os\n",
        "# create a function to implement a ModelCheckpoint callback with a specific filename\n",
        "def create_model_checkpoint(model_name,save_path=\"model_experiment\"):\n",
        "  return tf.keras.callbacks.ModelCheckpoint(filepath=os.path.join(save_path,model_name)\n",
        "                                            ,verbose=0\n",
        "                                            ,save_best_only=True)"
      ],
      "metadata": {
        "id": "kqXCNThULBYo"
      },
      "execution_count": 31,
      "outputs": []
    },
    {
      "cell_type": "markdown",
      "source": [
        "## Model 1: Dense Model ( window = 7, horizon = 1)\n",
        "Time to build one of our models\n",
        "\n",
        "`model_1` will have:\n",
        "* A single dense layer with 128 hidden units and ReLU activation unit.\n",
        "* An output layer with linear activation.\n",
        "* Adam optimizer with MAE loss\n",
        "* Batch size of 128\n",
        "* 100 epochs"
      ],
      "metadata": {
        "id": "pP-C66xvNqf7"
      }
    },
    {
      "cell_type": "code",
      "source": [
        "import tensorflow as tf\n",
        "from tensorflow.keras import layers\n",
        "\n",
        "## set seed\n",
        "tf.random.set_seed(42)\n",
        "model_1 = tf.keras.Sequential([\n",
        "    layers.Dense(128,activation=tf.keras.activations.relu)\n",
        "    ,layers.Dense(HORIZON,activation=tf.keras.activations.linear)\n",
        "],name=\"model_1_dense\")\n",
        "\n",
        "model_1.compile(loss=tf.keras.losses.mean_absolute_error\n",
        "                ,optimizer=tf.keras.optimizers.Adam()\n",
        "                ,metrics=[\"mae\"]\n",
        "                )\n",
        "\n",
        "history_1= model_1.fit(x=train_windows\n",
        "                       ,y=train_labels\n",
        "                       ,epochs=100\n",
        "                       ,verbose=1\n",
        "                       ,batch_size=128\n",
        "                       ,validation_data=(test_windows,test_labels)\n",
        "                       ,callbacks=[create_model_checkpoint(model_name=model_1.name)]\n",
        "                       )\n",
        "\n"
      ],
      "metadata": {
        "colab": {
          "base_uri": "https://localhost:8080/"
        },
        "id": "KpsmU0quP8hV",
        "outputId": "3b6df3ac-8de1-4999-a1f1-d514d7719a6b"
      },
      "execution_count": 32,
      "outputs": [
        {
          "output_type": "stream",
          "name": "stdout",
          "text": [
            "Epoch 1/100\n",
            "16/18 [=========================>....] - ETA: 0s - loss: 3760.9497 - mae: 3760.9497 "
          ]
        },
        {
          "output_type": "stream",
          "name": "stderr",
          "text": [
            "WARNING:absl:Found untraced functions such as _update_step_xla while saving (showing 1 of 1). These functions will not be directly callable after loading.\n"
          ]
        },
        {
          "output_type": "stream",
          "name": "stdout",
          "text": [
            "\b\b\b\b\b\b\b\b\b\b\b\b\b\b\b\b\b\b\b\b\b\b\b\b\b\b\b\b\b\b\b\b\b\b\b\b\b\b\b\b\b\b\b\b\b\b\b\b\b\b\b\b\b\b\b\b\b\b\b\b\b\b\b\b\b\b\b\b\b\b\b\b\b\b\b\b\b\b\b\b\b\b\b\r18/18 [==============================] - 5s 119ms/step - loss: 3643.4731 - mae: 3643.4731 - val_loss: 10991.2881 - val_mae: 10991.2881\n",
            "Epoch 2/100\n",
            "16/18 [=========================>....] - ETA: 0s - loss: 692.7611 - mae: 692.7611  "
          ]
        },
        {
          "output_type": "stream",
          "name": "stderr",
          "text": [
            "WARNING:absl:Found untraced functions such as _update_step_xla while saving (showing 1 of 1). These functions will not be directly callable after loading.\n"
          ]
        },
        {
          "output_type": "stream",
          "name": "stdout",
          "text": [
            "\b\b\b\b\b\b\b\b\b\b\b\b\b\b\b\b\b\b\b\b\b\b\b\b\b\b\b\b\b\b\b\b\b\b\b\b\b\b\b\b\b\b\b\b\b\b\b\b\b\b\b\b\b\b\b\b\b\b\b\b\b\b\b\b\b\b\b\b\b\b\b\b\b\b\b\b\b\b\b\b\b\r18/18 [==============================] - 1s 80ms/step - loss: 675.6666 - mae: 675.6666 - val_loss: 2824.3130 - val_mae: 2824.3130\n",
            "Epoch 3/100\n",
            "13/18 [====================>.........] - ETA: 0s - loss: 293.2098 - mae: 293.2098"
          ]
        },
        {
          "output_type": "stream",
          "name": "stderr",
          "text": [
            "WARNING:absl:Found untraced functions such as _update_step_xla while saving (showing 1 of 1). These functions will not be directly callable after loading.\n"
          ]
        },
        {
          "output_type": "stream",
          "name": "stdout",
          "text": [
            "\b\b\b\b\b\b\b\b\b\b\b\b\b\b\b\b\b\b\b\b\b\b\b\b\b\b\b\b\b\b\b\b\b\b\b\b\b\b\b\b\b\b\b\b\b\b\b\b\b\b\b\b\b\b\b\b\b\b\b\b\b\b\b\b\b\b\b\b\b\b\b\b\b\b\b\b\b\b\b\b\b\r18/18 [==============================] - 2s 100ms/step - loss: 279.8727 - mae: 279.8727 - val_loss: 1075.7711 - val_mae: 1075.7711\n",
            "Epoch 4/100\n",
            "18/18 [==============================] - 0s 11ms/step - loss: 213.7626 - mae: 213.7626 - val_loss: 1091.4623 - val_mae: 1091.4623\n",
            "Epoch 5/100\n",
            "13/18 [====================>.........] - ETA: 0s - loss: 194.9794 - mae: 194.9794"
          ]
        },
        {
          "output_type": "stream",
          "name": "stderr",
          "text": [
            "WARNING:absl:Found untraced functions such as _update_step_xla while saving (showing 1 of 1). These functions will not be directly callable after loading.\n"
          ]
        },
        {
          "output_type": "stream",
          "name": "stdout",
          "text": [
            "\b\b\b\b\b\b\b\b\b\b\b\b\b\b\b\b\b\b\b\b\b\b\b\b\b\b\b\b\b\b\b\b\b\b\b\b\b\b\b\b\b\b\b\b\b\b\b\b\b\b\b\b\b\b\b\b\b\b\b\b\b\b\b\b\b\b\b\b\b\b\b\b\b\b\b\b\b\b\b\b\b\r18/18 [==============================] - 1s 83ms/step - loss: 190.0092 - mae: 190.0092 - val_loss: 1031.4211 - val_mae: 1031.4211\n",
            "Epoch 6/100\n",
            "18/18 [==============================] - 0s 8ms/step - loss: 193.1897 - mae: 193.1897 - val_loss: 1065.2415 - val_mae: 1065.2415\n",
            "Epoch 7/100\n",
            " 9/18 [==============>...............] - ETA: 0s - loss: 205.3138 - mae: 205.3138"
          ]
        },
        {
          "output_type": "stream",
          "name": "stderr",
          "text": [
            "WARNING:absl:Found untraced functions such as _update_step_xla while saving (showing 1 of 1). These functions will not be directly callable after loading.\n"
          ]
        },
        {
          "output_type": "stream",
          "name": "stdout",
          "text": [
            "\b\b\b\b\b\b\b\b\b\b\b\b\b\b\b\b\b\b\b\b\b\b\b\b\b\b\b\b\b\b\b\b\b\b\b\b\b\b\b\b\b\b\b\b\b\b\b\b\b\b\b\b\b\b\b\b\b\b\b\b\b\b\b\b\b\b\b\b\b\b\b\b\b\b\b\b\b\b\b\b\b\r18/18 [==============================] - 2s 98ms/step - loss: 187.8944 - mae: 187.8944 - val_loss: 994.7417 - val_mae: 994.7417\n",
            "Epoch 8/100\n",
            "15/18 [========================>.....] - ETA: 0s - loss: 176.3529 - mae: 176.3529"
          ]
        },
        {
          "output_type": "stream",
          "name": "stderr",
          "text": [
            "WARNING:absl:Found untraced functions such as _update_step_xla while saving (showing 1 of 1). These functions will not be directly callable after loading.\n"
          ]
        },
        {
          "output_type": "stream",
          "name": "stdout",
          "text": [
            "\b\b\b\b\b\b\b\b\b\b\b\b\b\b\b\b\b\b\b\b\b\b\b\b\b\b\b\b\b\b\b\b\b\b\b\b\b\b\b\b\b\b\b\b\b\b\b\b\b\b\b\b\b\b\b\b\b\b\b\b\b\b\b\b\b\b\b\b\b\b\b\b\b\b\b\b\b\b\b\b\b\r18/18 [==============================] - 1s 83ms/step - loss: 177.8166 - mae: 177.8166 - val_loss: 990.4586 - val_mae: 990.4586\n",
            "Epoch 9/100\n",
            "13/18 [====================>.........] - ETA: 0s - loss: 169.9331 - mae: 169.9331"
          ]
        },
        {
          "output_type": "stream",
          "name": "stderr",
          "text": [
            "WARNING:absl:Found untraced functions such as _update_step_xla while saving (showing 1 of 1). These functions will not be directly callable after loading.\n"
          ]
        },
        {
          "output_type": "stream",
          "name": "stdout",
          "text": [
            "\b\b\b\b\b\b\b\b\b\b\b\b\b\b\b\b\b\b\b\b\b\b\b\b\b\b\b\b\b\b\b\b\b\b\b\b\b\b\b\b\b\b\b\b\b\b\b\b\b\b\b\b\b\b\b\b\b\b\b\b\b\b\b\b\b\b\b\b\b\b\b\b\b\b\b\b\b\b\b\b\b\r18/18 [==============================] - 3s 163ms/step - loss: 172.2030 - mae: 172.2030 - val_loss: 965.4813 - val_mae: 965.4813\n",
            "Epoch 10/100\n",
            " 6/18 [=========>....................] - ETA: 0s - loss: 156.7588 - mae: 156.7588"
          ]
        },
        {
          "output_type": "stream",
          "name": "stderr",
          "text": [
            "WARNING:absl:Found untraced functions such as _update_step_xla while saving (showing 1 of 1). These functions will not be directly callable after loading.\n"
          ]
        },
        {
          "output_type": "stream",
          "name": "stdout",
          "text": [
            "\b\b\b\b\b\b\b\b\b\b\b\b\b\b\b\b\b\b\b\b\b\b\b\b\b\b\b\b\b\b\b\b\b\b\b\b\b\b\b\b\b\b\b\b\b\b\b\b\b\b\b\b\b\b\b\b\b\b\b\b\b\b\b\b\b\b\b\b\b\b\b\b\b\b\b\b\b\b\b\b\b\r18/18 [==============================] - 2s 129ms/step - loss: 169.4981 - mae: 169.4981 - val_loss: 932.0468 - val_mae: 932.0468\n",
            "Epoch 11/100\n",
            "15/18 [========================>.....] - ETA: 0s - loss: 165.6375 - mae: 165.6375"
          ]
        },
        {
          "output_type": "stream",
          "name": "stderr",
          "text": [
            "WARNING:absl:Found untraced functions such as _update_step_xla while saving (showing 1 of 1). These functions will not be directly callable after loading.\n"
          ]
        },
        {
          "output_type": "stream",
          "name": "stdout",
          "text": [
            "\b\b\b\b\b\b\b\b\b\b\b\b\b\b\b\b\b\b\b\b\b\b\b\b\b\b\b\b\b\b\b\b\b\b\b\b\b\b\b\b\b\b\b\b\b\b\b\b\b\b\b\b\b\b\b\b\b\b\b\b\b\b\b\b\b\b\b\b\b\b\b\b\b\b\b\b\b\b\b\b\b\r18/18 [==============================] - 2s 117ms/step - loss: 164.8774 - mae: 164.8774 - val_loss: 906.9086 - val_mae: 906.9086\n",
            "Epoch 12/100\n",
            "18/18 [==============================] - 0s 9ms/step - loss: 162.2823 - mae: 162.2823 - val_loss: 1007.5922 - val_mae: 1007.5922\n",
            "Epoch 13/100\n",
            "17/18 [===========================>..] - ETA: 0s - loss: 161.0530 - mae: 161.0530"
          ]
        },
        {
          "output_type": "stream",
          "name": "stderr",
          "text": [
            "WARNING:absl:Found untraced functions such as _update_step_xla while saving (showing 1 of 1). These functions will not be directly callable after loading.\n"
          ]
        },
        {
          "output_type": "stream",
          "name": "stdout",
          "text": [
            "\b\b\b\b\b\b\b\b\b\b\b\b\b\b\b\b\b\b\b\b\b\b\b\b\b\b\b\b\b\b\b\b\b\b\b\b\b\b\b\b\b\b\b\b\b\b\b\b\b\b\b\b\b\b\b\b\b\b\b\b\b\b\b\b\b\b\b\b\b\b\b\b\b\b\b\b\b\b\b\b\b\r18/18 [==============================] - 1s 78ms/step - loss: 160.4025 - mae: 160.4025 - val_loss: 894.8569 - val_mae: 894.8569\n",
            "Epoch 14/100\n",
            "14/18 [======================>.......] - ETA: 0s - loss: 157.4944 - mae: 157.4944"
          ]
        },
        {
          "output_type": "stream",
          "name": "stderr",
          "text": [
            "WARNING:absl:Found untraced functions such as _update_step_xla while saving (showing 1 of 1). These functions will not be directly callable after loading.\n"
          ]
        },
        {
          "output_type": "stream",
          "name": "stdout",
          "text": [
            "\b\b\b\b\b\b\b\b\b\b\b\b\b\b\b\b\b\b\b\b\b\b\b\b\b\b\b\b\b\b\b\b\b\b\b\b\b\b\b\b\b\b\b\b\b\b\b\b\b\b\b\b\b\b\b\b\b\b\b\b\b\b\b\b\b\b\b\b\b\b\b\b\b\b\b\b\b\b\b\b\b\r18/18 [==============================] - 2s 93ms/step - loss: 154.9603 - mae: 154.9603 - val_loss: 858.5364 - val_mae: 858.5364\n",
            "Epoch 15/100\n",
            "18/18 [==============================] - 0s 16ms/step - loss: 157.2473 - mae: 157.2473 - val_loss: 907.5568 - val_mae: 907.5568\n",
            "Epoch 16/100\n",
            " 1/18 [>.............................] - ETA: 0s - loss: 144.9244 - mae: 144.9244"
          ]
        },
        {
          "output_type": "stream",
          "name": "stderr",
          "text": [
            "WARNING:absl:Found untraced functions such as _update_step_xla while saving (showing 1 of 1). These functions will not be directly callable after loading.\n"
          ]
        },
        {
          "output_type": "stream",
          "name": "stdout",
          "text": [
            "\b\b\b\b\b\b\b\b\b\b\b\b\b\b\b\b\b\b\b\b\b\b\b\b\b\b\b\b\b\b\b\b\b\b\b\b\b\b\b\b\b\b\b\b\b\b\b\b\b\b\b\b\b\b\b\b\b\b\b\b\b\b\b\b\b\b\b\b\b\b\b\b\b\b\b\b\b\b\b\b\b\r18/18 [==============================] - 1s 35ms/step - loss: 146.4574 - mae: 146.4574 - val_loss: 798.0084 - val_mae: 798.0084\n",
            "Epoch 17/100\n",
            " 1/18 [>.............................] - ETA: 0s - loss: 135.4276 - mae: 135.4276"
          ]
        },
        {
          "output_type": "stream",
          "name": "stderr",
          "text": [
            "WARNING:absl:Found untraced functions such as _update_step_xla while saving (showing 1 of 1). These functions will not be directly callable after loading.\n"
          ]
        },
        {
          "output_type": "stream",
          "name": "stdout",
          "text": [
            "\b\b\b\b\b\b\b\b\b\b\b\b\b\b\b\b\b\b\b\b\b\b\b\b\b\b\b\b\b\b\b\b\b\b\b\b\b\b\b\b\b\b\b\b\b\b\b\b\b\b\b\b\b\b\b\b\b\b\b\b\b\b\b\b\b\b\b\b\b\b\b\b\b\b\b\b\b\b\b\b\b\r18/18 [==============================] - 1s 38ms/step - loss: 138.0505 - mae: 138.0505 - val_loss: 786.7658 - val_mae: 786.7658\n",
            "Epoch 18/100\n",
            " 1/18 [>.............................] - ETA: 0s - loss: 140.6827 - mae: 140.6827"
          ]
        },
        {
          "output_type": "stream",
          "name": "stderr",
          "text": [
            "WARNING:absl:Found untraced functions such as _update_step_xla while saving (showing 1 of 1). These functions will not be directly callable after loading.\n"
          ]
        },
        {
          "output_type": "stream",
          "name": "stdout",
          "text": [
            "\b\b\b\b\b\b\b\b\b\b\b\b\b\b\b\b\b\b\b\b\b\b\b\b\b\b\b\b\b\b\b\b\b\b\b\b\b\b\b\b\b\b\b\b\b\b\b\b\b\b\b\b\b\b\b\b\b\b\b\b\b\b\b\b\b\b\b\b\b\b\b\b\b\b\b\b\b\b\b\b\b\r18/18 [==============================] - 1s 37ms/step - loss: 133.2870 - mae: 133.2870 - val_loss: 767.3256 - val_mae: 767.3256\n",
            "Epoch 19/100\n",
            " 1/18 [>.............................] - ETA: 0s - loss: 77.8772 - mae: 77.8772"
          ]
        },
        {
          "output_type": "stream",
          "name": "stderr",
          "text": [
            "WARNING:absl:Found untraced functions such as _update_step_xla while saving (showing 1 of 1). These functions will not be directly callable after loading.\n"
          ]
        },
        {
          "output_type": "stream",
          "name": "stdout",
          "text": [
            "\b\b\b\b\b\b\b\b\b\b\b\b\b\b\b\b\b\b\b\b\b\b\b\b\b\b\b\b\b\b\b\b\b\b\b\b\b\b\b\b\b\b\b\b\b\b\b\b\b\b\b\b\b\b\b\b\b\b\b\b\b\b\b\b\b\b\b\b\b\b\b\b\b\b\b\b\b\b\b\r18/18 [==============================] - 1s 41ms/step - loss: 130.5848 - mae: 130.5848 - val_loss: 751.5712 - val_mae: 751.5712\n",
            "Epoch 20/100\n",
            "16/18 [=========================>....] - ETA: 0s - loss: 131.5175 - mae: 131.5175"
          ]
        },
        {
          "output_type": "stream",
          "name": "stderr",
          "text": [
            "WARNING:absl:Found untraced functions such as _update_step_xla while saving (showing 1 of 1). These functions will not be directly callable after loading.\n"
          ]
        },
        {
          "output_type": "stream",
          "name": "stdout",
          "text": [
            "\b\b\b\b\b\b\b\b\b\b\b\b\b\b\b\b\b\b\b\b\b\b\b\b\b\b\b\b\b\b\b\b\b\b\b\b\b\b\b\b\b\b\b\b\b\b\b\b\b\b\b\b\b\b\b\b\b\b\b\b\b\b\b\b\b\b\b\b\b\b\b\b\b\b\b\b\b\b\b\b\b\r18/18 [==============================] - 1s 59ms/step - loss: 133.3627 - mae: 133.3627 - val_loss: 702.8932 - val_mae: 702.8932\n",
            "Epoch 21/100\n",
            "18/18 [==============================] - ETA: 0s - loss: 130.3127 - mae: 130.3127"
          ]
        },
        {
          "output_type": "stream",
          "name": "stderr",
          "text": [
            "WARNING:absl:Found untraced functions such as _update_step_xla while saving (showing 1 of 1). These functions will not be directly callable after loading.\n"
          ]
        },
        {
          "output_type": "stream",
          "name": "stdout",
          "text": [
            "\b\b\b\b\b\b\b\b\b\b\b\b\b\b\b\b\b\b\b\b\b\b\b\b\b\b\b\b\b\b\b\b\b\b\b\b\b\b\b\b\b\b\b\b\b\b\b\b\b\b\b\b\b\b\b\b\b\b\b\b\b\b\b\b\b\b\b\b\b\b\b\b\b\b\b\b\b\b\b\b\b\r18/18 [==============================] - 1s 58ms/step - loss: 130.3127 - mae: 130.3127 - val_loss: 684.0228 - val_mae: 684.0228\n",
            "Epoch 22/100\n",
            " 1/18 [>.............................] - ETA: 0s - loss: 171.7647 - mae: 171.7647"
          ]
        },
        {
          "output_type": "stream",
          "name": "stderr",
          "text": [
            "WARNING:absl:Found untraced functions such as _update_step_xla while saving (showing 1 of 1). These functions will not be directly callable after loading.\n"
          ]
        },
        {
          "output_type": "stream",
          "name": "stdout",
          "text": [
            "\b\b\b\b\b\b\b\b\b\b\b\b\b\b\b\b\b\b\b\b\b\b\b\b\b\b\b\b\b\b\b\b\b\b\b\b\b\b\b\b\b\b\b\b\b\b\b\b\b\b\b\b\b\b\b\b\b\b\b\b\b\b\b\b\b\b\b\b\b\b\b\b\b\b\b\b\b\b\b\b\b\r18/18 [==============================] - 1s 43ms/step - loss: 126.1156 - mae: 126.1156 - val_loss: 678.8022 - val_mae: 678.8022\n",
            "Epoch 23/100\n",
            " 1/18 [>.............................] - ETA: 0s - loss: 144.6783 - mae: 144.6783"
          ]
        },
        {
          "output_type": "stream",
          "name": "stderr",
          "text": [
            "WARNING:absl:Found untraced functions such as _update_step_xla while saving (showing 1 of 1). These functions will not be directly callable after loading.\n"
          ]
        },
        {
          "output_type": "stream",
          "name": "stdout",
          "text": [
            "\b\b\b\b\b\b\b\b\b\b\b\b\b\b\b\b\b\b\b\b\b\b\b\b\b\b\b\b\b\b\b\b\b\b\b\b\b\b\b\b\b\b\b\b\b\b\b\b\b\b\b\b\b\b\b\b\b\b\b\b\b\b\b\b\b\b\b\b\b\b\b\b\b\b\b\b\b\b\b\b\b\r18/18 [==============================] - 1s 37ms/step - loss: 123.4351 - mae: 123.4351 - val_loss: 668.5479 - val_mae: 668.5479\n",
            "Epoch 24/100\n",
            " 1/18 [>.............................] - ETA: 0s - loss: 133.4687 - mae: 133.4687"
          ]
        },
        {
          "output_type": "stream",
          "name": "stderr",
          "text": [
            "WARNING:absl:Found untraced functions such as _update_step_xla while saving (showing 1 of 1). These functions will not be directly callable after loading.\n"
          ]
        },
        {
          "output_type": "stream",
          "name": "stdout",
          "text": [
            "\b\b\b\b\b\b\b\b\b\b\b\b\b\b\b\b\b\b\b\b\b\b\b\b\b\b\b\b\b\b\b\b\b\b\b\b\b\b\b\b\b\b\b\b\b\b\b\b\b\b\b\b\b\b\b\b\b\b\b\b\b\b\b\b\b\b\b\b\b\b\b\b\b\b\b\b\b\b\b\b\b\r18/18 [==============================] - 1s 36ms/step - loss: 120.4376 - mae: 120.4376 - val_loss: 652.3776 - val_mae: 652.3776\n",
            "Epoch 25/100\n",
            " 1/18 [>.............................] - ETA: 0s - loss: 125.6716 - mae: 125.6716"
          ]
        },
        {
          "output_type": "stream",
          "name": "stderr",
          "text": [
            "WARNING:absl:Found untraced functions such as _update_step_xla while saving (showing 1 of 1). These functions will not be directly callable after loading.\n"
          ]
        },
        {
          "output_type": "stream",
          "name": "stdout",
          "text": [
            "\b\b\b\b\b\b\b\b\b\b\b\b\b\b\b\b\b\b\b\b\b\b\b\b\b\b\b\b\b\b\b\b\b\b\b\b\b\b\b\b\b\b\b\b\b\b\b\b\b\b\b\b\b\b\b\b\b\b\b\b\b\b\b\b\b\b\b\b\b\b\b\b\b\b\b\b\b\b\b\b\b\r18/18 [==============================] - 1s 35ms/step - loss: 120.8069 - mae: 120.8069 - val_loss: 646.7106 - val_mae: 646.7106\n",
            "Epoch 26/100\n",
            "18/18 [==============================] - 0s 5ms/step - loss: 120.0478 - mae: 120.0478 - val_loss: 646.8646 - val_mae: 646.8646\n",
            "Epoch 27/100\n",
            " 1/18 [>.............................] - ETA: 0s - loss: 174.4524 - mae: 174.4524"
          ]
        },
        {
          "output_type": "stream",
          "name": "stderr",
          "text": [
            "WARNING:absl:Found untraced functions such as _update_step_xla while saving (showing 1 of 1). These functions will not be directly callable after loading.\n"
          ]
        },
        {
          "output_type": "stream",
          "name": "stdout",
          "text": [
            "\b\b\b\b\b\b\b\b\b\b\b\b\b\b\b\b\b\b\b\b\b\b\b\b\b\b\b\b\b\b\b\b\b\b\b\b\b\b\b\b\b\b\b\b\b\b\b\b\b\b\b\b\b\b\b\b\b\b\b\b\b\b\b\b\b\b\b\b\b\b\b\b\b\b\b\b\b\b\b\b\b\r18/18 [==============================] - 1s 37ms/step - loss: 119.5380 - mae: 119.5380 - val_loss: 630.9027 - val_mae: 630.9027\n",
            "Epoch 28/100\n",
            " 1/18 [>.............................] - ETA: 0s - loss: 111.8058 - mae: 111.8058"
          ]
        },
        {
          "output_type": "stream",
          "name": "stderr",
          "text": [
            "WARNING:absl:Found untraced functions such as _update_step_xla while saving (showing 1 of 1). These functions will not be directly callable after loading.\n"
          ]
        },
        {
          "output_type": "stream",
          "name": "stdout",
          "text": [
            "\b\b\b\b\b\b\b\b\b\b\b\b\b\b\b\b\b\b\b\b\b\b\b\b\b\b\b\b\b\b\b\b\b\b\b\b\b\b\b\b\b\b\b\b\b\b\b\b\b\b\b\b\b\b\b\b\b\b\b\b\b\b\b\b\b\b\b\b\b\b\b\b\b\b\b\b\b\b\b\b\b\r18/18 [==============================] - 1s 36ms/step - loss: 116.6707 - mae: 116.6707 - val_loss: 630.4778 - val_mae: 630.4778\n",
            "Epoch 29/100\n",
            " 1/18 [>.............................] - ETA: 0s - loss: 116.6650 - mae: 116.6650"
          ]
        },
        {
          "output_type": "stream",
          "name": "stderr",
          "text": [
            "WARNING:absl:Found untraced functions such as _update_step_xla while saving (showing 1 of 1). These functions will not be directly callable after loading.\n"
          ]
        },
        {
          "output_type": "stream",
          "name": "stdout",
          "text": [
            "\b\b\b\b\b\b\b\b\b\b\b\b\b\b\b\b\b\b\b\b\b\b\b\b\b\b\b\b\b\b\b\b\b\b\b\b\b\b\b\b\b\b\b\b\b\b\b\b\b\b\b\b\b\b\b\b\b\b\b\b\b\b\b\b\b\b\b\b\b\b\b\b\b\b\b\b\b\b\b\b\b\r18/18 [==============================] - 1s 59ms/step - loss: 115.2911 - mae: 115.2911 - val_loss: 627.0209 - val_mae: 627.0209\n",
            "Epoch 30/100\n",
            "18/18 [==============================] - 0s 5ms/step - loss: 118.3332 - mae: 118.3332 - val_loss: 634.5627 - val_mae: 634.5627\n",
            "Epoch 31/100\n",
            "18/18 [==============================] - 0s 5ms/step - loss: 120.6072 - mae: 120.6072 - val_loss: 691.8295 - val_mae: 691.8295\n",
            "Epoch 32/100\n",
            " 1/18 [>.............................] - ETA: 0s - loss: 120.3050 - mae: 120.3050"
          ]
        },
        {
          "output_type": "stream",
          "name": "stderr",
          "text": [
            "WARNING:absl:Found untraced functions such as _update_step_xla while saving (showing 1 of 1). These functions will not be directly callable after loading.\n"
          ]
        },
        {
          "output_type": "stream",
          "name": "stdout",
          "text": [
            "\b\b\b\b\b\b\b\b\b\b\b\b\b\b\b\b\b\b\b\b\b\b\b\b\b\b\b\b\b\b\b\b\b\b\b\b\b\b\b\b\b\b\b\b\b\b\b\b\b\b\b\b\b\b\b\b\b\b\b\b\b\b\b\b\b\b\b\b\b\b\b\b\b\b\b\b\b\b\b\b\b\r18/18 [==============================] - 1s 38ms/step - loss: 116.1838 - mae: 116.1838 - val_loss: 612.1895 - val_mae: 612.1895\n",
            "Epoch 33/100\n",
            "18/18 [==============================] - 0s 4ms/step - loss: 115.7281 - mae: 115.7281 - val_loss: 621.9442 - val_mae: 621.9442\n",
            "Epoch 34/100\n",
            "18/18 [==============================] - 0s 4ms/step - loss: 115.7081 - mae: 115.7081 - val_loss: 616.8978 - val_mae: 616.8978\n",
            "Epoch 35/100\n",
            " 1/18 [>.............................] - ETA: 0s - loss: 97.4972 - mae: 97.4972"
          ]
        },
        {
          "output_type": "stream",
          "name": "stderr",
          "text": [
            "WARNING:absl:Found untraced functions such as _update_step_xla while saving (showing 1 of 1). These functions will not be directly callable after loading.\n"
          ]
        },
        {
          "output_type": "stream",
          "name": "stdout",
          "text": [
            "\b\b\b\b\b\b\b\b\b\b\b\b\b\b\b\b\b\b\b\b\b\b\b\b\b\b\b\b\b\b\b\b\b\b\b\b\b\b\b\b\b\b\b\b\b\b\b\b\b\b\b\b\b\b\b\b\b\b\b\b\b\b\b\b\b\b\b\b\b\b\b\b\b\b\b\b\b\b\b\r18/18 [==============================] - 1s 36ms/step - loss: 114.7543 - mae: 114.7543 - val_loss: 608.0326 - val_mae: 608.0326\n",
            "Epoch 36/100\n",
            "18/18 [==============================] - 0s 5ms/step - loss: 121.5786 - mae: 121.5786 - val_loss: 659.8100 - val_mae: 659.8100\n",
            "Epoch 37/100\n",
            " 1/18 [>.............................] - ETA: 0s - loss: 148.1203 - mae: 148.1203"
          ]
        },
        {
          "output_type": "stream",
          "name": "stderr",
          "text": [
            "WARNING:absl:Found untraced functions such as _update_step_xla while saving (showing 1 of 1). These functions will not be directly callable after loading.\n"
          ]
        },
        {
          "output_type": "stream",
          "name": "stdout",
          "text": [
            "\b\b\b\b\b\b\b\b\b\b\b\b\b\b\b\b\b\b\b\b\b\b\b\b\b\b\b\b\b\b\b\b\b\b\b\b\b\b\b\b\b\b\b\b\b\b\b\b\b\b\b\b\b\b\b\b\b\b\b\b\b\b\b\b\b\b\b\b\b\b\b\b\b\b\b\b\b\b\b\b\b\r18/18 [==============================] - 1s 36ms/step - loss: 114.1101 - mae: 114.1101 - val_loss: 600.3483 - val_mae: 600.3483\n",
            "Epoch 38/100\n",
            "18/18 [==============================] - 0s 4ms/step - loss: 113.1274 - mae: 113.1274 - val_loss: 613.5735 - val_mae: 613.5735\n",
            "Epoch 39/100\n",
            "18/18 [==============================] - 0s 5ms/step - loss: 115.6203 - mae: 115.6203 - val_loss: 638.8630 - val_mae: 638.8630\n",
            "Epoch 40/100\n",
            " 1/18 [>.............................] - ETA: 0s - loss: 106.2203 - mae: 106.2203"
          ]
        },
        {
          "output_type": "stream",
          "name": "stderr",
          "text": [
            "WARNING:absl:Found untraced functions such as _update_step_xla while saving (showing 1 of 1). These functions will not be directly callable after loading.\n"
          ]
        },
        {
          "output_type": "stream",
          "name": "stdout",
          "text": [
            "\b\b\b\b\b\b\b\b\b\b\b\b\b\b\b\b\b\b\b\b\b\b\b\b\b\b\b\b\b\b\b\b\b\b\b\b\b\b\b\b\b\b\b\b\b\b\b\b\b\b\b\b\b\b\b\b\b\b\b\b\b\b\b\b\b\b\b\b\b\b\b\b\b\b\b\b\b\b\b\b\b\r18/18 [==============================] - 1s 36ms/step - loss: 111.6037 - mae: 111.6037 - val_loss: 595.3126 - val_mae: 595.3126\n",
            "Epoch 41/100\n",
            "18/18 [==============================] - 0s 4ms/step - loss: 111.9128 - mae: 111.9128 - val_loss: 611.8822 - val_mae: 611.8822\n",
            "Epoch 42/100\n",
            "18/18 [==============================] - 0s 5ms/step - loss: 115.0546 - mae: 115.0546 - val_loss: 612.4564 - val_mae: 612.4564\n",
            "Epoch 43/100\n",
            "18/18 [==============================] - 0s 5ms/step - loss: 113.0539 - mae: 113.0539 - val_loss: 598.9610 - val_mae: 598.9610\n",
            "Epoch 44/100\n",
            "18/18 [==============================] - 0s 5ms/step - loss: 113.9596 - mae: 113.9596 - val_loss: 595.7664 - val_mae: 595.7664\n",
            "Epoch 45/100\n",
            "18/18 [==============================] - 0s 5ms/step - loss: 112.0025 - mae: 112.0025 - val_loss: 609.2155 - val_mae: 609.2155\n",
            "Epoch 46/100\n",
            " 1/18 [>.............................] - ETA: 0s - loss: 84.1321 - mae: 84.1321"
          ]
        },
        {
          "output_type": "stream",
          "name": "stderr",
          "text": [
            "WARNING:absl:Found untraced functions such as _update_step_xla while saving (showing 1 of 1). These functions will not be directly callable after loading.\n"
          ]
        },
        {
          "output_type": "stream",
          "name": "stdout",
          "text": [
            "\b\b\b\b\b\b\b\b\b\b\b\b\b\b\b\b\b\b\b\b\b\b\b\b\b\b\b\b\b\b\b\b\b\b\b\b\b\b\b\b\b\b\b\b\b\b\b\b\b\b\b\b\b\b\b\b\b\b\b\b\b\b\b\b\b\b\b\b\b\b\b\b\b\b\b\b\b\b\b\r18/18 [==============================] - 1s 37ms/step - loss: 111.8446 - mae: 111.8446 - val_loss: 591.3845 - val_mae: 591.3845\n",
            "Epoch 47/100\n",
            "18/18 [==============================] - 0s 5ms/step - loss: 110.6923 - mae: 110.6923 - val_loss: 612.9393 - val_mae: 612.9393\n",
            "Epoch 48/100\n",
            "18/18 [==============================] - 0s 4ms/step - loss: 110.1275 - mae: 110.1275 - val_loss: 612.7234 - val_mae: 612.7234\n",
            "Epoch 49/100\n",
            " 1/18 [>.............................] - ETA: 0s - loss: 162.6488 - mae: 162.6488"
          ]
        },
        {
          "output_type": "stream",
          "name": "stderr",
          "text": [
            "WARNING:absl:Found untraced functions such as _update_step_xla while saving (showing 1 of 1). These functions will not be directly callable after loading.\n"
          ]
        },
        {
          "output_type": "stream",
          "name": "stdout",
          "text": [
            "\b\b\b\b\b\b\b\b\b\b\b\b\b\b\b\b\b\b\b\b\b\b\b\b\b\b\b\b\b\b\b\b\b\b\b\b\b\b\b\b\b\b\b\b\b\b\b\b\b\b\b\b\b\b\b\b\b\b\b\b\b\b\b\b\b\b\b\b\b\b\b\b\b\b\b\b\b\b\b\b\b\r18/18 [==============================] - 1s 53ms/step - loss: 115.9278 - mae: 115.9278 - val_loss: 583.8930 - val_mae: 583.8930\n",
            "Epoch 50/100\n",
            "18/18 [==============================] - 0s 17ms/step - loss: 110.8006 - mae: 110.8006 - val_loss: 623.2976 - val_mae: 623.2976\n",
            "Epoch 51/100\n",
            "18/18 [==============================] - 0s 13ms/step - loss: 110.8177 - mae: 110.8177 - val_loss: 592.0732 - val_mae: 592.0732\n",
            "Epoch 52/100\n",
            "18/18 [==============================] - 0s 9ms/step - loss: 112.2189 - mae: 112.2189 - val_loss: 598.8688 - val_mae: 598.8688\n",
            "Epoch 53/100\n",
            "18/18 [==============================] - 0s 16ms/step - loss: 114.1588 - mae: 114.1588 - val_loss: 605.3142 - val_mae: 605.3142\n",
            "Epoch 54/100\n",
            "18/18 [==============================] - 0s 20ms/step - loss: 114.4697 - mae: 114.4697 - val_loss: 607.0651 - val_mae: 607.0651\n",
            "Epoch 55/100\n",
            "16/18 [=========================>....] - ETA: 0s - loss: 114.7456 - mae: 114.7456"
          ]
        },
        {
          "output_type": "stream",
          "name": "stderr",
          "text": [
            "WARNING:absl:Found untraced functions such as _update_step_xla while saving (showing 1 of 1). These functions will not be directly callable after loading.\n"
          ]
        },
        {
          "output_type": "stream",
          "name": "stdout",
          "text": [
            "\b\b\b\b\b\b\b\b\b\b\b\b\b\b\b\b\b\b\b\b\b\b\b\b\b\b\b\b\b\b\b\b\b\b\b\b\b\b\b\b\b\b\b\b\b\b\b\b\b\b\b\b\b\b\b\b\b\b\b\b\b\b\b\b\b\b\b\b\b\b\b\b\b\b\b\b\b\b\b\b\b\r18/18 [==============================] - 2s 131ms/step - loss: 111.4055 - mae: 111.4055 - val_loss: 583.4327 - val_mae: 583.4327\n",
            "Epoch 56/100\n",
            "18/18 [==============================] - 0s 10ms/step - loss: 111.1867 - mae: 111.1867 - val_loss: 844.6569 - val_mae: 844.6569\n",
            "Epoch 57/100\n",
            "18/18 [==============================] - 0s 5ms/step - loss: 136.6455 - mae: 136.6455 - val_loss: 685.3148 - val_mae: 685.3148\n",
            "Epoch 58/100\n",
            "18/18 [==============================] - 0s 4ms/step - loss: 120.6733 - mae: 120.6733 - val_loss: 662.8568 - val_mae: 662.8568\n",
            "Epoch 59/100\n",
            "18/18 [==============================] - 0s 5ms/step - loss: 113.0814 - mae: 113.0814 - val_loss: 604.8898 - val_mae: 604.8898\n",
            "Epoch 60/100\n",
            "18/18 [==============================] - 0s 6ms/step - loss: 111.9931 - mae: 111.9931 - val_loss: 640.0500 - val_mae: 640.0500\n",
            "Epoch 61/100\n",
            "18/18 [==============================] - 0s 4ms/step - loss: 110.1543 - mae: 110.1543 - val_loss: 586.2827 - val_mae: 586.2827\n",
            "Epoch 62/100\n",
            "18/18 [==============================] - 0s 5ms/step - loss: 109.2451 - mae: 109.2451 - val_loss: 590.4773 - val_mae: 590.4773\n",
            "Epoch 63/100\n",
            "18/18 [==============================] - 0s 5ms/step - loss: 111.3580 - mae: 111.3580 - val_loss: 597.6859 - val_mae: 597.6859\n",
            "Epoch 64/100\n",
            "18/18 [==============================] - 0s 5ms/step - loss: 111.2442 - mae: 111.2442 - val_loss: 646.2310 - val_mae: 646.2310\n",
            "Epoch 65/100\n",
            " 1/18 [>.............................] - ETA: 0s - loss: 141.1248 - mae: 141.1248"
          ]
        },
        {
          "output_type": "stream",
          "name": "stderr",
          "text": [
            "WARNING:absl:Found untraced functions such as _update_step_xla while saving (showing 1 of 1). These functions will not be directly callable after loading.\n"
          ]
        },
        {
          "output_type": "stream",
          "name": "stdout",
          "text": [
            "\b\b\b\b\b\b\b\b\b\b\b\b\b\b\b\b\b\b\b\b\b\b\b\b\b\b\b\b\b\b\b\b\b\b\b\b\b\b\b\b\b\b\b\b\b\b\b\b\b\b\b\b\b\b\b\b\b\b\b\b\b\b\b\b\b\b\b\b\b\b\b\b\b\b\b\b\b\b\b\b\b\r18/18 [==============================] - 1s 39ms/step - loss: 113.0455 - mae: 113.0455 - val_loss: 573.6863 - val_mae: 573.6863\n",
            "Epoch 66/100\n",
            " 1/18 [>.............................] - ETA: 0s - loss: 114.1401 - mae: 114.1401"
          ]
        },
        {
          "output_type": "stream",
          "name": "stderr",
          "text": [
            "WARNING:absl:Found untraced functions such as _update_step_xla while saving (showing 1 of 1). These functions will not be directly callable after loading.\n"
          ]
        },
        {
          "output_type": "stream",
          "name": "stdout",
          "text": [
            "\b\b\b\b\b\b\b\b\b\b\b\b\b\b\b\b\b\b\b\b\b\b\b\b\b\b\b\b\b\b\b\b\b\b\b\b\b\b\b\b\b\b\b\b\b\b\b\b\b\b\b\b\b\b\b\b\b\b\b\b\b\b\b\b\b\b\b\b\b\b\b\b\b\b\b\b\b\b\b\b\b\r18/18 [==============================] - 1s 40ms/step - loss: 109.9271 - mae: 109.9271 - val_loss: 573.1182 - val_mae: 573.1182\n",
            "Epoch 67/100\n",
            "18/18 [==============================] - 0s 5ms/step - loss: 108.6749 - mae: 108.6749 - val_loss: 618.8995 - val_mae: 618.8995\n",
            "Epoch 68/100\n",
            "18/18 [==============================] - 0s 4ms/step - loss: 115.2886 - mae: 115.2886 - val_loss: 696.8459 - val_mae: 696.8459\n",
            "Epoch 69/100\n",
            "18/18 [==============================] - 0s 4ms/step - loss: 127.5794 - mae: 127.5794 - val_loss: 725.6473 - val_mae: 725.6473\n",
            "Epoch 70/100\n",
            "18/18 [==============================] - 0s 6ms/step - loss: 122.3290 - mae: 122.3290 - val_loss: 578.2622 - val_mae: 578.2622\n",
            "Epoch 71/100\n",
            "18/18 [==============================] - 0s 4ms/step - loss: 111.0412 - mae: 111.0412 - val_loss: 580.0414 - val_mae: 580.0414\n",
            "Epoch 72/100\n",
            "18/18 [==============================] - ETA: 0s - loss: 109.1762 - mae: 109.1762"
          ]
        },
        {
          "output_type": "stream",
          "name": "stderr",
          "text": [
            "WARNING:absl:Found untraced functions such as _update_step_xla while saving (showing 1 of 1). These functions will not be directly callable after loading.\n"
          ]
        },
        {
          "output_type": "stream",
          "name": "stdout",
          "text": [
            "\b\b\b\b\b\b\b\b\b\b\b\b\b\b\b\b\b\b\b\b\b\b\b\b\b\b\b\b\b\b\b\b\b\b\b\b\b\b\b\b\b\b\b\b\b\b\b\b\b\b\b\b\b\b\b\b\b\b\b\b\b\b\b\b\b\b\b\b\b\b\b\b\b\b\b\b\b\b\b\b\b\r18/18 [==============================] - 1s 42ms/step - loss: 109.1762 - mae: 109.1762 - val_loss: 570.5995 - val_mae: 570.5995\n",
            "Epoch 73/100\n",
            "18/18 [==============================] - 0s 4ms/step - loss: 111.0013 - mae: 111.0013 - val_loss: 656.1019 - val_mae: 656.1019\n",
            "Epoch 74/100\n",
            "18/18 [==============================] - 0s 5ms/step - loss: 107.8853 - mae: 107.8853 - val_loss: 571.9374 - val_mae: 571.9374\n",
            "Epoch 75/100\n",
            "18/18 [==============================] - 0s 6ms/step - loss: 108.2382 - mae: 108.2382 - val_loss: 582.6360 - val_mae: 582.6360\n",
            "Epoch 76/100\n",
            "18/18 [==============================] - 0s 6ms/step - loss: 109.9253 - mae: 109.9253 - val_loss: 577.8062 - val_mae: 577.8062\n",
            "Epoch 77/100\n",
            "18/18 [==============================] - 0s 4ms/step - loss: 106.7971 - mae: 106.7971 - val_loss: 577.9468 - val_mae: 577.9468\n",
            "Epoch 78/100\n",
            "18/18 [==============================] - 0s 5ms/step - loss: 111.5913 - mae: 111.5913 - val_loss: 578.7133 - val_mae: 578.7133\n",
            "Epoch 79/100\n",
            "18/18 [==============================] - 0s 5ms/step - loss: 111.5366 - mae: 111.5366 - val_loss: 596.8340 - val_mae: 596.8340\n",
            "Epoch 80/100\n",
            "18/18 [==============================] - 0s 4ms/step - loss: 108.1673 - mae: 108.1673 - val_loss: 604.4857 - val_mae: 604.4857\n",
            "Epoch 81/100\n",
            " 1/18 [>.............................] - ETA: 0s - loss: 99.4953 - mae: 99.4953"
          ]
        },
        {
          "output_type": "stream",
          "name": "stderr",
          "text": [
            "WARNING:absl:Found untraced functions such as _update_step_xla while saving (showing 1 of 1). These functions will not be directly callable after loading.\n"
          ]
        },
        {
          "output_type": "stream",
          "name": "stdout",
          "text": [
            "\b\b\b\b\b\b\b\b\b\b\b\b\b\b\b\b\b\b\b\b\b\b\b\b\b\b\b\b\b\b\b\b\b\b\b\b\b\b\b\b\b\b\b\b\b\b\b\b\b\b\b\b\b\b\b\b\b\b\b\b\b\b\b\b\b\b\b\b\b\b\b\b\b\b\b\b\b\b\b\r18/18 [==============================] - 1s 38ms/step - loss: 107.4335 - mae: 107.4335 - val_loss: 567.6978 - val_mae: 567.6978\n",
            "Epoch 82/100\n",
            "18/18 [==============================] - 0s 5ms/step - loss: 113.9276 - mae: 113.9276 - val_loss: 577.1741 - val_mae: 577.1741\n",
            "Epoch 83/100\n",
            "18/18 [==============================] - 0s 4ms/step - loss: 113.1695 - mae: 113.1695 - val_loss: 650.1970 - val_mae: 650.1970\n",
            "Epoch 84/100\n",
            "18/18 [==============================] - 0s 5ms/step - loss: 113.9588 - mae: 113.9588 - val_loss: 581.6180 - val_mae: 581.6180\n",
            "Epoch 85/100\n",
            "18/18 [==============================] - 0s 4ms/step - loss: 107.3078 - mae: 107.3078 - val_loss: 578.0323 - val_mae: 578.0323\n",
            "Epoch 86/100\n",
            "18/18 [==============================] - 0s 5ms/step - loss: 109.1579 - mae: 109.1579 - val_loss: 602.8190 - val_mae: 602.8190\n",
            "Epoch 87/100\n",
            "18/18 [==============================] - 0s 4ms/step - loss: 106.7088 - mae: 106.7088 - val_loss: 591.8712 - val_mae: 591.8712\n",
            "Epoch 88/100\n",
            "18/18 [==============================] - 0s 4ms/step - loss: 107.3504 - mae: 107.3504 - val_loss: 578.8734 - val_mae: 578.8734\n",
            "Epoch 89/100\n",
            " 1/18 [>.............................] - ETA: 0s - loss: 103.3595 - mae: 103.3595"
          ]
        },
        {
          "output_type": "stream",
          "name": "stderr",
          "text": [
            "WARNING:absl:Found untraced functions such as _update_step_xla while saving (showing 1 of 1). These functions will not be directly callable after loading.\n"
          ]
        },
        {
          "output_type": "stream",
          "name": "stdout",
          "text": [
            "\b\b\b\b\b\b\b\b\b\b\b\b\b\b\b\b\b\b\b\b\b\b\b\b\b\b\b\b\b\b\b\b\b\b\b\b\b\b\b\b\b\b\b\b\b\b\b\b\b\b\b\b\b\b\b\b\b\b\b\b\b\b\b\b\b\b\b\b\b\b\b\b\b\b\b\b\b\b\b\b\b\r18/18 [==============================] - 1s 38ms/step - loss: 107.3024 - mae: 107.3024 - val_loss: 564.7151 - val_mae: 564.7151\n",
            "Epoch 90/100\n",
            "18/18 [==============================] - 0s 4ms/step - loss: 106.6814 - mae: 106.6814 - val_loss: 591.4382 - val_mae: 591.4382\n",
            "Epoch 91/100\n",
            "18/18 [==============================] - 0s 4ms/step - loss: 110.1060 - mae: 110.1060 - val_loss: 588.3875 - val_mae: 588.3875\n",
            "Epoch 92/100\n",
            "18/18 [==============================] - 0s 5ms/step - loss: 109.7816 - mae: 109.7816 - val_loss: 564.8751 - val_mae: 564.8751\n",
            "Epoch 93/100\n",
            "18/18 [==============================] - 0s 4ms/step - loss: 113.7944 - mae: 113.7944 - val_loss: 600.0532 - val_mae: 600.0532\n",
            "Epoch 94/100\n",
            "18/18 [==============================] - 0s 4ms/step - loss: 110.8633 - mae: 110.8633 - val_loss: 587.1409 - val_mae: 587.1409\n",
            "Epoch 95/100\n",
            " 1/18 [>.............................] - ETA: 0s - loss: 138.9773 - mae: 138.9773"
          ]
        },
        {
          "output_type": "stream",
          "name": "stderr",
          "text": [
            "WARNING:absl:Found untraced functions such as _update_step_xla while saving (showing 1 of 1). These functions will not be directly callable after loading.\n"
          ]
        },
        {
          "output_type": "stream",
          "name": "stdout",
          "text": [
            "\b\b\b\b\b\b\b\b\b\b\b\b\b\b\b\b\b\b\b\b\b\b\b\b\b\b\b\b\b\b\b\b\b\b\b\b\b\b\b\b\b\b\b\b\b\b\b\b\b\b\b\b\b\b\b\b\b\b\b\b\b\b\b\b\b\b\b\b\b\b\b\b\b\b\b\b\b\b\b\b\b\r18/18 [==============================] - 1s 38ms/step - loss: 106.6430 - mae: 106.6430 - val_loss: 562.9643 - val_mae: 562.9643\n",
            "Epoch 96/100\n",
            "18/18 [==============================] - 0s 4ms/step - loss: 110.1579 - mae: 110.1579 - val_loss: 644.3585 - val_mae: 644.3585\n",
            "Epoch 97/100\n",
            "18/18 [==============================] - 0s 4ms/step - loss: 109.9149 - mae: 109.9149 - val_loss: 609.9517 - val_mae: 609.9517\n",
            "Epoch 98/100\n",
            "18/18 [==============================] - 0s 4ms/step - loss: 109.6186 - mae: 109.6186 - val_loss: 592.6377 - val_mae: 592.6377\n",
            "Epoch 99/100\n",
            "18/18 [==============================] - 0s 4ms/step - loss: 109.5641 - mae: 109.5641 - val_loss: 576.5713 - val_mae: 576.5713\n",
            "Epoch 100/100\n",
            "18/18 [==============================] - 0s 5ms/step - loss: 117.9937 - mae: 117.9937 - val_loss: 650.4100 - val_mae: 650.4100\n"
          ]
        }
      ]
    },
    {
      "cell_type": "code",
      "source": [
        "model_1.evaluate(test_windows,test_labels)"
      ],
      "metadata": {
        "colab": {
          "base_uri": "https://localhost:8080/"
        },
        "id": "5MfZbhUaRNGJ",
        "outputId": "43cf1b10-c957-4e7e-a62d-83defdb1387a"
      },
      "execution_count": 33,
      "outputs": [
        {
          "output_type": "stream",
          "name": "stdout",
          "text": [
            "18/18 [==============================] - 0s 2ms/step - loss: 650.4100 - mae: 650.4100\n"
          ]
        },
        {
          "output_type": "execute_result",
          "data": {
            "text/plain": [
              "[650.4099731445312, 650.4099731445312]"
            ]
          },
          "metadata": {},
          "execution_count": 33
        }
      ]
    },
    {
      "cell_type": "code",
      "source": [
        "# Load in best saved model and evaluate on test data\n",
        "saved_model_1 = tf.keras.models.load_model(\"model_experiment/model_1_dense\")\n",
        "saved_model_1.evaluate(test_windows,test_labels)"
      ],
      "metadata": {
        "colab": {
          "base_uri": "https://localhost:8080/"
        },
        "id": "nY2du9FPs7GB",
        "outputId": "4068fd03-997f-4e39-935d-5fec8f3914f6"
      },
      "execution_count": 34,
      "outputs": [
        {
          "output_type": "stream",
          "name": "stdout",
          "text": [
            "18/18 [==============================] - 0s 2ms/step - loss: 562.9643 - mae: 562.9643\n"
          ]
        },
        {
          "output_type": "execute_result",
          "data": {
            "text/plain": [
              "[562.9642944335938, 562.9642944335938]"
            ]
          },
          "metadata": {},
          "execution_count": 34
        }
      ]
    },
    {
      "cell_type": "markdown",
      "source": [
        "## Making forecast with a model ( on test dataset )\n",
        "Since we are going to run more modelling experiments, lets write a function which can return the predictions given a model and input data\n",
        "\n",
        "* Take a trained model\n",
        "* Take in some input data\n",
        "* Pass the input data to the model\n",
        "* Returns the prediction"
      ],
      "metadata": {
        "id": "ZCkrqt7RtdEC"
      }
    },
    {
      "cell_type": "code",
      "source": [
        "def make_preds(model,input_data):\n",
        "  \"\"\"\n",
        "    Uses model to make predictions on input data\n",
        "\n",
        "    Args:\n",
        "      model: trained model\n",
        "      input_data: windowed input data ( same kind as the model is trained on)\n",
        "    Returns:\n",
        "      model prediction on input data\n",
        "  \"\"\"\n",
        "  return tf.squeeze(model.predict(input_data))"
      ],
      "metadata": {
        "id": "ilIrBtWfvPX8"
      },
      "execution_count": 35,
      "outputs": []
    },
    {
      "cell_type": "code",
      "source": [
        "model_1_preds = make_preds(model_1,test_windows)\n",
        "model_1_preds[:10], len(model_1_preds)"
      ],
      "metadata": {
        "colab": {
          "base_uri": "https://localhost:8080/"
        },
        "id": "G5SuXN51yxIv",
        "outputId": "25740c13-a5e1-4f59-c24e-8a00a4771a46"
      },
      "execution_count": 36,
      "outputs": [
        {
          "output_type": "stream",
          "name": "stdout",
          "text": [
            "18/18 [==============================] - 0s 1ms/step\n"
          ]
        },
        {
          "output_type": "execute_result",
          "data": {
            "text/plain": [
              "(<tf.Tensor: shape=(10,), dtype=float32, numpy=\n",
              " array([8716.169, 8634.791, 8869.333, 8637.431, 8618.751, 8608.79 ,\n",
              "        8521.302, 8392.017, 8330.122, 8379.357], dtype=float32)>,\n",
              " 556)"
            ]
          },
          "metadata": {},
          "execution_count": 36
        }
      ]
    },
    {
      "cell_type": "markdown",
      "source": [
        "### Now lets evaluate our model using the `evaluate_model` method we create above in this notebook"
      ],
      "metadata": {
        "id": "hL6BaSCly5yu"
      }
    },
    {
      "cell_type": "code",
      "source": [
        "test_labels.shape, model_1_preds.shape"
      ],
      "metadata": {
        "colab": {
          "base_uri": "https://localhost:8080/"
        },
        "id": "wp_xpmdSzndS",
        "outputId": "a64023e6-f189-439f-be3b-da58d45b171c"
      },
      "execution_count": 37,
      "outputs": [
        {
          "output_type": "execute_result",
          "data": {
            "text/plain": [
              "((556, 1), TensorShape([556]))"
            ]
          },
          "metadata": {},
          "execution_count": 37
        }
      ]
    },
    {
      "cell_type": "code",
      "source": [
        "evaluate_pred?"
      ],
      "metadata": {
        "id": "aNCxAmRvz2J2"
      },
      "execution_count": 38,
      "outputs": []
    },
    {
      "cell_type": "code",
      "source": [
        "model_1_results = evaluate_pred(y_true=tf.squeeze(test_labels)\n",
        "                                ,y_pred=model_1_preds)\n",
        "model_1_results"
      ],
      "metadata": {
        "colab": {
          "base_uri": "https://localhost:8080/"
        },
        "id": "6nAWS9lqzSge",
        "outputId": "46135883-7f25-4ff3-ce67-cdf6ff984a79"
      },
      "execution_count": 39,
      "outputs": [
        {
          "output_type": "execute_result",
          "data": {
            "text/plain": [
              "{'mae': 650.41,\n",
              " 'mse': 1330815.1,\n",
              " 'rmse': 1153.6096,\n",
              " 'mape': 2.983493,\n",
              " 'mase': 1.1425902}"
            ]
          },
          "metadata": {},
          "execution_count": 39
        }
      ]
    },
    {
      "cell_type": "markdown",
      "source": [
        "### Let us use the `plot_time_series` function to plot the `model_1_preds` against the test_data"
      ],
      "metadata": {
        "id": "Q354fURQzmiJ"
      }
    },
    {
      "cell_type": "code",
      "source": [
        "offset= 300\n",
        "plt.figure(figsize=(10,7))\n",
        "\n",
        "plot_time_series(timesteps=X_test[-len(test_windows):],values=test_labels[:,0]\n",
        "                 ,start=offset,label=\"Test data\")\n",
        "plot_time_series(timesteps=X_test[-len(test_windows):],values=model_1_preds\n",
        "                 ,start=offset,label=\"model_1_preds\",format=\"-\")\n"
      ],
      "metadata": {
        "colab": {
          "base_uri": "https://localhost:8080/",
          "height": 619
        },
        "id": "l8Bhxd-yzk0S",
        "outputId": "254456d1-f4e8-41d3-bcc5-bc85d58376f3"
      },
      "execution_count": 40,
      "outputs": [
        {
          "output_type": "display_data",
          "data": {
            "text/plain": [
              "<Figure size 1000x700 with 1 Axes>"
            ],
            "image/png": "[encoded data removed]"
          },
          "metadata": {}
        }
      ]
    },
    {
      "cell_type": "markdown",
      "source": [
        "## Model 2: Window size=30, Horizon=1\n",
        "We will start with our second modelling experiment where the window size=30 and horizon=1\n",
        "\n",
        "We will use the functions we have created earlier to create our train/test feature and train/test labels\n"
      ],
      "metadata": {
        "id": "NDKMNXxE1mog"
      }
    },
    {
      "cell_type": "code",
      "source": [
        "HORIZON=1\n",
        "WINDOW_SIZE=30"
      ],
      "metadata": {
        "id": "-u8toHb85CNf"
      },
      "execution_count": 41,
      "outputs": []
    },
    {
      "cell_type": "code",
      "source": [
        "full_windows, full_labels = make_windows(prices,window_size=WINDOW_SIZE\n",
        "                                         ,horizon=HORIZON)\n",
        "\n",
        "len(full_windows), len(full_labels)"
      ],
      "metadata": {
        "colab": {
          "base_uri": "https://localhost:8080/"
        },
        "id": "lW1KOh2j5LTi",
        "outputId": "e6ae33cb-b912-46d8-9cf8-f7157512f7e3"
      },
      "execution_count": 42,
      "outputs": [
        {
          "output_type": "execute_result",
          "data": {
            "text/plain": [
              "(2757, 2757)"
            ]
          },
          "metadata": {},
          "execution_count": 42
        }
      ]
    },
    {
      "cell_type": "code",
      "source": [
        "train_window, train_label, test_window , test_label=make_train_test_split(full_windows\n",
        "                                                                         ,full_labels\n",
        "                                                                         ,test_split=0.2)\n",
        "len(train_window), len(train_label), len(test_window), len(test_label)\n"
      ],
      "metadata": {
        "colab": {
          "base_uri": "https://localhost:8080/"
        },
        "id": "U4nDH_r25ZsU",
        "outputId": "39d7dd19-8119-4235-cac6-cdbfe04e0521"
      },
      "execution_count": 43,
      "outputs": [
        {
          "output_type": "execute_result",
          "data": {
            "text/plain": [
              "(2205, 2205, 552, 552)"
            ]
          },
          "metadata": {},
          "execution_count": 43
        }
      ]
    },
    {
      "cell_type": "code",
      "source": [
        "import tensorflow as tf\n",
        "from tensorflow.keras import layers\n",
        "\n",
        "# set seed\n",
        "tf.random.set_seed(42)\n",
        "\n",
        "# Create model\n",
        "model_2 = tf.keras.Sequential([\n",
        "    layers.Dense(128,activation=\"relu\")\n",
        "    ,layers.Dense(HORIZON,activation=\"linear\")\n",
        "],name=\"model_2_Dense\")\n",
        "\n",
        "model_2.compile(loss=\"mae\"\n",
        "                 ,optimizer=tf.keras.optimizers.Adam()\n",
        "                 ,metrics=[\"mae\"]\n",
        "                 )\n",
        "history_2 = model_2.fit(x=train_window\n",
        "                        ,y=train_label\n",
        "                        ,epochs=100\n",
        "                        ,verbose=1\n",
        "                        ,validation_data=(test_window,test_label)\n",
        "                        ,callbacks=[create_model_checkpoint(model_name=model_2.name)])\n",
        "\n",
        "\n",
        "\n"
      ],
      "metadata": {
        "colab": {
          "base_uri": "https://localhost:8080/"
        },
        "id": "ATKQ-xPN5yt8",
        "outputId": "c6603d96-583f-48af-ee2b-8d81a42d064a"
      },
      "execution_count": 44,
      "outputs": [
        {
          "output_type": "stream",
          "name": "stdout",
          "text": [
            "Epoch 1/100\n",
            "66/69 [===========================>..] - ETA: 0s - loss: 378.1536 - mae: 378.1536"
          ]
        },
        {
          "output_type": "stream",
          "name": "stderr",
          "text": [
            "WARNING:absl:Found untraced functions such as _update_step_xla while saving (showing 1 of 1). These functions will not be directly callable after loading.\n"
          ]
        },
        {
          "output_type": "stream",
          "name": "stdout",
          "text": [
            "\b\b\b\b\b\b\b\b\b\b\b\b\b\b\b\b\b\b\b\b\b\b\b\b\b\b\b\b\b\b\b\b\b\b\b\b\b\b\b\b\b\b\b\b\b\b\b\b\b\b\b\b\b\b\b\b\b\b\b\b\b\b\b\b\b\b\b\b\b\b\b\b\b\b\b\b\b\b\b\b\b\r69/69 [==============================] - 3s 22ms/step - loss: 373.3441 - mae: 373.3441 - val_loss: 1312.9489 - val_mae: 1312.9489\n",
            "Epoch 2/100\n",
            "69/69 [==============================] - 0s 3ms/step - loss: 232.6907 - mae: 232.6907 - val_loss: 1783.4873 - val_mae: 1783.4873\n",
            "Epoch 3/100\n",
            "56/69 [=======================>......] - ETA: 0s - loss: 200.9488 - mae: 200.9488"
          ]
        },
        {
          "output_type": "stream",
          "name": "stderr",
          "text": [
            "WARNING:absl:Found untraced functions such as _update_step_xla while saving (showing 1 of 1). These functions will not be directly callable after loading.\n"
          ]
        },
        {
          "output_type": "stream",
          "name": "stdout",
          "text": [
            "\b\b\b\b\b\b\b\b\b\b\b\b\b\b\b\b\b\b\b\b\b\b\b\b\b\b\b\b\b\b\b\b\b\b\b\b\b\b\b\b\b\b\b\b\b\b\b\b\b\b\b\b\b\b\b\b\b\b\b\b\b\b\b\b\b\b\b\b\b\b\b\b\b\b\b\b\b\b\b\b\b\r69/69 [==============================] - 1s 12ms/step - loss: 193.6495 - mae: 193.6495 - val_loss: 958.0392 - val_mae: 958.0392\n",
            "Epoch 4/100\n",
            "48/69 [===================>..........] - ETA: 0s - loss: 192.6639 - mae: 192.6639"
          ]
        },
        {
          "output_type": "stream",
          "name": "stderr",
          "text": [
            "WARNING:absl:Found untraced functions such as _update_step_xla while saving (showing 1 of 1). These functions will not be directly callable after loading.\n"
          ]
        },
        {
          "output_type": "stream",
          "name": "stdout",
          "text": [
            "\b\b\b\b\b\b\b\b\b\b\b\b\b\b\b\b\b\b\b\b\b\b\b\b\b\b\b\b\b\b\b\b\b\b\b\b\b\b\b\b\b\b\b\b\b\b\b\b\b\b\b\b\b\b\b\b\b\b\b\b\b\b\b\b\b\b\b\b\b\b\b\b\b\b\b\b\b\b\b\b\b\r69/69 [==============================] - 1s 12ms/step - loss: 201.8272 - mae: 201.8272 - val_loss: 809.0184 - val_mae: 809.0184\n",
            "Epoch 5/100\n",
            "65/69 [===========================>..] - ETA: 0s - loss: 150.6484 - mae: 150.6484"
          ]
        },
        {
          "output_type": "stream",
          "name": "stderr",
          "text": [
            "WARNING:absl:Found untraced functions such as _update_step_xla while saving (showing 1 of 1). These functions will not be directly callable after loading.\n"
          ]
        },
        {
          "output_type": "stream",
          "name": "stdout",
          "text": [
            "\b\b\b\b\b\b\b\b\b\b\b\b\b\b\b\b\b\b\b\b\b\b\b\b\b\b\b\b\b\b\b\b\b\b\b\b\b\b\b\b\b\b\b\b\b\b\b\b\b\b\b\b\b\b\b\b\b\b\b\b\b\b\b\b\b\b\b\b\b\b\b\b\b\b\b\b\b\b\b\b\b\r69/69 [==============================] - 1s 12ms/step - loss: 151.9967 - mae: 151.9967 - val_loss: 757.4562 - val_mae: 757.4562\n",
            "Epoch 6/100\n",
            "69/69 [==============================] - 0s 3ms/step - loss: 178.7271 - mae: 178.7271 - val_loss: 780.6096 - val_mae: 780.6096\n",
            "Epoch 7/100\n",
            "69/69 [==============================] - 0s 3ms/step - loss: 168.7457 - mae: 168.7457 - val_loss: 947.4142 - val_mae: 947.4142\n",
            "Epoch 8/100\n",
            "69/69 [==============================] - 0s 3ms/step - loss: 172.5497 - mae: 172.5497 - val_loss: 824.7254 - val_mae: 824.7254\n",
            "Epoch 9/100\n",
            "69/69 [==============================] - 0s 3ms/step - loss: 174.1472 - mae: 174.1472 - val_loss: 875.9445 - val_mae: 875.9445\n",
            "Epoch 10/100\n",
            "53/69 [======================>.......] - ETA: 0s - loss: 156.8125 - mae: 156.8125"
          ]
        },
        {
          "output_type": "stream",
          "name": "stderr",
          "text": [
            "WARNING:absl:Found untraced functions such as _update_step_xla while saving (showing 1 of 1). These functions will not be directly callable after loading.\n"
          ]
        },
        {
          "output_type": "stream",
          "name": "stdout",
          "text": [
            "\b\b\b\b\b\b\b\b\b\b\b\b\b\b\b\b\b\b\b\b\b\b\b\b\b\b\b\b\b\b\b\b\b\b\b\b\b\b\b\b\b\b\b\b\b\b\b\b\b\b\b\b\b\b\b\b\b\b\b\b\b\b\b\b\b\b\b\b\b\b\b\b\b\b\b\b\b\b\b\b\b\r69/69 [==============================] - 1s 11ms/step - loss: 150.0693 - mae: 150.0693 - val_loss: 678.9098 - val_mae: 678.9098\n",
            "Epoch 11/100\n",
            "54/69 [======================>.......] - ETA: 0s - loss: 179.2724 - mae: 179.2724"
          ]
        },
        {
          "output_type": "stream",
          "name": "stderr",
          "text": [
            "WARNING:absl:Found untraced functions such as _update_step_xla while saving (showing 1 of 1). These functions will not be directly callable after loading.\n"
          ]
        },
        {
          "output_type": "stream",
          "name": "stdout",
          "text": [
            "\b\b\b\b\b\b\b\b\b\b\b\b\b\b\b\b\b\b\b\b\b\b\b\b\b\b\b\b\b\b\b\b\b\b\b\b\b\b\b\b\b\b\b\b\b\b\b\b\b\b\b\b\b\b\b\b\b\b\b\b\b\b\b\b\b\b\b\b\b\b\b\b\b\b\b\b\b\b\b\b\b\r69/69 [==============================] - 1s 11ms/step - loss: 167.9208 - mae: 167.9208 - val_loss: 670.0371 - val_mae: 670.0371\n",
            "Epoch 12/100\n",
            "69/69 [==============================] - 0s 3ms/step - loss: 159.7297 - mae: 159.7297 - val_loss: 1136.9000 - val_mae: 1136.9000\n",
            "Epoch 13/100\n",
            "69/69 [==============================] - 0s 3ms/step - loss: 151.1330 - mae: 151.1330 - val_loss: 777.6870 - val_mae: 777.6870\n",
            "Epoch 14/100\n",
            "69/69 [==============================] - 0s 3ms/step - loss: 149.4976 - mae: 149.4976 - val_loss: 825.3175 - val_mae: 825.3175\n",
            "Epoch 15/100\n",
            "69/69 [==============================] - 0s 4ms/step - loss: 178.8567 - mae: 178.8567 - val_loss: 706.7606 - val_mae: 706.7606\n",
            "Epoch 16/100\n",
            "69/69 [==============================] - 0s 3ms/step - loss: 140.0242 - mae: 140.0242 - val_loss: 794.8049 - val_mae: 794.8049\n",
            "Epoch 17/100\n",
            "66/69 [===========================>..] - ETA: 0s - loss: 149.9293 - mae: 149.9293"
          ]
        },
        {
          "output_type": "stream",
          "name": "stderr",
          "text": [
            "WARNING:absl:Found untraced functions such as _update_step_xla while saving (showing 1 of 1). These functions will not be directly callable after loading.\n"
          ]
        },
        {
          "output_type": "stream",
          "name": "stdout",
          "text": [
            "\b\b\b\b\b\b\b\b\b\b\b\b\b\b\b\b\b\b\b\b\b\b\b\b\b\b\b\b\b\b\b\b\b\b\b\b\b\b\b\b\b\b\b\b\b\b\b\b\b\b\b\b\b\b\b\b\b\b\b\b\b\b\b\b\b\b\b\b\b\b\b\b\b\b\b\b\b\b\b\b\b\r69/69 [==============================] - 1s 13ms/step - loss: 150.9934 - mae: 150.9934 - val_loss: 648.8342 - val_mae: 648.8342\n",
            "Epoch 18/100\n",
            "69/69 [==============================] - 0s 3ms/step - loss: 135.3198 - mae: 135.3198 - val_loss: 755.3444 - val_mae: 755.3444\n",
            "Epoch 19/100\n",
            "69/69 [==============================] - 0s 3ms/step - loss: 136.0390 - mae: 136.0390 - val_loss: 928.2397 - val_mae: 928.2397\n",
            "Epoch 20/100\n",
            "69/69 [==============================] - 0s 4ms/step - loss: 167.9012 - mae: 167.9012 - val_loss: 998.5250 - val_mae: 998.5250\n",
            "Epoch 21/100\n",
            "69/69 [==============================] - 0s 3ms/step - loss: 141.6635 - mae: 141.6635 - val_loss: 1017.4337 - val_mae: 1017.4337\n",
            "Epoch 22/100\n",
            "64/69 [==========================>...] - ETA: 0s - loss: 150.4677 - mae: 150.4677"
          ]
        },
        {
          "output_type": "stream",
          "name": "stderr",
          "text": [
            "WARNING:absl:Found untraced functions such as _update_step_xla while saving (showing 1 of 1). These functions will not be directly callable after loading.\n"
          ]
        },
        {
          "output_type": "stream",
          "name": "stdout",
          "text": [
            "\b\b\b\b\b\b\b\b\b\b\b\b\b\b\b\b\b\b\b\b\b\b\b\b\b\b\b\b\b\b\b\b\b\b\b\b\b\b\b\b\b\b\b\b\b\b\b\b\b\b\b\b\b\b\b\b\b\b\b\b\b\b\b\b\b\b\b\b\b\b\b\b\b\b\b\b\b\b\b\b\b\r69/69 [==============================] - 1s 12ms/step - loss: 146.0650 - mae: 146.0650 - val_loss: 634.3481 - val_mae: 634.3481\n",
            "Epoch 23/100\n",
            "69/69 [==============================] - 0s 4ms/step - loss: 142.9568 - mae: 142.9568 - val_loss: 642.0246 - val_mae: 642.0246\n",
            "Epoch 24/100\n",
            "69/69 [==============================] - 0s 3ms/step - loss: 129.8474 - mae: 129.8474 - val_loss: 637.3995 - val_mae: 637.3995\n",
            "Epoch 25/100\n",
            "69/69 [==============================] - 0s 3ms/step - loss: 129.7037 - mae: 129.7037 - val_loss: 923.3608 - val_mae: 923.3608\n",
            "Epoch 26/100\n",
            "53/69 [======================>.......] - ETA: 0s - loss: 152.4427 - mae: 152.4427"
          ]
        },
        {
          "output_type": "stream",
          "name": "stderr",
          "text": [
            "WARNING:absl:Found untraced functions such as _update_step_xla while saving (showing 1 of 1). These functions will not be directly callable after loading.\n"
          ]
        },
        {
          "output_type": "stream",
          "name": "stdout",
          "text": [
            "\b\b\b\b\b\b\b\b\b\b\b\b\b\b\b\b\b\b\b\b\b\b\b\b\b\b\b\b\b\b\b\b\b\b\b\b\b\b\b\b\b\b\b\b\b\b\b\b\b\b\b\b\b\b\b\b\b\b\b\b\b\b\b\b\b\b\b\b\b\b\b\b\b\b\b\b\b\b\b\b\b\r69/69 [==============================] - 1s 16ms/step - loss: 158.1255 - mae: 158.1255 - val_loss: 632.6279 - val_mae: 632.6279\n",
            "Epoch 27/100\n",
            "69/69 [==============================] - 0s 4ms/step - loss: 142.8721 - mae: 142.8721 - val_loss: 990.7988 - val_mae: 990.7988\n",
            "Epoch 28/100\n",
            "69/69 [==============================] - 0s 4ms/step - loss: 161.4223 - mae: 161.4223 - val_loss: 773.8862 - val_mae: 773.8862\n",
            "Epoch 29/100\n",
            "58/69 [========================>.....] - ETA: 0s - loss: 127.9450 - mae: 127.9450"
          ]
        },
        {
          "output_type": "stream",
          "name": "stderr",
          "text": [
            "WARNING:absl:Found untraced functions such as _update_step_xla while saving (showing 1 of 1). These functions will not be directly callable after loading.\n"
          ]
        },
        {
          "output_type": "stream",
          "name": "stdout",
          "text": [
            "\b\b\b\b\b\b\b\b\b\b\b\b\b\b\b\b\b\b\b\b\b\b\b\b\b\b\b\b\b\b\b\b\b\b\b\b\b\b\b\b\b\b\b\b\b\b\b\b\b\b\b\b\b\b\b\b\b\b\b\b\b\b\b\b\b\b\b\b\b\b\b\b\b\b\b\b\b\b\b\b\b\r69/69 [==============================] - 1s 17ms/step - loss: 132.0615 - mae: 132.0615 - val_loss: 608.9818 - val_mae: 608.9818\n",
            "Epoch 30/100\n",
            "69/69 [==============================] - 0s 3ms/step - loss: 134.0680 - mae: 134.0680 - val_loss: 664.1546 - val_mae: 664.1546\n",
            "Epoch 31/100\n",
            "69/69 [==============================] - 0s 3ms/step - loss: 123.9300 - mae: 123.9300 - val_loss: 642.3578 - val_mae: 642.3578\n",
            "Epoch 32/100\n",
            "69/69 [==============================] - 0s 3ms/step - loss: 131.4576 - mae: 131.4576 - val_loss: 775.7268 - val_mae: 775.7268\n",
            "Epoch 33/100\n",
            "69/69 [==============================] - 0s 3ms/step - loss: 127.8495 - mae: 127.8495 - val_loss: 1019.3418 - val_mae: 1019.3418\n",
            "Epoch 34/100\n",
            "69/69 [==============================] - 0s 3ms/step - loss: 176.6702 - mae: 176.6702 - val_loss: 628.1524 - val_mae: 628.1524\n",
            "Epoch 35/100\n",
            "57/69 [=======================>......] - ETA: 0s - loss: 123.2138 - mae: 123.2138"
          ]
        },
        {
          "output_type": "stream",
          "name": "stderr",
          "text": [
            "WARNING:absl:Found untraced functions such as _update_step_xla while saving (showing 1 of 1). These functions will not be directly callable after loading.\n"
          ]
        },
        {
          "output_type": "stream",
          "name": "stdout",
          "text": [
            "\b\b\b\b\b\b\b\b\b\b\b\b\b\b\b\b\b\b\b\b\b\b\b\b\b\b\b\b\b\b\b\b\b\b\b\b\b\b\b\b\b\b\b\b\b\b\b\b\b\b\b\b\b\b\b\b\b\b\b\b\b\b\b\b\b\b\b\b\b\b\b\b\b\b\b\b\b\b\b\b\b\r69/69 [==============================] - 1s 11ms/step - loss: 123.3730 - mae: 123.3730 - val_loss: 603.8995 - val_mae: 603.8995\n",
            "Epoch 36/100\n",
            "69/69 [==============================] - 0s 3ms/step - loss: 135.4446 - mae: 135.4446 - val_loss: 606.9091 - val_mae: 606.9091\n",
            "Epoch 37/100\n",
            "69/69 [==============================] - 0s 3ms/step - loss: 136.2487 - mae: 136.2487 - val_loss: 609.6810 - val_mae: 609.6810\n",
            "Epoch 38/100\n",
            "69/69 [==============================] - 0s 3ms/step - loss: 124.2549 - mae: 124.2549 - val_loss: 669.4097 - val_mae: 669.4097\n",
            "Epoch 39/100\n",
            "69/69 [==============================] - 0s 3ms/step - loss: 127.4394 - mae: 127.4394 - val_loss: 675.5687 - val_mae: 675.5687\n",
            "Epoch 40/100\n",
            "69/69 [==============================] - 0s 3ms/step - loss: 131.1911 - mae: 131.1911 - val_loss: 788.2037 - val_mae: 788.2037\n",
            "Epoch 41/100\n",
            "69/69 [==============================] - 0s 3ms/step - loss: 142.1922 - mae: 142.1922 - val_loss: 796.6604 - val_mae: 796.6604\n",
            "Epoch 42/100\n",
            "69/69 [==============================] - 0s 3ms/step - loss: 140.5737 - mae: 140.5737 - val_loss: 608.5620 - val_mae: 608.5620\n",
            "Epoch 43/100\n",
            "69/69 [==============================] - 0s 3ms/step - loss: 146.0564 - mae: 146.0564 - val_loss: 705.8729 - val_mae: 705.8729\n",
            "Epoch 44/100\n",
            "69/69 [==============================] - 0s 3ms/step - loss: 126.1304 - mae: 126.1304 - val_loss: 661.3908 - val_mae: 661.3908\n",
            "Epoch 45/100\n",
            "69/69 [==============================] - 0s 3ms/step - loss: 140.6089 - mae: 140.6089 - val_loss: 664.2388 - val_mae: 664.2388\n",
            "Epoch 46/100\n",
            "69/69 [==============================] - 0s 3ms/step - loss: 133.0122 - mae: 133.0122 - val_loss: 772.6711 - val_mae: 772.6711\n",
            "Epoch 47/100\n",
            "69/69 [==============================] - 0s 3ms/step - loss: 133.8752 - mae: 133.8752 - val_loss: 1278.6282 - val_mae: 1278.6282\n",
            "Epoch 48/100\n",
            "69/69 [==============================] - 0s 3ms/step - loss: 152.1229 - mae: 152.1229 - val_loss: 618.7754 - val_mae: 618.7754\n",
            "Epoch 49/100\n",
            "69/69 [==============================] - 0s 3ms/step - loss: 143.6620 - mae: 143.6620 - val_loss: 737.5598 - val_mae: 737.5598\n",
            "Epoch 50/100\n",
            "69/69 [==============================] - 0s 3ms/step - loss: 141.5239 - mae: 141.5239 - val_loss: 612.1202 - val_mae: 612.1202\n",
            "Epoch 51/100\n",
            "69/69 [==============================] - 0s 3ms/step - loss: 121.0132 - mae: 121.0132 - val_loss: 1046.7539 - val_mae: 1046.7539\n",
            "Epoch 52/100\n",
            "69/69 [==============================] - 0s 3ms/step - loss: 145.2230 - mae: 145.2230 - val_loss: 812.9269 - val_mae: 812.9269\n",
            "Epoch 53/100\n",
            "69/69 [==============================] - 0s 3ms/step - loss: 116.2434 - mae: 116.2434 - val_loss: 862.1132 - val_mae: 862.1132\n",
            "Epoch 54/100\n",
            "69/69 [==============================] - 0s 3ms/step - loss: 131.6227 - mae: 131.6227 - val_loss: 709.0787 - val_mae: 709.0787\n",
            "Epoch 55/100\n",
            "69/69 [==============================] - 0s 3ms/step - loss: 122.1744 - mae: 122.1744 - val_loss: 781.6534 - val_mae: 781.6534\n",
            "Epoch 56/100\n",
            "69/69 [==============================] - 0s 3ms/step - loss: 139.2360 - mae: 139.2360 - val_loss: 604.0634 - val_mae: 604.0634\n",
            "Epoch 57/100\n",
            "69/69 [==============================] - 0s 3ms/step - loss: 133.9435 - mae: 133.9435 - val_loss: 759.8287 - val_mae: 759.8287\n",
            "Epoch 58/100\n",
            "69/69 [==============================] - 0s 3ms/step - loss: 128.9437 - mae: 128.9437 - val_loss: 626.3432 - val_mae: 626.3432\n",
            "Epoch 59/100\n",
            "69/69 [==============================] - 0s 3ms/step - loss: 126.4858 - mae: 126.4858 - val_loss: 646.6179 - val_mae: 646.6179\n",
            "Epoch 60/100\n",
            "69/69 [==============================] - 0s 3ms/step - loss: 120.7480 - mae: 120.7480 - val_loss: 642.1820 - val_mae: 642.1820\n",
            "Epoch 61/100\n",
            "69/69 [==============================] - 0s 3ms/step - loss: 146.5558 - mae: 146.5558 - val_loss: 818.4764 - val_mae: 818.4764\n",
            "Epoch 62/100\n",
            "69/69 [==============================] - 0s 3ms/step - loss: 136.4225 - mae: 136.4225 - val_loss: 716.6802 - val_mae: 716.6802\n",
            "Epoch 63/100\n",
            "69/69 [==============================] - 0s 3ms/step - loss: 119.7271 - mae: 119.7271 - val_loss: 661.2343 - val_mae: 661.2343\n",
            "Epoch 64/100\n",
            "69/69 [==============================] - 0s 3ms/step - loss: 121.9021 - mae: 121.9021 - val_loss: 853.2614 - val_mae: 853.2614\n",
            "Epoch 65/100\n",
            "61/69 [=========================>....] - ETA: 0s - loss: 121.2204 - mae: 121.2204"
          ]
        },
        {
          "output_type": "stream",
          "name": "stderr",
          "text": [
            "WARNING:absl:Found untraced functions such as _update_step_xla while saving (showing 1 of 1). These functions will not be directly callable after loading.\n"
          ]
        },
        {
          "output_type": "stream",
          "name": "stdout",
          "text": [
            "\b\b\b\b\b\b\b\b\b\b\b\b\b\b\b\b\b\b\b\b\b\b\b\b\b\b\b\b\b\b\b\b\b\b\b\b\b\b\b\b\b\b\b\b\b\b\b\b\b\b\b\b\b\b\b\b\b\b\b\b\b\b\b\b\b\b\b\b\b\b\b\b\b\b\b\b\b\b\b\b\b\r69/69 [==============================] - 1s 12ms/step - loss: 121.4457 - mae: 121.4457 - val_loss: 592.2601 - val_mae: 592.2601\n",
            "Epoch 66/100\n",
            "43/69 [=================>............] - ETA: 0s - loss: 115.5318 - mae: 115.5318"
          ]
        },
        {
          "output_type": "stream",
          "name": "stderr",
          "text": [
            "WARNING:absl:Found untraced functions such as _update_step_xla while saving (showing 1 of 1). These functions will not be directly callable after loading.\n"
          ]
        },
        {
          "output_type": "stream",
          "name": "stdout",
          "text": [
            "\b\b\b\b\b\b\b\b\b\b\b\b\b\b\b\b\b\b\b\b\b\b\b\b\b\b\b\b\b\b\b\b\b\b\b\b\b\b\b\b\b\b\b\b\b\b\b\b\b\b\b\b\b\b\b\b\b\b\b\b\b\b\b\b\b\b\b\b\b\b\b\b\b\b\b\b\b\b\b\b\b\r69/69 [==============================] - 1s 12ms/step - loss: 117.3856 - mae: 117.3856 - val_loss: 590.0861 - val_mae: 590.0861\n",
            "Epoch 67/100\n",
            "69/69 [==============================] - 0s 3ms/step - loss: 126.6377 - mae: 126.6377 - val_loss: 660.3981 - val_mae: 660.3981\n",
            "Epoch 68/100\n",
            "69/69 [==============================] - 0s 5ms/step - loss: 130.6150 - mae: 130.6150 - val_loss: 669.3775 - val_mae: 669.3775\n",
            "Epoch 69/100\n",
            "69/69 [==============================] - 0s 4ms/step - loss: 122.2105 - mae: 122.2105 - val_loss: 590.4852 - val_mae: 590.4852\n",
            "Epoch 70/100\n",
            "69/69 [==============================] - 0s 5ms/step - loss: 121.8369 - mae: 121.8369 - val_loss: 608.6047 - val_mae: 608.6047\n",
            "Epoch 71/100\n",
            "69/69 [==============================] - 0s 4ms/step - loss: 116.2508 - mae: 116.2508 - val_loss: 712.0021 - val_mae: 712.0021\n",
            "Epoch 72/100\n",
            "69/69 [==============================] - 0s 4ms/step - loss: 134.8976 - mae: 134.8976 - val_loss: 618.4725 - val_mae: 618.4725\n",
            "Epoch 73/100\n",
            "69/69 [==============================] - 0s 4ms/step - loss: 119.7510 - mae: 119.7510 - val_loss: 1341.1051 - val_mae: 1341.1051\n",
            "Epoch 74/100\n",
            "69/69 [==============================] - 0s 5ms/step - loss: 144.9560 - mae: 144.9560 - val_loss: 639.0656 - val_mae: 639.0656\n",
            "Epoch 75/100\n",
            "69/69 [==============================] - 0s 4ms/step - loss: 121.5248 - mae: 121.5248 - val_loss: 1371.1383 - val_mae: 1371.1383\n",
            "Epoch 76/100\n",
            "57/69 [=======================>......] - ETA: 0s - loss: 138.9419 - mae: 138.9419"
          ]
        },
        {
          "output_type": "stream",
          "name": "stderr",
          "text": [
            "WARNING:absl:Found untraced functions such as _update_step_xla while saving (showing 1 of 1). These functions will not be directly callable after loading.\n"
          ]
        },
        {
          "output_type": "stream",
          "name": "stdout",
          "text": [
            "\b\b\b\b\b\b\b\b\b\b\b\b\b\b\b\b\b\b\b\b\b\b\b\b\b\b\b\b\b\b\b\b\b\b\b\b\b\b\b\b\b\b\b\b\b\b\b\b\b\b\b\b\b\b\b\b\b\b\b\b\b\b\b\b\b\b\b\b\b\b\b\b\b\b\b\b\b\b\b\b\b\r69/69 [==============================] - 1s 13ms/step - loss: 133.2991 - mae: 133.2991 - val_loss: 587.1130 - val_mae: 587.1130\n",
            "Epoch 77/100\n",
            "69/69 [==============================] - 0s 3ms/step - loss: 127.4757 - mae: 127.4757 - val_loss: 1084.7604 - val_mae: 1084.7604\n",
            "Epoch 78/100\n",
            "69/69 [==============================] - 0s 3ms/step - loss: 165.0234 - mae: 165.0234 - val_loss: 1282.0745 - val_mae: 1282.0745\n",
            "Epoch 79/100\n",
            "69/69 [==============================] - 0s 3ms/step - loss: 133.7651 - mae: 133.7651 - val_loss: 622.2903 - val_mae: 622.2903\n",
            "Epoch 80/100\n",
            "69/69 [==============================] - 0s 3ms/step - loss: 140.2711 - mae: 140.2711 - val_loss: 692.8466 - val_mae: 692.8466\n",
            "Epoch 81/100\n",
            "69/69 [==============================] - 0s 3ms/step - loss: 124.5391 - mae: 124.5391 - val_loss: 706.6082 - val_mae: 706.6082\n",
            "Epoch 82/100\n",
            "69/69 [==============================] - 0s 3ms/step - loss: 118.7129 - mae: 118.7129 - val_loss: 594.5555 - val_mae: 594.5555\n",
            "Epoch 83/100\n",
            "69/69 [==============================] - 0s 4ms/step - loss: 123.2979 - mae: 123.2979 - val_loss: 615.1246 - val_mae: 615.1246\n",
            "Epoch 84/100\n",
            "69/69 [==============================] - 0s 3ms/step - loss: 123.8229 - mae: 123.8229 - val_loss: 964.4244 - val_mae: 964.4244\n",
            "Epoch 85/100\n",
            "69/69 [==============================] - 0s 4ms/step - loss: 121.5992 - mae: 121.5992 - val_loss: 591.5601 - val_mae: 591.5601\n",
            "Epoch 86/100\n",
            "69/69 [==============================] - 0s 3ms/step - loss: 125.5915 - mae: 125.5915 - val_loss: 771.4086 - val_mae: 771.4086\n",
            "Epoch 87/100\n",
            "69/69 [==============================] - 0s 3ms/step - loss: 120.3798 - mae: 120.3798 - val_loss: 684.1291 - val_mae: 684.1291\n",
            "Epoch 88/100\n",
            "69/69 [==============================] - 0s 3ms/step - loss: 126.0998 - mae: 126.0998 - val_loss: 609.1961 - val_mae: 609.1961\n",
            "Epoch 89/100\n",
            "69/69 [==============================] - 0s 3ms/step - loss: 118.2734 - mae: 118.2734 - val_loss: 671.9390 - val_mae: 671.9390\n",
            "Epoch 90/100\n",
            "69/69 [==============================] - 0s 3ms/step - loss: 124.8578 - mae: 124.8578 - val_loss: 629.6847 - val_mae: 629.6847\n",
            "Epoch 91/100\n",
            "69/69 [==============================] - 0s 3ms/step - loss: 149.6685 - mae: 149.6685 - val_loss: 600.4244 - val_mae: 600.4244\n",
            "Epoch 92/100\n",
            "69/69 [==============================] - 0s 3ms/step - loss: 111.9245 - mae: 111.9245 - val_loss: 673.1339 - val_mae: 673.1339\n",
            "Epoch 93/100\n",
            "69/69 [==============================] - 0s 3ms/step - loss: 111.4971 - mae: 111.4971 - val_loss: 591.5637 - val_mae: 591.5637\n",
            "Epoch 94/100\n",
            "69/69 [==============================] - 0s 3ms/step - loss: 126.7664 - mae: 126.7664 - val_loss: 600.6631 - val_mae: 600.6631\n",
            "Epoch 95/100\n",
            "69/69 [==============================] - 0s 3ms/step - loss: 132.8241 - mae: 132.8241 - val_loss: 590.5120 - val_mae: 590.5120\n",
            "Epoch 96/100\n",
            "69/69 [==============================] - 0s 3ms/step - loss: 120.3949 - mae: 120.3949 - val_loss: 646.7308 - val_mae: 646.7308\n",
            "Epoch 97/100\n",
            "69/69 [==============================] - 0s 3ms/step - loss: 145.8441 - mae: 145.8441 - val_loss: 710.5840 - val_mae: 710.5840\n",
            "Epoch 98/100\n",
            "69/69 [==============================] - 0s 3ms/step - loss: 146.5415 - mae: 146.5415 - val_loss: 702.1362 - val_mae: 702.1362\n",
            "Epoch 99/100\n",
            "69/69 [==============================] - 0s 3ms/step - loss: 129.2971 - mae: 129.2971 - val_loss: 613.7397 - val_mae: 613.7397\n",
            "Epoch 100/100\n",
            "69/69 [==============================] - 0s 3ms/step - loss: 153.2794 - mae: 153.2794 - val_loss: 601.8701 - val_mae: 601.8701\n"
          ]
        }
      ]
    },
    {
      "cell_type": "code",
      "source": [
        "# Evaluate model\n",
        "model_2.evaluate(test_window,test_label)"
      ],
      "metadata": {
        "id": "CAPf_n_M7_Mk",
        "colab": {
          "base_uri": "https://localhost:8080/"
        },
        "outputId": "dd513493-ea06-4136-c704-95bd62e31c75"
      },
      "execution_count": 45,
      "outputs": [
        {
          "output_type": "stream",
          "name": "stdout",
          "text": [
            "18/18 [==============================] - 0s 2ms/step - loss: 601.8701 - mae: 601.8701\n"
          ]
        },
        {
          "output_type": "execute_result",
          "data": {
            "text/plain": [
              "[601.8701171875, 601.8701171875]"
            ]
          },
          "metadata": {},
          "execution_count": 45
        }
      ]
    },
    {
      "cell_type": "code",
      "source": [
        "model_2_preds = make_preds(model_2,test_window)\n",
        "len(model_2_preds),model_2_preds[:10]"
      ],
      "metadata": {
        "colab": {
          "base_uri": "https://localhost:8080/"
        },
        "id": "Wc0lc1hwAY3M",
        "outputId": "b7e16177-f5fd-4e6d-daad-0c5ad4fea174"
      },
      "execution_count": 46,
      "outputs": [
        {
          "output_type": "stream",
          "name": "stdout",
          "text": [
            "18/18 [==============================] - 0s 1ms/step\n"
          ]
        },
        {
          "output_type": "execute_result",
          "data": {
            "text/plain": [
              "(552,\n",
              " <tf.Tensor: shape=(10,), dtype=float32, numpy=\n",
              " array([8775.228 , 8741.874 , 8630.04  , 8473.16  , 8413.816 , 8296.529 ,\n",
              "        8071.6685, 8085.338 , 8079.641 , 7619.0625], dtype=float32)>)"
            ]
          },
          "metadata": {},
          "execution_count": 46
        }
      ]
    },
    {
      "cell_type": "code",
      "source": [
        "model_2_results = evaluate_pred(y_true=tf.squeeze(test_label)\n",
        "                                ,y_pred=model_2_preds)\n",
        "model_2_results"
      ],
      "metadata": {
        "colab": {
          "base_uri": "https://localhost:8080/"
        },
        "id": "OQYxx9OVAqOW",
        "outputId": "8201535b-cf7d-40d9-ffa8-646a933f49a3"
      },
      "execution_count": 47,
      "outputs": [
        {
          "output_type": "execute_result",
          "data": {
            "text/plain": [
              "{'mae': 601.8701,\n",
              " 'mse': 1209052.0,\n",
              " 'rmse': 1099.569,\n",
              " 'mape': 2.7293456,\n",
              " 'mase': 1.0520748}"
            ]
          },
          "metadata": {},
          "execution_count": 47
        }
      ]
    },
    {
      "cell_type": "code",
      "source": [
        "## Lets plot the predictions\n",
        "offset=300\n",
        "plt.figure(figsize=(10,7))\n",
        "plot_time_series(timesteps=X_test[-len(test_window):],values=test_label[:,0]\n",
        "                 ,start=offset,label=\"Test data\")\n",
        "plot_time_series(timesteps=X_test[-len(test_window):],values=model_2_preds\n",
        "                 ,start=offset,label=\"model_2_preds\",format=\"-\")"
      ],
      "metadata": {
        "colab": {
          "base_uri": "https://localhost:8080/",
          "height": 619
        },
        "id": "jxZNYAAPA2aE",
        "outputId": "2a0849ee-93bd-41d0-d222-6f9f8f43b3e9"
      },
      "execution_count": 48,
      "outputs": [
        {
          "output_type": "display_data",
          "data": {
            "text/plain": [
              "<Figure size 1000x700 with 1 Axes>"
            ],
            "image/png": "[encoded data removed]"
          },
          "metadata": {}
        }
      ]
    },
    {
      "cell_type": "markdown",
      "source": [
        "## Model 3: Window size=30, Horizon=7"
      ],
      "metadata": {
        "id": "ecYV0ORJBdOp"
      }
    },
    {
      "cell_type": "code",
      "source": [
        "WINDOW_SIZE=30\n",
        "HORIZON=7\n",
        "full_window, full_label = make_windows(prices, window_size=WINDOW_SIZE,horizon=HORIZON)\n",
        "len(full_window), len(full_label)"
      ],
      "metadata": {
        "colab": {
          "base_uri": "https://localhost:8080/"
        },
        "id": "eWtRk9N7CUfI",
        "outputId": "4ed8bc96-7967-4a7a-c627-1d5ab0e71c6a"
      },
      "execution_count": 49,
      "outputs": [
        {
          "output_type": "execute_result",
          "data": {
            "text/plain": [
              "(2751, 2751)"
            ]
          },
          "metadata": {},
          "execution_count": 49
        }
      ]
    },
    {
      "cell_type": "code",
      "source": [
        "train_window, train_label, test_window, test_label = make_train_test_split(windows=full_window, labels=full_label\n",
        "                                                                           ,test_split=0.2)\n",
        "len(train_window), len(train_label), len(test_window), len(test_label)"
      ],
      "metadata": {
        "colab": {
          "base_uri": "https://localhost:8080/"
        },
        "id": "lvHC5jCGCuFy",
        "outputId": "0e4e08bf-6a95-40e6-a89b-bf4cfcd05a9e"
      },
      "execution_count": 50,
      "outputs": [
        {
          "output_type": "execute_result",
          "data": {
            "text/plain": [
              "(2200, 2200, 551, 551)"
            ]
          },
          "metadata": {},
          "execution_count": 50
        }
      ]
    },
    {
      "cell_type": "code",
      "source": [
        "import tensorflow as tf\n",
        "from tensorflow.keras import layers\n",
        "# set random seed\n",
        "tf.random.set_seed(42)\n",
        "\n",
        "model_3 = tf.keras.Sequential([\n",
        "    layers.Dense(128, activation=\"relu\")\n",
        "    ,layers.Dense(HORIZON,activation=\"linear\")\n",
        "],name=\"model_3_dense\")\n",
        "\n",
        "model_3.compile(loss=\"mae\"\n",
        "                ,optimizer=tf.keras.optimizers.Adam()\n",
        "                ,metrics=[\"mae\"])\n",
        "\n",
        "history_3 = model_3.fit(x=train_window\n",
        "                        ,y=train_label\n",
        "                        ,epochs=100\n",
        "                        ,verbose=1\n",
        "                        ,validation_data=(test_window,test_label)\n",
        "                        ,callbacks=[create_model_checkpoint(model_name=model_3.name)])"
      ],
      "metadata": {
        "colab": {
          "base_uri": "https://localhost:8080/"
        },
        "id": "bzkjY3siEg2s",
        "outputId": "7db9471f-d822-484b-bc2a-d490a5218c17"
      },
      "execution_count": 52,
      "outputs": [
        {
          "output_type": "stream",
          "name": "stdout",
          "text": [
            "Epoch 1/100\n",
            "53/69 [======================>.......] - ETA: 0s - loss: 996.0812 - mae: 996.0812  "
          ]
        },
        {
          "output_type": "stream",
          "name": "stderr",
          "text": [
            "WARNING:absl:Found untraced functions such as _update_step_xla while saving (showing 1 of 1). These functions will not be directly callable after loading.\n"
          ]
        },
        {
          "output_type": "stream",
          "name": "stdout",
          "text": [
            "\b\b\b\b\b\b\b\b\b\b\b\b\b\b\b\b\b\b\b\b\b\b\b\b\b\b\b\b\b\b\b\b\b\b\b\b\b\b\b\b\b\b\b\b\b\b\b\b\b\b\b\b\b\b\b\b\b\b\b\b\b\b\b\b\b\b\b\b\b\b\b\b\b\b\b\b\b\b\b\b\b\r69/69 [==============================] - 2s 19ms/step - loss: 846.7227 - mae: 846.7227 - val_loss: 2043.8990 - val_mae: 2043.8990\n",
            "Epoch 2/100\n",
            "56/69 [=======================>......] - ETA: 0s - loss: 349.8964 - mae: 349.8964"
          ]
        },
        {
          "output_type": "stream",
          "name": "stderr",
          "text": [
            "WARNING:absl:Found untraced functions such as _update_step_xla while saving (showing 1 of 1). These functions will not be directly callable after loading.\n"
          ]
        },
        {
          "output_type": "stream",
          "name": "stdout",
          "text": [
            "\b\b\b\b\b\b\b\b\b\b\b\b\b\b\b\b\b\b\b\b\b\b\b\b\b\b\b\b\b\b\b\b\b\b\b\b\b\b\b\b\b\b\b\b\b\b\b\b\b\b\b\b\b\b\b\b\b\b\b\b\b\b\b\b\b\b\b\b\b\b\b\b\b\b\b\b\b\b\b\b\b\r69/69 [==============================] - 1s 11ms/step - loss: 352.3566 - mae: 352.3566 - val_loss: 1565.6602 - val_mae: 1565.6602\n",
            "Epoch 3/100\n",
            "69/69 [==============================] - 0s 3ms/step - loss: 300.3606 - mae: 300.3606 - val_loss: 1608.9672 - val_mae: 1608.9672\n",
            "Epoch 4/100\n",
            "55/69 [======================>.......] - ETA: 0s - loss: 291.1359 - mae: 291.1359"
          ]
        },
        {
          "output_type": "stream",
          "name": "stderr",
          "text": [
            "WARNING:absl:Found untraced functions such as _update_step_xla while saving (showing 1 of 1). These functions will not be directly callable after loading.\n"
          ]
        },
        {
          "output_type": "stream",
          "name": "stdout",
          "text": [
            "\b\b\b\b\b\b\b\b\b\b\b\b\b\b\b\b\b\b\b\b\b\b\b\b\b\b\b\b\b\b\b\b\b\b\b\b\b\b\b\b\b\b\b\b\b\b\b\b\b\b\b\b\b\b\b\b\b\b\b\b\b\b\b\b\b\b\b\b\b\b\b\b\b\b\b\b\b\b\b\b\b\r69/69 [==============================] - 1s 11ms/step - loss: 284.9975 - mae: 284.9975 - val_loss: 1489.1354 - val_mae: 1489.1354\n",
            "Epoch 5/100\n",
            "69/69 [==============================] - 0s 3ms/step - loss: 278.6910 - mae: 278.6910 - val_loss: 1757.2657 - val_mae: 1757.2657\n",
            "Epoch 6/100\n",
            "69/69 [==============================] - 0s 3ms/step - loss: 271.9468 - mae: 271.9468 - val_loss: 1579.1057 - val_mae: 1579.1057\n",
            "Epoch 7/100\n",
            "69/69 [==============================] - 0s 3ms/step - loss: 277.4727 - mae: 277.4727 - val_loss: 1572.6655 - val_mae: 1572.6655\n",
            "Epoch 8/100\n",
            "69/69 [==============================] - 0s 3ms/step - loss: 278.7933 - mae: 278.7933 - val_loss: 1500.2639 - val_mae: 1500.2639\n",
            "Epoch 9/100\n",
            "54/69 [======================>.......] - ETA: 0s - loss: 261.8006 - mae: 261.8006"
          ]
        },
        {
          "output_type": "stream",
          "name": "stderr",
          "text": [
            "WARNING:absl:Found untraced functions such as _update_step_xla while saving (showing 1 of 1). These functions will not be directly callable after loading.\n"
          ]
        },
        {
          "output_type": "stream",
          "name": "stdout",
          "text": [
            "\b\b\b\b\b\b\b\b\b\b\b\b\b\b\b\b\b\b\b\b\b\b\b\b\b\b\b\b\b\b\b\b\b\b\b\b\b\b\b\b\b\b\b\b\b\b\b\b\b\b\b\b\b\b\b\b\b\b\b\b\b\b\b\b\b\b\b\b\b\b\b\b\b\b\b\b\b\b\b\b\b\r69/69 [==============================] - 1s 11ms/step - loss: 262.2870 - mae: 262.2870 - val_loss: 1438.7798 - val_mae: 1438.7798\n",
            "Epoch 10/100\n",
            "69/69 [==============================] - 0s 3ms/step - loss: 265.2471 - mae: 265.2471 - val_loss: 1503.5905 - val_mae: 1503.5905\n",
            "Epoch 11/100\n",
            "60/69 [=========================>....] - ETA: 0s - loss: 259.2946 - mae: 259.2946"
          ]
        },
        {
          "output_type": "stream",
          "name": "stderr",
          "text": [
            "WARNING:absl:Found untraced functions such as _update_step_xla while saving (showing 1 of 1). These functions will not be directly callable after loading.\n"
          ]
        },
        {
          "output_type": "stream",
          "name": "stdout",
          "text": [
            "\b\b\b\b\b\b\b\b\b\b\b\b\b\b\b\b\b\b\b\b\b\b\b\b\b\b\b\b\b\b\b\b\b\b\b\b\b\b\b\b\b\b\b\b\b\b\b\b\b\b\b\b\b\b\b\b\b\b\b\b\b\b\b\b\b\b\b\b\b\b\b\b\b\b\b\b\b\b\b\b\b\r69/69 [==============================] - 1s 11ms/step - loss: 255.4792 - mae: 255.4792 - val_loss: 1421.5713 - val_mae: 1421.5713\n",
            "Epoch 12/100\n",
            "69/69 [==============================] - 0s 4ms/step - loss: 255.3026 - mae: 255.3026 - val_loss: 1539.1226 - val_mae: 1539.1226\n",
            "Epoch 13/100\n",
            "69/69 [==============================] - 0s 3ms/step - loss: 258.6496 - mae: 258.6496 - val_loss: 1762.1650 - val_mae: 1762.1650\n",
            "Epoch 14/100\n",
            "58/69 [========================>.....] - ETA: 0s - loss: 245.7372 - mae: 245.7372"
          ]
        },
        {
          "output_type": "stream",
          "name": "stderr",
          "text": [
            "WARNING:absl:Found untraced functions such as _update_step_xla while saving (showing 1 of 1). These functions will not be directly callable after loading.\n"
          ]
        },
        {
          "output_type": "stream",
          "name": "stdout",
          "text": [
            "\b\b\b\b\b\b\b\b\b\b\b\b\b\b\b\b\b\b\b\b\b\b\b\b\b\b\b\b\b\b\b\b\b\b\b\b\b\b\b\b\b\b\b\b\b\b\b\b\b\b\b\b\b\b\b\b\b\b\b\b\b\b\b\b\b\b\b\b\b\b\b\b\b\b\b\b\b\b\b\b\b\r69/69 [==============================] - 1s 11ms/step - loss: 253.1696 - mae: 253.1696 - val_loss: 1407.9760 - val_mae: 1407.9760\n",
            "Epoch 15/100\n",
            "69/69 [==============================] - 0s 3ms/step - loss: 250.0530 - mae: 250.0530 - val_loss: 1483.4685 - val_mae: 1483.4685\n",
            "Epoch 16/100\n",
            "69/69 [==============================] - 0s 3ms/step - loss: 256.6672 - mae: 256.6672 - val_loss: 1460.6094 - val_mae: 1460.6094\n",
            "Epoch 17/100\n",
            "69/69 [==============================] - 0s 3ms/step - loss: 250.4727 - mae: 250.4727 - val_loss: 1542.8229 - val_mae: 1542.8229\n",
            "Epoch 18/100\n",
            "69/69 [==============================] - 0s 3ms/step - loss: 245.7775 - mae: 245.7775 - val_loss: 1423.8270 - val_mae: 1423.8270\n",
            "Epoch 19/100\n",
            "49/69 [====================>.........] - ETA: 0s - loss: 245.7557 - mae: 245.7557"
          ]
        },
        {
          "output_type": "stream",
          "name": "stderr",
          "text": [
            "WARNING:absl:Found untraced functions such as _update_step_xla while saving (showing 1 of 1). These functions will not be directly callable after loading.\n"
          ]
        },
        {
          "output_type": "stream",
          "name": "stdout",
          "text": [
            "\b\b\b\b\b\b\b\b\b\b\b\b\b\b\b\b\b\b\b\b\b\b\b\b\b\b\b\b\b\b\b\b\b\b\b\b\b\b\b\b\b\b\b\b\b\b\b\b\b\b\b\b\b\b\b\b\b\b\b\b\b\b\b\b\b\b\b\b\b\b\b\b\b\b\b\b\b\b\b\b\b\r69/69 [==============================] - 1s 11ms/step - loss: 251.9538 - mae: 251.9538 - val_loss: 1385.0708 - val_mae: 1385.0708\n",
            "Epoch 20/100\n",
            "69/69 [==============================] - 0s 3ms/step - loss: 255.3189 - mae: 255.3189 - val_loss: 1430.8977 - val_mae: 1430.8977\n",
            "Epoch 21/100\n",
            "54/69 [======================>.......] - ETA: 0s - loss: 246.0606 - mae: 246.0606"
          ]
        },
        {
          "output_type": "stream",
          "name": "stderr",
          "text": [
            "WARNING:absl:Found untraced functions such as _update_step_xla while saving (showing 1 of 1). These functions will not be directly callable after loading.\n"
          ]
        },
        {
          "output_type": "stream",
          "name": "stdout",
          "text": [
            "\b\b\b\b\b\b\b\b\b\b\b\b\b\b\b\b\b\b\b\b\b\b\b\b\b\b\b\b\b\b\b\b\b\b\b\b\b\b\b\b\b\b\b\b\b\b\b\b\b\b\b\b\b\b\b\b\b\b\b\b\b\b\b\b\b\b\b\b\b\b\b\b\b\b\b\b\b\b\b\b\b\r69/69 [==============================] - 1s 11ms/step - loss: 243.3049 - mae: 243.3049 - val_loss: 1343.5448 - val_mae: 1343.5448\n",
            "Epoch 22/100\n",
            "69/69 [==============================] - 0s 3ms/step - loss: 243.2152 - mae: 243.2152 - val_loss: 1607.6814 - val_mae: 1607.6814\n",
            "Epoch 23/100\n",
            "53/69 [======================>.......] - ETA: 0s - loss: 252.1990 - mae: 252.1990"
          ]
        },
        {
          "output_type": "stream",
          "name": "stderr",
          "text": [
            "WARNING:absl:Found untraced functions such as _update_step_xla while saving (showing 1 of 1). These functions will not be directly callable after loading.\n"
          ]
        },
        {
          "output_type": "stream",
          "name": "stdout",
          "text": [
            "\b\b\b\b\b\b\b\b\b\b\b\b\b\b\b\b\b\b\b\b\b\b\b\b\b\b\b\b\b\b\b\b\b\b\b\b\b\b\b\b\b\b\b\b\b\b\b\b\b\b\b\b\b\b\b\b\b\b\b\b\b\b\b\b\b\b\b\b\b\b\b\b\b\b\b\b\b\b\b\b\b\r69/69 [==============================] - 1s 11ms/step - loss: 249.0037 - mae: 249.0037 - val_loss: 1305.0360 - val_mae: 1305.0360\n",
            "Epoch 24/100\n",
            "69/69 [==============================] - 0s 3ms/step - loss: 246.1568 - mae: 246.1568 - val_loss: 1434.2681 - val_mae: 1434.2681\n",
            "Epoch 25/100\n",
            "69/69 [==============================] - 0s 3ms/step - loss: 243.2141 - mae: 243.2141 - val_loss: 1497.4182 - val_mae: 1497.4182\n",
            "Epoch 26/100\n",
            "69/69 [==============================] - 0s 3ms/step - loss: 241.9401 - mae: 241.9401 - val_loss: 1417.7046 - val_mae: 1417.7046\n",
            "Epoch 27/100\n",
            "69/69 [==============================] - 0s 3ms/step - loss: 244.0023 - mae: 244.0023 - val_loss: 1321.3407 - val_mae: 1321.3407\n",
            "Epoch 28/100\n",
            "69/69 [==============================] - 0s 4ms/step - loss: 242.7293 - mae: 242.7293 - val_loss: 1318.2595 - val_mae: 1318.2595\n",
            "Epoch 29/100\n",
            "55/69 [======================>.......] - ETA: 0s - loss: 231.8188 - mae: 231.8188"
          ]
        },
        {
          "output_type": "stream",
          "name": "stderr",
          "text": [
            "WARNING:absl:Found untraced functions such as _update_step_xla while saving (showing 1 of 1). These functions will not be directly callable after loading.\n"
          ]
        },
        {
          "output_type": "stream",
          "name": "stdout",
          "text": [
            "\b\b\b\b\b\b\b\b\b\b\b\b\b\b\b\b\b\b\b\b\b\b\b\b\b\b\b\b\b\b\b\b\b\b\b\b\b\b\b\b\b\b\b\b\b\b\b\b\b\b\b\b\b\b\b\b\b\b\b\b\b\b\b\b\b\b\b\b\b\b\b\b\b\b\b\b\b\b\b\b\b\r69/69 [==============================] - 1s 16ms/step - loss: 236.0470 - mae: 236.0470 - val_loss: 1300.7709 - val_mae: 1300.7709\n",
            "Epoch 30/100\n",
            "69/69 [==============================] - 0s 4ms/step - loss: 236.4514 - mae: 236.4514 - val_loss: 1543.2531 - val_mae: 1543.2531\n",
            "Epoch 31/100\n",
            "69/69 [==============================] - 0s 4ms/step - loss: 240.4004 - mae: 240.4004 - val_loss: 1367.2736 - val_mae: 1367.2736\n",
            "Epoch 32/100\n",
            "61/69 [=========================>....] - ETA: 0s - loss: 245.7378 - mae: 245.7378"
          ]
        },
        {
          "output_type": "stream",
          "name": "stderr",
          "text": [
            "WARNING:absl:Found untraced functions such as _update_step_xla while saving (showing 1 of 1). These functions will not be directly callable after loading.\n"
          ]
        },
        {
          "output_type": "stream",
          "name": "stdout",
          "text": [
            "\b\b\b\b\b\b\b\b\b\b\b\b\b\b\b\b\b\b\b\b\b\b\b\b\b\b\b\b\b\b\b\b\b\b\b\b\b\b\b\b\b\b\b\b\b\b\b\b\b\b\b\b\b\b\b\b\b\b\b\b\b\b\b\b\b\b\b\b\b\b\b\b\b\b\b\b\b\b\b\b\b\r69/69 [==============================] - 1s 14ms/step - loss: 245.9132 - mae: 245.9132 - val_loss: 1299.9855 - val_mae: 1299.9855\n",
            "Epoch 33/100\n",
            "58/69 [========================>.....] - ETA: 0s - loss: 239.3669 - mae: 239.3669"
          ]
        },
        {
          "output_type": "stream",
          "name": "stderr",
          "text": [
            "WARNING:absl:Found untraced functions such as _update_step_xla while saving (showing 1 of 1). These functions will not be directly callable after loading.\n"
          ]
        },
        {
          "output_type": "stream",
          "name": "stdout",
          "text": [
            "\b\b\b\b\b\b\b\b\b\b\b\b\b\b\b\b\b\b\b\b\b\b\b\b\b\b\b\b\b\b\b\b\b\b\b\b\b\b\b\b\b\b\b\b\b\b\b\b\b\b\b\b\b\b\b\b\b\b\b\b\b\b\b\b\b\b\b\b\b\b\b\b\b\b\b\b\b\b\b\b\b\r69/69 [==============================] - 1s 11ms/step - loss: 238.5193 - mae: 238.5193 - val_loss: 1283.5826 - val_mae: 1283.5826\n",
            "Epoch 34/100\n",
            "69/69 [==============================] - 0s 3ms/step - loss: 236.9026 - mae: 236.9026 - val_loss: 1544.0841 - val_mae: 1544.0841\n",
            "Epoch 35/100\n",
            "69/69 [==============================] - 0s 3ms/step - loss: 233.7392 - mae: 233.7392 - val_loss: 1296.3256 - val_mae: 1296.3256\n",
            "Epoch 36/100\n",
            "57/69 [=======================>......] - ETA: 0s - loss: 242.0732 - mae: 242.0732"
          ]
        },
        {
          "output_type": "stream",
          "name": "stderr",
          "text": [
            "WARNING:absl:Found untraced functions such as _update_step_xla while saving (showing 1 of 1). These functions will not be directly callable after loading.\n"
          ]
        },
        {
          "output_type": "stream",
          "name": "stdout",
          "text": [
            "\b\b\b\b\b\b\b\b\b\b\b\b\b\b\b\b\b\b\b\b\b\b\b\b\b\b\b\b\b\b\b\b\b\b\b\b\b\b\b\b\b\b\b\b\b\b\b\b\b\b\b\b\b\b\b\b\b\b\b\b\b\b\b\b\b\b\b\b\b\b\b\b\b\b\b\b\b\b\b\b\b\r69/69 [==============================] - 1s 11ms/step - loss: 242.8739 - mae: 242.8739 - val_loss: 1277.9849 - val_mae: 1277.9849\n",
            "Epoch 37/100\n",
            "59/69 [========================>.....] - ETA: 0s - loss: 235.4227 - mae: 235.4227"
          ]
        },
        {
          "output_type": "stream",
          "name": "stderr",
          "text": [
            "WARNING:absl:Found untraced functions such as _update_step_xla while saving (showing 1 of 1). These functions will not be directly callable after loading.\n"
          ]
        },
        {
          "output_type": "stream",
          "name": "stdout",
          "text": [
            "\b\b\b\b\b\b\b\b\b\b\b\b\b\b\b\b\b\b\b\b\b\b\b\b\b\b\b\b\b\b\b\b\b\b\b\b\b\b\b\b\b\b\b\b\b\b\b\b\b\b\b\b\b\b\b\b\b\b\b\b\b\b\b\b\b\b\b\b\b\b\b\b\b\b\b\b\b\b\b\b\b\r69/69 [==============================] - 1s 11ms/step - loss: 237.5161 - mae: 237.5161 - val_loss: 1266.6346 - val_mae: 1266.6346\n",
            "Epoch 38/100\n",
            "69/69 [==============================] - 0s 3ms/step - loss: 230.9580 - mae: 230.9580 - val_loss: 1326.9849 - val_mae: 1326.9849\n",
            "Epoch 39/100\n",
            "69/69 [==============================] - 0s 3ms/step - loss: 246.4270 - mae: 246.4270 - val_loss: 1269.1321 - val_mae: 1269.1321\n",
            "Epoch 40/100\n",
            "69/69 [==============================] - 0s 3ms/step - loss: 238.7650 - mae: 238.7650 - val_loss: 1312.5228 - val_mae: 1312.5228\n",
            "Epoch 41/100\n",
            "69/69 [==============================] - 0s 3ms/step - loss: 232.3320 - mae: 232.3320 - val_loss: 1276.6072 - val_mae: 1276.6072\n",
            "Epoch 42/100\n",
            "69/69 [==============================] - 0s 3ms/step - loss: 238.2498 - mae: 238.2498 - val_loss: 1714.3173 - val_mae: 1714.3173\n",
            "Epoch 43/100\n",
            "55/69 [======================>.......] - ETA: 0s - loss: 252.3806 - mae: 252.3806"
          ]
        },
        {
          "output_type": "stream",
          "name": "stderr",
          "text": [
            "WARNING:absl:Found untraced functions such as _update_step_xla while saving (showing 1 of 1). These functions will not be directly callable after loading.\n"
          ]
        },
        {
          "output_type": "stream",
          "name": "stdout",
          "text": [
            "\b\b\b\b\b\b\b\b\b\b\b\b\b\b\b\b\b\b\b\b\b\b\b\b\b\b\b\b\b\b\b\b\b\b\b\b\b\b\b\b\b\b\b\b\b\b\b\b\b\b\b\b\b\b\b\b\b\b\b\b\b\b\b\b\b\b\b\b\b\b\b\b\b\b\b\b\b\b\b\b\b\r69/69 [==============================] - 1s 16ms/step - loss: 248.2959 - mae: 248.2959 - val_loss: 1244.9137 - val_mae: 1244.9137\n",
            "Epoch 44/100\n",
            "69/69 [==============================] - 0s 3ms/step - loss: 234.0295 - mae: 234.0295 - val_loss: 1679.3494 - val_mae: 1679.3494\n",
            "Epoch 45/100\n",
            "69/69 [==============================] - 0s 3ms/step - loss: 238.2320 - mae: 238.2320 - val_loss: 1319.0879 - val_mae: 1319.0879\n",
            "Epoch 46/100\n",
            "69/69 [==============================] - 0s 3ms/step - loss: 237.4849 - mae: 237.4849 - val_loss: 1358.8652 - val_mae: 1358.8652\n",
            "Epoch 47/100\n",
            "69/69 [==============================] - 0s 3ms/step - loss: 240.5072 - mae: 240.5072 - val_loss: 1734.9786 - val_mae: 1734.9786\n",
            "Epoch 48/100\n",
            "69/69 [==============================] - 0s 3ms/step - loss: 239.5620 - mae: 239.5620 - val_loss: 1298.0153 - val_mae: 1298.0153\n",
            "Epoch 49/100\n",
            "69/69 [==============================] - 0s 3ms/step - loss: 225.4854 - mae: 225.4854 - val_loss: 1258.0249 - val_mae: 1258.0249\n",
            "Epoch 50/100\n",
            "69/69 [==============================] - 0s 3ms/step - loss: 230.3195 - mae: 230.3195 - val_loss: 1344.0483 - val_mae: 1344.0483\n",
            "Epoch 51/100\n",
            "69/69 [==============================] - 0s 3ms/step - loss: 230.1795 - mae: 230.1795 - val_loss: 1462.5428 - val_mae: 1462.5428\n",
            "Epoch 52/100\n",
            "69/69 [==============================] - 0s 3ms/step - loss: 229.0505 - mae: 229.0505 - val_loss: 1293.0562 - val_mae: 1293.0562\n",
            "Epoch 53/100\n",
            "69/69 [==============================] - 0s 3ms/step - loss: 229.8643 - mae: 229.8643 - val_loss: 1280.0858 - val_mae: 1280.0858\n",
            "Epoch 54/100\n",
            "69/69 [==============================] - 0s 3ms/step - loss: 226.5806 - mae: 226.5806 - val_loss: 1364.8462 - val_mae: 1364.8462\n",
            "Epoch 55/100\n",
            "69/69 [==============================] - 0s 3ms/step - loss: 229.1534 - mae: 229.1534 - val_loss: 1362.0813 - val_mae: 1362.0813\n",
            "Epoch 56/100\n",
            "69/69 [==============================] - 0s 3ms/step - loss: 233.1241 - mae: 233.1241 - val_loss: 1265.5637 - val_mae: 1265.5637\n",
            "Epoch 57/100\n",
            "50/69 [====================>.........] - ETA: 0s - loss: 238.5332 - mae: 238.5332"
          ]
        },
        {
          "output_type": "stream",
          "name": "stderr",
          "text": [
            "WARNING:absl:Found untraced functions such as _update_step_xla while saving (showing 1 of 1). These functions will not be directly callable after loading.\n"
          ]
        },
        {
          "output_type": "stream",
          "name": "stdout",
          "text": [
            "\b\b\b\b\b\b\b\b\b\b\b\b\b\b\b\b\b\b\b\b\b\b\b\b\b\b\b\b\b\b\b\b\b\b\b\b\b\b\b\b\b\b\b\b\b\b\b\b\b\b\b\b\b\b\b\b\b\b\b\b\b\b\b\b\b\b\b\b\b\b\b\b\b\b\b\b\b\b\b\b\b\r69/69 [==============================] - 1s 12ms/step - loss: 230.8013 - mae: 230.8013 - val_loss: 1243.8326 - val_mae: 1243.8326\n",
            "Epoch 58/100\n",
            "58/69 [========================>.....] - ETA: 0s - loss: 231.0643 - mae: 231.0643"
          ]
        },
        {
          "output_type": "stream",
          "name": "stderr",
          "text": [
            "WARNING:absl:Found untraced functions such as _update_step_xla while saving (showing 1 of 1). These functions will not be directly callable after loading.\n"
          ]
        },
        {
          "output_type": "stream",
          "name": "stdout",
          "text": [
            "\b\b\b\b\b\b\b\b\b\b\b\b\b\b\b\b\b\b\b\b\b\b\b\b\b\b\b\b\b\b\b\b\b\b\b\b\b\b\b\b\b\b\b\b\b\b\b\b\b\b\b\b\b\b\b\b\b\b\b\b\b\b\b\b\b\b\b\b\b\b\b\b\b\b\b\b\b\b\b\b\b\r69/69 [==============================] - 1s 11ms/step - loss: 232.5448 - mae: 232.5448 - val_loss: 1236.9351 - val_mae: 1236.9351\n",
            "Epoch 59/100\n",
            "69/69 [==============================] - 0s 3ms/step - loss: 230.2398 - mae: 230.2398 - val_loss: 1279.8062 - val_mae: 1279.8062\n",
            "Epoch 60/100\n",
            "69/69 [==============================] - 0s 3ms/step - loss: 233.5836 - mae: 233.5836 - val_loss: 1302.7483 - val_mae: 1302.7483\n",
            "Epoch 61/100\n",
            "69/69 [==============================] - 0s 3ms/step - loss: 226.0904 - mae: 226.0904 - val_loss: 1357.9009 - val_mae: 1357.9009\n",
            "Epoch 62/100\n",
            "69/69 [==============================] - 0s 4ms/step - loss: 228.9471 - mae: 228.9471 - val_loss: 1416.8037 - val_mae: 1416.8037\n",
            "Epoch 63/100\n",
            "69/69 [==============================] - 1s 8ms/step - loss: 227.8373 - mae: 227.8373 - val_loss: 1489.9729 - val_mae: 1489.9729\n",
            "Epoch 64/100\n",
            "69/69 [==============================] - 2s 23ms/step - loss: 226.8803 - mae: 226.8803 - val_loss: 1243.9075 - val_mae: 1243.9075\n",
            "Epoch 65/100\n",
            "69/69 [==============================] - 1s 12ms/step - loss: 225.8056 - mae: 225.8056 - val_loss: 1352.5791 - val_mae: 1352.5791\n",
            "Epoch 66/100\n",
            "69/69 [==============================] - 0s 4ms/step - loss: 228.2968 - mae: 228.2968 - val_loss: 1374.3916 - val_mae: 1374.3916\n",
            "Epoch 67/100\n",
            "69/69 [==============================] - 0s 3ms/step - loss: 226.7852 - mae: 226.7852 - val_loss: 1311.1661 - val_mae: 1311.1661\n",
            "Epoch 68/100\n",
            "69/69 [==============================] - 0s 3ms/step - loss: 226.9888 - mae: 226.9888 - val_loss: 1294.5178 - val_mae: 1294.5178\n",
            "Epoch 69/100\n",
            "69/69 [==============================] - 0s 3ms/step - loss: 225.0648 - mae: 225.0648 - val_loss: 1445.1952 - val_mae: 1445.1952\n",
            "Epoch 70/100\n",
            "69/69 [==============================] - 0s 3ms/step - loss: 229.4583 - mae: 229.4583 - val_loss: 1499.7938 - val_mae: 1499.7938\n",
            "Epoch 71/100\n",
            "69/69 [==============================] - 0s 3ms/step - loss: 235.6311 - mae: 235.6311 - val_loss: 1329.4539 - val_mae: 1329.4539\n",
            "Epoch 72/100\n",
            "69/69 [==============================] - 0s 3ms/step - loss: 232.6343 - mae: 232.6343 - val_loss: 1324.8346 - val_mae: 1324.8346\n",
            "Epoch 73/100\n",
            "58/69 [========================>.....] - ETA: 0s - loss: 223.3053 - mae: 223.3053"
          ]
        },
        {
          "output_type": "stream",
          "name": "stderr",
          "text": [
            "WARNING:absl:Found untraced functions such as _update_step_xla while saving (showing 1 of 1). These functions will not be directly callable after loading.\n"
          ]
        },
        {
          "output_type": "stream",
          "name": "stdout",
          "text": [
            "\b\b\b\b\b\b\b\b\b\b\b\b\b\b\b\b\b\b\b\b\b\b\b\b\b\b\b\b\b\b\b\b\b\b\b\b\b\b\b\b\b\b\b\b\b\b\b\b\b\b\b\b\b\b\b\b\b\b\b\b\b\b\b\b\b\b\b\b\b\b\b\b\b\b\b\b\b\b\b\b\b\r69/69 [==============================] - 1s 11ms/step - loss: 225.5310 - mae: 225.5310 - val_loss: 1225.6266 - val_mae: 1225.6266\n",
            "Epoch 74/100\n",
            "69/69 [==============================] - 0s 3ms/step - loss: 224.5132 - mae: 224.5132 - val_loss: 1566.0409 - val_mae: 1566.0409\n",
            "Epoch 75/100\n",
            "69/69 [==============================] - 0s 3ms/step - loss: 225.8949 - mae: 225.8949 - val_loss: 1348.7499 - val_mae: 1348.7499\n",
            "Epoch 76/100\n",
            "69/69 [==============================] - 0s 3ms/step - loss: 225.8007 - mae: 225.8007 - val_loss: 1301.1759 - val_mae: 1301.1759\n",
            "Epoch 77/100\n",
            "69/69 [==============================] - 0s 3ms/step - loss: 227.2255 - mae: 227.2255 - val_loss: 1234.2107 - val_mae: 1234.2107\n",
            "Epoch 78/100\n",
            "69/69 [==============================] - 0s 3ms/step - loss: 228.1545 - mae: 228.1545 - val_loss: 1388.4773 - val_mae: 1388.4773\n",
            "Epoch 79/100\n",
            "69/69 [==============================] - 0s 3ms/step - loss: 221.5804 - mae: 221.5804 - val_loss: 1237.7065 - val_mae: 1237.7065\n",
            "Epoch 80/100\n",
            "69/69 [==============================] - 0s 4ms/step - loss: 225.4961 - mae: 225.4961 - val_loss: 1248.3005 - val_mae: 1248.3005\n",
            "Epoch 81/100\n",
            "69/69 [==============================] - 0s 3ms/step - loss: 231.8565 - mae: 231.8565 - val_loss: 1244.5569 - val_mae: 1244.5569\n",
            "Epoch 82/100\n",
            "69/69 [==============================] - 0s 3ms/step - loss: 230.0119 - mae: 230.0119 - val_loss: 1566.4744 - val_mae: 1566.4744\n",
            "Epoch 83/100\n",
            "69/69 [==============================] - 0s 3ms/step - loss: 227.1826 - mae: 227.1826 - val_loss: 1420.0673 - val_mae: 1420.0673\n",
            "Epoch 84/100\n",
            "69/69 [==============================] - 0s 3ms/step - loss: 228.7056 - mae: 228.7056 - val_loss: 1303.3931 - val_mae: 1303.3931\n",
            "Epoch 85/100\n",
            "44/69 [==================>...........] - ETA: 0s - loss: 230.1327 - mae: 230.1327"
          ]
        },
        {
          "output_type": "stream",
          "name": "stderr",
          "text": [
            "WARNING:absl:Found untraced functions such as _update_step_xla while saving (showing 1 of 1). These functions will not be directly callable after loading.\n"
          ]
        },
        {
          "output_type": "stream",
          "name": "stdout",
          "text": [
            "\b\b\b\b\b\b\b\b\b\b\b\b\b\b\b\b\b\b\b\b\b\b\b\b\b\b\b\b\b\b\b\b\b\b\b\b\b\b\b\b\b\b\b\b\b\b\b\b\b\b\b\b\b\b\b\b\b\b\b\b\b\b\b\b\b\b\b\b\b\b\b\b\b\b\b\b\b\b\b\b\b\r69/69 [==============================] - 1s 11ms/step - loss: 230.4504 - mae: 230.4504 - val_loss: 1210.0454 - val_mae: 1210.0454\n",
            "Epoch 86/100\n",
            "69/69 [==============================] - 0s 4ms/step - loss: 225.8407 - mae: 225.8407 - val_loss: 1289.8534 - val_mae: 1289.8534\n",
            "Epoch 87/100\n",
            "69/69 [==============================] - 0s 3ms/step - loss: 230.1941 - mae: 230.1941 - val_loss: 1253.6757 - val_mae: 1253.6757\n",
            "Epoch 88/100\n",
            "69/69 [==============================] - 0s 3ms/step - loss: 230.9439 - mae: 230.9439 - val_loss: 1652.9177 - val_mae: 1652.9177\n",
            "Epoch 89/100\n",
            "69/69 [==============================] - 0s 3ms/step - loss: 229.6037 - mae: 229.6037 - val_loss: 1279.8501 - val_mae: 1279.8501\n",
            "Epoch 90/100\n",
            "69/69 [==============================] - 0s 3ms/step - loss: 224.9014 - mae: 224.9014 - val_loss: 1227.6605 - val_mae: 1227.6605\n",
            "Epoch 91/100\n",
            "69/69 [==============================] - 0s 3ms/step - loss: 232.5559 - mae: 232.5559 - val_loss: 1324.2573 - val_mae: 1324.2573\n",
            "Epoch 92/100\n",
            "52/69 [=====================>........] - ETA: 0s - loss: 218.8805 - mae: 218.8805"
          ]
        },
        {
          "output_type": "stream",
          "name": "stderr",
          "text": [
            "WARNING:absl:Found untraced functions such as _update_step_xla while saving (showing 1 of 1). These functions will not be directly callable after loading.\n"
          ]
        },
        {
          "output_type": "stream",
          "name": "stdout",
          "text": [
            "\b\b\b\b\b\b\b\b\b\b\b\b\b\b\b\b\b\b\b\b\b\b\b\b\b\b\b\b\b\b\b\b\b\b\b\b\b\b\b\b\b\b\b\b\b\b\b\b\b\b\b\b\b\b\b\b\b\b\b\b\b\b\b\b\b\b\b\b\b\b\b\b\b\b\b\b\b\b\b\b\b\r69/69 [==============================] - 1s 11ms/step - loss: 220.6001 - mae: 220.6001 - val_loss: 1206.6467 - val_mae: 1206.6467\n",
            "Epoch 93/100\n",
            "69/69 [==============================] - 0s 3ms/step - loss: 231.9457 - mae: 231.9457 - val_loss: 1809.3190 - val_mae: 1809.3190\n",
            "Epoch 94/100\n",
            "69/69 [==============================] - 0s 3ms/step - loss: 245.2350 - mae: 245.2350 - val_loss: 1334.7628 - val_mae: 1334.7628\n",
            "Epoch 95/100\n",
            "69/69 [==============================] - 0s 3ms/step - loss: 224.4996 - mae: 224.4996 - val_loss: 1220.6638 - val_mae: 1220.6638\n",
            "Epoch 96/100\n",
            "69/69 [==============================] - 0s 3ms/step - loss: 219.0685 - mae: 219.0685 - val_loss: 1241.0936 - val_mae: 1241.0936\n",
            "Epoch 97/100\n",
            "69/69 [==============================] - 0s 3ms/step - loss: 217.5887 - mae: 217.5887 - val_loss: 1253.1259 - val_mae: 1253.1259\n",
            "Epoch 98/100\n",
            "50/69 [====================>.........] - ETA: 0s - loss: 209.4306 - mae: 209.4306"
          ]
        },
        {
          "output_type": "stream",
          "name": "stderr",
          "text": [
            "WARNING:absl:Found untraced functions such as _update_step_xla while saving (showing 1 of 1). These functions will not be directly callable after loading.\n"
          ]
        },
        {
          "output_type": "stream",
          "name": "stdout",
          "text": [
            "\b\b\b\b\b\b\b\b\b\b\b\b\b\b\b\b\b\b\b\b\b\b\b\b\b\b\b\b\b\b\b\b\b\b\b\b\b\b\b\b\b\b\b\b\b\b\b\b\b\b\b\b\b\b\b\b\b\b\b\b\b\b\b\b\b\b\b\b\b\b\b\b\b\b\b\b\b\b\b\b\b\r69/69 [==============================] - 1s 12ms/step - loss: 220.3041 - mae: 220.3041 - val_loss: 1206.1910 - val_mae: 1206.1910\n",
            "Epoch 99/100\n",
            "69/69 [==============================] - 0s 3ms/step - loss: 218.1505 - mae: 218.1505 - val_loss: 1247.2559 - val_mae: 1247.2559\n",
            "Epoch 100/100\n",
            "69/69 [==============================] - 0s 4ms/step - loss: 220.5492 - mae: 220.5492 - val_loss: 1381.8356 - val_mae: 1381.8356\n"
          ]
        }
      ]
    },
    {
      "cell_type": "code",
      "source": [
        "model_3.evaluate(test_window,test_label)"
      ],
      "metadata": {
        "colab": {
          "base_uri": "https://localhost:8080/"
        },
        "id": "nhUU-mSuFlnL",
        "outputId": "936e6874-5569-463e-aa80-da304166902e"
      },
      "execution_count": 53,
      "outputs": [
        {
          "output_type": "stream",
          "name": "stdout",
          "text": [
            "18/18 [==============================] - 0s 5ms/step - loss: 1381.8356 - mae: 1381.8356\n"
          ]
        },
        {
          "output_type": "execute_result",
          "data": {
            "text/plain": [
              "[1381.8355712890625, 1381.8355712890625]"
            ]
          },
          "metadata": {},
          "execution_count": 53
        }
      ]
    },
    {
      "cell_type": "code",
      "source": [
        "model_3_preds = make_preds(model_3,test_window)\n",
        "len(model_3_preds), model_3_preds[:10]"
      ],
      "metadata": {
        "colab": {
          "base_uri": "https://localhost:8080/"
        },
        "id": "fx66R_qUF39q",
        "outputId": "69be4d09-6247-4528-c48f-c67df40bf652"
      },
      "execution_count": 54,
      "outputs": [
        {
          "output_type": "stream",
          "name": "stdout",
          "text": [
            "18/18 [==============================] - 0s 3ms/step\n"
          ]
        },
        {
          "output_type": "execute_result",
          "data": {
            "text/plain": [
              "(551,\n",
              " <tf.Tensor: shape=(10, 7), dtype=float32, numpy=\n",
              " array([[9001.117 , 9063.797 , 9028.774 , 9219.079 , 9090.499 , 9068.122 ,\n",
              "         9113.46  ],\n",
              "        [8569.566 , 8682.135 , 8675.305 , 8807.097 , 8776.571 , 8848.901 ,\n",
              "         8771.477 ],\n",
              "        [8450.903 , 8530.959 , 8541.506 , 8726.513 , 8796.529 , 8734.108 ,\n",
              "         8685.588 ],\n",
              "        [8602.307 , 8777.918 , 8722.334 , 8874.064 , 8996.796 , 8907.58  ,\n",
              "         8865.221 ],\n",
              "        [8434.203 , 8717.391 , 8622.649 , 8888.253 , 8810.348 , 8818.8   ,\n",
              "         8696.077 ],\n",
              "        [8554.482 , 8688.567 , 8691.994 , 8897.771 , 8845.446 , 8704.281 ,\n",
              "         8648.812 ],\n",
              "        [8534.882 , 8551.249 , 8734.171 , 8655.208 , 8660.762 , 8488.113 ,\n",
              "         8503.91  ],\n",
              "        [8399.624 , 8425.959 , 8569.174 , 8433.444 , 8438.163 , 8357.076 ,\n",
              "         8273.242 ],\n",
              "        [8214.906 , 8235.254 , 8269.183 , 8232.827 , 8285.837 , 8196.741 ,\n",
              "         8096.4155],\n",
              "        [8068.147 , 8133.4946, 8025.4526, 8223.87  , 8241.962 , 8058.047 ,\n",
              "         8043.2866]], dtype=float32)>)"
            ]
          },
          "metadata": {},
          "execution_count": 54
        }
      ]
    },
    {
      "cell_type": "code",
      "source": [
        "model_3_results = evaluate_pred(y_true=tf.squeeze(test_label),\n",
        "                                y_pred=model_3_preds)\n",
        "model_3_results"
      ],
      "metadata": {
        "colab": {
          "base_uri": "https://localhost:8080/"
        },
        "id": "es9gDnKTGDFA",
        "outputId": "ff4dd1b6-c65a-4928-b89f-11fca3949f51"
      },
      "execution_count": 55,
      "outputs": [
        {
          "output_type": "execute_result",
          "data": {
            "text/plain": [
              "{'mae': array([ 305.30972 ,  171.39648 ,  234.65764 ,  233.2694  ,  270.5096  ,\n",
              "         311.91428 ,  258.4456  ,  238.02881 ,  337.6363  ,  421.2295  ,\n",
              "         552.6022  ,  595.2013  ,  646.3648  ,  629.7458  ,  258.70285 ,\n",
              "         251.49129 ,  350.07895 ,  579.87537 ,  543.3854  ,  554.3476  ,\n",
              "         218.51604 ,  230.97697 ,  159.8524  ,  141.74045 ,  184.82932 ,\n",
              "         297.89502 ,  363.5422  ,  394.57486 ,  334.65396 ,  172.17717 ,\n",
              "         118.556015,   94.191124,  138.93137 ,  212.85066 ,  257.50092 ,\n",
              "         270.55588 ,  173.29213 ,  240.48166 ,  283.9241  ,  471.3132  ,\n",
              "         812.74475 ,  322.44986 ,  274.38232 ,  248.83572 ,  134.70871 ,\n",
              "         218.70842 ,  223.92049 ,  248.2761  ,  247.0867  ,  265.06348 ,\n",
              "         270.76822 ,  236.90688 ,  141.35889 ,  275.4184  ,  427.44022 ,\n",
              "         560.9137  ,  883.662   ,  770.91425 ,  740.626   ,  797.6432  ,\n",
              "         618.89844 ,  410.50006 ,  396.07053 ,  693.9232  ,  699.4189  ,\n",
              "         744.81195 ,  794.4498  ,  814.45496 ,  321.89285 ,  158.54115 ,\n",
              "         156.36719 ,  264.0572  ,  265.03976 ,  197.24734 ,  204.42648 ,\n",
              "         259.2973  ,  276.25684 ,  544.63184 ,  735.0029  , 1009.0038  ,\n",
              "        1069.9811  ,  788.5905  ,  481.96066 ,  296.9813  ,  200.31795 ,\n",
              "         248.3019  ,  341.62418 ,  530.0968  ,  704.1299  ,  971.49774 ,\n",
              "         816.64355 ,  720.7474  ,  621.0618  ,  480.35992 ,  253.24861 ,\n",
              "         365.92758 ,  331.25015 ,  330.2723  ,  364.1663  ,  409.26828 ,\n",
              "         195.47404 ,  166.06334 ,  427.38992 ,  108.50153 ,  247.56961 ,\n",
              "         388.54074 ,  464.44043 ,  532.9682  ,  764.5332  ,  627.4351  ,\n",
              "         533.5572  ,  112.034874,  293.91656 ,  341.45285 ,  499.33566 ,\n",
              "         586.3863  ,  439.32834 ,  545.272   ,  592.2601  , 1008.81067 ,\n",
              "        1422.8557  , 1794.6534  , 1616.8728  , 1802.0603  , 1925.5452  ,\n",
              "        2132.0337  ,  742.6177  ,  509.5567  ,  553.8297  ,  516.6767  ,\n",
              "         665.2795  ,  628.45    ,  587.9009  ,  252.39342 ,  198.8231  ,\n",
              "         261.16412 ,  493.1287  ,  413.72488 ,  299.95312 ,  289.38058 ,\n",
              "         260.00494 ,  331.1497  ,  669.1225  , 1085.7421  ,  872.05853 ,\n",
              "         722.9624  ,  685.4209  ,  288.68228 ,  333.37717 ,  250.01576 ,\n",
              "         467.05914 ,  262.5224  ,  208.0427  ,  343.093   ,  312.02008 ,\n",
              "         154.67703 ,  361.39838 ,  313.62137 ,  344.47037 ,  358.66302 ,\n",
              "         505.39578 ,  298.72992 ,  326.04974 ,  273.0371  ,  254.00844 ,\n",
              "         636.8758  ,  853.8209  ,  949.32355 ,  693.1164  ,  840.04266 ,\n",
              "         992.01355 , 1137.1715  , 1270.1238  , 1355.1549  ,  640.24457 ,\n",
              "         476.0268  ,  494.7387  ,  402.83328 ,  510.72153 ,  551.91016 ,\n",
              "         549.524   ,  544.3852  ,  586.31824 ,  844.87683 ,  655.68304 ,\n",
              "         281.47028 ,  852.6112  ,  964.2987  ,  488.06332 ,  150.91002 ,\n",
              "         245.04576 ,  258.82672 ,  251.83594 ,  297.5459  ,  412.73257 ,\n",
              "         311.77972 ,  219.55022 ,  248.46428 ,  321.9145  ,  459.7553  ,\n",
              "         821.56067 , 1117.286   , 1033.0583  ,  642.3902  ,  494.1977  ,\n",
              "         216.46498 ,  383.48563 ,  153.91922 ,  264.83258 ,  361.9022  ,\n",
              "         280.4336  ,  363.82074 ,  297.86774 ,  227.39006 ,  204.06125 ,\n",
              "         149.06209 ,  152.54158 ,  265.9541  ,  189.53014 ,  215.9375  ,\n",
              "         248.65779 ,  210.32115 ,  235.02428 ,  208.11398 ,  282.81305 ,\n",
              "         361.85406 ,  339.88922 ,  277.12695 ,  188.19266 ,  244.11314 ,\n",
              "         152.59514 ,   97.93555 ,  303.63434 ,  404.77386 ,  375.74527 ,\n",
              "         328.7002  ,  260.22348 ,  257.05832 ,  344.64105 ,  392.6684  ,\n",
              "         415.6663  ,  534.97906 ,  296.6794  ,  303.15192 ,   98.13714 ,\n",
              "         169.50266 ,  239.98256 ,  305.18414 ,  261.43164 ,  236.18791 ,\n",
              "         229.78781 ,  284.91098 ,  409.5904  ,  481.2585  ,  573.2197  ,\n",
              "         644.66656 ,  962.2308  , 1001.4205  , 1076.2203  , 1178.759   ,\n",
              "        1430.535   , 1659.4186  , 1665.2292  ,  729.05304 ,  557.54016 ,\n",
              "         340.743   ,  420.16156 ,  410.94977 ,  192.81166 ,  412.507   ,\n",
              "         433.73453 ,  543.452   ,  241.41197 ,  180.5099  ,  239.7299  ,\n",
              "         193.57004 ,  177.60547 ,  125.564316,  548.6949  ,  504.64062 ,\n",
              "         461.77496 ,  354.9594  ,  289.93848 ,  302.85504 ,  191.72433 ,\n",
              "         139.10268 ,  147.4467  ,  182.31432 ,  268.13184 ,  195.65164 ,\n",
              "         209.08817 ,  170.08817 ,  452.30414 ,  547.2436  ,  596.10156 ,\n",
              "         541.7161  ,  664.3659  ,  789.19574 ,  919.9876  , 1110.4069  ,\n",
              "         940.6695  ,  362.70844 ,  151.13365 ,  552.97156 ,  570.3571  ,\n",
              "         446.6522  ,  693.3786  ,  688.0028  ,  721.9517  ,  714.0982  ,\n",
              "         687.26825 ,  831.90204 ,  590.2256  ,  321.4778  ,  298.26172 ,\n",
              "         270.898   ,  263.1652  ,  190.35799 ,  240.16463 ,  437.2578  ,\n",
              "         527.1632  ,  769.3874  ,  465.38477 ,  277.96832 ,  227.49094 ,\n",
              "         220.9343  ,  175.87877 ,  176.32283 ,  127.74874 ,  245.40932 ,\n",
              "         429.01465 ,  562.85156 ,  656.8698  ,  707.2712  ,  927.8076  ,\n",
              "        1065.5956  ,  936.0102  ,  780.3453  ,  422.01996 ,  352.9446  ,\n",
              "         196.02232 ,  310.05496 ,  654.4975  ,  864.27246 , 1217.3578  ,\n",
              "        1499.6827  , 1604.8448  , 1543.7578  , 1587.1459  ,  599.0201  ,\n",
              "         308.17328 ,  427.6772  ,  482.35883 ,  705.7422  ,  782.79254 ,\n",
              "         261.6512  ,  500.52496 ,  743.0936  ,  955.66376 ,  900.1084  ,\n",
              "        1076.1661  , 1446.7848  , 1482.442   , 1442.5643  ,  497.5918  ,\n",
              "         391.71094 ,  758.0931  ,  594.61884 , 1063.1334  , 1289.5997  ,\n",
              "        1176.9795  ,  941.7462  , 1122.8055  , 1597.1075  , 2243.7834  ,\n",
              "        1911.0613  , 1285.9221  ,  898.3563  ,  680.4581  ,  619.09094 ,\n",
              "         704.9196  ,  808.6705  ,  953.7997  ,  893.19867 ,  762.2182  ,\n",
              "        1129.1189  , 1933.2335  , 1815.2645  , 1554.599   ,  339.8711  ,\n",
              "         330.04605 ,  350.8189  ,  315.1529  ,  402.01367 ,  431.8602  ,\n",
              "         394.0734  ,  357.02652 ,  557.0159  , 1234.3591  , 2152.6655  ,\n",
              "        3097.0256  , 3298.5828  , 3592.8953  , 3715.9492  , 4003.6973  ,\n",
              "        2812.7969  , 1322.442   ,  933.2001  ,  744.1049  , 1083.4816  ,\n",
              "        2024.1306  , 2446.0667  , 3280.7012  , 3629.7173  , 3463.1157  ,\n",
              "        2549.082   , 2794.7751  , 3127.3123  , 3854.3699  , 3578.187   ,\n",
              "        4285.617   , 5373.554   , 4391.757   , 4255.3696  , 5334.8003  ,\n",
              "        3404.4558  , 2998.4006  , 2468.346   , 4224.1313  , 5167.125   ,\n",
              "        4451.165   ,  831.49835 , 1679.7299  , 1224.1484  , 3114.9292  ,\n",
              "        2739.3381  , 2818.5261  , 2857.0347  , 2812.8757  , 3476.1912  ,\n",
              "        2785.08    , 1495.9967  , 1153.6276  , 1523.9615  , 1695.628   ,\n",
              "        1793.0798  , 2914.9426  , 4698.4565  , 3968.0286  , 2242.1877  ,\n",
              "        2525.317   , 3882.5398  , 5998.5415  , 6343.329   , 6013.204   ,\n",
              "        6991.8584  , 7707.097   , 7090.707   , 9408.431   , 4851.693   ,\n",
              "        1826.1562  , 3000.7192  , 1554.9592  , 2176.9246  , 3669.8347  ,\n",
              "        3575.5664  , 3991.7903  , 4402.7573  , 2927.981   , 4016.2734  ,\n",
              "        5880.6953  , 7206.843   , 9723.524   , 8667.506   , 3132.2058  ,\n",
              "        1879.1389  , 1416.7188  , 2603.4114  , 3437.3555  , 5008.6343  ,\n",
              "        3265.6462  , 4052.552   , 2779.5212  , 4314.973   , 5852.124   ,\n",
              "        7244.612   , 7477.0654  , 7458.507   , 5962.892   , 3688.47    ,\n",
              "        3150.3186  , 3218.3542  , 1002.55304 , 1151.9258  , 1717.9705  ,\n",
              "        2141.2036  , 2251.7622  , 3007.2222  , 3471.836   , 3799.5005  ,\n",
              "        3081.121   , 1636.5319  , 1771.8516  , 4366.8174  , 5753.1274  ,\n",
              "        5074.0693  , 3055.5793  , 4017.452   , 3052.8125  , 1901.1669  ,\n",
              "        1325.8075  , 1004.28406 , 1095.7494  , 1642.7428  , 1967.0781  ,\n",
              "        1734.2802  , 2704.1602  , 5383.5337  , 5947.821   , 5683.5015  ,\n",
              "        4491.561   , 3512.6033  , 3326.9878  , 3248.3254  , 4103.1685  ,\n",
              "        5397.2266  , 5921.354   , 5126.2153  , 3433.3035  , 2779.5364  ,\n",
              "        2482.5005  , 2003.3856  , 2147.1501  , 4290.69    , 5379.9844  ,\n",
              "        7597.382   , 5084.546   , 2576.309   , 2592.336   , 3862.4749  ,\n",
              "        2260.082   , 1801.923   , 2305.7239  , 1699.5039  , 4910.859   ,\n",
              "        3137.3582  , 3001.8828  , 3228.1753  , 4190.973   , 5205.8174  ,\n",
              "        6423.171   ], dtype=float32),\n",
              " 'mse': array([1.13179070e+05, 4.65443477e+04, 8.56148672e+04, 8.65551719e+04,\n",
              "        9.93003594e+04, 1.26274789e+05, 8.98916797e+04, 9.75745156e+04,\n",
              "        1.79240266e+05, 2.61870531e+05, 5.25017688e+05, 4.62525156e+05,\n",
              "        4.67954906e+05, 4.60455781e+05, 1.12355812e+05, 1.02813961e+05,\n",
              "        1.79156547e+05, 3.62805000e+05, 3.13239531e+05, 3.42462844e+05,\n",
              "        9.49093203e+04, 1.13256891e+05, 3.47858984e+04, 2.26358691e+04,\n",
              "        4.30181055e+04, 9.91884844e+04, 1.46119047e+05, 1.80394203e+05,\n",
              "        1.38931625e+05, 5.25608828e+04, 2.90675059e+04, 1.08691885e+04,\n",
              "        2.48853652e+04, 6.90566484e+04, 8.00125469e+04, 9.51349766e+04,\n",
              "        5.81242148e+04, 7.47843984e+04, 1.05192242e+05, 2.55434406e+05,\n",
              "        6.73153188e+05, 1.13323352e+05, 7.92150859e+04, 7.42446484e+04,\n",
              "        2.23803945e+04, 5.37619023e+04, 5.75147734e+04, 6.24744727e+04,\n",
              "        6.51738633e+04, 8.99592422e+04, 9.01008203e+04, 6.50969297e+04,\n",
              "        2.86906309e+04, 1.08101898e+05, 2.88465656e+05, 4.35332844e+05,\n",
              "        8.56395438e+05, 6.55389125e+05, 5.95969812e+05, 6.60244000e+05,\n",
              "        3.99730844e+05, 2.47544469e+05, 2.82288312e+05, 5.88263062e+05,\n",
              "        5.89715375e+05, 6.51162000e+05, 6.83622875e+05, 6.69394812e+05,\n",
              "        1.27500711e+05, 3.66301445e+04, 4.64929727e+04, 8.50072266e+04,\n",
              "        1.05479875e+05, 4.61346250e+04, 5.17128125e+04, 7.83845000e+04,\n",
              "        1.52992578e+05, 4.71863500e+05, 7.02278375e+05, 1.10642000e+06,\n",
              "        1.17810525e+06, 6.32548000e+05, 2.52624375e+05, 1.37764844e+05,\n",
              "        5.14939336e+04, 8.23313359e+04, 1.71109469e+05, 3.84575938e+05,\n",
              "        5.75849312e+05, 9.87293562e+05, 7.42076500e+05, 5.60604875e+05,\n",
              "        4.18209219e+05, 2.56045656e+05, 1.03678289e+05, 2.12822328e+05,\n",
              "        1.29136914e+05, 1.53607391e+05, 1.69007719e+05, 2.05615281e+05,\n",
              "        4.52659023e+04, 6.16035625e+04, 2.30017984e+05, 1.77840312e+04,\n",
              "        1.04596539e+05, 1.99665547e+05, 2.69815594e+05, 3.49089000e+05,\n",
              "        7.34390125e+05, 4.76889219e+05, 3.22401438e+05, 1.64363145e+04,\n",
              "        1.08676430e+05, 1.76680125e+05, 2.85779781e+05, 3.99125031e+05,\n",
              "        2.11425172e+05, 3.07164469e+05, 3.65778094e+05, 1.66341800e+06,\n",
              "        3.26306925e+06, 4.83623200e+06, 4.21729100e+06, 4.30795600e+06,\n",
              "        4.15523375e+06, 4.63047750e+06, 6.72555188e+05, 2.84502156e+05,\n",
              "        4.38038156e+05, 3.48432500e+05, 5.52111500e+05, 5.58388375e+05,\n",
              "        4.46193438e+05, 8.39786406e+04, 5.18794375e+04, 1.11045367e+05,\n",
              "        3.38872906e+05, 2.00797172e+05, 1.22475898e+05, 9.94290000e+04,\n",
              "        9.22996875e+04, 1.52044234e+05, 5.45439062e+05, 1.23177062e+06,\n",
              "        8.14513562e+05, 5.48946188e+05, 5.11257844e+05, 1.13670016e+05,\n",
              "        1.29820727e+05, 9.52554922e+04, 2.67675750e+05, 9.83733359e+04,\n",
              "        5.70155547e+04, 1.29310805e+05, 1.35005141e+05, 3.46683867e+04,\n",
              "        1.74242172e+05, 1.42607609e+05, 1.44101281e+05, 1.54347078e+05,\n",
              "        3.02836156e+05, 1.32851891e+05, 1.43119234e+05, 9.34609453e+04,\n",
              "        9.40548047e+04, 4.68298000e+05, 7.63143500e+05, 1.07407462e+06,\n",
              "        7.59814688e+05, 1.02393788e+06, 1.28275388e+06, 1.52205462e+06,\n",
              "        1.76745712e+06, 1.84057075e+06, 4.52853156e+05, 3.44698344e+05,\n",
              "        4.00678781e+05, 2.75145969e+05, 3.89170219e+05, 4.49115469e+05,\n",
              "        4.49674438e+05, 3.68834156e+05, 5.42394812e+05, 9.17224125e+05,\n",
              "        5.09120469e+05, 9.59587344e+04, 7.90274938e+05, 9.63410875e+05,\n",
              "        2.66981031e+05, 3.97086250e+04, 7.44521250e+04, 9.26418984e+04,\n",
              "        7.73135156e+04, 9.53311797e+04, 2.07313359e+05, 1.47932359e+05,\n",
              "        6.65711250e+04, 1.07755352e+05, 1.55274328e+05, 3.05092188e+05,\n",
              "        8.78850312e+05, 1.36699225e+06, 1.12606475e+06, 4.86306750e+05,\n",
              "        3.49712219e+05, 1.26247852e+05, 2.41830484e+05, 3.07063438e+04,\n",
              "        8.98907031e+04, 1.50192516e+05, 9.98341719e+04, 1.63211234e+05,\n",
              "        1.08541703e+05, 8.34423672e+04, 7.01665469e+04, 4.00992109e+04,\n",
              "        3.18469785e+04, 7.79209453e+04, 4.63624102e+04, 5.77827383e+04,\n",
              "        8.11158047e+04, 6.93817422e+04, 9.16981875e+04, 6.64868516e+04,\n",
              "        9.77957031e+04, 1.60134750e+05, 1.74493234e+05, 1.56827844e+05,\n",
              "        5.92524492e+04, 8.40889922e+04, 2.67431113e+04, 1.85048848e+04,\n",
              "        9.38186641e+04, 1.68761250e+05, 1.54824453e+05, 1.18841180e+05,\n",
              "        8.68421328e+04, 8.53922500e+04, 1.37821266e+05, 1.58722656e+05,\n",
              "        1.79109609e+05, 3.00630188e+05, 1.08089211e+05, 1.14199438e+05,\n",
              "        1.34368730e+04, 3.33634062e+04, 6.17881445e+04, 1.00433570e+05,\n",
              "        7.45561562e+04, 6.52793828e+04, 6.27587930e+04, 1.03783828e+05,\n",
              "        2.00434328e+05, 2.57393359e+05, 3.58365188e+05, 4.58364062e+05,\n",
              "        1.24408375e+06, 1.41508062e+06, 1.61611938e+06, 1.81212075e+06,\n",
              "        2.37863875e+06, 3.00657750e+06, 2.83233525e+06, 5.66035438e+05,\n",
              "        3.54072031e+05, 1.91600609e+05, 2.63719469e+05, 2.50750047e+05,\n",
              "        4.16207109e+04, 1.95394219e+05, 2.17252469e+05, 3.26042719e+05,\n",
              "        8.98056875e+04, 6.21977188e+04, 9.70696250e+04, 4.53390117e+04,\n",
              "        4.78849648e+04, 6.24398086e+04, 3.46979750e+05, 2.84929156e+05,\n",
              "        2.46500109e+05, 1.76565344e+05, 1.56453094e+05, 1.60805109e+05,\n",
              "        5.34692070e+04, 3.05845215e+04, 3.43950234e+04, 3.78987773e+04,\n",
              "        1.11941992e+05, 6.32024961e+04, 6.66869609e+04, 4.51869883e+04,\n",
              "        2.50997172e+05, 3.30797344e+05, 3.90934281e+05, 3.31367719e+05,\n",
              "        5.07894562e+05, 7.68676875e+05, 1.02872512e+06, 1.51467938e+06,\n",
              "        9.78648125e+05, 1.60657422e+05, 2.82106582e+04, 3.28914469e+05,\n",
              "        3.50850719e+05, 2.22057781e+05, 5.21476031e+05, 5.40542688e+05,\n",
              "        5.85455000e+05, 5.35426625e+05, 5.05662906e+05, 7.06651562e+05,\n",
              "        3.90746312e+05, 1.62802891e+05, 1.02141312e+05, 9.02518047e+04,\n",
              "        9.52407266e+04, 5.06461875e+04, 7.28095234e+04, 2.20510844e+05,\n",
              "        3.05345188e+05, 5.97040125e+05, 2.23902656e+05, 9.47342891e+04,\n",
              "        8.35621797e+04, 7.72012969e+04, 4.06475977e+04, 4.75325820e+04,\n",
              "        1.88913496e+04, 7.47620469e+04, 2.20391250e+05, 3.87693781e+05,\n",
              "        5.34986875e+05, 6.37529062e+05, 9.56681938e+05, 1.18170775e+06,\n",
              "        8.95468500e+05, 6.22974438e+05, 2.05490484e+05, 1.68813172e+05,\n",
              "        5.23999805e+04, 1.53352844e+05, 7.77889688e+05, 1.30709738e+06,\n",
              "        2.02857000e+06, 2.67999025e+06, 2.87016275e+06, 2.50594875e+06,\n",
              "        2.59948350e+06, 4.29516938e+05, 1.40583484e+05, 2.10865281e+05,\n",
              "        3.13968688e+05, 5.47928062e+05, 6.47979562e+05, 9.26896641e+04,\n",
              "        3.04100688e+05, 9.44606500e+05, 1.52106588e+06, 1.34181438e+06,\n",
              "        1.56506662e+06, 2.40339875e+06, 2.36835275e+06, 2.18492375e+06,\n",
              "        4.19608062e+05, 2.45269031e+05, 6.73494062e+05, 4.39837562e+05,\n",
              "        1.26042862e+06, 2.03817825e+06, 1.91934088e+06, 1.41235938e+06,\n",
              "        1.89497138e+06, 3.19917725e+06, 5.34024350e+06, 3.74771550e+06,\n",
              "        1.74554200e+06, 8.75291125e+05, 5.27457688e+05, 7.69516688e+05,\n",
              "        8.29275938e+05, 1.08159350e+06, 1.08975188e+06, 1.07930338e+06,\n",
              "        7.84919500e+05, 1.75191225e+06, 3.95535050e+06, 3.40979075e+06,\n",
              "        2.47216400e+06, 1.49937781e+05, 2.07674016e+05, 2.02414547e+05,\n",
              "        1.56305000e+05, 1.94232219e+05, 2.40567719e+05, 2.08938469e+05,\n",
              "        1.63008656e+05, 4.88198156e+05, 2.59751475e+06, 7.34807850e+06,\n",
              "        1.27203660e+07, 1.44344910e+07, 1.57165760e+07, 1.52268890e+07,\n",
              "        1.63504300e+07, 8.01054350e+06, 1.95138925e+06, 1.31644062e+06,\n",
              "        1.53749888e+06, 2.87461175e+06, 6.05230550e+06, 7.90222550e+06,\n",
              "        1.29577920e+07, 1.50003850e+07, 1.32193390e+07, 9.43192800e+06,\n",
              "        1.17050720e+07, 1.25816000e+07, 1.77105180e+07, 1.71141500e+07,\n",
              "        2.65849960e+07, 3.80393960e+07, 2.71869160e+07, 2.33670020e+07,\n",
              "        3.31448420e+07, 1.73255240e+07, 1.08627730e+07, 9.51818500e+06,\n",
              "        2.30689560e+07, 3.00716940e+07, 2.07610260e+07, 9.46424125e+05,\n",
              "        4.25732250e+06, 1.95860688e+06, 1.42603430e+07, 1.28622690e+07,\n",
              "        1.31206930e+07, 1.15194230e+07, 1.01133370e+07, 1.40740590e+07,\n",
              "        8.40417200e+06, 2.98343600e+06, 2.65124275e+06, 3.63943200e+06,\n",
              "        3.62775750e+06, 3.98263000e+06, 1.02449670e+07, 2.41948020e+07,\n",
              "        1.80389540e+07, 6.78817700e+06, 9.85891300e+06, 1.71304500e+07,\n",
              "        4.28997320e+07, 5.31272320e+07, 4.89728240e+07, 6.10946200e+07,\n",
              "        7.05999280e+07, 5.92719720e+07, 9.03302160e+07, 2.45452440e+07,\n",
              "        4.20219650e+06, 1.07959110e+07, 4.68327050e+06, 1.01603820e+07,\n",
              "        1.89371200e+07, 2.03739020e+07, 1.96809300e+07, 2.29055160e+07,\n",
              "        1.09425170e+07, 1.80705800e+07, 5.16680680e+07, 6.40356400e+07,\n",
              "        1.06686528e+08, 8.00981360e+07, 1.32134220e+07, 5.16254150e+06,\n",
              "        3.07257350e+06, 8.72024100e+06, 1.50333290e+07, 2.64017800e+07,\n",
              "        1.27835340e+07, 2.05895420e+07, 1.52853130e+07, 2.66801280e+07,\n",
              "        4.10576560e+07, 6.15186360e+07, 6.30521360e+07, 5.80411800e+07,\n",
              "        3.69304520e+07, 1.59396410e+07, 1.25384150e+07, 1.30750960e+07,\n",
              "        1.64537888e+06, 1.52511575e+06, 3.37973400e+06, 5.25169500e+06,\n",
              "        7.61958800e+06, 1.18575280e+07, 1.63494830e+07, 1.97387620e+07,\n",
              "        1.23368660e+07, 3.94282050e+06, 5.39333100e+06, 2.30137860e+07,\n",
              "        3.49851320e+07, 2.73170080e+07, 9.88174900e+06, 1.67652740e+07,\n",
              "        1.00494780e+07, 4.09401450e+06, 2.42420975e+06, 1.44107438e+06,\n",
              "        1.42625438e+06, 3.55042525e+06, 5.27266450e+06, 4.52041300e+06,\n",
              "        1.16445850e+07, 3.34037260e+07, 3.98490520e+07, 3.44254200e+07,\n",
              "        2.16540940e+07, 1.43396000e+07, 1.33416220e+07, 1.39681280e+07,\n",
              "        2.23441420e+07, 3.93499600e+07, 4.49263720e+07, 3.26356460e+07,\n",
              "        1.76562120e+07, 1.06374150e+07, 1.04338590e+07, 5.56392700e+06,\n",
              "        6.16717500e+06, 2.33805860e+07, 3.60178000e+07, 5.99586680e+07,\n",
              "        2.68277080e+07, 8.47952400e+06, 8.60827700e+06, 1.75935280e+07,\n",
              "        5.50916150e+06, 4.14091800e+06, 6.96308050e+06, 3.65950000e+06,\n",
              "        2.49284860e+07, 1.10888400e+07, 1.06601420e+07, 1.38116970e+07,\n",
              "        2.80482200e+07, 3.96488320e+07, 5.24616520e+07], dtype=float32),\n",
              " 'rmse': array([  336.42096,   215.7414 ,   292.6002 ,   294.2026 ,   315.1196 ,\n",
              "          355.35165,   299.8194 ,   312.3692 ,   423.36777,   511.73288,\n",
              "          724.58105,   680.09204,   684.07227,   678.5689 ,   335.1952 ,\n",
              "          320.64615,   423.2689 ,   602.33295,   559.67804,   585.20325,\n",
              "          308.07358,   336.53662,   186.50978,   150.45221,   207.40807,\n",
              "          314.94205,   382.25522,   424.7284 ,   372.73532,   229.2616 ,\n",
              "          170.49196,   104.2554 ,   157.75096,   262.78632,   282.8649 ,\n",
              "          308.43958,   241.08965,   273.46738,   324.33353,   505.40518,\n",
              "          820.4591 ,   336.63535,   281.45175,   272.4787 ,   149.60078,\n",
              "          231.86613,   239.82237,   249.94894,   255.29172,   299.93207,\n",
              "          300.168  ,   255.141  ,   169.38309,   328.78854,   537.08997,\n",
              "          659.7976 ,   925.4164 ,   809.5611 ,   771.9908 ,   812.554  ,\n",
              "          632.24274,   497.53842,   531.3081 ,   766.9831 ,   767.92926,\n",
              "          806.9461 ,   826.8149 ,   818.1655 ,   357.07242,   191.39003,\n",
              "          215.6223 ,   291.56   ,   324.77664,   214.78972,   227.40451,\n",
              "          279.97232,   391.14267,   686.9232 ,   838.0205 ,  1051.865  ,\n",
              "         1085.4055 ,   795.32886,   502.61752,   371.16687,   226.92274,\n",
              "          286.9344 ,   413.6538 ,   620.14185,   758.84735,   993.62646,\n",
              "          861.4386 ,   748.73553,   646.691  ,   506.00955,   321.99112,\n",
              "          461.3267 ,   359.35626,   391.9278 ,   411.10547,   453.4482 ,\n",
              "          212.75784,   248.20065,   479.6019 ,   133.35678,   323.41388,\n",
              "          446.8395 ,   519.43774,   590.8375 ,   856.96564,   690.57166,\n",
              "          567.8041 ,   128.2042 ,   329.66107,   420.33334,   534.58374,\n",
              "          631.7634 ,   459.80994,   554.2242 ,   604.7959 ,  1289.7356 ,\n",
              "         1806.3967 ,  2199.1436 ,  2053.6045 ,  2075.5615 ,  2038.4391 ,\n",
              "         2151.8545 ,   820.0946 ,   533.38745,   661.8445 ,   590.28174,\n",
              "          743.04205,   747.2539 ,   667.9771 ,   289.79068,   227.77058,\n",
              "          333.2347 ,   582.1279 ,   448.10397,   349.96558,   315.32364,\n",
              "          303.80862,   389.9285 ,   738.53845,  1109.8516 ,   902.504  ,\n",
              "          740.90906,   715.02295,   337.14984,   360.30643,   308.6349 ,\n",
              "          517.3739 ,   313.64523,   238.7793 ,   359.5981 ,   367.43045,\n",
              "          186.19449,   417.42325,   377.63422,   379.60675,   392.8703 ,\n",
              "          550.30554,   364.48853,   378.31104,   305.71384,   306.68356,\n",
              "          684.323  ,   873.5809 ,  1036.3757 ,   871.6735 ,  1011.89813,\n",
              "         1132.5873 ,  1233.7158 ,  1329.4574 ,  1356.6764 ,   672.94366,\n",
              "          587.11017,   632.99194,   524.5436 ,   623.8351 ,   670.16077,\n",
              "          670.5777 ,   607.3172 ,   736.4746 ,   957.7182 ,   713.5268 ,\n",
              "          309.77206,   888.9741 ,   981.535  ,   516.7021 ,   199.27023,\n",
              "          272.85916,   304.3713 ,   278.05307,   308.75748,   455.31677,\n",
              "          384.61975,   258.0138 ,   328.2611 ,   394.04865,   552.3515 ,\n",
              "          937.47015,  1169.1844 ,  1061.162  ,   697.357  ,   591.3647 ,\n",
              "          355.31375,   491.76263,   175.23225,   299.81778,   387.54678,\n",
              "          315.96545,   403.9941 ,   329.45667,   288.86392,   264.88968,\n",
              "          200.24788,   178.45721,   279.14325,   215.31932,   240.3804 ,\n",
              "          284.80835,   263.40414,   302.81708,   257.85043,   312.72305,\n",
              "          400.1684 ,   417.72388,   396.01495,   243.41826,   289.98102,\n",
              "          163.53322,   136.03265,   306.29834,   410.8056 ,   393.4774 ,\n",
              "          344.7335 ,   294.68988,   292.2195 ,   371.24286,   398.40012,\n",
              "          423.21344,   548.29755,   328.76923,   337.93408,   115.91753,\n",
              "          182.65652,   248.5722 ,   316.91257,   273.04974,   255.4983 ,\n",
              "          250.51704,   322.15497,   447.6989 ,   507.33948,   598.6361 ,\n",
              "          677.0259 ,  1115.385  ,  1189.5717 ,  1271.2668 ,  1346.1504 ,\n",
              "         1542.2836 ,  1733.9485 ,  1682.9543 ,   752.3533 ,   595.03955,\n",
              "          437.72208,   513.53625,   500.74948,   204.01155,   442.03418,\n",
              "          466.1035 ,   571.0015 ,   299.67596,   249.3947 ,   311.56   ,\n",
              "          212.9296 ,   218.82634,   249.8796 ,   589.04987,   533.78754,\n",
              "          496.48776,   420.19678,   395.54153,   401.00513,   231.2341 ,\n",
              "          174.88431,   185.45895,   194.67609,   334.57733,   251.40106,\n",
              "          258.2382 ,   212.57231,   500.9962 ,   575.14984,   625.2474 ,\n",
              "          575.6455 ,   712.66724,   876.7422 ,  1014.26086,  1230.7231 ,\n",
              "          989.2665 ,   400.82092,   167.96028,   573.5107 ,   592.32654,\n",
              "          471.23007,   722.133  ,   735.21606,   765.1503 ,   731.7285 ,\n",
              "          711.0998 ,   840.6257 ,   625.09705,   403.4884 ,   319.59555,\n",
              "          300.41937,   308.61096,   225.04707,   269.8324 ,   469.58582,\n",
              "          552.5805 ,   772.6837 ,   473.18353,   307.78937,   289.07123,\n",
              "          277.85123,   201.61249,   218.01968,   137.4458 ,   273.42648,\n",
              "          469.45847,   622.65063,   731.428  ,   798.45416,   978.1012 ,\n",
              "         1087.0638 ,   946.292  ,   789.2873 ,   453.31058,   410.8688 ,\n",
              "          228.91042,   391.6029 ,   881.9805 ,  1143.2836 ,  1424.2788 ,\n",
              "         1637.0676 ,  1694.1555 ,  1583.0189 ,  1612.2914 ,   655.3754 ,\n",
              "          374.94464,   459.20068,   560.3291 ,   740.2216 ,   804.9718 ,\n",
              "          304.44977,   551.45325,   971.9087 ,  1233.315  ,  1158.3671 ,\n",
              "         1251.0262 ,  1550.2899 ,  1538.9453 ,  1478.1488 ,   647.7716 ,\n",
              "          495.24643,   820.6669 ,   663.2025 ,  1122.6881 ,  1427.6478 ,\n",
              "         1385.4028 ,  1188.4272 ,  1376.5796 ,  1788.6244 ,  2310.8967 ,\n",
              "         1935.9017 ,  1321.1896 ,   935.56995,   726.2628 ,   877.221  ,\n",
              "          910.6459 ,  1039.9968 ,  1043.9119 ,  1038.8953 ,   885.95685,\n",
              "         1323.5983 ,  1988.8063 ,  1846.5619 ,  1572.3116 ,   387.218  ,\n",
              "          455.71265,   449.90503,   395.35428,   440.71783,   490.47702,\n",
              "          457.09787,   403.74332,   698.7118 ,  1611.6807 ,  2710.734  ,\n",
              "         3566.5623 ,  3799.2751 ,  3964.4138 ,  3902.1646 ,  4043.5664 ,\n",
              "         2830.2903 ,  1396.9214 ,  1147.3624 ,  1239.9592 ,  1695.468  ,\n",
              "         2460.1433 ,  2811.0898 ,  3599.6934 ,  3873.033  ,  3635.8408 ,\n",
              "         3071.1445 ,  3421.2676 ,  3547.0552 ,  4208.3867 ,  4136.9253 ,\n",
              "         5156.064  ,  6167.6084 ,  5214.1074 ,  4833.943  ,  5757.156  ,\n",
              "         4162.394  ,  3295.872  ,  3085.1555 ,  4803.015  ,  5483.7666 ,\n",
              "         4556.427  ,   972.8433 ,  2063.3281 ,  1399.5023 ,  3776.2869 ,\n",
              "         3586.4006 ,  3622.2498 ,  3394.0276 ,  3180.1472 ,  3751.5408 ,\n",
              "         2898.995  ,  1727.2626 ,  1628.2637 ,  1907.7295 ,  1904.6672 ,\n",
              "         1995.6528 ,  3200.776  ,  4918.8213 ,  4247.229  ,  2605.413  ,\n",
              "         3139.8906 ,  4138.895  ,  6549.7886 ,  7288.843  ,  6998.0586 ,\n",
              "         7816.3047 ,  8402.376  ,  7698.829  ,  9504.221  ,  4954.316  ,\n",
              "         2049.926  ,  3285.7131 ,  2164.0864 ,  3187.5354 ,  4351.68   ,\n",
              "         4513.746  ,  4436.3193 ,  4785.9707 ,  3307.9475 ,  4250.9507 ,\n",
              "         7188.0503 ,  8002.227  , 10328.917  ,  8949.756  ,  3635.027  ,\n",
              "         2272.1228 ,  1752.8757 ,  2953.0054 ,  3877.2837 ,  5138.266  ,\n",
              "         3575.4067 ,  4537.57   ,  3909.6436 ,  5165.2812 ,  6407.625  ,\n",
              "         7843.382  ,  7940.5376 ,  7618.476  ,  6077.043  ,  3992.448  ,\n",
              "         3540.9624 ,  3615.9502 ,  1282.7233 ,  1234.9558 ,  1838.4053 ,\n",
              "         2291.6577 ,  2760.36   ,  3443.476  ,  4043.4495 ,  4442.8325 ,\n",
              "         3512.3875 ,  1985.6537 ,  2322.3547 ,  4797.2686 ,  5914.823  ,\n",
              "         5226.5674 ,  3143.525  ,  4094.542  ,  3170.091  ,  2023.3671 ,\n",
              "         1556.9874 ,  1200.4476 ,  1194.2589 ,  1884.2572 ,  2296.2283 ,\n",
              "         2126.1262 ,  3412.4163 ,  5779.5957 ,  6312.6104 ,  5867.318  ,\n",
              "         4653.396  ,  3786.7664 ,  3652.6184 ,  3737.396  ,  4726.959  ,\n",
              "         6272.9546 ,  6702.714  ,  5712.7617 ,  4201.9297 ,  3261.5051 ,\n",
              "         3230.1484 ,  2358.7979 ,  2483.3796 ,  4835.3477 ,  6001.483  ,\n",
              "         7743.2983 ,  5179.547  ,  2911.9622 ,  2933.9866 ,  4194.464  ,\n",
              "         2347.1604 ,  2034.9246 ,  2638.765  ,  1912.9819 ,  4992.8433 ,\n",
              "         3329.991  ,  3264.9873 ,  3716.4092 ,  5296.057  ,  6296.732  ,\n",
              "         7243.0415 ], dtype=float32),\n",
              " 'mape': array([ 3.4930885,  1.9495275,  2.670469 ,  2.7313178,  3.1930335,\n",
              "         3.7315135,  3.132134 ,  2.993675 ,  4.3564534,  5.532097 ,\n",
              "         7.583401 ,  8.158391 ,  8.893735 ,  8.716993 ,  3.6110017,\n",
              "         3.359566 ,  4.6619883,  7.7735343,  7.276289 ,  7.3952594,\n",
              "         2.8926744,  3.0486822,  2.1666503,  1.9247117,  2.482685 ,\n",
              "         4.007187 ,  4.891889 ,  5.3037024,  4.5041637,  2.3136306,\n",
              "         1.6075518,  1.3082995,  1.9530538,  3.0641859,  3.6588197,\n",
              "         3.8444977,  2.528425 ,  3.395586 ,  3.974992 ,  6.5199895,\n",
              "        11.2198105,  4.468096 ,  3.8041883,  3.4408252,  1.8622057,\n",
              "         3.0123487,  3.0789695,  3.422057 ,  3.4059134,  3.6437993,\n",
              "         3.7206378,  3.2627244,  1.9665167,  3.7192345,  5.590867 ,\n",
              "         7.2295785, 11.414055 ,  9.811175 ,  9.321725 ,  9.950525 ,\n",
              "         7.6704526,  4.939316 ,  4.629431 ,  8.137486 ,  8.081694 ,\n",
              "         8.502563 ,  9.0571785,  9.270514 ,  3.6483002,  1.7973734,\n",
              "         1.7796526,  3.0760672,  3.1351256,  2.3244128,  2.3846774,\n",
              "         2.994978 ,  3.0522943,  5.919483 ,  7.9555974, 10.903493 ,\n",
              "        11.483524 ,  8.428715 ,  5.141998 ,  3.1288714,  2.1222818,\n",
              "         2.5978441,  3.5161428,  5.3869042,  7.1524396,  9.783593 ,\n",
              "         8.111222 ,  7.1189036,  6.0862937,  4.7041383,  2.4653518,\n",
              "         3.5655427,  3.2742164,  3.3516097,  3.7104197,  4.2104836,\n",
              "         1.9940937,  1.6643956,  4.332465 ,  1.126825 ,  2.6522727,\n",
              "         4.185287 ,  5.0875483,  5.9281325,  8.74018  ,  7.192951 ,\n",
              "         6.1237392,  1.2832725,  3.3185728,  3.8069003,  5.5861516,\n",
              "         6.562794 ,  5.067288 ,  6.3930535,  7.011583 , 14.407396 ,\n",
              "        22.189491 , 30.033705 , 28.94341  , 33.217888 , 35.462776 ,\n",
              "        39.707355 , 14.006242 ,  9.126109 ,  9.354399 ,  8.704648 ,\n",
              "        10.894215 ,  9.831927 ,  9.112195 ,  3.90506  ,  3.0296278,\n",
              "         4.0243406,  7.4254384,  6.2598863,  4.729207 ,  4.5391617,\n",
              "         4.0472484,  5.081166 , 10.007586 , 16.187176 , 12.739261 ,\n",
              "        10.425768 ,  9.706398 ,  4.0189595,  4.6480837,  3.457443 ,\n",
              "         6.475877 ,  3.7418272,  2.9186347,  4.970402 ,  4.5580225,\n",
              "         2.2099185,  5.08819  ,  4.3943906,  4.84914  ,  5.0501394,\n",
              "         7.079505 ,  4.1033955,  4.4465003,  3.7160642,  3.4086387,\n",
              "         8.452839 , 11.2443075, 11.960123 ,  8.330783 ,  9.880013 ,\n",
              "        11.475172 , 13.017729 , 14.407976 , 15.264891 ,  7.106895 ,\n",
              "         5.0929546,  5.159096 ,  4.151276 ,  5.294012 ,  5.7359934,\n",
              "         5.715561 ,  5.8822145,  6.5830154,  9.425732 ,  7.299046 ,\n",
              "         3.0057003,  8.953999 , 10.044221 ,  5.066416 ,  1.6012173,\n",
              "         2.603906 ,  2.720312 ,  2.696314 ,  3.2320373,  4.5689116,\n",
              "         3.4760888,  2.395458 ,  2.6641798,  3.4283507,  4.8601174,\n",
              "         8.491898 , 11.576404 , 10.653343 ,  6.5661364,  5.014507 ,\n",
              "         2.1655009,  3.864222 ,  1.5924332,  2.7155004,  3.701624 ,\n",
              "         2.8816807,  3.7360687,  3.070741 ,  2.3375466,  2.1111536,\n",
              "         1.5549836,  1.6242154,  2.815123 ,  2.0089257,  2.2921224,\n",
              "         2.6382885,  2.2103417,  2.4606426,  2.1873994,  2.987378 ,\n",
              "         3.828473 ,  3.584871 ,  2.9069293,  2.0302598,  2.6774094,\n",
              "         1.6627046,  1.0665965,  3.324372 ,  4.4257636,  4.106536 ,\n",
              "         3.5873208,  2.8291333,  2.7775693,  3.7236001,  4.2442203,\n",
              "         4.485083 ,  5.753102 ,  3.1870651,  3.2542233,  1.061886 ,\n",
              "         1.8356377,  2.601861 ,  3.3095584,  2.8394957,  2.567995 ,\n",
              "         2.490419 ,  3.05984  ,  4.3611784,  5.10176  ,  6.0296416,\n",
              "         6.698232 ,  9.499903 ,  9.59825  , 10.02812  , 10.819362 ,\n",
              "        12.974976 , 14.775968 , 14.753334 ,  6.43843  ,  4.903845 ,\n",
              "         2.9531195,  3.6138318,  3.5207577,  1.6873015,  3.5434225,\n",
              "         3.7064254,  4.641496 ,  2.0574796,  1.5668552,  2.0751152,\n",
              "         1.6630238,  1.5112243,  1.031201 ,  4.580272 ,  4.210959 ,\n",
              "         3.842395 ,  2.944028 ,  2.397124 ,  2.5104213,  1.6353627,\n",
              "         1.2027788,  1.2628515,  1.583772 ,  2.304242 ,  1.6872648,\n",
              "         1.8040776,  1.471159 ,  3.8772635,  4.7045016,  5.140887 ,\n",
              "         4.7314343,  6.0461936,  7.4220753,  8.755801 , 10.818369 ,\n",
              "         9.185863 ,  3.561481 ,  1.4746592,  5.3582726,  5.5169096,\n",
              "         4.296289 ,  6.598511 ,  6.4577603,  6.721971 ,  6.621296 ,\n",
              "         6.322838 ,  7.6293902,  5.4030437,  2.930886 ,  2.786343 ,\n",
              "         2.5304024,  2.4547944,  1.7930286,  2.252264 ,  4.0807886,\n",
              "         4.913035 ,  7.1560564,  4.328841 ,  2.586658 ,  2.1138148,\n",
              "         2.054162 ,  1.6423842,  1.6492863,  1.2020819,  2.292554 ,\n",
              "         3.9716449,  5.1346574,  5.9285617,  6.2830844,  8.2115   ,\n",
              "         9.389192 ,  8.199408 ,  6.8167143,  3.6811259,  3.0668647,\n",
              "         1.6994679,  2.6521008,  5.339258 ,  6.856548 ,  9.620595 ,\n",
              "        11.751144 , 12.459552 , 11.899446 , 12.039628 ,  4.5163684,\n",
              "         2.3051152,  3.1941764,  3.5502572,  5.1870823,  5.7343764,\n",
              "         1.9063005,  3.6173482,  5.128486 ,  6.420035 ,  5.993328 ,\n",
              "         7.1165857,  9.544868 ,  9.71036  ,  9.341531 ,  3.1491015,\n",
              "         2.4708838,  4.761079 ,  3.7094076,  6.565666 ,  7.7571044,\n",
              "         6.896677 ,  5.3808746,  6.2797136,  8.853514 , 12.374608 ,\n",
              "        10.445757 ,  6.942178 ,  4.820089 ,  3.7042816,  3.5319846,\n",
              "         4.006931 ,  4.616349 ,  5.3248005,  5.0419455,  4.2953076,\n",
              "         5.9224973, 10.206787 ,  9.5210705,  8.110281 ,  1.7733414,\n",
              "         1.7158111,  1.844351 ,  1.692099 ,  2.1399434,  2.3185194,\n",
              "         2.1132724,  1.9038713,  2.914126 ,  6.1896367, 10.302902 ,\n",
              "        14.483194 , 14.845448 , 15.863855 , 16.243502 , 17.317833 ,\n",
              "        12.056765 ,  5.6313915,  3.9000173,  2.9408298,  4.1746964,\n",
              "         7.8327656,  9.340039 , 12.2264   , 13.223333 , 12.366804 ,\n",
              "         8.610531 ,  9.065936 , 10.071835 , 12.072892 , 10.686302 ,\n",
              "        12.043952 , 14.553654 , 11.402587 , 10.949995 , 13.805708 ,\n",
              "         8.633796 ,  7.7777205,  6.8517947, 11.754168 , 14.379041 ,\n",
              "        12.402419 ,  2.2674153,  4.508417 ,  3.335319 ,  9.196166 ,\n",
              "         8.278469 ,  8.675328 ,  8.83577  ,  8.727067 , 10.837971 ,\n",
              "         8.793914 ,  4.5681825,  3.4837763,  4.542873 ,  5.079335 ,\n",
              "         5.325017 ,  8.495472 , 13.41589  , 11.112862 ,  6.1318893,\n",
              "         6.642192 , 10.259562 , 15.091146 , 15.099139 , 13.855823 ,\n",
              "        15.6862545, 16.860512 , 15.220539 , 20.00108  , 10.200696 ,\n",
              "         3.7966602,  6.098711 ,  3.0628507,  4.0915976,  6.913457 ,\n",
              "         6.5083146,  7.3049674,  8.087197 ,  5.579477 ,  7.782071 ,\n",
              "        12.196271 , 15.029733 , 20.656391 , 18.43415  ,  6.7218194,\n",
              "         4.0015173,  2.9650753,  5.320492 ,  6.9808416, 10.13072  ,\n",
              "         6.5163097,  7.8846087,  5.133066 ,  7.8898735, 10.6      ,\n",
              "        12.757957 , 12.916778 , 12.864409 , 10.242085 ,  6.2729573,\n",
              "         5.340149 ,  5.4428453,  1.7204295,  2.0051928,  3.0045373,\n",
              "         3.738331 ,  4.1041207,  5.552233 ,  6.459762 ,  7.09319  ,\n",
              "         5.747039 ,  2.9500413,  3.1230717,  7.6461368, 10.005836 ,\n",
              "         8.738806 ,  5.2479353,  6.878675 ,  5.2064962,  3.2444842,\n",
              "         2.2636652,  1.723079 ,  1.8947939,  2.8094416,  3.3377647,\n",
              "         2.9278421,  4.458132 ,  8.845421 ,  9.657369 ,  9.186361 ,\n",
              "         7.243061 ,  5.6694503,  5.433435 ,  5.5719295,  7.229507 ,\n",
              "         9.823084 , 11.054529 ,  9.754449 ,  6.777321 ,  5.445813 ,\n",
              "         4.9295416,  3.8785048,  4.044215 ,  7.857766 ,  9.673728 ,\n",
              "        13.646856 ,  9.049944 ,  4.5629363,  4.5594454,  6.7677746,\n",
              "         3.984617 ,  3.1748562,  3.9999895,  2.9687996,  8.568903 ,\n",
              "         5.5119896,  5.39472  ,  6.0781894,  8.352976 , 10.737098 ,\n",
              "        13.646795 ], dtype=float32),\n",
              " 'mase': 2.4588985}"
            ]
          },
          "metadata": {},
          "execution_count": 55
        }
      ]
    },
    {
      "cell_type": "code",
      "source": [],
      "metadata": {
        "id": "Lt4EaGEMGUFZ"
      },
      "execution_count": null,
      "outputs": []
    }
  ]
}