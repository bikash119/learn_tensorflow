{
  "nbformat": 4,
  "nbformat_minor": 0,
  "metadata": {
    "colab": {
      "provenance": [],
      "authorship_tag": "ABX9TyO2Ma664HZ2oTpeLE5lLPZY",
      "include_colab_link": true
    },
    "kernelspec": {
      "name": "python3",
      "display_name": "Python 3"
    },
    "language_info": {
      "name": "python"
    }
  },
  "cells": [
    {
      "cell_type": "markdown",
      "metadata": {
        "id": "view-in-github",
        "colab_type": "text"
      },
      "source": [
        "<a href=\"https://colab.research.google.com/github/bikash119/learn_tensorflow/blob/main/timeseries_tf_new.ipynb\" target=\"_parent\"><img src=\"https://colab.research.google.com/assets/colab-badge.svg\" alt=\"Open In Colab\"/></a>"
      ]
    },
    {
      "cell_type": "markdown",
      "source": [
        "# Learn windowing"
      ],
      "metadata": {
        "id": "940RkLqalTPZ"
      }
    },
    {
      "cell_type": "markdown",
      "source": [
        "## Simple Dataset"
      ],
      "metadata": {
        "id": "hQRhsj0Ul8kx"
      }
    },
    {
      "cell_type": "code",
      "source": [
        "import tensorflow as tf"
      ],
      "metadata": {
        "id": "R1eHfinNmQoz"
      },
      "execution_count": 1,
      "outputs": []
    },
    {
      "cell_type": "code",
      "source": [
        "dataset= tf.data.Dataset.range(10)\n",
        "for val in dataset:\n",
        "  print(val.numpy(),end=\" \")"
      ],
      "metadata": {
        "colab": {
          "base_uri": "https://localhost:8080/"
        },
        "id": "XiD1Ml4dmYH-",
        "outputId": "3eda8963-2615-42c7-c2b7-9ff67f40db91"
      },
      "execution_count": 2,
      "outputs": [
        {
          "output_type": "stream",
          "name": "stdout",
          "text": [
            "0 1 2 3 4 5 6 7 8 9 "
          ]
        }
      ]
    },
    {
      "cell_type": "code",
      "source": [
        "window=dataset.window(5,shift=1,drop_remainder=True)\n",
        "for val in window:\n",
        "  print([item.numpy() for item in val])"
      ],
      "metadata": {
        "colab": {
          "base_uri": "https://localhost:8080/"
        },
        "id": "N2-b7cBPmqc5",
        "outputId": "397dab4b-0fa5-4ea4-d5b8-644f430c129c"
      },
      "execution_count": 4,
      "outputs": [
        {
          "output_type": "stream",
          "name": "stdout",
          "text": [
            "[0, 1, 2, 3, 4]\n",
            "[1, 2, 3, 4, 5]\n",
            "[2, 3, 4, 5, 6]\n",
            "[3, 4, 5, 6, 7]\n",
            "[4, 5, 6, 7, 8]\n",
            "[5, 6, 7, 8, 9]\n"
          ]
        }
      ]
    },
    {
      "cell_type": "code",
      "source": [
        "flat_dataset= window.flat_map(lambda dataset:dataset.batch(5))\n",
        "for item in flat_dataset:\n",
        "  print(item.numpy())"
      ],
      "metadata": {
        "colab": {
          "base_uri": "https://localhost:8080/"
        },
        "id": "Q-_jeOd-nGwD",
        "outputId": "5fbb7ff1-0119-41a4-e18a-7c7bb813da44"
      },
      "execution_count": 6,
      "outputs": [
        {
          "output_type": "stream",
          "name": "stdout",
          "text": [
            "[0 1 2 3 4]\n",
            "[1 2 3 4 5]\n",
            "[2 3 4 5 6]\n",
            "[3 4 5 6 7]\n",
            "[4 5 6 7 8]\n",
            "[5 6 7 8 9]\n"
          ]
        }
      ]
    },
    {
      "cell_type": "code",
      "source": [
        "features_labels = flat_dataset.map(lambda col: (col[:-1],col[-1]))\n",
        "for x,y in features_labels:\n",
        ""
      ],
      "metadata": {
        "colab": {
          "base_uri": "https://localhost:8080/"
        },
        "id": "xqdE1GUVoHQ7",
        "outputId": "7cf7de6e-aefd-43c3-bcb6-819354c11ac9"
      },
      "execution_count": 21,
      "outputs": [
        {
          "output_type": "execute_result",
          "data": {
            "text/plain": [
              "[(array([0, 1, 2, 3]), 4),\n",
              " (array([1, 2, 3, 4]), 5),\n",
              " (array([2, 3, 4, 5]), 6),\n",
              " (array([3, 4, 5, 6]), 7),\n",
              " (array([4, 5, 6, 7]), 8),\n",
              " (array([5, 6, 7, 8]), 9)]"
            ]
          },
          "metadata": {},
          "execution_count": 21
        }
      ]
    },
    {
      "cell_type": "code",
      "source": [],
      "metadata": {
        "id": "D9uxJkOk0n0G"
      },
      "execution_count": null,
      "outputs": []
    }
  ]
}